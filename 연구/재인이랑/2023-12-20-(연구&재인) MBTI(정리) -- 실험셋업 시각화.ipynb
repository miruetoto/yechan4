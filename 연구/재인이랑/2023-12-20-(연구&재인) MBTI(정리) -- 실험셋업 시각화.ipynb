{
 "cells": [
  {
   "cell_type": "raw",
   "id": "770777c4-d162-4b71-9a64-8367a7de0a5e",
   "metadata": {},
   "source": [
    "---\n",
    "title: \"(연구&재인) MBTI(정리) -- 실험셋업 시각화\"\n",
    "author: \"신록예찬\"\n",
    "date: \"12/20/2023\"\n",
    "---"
   ]
  },
  {
   "cell_type": "markdown",
   "id": "edba59b7-939d-4358-b473-99c5297289d5",
   "metadata": {
    "tags": []
   },
   "source": [
    "# 1. Imports "
   ]
  },
  {
   "cell_type": "code",
   "execution_count": 67,
   "id": "ff8a9869-691d-47a3-bbca-ab567d24315d",
   "metadata": {
    "tags": []
   },
   "outputs": [],
   "source": [
    "import pandas as pd\n",
    "import time\n",
    "import pickle\n",
    "import warnings\n",
    "warnings.filterwarnings('ignore')"
   ]
  },
  {
   "cell_type": "code",
   "execution_count": 68,
   "id": "8ef7d89a-4bd2-42b0-abb2-a49338d289df",
   "metadata": {
    "tags": []
   },
   "outputs": [],
   "source": [
    "import plotly.express as px\n",
    "import plotly.io as pio\n",
    "from plotly.subplots import make_subplots\n",
    "pd.options.plotting.backend = \"plotly\"\n",
    "pio.templates.default = \"plotly_white\""
   ]
  },
  {
   "cell_type": "markdown",
   "id": "f8366992-98f1-4335-bafe-b6f42cbd9b83",
   "metadata": {},
   "source": [
    "# 2. Data "
   ]
  },
  {
   "cell_type": "code",
   "execution_count": 69,
   "id": "376a6a8d-22a0-4d6c-8c79-1f48b97ccd5d",
   "metadata": {
    "tags": []
   },
   "outputs": [
    {
     "name": "stdout",
     "output_type": "stream",
     "text": [
      "df_gpt.csv\t\t     tidydata_실험3시나리오0.csv\n",
      "df_kaggle.csv\t\t     tidydata_실험3시나리오1.csv\n",
      "tidydata_실험1시나리오1.csv  tidydata_실험3시나리오2.csv\n",
      "tidydata_실험1시나리오2.csv  tidydata_실험3시나리오3.csv\n",
      "tidydata_실험2시나리오0.csv  tidydata_실험3시나리오4.csv\n",
      "tidydata_실험2시나리오1.csv  tidydata_실험3시나리오5.csv\n",
      "tidydata_실험2시나리오2.csv  tidydata_실험3시나리오6.csv\n",
      "tidydata_실험2시나리오3.csv  tidydata_실험3시나리오7.csv\n",
      "tidydata_실험2시나리오4.csv\n"
     ]
    }
   ],
   "source": [
    "!ls '정리된자료(csv)'"
   ]
  },
  {
   "cell_type": "code",
   "execution_count": 70,
   "id": "16f8cefc-74f2-4c77-840c-af551a971472",
   "metadata": {
    "tags": []
   },
   "outputs": [],
   "source": [
    "df_kaggle = pd.read_csv(\"정리된자료(csv)/df_kaggle.csv\")\n",
    "df_gpt = pd.read_csv(\"정리된자료(csv)/df_gpt.csv\")"
   ]
  },
  {
   "cell_type": "markdown",
   "id": "f62c3d1a-246c-441e-a769-4c427c996d97",
   "metadata": {},
   "source": [
    "# 3. 실험1의 계획 시각화 "
   ]
  },
  {
   "cell_type": "markdown",
   "id": "e180c77a-3b5a-460b-8088-5a0ba73e4d2b",
   "metadata": {},
   "source": [
    "`-` kaggle 데이터만 "
   ]
  },
  {
   "cell_type": "code",
   "execution_count": 71,
   "id": "5391c9ad-381f-418f-9329-c18c759662b3",
   "metadata": {
    "tags": []
   },
   "outputs": [],
   "source": [
    "fig = df_kaggle.type.value_counts().reset_index()\\\n",
    ".plot.bar(\n",
    "    x='type',y='count',\n",
    "    text='count',\n",
    "    title=\"\",\n",
    "    width=900,\n",
    "    height=400\n",
    ")\n",
    "fig.layout['xaxis']['title']['text'] = ''\n",
    "fig.layout['yaxis']['title']['text'] = ''\n",
    "with open('Figures/원래자료.pkl','wb') as f:\n",
    "    pickle.dump(fig,f)"
   ]
  },
  {
   "cell_type": "markdown",
   "id": "ed889402-7391-4ce5-9f21-f0f7ffdd2684",
   "metadata": {},
   "source": [
    "`-` kaggle 데이터 + count<100 하이라이팅 "
   ]
  },
  {
   "cell_type": "code",
   "execution_count": 72,
   "id": "994a8780-b2fe-4d56-b8ad-77f1ef87f180",
   "metadata": {
    "tags": []
   },
   "outputs": [],
   "source": [
    "fig = df_kaggle.type.value_counts().reset_index().eval('gen = count<100').rename({'gen':'Count<100'},axis=1)\\\n",
    ".plot.bar(\n",
    "    x='type',y='count',\n",
    "    text='count',\n",
    "    color='Count<100',\n",
    "    opacity=1.0,\n",
    "    width=900,\n",
    "    height=400    \n",
    ")\n",
    "fig['data'][1]['marker']['color']='#636efa'\n",
    "fig['data'][0]['marker']['opacity']=0.2\n",
    "fig['data'][0]['showlegend'] = False\n",
    "fig['data'][1]['showlegend'] = False\n",
    "fig.layout['xaxis']['title']['text'] = ''\n",
    "fig.layout['yaxis']['title']['text'] = ''\n",
    "with open('Figures/실험셋업시각화_실험1실험계획.pkl','wb') as f:\n",
    "    pickle.dump(fig,f)"
   ]
  },
  {
   "cell_type": "markdown",
   "id": "b2cf24d6-1037-44ef-b14c-96bf07e2c371",
   "metadata": {},
   "source": [
    "# 4. 실험1의 셋팅들 시각화 "
   ]
  },
  {
   "cell_type": "code",
   "execution_count": 73,
   "id": "9ffb41f9-8aa4-448d-b3e3-3c52e032c307",
   "metadata": {
    "tags": []
   },
   "outputs": [],
   "source": [
    "tidydata = pd.read_csv(\"정리된자료(csv)/tidydata_실험1시나리오1.csv\")\n",
    "fig = px.bar(\n",
    "    tidydata,\n",
    "    x='type',\n",
    "    y='count',\n",
    "    text='count',\n",
    "    pattern_shape='DataType',\n",
    "    barmode='group',\n",
    "    width=900,\n",
    "    height=400        \n",
    ")\n",
    "fig.layout['xaxis']['title']['text'] = ''\n",
    "fig.layout['yaxis']['title']['text'] = ''\n",
    "with open('Figures/실험셋업시각화_실험1시나리오1.pkl','wb') as f:\n",
    "    pickle.dump(fig,f)"
   ]
  },
  {
   "cell_type": "code",
   "execution_count": 74,
   "id": "5400f42e-491a-4386-a335-907f0cece608",
   "metadata": {
    "tags": []
   },
   "outputs": [],
   "source": [
    "tidydata = pd.read_csv(\"정리된자료(csv)/tidydata_실험1시나리오2.csv\")\n",
    "fig = px.bar(\n",
    "    tidydata,\n",
    "    x='type',\n",
    "    y='count',\n",
    "    color=tidydata['col'],\n",
    "    text='count',\n",
    "    pattern_shape='DataType',\n",
    "    barmode='group',\n",
    "    hover_data='Source',\n",
    "    width=900,\n",
    "    height=400    \n",
    ")\n",
    "fig['data'][0]['marker']['color'] = ['#636efa']*16 + ['#EF553B']*4 \n",
    "fig['data'][1]['marker']['color'] = ['#636efa']*20\n",
    "fig['data'][0]['hovertemplate']='Type=%{x}<br>Count=%{text}<br>DataType=Train<br>Source=%{customdata[0]}<br><extra></extra>'\n",
    "fig['data'][1]['hovertemplate']='Type=%{x}<br>Count=%{text}<br>DataType=Train<br>Source=%{customdata[0]}<br><extra></extra>'\n",
    "fig.layout['xaxis']['title']['text'] = ''\n",
    "fig.layout['yaxis']['title']['text'] = ''\n",
    "with open('Figures/실험셋업시각화_실험1시나리오2.pkl','wb') as f:\n",
    "    pickle.dump(fig,f)"
   ]
  },
  {
   "cell_type": "markdown",
   "id": "2a12d465-c39e-41ff-b708-3e551f4438ac",
   "metadata": {},
   "source": [
    "# 5. 실험2의 셋팅들 시각화 "
   ]
  },
  {
   "cell_type": "code",
   "execution_count": 75,
   "id": "fe764910-cfcd-4be6-875c-0ab1396f12d1",
   "metadata": {
    "tags": []
   },
   "outputs": [],
   "source": [
    "df0 = pd.read_csv(\"정리된자료(csv)/tidydata_실험2시나리오0.csv\").query('Setting != \"Real+Synthetic\"').assign(시나리오 = '0')[:2]\n",
    "df1 = pd.read_csv(\"정리된자료(csv)/tidydata_실험2시나리오1.csv\").query('Setting != \"Real+Synthetic\"').assign(시나리오 = '1')\n",
    "df2 = pd.read_csv(\"정리된자료(csv)/tidydata_실험2시나리오2.csv\").query('Setting != \"Real+Synthetic\"').assign(시나리오 = '2')\n",
    "df3 = pd.read_csv(\"정리된자료(csv)/tidydata_실험2시나리오3.csv\").query('Setting != \"Real+Synthetic\"').assign(시나리오 = '3')\n",
    "tidydata = pd.concat([df0,df1,df2,df3]).reset_index(drop=True).assign(text = lambda df: [f'{c} ({s})' for s,c in zip(df.Source,df['count'].astype(str))])\n",
    "fig = px.bar(\n",
    "    tidydata,\n",
    "    y='type',\n",
    "    x='count',\n",
    "    color='col',\n",
    "    pattern_shape='DataType',\n",
    "    category_orders={'DataType':{'Train','Test'}},\n",
    "    barmode='group',\n",
    "    hover_data='Source',\n",
    "    text='text',\n",
    "    facet_col='Setting',\n",
    "    facet_row='시나리오',\n",
    "    width=900,\n",
    "    height=400\n",
    ")\n",
    "for i in range(len(fig['data'])):\n",
    "    fig['data'][i]['marker']['color'] = list(pd.Series(fig['data'][i]['marker']['color']).map({0:'#636efa',1:'#EF553B'}))\n",
    "    fig['data'][i]['hovertemplate']='Type=%{x}<br>Count=%{text}<br>DataType=Train<br>Source=%{customdata[0]}<br><extra></extra>'\n",
    "    if fig['data'][i]['marker']['pattern']['shape'] == '/':\n",
    "        fig['data'][i]['marker']['pattern']['shape'] = ''\n",
    "    else:\n",
    "        fig['data'][i]['marker']['pattern']['shape'] = '/'\n",
    "fig.layout['legend']['title']['text']=''\n",
    "fig.layout['annotations'][0]['text'] = \"\"\n",
    "fig.layout['annotations'][1]['text'] = \"\"\n",
    "for ann in fig['layout']['annotations']:\n",
    "    ann['text'] =''\n",
    "fig.layout['xaxis']['title']['text']=''\n",
    "fig.layout['xaxis2']['title']['text']=''\n",
    "fig.layout['yaxis']['title']['text']=''\n",
    "fig.layout['yaxis3']['title']['text']=''\n",
    "fig.layout['yaxis5']['title']['text']=''\n",
    "fig.layout['yaxis7']['title']['text']=''\n",
    "fig.layout['xaxis']['title']['text'] = ''\n",
    "fig.layout['yaxis']['title']['text'] = ''\n",
    "with open('Figures/실험셋업시각화_실험2시나리오0-3.pkl','wb') as f:\n",
    "    pickle.dump(fig,f)"
   ]
  },
  {
   "cell_type": "markdown",
   "id": "772eabfa-69bc-4d72-aa87-d6d2f0e993c0",
   "metadata": {},
   "source": [
    "# 5. 실험3의 셋팅들 시각화 "
   ]
  },
  {
   "cell_type": "code",
   "execution_count": 76,
   "id": "6e30691e-49cd-4d4f-8d6d-81569ac7eb77",
   "metadata": {
    "tags": []
   },
   "outputs": [],
   "source": [
    "df0 = pd.read_csv(\"정리된자료(csv)/tidydata_실험3시나리오0.csv\").query('Setting != \"Real+Synthetic\"').assign(시나리오 = '0')\n",
    "df1 = pd.read_csv(\"정리된자료(csv)/tidydata_실험3시나리오1.csv\").query('Setting != \"Real+Synthetic\"').assign(시나리오 = '1')\n",
    "df2 = pd.read_csv(\"정리된자료(csv)/tidydata_실험3시나리오2.csv\").query('Setting != \"Real+Synthetic\"').assign(시나리오 = '2')\n",
    "df3 = pd.read_csv(\"정리된자료(csv)/tidydata_실험3시나리오3.csv\").query('Setting != \"Real+Synthetic\"').assign(시나리오 = '3')\n",
    "df4 = pd.read_csv(\"정리된자료(csv)/tidydata_실험3시나리오4.csv\").query('Setting != \"Real+Synthetic\"').assign(시나리오 = '4')\n",
    "df5 = pd.read_csv(\"정리된자료(csv)/tidydata_실험3시나리오5.csv\").query('Setting != \"Real+Synthetic\"').assign(시나리오 = '5')\n",
    "df6 = pd.read_csv(\"정리된자료(csv)/tidydata_실험3시나리오6.csv\").query('Setting != \"Real+Synthetic\"').assign(시나리오 = '6')\n",
    "df7 = pd.read_csv(\"정리된자료(csv)/tidydata_실험3시나리오7.csv\").query('Setting != \"Real+Synthetic\"').assign(시나리오 = '7')\n",
    "tidydata = pd.concat([df0,df1,df2,df3,df4,df5,df6,df7]).reset_index(drop=True).assign(text = lambda df: [f'{c} ({s})' for s,c in zip(df.Source,df['count'].astype(str))])"
   ]
  },
  {
   "cell_type": "code",
   "execution_count": 77,
   "id": "acb6a08c-a8c9-4cb9-a1a8-f7da530e5156",
   "metadata": {
    "tags": []
   },
   "outputs": [],
   "source": [
    "# fig = px.bar(\n",
    "#     tidydata.query(\"시나리오 =='0'\"),\n",
    "#     x='type',\n",
    "#     y='count',\n",
    "#     color='col',\n",
    "#     pattern_shape='DataType',\n",
    "#     barmode='group',\n",
    "#     hover_data='Source',\n",
    "#     facet_col='Setting',\n",
    "#     width=900,\n",
    "#     height=400    \n",
    "# )\n",
    "# for geom in fig['data']:\n",
    "#     geom['marker']['color'] = list(pd.Series(geom['marker']['color']).map({0:'#636efa',1:'#636efa'}))       \n",
    "# fig.layout['legend']['title']['text']=''\n",
    "# fig.layout['annotations'][0]['text'] = \"\"\n",
    "# for ann in fig['layout']['annotations']:\n",
    "#     ann['text'] =''\n",
    "# with open('Figures/실험셋업시각화_실험3시나리오0.pkl','wb') as f:\n",
    "#     pickle.dump(fig,f)\n",
    "# fig.write_image('Figures/실험셋업시각화_실험3시나리오0.svg')\n",
    "# fig"
   ]
  },
  {
   "cell_type": "code",
   "execution_count": 78,
   "id": "e2967a55-6209-4ead-b99b-d781c82626a8",
   "metadata": {
    "tags": []
   },
   "outputs": [],
   "source": [
    "for i in '1234567': \n",
    "    fig = px.bar(\n",
    "        tidydata.query(f\"시나리오 =='{i}'\"),\n",
    "        x='type',\n",
    "        y='count',\n",
    "        color='col',\n",
    "        pattern_shape='DataType',\n",
    "        barmode='group',\n",
    "        hover_data='Source',\n",
    "        facet_col='Setting',\n",
    "        width=900,\n",
    "        height=400\n",
    "    )\n",
    "    for geom in fig['data']:\n",
    "        geom['marker']['color'] = list(pd.Series(geom['marker']['color']).map({0:'#636efa',1:'#EF553B'}))       \n",
    "    fig.layout['legend']['title']['text']=''\n",
    "    for ann in fig['layout']['annotations']:\n",
    "        ann['text'] =''\n",
    "    with open(f'Figures/실험셋업시각화_실험3시나리오{i}.pkl','wb') as f:\n",
    "        pickle.dump(fig,f)"
   ]
  }
 ],
 "metadata": {
  "kernelspec": {
   "display_name": "Python 3 (ipykernel)",
   "language": "python",
   "name": "python3"
  },
  "language_info": {
   "codemirror_mode": {
    "name": "ipython",
    "version": 3
   },
   "file_extension": ".py",
   "mimetype": "text/x-python",
   "name": "python",
   "nbconvert_exporter": "python",
   "pygments_lexer": "ipython3",
   "version": "3.10.13"
  }
 },
 "nbformat": 4,
 "nbformat_minor": 5
}
