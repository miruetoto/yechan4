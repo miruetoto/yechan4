{
 "cells": [
  {
   "cell_type": "raw",
   "id": "db4f5f38-baf9-43c1-87bb-f38b57a20e1b",
   "metadata": {},
   "source": [
    "---\n",
    "title: \"(연구&재인) MBTI(정리) -- 실험셋업\"\n",
    "author: \"신록예찬\"\n",
    "date: \"12/19/2023\"\n",
    "---"
   ]
  },
  {
   "cell_type": "markdown",
   "id": "1b28afc3-a259-4683-b172-6871f73f9711",
   "metadata": {},
   "source": [
    "# 1. Imports "
   ]
  },
  {
   "cell_type": "code",
   "execution_count": 3,
   "id": "ae46c639-38ca-4458-82b1-4d6dddf803b2",
   "metadata": {
    "tags": []
   },
   "outputs": [
    {
     "name": "stderr",
     "output_type": "stream",
     "text": [
      "/root/anaconda3/envs/ag/lib/python3.10/site-packages/tqdm/auto.py:21: TqdmWarning: IProgress not found. Please update jupyter and ipywidgets. See https://ipywidgets.readthedocs.io/en/stable/user_install.html\n",
      "  from .autonotebook import tqdm as notebook_tqdm\n"
     ]
    }
   ],
   "source": [
    "import pandas as pd\n",
    "import sklearn.model_selection\n",
    "import sklearn.metrics\n",
    "from autogluon.multimodal import MultiModalPredictor\n",
    "from autogluon.tabular import TabularPredictor\n",
    "import warnings\n",
    "import time\n",
    "import pickle\n",
    "warnings.filterwarnings('ignore')"
   ]
  },
  {
   "cell_type": "code",
   "execution_count": 4,
   "id": "85f99b57-b5dc-4fc9-8088-53a2c48bd6be",
   "metadata": {
    "tags": []
   },
   "outputs": [],
   "source": [
    "import plotly.express as px\n",
    "import plotly.io as pio\n",
    "from plotly.subplots import make_subplots\n",
    "pd.options.plotting.backend = \"plotly\"\n",
    "pio.templates.default = \"plotly_white\""
   ]
  },
  {
   "cell_type": "code",
   "execution_count": 5,
   "id": "a89629da-9e97-4e75-be1c-bcf8a757157a",
   "metadata": {
    "tags": []
   },
   "outputs": [],
   "source": [
    "def remove_emoji(inputString):\n",
    "    return inputString.encode('ascii', 'ignore').decode('ascii')"
   ]
  },
  {
   "cell_type": "code",
   "execution_count": 6,
   "id": "f1baceaa-77c9-4241-a2f5-0e987f1552dd",
   "metadata": {
    "tags": []
   },
   "outputs": [],
   "source": [
    "def generate_experiment2(train_size,test_size,added_n,experiments_index):\n",
    "    #---# A: 리얼데이터만 추가\n",
    "    df_train = pd.concat([\n",
    "        df_kaggle[df_kaggle['type'] != 'ENFJ'][::2],\n",
    "        df_kaggle[df_kaggle['type'] == 'ENFJ'][:train_size],\n",
    "        df_kaggle[df_kaggle['type'] == 'ENFJ'][train_size:(train_size+added_n)],\n",
    "    ]).reset_index(drop=True)\n",
    "    df_test = pd.concat([\n",
    "        df_kaggle[df_kaggle['type'] == 'ENFJ'][-test_size:],\n",
    "        df_kaggle[df_kaggle['type'] != 'ENFJ'][1::2]\n",
    "    ])\n",
    "    df_trains_dct[f'{experiments_index}a'] = df_train \n",
    "    df_tests_dct[f'{experiments_index}a'] = df_test\n",
    "    _df1 = df_train[:-added_n]['type'].value_counts().reset_index().assign(Source='Kaggle')\n",
    "    _df2 = df_train[-added_n:]['type'].value_counts().reset_index().assign(Source='Kaggle')\n",
    "    _train = pd.concat([_df1,_df2],axis=0).reset_index(drop=True).assign(DataType = 'Train')\n",
    "    _test = df_test['type'].value_counts().reset_index().assign(DataType = 'Test',Source='Kaggle')\n",
    "    tidydata1= pd.concat([_train,_test]).reset_index(drop=True).assign(col = lambda df: df.Source.map({'Kaggle':0,'ChatGPT':1})).query('type == \"ENFJ\"')\n",
    "    #---# B: GPT 자료만 추가 \n",
    "    df_train = pd.concat([\n",
    "        df_kaggle[df_kaggle['type'] != 'ENFJ'][::2],\n",
    "        df_kaggle[df_kaggle['type'] == 'ENFJ'][:train_size],\n",
    "        df_gpt_ENFJ[df_gpt_ENFJ['type'] == 'ENFJ'][:added_n],\n",
    "    ]).reset_index(drop=True)\n",
    "    df_test = pd.concat([\n",
    "        df_kaggle[df_kaggle['type'] == 'ENFJ'][-test_size:],\n",
    "        df_kaggle[df_kaggle['type'] != 'ENFJ'][1::2]\n",
    "    ])\n",
    "    df_trains_dct[f'{experiments_index}b'] = df_train \n",
    "    df_tests_dct[f'{experiments_index}b'] = df_test\n",
    "    _df1 = df_train[:-added_n]['type'].value_counts().reset_index().assign(Source='Kaggle')\n",
    "    _df2 = df_train[-added_n:]['type'].value_counts().reset_index().assign(Source='ChatGPT')\n",
    "    _train = pd.concat([_df1,_df2],axis=0).reset_index(drop=True).assign(DataType = 'Train')\n",
    "    _test = df_test['type'].value_counts().reset_index().assign(DataType = 'Test',Source='Kaggle')\n",
    "    tidydata2 = pd.concat([_train,_test]).reset_index(drop=True).assign(col = lambda df: df.Source.map({'Kaggle':0,'ChatGPT':1})).query('type==\"ENFJ\"')\n",
    "    #---# C: Real+GPT 동시추가 \n",
    "    df_train = pd.concat([\n",
    "        df_kaggle[df_kaggle['type'] != 'ENFJ'][::2],        \n",
    "        df_kaggle[df_kaggle['type'] == 'ENFJ'][:train_size],\n",
    "        df_gpt_ENFJ[df_gpt_ENFJ['type'] == 'ENFJ'][:added_n],\n",
    "        df_kaggle[df_kaggle['type'] == 'ENFJ'][train_size:(train_size+added_n)],\n",
    "    ]).reset_index(drop=True)\n",
    "    df_test = pd.concat([\n",
    "        df_kaggle[df_kaggle['type'] == 'ENFJ'][-test_size:],\n",
    "        df_kaggle[df_kaggle['type'] != 'ENFJ'][1::2]\n",
    "    ])\n",
    "    df_trains_dct[f'{experiments_index}c'] = df_train \n",
    "    df_tests_dct[f'{experiments_index}c'] = df_test\n",
    "    _df1 = df_train[:-added_n]['type'].value_counts().reset_index().assign(Source='Kaggle')\n",
    "    _df2 = df_train[-added_n:]['type'].value_counts().reset_index().assign(Source='ChatGPT')\n",
    "    _train = pd.concat([_df1,_df2],axis=0).reset_index(drop=True).assign(DataType = 'Train')\n",
    "    _test = df_test['type'].value_counts().reset_index().assign(DataType = 'Test',Source='Kaggle')\n",
    "    tidydata3 = pd.concat([_train,_test]).reset_index(drop=True).assign(col = lambda df: df.Source.map({'Kaggle':0,'ChatGPT':1})).query('type==\"ENFJ\"')\n",
    "    #---#\n",
    "    tidydata = pd.concat([tidydata1.assign(Setting = 'Real'),tidydata2.assign(Setting = 'Synthetic'),tidydata2.assign(Setting = 'Real+Synthetic')])\n",
    "    tidydata.to_csv(f\"정리된자료(csv)/tidydata_{experiments_index.replace('/','')}.csv\",index=False)    "
   ]
  },
  {
   "cell_type": "code",
   "execution_count": 55,
   "id": "719c885b-0aba-41a4-901b-926b2e88ecfb",
   "metadata": {
    "tags": []
   },
   "outputs": [],
   "source": [
    "def generate_experiment3(train_size,test_size,added_n,experiments_index):\n",
    "    #---# A: 리얼데이터만 추가\n",
    "    df_train = pd.concat([\n",
    "        df_kaggle.query('type in [\"ISTP\",\"ESTP\",\"INTP\",\"ISFP\",\"ISTJ\"]')[::2],\n",
    "        df_kaggle[df_kaggle['type'] == 'ENFJ'][:train_size],\n",
    "        df_kaggle[df_kaggle['type'] == 'ENFJ'][train_size:(train_size+added_n)],\n",
    "    ]).reset_index(drop=True)\n",
    "    df_test = pd.concat([\n",
    "        df_kaggle.query('type in [\"ISTP\",\"ESTP\",\"INTP\",\"ISFP\",\"ISTJ\"]')[::2],\n",
    "        df_kaggle[df_kaggle['type'] == 'ENFJ'][-test_size:],        \n",
    "    ])\n",
    "    df_trains_dct[f'{experiments_index}a'] = df_train \n",
    "    df_tests_dct[f'{experiments_index}a'] = df_test\n",
    "    _df1 = df_train[:-added_n]['type'].value_counts().reset_index().assign(Source='Kaggle')\n",
    "    _df2 = df_train[-added_n:]['type'].value_counts().reset_index().assign(Source='Kaggle')\n",
    "    _train = pd.concat([_df1,_df2],axis=0).reset_index(drop=True).assign(DataType = 'Train')\n",
    "    _test = df_test['type'].value_counts().reset_index().assign(DataType = 'Test',Source='Kaggle')\n",
    "    tidydata1= pd.concat([_train,_test]).reset_index(drop=True).assign(col = lambda df: df.Source.map({'Kaggle':0,'ChatGPT':1}))\n",
    "    #---# B: GPT 자료만 추가 \n",
    "    df_train = pd.concat([\n",
    "        df_kaggle.query('type in [\"ISTP\",\"ESTP\",\"INTP\",\"ISFP\",\"ISTJ\"]')[::2],\n",
    "        df_kaggle[df_kaggle['type'] == 'ENFJ'][:train_size],\n",
    "        df_gpt[df_gpt['type'] == 'ENFJ'][:added_n],\n",
    "    ]).reset_index(drop=True)\n",
    "    df_test = pd.concat([\n",
    "        df_kaggle[df_kaggle['type'] == 'ENFJ'][-test_size:],\n",
    "        df_kaggle.query('type in [\"ISTP\",\"ESTP\",\"INTP\",\"ISFP\",\"ISTJ\"]')[::2],\n",
    "    ])\n",
    "    df_trains_dct[f'{experiments_index}b'] = df_train \n",
    "    df_tests_dct[f'{experiments_index}b'] = df_test\n",
    "    _df1 = df_train[:-added_n]['type'].value_counts().reset_index().assign(Source='Kaggle')\n",
    "    _df2 = df_train[-added_n:]['type'].value_counts().reset_index().assign(Source='ChatGPT')\n",
    "    _train = pd.concat([_df1,_df2],axis=0).reset_index(drop=True).assign(DataType = 'Train')\n",
    "    _test = df_test['type'].value_counts().reset_index().assign(DataType = 'Test',Source='Kaggle')\n",
    "    tidydata2 = pd.concat([_train,_test]).reset_index(drop=True).assign(col = lambda df: df.Source.map({'Kaggle':0,'ChatGPT':1}))\n",
    "    tidydata = pd.concat([tidydata1.assign(Setting = 'Real'),tidydata2.assign(Setting = 'Synthetic')])\n",
    "    tidydata.to_csv(f\"정리된자료(csv)/tidydata_{experiments_index.replace('/','')}.csv\",index=False)    "
   ]
  },
  {
   "cell_type": "markdown",
   "id": "217e7d2c-7455-43c5-b5ad-a4ecf85469c8",
   "metadata": {},
   "source": [
    "# 2. Data"
   ]
  },
  {
   "cell_type": "markdown",
   "id": "70215125-5076-4660-a3ab-da4a0a35a24a",
   "metadata": {},
   "source": [
    "`-` 데이터의 정리 "
   ]
  },
  {
   "cell_type": "code",
   "execution_count": 56,
   "id": "d4b32cb2-2f1d-45df-8a0f-775083b0c975",
   "metadata": {
    "tags": []
   },
   "outputs": [],
   "source": [
    "labels = ['ENTP', 'ESFP', 'ISFJ', 'INTJ', 'ISFP', 'ESTP', 'INTP', 'INFJ', 'ESTJ', 'ENFP', 'ISTJ', 'ENTJ', 'INFP', 'ISTP', 'ESFJ', 'ENFJ']\n",
    "df_kaggle = pd.read_csv('원래자료(csv)/mbti_1.csv').sort_values('type').reset_index(drop=True)\n",
    "df_gpt = pd.read_csv('원래자료(csv)/MBTI.csv')\n",
    "for i,post in enumerate(df_gpt['posts']):\n",
    "    for label in labels:\n",
    "        if label in post: \n",
    "            df_gpt['posts'][i] = post.replace(label,'')\n",
    "            df_gpt['posts'][i] = remove_emoji(post)\n",
    "df_gpt = df_gpt.set_index('type').rename(\n",
    "    {\n",
    "        'ESFJ ':'ESFJ',\n",
    "        'ESFP ': 'ESFP',\n",
    "        'ESTJ ': 'ESTJ',\n",
    "        'ESTP\"': 'ESTP',\n",
    "        'estp': 'ESTP'\n",
    "    }\n",
    ").reset_index().sort_values('type').reset_index(drop=True)"
   ]
  },
  {
   "cell_type": "markdown",
   "id": "eb9ced9a-7a1b-4f2c-9090-dc8029afcf25",
   "metadata": {},
   "source": [
    "- `df`는 원래 캐글에 공개된 자료\n",
    "- `df_additional`은 chatGPT를 이용하여 모은자료, 이중 자료로서의 가치가 없는 관측치는 제외함. (자료가 너무 적어서 제외하였음 {SFJ:2, ISFJ:32, ENFP:1})"
   ]
  },
  {
   "cell_type": "code",
   "execution_count": 57,
   "id": "2969806d-22f6-48ac-8fcc-9268c6cf6ce6",
   "metadata": {
    "tags": []
   },
   "outputs": [],
   "source": [
    "!rm -rf '정리된자료(csv)'\n",
    "![ -d \"정리된자료(csv)\" ] || mkdir \"정리된자료(csv)\"\n",
    "df_kaggle.to_csv(\"정리된자료(csv)/df_kaggle.csv\",index=False)\n",
    "df_gpt.to_csv(\"정리된자료(csv)/df_gpt.csv\",index=False)"
   ]
  },
  {
   "cell_type": "code",
   "execution_count": 58,
   "id": "5da4d9c1-1fda-4618-b41b-d3eb82b4874c",
   "metadata": {
    "tags": []
   },
   "outputs": [],
   "source": [
    "df_kaggle = pd.read_csv(\"정리된자료(csv)/df_kaggle.csv\")\n",
    "df_gpt = pd.read_csv(\"정리된자료(csv)/df_gpt.csv\")"
   ]
  },
  {
   "cell_type": "markdown",
   "id": "2dd26ec5-1035-4012-aa49-3b16e5fea31a",
   "metadata": {},
   "source": [
    "`-` 데이터의 분포상태 "
   ]
  },
  {
   "cell_type": "code",
   "execution_count": 59,
   "id": "44a9dcf4-c286-4b07-9ece-fbbcdf387b66",
   "metadata": {
    "tags": []
   },
   "outputs": [
    {
     "data": {
      "text/plain": [
       "type\n",
       "INFP    1832\n",
       "INFJ    1470\n",
       "INTP    1304\n",
       "INTJ    1091\n",
       "ENTP     685\n",
       "ENFP     675\n",
       "ISTP     337\n",
       "ISFP     271\n",
       "ENTJ     231\n",
       "ISTJ     205\n",
       "ENFJ     190\n",
       "ISFJ     166\n",
       "ESTP      89\n",
       "ESFP      48\n",
       "ESFJ      42\n",
       "ESTJ      39\n",
       "Name: count, dtype: int64"
      ]
     },
     "execution_count": 59,
     "metadata": {},
     "output_type": "execute_result"
    }
   ],
   "source": [
    "df_kaggle['type'].value_counts()"
   ]
  },
  {
   "cell_type": "code",
   "execution_count": 60,
   "id": "dfc9e3f5-b5ec-4f00-8607-12b6f9ad295e",
   "metadata": {
    "tags": []
   },
   "outputs": [
    {
     "data": {
      "text/plain": [
       "type\n",
       "INFP    1832\n",
       "INFJ    1470\n",
       "INTP    1304\n",
       "INTJ    1091\n",
       "ENTP     685\n",
       "ENFP     675\n",
       "ISTP     337\n",
       "ISFP     271\n",
       "ENTJ     231\n",
       "ISTJ     205\n",
       "ENFJ     190\n",
       "ISFJ     166\n",
       "ESTP      89\n",
       "ESFP      48\n",
       "ESFJ      42\n",
       "ESTJ      39\n",
       "Name: count, dtype: int64"
      ]
     },
     "execution_count": 60,
     "metadata": {},
     "output_type": "execute_result"
    }
   ],
   "source": [
    "df_kaggle['type'].value_counts()"
   ]
  },
  {
   "cell_type": "markdown",
   "id": "e8f0dd2b-444a-4326-8f5f-550737393676",
   "metadata": {},
   "source": [
    "`-` 데이터의 분포상태 시각화 "
   ]
  },
  {
   "cell_type": "code",
   "execution_count": 61,
   "id": "726923f6-69b0-4e88-9b42-e0daad4de587",
   "metadata": {
    "tags": []
   },
   "outputs": [
    {
     "data": {
      "application/vnd.plotly.v1+json": {
       "config": {
        "plotlyServerURL": "https://plot.ly"
       },
       "data": [
        {
         "alignmentgroup": "True",
         "hovertemplate": "data_source=kaggle<br>type=%{x}<br>count=%{y}<extra></extra>",
         "legendgroup": "kaggle",
         "marker": {
          "color": "#636efa",
          "pattern": {
           "shape": ""
          }
         },
         "name": "kaggle",
         "offsetgroup": "kaggle",
         "orientation": "v",
         "showlegend": true,
         "textposition": "auto",
         "type": "bar",
         "x": [
          "INFP",
          "INFJ",
          "INTP",
          "INTJ",
          "ENTP",
          "ENFP",
          "ISTP",
          "ISFP",
          "ENTJ",
          "ISTJ",
          "ENFJ",
          "ISFJ",
          "ESTP",
          "ESFP",
          "ESFJ",
          "ESTJ"
         ],
         "xaxis": "x",
         "y": [
          1832,
          1470,
          1304,
          1091,
          685,
          675,
          337,
          271,
          231,
          205,
          190,
          166,
          89,
          48,
          42,
          39
         ],
         "yaxis": "y"
        },
        {
         "alignmentgroup": "True",
         "hovertemplate": "data_source=ChatGPT<br>type=%{x}<br>count=%{y}<extra></extra>",
         "legendgroup": "ChatGPT",
         "marker": {
          "color": "#EF553B",
          "pattern": {
           "shape": ""
          }
         },
         "name": "ChatGPT",
         "offsetgroup": "ChatGPT",
         "orientation": "v",
         "showlegend": true,
         "textposition": "auto",
         "type": "bar",
         "x": [
          "ESTJ",
          "ESFJ",
          "ESFP",
          "ENFJ",
          "ESTP",
          "ISFJ",
          "ENFP",
          "SFJ"
         ],
         "xaxis": "x",
         "y": [
          486,
          298,
          195,
          164,
          162,
          32,
          3,
          2
         ],
         "yaxis": "y"
        }
       ],
       "layout": {
        "autosize": true,
        "barmode": "relative",
        "legend": {
         "title": {
          "text": "data_source"
         },
         "tracegroupgap": 0
        },
        "margin": {
         "t": 60
        },
        "template": {
         "data": {
          "bar": [
           {
            "error_x": {
             "color": "#2a3f5f"
            },
            "error_y": {
             "color": "#2a3f5f"
            },
            "marker": {
             "line": {
              "color": "white",
              "width": 0.5
             },
             "pattern": {
              "fillmode": "overlay",
              "size": 10,
              "solidity": 0.2
             }
            },
            "type": "bar"
           }
          ],
          "barpolar": [
           {
            "marker": {
             "line": {
              "color": "white",
              "width": 0.5
             },
             "pattern": {
              "fillmode": "overlay",
              "size": 10,
              "solidity": 0.2
             }
            },
            "type": "barpolar"
           }
          ],
          "carpet": [
           {
            "aaxis": {
             "endlinecolor": "#2a3f5f",
             "gridcolor": "#C8D4E3",
             "linecolor": "#C8D4E3",
             "minorgridcolor": "#C8D4E3",
             "startlinecolor": "#2a3f5f"
            },
            "baxis": {
             "endlinecolor": "#2a3f5f",
             "gridcolor": "#C8D4E3",
             "linecolor": "#C8D4E3",
             "minorgridcolor": "#C8D4E3",
             "startlinecolor": "#2a3f5f"
            },
            "type": "carpet"
           }
          ],
          "choropleth": [
           {
            "colorbar": {
             "outlinewidth": 0,
             "ticks": ""
            },
            "type": "choropleth"
           }
          ],
          "contour": [
           {
            "colorbar": {
             "outlinewidth": 0,
             "ticks": ""
            },
            "colorscale": [
             [
              0,
              "#0d0887"
             ],
             [
              0.1111111111111111,
              "#46039f"
             ],
             [
              0.2222222222222222,
              "#7201a8"
             ],
             [
              0.3333333333333333,
              "#9c179e"
             ],
             [
              0.4444444444444444,
              "#bd3786"
             ],
             [
              0.5555555555555556,
              "#d8576b"
             ],
             [
              0.6666666666666666,
              "#ed7953"
             ],
             [
              0.7777777777777778,
              "#fb9f3a"
             ],
             [
              0.8888888888888888,
              "#fdca26"
             ],
             [
              1,
              "#f0f921"
             ]
            ],
            "type": "contour"
           }
          ],
          "contourcarpet": [
           {
            "colorbar": {
             "outlinewidth": 0,
             "ticks": ""
            },
            "type": "contourcarpet"
           }
          ],
          "heatmap": [
           {
            "colorbar": {
             "outlinewidth": 0,
             "ticks": ""
            },
            "colorscale": [
             [
              0,
              "#0d0887"
             ],
             [
              0.1111111111111111,
              "#46039f"
             ],
             [
              0.2222222222222222,
              "#7201a8"
             ],
             [
              0.3333333333333333,
              "#9c179e"
             ],
             [
              0.4444444444444444,
              "#bd3786"
             ],
             [
              0.5555555555555556,
              "#d8576b"
             ],
             [
              0.6666666666666666,
              "#ed7953"
             ],
             [
              0.7777777777777778,
              "#fb9f3a"
             ],
             [
              0.8888888888888888,
              "#fdca26"
             ],
             [
              1,
              "#f0f921"
             ]
            ],
            "type": "heatmap"
           }
          ],
          "heatmapgl": [
           {
            "colorbar": {
             "outlinewidth": 0,
             "ticks": ""
            },
            "colorscale": [
             [
              0,
              "#0d0887"
             ],
             [
              0.1111111111111111,
              "#46039f"
             ],
             [
              0.2222222222222222,
              "#7201a8"
             ],
             [
              0.3333333333333333,
              "#9c179e"
             ],
             [
              0.4444444444444444,
              "#bd3786"
             ],
             [
              0.5555555555555556,
              "#d8576b"
             ],
             [
              0.6666666666666666,
              "#ed7953"
             ],
             [
              0.7777777777777778,
              "#fb9f3a"
             ],
             [
              0.8888888888888888,
              "#fdca26"
             ],
             [
              1,
              "#f0f921"
             ]
            ],
            "type": "heatmapgl"
           }
          ],
          "histogram": [
           {
            "marker": {
             "pattern": {
              "fillmode": "overlay",
              "size": 10,
              "solidity": 0.2
             }
            },
            "type": "histogram"
           }
          ],
          "histogram2d": [
           {
            "colorbar": {
             "outlinewidth": 0,
             "ticks": ""
            },
            "colorscale": [
             [
              0,
              "#0d0887"
             ],
             [
              0.1111111111111111,
              "#46039f"
             ],
             [
              0.2222222222222222,
              "#7201a8"
             ],
             [
              0.3333333333333333,
              "#9c179e"
             ],
             [
              0.4444444444444444,
              "#bd3786"
             ],
             [
              0.5555555555555556,
              "#d8576b"
             ],
             [
              0.6666666666666666,
              "#ed7953"
             ],
             [
              0.7777777777777778,
              "#fb9f3a"
             ],
             [
              0.8888888888888888,
              "#fdca26"
             ],
             [
              1,
              "#f0f921"
             ]
            ],
            "type": "histogram2d"
           }
          ],
          "histogram2dcontour": [
           {
            "colorbar": {
             "outlinewidth": 0,
             "ticks": ""
            },
            "colorscale": [
             [
              0,
              "#0d0887"
             ],
             [
              0.1111111111111111,
              "#46039f"
             ],
             [
              0.2222222222222222,
              "#7201a8"
             ],
             [
              0.3333333333333333,
              "#9c179e"
             ],
             [
              0.4444444444444444,
              "#bd3786"
             ],
             [
              0.5555555555555556,
              "#d8576b"
             ],
             [
              0.6666666666666666,
              "#ed7953"
             ],
             [
              0.7777777777777778,
              "#fb9f3a"
             ],
             [
              0.8888888888888888,
              "#fdca26"
             ],
             [
              1,
              "#f0f921"
             ]
            ],
            "type": "histogram2dcontour"
           }
          ],
          "mesh3d": [
           {
            "colorbar": {
             "outlinewidth": 0,
             "ticks": ""
            },
            "type": "mesh3d"
           }
          ],
          "parcoords": [
           {
            "line": {
             "colorbar": {
              "outlinewidth": 0,
              "ticks": ""
             }
            },
            "type": "parcoords"
           }
          ],
          "pie": [
           {
            "automargin": true,
            "type": "pie"
           }
          ],
          "scatter": [
           {
            "fillpattern": {
             "fillmode": "overlay",
             "size": 10,
             "solidity": 0.2
            },
            "type": "scatter"
           }
          ],
          "scatter3d": [
           {
            "line": {
             "colorbar": {
              "outlinewidth": 0,
              "ticks": ""
             }
            },
            "marker": {
             "colorbar": {
              "outlinewidth": 0,
              "ticks": ""
             }
            },
            "type": "scatter3d"
           }
          ],
          "scattercarpet": [
           {
            "marker": {
             "colorbar": {
              "outlinewidth": 0,
              "ticks": ""
             }
            },
            "type": "scattercarpet"
           }
          ],
          "scattergeo": [
           {
            "marker": {
             "colorbar": {
              "outlinewidth": 0,
              "ticks": ""
             }
            },
            "type": "scattergeo"
           }
          ],
          "scattergl": [
           {
            "marker": {
             "colorbar": {
              "outlinewidth": 0,
              "ticks": ""
             }
            },
            "type": "scattergl"
           }
          ],
          "scattermapbox": [
           {
            "marker": {
             "colorbar": {
              "outlinewidth": 0,
              "ticks": ""
             }
            },
            "type": "scattermapbox"
           }
          ],
          "scatterpolar": [
           {
            "marker": {
             "colorbar": {
              "outlinewidth": 0,
              "ticks": ""
             }
            },
            "type": "scatterpolar"
           }
          ],
          "scatterpolargl": [
           {
            "marker": {
             "colorbar": {
              "outlinewidth": 0,
              "ticks": ""
             }
            },
            "type": "scatterpolargl"
           }
          ],
          "scatterternary": [
           {
            "marker": {
             "colorbar": {
              "outlinewidth": 0,
              "ticks": ""
             }
            },
            "type": "scatterternary"
           }
          ],
          "surface": [
           {
            "colorbar": {
             "outlinewidth": 0,
             "ticks": ""
            },
            "colorscale": [
             [
              0,
              "#0d0887"
             ],
             [
              0.1111111111111111,
              "#46039f"
             ],
             [
              0.2222222222222222,
              "#7201a8"
             ],
             [
              0.3333333333333333,
              "#9c179e"
             ],
             [
              0.4444444444444444,
              "#bd3786"
             ],
             [
              0.5555555555555556,
              "#d8576b"
             ],
             [
              0.6666666666666666,
              "#ed7953"
             ],
             [
              0.7777777777777778,
              "#fb9f3a"
             ],
             [
              0.8888888888888888,
              "#fdca26"
             ],
             [
              1,
              "#f0f921"
             ]
            ],
            "type": "surface"
           }
          ],
          "table": [
           {
            "cells": {
             "fill": {
              "color": "#EBF0F8"
             },
             "line": {
              "color": "white"
             }
            },
            "header": {
             "fill": {
              "color": "#C8D4E3"
             },
             "line": {
              "color": "white"
             }
            },
            "type": "table"
           }
          ]
         },
         "layout": {
          "annotationdefaults": {
           "arrowcolor": "#2a3f5f",
           "arrowhead": 0,
           "arrowwidth": 1
          },
          "autotypenumbers": "strict",
          "coloraxis": {
           "colorbar": {
            "outlinewidth": 0,
            "ticks": ""
           }
          },
          "colorscale": {
           "diverging": [
            [
             0,
             "#8e0152"
            ],
            [
             0.1,
             "#c51b7d"
            ],
            [
             0.2,
             "#de77ae"
            ],
            [
             0.3,
             "#f1b6da"
            ],
            [
             0.4,
             "#fde0ef"
            ],
            [
             0.5,
             "#f7f7f7"
            ],
            [
             0.6,
             "#e6f5d0"
            ],
            [
             0.7,
             "#b8e186"
            ],
            [
             0.8,
             "#7fbc41"
            ],
            [
             0.9,
             "#4d9221"
            ],
            [
             1,
             "#276419"
            ]
           ],
           "sequential": [
            [
             0,
             "#0d0887"
            ],
            [
             0.1111111111111111,
             "#46039f"
            ],
            [
             0.2222222222222222,
             "#7201a8"
            ],
            [
             0.3333333333333333,
             "#9c179e"
            ],
            [
             0.4444444444444444,
             "#bd3786"
            ],
            [
             0.5555555555555556,
             "#d8576b"
            ],
            [
             0.6666666666666666,
             "#ed7953"
            ],
            [
             0.7777777777777778,
             "#fb9f3a"
            ],
            [
             0.8888888888888888,
             "#fdca26"
            ],
            [
             1,
             "#f0f921"
            ]
           ],
           "sequentialminus": [
            [
             0,
             "#0d0887"
            ],
            [
             0.1111111111111111,
             "#46039f"
            ],
            [
             0.2222222222222222,
             "#7201a8"
            ],
            [
             0.3333333333333333,
             "#9c179e"
            ],
            [
             0.4444444444444444,
             "#bd3786"
            ],
            [
             0.5555555555555556,
             "#d8576b"
            ],
            [
             0.6666666666666666,
             "#ed7953"
            ],
            [
             0.7777777777777778,
             "#fb9f3a"
            ],
            [
             0.8888888888888888,
             "#fdca26"
            ],
            [
             1,
             "#f0f921"
            ]
           ]
          },
          "colorway": [
           "#636efa",
           "#EF553B",
           "#00cc96",
           "#ab63fa",
           "#FFA15A",
           "#19d3f3",
           "#FF6692",
           "#B6E880",
           "#FF97FF",
           "#FECB52"
          ],
          "font": {
           "color": "#2a3f5f"
          },
          "geo": {
           "bgcolor": "white",
           "lakecolor": "white",
           "landcolor": "white",
           "showlakes": true,
           "showland": true,
           "subunitcolor": "#C8D4E3"
          },
          "hoverlabel": {
           "align": "left"
          },
          "hovermode": "closest",
          "mapbox": {
           "style": "light"
          },
          "paper_bgcolor": "white",
          "plot_bgcolor": "white",
          "polar": {
           "angularaxis": {
            "gridcolor": "#EBF0F8",
            "linecolor": "#EBF0F8",
            "ticks": ""
           },
           "bgcolor": "white",
           "radialaxis": {
            "gridcolor": "#EBF0F8",
            "linecolor": "#EBF0F8",
            "ticks": ""
           }
          },
          "scene": {
           "xaxis": {
            "backgroundcolor": "white",
            "gridcolor": "#DFE8F3",
            "gridwidth": 2,
            "linecolor": "#EBF0F8",
            "showbackground": true,
            "ticks": "",
            "zerolinecolor": "#EBF0F8"
           },
           "yaxis": {
            "backgroundcolor": "white",
            "gridcolor": "#DFE8F3",
            "gridwidth": 2,
            "linecolor": "#EBF0F8",
            "showbackground": true,
            "ticks": "",
            "zerolinecolor": "#EBF0F8"
           },
           "zaxis": {
            "backgroundcolor": "white",
            "gridcolor": "#DFE8F3",
            "gridwidth": 2,
            "linecolor": "#EBF0F8",
            "showbackground": true,
            "ticks": "",
            "zerolinecolor": "#EBF0F8"
           }
          },
          "shapedefaults": {
           "line": {
            "color": "#2a3f5f"
           }
          },
          "ternary": {
           "aaxis": {
            "gridcolor": "#DFE8F3",
            "linecolor": "#A2B1C6",
            "ticks": ""
           },
           "baxis": {
            "gridcolor": "#DFE8F3",
            "linecolor": "#A2B1C6",
            "ticks": ""
           },
           "bgcolor": "white",
           "caxis": {
            "gridcolor": "#DFE8F3",
            "linecolor": "#A2B1C6",
            "ticks": ""
           }
          },
          "title": {
           "x": 0.05
          },
          "xaxis": {
           "automargin": true,
           "gridcolor": "#EBF0F8",
           "linecolor": "#EBF0F8",
           "ticks": "",
           "title": {
            "standoff": 15
           },
           "zerolinecolor": "#EBF0F8",
           "zerolinewidth": 2
          },
          "yaxis": {
           "automargin": true,
           "gridcolor": "#EBF0F8",
           "linecolor": "#EBF0F8",
           "ticks": "",
           "title": {
            "standoff": 15
           },
           "zerolinecolor": "#EBF0F8",
           "zerolinewidth": 2
          }
         }
        },
        "xaxis": {
         "anchor": "y",
         "autorange": true,
         "domain": [
          0,
          1
         ],
         "range": [
          -0.5,
          16.5
         ],
         "title": {
          "text": "type"
         },
         "type": "category"
        },
        "yaxis": {
         "anchor": "x",
         "autorange": true,
         "domain": [
          0,
          1
         ],
         "range": [
          0,
          1928.421052631579
         ],
         "title": {
          "text": "count"
         },
         "type": "linear"
        }
       }
      },
      "image/png": "[encoded data removed]",
      "text/html": [
       "<div>                            <div id=\"635c3b1b-40f7-437f-86bb-fda7aaf24f16\" class=\"plotly-graph-div\" style=\"height:525px; width:100%;\"></div>            <script type=\"text/javascript\">                require([\"plotly\"], function(Plotly) {                    window.PLOTLYENV=window.PLOTLYENV || {};                                    if (document.getElementById(\"635c3b1b-40f7-437f-86bb-fda7aaf24f16\")) {                    Plotly.newPlot(                        \"635c3b1b-40f7-437f-86bb-fda7aaf24f16\",                        [{\"alignmentgroup\":\"True\",\"hovertemplate\":\"data_source=kaggle\\u003cbr\\u003etype=%{x}\\u003cbr\\u003ecount=%{y}\\u003cextra\\u003e\\u003c\\u002fextra\\u003e\",\"legendgroup\":\"kaggle\",\"marker\":{\"color\":\"#636efa\",\"pattern\":{\"shape\":\"\"}},\"name\":\"kaggle\",\"offsetgroup\":\"kaggle\",\"orientation\":\"v\",\"showlegend\":true,\"textposition\":\"auto\",\"x\":[\"INFP\",\"INFJ\",\"INTP\",\"INTJ\",\"ENTP\",\"ENFP\",\"ISTP\",\"ISFP\",\"ENTJ\",\"ISTJ\",\"ENFJ\",\"ISFJ\",\"ESTP\",\"ESFP\",\"ESFJ\",\"ESTJ\"],\"xaxis\":\"x\",\"y\":[1832,1470,1304,1091,685,675,337,271,231,205,190,166,89,48,42,39],\"yaxis\":\"y\",\"type\":\"bar\"},{\"alignmentgroup\":\"True\",\"hovertemplate\":\"data_source=ChatGPT\\u003cbr\\u003etype=%{x}\\u003cbr\\u003ecount=%{y}\\u003cextra\\u003e\\u003c\\u002fextra\\u003e\",\"legendgroup\":\"ChatGPT\",\"marker\":{\"color\":\"#EF553B\",\"pattern\":{\"shape\":\"\"}},\"name\":\"ChatGPT\",\"offsetgroup\":\"ChatGPT\",\"orientation\":\"v\",\"showlegend\":true,\"textposition\":\"auto\",\"x\":[\"ESTJ\",\"ESFJ\",\"ESFP\",\"ENFJ\",\"ESTP\",\"ISFJ\",\"ENFP\",\"SFJ\"],\"xaxis\":\"x\",\"y\":[486,298,195,164,162,32,3,2],\"yaxis\":\"y\",\"type\":\"bar\"}],                        {\"template\":{\"data\":{\"histogram2dcontour\":[{\"type\":\"histogram2dcontour\",\"colorbar\":{\"outlinewidth\":0,\"ticks\":\"\"},\"colorscale\":[[0.0,\"#0d0887\"],[0.1111111111111111,\"#46039f\"],[0.2222222222222222,\"#7201a8\"],[0.3333333333333333,\"#9c179e\"],[0.4444444444444444,\"#bd3786\"],[0.5555555555555556,\"#d8576b\"],[0.6666666666666666,\"#ed7953\"],[0.7777777777777778,\"#fb9f3a\"],[0.8888888888888888,\"#fdca26\"],[1.0,\"#f0f921\"]]}],\"choropleth\":[{\"type\":\"choropleth\",\"colorbar\":{\"outlinewidth\":0,\"ticks\":\"\"}}],\"histogram2d\":[{\"type\":\"histogram2d\",\"colorbar\":{\"outlinewidth\":0,\"ticks\":\"\"},\"colorscale\":[[0.0,\"#0d0887\"],[0.1111111111111111,\"#46039f\"],[0.2222222222222222,\"#7201a8\"],[0.3333333333333333,\"#9c179e\"],[0.4444444444444444,\"#bd3786\"],[0.5555555555555556,\"#d8576b\"],[0.6666666666666666,\"#ed7953\"],[0.7777777777777778,\"#fb9f3a\"],[0.8888888888888888,\"#fdca26\"],[1.0,\"#f0f921\"]]}],\"heatmap\":[{\"type\":\"heatmap\",\"colorbar\":{\"outlinewidth\":0,\"ticks\":\"\"},\"colorscale\":[[0.0,\"#0d0887\"],[0.1111111111111111,\"#46039f\"],[0.2222222222222222,\"#7201a8\"],[0.3333333333333333,\"#9c179e\"],[0.4444444444444444,\"#bd3786\"],[0.5555555555555556,\"#d8576b\"],[0.6666666666666666,\"#ed7953\"],[0.7777777777777778,\"#fb9f3a\"],[0.8888888888888888,\"#fdca26\"],[1.0,\"#f0f921\"]]}],\"heatmapgl\":[{\"type\":\"heatmapgl\",\"colorbar\":{\"outlinewidth\":0,\"ticks\":\"\"},\"colorscale\":[[0.0,\"#0d0887\"],[0.1111111111111111,\"#46039f\"],[0.2222222222222222,\"#7201a8\"],[0.3333333333333333,\"#9c179e\"],[0.4444444444444444,\"#bd3786\"],[0.5555555555555556,\"#d8576b\"],[0.6666666666666666,\"#ed7953\"],[0.7777777777777778,\"#fb9f3a\"],[0.8888888888888888,\"#fdca26\"],[1.0,\"#f0f921\"]]}],\"contourcarpet\":[{\"type\":\"contourcarpet\",\"colorbar\":{\"outlinewidth\":0,\"ticks\":\"\"}}],\"contour\":[{\"type\":\"contour\",\"colorbar\":{\"outlinewidth\":0,\"ticks\":\"\"},\"colorscale\":[[0.0,\"#0d0887\"],[0.1111111111111111,\"#46039f\"],[0.2222222222222222,\"#7201a8\"],[0.3333333333333333,\"#9c179e\"],[0.4444444444444444,\"#bd3786\"],[0.5555555555555556,\"#d8576b\"],[0.6666666666666666,\"#ed7953\"],[0.7777777777777778,\"#fb9f3a\"],[0.8888888888888888,\"#fdca26\"],[1.0,\"#f0f921\"]]}],\"surface\":[{\"type\":\"surface\",\"colorbar\":{\"outlinewidth\":0,\"ticks\":\"\"},\"colorscale\":[[0.0,\"#0d0887\"],[0.1111111111111111,\"#46039f\"],[0.2222222222222222,\"#7201a8\"],[0.3333333333333333,\"#9c179e\"],[0.4444444444444444,\"#bd3786\"],[0.5555555555555556,\"#d8576b\"],[0.6666666666666666,\"#ed7953\"],[0.7777777777777778,\"#fb9f3a\"],[0.8888888888888888,\"#fdca26\"],[1.0,\"#f0f921\"]]}],\"mesh3d\":[{\"type\":\"mesh3d\",\"colorbar\":{\"outlinewidth\":0,\"ticks\":\"\"}}],\"scatter\":[{\"fillpattern\":{\"fillmode\":\"overlay\",\"size\":10,\"solidity\":0.2},\"type\":\"scatter\"}],\"parcoords\":[{\"type\":\"parcoords\",\"line\":{\"colorbar\":{\"outlinewidth\":0,\"ticks\":\"\"}}}],\"scatterpolargl\":[{\"type\":\"scatterpolargl\",\"marker\":{\"colorbar\":{\"outlinewidth\":0,\"ticks\":\"\"}}}],\"bar\":[{\"error_x\":{\"color\":\"#2a3f5f\"},\"error_y\":{\"color\":\"#2a3f5f\"},\"marker\":{\"line\":{\"color\":\"white\",\"width\":0.5},\"pattern\":{\"fillmode\":\"overlay\",\"size\":10,\"solidity\":0.2}},\"type\":\"bar\"}],\"scattergeo\":[{\"type\":\"scattergeo\",\"marker\":{\"colorbar\":{\"outlinewidth\":0,\"ticks\":\"\"}}}],\"scatterpolar\":[{\"type\":\"scatterpolar\",\"marker\":{\"colorbar\":{\"outlinewidth\":0,\"ticks\":\"\"}}}],\"histogram\":[{\"marker\":{\"pattern\":{\"fillmode\":\"overlay\",\"size\":10,\"solidity\":0.2}},\"type\":\"histogram\"}],\"scattergl\":[{\"type\":\"scattergl\",\"marker\":{\"colorbar\":{\"outlinewidth\":0,\"ticks\":\"\"}}}],\"scatter3d\":[{\"type\":\"scatter3d\",\"line\":{\"colorbar\":{\"outlinewidth\":0,\"ticks\":\"\"}},\"marker\":{\"colorbar\":{\"outlinewidth\":0,\"ticks\":\"\"}}}],\"scattermapbox\":[{\"type\":\"scattermapbox\",\"marker\":{\"colorbar\":{\"outlinewidth\":0,\"ticks\":\"\"}}}],\"scatterternary\":[{\"type\":\"scatterternary\",\"marker\":{\"colorbar\":{\"outlinewidth\":0,\"ticks\":\"\"}}}],\"scattercarpet\":[{\"type\":\"scattercarpet\",\"marker\":{\"colorbar\":{\"outlinewidth\":0,\"ticks\":\"\"}}}],\"carpet\":[{\"aaxis\":{\"endlinecolor\":\"#2a3f5f\",\"gridcolor\":\"#C8D4E3\",\"linecolor\":\"#C8D4E3\",\"minorgridcolor\":\"#C8D4E3\",\"startlinecolor\":\"#2a3f5f\"},\"baxis\":{\"endlinecolor\":\"#2a3f5f\",\"gridcolor\":\"#C8D4E3\",\"linecolor\":\"#C8D4E3\",\"minorgridcolor\":\"#C8D4E3\",\"startlinecolor\":\"#2a3f5f\"},\"type\":\"carpet\"}],\"table\":[{\"cells\":{\"fill\":{\"color\":\"#EBF0F8\"},\"line\":{\"color\":\"white\"}},\"header\":{\"fill\":{\"color\":\"#C8D4E3\"},\"line\":{\"color\":\"white\"}},\"type\":\"table\"}],\"barpolar\":[{\"marker\":{\"line\":{\"color\":\"white\",\"width\":0.5},\"pattern\":{\"fillmode\":\"overlay\",\"size\":10,\"solidity\":0.2}},\"type\":\"barpolar\"}],\"pie\":[{\"automargin\":true,\"type\":\"pie\"}]},\"layout\":{\"autotypenumbers\":\"strict\",\"colorway\":[\"#636efa\",\"#EF553B\",\"#00cc96\",\"#ab63fa\",\"#FFA15A\",\"#19d3f3\",\"#FF6692\",\"#B6E880\",\"#FF97FF\",\"#FECB52\"],\"font\":{\"color\":\"#2a3f5f\"},\"hovermode\":\"closest\",\"hoverlabel\":{\"align\":\"left\"},\"paper_bgcolor\":\"white\",\"plot_bgcolor\":\"white\",\"polar\":{\"bgcolor\":\"white\",\"angularaxis\":{\"gridcolor\":\"#EBF0F8\",\"linecolor\":\"#EBF0F8\",\"ticks\":\"\"},\"radialaxis\":{\"gridcolor\":\"#EBF0F8\",\"linecolor\":\"#EBF0F8\",\"ticks\":\"\"}},\"ternary\":{\"bgcolor\":\"white\",\"aaxis\":{\"gridcolor\":\"#DFE8F3\",\"linecolor\":\"#A2B1C6\",\"ticks\":\"\"},\"baxis\":{\"gridcolor\":\"#DFE8F3\",\"linecolor\":\"#A2B1C6\",\"ticks\":\"\"},\"caxis\":{\"gridcolor\":\"#DFE8F3\",\"linecolor\":\"#A2B1C6\",\"ticks\":\"\"}},\"coloraxis\":{\"colorbar\":{\"outlinewidth\":0,\"ticks\":\"\"}},\"colorscale\":{\"sequential\":[[0.0,\"#0d0887\"],[0.1111111111111111,\"#46039f\"],[0.2222222222222222,\"#7201a8\"],[0.3333333333333333,\"#9c179e\"],[0.4444444444444444,\"#bd3786\"],[0.5555555555555556,\"#d8576b\"],[0.6666666666666666,\"#ed7953\"],[0.7777777777777778,\"#fb9f3a\"],[0.8888888888888888,\"#fdca26\"],[1.0,\"#f0f921\"]],\"sequentialminus\":[[0.0,\"#0d0887\"],[0.1111111111111111,\"#46039f\"],[0.2222222222222222,\"#7201a8\"],[0.3333333333333333,\"#9c179e\"],[0.4444444444444444,\"#bd3786\"],[0.5555555555555556,\"#d8576b\"],[0.6666666666666666,\"#ed7953\"],[0.7777777777777778,\"#fb9f3a\"],[0.8888888888888888,\"#fdca26\"],[1.0,\"#f0f921\"]],\"diverging\":[[0,\"#8e0152\"],[0.1,\"#c51b7d\"],[0.2,\"#de77ae\"],[0.3,\"#f1b6da\"],[0.4,\"#fde0ef\"],[0.5,\"#f7f7f7\"],[0.6,\"#e6f5d0\"],[0.7,\"#b8e186\"],[0.8,\"#7fbc41\"],[0.9,\"#4d9221\"],[1,\"#276419\"]]},\"xaxis\":{\"gridcolor\":\"#EBF0F8\",\"linecolor\":\"#EBF0F8\",\"ticks\":\"\",\"title\":{\"standoff\":15},\"zerolinecolor\":\"#EBF0F8\",\"automargin\":true,\"zerolinewidth\":2},\"yaxis\":{\"gridcolor\":\"#EBF0F8\",\"linecolor\":\"#EBF0F8\",\"ticks\":\"\",\"title\":{\"standoff\":15},\"zerolinecolor\":\"#EBF0F8\",\"automargin\":true,\"zerolinewidth\":2},\"scene\":{\"xaxis\":{\"backgroundcolor\":\"white\",\"gridcolor\":\"#DFE8F3\",\"linecolor\":\"#EBF0F8\",\"showbackground\":true,\"ticks\":\"\",\"zerolinecolor\":\"#EBF0F8\",\"gridwidth\":2},\"yaxis\":{\"backgroundcolor\":\"white\",\"gridcolor\":\"#DFE8F3\",\"linecolor\":\"#EBF0F8\",\"showbackground\":true,\"ticks\":\"\",\"zerolinecolor\":\"#EBF0F8\",\"gridwidth\":2},\"zaxis\":{\"backgroundcolor\":\"white\",\"gridcolor\":\"#DFE8F3\",\"linecolor\":\"#EBF0F8\",\"showbackground\":true,\"ticks\":\"\",\"zerolinecolor\":\"#EBF0F8\",\"gridwidth\":2}},\"shapedefaults\":{\"line\":{\"color\":\"#2a3f5f\"}},\"annotationdefaults\":{\"arrowcolor\":\"#2a3f5f\",\"arrowhead\":0,\"arrowwidth\":1},\"geo\":{\"bgcolor\":\"white\",\"landcolor\":\"white\",\"subunitcolor\":\"#C8D4E3\",\"showland\":true,\"showlakes\":true,\"lakecolor\":\"white\"},\"title\":{\"x\":0.05},\"mapbox\":{\"style\":\"light\"}}},\"xaxis\":{\"anchor\":\"y\",\"domain\":[0.0,1.0],\"title\":{\"text\":\"type\"}},\"yaxis\":{\"anchor\":\"x\",\"domain\":[0.0,1.0],\"title\":{\"text\":\"count\"}},\"legend\":{\"title\":{\"text\":\"data_source\"},\"tracegroupgap\":0},\"margin\":{\"t\":60},\"barmode\":\"relative\"},                        {\"responsive\": true}                    ).then(function(){\n",
       "                            \n",
       "var gd = document.getElementById('635c3b1b-40f7-437f-86bb-fda7aaf24f16');\n",
       "var x = new MutationObserver(function (mutations, observer) {{\n",
       "        var display = window.getComputedStyle(gd).display;\n",
       "        if (!display || display === 'none') {{\n",
       "            console.log([gd, 'removed!']);\n",
       "            Plotly.purge(gd);\n",
       "            observer.disconnect();\n",
       "        }}\n",
       "}});\n",
       "\n",
       "// Listen for the removal of the full notebook cells\n",
       "var notebookContainer = gd.closest('#notebook-container');\n",
       "if (notebookContainer) {{\n",
       "    x.observe(notebookContainer, {childList: true});\n",
       "}}\n",
       "\n",
       "// Listen for the clearing of the current output cell\n",
       "var outputEl = gd.closest('.output');\n",
       "if (outputEl) {{\n",
       "    x.observe(outputEl, {childList: true});\n",
       "}}\n",
       "\n",
       "                        })                };                });            </script>        </div>"
      ]
     },
     "metadata": {},
     "output_type": "display_data"
    }
   ],
   "source": [
    "_df1 = df_kaggle['type'].value_counts().to_frame().reset_index().assign(data_source = 'kaggle')\n",
    "_df2 = df_gpt['type'].value_counts().reset_index().assign(data_source = 'ChatGPT')\n",
    "tidydata = pd.concat([_df1,_df2]).reset_index(drop=True)\n",
    "px.bar(\n",
    "    tidydata,\n",
    "    x='type',\n",
    "    y='count',\n",
    "    color='data_source',\n",
    ")"
   ]
  },
  {
   "cell_type": "markdown",
   "id": "04674519-ad45-46ea-8534-71e776399b89",
   "metadata": {},
   "source": [
    "`-` 조사 "
   ]
  },
  {
   "cell_type": "markdown",
   "id": "46fada49-fc88-4020-88f8-a920bacebb43",
   "metadata": {},
   "source": [
    "**원래자료** "
   ]
  },
  {
   "cell_type": "code",
   "execution_count": 62,
   "id": "c254b698-c573-4ce0-bfcf-1bc4ebbbabd7",
   "metadata": {
    "tags": []
   },
   "outputs": [
    {
     "data": {
      "text/plain": [
       "{'ESTP': 251, 'ESFP': 243, 'ESFJ': 340, 'ESTJ': 525}"
      ]
     },
     "execution_count": 62,
     "metadata": {},
     "output_type": "execute_result"
    }
   ],
   "source": [
    "{'ESTP':162+89,'ESFP':195+48,'ESFJ':298+42,'ESTJ':486+39}"
   ]
  },
  {
   "cell_type": "markdown",
   "id": "53e491a0-b790-46ab-8e4f-bba19bbd7b0b",
   "metadata": {},
   "source": [
    "**총 숫자를 맞춘다면** "
   ]
  },
  {
   "cell_type": "code",
   "execution_count": 63,
   "id": "dd82ae3a-542f-41f6-b389-3f5387862488",
   "metadata": {
    "tags": []
   },
   "outputs": [
    {
     "data": {
      "text/plain": [
       "{'ESTP': 240, 'ESFP': 240, 'ESFJ': 240, 'ESTJ': 240}"
      ]
     },
     "execution_count": 63,
     "metadata": {},
     "output_type": "execute_result"
    }
   ],
   "source": [
    "{'ESTP':151+89,'ESFP':192+48,'ESFJ':198+42,'ESTJ':201+39}"
   ]
  },
  {
   "cell_type": "markdown",
   "id": "b5376fb8-b14e-4e45-a217-915fa4d95068",
   "metadata": {},
   "source": [
    "**train data의 숫자를 맞춘다면**"
   ]
  },
  {
   "cell_type": "code",
   "execution_count": 64,
   "id": "87281d7c-34a9-4181-bee9-d34ac33c131c",
   "metadata": {
    "tags": []
   },
   "outputs": [
    {
     "data": {
      "text/plain": [
       "{'ESTP': 200, 'ESFP': 200, 'ESFJ': 200, 'ESTJ': 200}"
      ]
     },
     "execution_count": 64,
     "metadata": {},
     "output_type": "execute_result"
    }
   ],
   "source": [
    "{'ESTP':155+45,'ESFP':176+24,'ESFJ':179+21,'ESTJ':181+19}"
   ]
  },
  {
   "cell_type": "markdown",
   "id": "9024e223-9de1-471c-aa5b-b28b824b784e",
   "metadata": {},
   "source": [
    "`-` df_gpt를 나누자.. "
   ]
  },
  {
   "cell_type": "code",
   "execution_count": 65,
   "id": "e474fee0-4e3b-43d3-806a-645ec08aa74f",
   "metadata": {
    "tags": []
   },
   "outputs": [],
   "source": [
    "df_gpt_ENFJ = df_gpt[df_gpt['type'] == 'ENFJ'][:160] \n",
    "#---#\n",
    "df_gpt_ESTP = df_gpt[df_gpt['type'] == 'ESTP'][:155]\n",
    "df_gpt_ESFP = df_gpt[df_gpt['type'] == 'ESFP'][:176]\n",
    "df_gpt_ESFJ = df_gpt[df_gpt['type'] == 'ESFJ'][:179]\n",
    "df_gpt_ESTJ = df_gpt[df_gpt['type'] == 'ESTJ'][:181]"
   ]
  },
  {
   "cell_type": "code",
   "execution_count": 66,
   "id": "1a55e245-c14f-477d-b3a8-4ba8d656baab",
   "metadata": {
    "tags": []
   },
   "outputs": [],
   "source": [
    "df_trains_dct = dict()\n",
    "df_tests_dct = dict()"
   ]
  },
  {
   "cell_type": "markdown",
   "id": "5ed549e7-d81c-451e-a676-2bb4d29a6189",
   "metadata": {},
   "source": [
    "# 3. 실험1 -- 셋팅"
   ]
  },
  {
   "cell_type": "markdown",
   "id": "7d014c4e-b313-4a6b-b83b-f3a64d5d0a33",
   "metadata": {},
   "source": [
    "**시나리오1**"
   ]
  },
  {
   "cell_type": "code",
   "execution_count": 67,
   "id": "373a080f-b85a-4fb0-83d4-26f19bfc4a45",
   "metadata": {
    "tags": []
   },
   "outputs": [],
   "source": [
    "df_train = df_kaggle[::2].reset_index(drop=True)\n",
    "df_test = df_kaggle[1::2].reset_index(drop=True)\n",
    "df_trains_dct['실험1/시나리오1'] = df_train \n",
    "df_tests_dct['실험1/시나리오1'] = df_test \n",
    "#---#\n",
    "_train = df_train['type'].value_counts().reset_index().assign(DataType = 'Train')\n",
    "_test = df_test['type'].value_counts().reset_index().assign(DataType = 'Test')\n",
    "tidydata = pd.concat([_train,_test]).reset_index(drop=True)\n",
    "tidydata.to_csv(\"정리된자료(csv)/tidydata_실험1시나리오1.csv\",index=False)"
   ]
  },
  {
   "cell_type": "markdown",
   "id": "b3aa1b23-85c5-4bbb-968b-cd83bc178476",
   "metadata": {},
   "source": [
    "**시나리오2**"
   ]
  },
  {
   "cell_type": "code",
   "execution_count": 68,
   "id": "d4bdd74c-3eec-4060-b128-be5061a35a25",
   "metadata": {
    "tags": []
   },
   "outputs": [],
   "source": [
    "df_train = pd.concat([\n",
    "    df_kaggle[::2],\n",
    "    df_gpt_ESTP,\n",
    "    df_gpt_ESFP,\n",
    "    df_gpt_ESFJ,\n",
    "    df_gpt_ESTJ,\n",
    "]).reset_index(drop=True)\n",
    "df_test = df_kaggle[1::2].reset_index(drop=True)\n",
    "df_trains_dct['실험1/시나리오2'] = df_train \n",
    "df_tests_dct['실험1/시나리오2'] = df_test \n",
    "#---#\n",
    "n = len(df_kaggle[::2])\n",
    "_df1 = df_train[:n]['type'].value_counts().reset_index().assign(Source='Kaggle')\n",
    "_df2 = df_train[n:]['type'].value_counts().reset_index().assign(Source='ChatGpt')\n",
    "_train = pd.concat([_df1,_df2],axis=0).reset_index(drop=True).assign(DataType = 'Train')\n",
    "_test = df_test['type'].value_counts().reset_index().assign(DataType = 'Test',Source='Kaggle')\n",
    "tidydata = pd.concat([_train,_test]).reset_index(drop=True).assign(col = lambda df: df.Source.map({'Kaggle':0,'ChatGPT':1}))\n",
    "tidydata.to_csv(\"정리된자료(csv)/tidydata_실험1시나리오2.csv\",index=False)"
   ]
  },
  {
   "cell_type": "markdown",
   "id": "109d8e8e-3a13-4504-b51b-c62dec659f05",
   "metadata": {},
   "source": [
    "# 4. 실험2 -- 셋팅"
   ]
  },
  {
   "cell_type": "code",
   "execution_count": 69,
   "id": "ad9631cf-4e97-4805-b7bf-23a6ce46dfce",
   "metadata": {
    "tags": []
   },
   "outputs": [
    {
     "name": "stdout",
     "output_type": "stream",
     "text": [
      "df_kaggle에는 ENFJ가 190명 있음\n",
      "df_gpt에는 ENFJ가 164명 있음\n"
     ]
    }
   ],
   "source": [
    "print(f\"df_kaggle에는 ENFJ가 {(df_kaggle['type'] == 'ENFJ').sum()}명 있음\")\n",
    "print(f\"df_gpt에는 ENFJ가 {(df_gpt['type'] == 'ENFJ').sum()}명 있음\")"
   ]
  },
  {
   "cell_type": "code",
   "execution_count": 70,
   "id": "655cdb57-5bf2-4630-a4d3-e3999c93d58b",
   "metadata": {
    "tags": []
   },
   "outputs": [],
   "source": [
    "generate_experiment2(train_size=1,test_size=30,added_n=0,experiments_index='실험2/시나리오0')\n",
    "generate_experiment2(train_size=1,test_size=30,added_n=40,experiments_index='실험2/시나리오1')\n",
    "generate_experiment2(train_size=1,test_size=30,added_n=80,experiments_index='실험2/시나리오2')\n",
    "generate_experiment2(train_size=1,test_size=30,added_n=120,experiments_index='실험2/시나리오3')\n",
    "generate_experiment2(train_size=1,test_size=30,added_n=159,experiments_index='실험2/시나리오4')"
   ]
  },
  {
   "cell_type": "markdown",
   "id": "b028d2dd-2e59-43eb-b5c1-20440db69434",
   "metadata": {},
   "source": [
    "# 5. 실험3 -- 셋팅"
   ]
  },
  {
   "cell_type": "code",
   "execution_count": 87,
   "id": "2cab0136-75d8-4fe2-a230-e8faf87c3d2a",
   "metadata": {
    "tags": []
   },
   "outputs": [
    {
     "name": "stdout",
     "output_type": "stream",
     "text": [
      "df_kaggle에는 ENFJ가 190명 있음\n",
      "df_gpt에는 ENFJ가 164명 있음\n"
     ]
    }
   ],
   "source": [
    "print(f\"df_kaggle에는 ENFJ가 {(df_kaggle['type'] == 'ENFJ').sum()}명 있음\")\n",
    "print(f\"df_gpt에는 ENFJ가 {(df_gpt['type'] == 'ENFJ').sum()}명 있음\")"
   ]
  },
  {
   "cell_type": "code",
   "execution_count": 88,
   "id": "a25bda7c-4225-43ba-b44e-83aaa88223b6",
   "metadata": {
    "tags": []
   },
   "outputs": [],
   "source": [
    "generate_experiment3(train_size=1,test_size=40,added_n=0,experiments_index='실험3/시나리오0')\n",
    "generate_experiment3(train_size=1,test_size=40,added_n=20,experiments_index='실험3/시나리오1')\n",
    "generate_experiment3(train_size=1,test_size=40,added_n=40,experiments_index='실험3/시나리오2')\n",
    "generate_experiment3(train_size=1,test_size=40,added_n=60,experiments_index='실험3/시나리오3')\n",
    "generate_experiment3(train_size=1,test_size=40,added_n=80,experiments_index='실험3/시나리오4')\n",
    "generate_experiment3(train_size=1,test_size=40,added_n=100,experiments_index='실험3/시나리오5')\n",
    "generate_experiment3(train_size=1,test_size=40,added_n=120,experiments_index='실험3/시나리오6')\n",
    "generate_experiment3(train_size=1,test_size=40,added_n=140,experiments_index='실험3/시나리오7')"
   ]
  },
  {
   "cell_type": "code",
   "execution_count": 92,
   "id": "35ea86e5-cf7e-4a2d-ba05-b73aad1c14f9",
   "metadata": {
    "tags": []
   },
   "outputs": [
    {
     "data": {
      "text/plain": [
       "type\n",
       "INTP    652\n",
       "ISTP    168\n",
       "ISFP    135\n",
       "ISTJ    103\n",
       "ESTP     45\n",
       "ENFJ     21\n",
       "Name: count, dtype: int64"
      ]
     },
     "execution_count": 92,
     "metadata": {},
     "output_type": "execute_result"
    }
   ],
   "source": [
    "df_trains_dct['실험3/시나리오1a']['type'].value_counts()"
   ]
  },
  {
   "cell_type": "markdown",
   "id": "109442bd-9380-4ac3-bc51-e73313e36206",
   "metadata": {},
   "source": [
    "# 4. 실험셋팅 저장 "
   ]
  },
  {
   "cell_type": "code",
   "execution_count": 73,
   "id": "0a892571-c5f0-4425-b808-14ca834377a9",
   "metadata": {
    "tags": []
   },
   "outputs": [
    {
     "data": {
      "text/plain": [
       "dict_keys(['실험1/시나리오1', '실험1/시나리오2', '실험2/시나리오0a', '실험2/시나리오0b', '실험2/시나리오0c', '실험2/시나리오1a', '실험2/시나리오1b', '실험2/시나리오1c', '실험2/시나리오2a', '실험2/시나리오2b', '실험2/시나리오2c', '실험2/시나리오3a', '실험2/시나리오3b', '실험2/시나리오3c', '실험2/시나리오4a', '실험2/시나리오4b', '실험2/시나리오4c', '실험3/시나리오0a', '실험3/시나리오0b', '실험3/시나리오1a', '실험3/시나리오1b', '실험3/시나리오2a', '실험3/시나리오2b', '실험3/시나리오3a', '실험3/시나리오3b', '실험3/시나리오4a', '실험3/시나리오4b', '실험3/시나리오5a', '실험3/시나리오5b', '실험3/시나리오6a', '실험3/시나리오6b', '실험3/시나리오7a', '실험3/시나리오7b'])"
      ]
     },
     "execution_count": 73,
     "metadata": {},
     "output_type": "execute_result"
    }
   ],
   "source": [
    "df_trains_dct.keys()"
   ]
  },
  {
   "cell_type": "code",
   "execution_count": 74,
   "id": "1d708431-fe64-4299-be31-13507df74eb3",
   "metadata": {
    "tags": []
   },
   "outputs": [],
   "source": [
    "!rm -rf 실험셋업\n",
    "![ -d \"실험셋업\" ] || mkdir \"실험셋업\"\n",
    "with open(file='실험셋업/df_trains_dct.pickle', mode='wb') as f:\n",
    "    pickle.dump(obj=df_trains_dct,file=f)    \n",
    "with open(file='실험셋업/df_tests_dct.pickle', mode='wb') as f:\n",
    "    pickle.dump(obj=df_tests_dct,file=f)        "
   ]
  }
 ],
 "metadata": {
  "kernelspec": {
   "display_name": "Python 3 (ipykernel)",
   "language": "python",
   "name": "python3"
  },
  "language_info": {
   "codemirror_mode": {
    "name": "ipython",
    "version": 3
   },
   "file_extension": ".py",
   "mimetype": "text/x-python",
   "name": "python",
   "nbconvert_exporter": "python",
   "pygments_lexer": "ipython3",
   "version": "3.10.13"
  }
 },
 "nbformat": 4,
 "nbformat_minor": 5
}
