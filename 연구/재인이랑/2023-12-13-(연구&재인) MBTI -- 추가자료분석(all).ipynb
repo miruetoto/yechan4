{
 "cells": [
  {
   "cell_type": "raw",
   "id": "40971bfc-2800-4c80-bd1d-e717837e96ce",
   "metadata": {},
   "source": [
    "---\n",
    "title: \"(연구&재인) MBTI -- 추가자료분석 (all)\"\n",
    "author: \"신록예찬\"\n",
    "date: \"12/13/2023\"\n",
    "---"
   ]
  },
  {
   "cell_type": "markdown",
   "id": "d364dd84-161d-481e-bfc8-f9154abd5b6c",
   "metadata": {
    "tags": []
   },
   "source": [
    "# 1. Imports "
   ]
  },
  {
   "cell_type": "code",
   "execution_count": 1,
   "id": "639ade2e-45c7-4812-acd5-8e9cf9eea1aa",
   "metadata": {
    "tags": []
   },
   "outputs": [
    {
     "name": "stderr",
     "output_type": "stream",
     "text": [
      "/root/anaconda3/envs/ag/lib/python3.10/site-packages/tqdm/auto.py:21: TqdmWarning: IProgress not found. Please update jupyter and ipywidgets. See https://ipywidgets.readthedocs.io/en/stable/user_install.html\n",
      "  from .autonotebook import tqdm as notebook_tqdm\n"
     ]
    }
   ],
   "source": [
    "import pandas as pd\n",
    "import sklearn.model_selection\n",
    "import sklearn.metrics\n",
    "from autogluon.multimodal import MultiModalPredictor\n",
    "from autogluon.tabular import TabularPredictor"
   ]
  },
  {
   "cell_type": "markdown",
   "id": "e80eaab2-a3e7-4af3-8a8a-688fdc598095",
   "metadata": {},
   "source": [
    "# 2. Data"
   ]
  },
  {
   "cell_type": "code",
   "execution_count": 5,
   "id": "c849610d-ad44-4329-bce7-b289eba195b1",
   "metadata": {
    "tags": []
   },
   "outputs": [],
   "source": [
    "df = pd.read_csv('mbti_1.csv')\n",
    "df_train, df_test = sklearn.model_selection.train_test_split(df,test_size=0.5,random_state=42)"
   ]
  },
  {
   "cell_type": "code",
   "execution_count": 6,
   "id": "ea0ceee9-5b7c-488b-893e-a501e0648405",
   "metadata": {
    "tags": []
   },
   "outputs": [],
   "source": [
    "labels = list(set(df_train.type))"
   ]
  },
  {
   "cell_type": "code",
   "execution_count": 7,
   "id": "50d2a4ad-a29a-4a7b-a0cf-5ac1137c161c",
   "metadata": {
    "tags": []
   },
   "outputs": [],
   "source": [
    "df_additinal = pd.read_csv('MBTI.csv')\n",
    "df_additinal2= df_additinal.copy()[429:]"
   ]
  },
  {
   "cell_type": "code",
   "execution_count": 112,
   "id": "80212529-aef7-4a51-b01a-d2c360bfdc41",
   "metadata": {
    "tags": []
   },
   "outputs": [
    {
     "data": {
      "text/plain": [
       "type\n",
       "ESTJ    372\n",
       "ESFJ    194\n",
       "ENFJ    164\n",
       "ESFP     91\n",
       "ESTP     57\n",
       "ISFJ     32\n",
       "ENFP      3\n",
       "Name: count, dtype: int64"
      ]
     },
     "execution_count": 112,
     "metadata": {},
     "output_type": "execute_result"
    }
   ],
   "source": [
    "df_additinal2['type'].value_counts()"
   ]
  },
  {
   "cell_type": "code",
   "execution_count": 114,
   "id": "ca9ff63b-2687-4e1c-a01f-72ce7373d3cb",
   "metadata": {
    "tags": []
   },
   "outputs": [],
   "source": [
    "for i,post in enumerate(df_additinal['posts']):\n",
    "    for label in labels:\n",
    "        if label in post: \n",
    "            df_additinal['posts'][i] = post.replace(label,'')"
   ]
  },
  {
   "cell_type": "code",
   "execution_count": 115,
   "id": "9ba56214-d885-43d6-8039-c510e49fb44b",
   "metadata": {
    "tags": []
   },
   "outputs": [],
   "source": [
    "df_train2 = pd.concat([df_train,df_additinal],axis=0).reset_index(drop=True)"
   ]
  },
  {
   "cell_type": "code",
   "execution_count": 116,
   "id": "5865fc9a-12e3-46f2-9e84-c5d2171db2b8",
   "metadata": {
    "tags": []
   },
   "outputs": [
    {
     "data": {
      "text/html": [
       "<div>\n",
       "<style scoped>\n",
       "    .dataframe tbody tr th:only-of-type {\n",
       "        vertical-align: middle;\n",
       "    }\n",
       "\n",
       "    .dataframe tbody tr th {\n",
       "        vertical-align: top;\n",
       "    }\n",
       "\n",
       "    .dataframe thead th {\n",
       "        text-align: right;\n",
       "    }\n",
       "</style>\n",
       "<table border=\"1\" class=\"dataframe\">\n",
       "  <thead>\n",
       "    <tr style=\"text-align: right;\">\n",
       "      <th></th>\n",
       "      <th>type</th>\n",
       "      <th>posts</th>\n",
       "    </tr>\n",
       "  </thead>\n",
       "  <tbody>\n",
       "    <tr>\n",
       "      <th>0</th>\n",
       "      <td>INFP</td>\n",
       "      <td>I feel trapped by what people around me think of me.   On one hand the way I react and live is based off my interactions with people. And know that I have people who know me or at least feel they...|||I never get it when people tell me they would have needed to be on acid to enjoy some sort of psychedelic concert. If an experience is intense enough to give the appearance of being on drugs why...|||55317  This is me...very tired, in my favorite sweater.   I have such a love for good sweaters.|||Thank you all for the responses and the honesty in them. The advice you've given is quite sound. ...</td>\n",
       "    </tr>\n",
       "    <tr>\n",
       "      <th>1</th>\n",
       "      <td>ENTP</td>\n",
       "      <td>'http://www.youtube.com/watch?v=xQ04WbgI9rg&amp;ob=av2e   http://www.youtube.com/watch?v=gGdGFtwCNBE&amp;ob=av3e   http://www.youtube.com/watch?v=gH2efAcmBQM&amp;ob=av3e  ...|||What we did is inform each other what our love languages were, and both of our primaries are physical touch. So hugs, cuddling, hand holding, all that cute-sy crap that couples do... we're big on...|||I am currently dating an INTJ.   Objectively, she is the most compatible woman for me from all of my relationships heretofore. This was an observation by both of us (eventually) and all of our...|||Quite, actually. It keeps us ali...</td>\n",
       "    </tr>\n",
       "    <tr>\n",
       "      <th>2</th>\n",
       "      <td>INFP</td>\n",
       "      <td>'No, no, and no. In my opinion. I believe the adage you have to hit your kids sometimes is really just totally wrong. There are plenty of ways to discipline children that do not involve physical...|||It does kinda sound like she's using you to an extent. Don't do anything for her that you don't want to do. That's not what friendship is about. Sounds like she tries to guilt you into doing stuff...|||Hey, I never said I was making an attempt to be wholly logical in my response. :P As for your comparison, it actually is kind of like that. I'll consider the emotional reactions to all of my pos...</td>\n",
       "    </tr>\n",
       "    <tr>\n",
       "      <th>3</th>\n",
       "      <td>INFP</td>\n",
       "      <td>'Hey! It seems like you have a great foundation and the fact that you have passion for you what you do is HUGE! Passion will take you farther then any skill set will and you can always learn skills...|||I would say there has been 3 time frames in my life that I was pretty depressed. They are never for a long time but they were pretty low points. They could be fluctuating but I always come out of it...|||I have not been on perc in forever and my heart melted when I saw all the responses I got. I appreciate you taking the time to write back. I'm doing much better. Much love and Thanks.|||It'...</td>\n",
       "    </tr>\n",
       "    <tr>\n",
       "      <th>4</th>\n",
       "      <td>ENTP</td>\n",
       "      <td>'Hahahaha, you guys are hilarious. I suppose I should do that, I don't quite understand myself all too well anywho. As to the, 'Making stuff up as you go that happens to be correct/make sense, I...|||After taking about a dozen personality tests over the course of about two months I came to the conclusion of being an INTP, although unwillingly. A few things stood out to me that I didn't agree...|||Nothing too fancy My dream goal is pretty simple (not necessarily to achieve). I want a family, and a good earning to live comfortably. I'd like money to not be an issue, so I can treat my family....</td>\n",
       "    </tr>\n",
       "    <tr>\n",
       "      <th>...</th>\n",
       "      <td>...</td>\n",
       "      <td>...</td>\n",
       "    </tr>\n",
       "    <tr>\n",
       "      <th>5674</th>\n",
       "      <td>ESFP</td>\n",
       "      <td>Today, I dove into the realm of art. A canvas, a palette of colors, and a surge of creativity - it was time to unleash the artist within.\\nMy morning began with a visit to a local art studio. Surrounded by fellow artists, the space buzzed with creative energy. I picked up a brush and let my imagination flow onto the canvas.\\nAs the day unfolded, I found a peaceful corner in a park to continue my artistic journey. Nature itself became my muse.\\nLunch was a quaint affair in a charming café. A warm cup of tea and a slice of homemade pie - a treat for the taste buds.\\nThe afternoon was dedicat...</td>\n",
       "    </tr>\n",
       "    <tr>\n",
       "      <th>5675</th>\n",
       "      <td>ESFP</td>\n",
       "      <td>In the heart of nature, I found my sanctuary today. The sun-dappled forest, the chirping birds, and the rustling leaves - a world apart from the concrete jungle.\\nMy morning commenced with a hike along a forest trail. The fresh scent of pine, the soft earth beneath my feet, and the symphony of nature - it's the ultimate therapy.\\nAs the day unfolded, I discovered a serene clearing by a crystal-clear stream. I couldn't resist taking a dip in the cool water and laying on the mossy banks, staring up at the canopy of green.\\nLunch was a simple affair, a picnic of sandwiches and fresh fruit. So...</td>\n",
       "    </tr>\n",
       "    <tr>\n",
       "      <th>5676</th>\n",
       "      <td>ENFP</td>\n",
       "      <td>As the sun sets and the evening casts its warm glow, I find solace in the simplicity of home. There's something magical about cozying up with a good book or a movie, surrounded by the familiar comforts of my space.\\nTonight, I've chosen a classic novel to accompany me on my literary journey. The characters, the plot, and the scent of the pages make it feel like I'm visiting an old friend.\\nA warm cup of herbal tea in my favorite mug completes the scene. The gentle steam, the earthy aroma, and the first sip – it's like a soothing embrace for the soul.\\nAs I lose myself in the story, I can't...</td>\n",
       "    </tr>\n",
       "    <tr>\n",
       "      <th>5677</th>\n",
       "      <td>ENFP</td>\n",
       "      <td>Today, I embarked on a book lover's dream adventure, exploring quaint and hidden bookstores in the heart of the city. Each store held its own charm, secrets waiting to be uncovered in the pages of books.\\nThe first stop was a tiny, independent bookstore tucked away in an alley. The musty scent of old books and the creaking wooden floors gave it an irresistible vintage charm.\\nI spent hours browsing through shelves, discovering rare editions and forgotten gems. There's an excitement in the hunt for the perfect book that only fellow bookworms understand.\\nEach bookstore had its own theme – f...</td>\n",
       "    </tr>\n",
       "    <tr>\n",
       "      <th>5678</th>\n",
       "      <td>ENFP</td>\n",
       "      <td>Today was a day of pure artistic indulgence. From the canvas to the camera lens, I explored the world through the eyes of an artist, capturing moments and emotions in various forms.\\nThe morning began with a blank canvas and a palette of colors. With each stroke of the brush, I lost myself in the world of abstraction, a language where emotions spoke louder than words.\\nThe afternoon took me to the heart of the city, where I explored street photography. Every corner had a story to tell, and every face had a unique expression. I was a silent observer of life's drama.\\nAs the day drew to a cl...</td>\n",
       "    </tr>\n",
       "  </tbody>\n",
       "</table>\n",
       "<p>5679 rows × 2 columns</p>\n",
       "</div>"
      ],
      "text/plain": [
       "      type  \\\n",
       "0     INFP   \n",
       "1     ENTP   \n",
       "2     INFP   \n",
       "3     INFP   \n",
       "4     ENTP   \n",
       "...    ...   \n",
       "5674  ESFP   \n",
       "5675  ESFP   \n",
       "5676  ENFP   \n",
       "5677  ENFP   \n",
       "5678  ENFP   \n",
       "\n",
       "                                                                                                                                                                                                                                                                                                                                                                                                                                                                                                                                                                                                                        posts  \n",
       "0     I feel trapped by what people around me think of me.   On one hand the way I react and live is based off my interactions with people. And know that I have people who know me or at least feel they...|||I never get it when people tell me they would have needed to be on acid to enjoy some sort of psychedelic concert. If an experience is intense enough to give the appearance of being on drugs why...|||55317  This is me...very tired, in my favorite sweater.   I have such a love for good sweaters.|||Thank you all for the responses and the honesty in them. The advice you've given is quite sound. ...  \n",
       "1     'http://www.youtube.com/watch?v=xQ04WbgI9rg&ob=av2e   http://www.youtube.com/watch?v=gGdGFtwCNBE&ob=av3e   http://www.youtube.com/watch?v=gH2efAcmBQM&ob=av3e  ...|||What we did is inform each other what our love languages were, and both of our primaries are physical touch. So hugs, cuddling, hand holding, all that cute-sy crap that couples do... we're big on...|||I am currently dating an INTJ.   Objectively, she is the most compatible woman for me from all of my relationships heretofore. This was an observation by both of us (eventually) and all of our...|||Quite, actually. It keeps us ali...  \n",
       "2     'No, no, and no. In my opinion. I believe the adage you have to hit your kids sometimes is really just totally wrong. There are plenty of ways to discipline children that do not involve physical...|||It does kinda sound like she's using you to an extent. Don't do anything for her that you don't want to do. That's not what friendship is about. Sounds like she tries to guilt you into doing stuff...|||Hey, I never said I was making an attempt to be wholly logical in my response. :P As for your comparison, it actually is kind of like that. I'll consider the emotional reactions to all of my pos...  \n",
       "3     'Hey! It seems like you have a great foundation and the fact that you have passion for you what you do is HUGE! Passion will take you farther then any skill set will and you can always learn skills...|||I would say there has been 3 time frames in my life that I was pretty depressed. They are never for a long time but they were pretty low points. They could be fluctuating but I always come out of it...|||I have not been on perc in forever and my heart melted when I saw all the responses I got. I appreciate you taking the time to write back. I'm doing much better. Much love and Thanks.|||It'...  \n",
       "4     'Hahahaha, you guys are hilarious. I suppose I should do that, I don't quite understand myself all too well anywho. As to the, 'Making stuff up as you go that happens to be correct/make sense, I...|||After taking about a dozen personality tests over the course of about two months I came to the conclusion of being an INTP, although unwillingly. A few things stood out to me that I didn't agree...|||Nothing too fancy My dream goal is pretty simple (not necessarily to achieve). I want a family, and a good earning to live comfortably. I'd like money to not be an issue, so I can treat my family....  \n",
       "...                                                                                                                                                                                                                                                                                                                                                                                                                                                                                                                                                                                                                       ...  \n",
       "5674  Today, I dove into the realm of art. A canvas, a palette of colors, and a surge of creativity - it was time to unleash the artist within.\\nMy morning began with a visit to a local art studio. Surrounded by fellow artists, the space buzzed with creative energy. I picked up a brush and let my imagination flow onto the canvas.\\nAs the day unfolded, I found a peaceful corner in a park to continue my artistic journey. Nature itself became my muse.\\nLunch was a quaint affair in a charming café. A warm cup of tea and a slice of homemade pie - a treat for the taste buds.\\nThe afternoon was dedicat...  \n",
       "5675  In the heart of nature, I found my sanctuary today. The sun-dappled forest, the chirping birds, and the rustling leaves - a world apart from the concrete jungle.\\nMy morning commenced with a hike along a forest trail. The fresh scent of pine, the soft earth beneath my feet, and the symphony of nature - it's the ultimate therapy.\\nAs the day unfolded, I discovered a serene clearing by a crystal-clear stream. I couldn't resist taking a dip in the cool water and laying on the mossy banks, staring up at the canopy of green.\\nLunch was a simple affair, a picnic of sandwiches and fresh fruit. So...  \n",
       "5676  As the sun sets and the evening casts its warm glow, I find solace in the simplicity of home. There's something magical about cozying up with a good book or a movie, surrounded by the familiar comforts of my space.\\nTonight, I've chosen a classic novel to accompany me on my literary journey. The characters, the plot, and the scent of the pages make it feel like I'm visiting an old friend.\\nA warm cup of herbal tea in my favorite mug completes the scene. The gentle steam, the earthy aroma, and the first sip – it's like a soothing embrace for the soul.\\nAs I lose myself in the story, I can't...  \n",
       "5677  Today, I embarked on a book lover's dream adventure, exploring quaint and hidden bookstores in the heart of the city. Each store held its own charm, secrets waiting to be uncovered in the pages of books.\\nThe first stop was a tiny, independent bookstore tucked away in an alley. The musty scent of old books and the creaking wooden floors gave it an irresistible vintage charm.\\nI spent hours browsing through shelves, discovering rare editions and forgotten gems. There's an excitement in the hunt for the perfect book that only fellow bookworms understand.\\nEach bookstore had its own theme – f...  \n",
       "5678  Today was a day of pure artistic indulgence. From the canvas to the camera lens, I explored the world through the eyes of an artist, capturing moments and emotions in various forms.\\nThe morning began with a blank canvas and a palette of colors. With each stroke of the brush, I lost myself in the world of abstraction, a language where emotions spoke louder than words.\\nThe afternoon took me to the heart of the city, where I explored street photography. Every corner had a story to tell, and every face had a unique expression. I was a silent observer of life's drama.\\nAs the day drew to a cl...  \n",
       "\n",
       "[5679 rows x 2 columns]"
      ]
     },
     "execution_count": 116,
     "metadata": {},
     "output_type": "execute_result"
    }
   ],
   "source": [
    "df_train2"
   ]
  },
  {
   "cell_type": "markdown",
   "id": "997ac764-9608-4037-9cc1-75e46d00c5c4",
   "metadata": {},
   "source": [
    "# 3. Tabular "
   ]
  },
  {
   "cell_type": "code",
   "execution_count": 117,
   "id": "af0c12df-a563-4c5a-a86a-b8be8270219b",
   "metadata": {
    "tags": []
   },
   "outputs": [
    {
     "name": "stderr",
     "output_type": "stream",
     "text": [
      "No path specified. Models will be saved in: \"AutogluonModels/ag-20231214_011537\"\n",
      "No presets specified! To achieve strong results with AutoGluon, it is recommended to use the available presets.\n",
      "\tRecommended Presets (For more details refer to https://auto.gluon.ai/stable/tutorials/tabular/tabular-essentials.html#presets):\n",
      "\tpresets='best_quality'   : Maximize accuracy. Default time_limit=3600.\n",
      "\tpresets='high_quality'   : Strong accuracy with fast inference speed. Default time_limit=3600.\n",
      "\tpresets='good_quality'   : Good accuracy with very fast inference speed. Default time_limit=3600.\n",
      "\tpresets='medium_quality' : Fast training time, ideal for initial prototyping.\n",
      "Beginning AutoGluon training ...\n",
      "AutoGluon will save models to \"AutogluonModels/ag-20231214_011537\"\n",
      "=================== System Info ===================\n",
      "AutoGluon Version:  1.0.0\n",
      "Python Version:     3.10.13\n",
      "Operating System:   Linux\n",
      "Platform Machine:   x86_64\n",
      "Platform Version:   #140-Ubuntu SMP Thu Aug 4 02:23:37 UTC 2022\n",
      "CPU Count:          128\n",
      "Memory Avail:       374.52 GB / 503.74 GB (74.3%)\n",
      "Disk Space Avail:   976.53 GB / 1757.88 GB (55.6%)\n",
      "===================================================\n",
      "Train Data Rows:    5679\n",
      "Train Data Columns: 1\n",
      "Label Column:       type\n",
      "AutoGluon infers your prediction problem is: 'multiclass' (because dtype of label-column == object).\n",
      "\tFirst 10 (of 22) unique label values:  ['INFP', 'ENTP', 'ENFP', 'INTP', 'INTJ', 'ENFJ', 'INFJ', 'ISFP', 'ISTJ', 'ISTP']\n",
      "\tIf 'multiclass' is not the correct problem_type, please manually specify the problem_type parameter during predictor init (You may specify problem_type as one of: ['binary', 'multiclass', 'regression'])\n",
      "Problem Type:       multiclass\n",
      "Preprocessing data ...\n",
      "Warning: Some classes in the training set have fewer than 10 examples. AutoGluon will only keep 16 out of 22 classes for training and will not try to predict the rare classes. To keep more classes, increase the number of datapoints from these rare classes in the training data or reduce label_count_threshold.\n",
      "Fraction of data from classes with at least 10 examples that will be kept for training models: 0.9984152139461173\n",
      "Train Data Class Count: 16\n",
      "Using Feature Generators to preprocess the data ...\n",
      "Fitting AutoMLPipelineFeatureGenerator...\n",
      "\tAvailable Memory:                    383556.94 MB\n",
      "\tTrain Data (Original)  Memory Usage: 45.00 MB (0.0% of available memory)\n",
      "\tInferring data type of each feature based on column values. Set feature_metadata_in to manually specify special dtypes of the features.\n",
      "\tStage 1 Generators:\n",
      "\t\tFitting AsTypeFeatureGenerator...\n",
      "\tStage 2 Generators:\n",
      "\t\tFitting FillNaFeatureGenerator...\n",
      "\tStage 3 Generators:\n",
      "\t\tFitting CategoryFeatureGenerator...\n",
      "\t\t\tFitting CategoryMemoryMinimizeFeatureGenerator...\n",
      "\t\tFitting TextSpecialFeatureGenerator...\n",
      "\t\t\tFitting BinnedFeatureGenerator...\n",
      "\t\t\tFitting DropDuplicatesFeatureGenerator...\n",
      "\t\tFitting TextNgramFeatureGenerator...\n",
      "\t\t\tFitting CountVectorizer for text features: ['posts']\n",
      "\t\t\tCountVectorizer fit with vocabulary size = 10000\n",
      "\tStage 4 Generators:\n",
      "\t\tFitting DropUniqueFeatureGenerator...\n",
      "\tStage 5 Generators:\n",
      "\t\tFitting DropDuplicatesFeatureGenerator...\n",
      "\tTypes of features in original data (raw dtype, special dtypes):\n",
      "\t\t('object', ['text']) : 1 | ['posts']\n",
      "\tTypes of features in processed data (raw dtype, special dtypes):\n",
      "\t\t('category', ['text_as_category'])  :    1 | ['posts']\n",
      "\t\t('int', ['binned', 'text_special']) :   38 | ['posts.char_count', 'posts.word_count', 'posts.capital_ratio', 'posts.lower_ratio', 'posts.digit_ratio', ...]\n",
      "\t\t('int', ['text_ngram'])             : 9970 | ['__nlp__.00', '__nlp__.000', '__nlp__.10', '__nlp__.10 years', '__nlp__.100', ...]\n",
      "\t114.2s = Fit runtime\n",
      "\t1 features in original data used to generate 10009 features in processed data.\n",
      "\tTrain Data (Processed) Memory Usage: 108.04 MB (0.0% of available memory)\n",
      "Data preprocessing and feature engineering runtime = 116.66s ...\n",
      "AutoGluon will gauge predictive performance using evaluation metric: 'accuracy'\n",
      "\tTo change this, specify the eval_metric parameter of Predictor()\n",
      "Automatically generating train/validation split with holdout_frac=0.1, Train Rows: 5103, Val Rows: 567\n",
      "User-specified model hyperparameters to be fit:\n",
      "{\n",
      "\t'NN_TORCH': {},\n",
      "\t'GBM': [{'extra_trees': True, 'ag_args': {'name_suffix': 'XT'}}, {}, 'GBMLarge'],\n",
      "\t'CAT': {},\n",
      "\t'XGB': {},\n",
      "\t'FASTAI': {},\n",
      "\t'RF': [{'criterion': 'gini', 'ag_args': {'name_suffix': 'Gini', 'problem_types': ['binary', 'multiclass']}}, {'criterion': 'entropy', 'ag_args': {'name_suffix': 'Entr', 'problem_types': ['binary', 'multiclass']}}, {'criterion': 'squared_error', 'ag_args': {'name_suffix': 'MSE', 'problem_types': ['regression', 'quantile']}}],\n",
      "\t'XT': [{'criterion': 'gini', 'ag_args': {'name_suffix': 'Gini', 'problem_types': ['binary', 'multiclass']}}, {'criterion': 'entropy', 'ag_args': {'name_suffix': 'Entr', 'problem_types': ['binary', 'multiclass']}}, {'criterion': 'squared_error', 'ag_args': {'name_suffix': 'MSE', 'problem_types': ['regression', 'quantile']}}],\n",
      "\t'KNN': [{'weights': 'uniform', 'ag_args': {'name_suffix': 'Unif'}}, {'weights': 'distance', 'ag_args': {'name_suffix': 'Dist'}}],\n",
      "}\n",
      "Fitting 13 L1 models ...\n",
      "Fitting model: KNeighborsUnif ...\n",
      "\t0.2945\t = Validation score   (accuracy)\n",
      "\t6.51s\t = Training   runtime\n",
      "\t1.36s\t = Validation runtime\n",
      "Fitting model: KNeighborsDist ...\n",
      "\t0.3298\t = Validation score   (accuracy)\n",
      "\t6.33s\t = Training   runtime\n",
      "\t1.4s\t = Validation runtime\n",
      "Fitting model: NeuralNetFastAI ...\n",
      "\t0.2892\t = Validation score   (accuracy)\n",
      "\t8.62s\t = Training   runtime\n",
      "\t0.01s\t = Validation runtime\n",
      "Fitting model: LightGBMXT ...\n",
      "\t0.7125\t = Validation score   (accuracy)\n",
      "\t169.24s\t = Training   runtime\n",
      "\t0.1s\t = Validation runtime\n",
      "Fitting model: LightGBM ...\n",
      "\t0.7037\t = Validation score   (accuracy)\n",
      "\t143.3s\t = Training   runtime\n",
      "\t0.09s\t = Validation runtime\n",
      "Fitting model: RandomForestGini ...\n",
      "\t0.5873\t = Validation score   (accuracy)\n",
      "\t12.44s\t = Training   runtime\n",
      "\t0.45s\t = Validation runtime\n",
      "Fitting model: RandomForestEntr ...\n",
      "\t0.5714\t = Validation score   (accuracy)\n",
      "\t18.51s\t = Training   runtime\n",
      "\t0.13s\t = Validation runtime\n",
      "Fitting model: CatBoost ...\n",
      "\tMany features detected (10009), dynamically setting 'colsample_bylevel' to 0.09991008092716555 to speed up training (Default = 1).\n",
      "\tTo disable this functionality, explicitly specify 'colsample_bylevel' in the model hyperparameters.\n",
      "\t0.7019\t = Validation score   (accuracy)\n",
      "\t57.55s\t = Training   runtime\n",
      "\t1.0s\t = Validation runtime\n",
      "Fitting model: ExtraTreesGini ...\n",
      "\t0.515\t = Validation score   (accuracy)\n",
      "\t12.18s\t = Training   runtime\n",
      "\t0.12s\t = Validation runtime\n",
      "Fitting model: ExtraTreesEntr ...\n",
      "\t0.4515\t = Validation score   (accuracy)\n",
      "\t12.01s\t = Training   runtime\n",
      "\t0.11s\t = Validation runtime\n",
      "Fitting model: XGBoost ...\n",
      "\t0.7143\t = Validation score   (accuracy)\n",
      "\t56.77s\t = Training   runtime\n",
      "\t0.07s\t = Validation runtime\n",
      "Fitting model: NeuralNetTorch ...\n",
      "\t0.3016\t = Validation score   (accuracy)\n",
      "\t11.84s\t = Training   runtime\n",
      "\t0.02s\t = Validation runtime\n",
      "Fitting model: LightGBMLarge ...\n",
      "\t0.7055\t = Validation score   (accuracy)\n",
      "\t273.52s\t = Training   runtime\n",
      "\t0.08s\t = Validation runtime\n",
      "Fitting model: WeightedEnsemble_L2 ...\n",
      "\tEnsemble Weights: {'CatBoost': 0.571, 'LightGBMXT': 0.143, 'XGBoost': 0.143, 'NeuralNetTorch': 0.143}\n",
      "\t0.7337\t = Validation score   (accuracy)\n",
      "\t0.62s\t = Training   runtime\n",
      "\t0.0s\t = Validation runtime\n",
      "AutoGluon training complete, total runtime = 925.58s ... Best model: \"WeightedEnsemble_L2\"\n",
      "TabularPredictor saved. To load, use: predictor = TabularPredictor.load(\"AutogluonModels/ag-20231214_011537\")\n"
     ]
    },
    {
     "data": {
      "text/html": [
       "<div>\n",
       "<style scoped>\n",
       "    .dataframe tbody tr th:only-of-type {\n",
       "        vertical-align: middle;\n",
       "    }\n",
       "\n",
       "    .dataframe tbody tr th {\n",
       "        vertical-align: top;\n",
       "    }\n",
       "\n",
       "    .dataframe thead th {\n",
       "        text-align: right;\n",
       "    }\n",
       "</style>\n",
       "<table border=\"1\" class=\"dataframe\">\n",
       "  <thead>\n",
       "    <tr style=\"text-align: right;\">\n",
       "      <th></th>\n",
       "      <th>model</th>\n",
       "      <th>score_val</th>\n",
       "      <th>eval_metric</th>\n",
       "      <th>pred_time_val</th>\n",
       "      <th>fit_time</th>\n",
       "      <th>pred_time_val_marginal</th>\n",
       "      <th>fit_time_marginal</th>\n",
       "      <th>stack_level</th>\n",
       "      <th>can_infer</th>\n",
       "      <th>fit_order</th>\n",
       "    </tr>\n",
       "  </thead>\n",
       "  <tbody>\n",
       "    <tr>\n",
       "      <th>0</th>\n",
       "      <td>WeightedEnsemble_L2</td>\n",
       "      <td>0.733686</td>\n",
       "      <td>accuracy</td>\n",
       "      <td>1.190554</td>\n",
       "      <td>296.010678</td>\n",
       "      <td>0.000615</td>\n",
       "      <td>0.620404</td>\n",
       "      <td>2</td>\n",
       "      <td>True</td>\n",
       "      <td>14</td>\n",
       "    </tr>\n",
       "    <tr>\n",
       "      <th>1</th>\n",
       "      <td>XGBoost</td>\n",
       "      <td>0.714286</td>\n",
       "      <td>accuracy</td>\n",
       "      <td>0.070626</td>\n",
       "      <td>56.765352</td>\n",
       "      <td>0.070626</td>\n",
       "      <td>56.765352</td>\n",
       "      <td>1</td>\n",
       "      <td>True</td>\n",
       "      <td>11</td>\n",
       "    </tr>\n",
       "    <tr>\n",
       "      <th>2</th>\n",
       "      <td>LightGBMXT</td>\n",
       "      <td>0.712522</td>\n",
       "      <td>accuracy</td>\n",
       "      <td>0.102126</td>\n",
       "      <td>169.236619</td>\n",
       "      <td>0.102126</td>\n",
       "      <td>169.236619</td>\n",
       "      <td>1</td>\n",
       "      <td>True</td>\n",
       "      <td>4</td>\n",
       "    </tr>\n",
       "    <tr>\n",
       "      <th>3</th>\n",
       "      <td>LightGBMLarge</td>\n",
       "      <td>0.705467</td>\n",
       "      <td>accuracy</td>\n",
       "      <td>0.077333</td>\n",
       "      <td>273.520550</td>\n",
       "      <td>0.077333</td>\n",
       "      <td>273.520550</td>\n",
       "      <td>1</td>\n",
       "      <td>True</td>\n",
       "      <td>13</td>\n",
       "    </tr>\n",
       "    <tr>\n",
       "      <th>4</th>\n",
       "      <td>LightGBM</td>\n",
       "      <td>0.703704</td>\n",
       "      <td>accuracy</td>\n",
       "      <td>0.090923</td>\n",
       "      <td>143.299396</td>\n",
       "      <td>0.090923</td>\n",
       "      <td>143.299396</td>\n",
       "      <td>1</td>\n",
       "      <td>True</td>\n",
       "      <td>5</td>\n",
       "    </tr>\n",
       "    <tr>\n",
       "      <th>5</th>\n",
       "      <td>CatBoost</td>\n",
       "      <td>0.701940</td>\n",
       "      <td>accuracy</td>\n",
       "      <td>1.001522</td>\n",
       "      <td>57.553270</td>\n",
       "      <td>1.001522</td>\n",
       "      <td>57.553270</td>\n",
       "      <td>1</td>\n",
       "      <td>True</td>\n",
       "      <td>8</td>\n",
       "    </tr>\n",
       "    <tr>\n",
       "      <th>6</th>\n",
       "      <td>RandomForestGini</td>\n",
       "      <td>0.587302</td>\n",
       "      <td>accuracy</td>\n",
       "      <td>0.453024</td>\n",
       "      <td>12.436017</td>\n",
       "      <td>0.453024</td>\n",
       "      <td>12.436017</td>\n",
       "      <td>1</td>\n",
       "      <td>True</td>\n",
       "      <td>6</td>\n",
       "    </tr>\n",
       "    <tr>\n",
       "      <th>7</th>\n",
       "      <td>RandomForestEntr</td>\n",
       "      <td>0.571429</td>\n",
       "      <td>accuracy</td>\n",
       "      <td>0.127032</td>\n",
       "      <td>18.513521</td>\n",
       "      <td>0.127032</td>\n",
       "      <td>18.513521</td>\n",
       "      <td>1</td>\n",
       "      <td>True</td>\n",
       "      <td>7</td>\n",
       "    </tr>\n",
       "    <tr>\n",
       "      <th>8</th>\n",
       "      <td>ExtraTreesGini</td>\n",
       "      <td>0.514991</td>\n",
       "      <td>accuracy</td>\n",
       "      <td>0.118020</td>\n",
       "      <td>12.177610</td>\n",
       "      <td>0.118020</td>\n",
       "      <td>12.177610</td>\n",
       "      <td>1</td>\n",
       "      <td>True</td>\n",
       "      <td>9</td>\n",
       "    </tr>\n",
       "    <tr>\n",
       "      <th>9</th>\n",
       "      <td>ExtraTreesEntr</td>\n",
       "      <td>0.451499</td>\n",
       "      <td>accuracy</td>\n",
       "      <td>0.105017</td>\n",
       "      <td>12.011709</td>\n",
       "      <td>0.105017</td>\n",
       "      <td>12.011709</td>\n",
       "      <td>1</td>\n",
       "      <td>True</td>\n",
       "      <td>10</td>\n",
       "    </tr>\n",
       "    <tr>\n",
       "      <th>10</th>\n",
       "      <td>KNeighborsDist</td>\n",
       "      <td>0.329806</td>\n",
       "      <td>accuracy</td>\n",
       "      <td>1.404224</td>\n",
       "      <td>6.326862</td>\n",
       "      <td>1.404224</td>\n",
       "      <td>6.326862</td>\n",
       "      <td>1</td>\n",
       "      <td>True</td>\n",
       "      <td>2</td>\n",
       "    </tr>\n",
       "    <tr>\n",
       "      <th>11</th>\n",
       "      <td>NeuralNetTorch</td>\n",
       "      <td>0.301587</td>\n",
       "      <td>accuracy</td>\n",
       "      <td>0.015665</td>\n",
       "      <td>11.835034</td>\n",
       "      <td>0.015665</td>\n",
       "      <td>11.835034</td>\n",
       "      <td>1</td>\n",
       "      <td>True</td>\n",
       "      <td>12</td>\n",
       "    </tr>\n",
       "    <tr>\n",
       "      <th>12</th>\n",
       "      <td>KNeighborsUnif</td>\n",
       "      <td>0.294533</td>\n",
       "      <td>accuracy</td>\n",
       "      <td>1.363828</td>\n",
       "      <td>6.506021</td>\n",
       "      <td>1.363828</td>\n",
       "      <td>6.506021</td>\n",
       "      <td>1</td>\n",
       "      <td>True</td>\n",
       "      <td>1</td>\n",
       "    </tr>\n",
       "    <tr>\n",
       "      <th>13</th>\n",
       "      <td>NeuralNetFastAI</td>\n",
       "      <td>0.289242</td>\n",
       "      <td>accuracy</td>\n",
       "      <td>0.012532</td>\n",
       "      <td>8.623879</td>\n",
       "      <td>0.012532</td>\n",
       "      <td>8.623879</td>\n",
       "      <td>1</td>\n",
       "      <td>True</td>\n",
       "      <td>3</td>\n",
       "    </tr>\n",
       "  </tbody>\n",
       "</table>\n",
       "</div>"
      ],
      "text/plain": [
       "                  model  score_val eval_metric  pred_time_val    fit_time  \\\n",
       "0   WeightedEnsemble_L2   0.733686    accuracy       1.190554  296.010678   \n",
       "1               XGBoost   0.714286    accuracy       0.070626   56.765352   \n",
       "2            LightGBMXT   0.712522    accuracy       0.102126  169.236619   \n",
       "3         LightGBMLarge   0.705467    accuracy       0.077333  273.520550   \n",
       "4              LightGBM   0.703704    accuracy       0.090923  143.299396   \n",
       "5              CatBoost   0.701940    accuracy       1.001522   57.553270   \n",
       "6      RandomForestGini   0.587302    accuracy       0.453024   12.436017   \n",
       "7      RandomForestEntr   0.571429    accuracy       0.127032   18.513521   \n",
       "8        ExtraTreesGini   0.514991    accuracy       0.118020   12.177610   \n",
       "9        ExtraTreesEntr   0.451499    accuracy       0.105017   12.011709   \n",
       "10       KNeighborsDist   0.329806    accuracy       1.404224    6.326862   \n",
       "11       NeuralNetTorch   0.301587    accuracy       0.015665   11.835034   \n",
       "12       KNeighborsUnif   0.294533    accuracy       1.363828    6.506021   \n",
       "13      NeuralNetFastAI   0.289242    accuracy       0.012532    8.623879   \n",
       "\n",
       "    pred_time_val_marginal  fit_time_marginal  stack_level  can_infer  \\\n",
       "0                 0.000615           0.620404            2       True   \n",
       "1                 0.070626          56.765352            1       True   \n",
       "2                 0.102126         169.236619            1       True   \n",
       "3                 0.077333         273.520550            1       True   \n",
       "4                 0.090923         143.299396            1       True   \n",
       "5                 1.001522          57.553270            1       True   \n",
       "6                 0.453024          12.436017            1       True   \n",
       "7                 0.127032          18.513521            1       True   \n",
       "8                 0.118020          12.177610            1       True   \n",
       "9                 0.105017          12.011709            1       True   \n",
       "10                1.404224           6.326862            1       True   \n",
       "11                0.015665          11.835034            1       True   \n",
       "12                1.363828           6.506021            1       True   \n",
       "13                0.012532           8.623879            1       True   \n",
       "\n",
       "    fit_order  \n",
       "0          14  \n",
       "1          11  \n",
       "2           4  \n",
       "3          13  \n",
       "4           5  \n",
       "5           8  \n",
       "6           6  \n",
       "7           7  \n",
       "8           9  \n",
       "9          10  \n",
       "10          2  \n",
       "11         12  \n",
       "12          1  \n",
       "13          3  "
      ]
     },
     "execution_count": 117,
     "metadata": {},
     "output_type": "execute_result"
    }
   ],
   "source": [
    "predictor = TabularPredictor(label='type', eval_metric='acc')\n",
    "predictor.fit(df_train2)\n",
    "#predictor = TabularPredictor.load(\"AutogluonModels/ag-20231214_002525\")\n",
    "predictor.leaderboard()"
   ]
  },
  {
   "cell_type": "code",
   "execution_count": 118,
   "id": "f07e53ed-0f46-4132-8a4a-9d5937fac790",
   "metadata": {
    "tags": []
   },
   "outputs": [
    {
     "data": {
      "text/plain": [
       "{'accuracy': 0.6680497925311203,\n",
       " 'balanced_accuracy': 0.4269238301463123,\n",
       " 'mcc': 0.6136189980032133}"
      ]
     },
     "execution_count": 118,
     "metadata": {},
     "output_type": "execute_result"
    }
   ],
   "source": [
    "predictor.evaluate(df_test)"
   ]
  },
  {
   "cell_type": "code",
   "execution_count": 119,
   "id": "9a492eb3-17a5-433d-b31f-4f0f0eb6d100",
   "metadata": {
    "tags": []
   },
   "outputs": [
    {
     "data": {
      "text/plain": [
       "2802    INTP\n",
       "2166    INFJ\n",
       "1919    INTP\n",
       "360     ENFP\n",
       "1115    INTJ\n",
       "        ... \n",
       "1415    ENTP\n",
       "7269    INFP\n",
       "127     INFJ\n",
       "3474    INTP\n",
       "5960    INFJ\n",
       "Name: type, Length: 4338, dtype: object"
      ]
     },
     "execution_count": 119,
     "metadata": {},
     "output_type": "execute_result"
    }
   ],
   "source": [
    "predictor.predict(df_test)"
   ]
  },
  {
   "cell_type": "code",
   "execution_count": 120,
   "id": "5e4707a7-bc43-4db8-8a09-33544fb04fd0",
   "metadata": {
    "tags": []
   },
   "outputs": [],
   "source": [
    "model_names = predictor.model_names()\n",
    "yhats = {model_name:predictor.predict(df_test,model=model_name) for model_name in model_names}"
   ]
  },
  {
   "cell_type": "code",
   "execution_count": 121,
   "id": "c1508870-9bad-44d0-8d89-579c43c54ca4",
   "metadata": {
    "tags": []
   },
   "outputs": [],
   "source": [
    "y = df_test['type']"
   ]
  },
  {
   "cell_type": "code",
   "execution_count": 122,
   "id": "bdb3ec1e-3035-4512-b838-482befa1bfe2",
   "metadata": {
    "tags": []
   },
   "outputs": [
    {
     "data": {
      "text/plain": [
       "2802    ENFP\n",
       "2166    INFJ\n",
       "1919    INTJ\n",
       "360     INTJ\n",
       "1115    ENTP\n",
       "        ... \n",
       "1415    INTP\n",
       "7269    INTJ\n",
       "127     INFP\n",
       "3474    ENTP\n",
       "5960    ENFP\n",
       "Name: type, Length: 4338, dtype: object"
      ]
     },
     "execution_count": 122,
     "metadata": {},
     "output_type": "execute_result"
    }
   ],
   "source": [
    "yhats['KNeighborsUnif']"
   ]
  },
  {
   "cell_type": "code",
   "execution_count": 123,
   "id": "0940127e-60f7-4ba4-8f39-3e3770404f3e",
   "metadata": {
    "tags": []
   },
   "outputs": [
    {
     "data": {
      "text/plain": [
       "2802    INTP\n",
       "2166    INTJ\n",
       "1919    INTP\n",
       "360     ENFP\n",
       "1115    ENTJ\n",
       "        ... \n",
       "1415    ENFJ\n",
       "7269    ISFJ\n",
       "127     INFJ\n",
       "3474    INTP\n",
       "5960    INFP\n",
       "Name: type, Length: 4338, dtype: object"
      ]
     },
     "execution_count": 123,
     "metadata": {},
     "output_type": "execute_result"
    }
   ],
   "source": [
    "y"
   ]
  },
  {
   "cell_type": "code",
   "execution_count": 124,
   "id": "e046ad7b-8b4b-4ba6-8a20-24ad8edac1bf",
   "metadata": {
    "tags": []
   },
   "outputs": [
    {
     "data": {
      "text/plain": [
       "dict_keys(['KNeighborsUnif', 'KNeighborsDist', 'NeuralNetFastAI', 'LightGBMXT', 'LightGBM', 'RandomForestGini', 'RandomForestEntr', 'CatBoost', 'ExtraTreesGini', 'ExtraTreesEntr', 'XGBoost', 'NeuralNetTorch', 'LightGBMLarge', 'WeightedEnsemble_L2'])"
      ]
     },
     "execution_count": 124,
     "metadata": {},
     "output_type": "execute_result"
    }
   ],
   "source": [
    "yhats.keys()"
   ]
  },
  {
   "cell_type": "code",
   "execution_count": 125,
   "id": "e44655db-31d1-4eb4-a4d0-8176f0923129",
   "metadata": {
    "tags": []
   },
   "outputs": [
    {
     "name": "stdout",
     "output_type": "stream",
     "text": [
      "              precision    recall  f1-score   support\n",
      "\n",
      "        ENFJ       0.54      0.29      0.38        92\n",
      "        ENFP       0.64      0.63      0.63       327\n",
      "        ENTJ       0.69      0.35      0.46       115\n",
      "        ENTP       0.65      0.64      0.64       337\n",
      "        ESFJ       0.83      0.25      0.38        20\n",
      "        ESFP       0.25      0.04      0.07        24\n",
      "        ESTJ       0.50      0.12      0.20        24\n",
      "        ESTP       0.61      0.27      0.37        41\n",
      "        INFJ       0.69      0.70      0.70       745\n",
      "        INFP       0.66      0.80      0.72       916\n",
      "        INTJ       0.64      0.67      0.66       523\n",
      "        INTP       0.68      0.74      0.71       675\n",
      "        ISFJ       0.81      0.41      0.54        86\n",
      "        ISFP       0.57      0.50      0.53       130\n",
      "        ISTJ       0.78      0.44      0.56       113\n",
      "        ISTP       0.69      0.64      0.66       170\n",
      "\n",
      "    accuracy                           0.66      4338\n",
      "   macro avg       0.64      0.47      0.51      4338\n",
      "weighted avg       0.66      0.66      0.65      4338\n",
      "\n"
     ]
    }
   ],
   "source": [
    "print(sklearn.metrics.classification_report(y,yhats['LightGBMLarge']))"
   ]
  },
  {
   "cell_type": "code",
   "execution_count": null,
   "id": "44d82af7-586d-4cde-a252-96b29944ba5c",
   "metadata": {},
   "outputs": [],
   "source": [
    "              precision    recall  f1-score   support\n",
    "\n",
    "        ENFJ       0.68      0.35      0.46        92\n",
    "        ENFP       0.63      0.63      0.63       327\n",
    "        ENTJ       0.65      0.41      0.50       115\n",
    "        ENTP       0.63      0.61      0.62       337\n",
    "        ESFJ       0.67      0.10      0.17        20\n",
    "        ESFP       0.00      0.00      0.00        24\n",
    "        ESTJ       0.50      0.08      0.14        24\n",
    "        ESTP       0.71      0.24      0.36        41\n",
    "        INFJ       0.70      0.71      0.70       745\n",
    "        INFP       0.64      0.81      0.72       916\n",
    "        INTJ       0.65      0.67      0.66       523\n",
    "        INTP       0.68      0.73      0.70       675\n",
    "        ISFJ       0.84      0.44      0.58        86\n",
    "        ISFP       0.59      0.42      0.49       130\n",
    "        ISTJ       0.71      0.43      0.54       113\n",
    "        ISTP       0.69      0.63      0.66       170\n",
    "\n",
    "    accuracy                           0.66      4338\n",
    "   macro avg       0.62      0.45      0.50      4338\n",
    "weighted avg       0.66      0.66      0.65      4338\n"
   ]
  }
 ],
 "metadata": {
  "kernelspec": {
   "display_name": "Python 3 (ipykernel)",
   "language": "python",
   "name": "python3"
  },
  "language_info": {
   "codemirror_mode": {
    "name": "ipython",
    "version": 3
   },
   "file_extension": ".py",
   "mimetype": "text/x-python",
   "name": "python",
   "nbconvert_exporter": "python",
   "pygments_lexer": "ipython3",
   "version": "3.10.13"
  }
 },
 "nbformat": 4,
 "nbformat_minor": 5
}
