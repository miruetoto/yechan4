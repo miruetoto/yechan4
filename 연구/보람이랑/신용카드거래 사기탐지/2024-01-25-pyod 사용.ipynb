{
 "cells": [
  {
   "cell_type": "raw",
   "id": "981427a5-1810-4890-9496-200700151758",
   "metadata": {},
   "source": [
    "---\n",
    "title: \"(연구&보람) 신용카드거래 사기탐지 -- pyod 사용\"\n",
    "author: \"신록예찬,김보람\"\n",
    "date: \"01/25/2024\"\n",
    "---"
   ]
  },
  {
   "cell_type": "markdown",
   "id": "9b5e604b-636c-42ff-bccf-481ee786f4d9",
   "metadata": {},
   "source": [
    "ref: <https://pyod.readthedocs.io/en/latest/pyod.models.html#all-models>"
   ]
  },
  {
   "cell_type": "markdown",
   "id": "43d745a2-b63a-4a8b-8e83-541c617c3844",
   "metadata": {},
   "source": [
    "# 1. Imports "
   ]
  },
  {
   "cell_type": "code",
   "execution_count": 1,
   "id": "f4162b18-f612-4403-bf6b-823b6b662ea4",
   "metadata": {
    "tags": []
   },
   "outputs": [],
   "source": [
    "import pandas as pd\n",
    "import numpy as np"
   ]
  },
  {
   "cell_type": "code",
   "execution_count": 2,
   "id": "6c6e8717-9e3c-47a7-9194-293e09e70a48",
   "metadata": {
    "tags": []
   },
   "outputs": [],
   "source": [
    "from pyod.models.abod import ABOD\n",
    "#from pyod.models.alad import ALAD\n",
    "#from pyod.models.anogan import AnoGAN\n",
    "#from pyod.models.auto_encoder import AutoEncoder\n",
    "from pyod.models.cblof import CBLOF\n",
    "from pyod.models.cof import COF\n",
    "from pyod.models.cd import CD\n",
    "from pyod.models.copod import COPOD\n",
    "#from pyod.models.deep_svdd import DeepSVDD\n",
    "#from pyod.models.dif import DIF\n",
    "from pyod.models.ecod import ECOD\n",
    "#from pyod.models.feature_bagging import FeatureBagging\n",
    "from pyod.models.gmm import GMM\n",
    "from pyod.models.hbos import HBOS\n",
    "from pyod.models.iforest import IForest\n",
    "from pyod.models.inne import INNE\n",
    "from pyod.models.kde import KDE\n",
    "from pyod.models.knn import KNN\n",
    "from pyod.models.kpca import KPCA\n",
    "from pyod.models.kpca import PyODKernelPCA\n",
    "from pyod.models.lmdd import LMDD\n",
    "from pyod.models.loda import LODA\n",
    "from pyod.models.lof import LOF\n",
    "from pyod.models.loci import LOCI\n",
    "#from pyod.models.lunar import LUNAR\n",
    "from pyod.models.lscp import LSCP\n",
    "from pyod.models.mad import MAD\n",
    "from pyod.models.mcd import MCD\n",
    "#from pyod.models.mo_gaal import MO_GAAL\n",
    "from pyod.models.ocsvm import OCSVM\n",
    "from pyod.models.pca import PCA\n",
    "from pyod.models.qmcd import QMCD\n",
    "from pyod.models.rgraph import RGraph\n",
    "from pyod.models.rod import ROD\n",
    "from pyod.models.sampling import Sampling\n",
    "from pyod.models.sod import SOD\n",
    "#from pyod.models.so_gaal import SO_GAAL\n",
    "from pyod.models.sos import SOS\n",
    "#from pyod.models.suod import SUOD\n",
    "#from pyod.models.vae import VAE\n",
    "#from pyod.models.xgbod import XGBOD"
   ]
  },
  {
   "cell_type": "code",
   "execution_count": 3,
   "id": "e59bf270-951d-4da7-b7bb-09d4227238bd",
   "metadata": {
    "tags": []
   },
   "outputs": [],
   "source": [
    "import warnings\n",
    "warnings.filterwarnings('ignore')"
   ]
  },
  {
   "cell_type": "markdown",
   "id": "c047be1a-99c9-4bee-9f3b-50ba12c58263",
   "metadata": {},
   "source": [
    "# 2. Data "
   ]
  },
  {
   "cell_type": "code",
   "execution_count": 4,
   "id": "0cab359f-52ec-43ce-a956-c4e56705f8ef",
   "metadata": {
    "tags": []
   },
   "outputs": [],
   "source": [
    "X = pd.DataFrame({'amt':[5000.0,1,2,3000,3,4,2000,5,6]})\n",
    "y = pd.DataFrame({'is_fraud':[1,0,0,1,0,0,1,0,0]})\n",
    "XX = pd.DataFrame({'amt':[3500.0,1.5]})"
   ]
  },
  {
   "cell_type": "markdown",
   "id": "1d276be1-52df-4f48-8325-9e5e25b4b600",
   "metadata": {},
   "source": [
    "# 3. Predictor 만들기 "
   ]
  },
  {
   "cell_type": "markdown",
   "id": "c3aa1129-2b14-4520-a6c9-4fe1f0b42406",
   "metadata": {},
   "source": [
    "`-` 1인것의 비율을 계산해서 fraud_ratio를 설정해야함. (즉 사기거래 비율)"
   ]
  },
  {
   "cell_type": "code",
   "execution_count": 12,
   "id": "3b0311e3-f6b6-4c3b-b077-762cc3870f05",
   "metadata": {
    "tags": []
   },
   "outputs": [],
   "source": [
    "fraud_ratio = 0.33\n",
    "predictors = {\n",
    "    'ABOD': ABOD(contamination=fraud_ratio),\n",
    "#    'ALAD': ALAD(contamination=fraud_ratio),\n",
    "#    'AnoGAN': AnoGAN(contamination=fraud_ratio),\n",
    "#    'AutoEncoder':AutoEncoder(contamination=fraud_ratio),\n",
    "##    'CBLOF': CBLOF(contamination=fraud_ratio,n_clusters=2),\n",
    "##    'COF': COF(contamination=fraud_ratio),\n",
    "##    'CD': CD(contamination=fraud_ratio),\n",
    "    'COPOD': COPOD(contamination=fraud_ratio),\n",
    "#    'DeepSVDD': DeepSVDD(contamination=fraud_ratio),\n",
    "#    'DIF': DIF(contamination=fraud_ratio),    \n",
    "    'ECOD': ECOD(contamination=fraud_ratio),\n",
    "#    'FeatureBagging': FeatureBagging(contamination=fraud_ratio),\n",
    "    'GMM': GMM(contamination=fraud_ratio),\n",
    "    'HBOS': HBOS(contamination=fraud_ratio),\n",
    "    'IForest': IForest(contamination=fraud_ratio),\n",
    "    'INNE': INNE(contamination=fraud_ratio),\n",
    "    'KDE': KDE(contamination=fraud_ratio),\n",
    "    'KNN': KNN(contamination=fraud_ratio),\n",
    "    'KPCA': KPCA(contamination=fraud_ratio),\n",
    "#    'PyODKernelPCA': PyODKernelPCA(contamination=fraud_ratio),\n",
    "##    'LMDD': LMDD(contamination=fraud_ratio),\n",
    "    'LODA': LODA(contamination=fraud_ratio),\n",
    "    'LOF': LOF(contamination=fraud_ratio),\n",
    "    'LOCI': LOCI(contamination=fraud_ratio),\n",
    "#    'LUNAR': LUNAR(contamination=fraud_ratio),\n",
    "    'LODA': LODA(contamination=fraud_ratio),\n",
    "#    'LSCP': LSCP(contamination=fraud_ratio),\n",
    "    'MAD': MAD(contamination=fraud_ratio),\n",
    "    'MCD': MCD(contamination=fraud_ratio),\n",
    "#    'MO_GAAL': MO_GAAL(contamination=fraud_ratio),\n",
    "    'OCSVM': OCSVM(contamination=fraud_ratio),\n",
    "    'PCA': PCA(contamination=fraud_ratio),\n",
    "###    'QMCD': QMCD(contamination=fraud_ratio),\n",
    "    'RGraph': RGraph(contamination=fraud_ratio),\n",
    "    'ROD': ROD(contamination=fraud_ratio),\n",
    "##    'Sampling': Sampling(contamination=fraud_ratio),\n",
    "##   'SOD': SOD(contamination=fraud_ratio),\n",
    "#    'SO_GAAL': SO_GAAL(contamination=fraud_ratio),\n",
    "    'SOS': SOS(contamination=fraud_ratio),\n",
    "#    'SUOD': SUOD(contamination=fraud_ratio),\n",
    "#    'VAE': VAE(contamination=fraud_ratio),\n",
    "#    'XGBOD': XGBOD(contamination=fraud_ratio),  \n",
    "}"
   ]
  },
  {
   "cell_type": "markdown",
   "id": "675b4ad3-1061-49dc-b724-3151f3b9225c",
   "metadata": {},
   "source": [
    "- 주석처리는 안만들어지는 것\n",
    "- `#`은 tensorflow 등이 없어서 ..\n",
    "- `##`은 만들어지는데 `.fit` 할때 오류가 나느것 \n",
    "- `###`은 fit은 되는데 test할때 nan이 출력되는것 "
   ]
  },
  {
   "cell_type": "markdown",
   "id": "f9cfee66-abe4-44f7-88de-e6efe53904db",
   "metadata": {},
   "source": [
    "# 4. 학습 & 결과저장 "
   ]
  },
  {
   "cell_type": "code",
   "execution_count": 13,
   "id": "b5b16432-b454-46b8-8bd9-6ec7eccc57f7",
   "metadata": {
    "tags": []
   },
   "outputs": [
    {
     "name": "stdout",
     "output_type": "stream",
     "text": [
      "0/9\n",
      "Test block 0/1\n",
      "0/11\n"
     ]
    }
   ],
   "source": [
    "yyhat_dict = dict()\n",
    "for name,predictor in predictors.items():\n",
    "    predictor.fit(X,y)\n",
    "    yyhat_dict[name] = predictor.predict_proba(XX)[:,-1]"
   ]
  },
  {
   "cell_type": "code",
   "execution_count": 14,
   "id": "c6bd17cf-8a7f-4bb3-822a-839dd0672f3e",
   "metadata": {
    "tags": []
   },
   "outputs": [
    {
     "data": {
      "text/plain": [
       "{'ABOD': array([1., 0.]),\n",
       " 'COPOD': array([0.69400716, 0.19400716]),\n",
       " 'ECOD': array([0.69400716, 0.69400716]),\n",
       " 'GMM': array([0.34286978, 0.03145675]),\n",
       " 'HBOS': array([1., 0.]),\n",
       " 'IForest': array([0.72671218, 0.16035735]),\n",
       " 'INNE': array([0.22556971, 0.08458866]),\n",
       " 'KDE': array([1.        , 0.16995667]),\n",
       " 'KNN': array([6.99379131e-01, 1.00140196e-04]),\n",
       " 'KPCA': array([1., 1.]),\n",
       " 'LODA': array([0.58679469, 0.56      ]),\n",
       " 'LOF': array([0., 0.]),\n",
       " 'LOCI': array([0., 0.]),\n",
       " 'MAD': array([0.6996997, 0.0007007]),\n",
       " 'MCD': array([4.19839700e-01, 2.99759832e-04]),\n",
       " 'OCSVM': array([1., 0.]),\n",
       " 'PCA': array([0.18657712, 0.99981342]),\n",
       " 'RGraph': array([0., 1.]),\n",
       " 'ROD': array([1.66712365e-04, 6.44434498e-08]),\n",
       " 'SOS': array([0., 0.])}"
      ]
     },
     "execution_count": 14,
     "metadata": {},
     "output_type": "execute_result"
    }
   ],
   "source": [
    "yyhat_dict # [1,0] 으로 예측해야 올바른것임 "
   ]
  },
  {
   "cell_type": "markdown",
   "id": "ae414a67-9bbb-4f19-b0fb-b06c5ca98a8f",
   "metadata": {},
   "source": [
    "# Appendix: 환경설정 "
   ]
  },
  {
   "cell_type": "markdown",
   "id": "0ab9260c-8c84-4df5-a7eb-f9deb8130278",
   "metadata": {},
   "source": [
    "```bash\n",
    "conda create -n pyod \n",
    "conda activate pyod \n",
    "conda install -c conda-forge pyod \n",
    "```"
   ]
  },
  {
   "cell_type": "code",
   "execution_count": 16,
   "id": "ee695110-6589-4f4f-a196-ee2c169222b2",
   "metadata": {
    "tags": []
   },
   "outputs": [
    {
     "name": "stdout",
     "output_type": "stream",
     "text": [
      "# conda environments:\n",
      "#\n",
      "base                     /home/cgb2/anaconda3\n",
      "pyod                  *  /home/cgb2/anaconda3/envs/pyod\n",
      "r                        /home/cgb2/anaconda3/envs/r\n",
      "\n"
     ]
    }
   ],
   "source": [
    "!conda env list "
   ]
  },
  {
   "cell_type": "code",
   "execution_count": 17,
   "id": "6412e095-1cfe-4ef6-b7da-11a134117fd2",
   "metadata": {
    "tags": []
   },
   "outputs": [
    {
     "name": "stdout",
     "output_type": "stream",
     "text": [
      "# packages in environment at /home/cgb2/anaconda3/envs/pyod:\n",
      "#\n",
      "# Name                    Version                   Build  Channel\n",
      "_libgcc_mutex             0.1                        main  \n",
      "_openmp_mutex             5.1                       1_gnu  \n",
      "aiofiles                  22.1.0             pyhd8ed1ab_0    conda-forge\n",
      "aiosqlite                 0.19.0             pyhd8ed1ab_0    conda-forge\n",
      "anyio                     3.7.1              pyhd8ed1ab_0    conda-forge\n",
      "argon2-cffi               23.1.0             pyhd8ed1ab_0    conda-forge\n",
      "argon2-cffi-bindings      21.2.0          py311h5eee18b_0  \n",
      "arrow                     1.3.0              pyhd8ed1ab_0    conda-forge\n",
      "asttokens                 2.4.1              pyhd8ed1ab_0    conda-forge\n",
      "attrs                     23.2.0             pyh71513ae_0    conda-forge\n",
      "babel                     2.14.0             pyhd8ed1ab_0    conda-forge\n",
      "beautifulsoup4            4.12.3             pyha770c72_0    conda-forge\n",
      "blas                      1.0                         mkl  \n",
      "bleach                    6.1.0              pyhd8ed1ab_0    conda-forge\n",
      "bottleneck                1.3.5           py311hbed6279_0  \n",
      "brotli                    1.0.9                h5eee18b_7  \n",
      "brotli-bin                1.0.9                h5eee18b_7  \n",
      "bzip2                     1.0.8                h7b6447c_0  \n",
      "ca-certificates           2023.11.17           hbcca054_0    conda-forge\n",
      "cached-property           1.5.2                hd8ed1ab_1    conda-forge\n",
      "cached_property           1.5.2              pyha770c72_1    conda-forge\n",
      "certifi                   2023.11.17         pyhd8ed1ab_0    conda-forge\n",
      "cffi                      1.16.0          py311h5eee18b_0  \n",
      "charset-normalizer        3.3.2              pyhd8ed1ab_0    conda-forge\n",
      "comm                      0.2.1              pyhd8ed1ab_0    conda-forge\n",
      "contourpy                 1.2.0           py311hdb19cb5_0  \n",
      "cycler                    0.11.0             pyhd3eb1b0_0  \n",
      "debugpy                   1.6.7           py311h6a678d5_0  \n",
      "decorator                 5.1.1              pyhd8ed1ab_0    conda-forge\n",
      "defusedxml                0.7.1              pyhd8ed1ab_0    conda-forge\n",
      "entrypoints               0.4                pyhd8ed1ab_0    conda-forge\n",
      "exceptiongroup            1.2.0              pyhd8ed1ab_2    conda-forge\n",
      "executing                 2.0.1              pyhd8ed1ab_0    conda-forge\n",
      "fonttools                 4.25.0             pyhd3eb1b0_0  \n",
      "fqdn                      1.5.1              pyhd8ed1ab_0    conda-forge\n",
      "freetype                  2.12.1               h4a9f257_0  \n",
      "giflib                    5.2.1                h5eee18b_3  \n",
      "idna                      3.6                pyhd8ed1ab_0    conda-forge\n",
      "importlib-metadata        7.0.1              pyha770c72_0    conda-forge\n",
      "importlib_resources       6.1.1              pyhd8ed1ab_0    conda-forge\n",
      "intel-openmp              2023.1.0         hdb19cb5_46306  \n",
      "ipykernel                 6.23.1             pyh210e3f2_0    conda-forge\n",
      "ipython                   8.20.0             pyh707e725_0    conda-forge\n",
      "ipython_genutils          0.2.0                      py_1    conda-forge\n",
      "isoduration               20.11.0            pyhd8ed1ab_0    conda-forge\n",
      "jedi                      0.19.1             pyhd8ed1ab_0    conda-forge\n",
      "jinja2                    3.1.3              pyhd8ed1ab_0    conda-forge\n",
      "joblib                    1.2.0           py311h06a4308_0  \n",
      "jpeg                      9e                   h5eee18b_1  \n",
      "json5                     0.9.14             pyhd8ed1ab_0    conda-forge\n",
      "jsonpointer               2.4             py311h38be061_3    conda-forge\n",
      "jsonschema                4.21.1             pyhd8ed1ab_0    conda-forge\n",
      "jsonschema-specifications 2023.12.1          pyhd8ed1ab_0    conda-forge\n",
      "jsonschema-with-format-nongpl 4.21.1             pyhd8ed1ab_0    conda-forge\n",
      "jupyter_client            7.4.9              pyhd8ed1ab_0    conda-forge\n",
      "jupyter_core              5.7.1           py311h38be061_0    conda-forge\n",
      "jupyter_events            0.9.0              pyhd8ed1ab_0    conda-forge\n",
      "jupyter_server            1.24.0             pyhd8ed1ab_0    conda-forge\n",
      "jupyter_server_fileid     0.9.1              pyhd8ed1ab_0    conda-forge\n",
      "jupyter_server_ydoc       0.8.0              pyhd8ed1ab_0    conda-forge\n",
      "jupyter_ydoc              0.2.4           py311h06a4308_0  \n",
      "jupyterlab                3.6.7              pyhd8ed1ab_0    conda-forge\n",
      "jupyterlab_pygments       0.3.0              pyhd8ed1ab_0    conda-forge\n",
      "jupyterlab_server         2.25.2             pyhd8ed1ab_0    conda-forge\n",
      "kiwisolver                1.4.4           py311h6a678d5_0  \n",
      "lcms2                     2.12                 h3be6417_0  \n",
      "ld_impl_linux-64          2.38                 h1181459_1  \n",
      "lerc                      3.0                  h295c915_0  \n",
      "libbrotlicommon           1.0.9                h5eee18b_7  \n",
      "libbrotlidec              1.0.9                h5eee18b_7  \n",
      "libbrotlienc              1.0.9                h5eee18b_7  \n",
      "libdeflate                1.17                 h5eee18b_1  \n",
      "libffi                    3.4.4                h6a678d5_0  \n",
      "libgcc-ng                 11.2.0               h1234567_1  \n",
      "libgfortran-ng            11.2.0               h00389a5_1  \n",
      "libgfortran5              11.2.0               h1234567_1  \n",
      "libgomp                   11.2.0               h1234567_1  \n",
      "libllvm14                 14.0.6               hdb19cb5_3  \n",
      "libpng                    1.6.39               h5eee18b_0  \n",
      "libsodium                 1.0.18               h36c2ea0_1    conda-forge\n",
      "libstdcxx-ng              11.2.0               h1234567_1  \n",
      "libtiff                   4.5.1                h6a678d5_0  \n",
      "libuuid                   1.41.5               h5eee18b_0  \n",
      "libwebp                   1.3.2                h11a3e52_0  \n",
      "libwebp-base              1.3.2                h5eee18b_0  \n",
      "llvmlite                  0.41.0          py311he621ea3_0  \n",
      "lz4-c                     1.9.4                h6a678d5_0  \n",
      "markupsafe                2.1.3           py311h5eee18b_0  \n",
      "matplotlib-base           3.8.0           py311ha02d727_0  \n",
      "matplotlib-inline         0.1.6              pyhd8ed1ab_0    conda-forge\n",
      "mistune                   3.0.2              pyhd8ed1ab_0    conda-forge\n",
      "mkl                       2023.1.0         h213fc3f_46344  \n",
      "mkl-service               2.4.0           py311h5eee18b_1  \n",
      "mkl_fft                   1.3.8           py311h5eee18b_0  \n",
      "mkl_random                1.2.4           py311hdb19cb5_0  \n",
      "munkres                   1.1.4                      py_0  \n",
      "nbclassic                 1.0.0              pyh8b2e9e2_0    conda-forge\n",
      "nbclient                  0.8.0              pyhd8ed1ab_0    conda-forge\n",
      "nbconvert-core            7.14.2             pyhd8ed1ab_0    conda-forge\n",
      "nbformat                  5.9.2              pyhd8ed1ab_0    conda-forge\n",
      "ncurses                   6.4                  h6a678d5_0  \n",
      "nest-asyncio              1.6.0              pyhd8ed1ab_0    conda-forge\n",
      "notebook                  6.5.6              pyha770c72_0    conda-forge\n",
      "notebook-shim             0.2.3              pyhd8ed1ab_0    conda-forge\n",
      "numba                     0.58.1          py311ha02d727_0  \n",
      "numexpr                   2.8.7           py311h65dcdc2_0  \n",
      "numpy                     1.26.3          py311h08b1b3b_0  \n",
      "numpy-base                1.26.3          py311hf175353_0  \n",
      "openjpeg                  2.4.0                h3ad879b_0  \n",
      "openssl                   3.0.12               h7f8727e_0  \n",
      "packaging                 23.1            py311h06a4308_0  \n",
      "pandas                    2.1.4           py311ha02d727_0  \n",
      "pandocfilters             1.5.0              pyhd8ed1ab_0    conda-forge\n",
      "parso                     0.8.3              pyhd8ed1ab_0    conda-forge\n",
      "patsy                     0.5.3           py311h06a4308_0  \n",
      "pexpect                   4.9.0              pyhd8ed1ab_0    conda-forge\n",
      "pickleshare               0.7.5                   py_1003    conda-forge\n",
      "pillow                    10.0.1          py311ha6cbd5a_0  \n",
      "pip                       23.3.1          py311h06a4308_0  \n",
      "pkgutil-resolve-name      1.3.10             pyhd8ed1ab_1    conda-forge\n",
      "platformdirs              4.1.0              pyhd8ed1ab_0    conda-forge\n",
      "prometheus_client         0.19.0             pyhd8ed1ab_0    conda-forge\n",
      "prompt-toolkit            3.0.42             pyha770c72_0    conda-forge\n",
      "psutil                    5.9.0           py311h5eee18b_0  \n",
      "ptyprocess                0.7.0              pyhd3deb0d_0    conda-forge\n",
      "pure_eval                 0.2.2              pyhd8ed1ab_0    conda-forge\n",
      "pycparser                 2.21               pyhd8ed1ab_0    conda-forge\n",
      "pygments                  2.17.2             pyhd8ed1ab_0    conda-forge\n",
      "pyod                      1.1.2              pyhd8ed1ab_0    conda-forge\n",
      "pyparsing                 3.0.9           py311h06a4308_0  \n",
      "python                    3.11.7               h955ad1f_0  \n",
      "python-dateutil           2.8.2              pyhd3eb1b0_0  \n",
      "python-fastjsonschema     2.19.1             pyhd8ed1ab_0    conda-forge\n",
      "python-json-logger        2.0.7              pyhd8ed1ab_0    conda-forge\n",
      "python-tzdata             2023.3             pyhd3eb1b0_0  \n",
      "python_abi                3.11                    2_cp311    conda-forge\n",
      "pytz                      2023.3.post1    py311h06a4308_0  \n",
      "pyyaml                    6.0.1           py311h5eee18b_0  \n",
      "pyzmq                     23.2.0          py311h6a678d5_0  \n",
      "readline                  8.2                  h5eee18b_0  \n",
      "referencing               0.32.1             pyhd8ed1ab_0    conda-forge\n",
      "requests                  2.31.0             pyhd8ed1ab_0    conda-forge\n",
      "rfc3339-validator         0.1.4              pyhd8ed1ab_0    conda-forge\n",
      "rfc3986-validator         0.1.1              pyh9f0ad1d_0    conda-forge\n",
      "rpds-py                   0.10.6          py311hb02cf49_0  \n",
      "scikit-learn              1.2.2           py311h6a678d5_1  \n",
      "scipy                     1.11.4          py311h08b1b3b_0  \n",
      "send2trash                1.8.2              pyh41d4057_0    conda-forge\n",
      "setuptools                68.2.2          py311h06a4308_0  \n",
      "six                       1.16.0             pyhd3eb1b0_1  \n",
      "sniffio                   1.3.0              pyhd8ed1ab_0    conda-forge\n",
      "soupsieve                 2.5                pyhd8ed1ab_1    conda-forge\n",
      "sqlite                    3.41.2               h5eee18b_0  \n",
      "stack_data                0.6.2              pyhd8ed1ab_0    conda-forge\n",
      "statsmodels               0.14.0          py311hf4808d0_0  \n",
      "tbb                       2021.8.0             hdb19cb5_0  \n",
      "terminado                 0.18.0             pyh0d859eb_0    conda-forge\n",
      "threadpoolctl             2.2.0              pyh0d69192_0  \n",
      "tinycss2                  1.2.1              pyhd8ed1ab_0    conda-forge\n",
      "tk                        8.6.12               h1ccaba5_0  \n",
      "tomli                     2.0.1              pyhd8ed1ab_0    conda-forge\n",
      "tornado                   6.3.3           py311h5eee18b_0  \n",
      "traitlets                 5.14.1             pyhd8ed1ab_0    conda-forge\n",
      "types-python-dateutil     2.8.19.20240106    pyhd8ed1ab_0    conda-forge\n",
      "typing-extensions         4.9.0                hd8ed1ab_0    conda-forge\n",
      "typing_extensions         4.9.0              pyha770c72_0    conda-forge\n",
      "tzdata                    2023d                h04d1e81_0  \n",
      "uri-template              1.3.0              pyhd8ed1ab_0    conda-forge\n",
      "urllib3                   2.1.0           py311h06a4308_0  \n",
      "wcwidth                   0.2.13             pyhd8ed1ab_0    conda-forge\n",
      "webcolors                 1.13               pyhd8ed1ab_0    conda-forge\n",
      "webencodings              0.5.1              pyhd8ed1ab_2    conda-forge\n",
      "websocket-client          1.7.0              pyhd8ed1ab_0    conda-forge\n",
      "wheel                     0.41.2          py311h06a4308_0  \n",
      "xz                        5.4.5                h5eee18b_0  \n",
      "y-py                      0.5.9           py311h52d8a92_0  \n",
      "yaml                      0.2.5                h7f98852_2    conda-forge\n",
      "ypy-websocket             0.8.2           py311h06a4308_0  \n",
      "zeromq                    4.3.5                h6a678d5_0  \n",
      "zipp                      3.17.0             pyhd8ed1ab_0    conda-forge\n",
      "zlib                      1.2.13               h5eee18b_0  \n",
      "zstd                      1.5.5                hc292b87_0  \n"
     ]
    }
   ],
   "source": [
    "!conda list "
   ]
  }
 ],
 "metadata": {
  "kernelspec": {
   "display_name": "Python 3 (ipykernel)",
   "language": "python",
   "name": "python3"
  },
  "language_info": {
   "codemirror_mode": {
    "name": "ipython",
    "version": 3
   },
   "file_extension": ".py",
   "mimetype": "text/x-python",
   "name": "python",
   "nbconvert_exporter": "python",
   "pygments_lexer": "ipython3",
   "version": "3.11.8"
  }
 },
 "nbformat": 4,
 "nbformat_minor": 5
}
