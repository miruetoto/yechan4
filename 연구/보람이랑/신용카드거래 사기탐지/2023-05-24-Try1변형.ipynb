{
 "cells": [
  {
   "cell_type": "raw",
   "id": "c3ecc671-263b-43f1-9054-577713e1f45c",
   "metadata": {},
   "source": [
    "---\n",
    "title: \"(연구&보람) 신용카드거래 사기탐지 -- Try1변형\"\n",
    "author: \"신록예찬\"\n",
    "date: \"05/12/2023\"\n",
    "---"
   ]
  },
  {
   "cell_type": "markdown",
   "id": "6643e63d-18e8-4040-bf39-7ad64a563adb",
   "metadata": {},
   "source": [
    "# imports "
   ]
  },
  {
   "cell_type": "code",
   "execution_count": 2,
   "id": "12eb1522-9b25-4579-ab8f-c6938293ab2d",
   "metadata": {},
   "outputs": [
    {
     "name": "stderr",
     "output_type": "stream",
     "text": [
      "/home/cgb2/anaconda3/envs/py38/lib/python3.8/site-packages/tqdm/auto.py:21: TqdmWarning: IProgress not found. Please update jupyter and ipywidgets. See https://ipywidgets.readthedocs.io/en/stable/user_install.html\n",
      "  from .autonotebook import tqdm as notebook_tqdm\n"
     ]
    }
   ],
   "source": [
    "import numpy as np\n",
    "import pandas as pd\n",
    "import matplotlib.pyplot as plt \n",
    "import networkx as nx\n",
    "import sklearn\n",
    "\n",
    "# sklearn\n",
    "from sklearn import model_selection # split함수이용\n",
    "from sklearn import ensemble # RF \n",
    "from sklearn import metrics \n",
    "\n",
    "# embedding \n",
    "from node2vec import Node2Vec\n",
    "from node2vec.edges import HadamardEmbedder, AverageEmbedder, WeightedL1Embedder, WeightedL2Embedder"
   ]
  },
  {
   "cell_type": "code",
   "execution_count": 3,
   "id": "a212dc30-e7ac-4937-8f65-91a6a1486d51",
   "metadata": {},
   "outputs": [],
   "source": [
    "def build_graph_bipartite(df_input, graph_type=nx.Graph()):\n",
    "    df=df_input.copy()\n",
    "    mapping={x:node_id for node_id, x in enumerate(set(df[\"cc_num\"].values.tolist()+\\\n",
    "                                                      df[\"merchant\"].values.tolist()))}\n",
    "    \n",
    "    df[\"from\"]=df[\"cc_num\"].apply(lambda x:mapping[x])  #엣지의 출발점\n",
    "    df[\"to\"]=df[\"merchant\"].apply(lambda x:mapping[x])  #엣지의 도착점\n",
    "    \n",
    "    df = df[['from', 'to', \"amt\", \"is_fraud\"]].groupby(['from','to']).agg({\"is_fraud\":\"sum\",\"amt\":\"sum\"}).reset_index()\n",
    "    df[\"is_fraud\"]=df[\"is_fraud\"].apply(lambda x:1 if x>0 else 0)\n",
    "    \n",
    "    G=nx.from_edgelist(df[[\"from\",\"to\"]].values, create_using=graph_type)\n",
    "    \n",
    "    nx.set_edge_attributes(G,{(int(x[\"from\"]),int(x[\"to\"])):x[\"is_fraud\"] for idx, x in df[[\"from\",\"to\",\"is_fraud\"]].iterrows()}, \"label\")  #엣지 속성 설정,각 속성의 사기 여부부     \n",
    "    nx.set_edge_attributes(G,{(int(x[\"from\"]),int(x[\"to\"])):x[\"amt\"] for idx,x in df[[\"from\",\"to\",\"amt\"]].iterrows()}, \"weight\") # 엣지 속성 설정, 각 엣지의 거래 금액\n",
    "\n",
    "    return G\n",
    "\n",
    "\n",
    "def build_graph_tripartite(df_input, graph_type=nx.Graph()):\n",
    "    df=df_input.copy()\n",
    "    mapping={x:node_id for node_id, x in enumerate(set(df.index.values.tolist() + \n",
    "                                                       df[\"cc_num\"].values.tolist() +\n",
    "                                                       df[\"merchant\"].values.tolist()))}\n",
    "    df[\"in_node\"]= df[\"cc_num\"].apply(lambda x: mapping[x])\n",
    "    df[\"out_node\"]=df[\"merchant\"].apply(lambda x:mapping[x])\n",
    "    \n",
    "        \n",
    "    G=nx.from_edgelist([(x[\"in_node\"], mapping[idx]) for idx, x in df.iterrows()] +\\\n",
    "                        [(x[\"out_node\"], mapping[idx]) for idx, x in df.iterrows()], create_using=graph_type)\n",
    "    \n",
    "    nx.set_edge_attributes(G,{(x[\"in_node\"], mapping[idx]):x[\"is_fraud\"] for idx, x in df.iterrows()}, \"label\")     \n",
    "    nx.set_edge_attributes(G,{(x[\"out_node\"], mapping[idx]):x[\"is_fraud\"] for idx, x in df.iterrows()}, \"label\")   \n",
    "    nx.set_edge_attributes(G,{(x[\"in_node\"], mapping[idx]):x[\"amt\"] for idx, x in df.iterrows()}, \"weight\")  \n",
    "    nx.set_edge_attributes(G,{(x[\"out_node\"], mapping[idx]):x[\"amt\"] for idx, x in df.iterrows()}, \"weight\")\n",
    "\n",
    "    return G\n",
    "    \n",
    "    \n",
    "def down_sample_textbook(df):\n",
    "    df_majority = df[df.is_fraud==0].copy()\n",
    "    df_minority = df[df.is_fraud==1].copy()\n",
    "    df_maj_dowsampled = sklearn.utils.resample(df_majority, n_samples=len(df_minority), replace=False, random_state=42)\n",
    "    df_downsampled = pd.concat([df_minority, df_maj_dowsampled])\n",
    "    return df_downsampled\n",
    "\n",
    "def embedding(Graph):\n",
    "    # Graph -> X (feature)\n",
    "    _edgs = list(Graph.edges)\n",
    "    subGraph = Graph.edge_subgraph([_edgs[x] for x in range(len(Graph.edges))]).copy()\n",
    "    subGraph.add_nodes_from(list(set(Graph.nodes) - set(subGraph.nodes)))    \n",
    "    embedded = AverageEmbedder(Node2Vec(subGraph, weight_key='weight').fit(window=10).wv)\n",
    "    X = [embedded[str(_edgs[x][0]), str(_edgs[x][1])] for x in range(len(Graph.edges))]\n",
    "    # Graph -> y (label)\n",
    "    y = np.array(list(nx.get_edge_attributes(Graph, \"label\").values()))\n",
    "    return X,y \n",
    "\n",
    "def anal(df):\n",
    "    Graph = build_graph_bipartite(df)\n",
    "    X,XX,y,yy = embedding(Graph)\n",
    "    lrnr = RandomForestClassifier(n_estimators=100, random_state=42) \n",
    "    lrnr.fit(X,y)\n",
    "    yyhat = lrnr.predict(XX)\n",
    "    df = pd.DataFrame({\n",
    "        'acc':[sklearn.metrics.accuracy_score(yy,yyhat)], \n",
    "        'pre':[sklearn.metrics.precision_score(yy,yyhat)], \n",
    "        'rec':[sklearn.metrics.recall_score(yy,yyhat)],\n",
    "        'f1':[sklearn.metrics.f1_score(yy,yyhat)]}\n",
    "    )    \n",
    "    return df\n",
    "\n",
    "def our_sampling1(df):\n",
    "    cus_list = set(df.query('is_fraud==1').cc_num.tolist())\n",
    "    return df.query(\"cc_num in @ cus_list\")"
   ]
  },
  {
   "cell_type": "markdown",
   "id": "734cf5dd-a778-4612-b2b6-efd95c97d9e9",
   "metadata": {
    "tags": []
   },
   "source": [
    "# Overview"
   ]
  },
  {
   "cell_type": "markdown",
   "id": "362e9730-6350-402f-a346-0924146de3fc",
   "metadata": {},
   "source": [
    "## 데이터 종류 \n",
    "\n",
    "- fraudTrain.csv: (1048575, 23), 기본데이터\n",
    "- df02: (214520, 23), is_fraud==0 에서는 20퍼의 샘플만, is_fraud==1 에서는 모든 샘플을 뽑아서 정리한 새로운 자료\n",
    "- df50 = (12012, 23), df20에서 is_fraud==0 와 is_fraud==1 의 비율을 맞추어서 샘플을 뽑은 것 "
   ]
  },
  {
   "cell_type": "markdown",
   "id": "3b0c1862-0401-4e66-bddc-132d9d56bf31",
   "metadata": {},
   "source": [
    "|데이터|shape|사기거래빈도|설명|\n",
    "|-|-|-|-|\n",
    "|fraudTrain|(1048575, 22)|0.00573|원래자료|\n",
    "|df02|(214520, 22)|0.028| is_fraud==0 에서는 20퍼의 샘플만, is_fraud==1 에서는 모든 샘플을 뽑아서 정리한 새로운 자료|\n",
    "|df50|(12012, 22)|0.5| df02에서 사기비율을 50퍼로 맞추어 샘플링한 자료|\n",
    "|df50_tr|(9009, 22)|0.49828| df50에서 랜덤으로 train/test를 분리하여 얻은 train dataset|\n",
    "|df50_test|(3003, 22)|0.50516| df50에서 랜덤으로 train/test를 분리하여 얻은 test dataset|\n",
    "|df02_tr|(211517, 22)|0.02122| df02에서 df50_test에 해당하는 인덱스를 제외|\n",
    "|fraudTrain_tr|(1045572, 22)|0.00429| fraudTrain에서 df50_test에 해당하는 인덱스를 제외|"
   ]
  },
  {
   "cell_type": "markdown",
   "id": "d33c3d56-fd85-4952-8a31-cf7001d2823e",
   "metadata": {},
   "source": [
    "`-` fraudTrain"
   ]
  },
  {
   "cell_type": "code",
   "execution_count": 4,
   "id": "41823f84-3759-4738-838e-d55afefcf308",
   "metadata": {},
   "outputs": [
    {
     "data": {
      "text/plain": [
       "(1048575, 22)"
      ]
     },
     "execution_count": 4,
     "metadata": {},
     "output_type": "execute_result"
    }
   ],
   "source": [
    "fraudTrain = pd.read_csv(\"fraudTrain.csv\").iloc[:,1:]\n",
    "fraudTrain.shape"
   ]
  },
  {
   "cell_type": "code",
   "execution_count": 5,
   "id": "202b1f66-b132-48f6-8f19-e22eaa82d31a",
   "metadata": {},
   "outputs": [
    {
     "data": {
      "text/plain": [
       "0.00573"
      ]
     },
     "execution_count": 5,
     "metadata": {},
     "output_type": "execute_result"
    }
   ],
   "source": [
    "fraudTrain.is_fraud.mean().round(5)"
   ]
  },
  {
   "cell_type": "markdown",
   "id": "70e9dfb9-1a0f-4278-abe6-8e1246083551",
   "metadata": {},
   "source": [
    "`-` df20"
   ]
  },
  {
   "cell_type": "code",
   "execution_count": 6,
   "id": "22fe12b2-0792-409d-95e7-1dc4ad3da415",
   "metadata": {},
   "outputs": [
    {
     "data": {
      "text/plain": [
       "(214520, 22)"
      ]
     },
     "execution_count": 6,
     "metadata": {},
     "output_type": "execute_result"
    }
   ],
   "source": [
    "_df1 = fraudTrain[fraudTrain[\"is_fraud\"] == 0].sample(frac=0.20, random_state=42)\n",
    "_df2 = fraudTrain[fraudTrain[\"is_fraud\"] == 1]\n",
    "df02 = pd.concat([_df1,_df2])\n",
    "df02.shape"
   ]
  },
  {
   "cell_type": "code",
   "execution_count": 7,
   "id": "d94ba1d9-fd65-406f-9de5-56f008145f40",
   "metadata": {},
   "outputs": [
    {
     "data": {
      "text/plain": [
       "0.028"
      ]
     },
     "execution_count": 7,
     "metadata": {},
     "output_type": "execute_result"
    }
   ],
   "source": [
    "df02.is_fraud.mean().round(5)"
   ]
  },
  {
   "cell_type": "markdown",
   "id": "b4f2f62c-3abd-44d1-9960-0b763aa04a19",
   "metadata": {},
   "source": [
    "`-` df50"
   ]
  },
  {
   "cell_type": "code",
   "execution_count": 8,
   "id": "46800aa7-dc3f-4a46-8d5b-e2eb8ba1c8ae",
   "metadata": {},
   "outputs": [
    {
     "data": {
      "text/plain": [
       "(12012, 22)"
      ]
     },
     "execution_count": 8,
     "metadata": {},
     "output_type": "execute_result"
    }
   ],
   "source": [
    "df50 = down_sample_textbook(df02)\n",
    "df50.shape"
   ]
  },
  {
   "cell_type": "code",
   "execution_count": 9,
   "id": "905e9e9a-634f-43e7-a4af-318e58ed7c91",
   "metadata": {},
   "outputs": [
    {
     "data": {
      "text/html": [
       "<div>\n",
       "<style scoped>\n",
       "    .dataframe tbody tr th:only-of-type {\n",
       "        vertical-align: middle;\n",
       "    }\n",
       "\n",
       "    .dataframe tbody tr th {\n",
       "        vertical-align: top;\n",
       "    }\n",
       "\n",
       "    .dataframe thead th {\n",
       "        text-align: right;\n",
       "    }\n",
       "</style>\n",
       "<table border=\"1\" class=\"dataframe\">\n",
       "  <thead>\n",
       "    <tr style=\"text-align: right;\">\n",
       "      <th></th>\n",
       "      <th>trans_date_trans_time</th>\n",
       "      <th>cc_num</th>\n",
       "      <th>merchant</th>\n",
       "      <th>category</th>\n",
       "      <th>amt</th>\n",
       "      <th>first</th>\n",
       "      <th>last</th>\n",
       "      <th>gender</th>\n",
       "      <th>street</th>\n",
       "      <th>city</th>\n",
       "      <th>...</th>\n",
       "      <th>lat</th>\n",
       "      <th>long</th>\n",
       "      <th>city_pop</th>\n",
       "      <th>job</th>\n",
       "      <th>dob</th>\n",
       "      <th>trans_num</th>\n",
       "      <th>unix_time</th>\n",
       "      <th>merch_lat</th>\n",
       "      <th>merch_long</th>\n",
       "      <th>is_fraud</th>\n",
       "    </tr>\n",
       "  </thead>\n",
       "  <tbody>\n",
       "    <tr>\n",
       "      <th>2449</th>\n",
       "      <td>2019-01-02 1:06</td>\n",
       "      <td>4.613310e+12</td>\n",
       "      <td>fraud_Rutherford-Mertz</td>\n",
       "      <td>grocery_pos</td>\n",
       "      <td>281.06</td>\n",
       "      <td>Jason</td>\n",
       "      <td>Murphy</td>\n",
       "      <td>M</td>\n",
       "      <td>542 Steve Curve Suite 011</td>\n",
       "      <td>Collettsville</td>\n",
       "      <td>...</td>\n",
       "      <td>35.9946</td>\n",
       "      <td>-81.7266</td>\n",
       "      <td>885</td>\n",
       "      <td>Soil scientist</td>\n",
       "      <td>1988-09-15</td>\n",
       "      <td>e8a81877ae9a0a7f883e15cb39dc4022</td>\n",
       "      <td>1325466397</td>\n",
       "      <td>36.430124</td>\n",
       "      <td>-81.179483</td>\n",
       "      <td>1</td>\n",
       "    </tr>\n",
       "    <tr>\n",
       "      <th>2472</th>\n",
       "      <td>2019-01-02 1:47</td>\n",
       "      <td>3.401870e+14</td>\n",
       "      <td>fraud_Jenkins, Hauck and Friesen</td>\n",
       "      <td>gas_transport</td>\n",
       "      <td>11.52</td>\n",
       "      <td>Misty</td>\n",
       "      <td>Hart</td>\n",
       "      <td>F</td>\n",
       "      <td>27954 Hall Mill Suite 575</td>\n",
       "      <td>San Antonio</td>\n",
       "      <td>...</td>\n",
       "      <td>29.4400</td>\n",
       "      <td>-98.4590</td>\n",
       "      <td>1595797</td>\n",
       "      <td>Horticultural consultant</td>\n",
       "      <td>1960-10-28</td>\n",
       "      <td>bc7d41c41103877b03232f03f1f8d3f5</td>\n",
       "      <td>1325468849</td>\n",
       "      <td>29.819364</td>\n",
       "      <td>-99.142791</td>\n",
       "      <td>1</td>\n",
       "    </tr>\n",
       "    <tr>\n",
       "      <th>2523</th>\n",
       "      <td>2019-01-02 3:05</td>\n",
       "      <td>3.401870e+14</td>\n",
       "      <td>fraud_Goodwin-Nitzsche</td>\n",
       "      <td>grocery_pos</td>\n",
       "      <td>276.31</td>\n",
       "      <td>Misty</td>\n",
       "      <td>Hart</td>\n",
       "      <td>F</td>\n",
       "      <td>27954 Hall Mill Suite 575</td>\n",
       "      <td>San Antonio</td>\n",
       "      <td>...</td>\n",
       "      <td>29.4400</td>\n",
       "      <td>-98.4590</td>\n",
       "      <td>1595797</td>\n",
       "      <td>Horticultural consultant</td>\n",
       "      <td>1960-10-28</td>\n",
       "      <td>b98f12f4168391b2203238813df5aa8c</td>\n",
       "      <td>1325473523</td>\n",
       "      <td>29.273085</td>\n",
       "      <td>-98.836360</td>\n",
       "      <td>1</td>\n",
       "    </tr>\n",
       "    <tr>\n",
       "      <th>2546</th>\n",
       "      <td>2019-01-02 3:38</td>\n",
       "      <td>4.613310e+12</td>\n",
       "      <td>fraud_Erdman-Kertzmann</td>\n",
       "      <td>gas_transport</td>\n",
       "      <td>7.03</td>\n",
       "      <td>Jason</td>\n",
       "      <td>Murphy</td>\n",
       "      <td>M</td>\n",
       "      <td>542 Steve Curve Suite 011</td>\n",
       "      <td>Collettsville</td>\n",
       "      <td>...</td>\n",
       "      <td>35.9946</td>\n",
       "      <td>-81.7266</td>\n",
       "      <td>885</td>\n",
       "      <td>Soil scientist</td>\n",
       "      <td>1988-09-15</td>\n",
       "      <td>397894a5c4c02e3c61c784001f0f14e4</td>\n",
       "      <td>1325475483</td>\n",
       "      <td>35.909292</td>\n",
       "      <td>-82.091010</td>\n",
       "      <td>1</td>\n",
       "    </tr>\n",
       "    <tr>\n",
       "      <th>2553</th>\n",
       "      <td>2019-01-02 3:55</td>\n",
       "      <td>3.401870e+14</td>\n",
       "      <td>fraud_Koepp-Parker</td>\n",
       "      <td>grocery_pos</td>\n",
       "      <td>275.73</td>\n",
       "      <td>Misty</td>\n",
       "      <td>Hart</td>\n",
       "      <td>F</td>\n",
       "      <td>27954 Hall Mill Suite 575</td>\n",
       "      <td>San Antonio</td>\n",
       "      <td>...</td>\n",
       "      <td>29.4400</td>\n",
       "      <td>-98.4590</td>\n",
       "      <td>1595797</td>\n",
       "      <td>Horticultural consultant</td>\n",
       "      <td>1960-10-28</td>\n",
       "      <td>7863235a750d73a244c07f1fb7f0185a</td>\n",
       "      <td>1325476547</td>\n",
       "      <td>29.786426</td>\n",
       "      <td>-98.683410</td>\n",
       "      <td>1</td>\n",
       "    </tr>\n",
       "    <tr>\n",
       "      <th>...</th>\n",
       "      <td>...</td>\n",
       "      <td>...</td>\n",
       "      <td>...</td>\n",
       "      <td>...</td>\n",
       "      <td>...</td>\n",
       "      <td>...</td>\n",
       "      <td>...</td>\n",
       "      <td>...</td>\n",
       "      <td>...</td>\n",
       "      <td>...</td>\n",
       "      <td>...</td>\n",
       "      <td>...</td>\n",
       "      <td>...</td>\n",
       "      <td>...</td>\n",
       "      <td>...</td>\n",
       "      <td>...</td>\n",
       "      <td>...</td>\n",
       "      <td>...</td>\n",
       "      <td>...</td>\n",
       "      <td>...</td>\n",
       "      <td>...</td>\n",
       "    </tr>\n",
       "    <tr>\n",
       "      <th>363827</th>\n",
       "      <td>2019-06-17 19:30</td>\n",
       "      <td>2.475090e+15</td>\n",
       "      <td>fraud_Frami Group</td>\n",
       "      <td>entertainment</td>\n",
       "      <td>81.13</td>\n",
       "      <td>John</td>\n",
       "      <td>Miller</td>\n",
       "      <td>M</td>\n",
       "      <td>153 Mccullough Springs Apt. 857</td>\n",
       "      <td>Lamberton</td>\n",
       "      <td>...</td>\n",
       "      <td>44.2378</td>\n",
       "      <td>-95.2739</td>\n",
       "      <td>1507</td>\n",
       "      <td>Land/geomatics surveyor</td>\n",
       "      <td>1993-10-12</td>\n",
       "      <td>c66cb411019c7dfd4d89f42a1ba4765f</td>\n",
       "      <td>1339961448</td>\n",
       "      <td>44.212695</td>\n",
       "      <td>-95.661879</td>\n",
       "      <td>0</td>\n",
       "    </tr>\n",
       "    <tr>\n",
       "      <th>140154</th>\n",
       "      <td>2019-03-17 14:33</td>\n",
       "      <td>2.131550e+14</td>\n",
       "      <td>fraud_Bahringer-Streich</td>\n",
       "      <td>food_dining</td>\n",
       "      <td>55.00</td>\n",
       "      <td>Christopher</td>\n",
       "      <td>Sheppard</td>\n",
       "      <td>M</td>\n",
       "      <td>39218 Baker Shoals</td>\n",
       "      <td>Bristow</td>\n",
       "      <td>...</td>\n",
       "      <td>38.1981</td>\n",
       "      <td>-86.6821</td>\n",
       "      <td>965</td>\n",
       "      <td>Horticultural therapist</td>\n",
       "      <td>1982-02-10</td>\n",
       "      <td>316b9d25b9fa7d08a6831b7dab6634cd</td>\n",
       "      <td>1331994839</td>\n",
       "      <td>38.394240</td>\n",
       "      <td>-86.413557</td>\n",
       "      <td>0</td>\n",
       "    </tr>\n",
       "    <tr>\n",
       "      <th>860597</th>\n",
       "      <td>2019-12-17 12:31</td>\n",
       "      <td>2.280870e+15</td>\n",
       "      <td>fraud_Lubowitz-Walter</td>\n",
       "      <td>kids_pets</td>\n",
       "      <td>8.12</td>\n",
       "      <td>Katherine</td>\n",
       "      <td>Cooper</td>\n",
       "      <td>F</td>\n",
       "      <td>3854 Lauren Springs Suite 648</td>\n",
       "      <td>Oakford</td>\n",
       "      <td>...</td>\n",
       "      <td>40.0994</td>\n",
       "      <td>-89.9601</td>\n",
       "      <td>530</td>\n",
       "      <td>Transport planner</td>\n",
       "      <td>1967-09-23</td>\n",
       "      <td>d92e9e63d9b24c3ccb92d05cba4cac54</td>\n",
       "      <td>1355747517</td>\n",
       "      <td>39.695248</td>\n",
       "      <td>-89.853063</td>\n",
       "      <td>0</td>\n",
       "    </tr>\n",
       "    <tr>\n",
       "      <th>29341</th>\n",
       "      <td>2019-01-18 9:20</td>\n",
       "      <td>4.878360e+15</td>\n",
       "      <td>fraud_Denesik and Sons</td>\n",
       "      <td>shopping_pos</td>\n",
       "      <td>3.52</td>\n",
       "      <td>Tina</td>\n",
       "      <td>Alvarez</td>\n",
       "      <td>F</td>\n",
       "      <td>1976 Tyler Underpass</td>\n",
       "      <td>Early</td>\n",
       "      <td>...</td>\n",
       "      <td>42.4483</td>\n",
       "      <td>-95.1726</td>\n",
       "      <td>885</td>\n",
       "      <td>Pilot, airline</td>\n",
       "      <td>1949-08-14</td>\n",
       "      <td>8390ce51cfb8482b618ebc4ac370bcf7</td>\n",
       "      <td>1326878457</td>\n",
       "      <td>42.633204</td>\n",
       "      <td>-95.598143</td>\n",
       "      <td>0</td>\n",
       "    </tr>\n",
       "    <tr>\n",
       "      <th>529797</th>\n",
       "      <td>2019-08-16 13:17</td>\n",
       "      <td>4.450830e+15</td>\n",
       "      <td>fraud_Beier and Sons</td>\n",
       "      <td>home</td>\n",
       "      <td>84.15</td>\n",
       "      <td>Donna</td>\n",
       "      <td>Davis</td>\n",
       "      <td>F</td>\n",
       "      <td>6760 Donovan Lakes</td>\n",
       "      <td>Clayton</td>\n",
       "      <td>...</td>\n",
       "      <td>34.5906</td>\n",
       "      <td>-95.3800</td>\n",
       "      <td>1760</td>\n",
       "      <td>Occupational psychologist</td>\n",
       "      <td>1972-01-20</td>\n",
       "      <td>04e1be9bcb18ea8b96048659bd02177b</td>\n",
       "      <td>1345123058</td>\n",
       "      <td>33.885236</td>\n",
       "      <td>-95.885110</td>\n",
       "      <td>0</td>\n",
       "    </tr>\n",
       "  </tbody>\n",
       "</table>\n",
       "<p>12012 rows × 22 columns</p>\n",
       "</div>"
      ],
      "text/plain": [
       "       trans_date_trans_time        cc_num                          merchant   \n",
       "2449         2019-01-02 1:06  4.613310e+12            fraud_Rutherford-Mertz  \\\n",
       "2472         2019-01-02 1:47  3.401870e+14  fraud_Jenkins, Hauck and Friesen   \n",
       "2523         2019-01-02 3:05  3.401870e+14            fraud_Goodwin-Nitzsche   \n",
       "2546         2019-01-02 3:38  4.613310e+12            fraud_Erdman-Kertzmann   \n",
       "2553         2019-01-02 3:55  3.401870e+14                fraud_Koepp-Parker   \n",
       "...                      ...           ...                               ...   \n",
       "363827      2019-06-17 19:30  2.475090e+15                 fraud_Frami Group   \n",
       "140154      2019-03-17 14:33  2.131550e+14           fraud_Bahringer-Streich   \n",
       "860597      2019-12-17 12:31  2.280870e+15             fraud_Lubowitz-Walter   \n",
       "29341        2019-01-18 9:20  4.878360e+15            fraud_Denesik and Sons   \n",
       "529797      2019-08-16 13:17  4.450830e+15              fraud_Beier and Sons   \n",
       "\n",
       "             category     amt        first      last gender   \n",
       "2449      grocery_pos  281.06        Jason    Murphy      M  \\\n",
       "2472    gas_transport   11.52        Misty      Hart      F   \n",
       "2523      grocery_pos  276.31        Misty      Hart      F   \n",
       "2546    gas_transport    7.03        Jason    Murphy      M   \n",
       "2553      grocery_pos  275.73        Misty      Hart      F   \n",
       "...               ...     ...          ...       ...    ...   \n",
       "363827  entertainment   81.13         John    Miller      M   \n",
       "140154    food_dining   55.00  Christopher  Sheppard      M   \n",
       "860597      kids_pets    8.12    Katherine    Cooper      F   \n",
       "29341    shopping_pos    3.52         Tina   Alvarez      F   \n",
       "529797           home   84.15        Donna     Davis      F   \n",
       "\n",
       "                                 street           city  ...      lat     long   \n",
       "2449          542 Steve Curve Suite 011  Collettsville  ...  35.9946 -81.7266  \\\n",
       "2472          27954 Hall Mill Suite 575    San Antonio  ...  29.4400 -98.4590   \n",
       "2523          27954 Hall Mill Suite 575    San Antonio  ...  29.4400 -98.4590   \n",
       "2546          542 Steve Curve Suite 011  Collettsville  ...  35.9946 -81.7266   \n",
       "2553          27954 Hall Mill Suite 575    San Antonio  ...  29.4400 -98.4590   \n",
       "...                                 ...            ...  ...      ...      ...   \n",
       "363827  153 Mccullough Springs Apt. 857      Lamberton  ...  44.2378 -95.2739   \n",
       "140154               39218 Baker Shoals        Bristow  ...  38.1981 -86.6821   \n",
       "860597    3854 Lauren Springs Suite 648        Oakford  ...  40.0994 -89.9601   \n",
       "29341              1976 Tyler Underpass          Early  ...  42.4483 -95.1726   \n",
       "529797               6760 Donovan Lakes        Clayton  ...  34.5906 -95.3800   \n",
       "\n",
       "        city_pop                        job         dob   \n",
       "2449         885             Soil scientist  1988-09-15  \\\n",
       "2472     1595797   Horticultural consultant  1960-10-28   \n",
       "2523     1595797   Horticultural consultant  1960-10-28   \n",
       "2546         885             Soil scientist  1988-09-15   \n",
       "2553     1595797   Horticultural consultant  1960-10-28   \n",
       "...          ...                        ...         ...   \n",
       "363827      1507    Land/geomatics surveyor  1993-10-12   \n",
       "140154       965    Horticultural therapist  1982-02-10   \n",
       "860597       530          Transport planner  1967-09-23   \n",
       "29341        885             Pilot, airline  1949-08-14   \n",
       "529797      1760  Occupational psychologist  1972-01-20   \n",
       "\n",
       "                               trans_num   unix_time  merch_lat  merch_long   \n",
       "2449    e8a81877ae9a0a7f883e15cb39dc4022  1325466397  36.430124  -81.179483  \\\n",
       "2472    bc7d41c41103877b03232f03f1f8d3f5  1325468849  29.819364  -99.142791   \n",
       "2523    b98f12f4168391b2203238813df5aa8c  1325473523  29.273085  -98.836360   \n",
       "2546    397894a5c4c02e3c61c784001f0f14e4  1325475483  35.909292  -82.091010   \n",
       "2553    7863235a750d73a244c07f1fb7f0185a  1325476547  29.786426  -98.683410   \n",
       "...                                  ...         ...        ...         ...   \n",
       "363827  c66cb411019c7dfd4d89f42a1ba4765f  1339961448  44.212695  -95.661879   \n",
       "140154  316b9d25b9fa7d08a6831b7dab6634cd  1331994839  38.394240  -86.413557   \n",
       "860597  d92e9e63d9b24c3ccb92d05cba4cac54  1355747517  39.695248  -89.853063   \n",
       "29341   8390ce51cfb8482b618ebc4ac370bcf7  1326878457  42.633204  -95.598143   \n",
       "529797  04e1be9bcb18ea8b96048659bd02177b  1345123058  33.885236  -95.885110   \n",
       "\n",
       "        is_fraud  \n",
       "2449           1  \n",
       "2472           1  \n",
       "2523           1  \n",
       "2546           1  \n",
       "2553           1  \n",
       "...          ...  \n",
       "363827         0  \n",
       "140154         0  \n",
       "860597         0  \n",
       "29341          0  \n",
       "529797         0  \n",
       "\n",
       "[12012 rows x 22 columns]"
      ]
     },
     "execution_count": 9,
     "metadata": {},
     "output_type": "execute_result"
    }
   ],
   "source": [
    "df50"
   ]
  },
  {
   "cell_type": "code",
   "execution_count": 10,
   "id": "5f603bbd-7588-4fe2-adf9-1f7227e5b239",
   "metadata": {},
   "outputs": [
    {
     "data": {
      "text/plain": [
       "0.5"
      ]
     },
     "execution_count": 10,
     "metadata": {},
     "output_type": "execute_result"
    }
   ],
   "source": [
    "df50.is_fraud.mean().round(5)"
   ]
  },
  {
   "cell_type": "markdown",
   "id": "998c786d-c491-43f6-9602-86afc47bbfec",
   "metadata": {},
   "source": [
    "`-` df50_tr, df50_test "
   ]
  },
  {
   "cell_type": "code",
   "execution_count": 11,
   "id": "b6036f95-9a16-4a96-b19f-735f7ab3f7f5",
   "metadata": {},
   "outputs": [],
   "source": [
    "df50_tr,df50_test = sklearn.model_selection.train_test_split(df50, random_state=42)"
   ]
  },
  {
   "cell_type": "code",
   "execution_count": 12,
   "id": "4e040ef3-9b1c-4a10-bb45-1bb662d27bdb",
   "metadata": {},
   "outputs": [
    {
     "data": {
      "text/plain": [
       "(0.49828, 0.50516)"
      ]
     },
     "execution_count": 12,
     "metadata": {},
     "output_type": "execute_result"
    }
   ],
   "source": [
    "df50_tr.is_fraud.mean().round(5), df50_test.is_fraud.mean().round(5)"
   ]
  },
  {
   "cell_type": "markdown",
   "id": "1ac87aba-be12-445f-802f-764ffb4cde8e",
   "metadata": {},
   "source": [
    "`-` df02_tr, fraudTrain_tr"
   ]
  },
  {
   "cell_type": "code",
   "execution_count": 13,
   "id": "07f9aa31-fe90-4c8f-9cd4-fdfd4547f11e",
   "metadata": {},
   "outputs": [],
   "source": [
    "df02_tr = df02.loc[[i not in df50_test.index for i in df02.index],:].copy()\n",
    "fraudTrain_tr = fraudTrain.loc[[i not in df50_test.index for i in fraudTrain.index],:].copy()"
   ]
  },
  {
   "cell_type": "code",
   "execution_count": 14,
   "id": "5296bb34-0e3d-40b2-aee5-fa2bdb70c55d",
   "metadata": {},
   "outputs": [
    {
     "data": {
      "text/plain": [
       "((211517, 22), (1045572, 22))"
      ]
     },
     "execution_count": 14,
     "metadata": {},
     "output_type": "execute_result"
    }
   ],
   "source": [
    "df02_tr.shape, fraudTrain_tr.shape"
   ]
  },
  {
   "cell_type": "code",
   "execution_count": 15,
   "id": "0e595ee4-b8ff-4fd4-8e2d-c1e08a6cc76d",
   "metadata": {},
   "outputs": [
    {
     "data": {
      "text/plain": [
       "(0.02122, 0.00429)"
      ]
     },
     "execution_count": 15,
     "metadata": {},
     "output_type": "execute_result"
    }
   ],
   "source": [
    "df02_tr.is_fraud.mean().round(5), fraudTrain_tr.is_fraud.mean().round(5)"
   ]
  },
  {
   "cell_type": "markdown",
   "id": "e9e22ba0-1792-4c21-b550-576beadbbdc1",
   "metadata": {},
   "source": [
    "# 분석방법정리 "
   ]
  },
  {
   "cell_type": "markdown",
   "id": "5f44e10a-ac5a-4f39-b7a4-48813ae7a0c1",
   "metadata": {},
   "source": [
    "||Train|Test|모형|설명변수|그래프임베딩|\n",
    "|-|-|-|-|-|-|\n",
    "|분석1|df50train|df50test|로지스틱|amt|X|\n",
    "|분석2|df02train|df50test|로지스틱|amt|X|\n",
    "|분석3|df50train|df50test|로지스틱|amt,amtano|X|\n",
    "|분석4|df02train|df50test|로지스틱|amt,amtano|X|"
   ]
  },
  {
   "cell_type": "code",
   "execution_count": 49,
   "id": "fedd1139-3db6-43f5-8cf6-51080e1e2ccf",
   "metadata": {},
   "outputs": [
    {
     "data": {
      "text/html": [
       "<div>\n",
       "<style scoped>\n",
       "    .dataframe tbody tr th:only-of-type {\n",
       "        vertical-align: middle;\n",
       "    }\n",
       "\n",
       "    .dataframe tbody tr th {\n",
       "        vertical-align: top;\n",
       "    }\n",
       "\n",
       "    .dataframe thead th {\n",
       "        text-align: right;\n",
       "    }\n",
       "</style>\n",
       "<table border=\"1\" class=\"dataframe\">\n",
       "  <thead>\n",
       "    <tr style=\"text-align: right;\">\n",
       "      <th></th>\n",
       "      <th>accuracy_score</th>\n",
       "      <th>precision_score</th>\n",
       "      <th>recall_score</th>\n",
       "      <th>f1_score</th>\n",
       "    </tr>\n",
       "  </thead>\n",
       "  <tbody>\n",
       "    <tr>\n",
       "      <th>분석1</th>\n",
       "      <td>0.849484</td>\n",
       "      <td>0.933279</td>\n",
       "      <td>0.756098</td>\n",
       "      <td>0.835397</td>\n",
       "    </tr>\n",
       "    <tr>\n",
       "      <th>분석2</th>\n",
       "      <td>0.829171</td>\n",
       "      <td>0.885561</td>\n",
       "      <td>0.760053</td>\n",
       "      <td>0.818021</td>\n",
       "    </tr>\n",
       "    <tr>\n",
       "      <th>분석3</th>\n",
       "      <td>0.830170</td>\n",
       "      <td>0.909017</td>\n",
       "      <td>0.737640</td>\n",
       "      <td>0.814410</td>\n",
       "    </tr>\n",
       "    <tr>\n",
       "      <th>분석4</th>\n",
       "      <td>0.470529</td>\n",
       "      <td>0.399449</td>\n",
       "      <td>0.095583</td>\n",
       "      <td>0.154255</td>\n",
       "    </tr>\n",
       "  </tbody>\n",
       "</table>\n",
       "</div>"
      ],
      "text/plain": [
       "     accuracy_score  precision_score  recall_score  f1_score\n",
       "분석1        0.849484         0.933279      0.756098  0.835397\n",
       "분석2        0.829171         0.885561      0.760053  0.818021\n",
       "분석3        0.830170         0.909017      0.737640  0.814410\n",
       "분석4        0.470529         0.399449      0.095583  0.154255"
      ]
     },
     "execution_count": 49,
     "metadata": {},
     "output_type": "execute_result"
    }
   ],
   "source": [
    "pd.concat([_results1,_results2,_results3,_results4])"
   ]
  },
  {
   "cell_type": "markdown",
   "id": "8bc4c059-ceab-40f5-b3f8-b74a242b49e3",
   "metadata": {},
   "source": [
    "# 분석1 "
   ]
  },
  {
   "cell_type": "markdown",
   "id": "5f1d501f-831c-450c-8da6-c850235b4835",
   "metadata": {},
   "source": [
    "`-` step1: data "
   ]
  },
  {
   "cell_type": "code",
   "execution_count": 17,
   "id": "4d996db8-78c3-4e8f-b293-4b571adb84d7",
   "metadata": {},
   "outputs": [],
   "source": [
    "X = np.array(df50_tr.loc[:,['amt']])\n",
    "XX = np.array(df50_test.loc[:,['amt']])\n",
    "y = np.array(df50_tr.is_fraud)\n",
    "yy = np.array(df50_test.is_fraud)"
   ]
  },
  {
   "cell_type": "markdown",
   "id": "89351c6c-7dc0-4466-92bf-97dba6f07531",
   "metadata": {},
   "source": [
    "`-` step2: lrnr 생성 "
   ]
  },
  {
   "cell_type": "code",
   "execution_count": 18,
   "id": "7abc951c-277a-4bfb-aba2-baf89befb330",
   "metadata": {},
   "outputs": [],
   "source": [
    "lrnr = sklearn.linear_model.LogisticRegression()"
   ]
  },
  {
   "cell_type": "markdown",
   "id": "a0ae1ae2-f8e9-4a2e-a121-d00360f321c6",
   "metadata": {},
   "source": [
    "`-` step3: fit "
   ]
  },
  {
   "cell_type": "code",
   "execution_count": 19,
   "id": "a00dd53c-f6c4-4c00-869f-f885dead1ff2",
   "metadata": {},
   "outputs": [
    {
     "data": {
      "text/html": [
       "<style>#sk-container-id-1 {color: black;background-color: white;}#sk-container-id-1 pre{padding: 0;}#sk-container-id-1 div.sk-toggleable {background-color: white;}#sk-container-id-1 label.sk-toggleable__label {cursor: pointer;display: block;width: 100%;margin-bottom: 0;padding: 0.3em;box-sizing: border-box;text-align: center;}#sk-container-id-1 label.sk-toggleable__label-arrow:before {content: \"▸\";float: left;margin-right: 0.25em;color: #696969;}#sk-container-id-1 label.sk-toggleable__label-arrow:hover:before {color: black;}#sk-container-id-1 div.sk-estimator:hover label.sk-toggleable__label-arrow:before {color: black;}#sk-container-id-1 div.sk-toggleable__content {max-height: 0;max-width: 0;overflow: hidden;text-align: left;background-color: #f0f8ff;}#sk-container-id-1 div.sk-toggleable__content pre {margin: 0.2em;color: black;border-radius: 0.25em;background-color: #f0f8ff;}#sk-container-id-1 input.sk-toggleable__control:checked~div.sk-toggleable__content {max-height: 200px;max-width: 100%;overflow: auto;}#sk-container-id-1 input.sk-toggleable__control:checked~label.sk-toggleable__label-arrow:before {content: \"▾\";}#sk-container-id-1 div.sk-estimator input.sk-toggleable__control:checked~label.sk-toggleable__label {background-color: #d4ebff;}#sk-container-id-1 div.sk-label input.sk-toggleable__control:checked~label.sk-toggleable__label {background-color: #d4ebff;}#sk-container-id-1 input.sk-hidden--visually {border: 0;clip: rect(1px 1px 1px 1px);clip: rect(1px, 1px, 1px, 1px);height: 1px;margin: -1px;overflow: hidden;padding: 0;position: absolute;width: 1px;}#sk-container-id-1 div.sk-estimator {font-family: monospace;background-color: #f0f8ff;border: 1px dotted black;border-radius: 0.25em;box-sizing: border-box;margin-bottom: 0.5em;}#sk-container-id-1 div.sk-estimator:hover {background-color: #d4ebff;}#sk-container-id-1 div.sk-parallel-item::after {content: \"\";width: 100%;border-bottom: 1px solid gray;flex-grow: 1;}#sk-container-id-1 div.sk-label:hover label.sk-toggleable__label {background-color: #d4ebff;}#sk-container-id-1 div.sk-serial::before {content: \"\";position: absolute;border-left: 1px solid gray;box-sizing: border-box;top: 0;bottom: 0;left: 50%;z-index: 0;}#sk-container-id-1 div.sk-serial {display: flex;flex-direction: column;align-items: center;background-color: white;padding-right: 0.2em;padding-left: 0.2em;position: relative;}#sk-container-id-1 div.sk-item {position: relative;z-index: 1;}#sk-container-id-1 div.sk-parallel {display: flex;align-items: stretch;justify-content: center;background-color: white;position: relative;}#sk-container-id-1 div.sk-item::before, #sk-container-id-1 div.sk-parallel-item::before {content: \"\";position: absolute;border-left: 1px solid gray;box-sizing: border-box;top: 0;bottom: 0;left: 50%;z-index: -1;}#sk-container-id-1 div.sk-parallel-item {display: flex;flex-direction: column;z-index: 1;position: relative;background-color: white;}#sk-container-id-1 div.sk-parallel-item:first-child::after {align-self: flex-end;width: 50%;}#sk-container-id-1 div.sk-parallel-item:last-child::after {align-self: flex-start;width: 50%;}#sk-container-id-1 div.sk-parallel-item:only-child::after {width: 0;}#sk-container-id-1 div.sk-dashed-wrapped {border: 1px dashed gray;margin: 0 0.4em 0.5em 0.4em;box-sizing: border-box;padding-bottom: 0.4em;background-color: white;}#sk-container-id-1 div.sk-label label {font-family: monospace;font-weight: bold;display: inline-block;line-height: 1.2em;}#sk-container-id-1 div.sk-label-container {text-align: center;}#sk-container-id-1 div.sk-container {/* jupyter's `normalize.less` sets `[hidden] { display: none; }` but bootstrap.min.css set `[hidden] { display: none !important; }` so we also need the `!important` here to be able to override the default hidden behavior on the sphinx rendered scikit-learn.org. See: https://github.com/scikit-learn/scikit-learn/issues/21755 */display: inline-block !important;position: relative;}#sk-container-id-1 div.sk-text-repr-fallback {display: none;}</style><div id=\"sk-container-id-1\" class=\"sk-top-container\"><div class=\"sk-text-repr-fallback\"><pre>LogisticRegression()</pre><b>In a Jupyter environment, please rerun this cell to show the HTML representation or trust the notebook. <br />On GitHub, the HTML representation is unable to render, please try loading this page with nbviewer.org.</b></div><div class=\"sk-container\" hidden><div class=\"sk-item\"><div class=\"sk-estimator sk-toggleable\"><input class=\"sk-toggleable__control sk-hidden--visually\" id=\"sk-estimator-id-1\" type=\"checkbox\" checked><label for=\"sk-estimator-id-1\" class=\"sk-toggleable__label sk-toggleable__label-arrow\">LogisticRegression</label><div class=\"sk-toggleable__content\"><pre>LogisticRegression()</pre></div></div></div></div></div>"
      ],
      "text/plain": [
       "LogisticRegression()"
      ]
     },
     "execution_count": 19,
     "metadata": {},
     "output_type": "execute_result"
    }
   ],
   "source": [
    "lrnr.fit(X,y)"
   ]
  },
  {
   "cell_type": "markdown",
   "id": "28de5ed1-4c77-4e98-aa2e-40f03e9e3e55",
   "metadata": {},
   "source": [
    "`-` step4: evaluate"
   ]
  },
  {
   "cell_type": "code",
   "execution_count": 20,
   "id": "f5b34fea-4229-417e-ba97-76c513c817a2",
   "metadata": {},
   "outputs": [],
   "source": [
    "thresh = df50_tr.is_fraud.mean()\n",
    "yyhat = (lrnr.predict_proba(XX)> thresh)[:,-1]\n",
    "# yyhat = lrnr.predict(XX) "
   ]
  },
  {
   "cell_type": "code",
   "execution_count": 21,
   "id": "9467abff-4d0c-4f53-b3fb-c3db5afeb06d",
   "metadata": {},
   "outputs": [],
   "source": [
    "metrics = [sklearn.metrics.accuracy_score,\n",
    "           sklearn.metrics.precision_score,\n",
    "           sklearn.metrics.recall_score,\n",
    "           sklearn.metrics.f1_score]"
   ]
  },
  {
   "cell_type": "code",
   "execution_count": 22,
   "id": "e1d7ee53-3a5d-431a-ae71-fa73450d51ad",
   "metadata": {},
   "outputs": [
    {
     "data": {
      "text/html": [
       "<div>\n",
       "<style scoped>\n",
       "    .dataframe tbody tr th:only-of-type {\n",
       "        vertical-align: middle;\n",
       "    }\n",
       "\n",
       "    .dataframe tbody tr th {\n",
       "        vertical-align: top;\n",
       "    }\n",
       "\n",
       "    .dataframe thead th {\n",
       "        text-align: right;\n",
       "    }\n",
       "</style>\n",
       "<table border=\"1\" class=\"dataframe\">\n",
       "  <thead>\n",
       "    <tr style=\"text-align: right;\">\n",
       "      <th></th>\n",
       "      <th>accuracy_score</th>\n",
       "      <th>precision_score</th>\n",
       "      <th>recall_score</th>\n",
       "      <th>f1_score</th>\n",
       "    </tr>\n",
       "  </thead>\n",
       "  <tbody>\n",
       "    <tr>\n",
       "      <th>분석1</th>\n",
       "      <td>0.849484</td>\n",
       "      <td>0.933279</td>\n",
       "      <td>0.756098</td>\n",
       "      <td>0.835397</td>\n",
       "    </tr>\n",
       "  </tbody>\n",
       "</table>\n",
       "</div>"
      ],
      "text/plain": [
       "     accuracy_score  precision_score  recall_score  f1_score\n",
       "분석1        0.849484         0.933279      0.756098  0.835397"
      ]
     },
     "execution_count": 22,
     "metadata": {},
     "output_type": "execute_result"
    }
   ],
   "source": [
    "_results1= pd.DataFrame({m.__name__:[m(yy,yyhat).round(6)] for m in metrics},index=['분석1'])\n",
    "_results1"
   ]
  },
  {
   "cell_type": "markdown",
   "id": "be8e0792-638d-41b9-8885-40be2f58ba68",
   "metadata": {
    "tags": []
   },
   "source": [
    "# 분석2"
   ]
  },
  {
   "cell_type": "markdown",
   "id": "740ce3f8-c503-4331-a8a8-f72e5b427e5e",
   "metadata": {},
   "source": [
    "`-` step1: data "
   ]
  },
  {
   "cell_type": "code",
   "execution_count": 23,
   "id": "b26b0ba7-3ee6-4236-ae99-c815cc16cb08",
   "metadata": {},
   "outputs": [],
   "source": [
    "X = np.array(fraudTrain_tr.loc[:,['amt']])\n",
    "XX = np.array(df50_test.loc[:,['amt']])\n",
    "y = np.array(fraudTrain_tr.is_fraud)\n",
    "yy = np.array(df50_test.is_fraud)"
   ]
  },
  {
   "cell_type": "markdown",
   "id": "446c1af8-b1f9-4d1b-af0c-87a1083caff0",
   "metadata": {},
   "source": [
    "`-` step2: lrnr 생성 "
   ]
  },
  {
   "cell_type": "code",
   "execution_count": 24,
   "id": "0c27d49d-7c0d-4546-9e4a-491845280ea8",
   "metadata": {},
   "outputs": [],
   "source": [
    "lrnr = sklearn.linear_model.LogisticRegression()"
   ]
  },
  {
   "cell_type": "markdown",
   "id": "28480a97-8948-4ce1-8495-7d2ea075880e",
   "metadata": {},
   "source": [
    "`-` step3: fit "
   ]
  },
  {
   "cell_type": "code",
   "execution_count": 25,
   "id": "14a57847-02b9-4f53-9f39-afa214ee7d93",
   "metadata": {},
   "outputs": [
    {
     "data": {
      "text/html": [
       "<style>#sk-container-id-2 {color: black;background-color: white;}#sk-container-id-2 pre{padding: 0;}#sk-container-id-2 div.sk-toggleable {background-color: white;}#sk-container-id-2 label.sk-toggleable__label {cursor: pointer;display: block;width: 100%;margin-bottom: 0;padding: 0.3em;box-sizing: border-box;text-align: center;}#sk-container-id-2 label.sk-toggleable__label-arrow:before {content: \"▸\";float: left;margin-right: 0.25em;color: #696969;}#sk-container-id-2 label.sk-toggleable__label-arrow:hover:before {color: black;}#sk-container-id-2 div.sk-estimator:hover label.sk-toggleable__label-arrow:before {color: black;}#sk-container-id-2 div.sk-toggleable__content {max-height: 0;max-width: 0;overflow: hidden;text-align: left;background-color: #f0f8ff;}#sk-container-id-2 div.sk-toggleable__content pre {margin: 0.2em;color: black;border-radius: 0.25em;background-color: #f0f8ff;}#sk-container-id-2 input.sk-toggleable__control:checked~div.sk-toggleable__content {max-height: 200px;max-width: 100%;overflow: auto;}#sk-container-id-2 input.sk-toggleable__control:checked~label.sk-toggleable__label-arrow:before {content: \"▾\";}#sk-container-id-2 div.sk-estimator input.sk-toggleable__control:checked~label.sk-toggleable__label {background-color: #d4ebff;}#sk-container-id-2 div.sk-label input.sk-toggleable__control:checked~label.sk-toggleable__label {background-color: #d4ebff;}#sk-container-id-2 input.sk-hidden--visually {border: 0;clip: rect(1px 1px 1px 1px);clip: rect(1px, 1px, 1px, 1px);height: 1px;margin: -1px;overflow: hidden;padding: 0;position: absolute;width: 1px;}#sk-container-id-2 div.sk-estimator {font-family: monospace;background-color: #f0f8ff;border: 1px dotted black;border-radius: 0.25em;box-sizing: border-box;margin-bottom: 0.5em;}#sk-container-id-2 div.sk-estimator:hover {background-color: #d4ebff;}#sk-container-id-2 div.sk-parallel-item::after {content: \"\";width: 100%;border-bottom: 1px solid gray;flex-grow: 1;}#sk-container-id-2 div.sk-label:hover label.sk-toggleable__label {background-color: #d4ebff;}#sk-container-id-2 div.sk-serial::before {content: \"\";position: absolute;border-left: 1px solid gray;box-sizing: border-box;top: 0;bottom: 0;left: 50%;z-index: 0;}#sk-container-id-2 div.sk-serial {display: flex;flex-direction: column;align-items: center;background-color: white;padding-right: 0.2em;padding-left: 0.2em;position: relative;}#sk-container-id-2 div.sk-item {position: relative;z-index: 1;}#sk-container-id-2 div.sk-parallel {display: flex;align-items: stretch;justify-content: center;background-color: white;position: relative;}#sk-container-id-2 div.sk-item::before, #sk-container-id-2 div.sk-parallel-item::before {content: \"\";position: absolute;border-left: 1px solid gray;box-sizing: border-box;top: 0;bottom: 0;left: 50%;z-index: -1;}#sk-container-id-2 div.sk-parallel-item {display: flex;flex-direction: column;z-index: 1;position: relative;background-color: white;}#sk-container-id-2 div.sk-parallel-item:first-child::after {align-self: flex-end;width: 50%;}#sk-container-id-2 div.sk-parallel-item:last-child::after {align-self: flex-start;width: 50%;}#sk-container-id-2 div.sk-parallel-item:only-child::after {width: 0;}#sk-container-id-2 div.sk-dashed-wrapped {border: 1px dashed gray;margin: 0 0.4em 0.5em 0.4em;box-sizing: border-box;padding-bottom: 0.4em;background-color: white;}#sk-container-id-2 div.sk-label label {font-family: monospace;font-weight: bold;display: inline-block;line-height: 1.2em;}#sk-container-id-2 div.sk-label-container {text-align: center;}#sk-container-id-2 div.sk-container {/* jupyter's `normalize.less` sets `[hidden] { display: none; }` but bootstrap.min.css set `[hidden] { display: none !important; }` so we also need the `!important` here to be able to override the default hidden behavior on the sphinx rendered scikit-learn.org. See: https://github.com/scikit-learn/scikit-learn/issues/21755 */display: inline-block !important;position: relative;}#sk-container-id-2 div.sk-text-repr-fallback {display: none;}</style><div id=\"sk-container-id-2\" class=\"sk-top-container\"><div class=\"sk-text-repr-fallback\"><pre>LogisticRegression()</pre><b>In a Jupyter environment, please rerun this cell to show the HTML representation or trust the notebook. <br />On GitHub, the HTML representation is unable to render, please try loading this page with nbviewer.org.</b></div><div class=\"sk-container\" hidden><div class=\"sk-item\"><div class=\"sk-estimator sk-toggleable\"><input class=\"sk-toggleable__control sk-hidden--visually\" id=\"sk-estimator-id-2\" type=\"checkbox\" checked><label for=\"sk-estimator-id-2\" class=\"sk-toggleable__label sk-toggleable__label-arrow\">LogisticRegression</label><div class=\"sk-toggleable__content\"><pre>LogisticRegression()</pre></div></div></div></div></div>"
      ],
      "text/plain": [
       "LogisticRegression()"
      ]
     },
     "execution_count": 25,
     "metadata": {},
     "output_type": "execute_result"
    }
   ],
   "source": [
    "lrnr.fit(X,y)"
   ]
  },
  {
   "cell_type": "markdown",
   "id": "48f65a91-5ffb-485a-9114-34da0f1c7d06",
   "metadata": {},
   "source": [
    "`-` step4: evaluate"
   ]
  },
  {
   "cell_type": "code",
   "execution_count": 26,
   "id": "8adf0b5a-4abd-4a2b-967d-a8c1a388cea7",
   "metadata": {},
   "outputs": [],
   "source": [
    "thresh = fraudTrain_tr.is_fraud.mean()\n",
    "yyhat = (lrnr.predict_proba(XX)> thresh)[:,-1]\n",
    "#yyhat = lrnr.predict(XX) "
   ]
  },
  {
   "cell_type": "code",
   "execution_count": 27,
   "id": "ba86f8ea-a92c-4d3a-ab55-ce588643ee1f",
   "metadata": {},
   "outputs": [],
   "source": [
    "metrics = [sklearn.metrics.accuracy_score,\n",
    "           sklearn.metrics.precision_score,\n",
    "           sklearn.metrics.recall_score,\n",
    "           sklearn.metrics.f1_score]"
   ]
  },
  {
   "cell_type": "code",
   "execution_count": 28,
   "id": "de5061eb-eb69-4856-a7c7-055a9e7bba20",
   "metadata": {},
   "outputs": [
    {
     "data": {
      "text/html": [
       "<div>\n",
       "<style scoped>\n",
       "    .dataframe tbody tr th:only-of-type {\n",
       "        vertical-align: middle;\n",
       "    }\n",
       "\n",
       "    .dataframe tbody tr th {\n",
       "        vertical-align: top;\n",
       "    }\n",
       "\n",
       "    .dataframe thead th {\n",
       "        text-align: right;\n",
       "    }\n",
       "</style>\n",
       "<table border=\"1\" class=\"dataframe\">\n",
       "  <thead>\n",
       "    <tr style=\"text-align: right;\">\n",
       "      <th></th>\n",
       "      <th>accuracy_score</th>\n",
       "      <th>precision_score</th>\n",
       "      <th>recall_score</th>\n",
       "      <th>f1_score</th>\n",
       "    </tr>\n",
       "  </thead>\n",
       "  <tbody>\n",
       "    <tr>\n",
       "      <th>분석2</th>\n",
       "      <td>0.829171</td>\n",
       "      <td>0.885561</td>\n",
       "      <td>0.760053</td>\n",
       "      <td>0.818021</td>\n",
       "    </tr>\n",
       "  </tbody>\n",
       "</table>\n",
       "</div>"
      ],
      "text/plain": [
       "     accuracy_score  precision_score  recall_score  f1_score\n",
       "분석2        0.829171         0.885561      0.760053  0.818021"
      ]
     },
     "execution_count": 28,
     "metadata": {},
     "output_type": "execute_result"
    }
   ],
   "source": [
    "_results2= pd.DataFrame({m.__name__:[m(yy,yyhat).round(6)] for m in metrics},index=['분석2'])\n",
    "_results2"
   ]
  },
  {
   "cell_type": "markdown",
   "id": "3bd3c3cc-2917-49db-a465-5707a8265d6b",
   "metadata": {
    "tags": []
   },
   "source": [
    "# 분석3"
   ]
  },
  {
   "cell_type": "markdown",
   "id": "89fda823-9ac1-4c37-8854-fbb6f8748f0a",
   "metadata": {},
   "source": [
    "`-` 함수 "
   ]
  },
  {
   "cell_type": "code",
   "execution_count": 29,
   "id": "21e450d7-3a4c-403a-bcdd-2a1a2a5deb31",
   "metadata": {},
   "outputs": [],
   "source": [
    "def amtano1(df_train):\n",
    "    df = df_train.copy()\n",
    "    df = df.assign(amtano=0)\n",
    "    normalize = lambda arr: (arr-np.median(arr))/np.std(arr) if np.std(arr)!=0 else arr*0 \n",
    "    for cc_num, sub_df in df.groupby('cc_num'):\n",
    "        df.loc[df.cc_num == cc_num,['amtano']] = normalize(sub_df.amt)\n",
    "    return df  "
   ]
  },
  {
   "cell_type": "code",
   "execution_count": 30,
   "id": "58ed579c-4aeb-457a-be56-bc482c479cca",
   "metadata": {},
   "outputs": [],
   "source": [
    "def amtano2(df_train,df_test):\n",
    "    df = pd.concat([df_train,df_test])\n",
    "    df_amtano = amtano_train(df) \n",
    "    return df_test.assign(amtano = df_amtano.loc[[i in df_test.index for i in df_amtano.index],'amtano'])"
   ]
  },
  {
   "cell_type": "markdown",
   "id": "6552c013-3931-48b0-8ced-c4f88b4eff19",
   "metadata": {},
   "source": [
    "`-` step1: data "
   ]
  },
  {
   "cell_type": "code",
   "execution_count": 31,
   "id": "702db956-b952-4075-8bf7-63a545ce0da3",
   "metadata": {},
   "outputs": [],
   "source": [
    "X = np.array(amtano1(df50_tr).loc[:,['amt','amtano']])\n",
    "XX = np.array(amtano1(df50_test).loc[:,['amt','amtano']])\n",
    "y = np.array(df50_tr.is_fraud)\n",
    "yy = np.array(df50_test.is_fraud)"
   ]
  },
  {
   "cell_type": "markdown",
   "id": "5dab5dcb-545e-4e48-b369-b220dd975719",
   "metadata": {},
   "source": [
    "`-` step2: lrnr 생성 "
   ]
  },
  {
   "cell_type": "code",
   "execution_count": 32,
   "id": "21af7743-14f6-45bb-91ff-8d9c6a311d0d",
   "metadata": {},
   "outputs": [],
   "source": [
    "lrnr = sklearn.linear_model.LogisticRegression()"
   ]
  },
  {
   "cell_type": "markdown",
   "id": "8a4be1b2-d00e-473e-9832-31a8c2b7215e",
   "metadata": {},
   "source": [
    "`-` step3: fit "
   ]
  },
  {
   "cell_type": "code",
   "execution_count": 33,
   "id": "1184b7c0-624b-4b5f-9b06-a4beb65f9a6c",
   "metadata": {},
   "outputs": [
    {
     "data": {
      "text/html": [
       "<style>#sk-container-id-3 {color: black;background-color: white;}#sk-container-id-3 pre{padding: 0;}#sk-container-id-3 div.sk-toggleable {background-color: white;}#sk-container-id-3 label.sk-toggleable__label {cursor: pointer;display: block;width: 100%;margin-bottom: 0;padding: 0.3em;box-sizing: border-box;text-align: center;}#sk-container-id-3 label.sk-toggleable__label-arrow:before {content: \"▸\";float: left;margin-right: 0.25em;color: #696969;}#sk-container-id-3 label.sk-toggleable__label-arrow:hover:before {color: black;}#sk-container-id-3 div.sk-estimator:hover label.sk-toggleable__label-arrow:before {color: black;}#sk-container-id-3 div.sk-toggleable__content {max-height: 0;max-width: 0;overflow: hidden;text-align: left;background-color: #f0f8ff;}#sk-container-id-3 div.sk-toggleable__content pre {margin: 0.2em;color: black;border-radius: 0.25em;background-color: #f0f8ff;}#sk-container-id-3 input.sk-toggleable__control:checked~div.sk-toggleable__content {max-height: 200px;max-width: 100%;overflow: auto;}#sk-container-id-3 input.sk-toggleable__control:checked~label.sk-toggleable__label-arrow:before {content: \"▾\";}#sk-container-id-3 div.sk-estimator input.sk-toggleable__control:checked~label.sk-toggleable__label {background-color: #d4ebff;}#sk-container-id-3 div.sk-label input.sk-toggleable__control:checked~label.sk-toggleable__label {background-color: #d4ebff;}#sk-container-id-3 input.sk-hidden--visually {border: 0;clip: rect(1px 1px 1px 1px);clip: rect(1px, 1px, 1px, 1px);height: 1px;margin: -1px;overflow: hidden;padding: 0;position: absolute;width: 1px;}#sk-container-id-3 div.sk-estimator {font-family: monospace;background-color: #f0f8ff;border: 1px dotted black;border-radius: 0.25em;box-sizing: border-box;margin-bottom: 0.5em;}#sk-container-id-3 div.sk-estimator:hover {background-color: #d4ebff;}#sk-container-id-3 div.sk-parallel-item::after {content: \"\";width: 100%;border-bottom: 1px solid gray;flex-grow: 1;}#sk-container-id-3 div.sk-label:hover label.sk-toggleable__label {background-color: #d4ebff;}#sk-container-id-3 div.sk-serial::before {content: \"\";position: absolute;border-left: 1px solid gray;box-sizing: border-box;top: 0;bottom: 0;left: 50%;z-index: 0;}#sk-container-id-3 div.sk-serial {display: flex;flex-direction: column;align-items: center;background-color: white;padding-right: 0.2em;padding-left: 0.2em;position: relative;}#sk-container-id-3 div.sk-item {position: relative;z-index: 1;}#sk-container-id-3 div.sk-parallel {display: flex;align-items: stretch;justify-content: center;background-color: white;position: relative;}#sk-container-id-3 div.sk-item::before, #sk-container-id-3 div.sk-parallel-item::before {content: \"\";position: absolute;border-left: 1px solid gray;box-sizing: border-box;top: 0;bottom: 0;left: 50%;z-index: -1;}#sk-container-id-3 div.sk-parallel-item {display: flex;flex-direction: column;z-index: 1;position: relative;background-color: white;}#sk-container-id-3 div.sk-parallel-item:first-child::after {align-self: flex-end;width: 50%;}#sk-container-id-3 div.sk-parallel-item:last-child::after {align-self: flex-start;width: 50%;}#sk-container-id-3 div.sk-parallel-item:only-child::after {width: 0;}#sk-container-id-3 div.sk-dashed-wrapped {border: 1px dashed gray;margin: 0 0.4em 0.5em 0.4em;box-sizing: border-box;padding-bottom: 0.4em;background-color: white;}#sk-container-id-3 div.sk-label label {font-family: monospace;font-weight: bold;display: inline-block;line-height: 1.2em;}#sk-container-id-3 div.sk-label-container {text-align: center;}#sk-container-id-3 div.sk-container {/* jupyter's `normalize.less` sets `[hidden] { display: none; }` but bootstrap.min.css set `[hidden] { display: none !important; }` so we also need the `!important` here to be able to override the default hidden behavior on the sphinx rendered scikit-learn.org. See: https://github.com/scikit-learn/scikit-learn/issues/21755 */display: inline-block !important;position: relative;}#sk-container-id-3 div.sk-text-repr-fallback {display: none;}</style><div id=\"sk-container-id-3\" class=\"sk-top-container\"><div class=\"sk-text-repr-fallback\"><pre>LogisticRegression()</pre><b>In a Jupyter environment, please rerun this cell to show the HTML representation or trust the notebook. <br />On GitHub, the HTML representation is unable to render, please try loading this page with nbviewer.org.</b></div><div class=\"sk-container\" hidden><div class=\"sk-item\"><div class=\"sk-estimator sk-toggleable\"><input class=\"sk-toggleable__control sk-hidden--visually\" id=\"sk-estimator-id-3\" type=\"checkbox\" checked><label for=\"sk-estimator-id-3\" class=\"sk-toggleable__label sk-toggleable__label-arrow\">LogisticRegression</label><div class=\"sk-toggleable__content\"><pre>LogisticRegression()</pre></div></div></div></div></div>"
      ],
      "text/plain": [
       "LogisticRegression()"
      ]
     },
     "execution_count": 33,
     "metadata": {},
     "output_type": "execute_result"
    }
   ],
   "source": [
    "lrnr.fit(X,y)"
   ]
  },
  {
   "cell_type": "markdown",
   "id": "b5866d34-20ab-4eeb-bc63-7853620d1ccb",
   "metadata": {},
   "source": [
    "`-` step4: evaluate"
   ]
  },
  {
   "cell_type": "code",
   "execution_count": 34,
   "id": "0c8b2eef-136c-4f37-80d4-68d290ef9638",
   "metadata": {},
   "outputs": [],
   "source": [
    "thresh = df50_tr.is_fraud.mean()\n",
    "yyhat = (lrnr.predict_proba(XX)> thresh)[:,-1]\n",
    "#yyhat = lrnr.predict(XX) "
   ]
  },
  {
   "cell_type": "code",
   "execution_count": 35,
   "id": "6eb1fc45-74de-4fa2-8bd2-f504564d5464",
   "metadata": {},
   "outputs": [],
   "source": [
    "metrics = [sklearn.metrics.accuracy_score,\n",
    "           sklearn.metrics.precision_score,\n",
    "           sklearn.metrics.recall_score,\n",
    "           sklearn.metrics.f1_score]"
   ]
  },
  {
   "cell_type": "code",
   "execution_count": 36,
   "id": "f5a4e53d-d34d-46af-a296-8ae0e7434403",
   "metadata": {},
   "outputs": [
    {
     "data": {
      "text/html": [
       "<div>\n",
       "<style scoped>\n",
       "    .dataframe tbody tr th:only-of-type {\n",
       "        vertical-align: middle;\n",
       "    }\n",
       "\n",
       "    .dataframe tbody tr th {\n",
       "        vertical-align: top;\n",
       "    }\n",
       "\n",
       "    .dataframe thead th {\n",
       "        text-align: right;\n",
       "    }\n",
       "</style>\n",
       "<table border=\"1\" class=\"dataframe\">\n",
       "  <thead>\n",
       "    <tr style=\"text-align: right;\">\n",
       "      <th></th>\n",
       "      <th>accuracy_score</th>\n",
       "      <th>precision_score</th>\n",
       "      <th>recall_score</th>\n",
       "      <th>f1_score</th>\n",
       "    </tr>\n",
       "  </thead>\n",
       "  <tbody>\n",
       "    <tr>\n",
       "      <th>분석3</th>\n",
       "      <td>0.83017</td>\n",
       "      <td>0.909017</td>\n",
       "      <td>0.73764</td>\n",
       "      <td>0.81441</td>\n",
       "    </tr>\n",
       "  </tbody>\n",
       "</table>\n",
       "</div>"
      ],
      "text/plain": [
       "     accuracy_score  precision_score  recall_score  f1_score\n",
       "분석3         0.83017         0.909017       0.73764   0.81441"
      ]
     },
     "execution_count": 36,
     "metadata": {},
     "output_type": "execute_result"
    }
   ],
   "source": [
    "_results3= pd.DataFrame({m.__name__:[m(yy,yyhat).round(6)] for m in metrics},index=['분석3'])\n",
    "_results3"
   ]
  },
  {
   "cell_type": "markdown",
   "id": "4d837c1e-23ac-4c6c-9b27-2e7bd45bc060",
   "metadata": {
    "tags": []
   },
   "source": [
    "# 분석4"
   ]
  },
  {
   "cell_type": "markdown",
   "id": "b3126996-ab41-47db-9fde-44e9f5829ef2",
   "metadata": {},
   "source": [
    "`-` step1: data "
   ]
  },
  {
   "cell_type": "code",
   "execution_count": 37,
   "id": "dc565092-b53c-4acf-8c75-8212850f5a51",
   "metadata": {},
   "outputs": [],
   "source": [
    "X = np.array(amtano1(fraudTrain_tr).loc[:,['amt','amtano']])\n",
    "XX = np.array(amtano1(df50_test).loc[:,['amt','amtano']])\n",
    "y = np.array(fraudTrain_tr.is_fraud)\n",
    "yy = np.array(df50_test.is_fraud)"
   ]
  },
  {
   "cell_type": "markdown",
   "id": "846cb7af-de60-41e2-a65d-8d059c5fb9b6",
   "metadata": {},
   "source": [
    "`-` step2: lrnr 생성 "
   ]
  },
  {
   "cell_type": "code",
   "execution_count": 38,
   "id": "e14954a5-1ca0-4681-820b-87b5678431a4",
   "metadata": {},
   "outputs": [],
   "source": [
    "lrnr = sklearn.linear_model.LogisticRegression()"
   ]
  },
  {
   "cell_type": "markdown",
   "id": "8c3ca5b0-fb3f-4536-96fa-7489a90c67dd",
   "metadata": {},
   "source": [
    "`-` step3: fit "
   ]
  },
  {
   "cell_type": "code",
   "execution_count": 39,
   "id": "d38ae0ee-0bb1-4cf1-8c7b-e37be5072535",
   "metadata": {},
   "outputs": [
    {
     "data": {
      "text/html": [
       "<style>#sk-container-id-4 {color: black;background-color: white;}#sk-container-id-4 pre{padding: 0;}#sk-container-id-4 div.sk-toggleable {background-color: white;}#sk-container-id-4 label.sk-toggleable__label {cursor: pointer;display: block;width: 100%;margin-bottom: 0;padding: 0.3em;box-sizing: border-box;text-align: center;}#sk-container-id-4 label.sk-toggleable__label-arrow:before {content: \"▸\";float: left;margin-right: 0.25em;color: #696969;}#sk-container-id-4 label.sk-toggleable__label-arrow:hover:before {color: black;}#sk-container-id-4 div.sk-estimator:hover label.sk-toggleable__label-arrow:before {color: black;}#sk-container-id-4 div.sk-toggleable__content {max-height: 0;max-width: 0;overflow: hidden;text-align: left;background-color: #f0f8ff;}#sk-container-id-4 div.sk-toggleable__content pre {margin: 0.2em;color: black;border-radius: 0.25em;background-color: #f0f8ff;}#sk-container-id-4 input.sk-toggleable__control:checked~div.sk-toggleable__content {max-height: 200px;max-width: 100%;overflow: auto;}#sk-container-id-4 input.sk-toggleable__control:checked~label.sk-toggleable__label-arrow:before {content: \"▾\";}#sk-container-id-4 div.sk-estimator input.sk-toggleable__control:checked~label.sk-toggleable__label {background-color: #d4ebff;}#sk-container-id-4 div.sk-label input.sk-toggleable__control:checked~label.sk-toggleable__label {background-color: #d4ebff;}#sk-container-id-4 input.sk-hidden--visually {border: 0;clip: rect(1px 1px 1px 1px);clip: rect(1px, 1px, 1px, 1px);height: 1px;margin: -1px;overflow: hidden;padding: 0;position: absolute;width: 1px;}#sk-container-id-4 div.sk-estimator {font-family: monospace;background-color: #f0f8ff;border: 1px dotted black;border-radius: 0.25em;box-sizing: border-box;margin-bottom: 0.5em;}#sk-container-id-4 div.sk-estimator:hover {background-color: #d4ebff;}#sk-container-id-4 div.sk-parallel-item::after {content: \"\";width: 100%;border-bottom: 1px solid gray;flex-grow: 1;}#sk-container-id-4 div.sk-label:hover label.sk-toggleable__label {background-color: #d4ebff;}#sk-container-id-4 div.sk-serial::before {content: \"\";position: absolute;border-left: 1px solid gray;box-sizing: border-box;top: 0;bottom: 0;left: 50%;z-index: 0;}#sk-container-id-4 div.sk-serial {display: flex;flex-direction: column;align-items: center;background-color: white;padding-right: 0.2em;padding-left: 0.2em;position: relative;}#sk-container-id-4 div.sk-item {position: relative;z-index: 1;}#sk-container-id-4 div.sk-parallel {display: flex;align-items: stretch;justify-content: center;background-color: white;position: relative;}#sk-container-id-4 div.sk-item::before, #sk-container-id-4 div.sk-parallel-item::before {content: \"\";position: absolute;border-left: 1px solid gray;box-sizing: border-box;top: 0;bottom: 0;left: 50%;z-index: -1;}#sk-container-id-4 div.sk-parallel-item {display: flex;flex-direction: column;z-index: 1;position: relative;background-color: white;}#sk-container-id-4 div.sk-parallel-item:first-child::after {align-self: flex-end;width: 50%;}#sk-container-id-4 div.sk-parallel-item:last-child::after {align-self: flex-start;width: 50%;}#sk-container-id-4 div.sk-parallel-item:only-child::after {width: 0;}#sk-container-id-4 div.sk-dashed-wrapped {border: 1px dashed gray;margin: 0 0.4em 0.5em 0.4em;box-sizing: border-box;padding-bottom: 0.4em;background-color: white;}#sk-container-id-4 div.sk-label label {font-family: monospace;font-weight: bold;display: inline-block;line-height: 1.2em;}#sk-container-id-4 div.sk-label-container {text-align: center;}#sk-container-id-4 div.sk-container {/* jupyter's `normalize.less` sets `[hidden] { display: none; }` but bootstrap.min.css set `[hidden] { display: none !important; }` so we also need the `!important` here to be able to override the default hidden behavior on the sphinx rendered scikit-learn.org. See: https://github.com/scikit-learn/scikit-learn/issues/21755 */display: inline-block !important;position: relative;}#sk-container-id-4 div.sk-text-repr-fallback {display: none;}</style><div id=\"sk-container-id-4\" class=\"sk-top-container\"><div class=\"sk-text-repr-fallback\"><pre>LogisticRegression()</pre><b>In a Jupyter environment, please rerun this cell to show the HTML representation or trust the notebook. <br />On GitHub, the HTML representation is unable to render, please try loading this page with nbviewer.org.</b></div><div class=\"sk-container\" hidden><div class=\"sk-item\"><div class=\"sk-estimator sk-toggleable\"><input class=\"sk-toggleable__control sk-hidden--visually\" id=\"sk-estimator-id-4\" type=\"checkbox\" checked><label for=\"sk-estimator-id-4\" class=\"sk-toggleable__label sk-toggleable__label-arrow\">LogisticRegression</label><div class=\"sk-toggleable__content\"><pre>LogisticRegression()</pre></div></div></div></div></div>"
      ],
      "text/plain": [
       "LogisticRegression()"
      ]
     },
     "execution_count": 39,
     "metadata": {},
     "output_type": "execute_result"
    }
   ],
   "source": [
    "lrnr.fit(X,y)"
   ]
  },
  {
   "cell_type": "markdown",
   "id": "c5b050e5-8bda-4bd3-ae00-67ecb11c66aa",
   "metadata": {},
   "source": [
    "`-` step4: evaluate"
   ]
  },
  {
   "cell_type": "code",
   "execution_count": 40,
   "id": "049de020-2584-4dca-b304-5a9d338c4df7",
   "metadata": {},
   "outputs": [],
   "source": [
    "thresh = fraudTrain_tr.is_fraud.mean()\n",
    "yyhat = (lrnr.predict_proba(XX)> thresh)[:,-1]\n",
    "# yyhat = lrnr.predict(XX) "
   ]
  },
  {
   "cell_type": "code",
   "execution_count": 41,
   "id": "72f6b5a8-1159-4371-a695-719c3f0665af",
   "metadata": {},
   "outputs": [],
   "source": [
    "metrics = [sklearn.metrics.accuracy_score,\n",
    "           sklearn.metrics.precision_score,\n",
    "           sklearn.metrics.recall_score,\n",
    "           sklearn.metrics.f1_score]"
   ]
  },
  {
   "cell_type": "code",
   "execution_count": 42,
   "id": "b5e9e5b7-1dcc-4675-8ff5-0e5ae70d323b",
   "metadata": {},
   "outputs": [
    {
     "data": {
      "text/html": [
       "<div>\n",
       "<style scoped>\n",
       "    .dataframe tbody tr th:only-of-type {\n",
       "        vertical-align: middle;\n",
       "    }\n",
       "\n",
       "    .dataframe tbody tr th {\n",
       "        vertical-align: top;\n",
       "    }\n",
       "\n",
       "    .dataframe thead th {\n",
       "        text-align: right;\n",
       "    }\n",
       "</style>\n",
       "<table border=\"1\" class=\"dataframe\">\n",
       "  <thead>\n",
       "    <tr style=\"text-align: right;\">\n",
       "      <th></th>\n",
       "      <th>accuracy_score</th>\n",
       "      <th>precision_score</th>\n",
       "      <th>recall_score</th>\n",
       "      <th>f1_score</th>\n",
       "    </tr>\n",
       "  </thead>\n",
       "  <tbody>\n",
       "    <tr>\n",
       "      <th>분석4</th>\n",
       "      <td>0.470529</td>\n",
       "      <td>0.399449</td>\n",
       "      <td>0.095583</td>\n",
       "      <td>0.154255</td>\n",
       "    </tr>\n",
       "  </tbody>\n",
       "</table>\n",
       "</div>"
      ],
      "text/plain": [
       "     accuracy_score  precision_score  recall_score  f1_score\n",
       "분석4        0.470529         0.399449      0.095583  0.154255"
      ]
     },
     "execution_count": 42,
     "metadata": {},
     "output_type": "execute_result"
    }
   ],
   "source": [
    "_results4= pd.DataFrame({m.__name__:[m(yy,yyhat).round(6)] for m in metrics},index=['분석4'])\n",
    "_results4"
   ]
  },
  {
   "cell_type": "markdown",
   "id": "992f30f5-6362-462b-9bb8-1e03ce5dd009",
   "metadata": {
    "tags": []
   },
   "source": [
    "# 분석5"
   ]
  },
  {
   "cell_type": "markdown",
   "id": "960d397b-6a4c-4030-8317-7a0d3f1a6f5b",
   "metadata": {},
   "source": [
    "`-` step1: data "
   ]
  },
  {
   "cell_type": "code",
   "execution_count": 43,
   "id": "18061996-71e5-4521-bd71-f021075e510f",
   "metadata": {},
   "outputs": [
    {
     "name": "stderr",
     "output_type": "stream",
     "text": [
      "Computing transition probabilities: 100%|██████████| 1501/1501 [00:00<00:00, 16084.29it/s]\n",
      "Generating walks (CPU: 1): 100%|██████████| 10/10 [00:02<00:00,  3.53it/s]\n",
      "Computing transition probabilities: 100%|██████████| 1501/1501 [00:00<00:00, 16125.78it/s]\n",
      "Generating walks (CPU: 1): 100%|██████████| 10/10 [00:02<00:00,  3.56it/s]\n"
     ]
    }
   ],
   "source": [
    "Gtr = build_graph_bipartite(df50_tr)\n",
    "Gtest = build_graph_bipartite(df50_test)\n",
    "X,y = embedding(Gtr)\n",
    "XX,yy = embedding(Gtest)"
   ]
  },
  {
   "cell_type": "markdown",
   "id": "b5845d28-204a-44bc-8262-c8bd4ca9d7a0",
   "metadata": {},
   "source": [
    "`-` step2: lrnr 생성 "
   ]
  },
  {
   "cell_type": "code",
   "execution_count": 44,
   "id": "d453e920-015b-4e44-bb92-148e41fbd89e",
   "metadata": {},
   "outputs": [],
   "source": [
    "lrnr = sklearn.linear_model.LogisticRegression()"
   ]
  },
  {
   "cell_type": "markdown",
   "id": "59b4b9e6-55cf-471b-a23f-22d7489763bc",
   "metadata": {},
   "source": [
    "`-` step3: fit "
   ]
  },
  {
   "cell_type": "code",
   "execution_count": 45,
   "id": "5e55b023-e1eb-42bb-8f5b-1112cb16ad55",
   "metadata": {},
   "outputs": [
    {
     "data": {
      "text/html": [
       "<style>#sk-container-id-5 {color: black;background-color: white;}#sk-container-id-5 pre{padding: 0;}#sk-container-id-5 div.sk-toggleable {background-color: white;}#sk-container-id-5 label.sk-toggleable__label {cursor: pointer;display: block;width: 100%;margin-bottom: 0;padding: 0.3em;box-sizing: border-box;text-align: center;}#sk-container-id-5 label.sk-toggleable__label-arrow:before {content: \"▸\";float: left;margin-right: 0.25em;color: #696969;}#sk-container-id-5 label.sk-toggleable__label-arrow:hover:before {color: black;}#sk-container-id-5 div.sk-estimator:hover label.sk-toggleable__label-arrow:before {color: black;}#sk-container-id-5 div.sk-toggleable__content {max-height: 0;max-width: 0;overflow: hidden;text-align: left;background-color: #f0f8ff;}#sk-container-id-5 div.sk-toggleable__content pre {margin: 0.2em;color: black;border-radius: 0.25em;background-color: #f0f8ff;}#sk-container-id-5 input.sk-toggleable__control:checked~div.sk-toggleable__content {max-height: 200px;max-width: 100%;overflow: auto;}#sk-container-id-5 input.sk-toggleable__control:checked~label.sk-toggleable__label-arrow:before {content: \"▾\";}#sk-container-id-5 div.sk-estimator input.sk-toggleable__control:checked~label.sk-toggleable__label {background-color: #d4ebff;}#sk-container-id-5 div.sk-label input.sk-toggleable__control:checked~label.sk-toggleable__label {background-color: #d4ebff;}#sk-container-id-5 input.sk-hidden--visually {border: 0;clip: rect(1px 1px 1px 1px);clip: rect(1px, 1px, 1px, 1px);height: 1px;margin: -1px;overflow: hidden;padding: 0;position: absolute;width: 1px;}#sk-container-id-5 div.sk-estimator {font-family: monospace;background-color: #f0f8ff;border: 1px dotted black;border-radius: 0.25em;box-sizing: border-box;margin-bottom: 0.5em;}#sk-container-id-5 div.sk-estimator:hover {background-color: #d4ebff;}#sk-container-id-5 div.sk-parallel-item::after {content: \"\";width: 100%;border-bottom: 1px solid gray;flex-grow: 1;}#sk-container-id-5 div.sk-label:hover label.sk-toggleable__label {background-color: #d4ebff;}#sk-container-id-5 div.sk-serial::before {content: \"\";position: absolute;border-left: 1px solid gray;box-sizing: border-box;top: 0;bottom: 0;left: 50%;z-index: 0;}#sk-container-id-5 div.sk-serial {display: flex;flex-direction: column;align-items: center;background-color: white;padding-right: 0.2em;padding-left: 0.2em;position: relative;}#sk-container-id-5 div.sk-item {position: relative;z-index: 1;}#sk-container-id-5 div.sk-parallel {display: flex;align-items: stretch;justify-content: center;background-color: white;position: relative;}#sk-container-id-5 div.sk-item::before, #sk-container-id-5 div.sk-parallel-item::before {content: \"\";position: absolute;border-left: 1px solid gray;box-sizing: border-box;top: 0;bottom: 0;left: 50%;z-index: -1;}#sk-container-id-5 div.sk-parallel-item {display: flex;flex-direction: column;z-index: 1;position: relative;background-color: white;}#sk-container-id-5 div.sk-parallel-item:first-child::after {align-self: flex-end;width: 50%;}#sk-container-id-5 div.sk-parallel-item:last-child::after {align-self: flex-start;width: 50%;}#sk-container-id-5 div.sk-parallel-item:only-child::after {width: 0;}#sk-container-id-5 div.sk-dashed-wrapped {border: 1px dashed gray;margin: 0 0.4em 0.5em 0.4em;box-sizing: border-box;padding-bottom: 0.4em;background-color: white;}#sk-container-id-5 div.sk-label label {font-family: monospace;font-weight: bold;display: inline-block;line-height: 1.2em;}#sk-container-id-5 div.sk-label-container {text-align: center;}#sk-container-id-5 div.sk-container {/* jupyter's `normalize.less` sets `[hidden] { display: none; }` but bootstrap.min.css set `[hidden] { display: none !important; }` so we also need the `!important` here to be able to override the default hidden behavior on the sphinx rendered scikit-learn.org. See: https://github.com/scikit-learn/scikit-learn/issues/21755 */display: inline-block !important;position: relative;}#sk-container-id-5 div.sk-text-repr-fallback {display: none;}</style><div id=\"sk-container-id-5\" class=\"sk-top-container\"><div class=\"sk-text-repr-fallback\"><pre>LogisticRegression()</pre><b>In a Jupyter environment, please rerun this cell to show the HTML representation or trust the notebook. <br />On GitHub, the HTML representation is unable to render, please try loading this page with nbviewer.org.</b></div><div class=\"sk-container\" hidden><div class=\"sk-item\"><div class=\"sk-estimator sk-toggleable\"><input class=\"sk-toggleable__control sk-hidden--visually\" id=\"sk-estimator-id-5\" type=\"checkbox\" checked><label for=\"sk-estimator-id-5\" class=\"sk-toggleable__label sk-toggleable__label-arrow\">LogisticRegression</label><div class=\"sk-toggleable__content\"><pre>LogisticRegression()</pre></div></div></div></div></div>"
      ],
      "text/plain": [
       "LogisticRegression()"
      ]
     },
     "execution_count": 45,
     "metadata": {},
     "output_type": "execute_result"
    }
   ],
   "source": [
    "lrnr.fit(X,y)"
   ]
  },
  {
   "cell_type": "markdown",
   "id": "53298d04-b2a3-4c09-9e4c-5aa4cc9d57fa",
   "metadata": {},
   "source": [
    "`-` step4: evaluate"
   ]
  },
  {
   "cell_type": "code",
   "execution_count": 46,
   "id": "6138e30e-beb0-4bc0-9c0c-2b21c9816887",
   "metadata": {},
   "outputs": [],
   "source": [
    "#thresh = df50_tr.is_fraud.mean()\n",
    "#yyhat = (lrnr.predict_proba(XX)> thresh)[:,-1]\n",
    "yyhat = lrnr.predict(XX) "
   ]
  },
  {
   "cell_type": "code",
   "execution_count": 47,
   "id": "35b1bdd7-bae2-4213-a0ee-da190986e709",
   "metadata": {},
   "outputs": [],
   "source": [
    "metrics = [sklearn.metrics.accuracy_score,\n",
    "           sklearn.metrics.precision_score,\n",
    "           sklearn.metrics.recall_score,\n",
    "           sklearn.metrics.f1_score]"
   ]
  },
  {
   "cell_type": "code",
   "execution_count": 48,
   "id": "e01eb824-3b71-45dc-8c09-0b7c098195ea",
   "metadata": {},
   "outputs": [
    {
     "data": {
      "text/html": [
       "<div>\n",
       "<style scoped>\n",
       "    .dataframe tbody tr th:only-of-type {\n",
       "        vertical-align: middle;\n",
       "    }\n",
       "\n",
       "    .dataframe tbody tr th {\n",
       "        vertical-align: top;\n",
       "    }\n",
       "\n",
       "    .dataframe thead th {\n",
       "        text-align: right;\n",
       "    }\n",
       "</style>\n",
       "<table border=\"1\" class=\"dataframe\">\n",
       "  <thead>\n",
       "    <tr style=\"text-align: right;\">\n",
       "      <th></th>\n",
       "      <th>accuracy_score</th>\n",
       "      <th>precision_score</th>\n",
       "      <th>recall_score</th>\n",
       "      <th>f1_score</th>\n",
       "    </tr>\n",
       "  </thead>\n",
       "  <tbody>\n",
       "    <tr>\n",
       "      <th>분석5</th>\n",
       "      <td>0.510532</td>\n",
       "      <td>0.507888</td>\n",
       "      <td>0.980795</td>\n",
       "      <td>0.669227</td>\n",
       "    </tr>\n",
       "  </tbody>\n",
       "</table>\n",
       "</div>"
      ],
      "text/plain": [
       "     accuracy_score  precision_score  recall_score  f1_score\n",
       "분석5        0.510532         0.507888      0.980795  0.669227"
      ]
     },
     "execution_count": 48,
     "metadata": {},
     "output_type": "execute_result"
    }
   ],
   "source": [
    "_results5= pd.DataFrame({m.__name__:[m(yy,yyhat).round(6)] for m in metrics},index=['분석5'])\n",
    "_results5"
   ]
  },
  {
   "cell_type": "markdown",
   "id": "5a354013-769e-49c9-9e96-9ef1810cac0d",
   "metadata": {},
   "source": [
    "- 기준이 다름 "
   ]
  }
 ],
 "metadata": {
  "kernelspec": {
   "display_name": "Python 3 (ipykernel)",
   "language": "python",
   "name": "python3"
  },
  "language_info": {
   "codemirror_mode": {
    "name": "ipython",
    "version": 3
   },
   "file_extension": ".py",
   "mimetype": "text/x-python",
   "name": "python",
   "nbconvert_exporter": "python",
   "pygments_lexer": "ipython3",
   "version": "3.10.13"
  }
 },
 "nbformat": 4,
 "nbformat_minor": 5
}
