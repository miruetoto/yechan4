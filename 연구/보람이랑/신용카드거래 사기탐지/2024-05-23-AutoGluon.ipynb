{
 "cells": [
  {
   "cell_type": "raw",
   "id": "aa8eaf2f-977a-4c52-9317-cf448bcc55f6",
   "metadata": {},
   "source": [
    "---\n",
    "title: \"(연구&보람) AutoGluon\"\n",
    "author: \"김보람\"\n",
    "date: \"05/02/2024\"\n",
    "---"
   ]
  },
  {
   "cell_type": "code",
   "execution_count": 24,
   "id": "903cec39-80c2-4b7d-bf79-fb6af3a19d83",
   "metadata": {},
   "outputs": [],
   "source": [
    "import pandas as pd\n",
    "import os "
   ]
  },
  {
   "cell_type": "code",
   "execution_count": 25,
   "id": "46ca5e19-e31d-48af-bac4-2bfe038e2eb8",
   "metadata": {},
   "outputs": [],
   "source": [
    "from autogluon.tabular import TabularDataset, TabularPredictor\n",
    "import sklearn"
   ]
  },
  {
   "cell_type": "code",
   "execution_count": 40,
   "id": "51df39f8-4899-47f2-92a0-c80e6d3a1ef4",
   "metadata": {},
   "outputs": [
    {
     "data": {
      "text/plain": [
       "['df_train1_2024-06-06-07-42-19_gamma095.csv',\n",
       " 'df_train2_2024-06-06-07-57-18_gamma095.csv',\n",
       " 'df_train3_2024-06-06-08-01-55_gamma095.csv',\n",
       " 'df_train4_2024-06-06-08-05-32_gamma095.csv',\n",
       " 'df_train5_2024-06-06-08-08-44_gamma095.csv',\n",
       " 'df_train6_2024-06-06-08-11-47_gamma095.csv',\n",
       " 'df_train7_2024-06-06-08-14-46_gamma095.csv',\n",
       " 'df_train8_2024-06-06-08-17-44_gamma095.csv']"
      ]
     },
     "execution_count": 40,
     "metadata": {},
     "output_type": "execute_result"
    }
   ],
   "source": [
    "df_train_fnamelst = [l for l in os.listdir(\"./GCNresults/\") if \"gamma095\" in l and \"train\" in l]\n",
    "df_train_fnamelst.sort()\n",
    "df_train_fnamelst"
   ]
  },
  {
   "cell_type": "code",
   "execution_count": 41,
   "id": "223dbae8-e9e9-4c11-be81-6458231c9711",
   "metadata": {},
   "outputs": [
    {
     "data": {
      "text/plain": [
       "['df_test_2024-06-06-07-42-19_gamma095.csv',\n",
       " 'df_test_2024-06-06-07-57-18_gamma095.csv',\n",
       " 'df_test_2024-06-06-08-01-55_gamma095.csv',\n",
       " 'df_test_2024-06-06-08-05-32_gamma095.csv',\n",
       " 'df_test_2024-06-06-08-08-44_gamma095.csv',\n",
       " 'df_test_2024-06-06-08-11-47_gamma095.csv',\n",
       " 'df_test_2024-06-06-08-14-46_gamma095.csv',\n",
       " 'df_test_2024-06-06-08-17-44_gamma095.csv']"
      ]
     },
     "execution_count": 41,
     "metadata": {},
     "output_type": "execute_result"
    }
   ],
   "source": [
    "df_test_fnamelst = [l for l in os.listdir(\"./GCNresults/\") if \"gamma095\" in l and \"test\" in l]\n",
    "df_test_fnamelst.sort()\n",
    "df_test_fnamelst"
   ]
  },
  {
   "cell_type": "code",
   "execution_count": 42,
   "id": "52069c9f-e8a5-485e-8e51-da1aed668117",
   "metadata": {},
   "outputs": [],
   "source": [
    "columns = [\n",
    "    'category',\n",
    "    'amt',\n",
    "    'gender',\n",
    "    # 'street',\n",
    "    # 'city',\n",
    "    # 'state',\n",
    "    # 'zip',\n",
    "    # 'lat',\n",
    "    # 'long',\n",
    "    # 'city_pop',\n",
    "    'job',\n",
    "    'unix_time',\n",
    "    'is_fraud',\n",
    "#    'is_fraud_hat_prob',\n",
    "    'h0','h1','h2','h3','h4','h5','h6','h7'\n",
    "]"
   ]
  },
  {
   "cell_type": "code",
   "execution_count": 48,
   "id": "371e3d3d-d3f4-465c-b1fa-e302f947f48f",
   "metadata": {},
   "outputs": [],
   "source": [
    "df_train_list = [pd.read_csv(f\"GCNresults/{fname}\")[Xcolumns] for fname in df_train_fnamelst]\n",
    "df_test_list = [pd.read_csv(f\"GCNresults/{fname}\")[Xcolumns] for fname in df_test_fnamelst]"
   ]
  },
  {
   "cell_type": "code",
   "execution_count": 49,
   "id": "47f24581-ea0f-49b2-9b3a-afc1d7b731fb",
   "metadata": {},
   "outputs": [],
   "source": [
    "df_zip = zip(df_train_list,df_test_list)"
   ]
  },
  {
   "cell_type": "code",
   "execution_count": 50,
   "id": "0a529c2e-bd37-458b-93e2-6659f563cd1e",
   "metadata": {},
   "outputs": [],
   "source": [
    "df_train, df_test = next(df_zip)"
   ]
  },
  {
   "cell_type": "code",
   "execution_count": 51,
   "id": "32387863-0d6d-41d5-a140-31d155727934",
   "metadata": {},
   "outputs": [
    {
     "name": "stderr",
     "output_type": "stream",
     "text": [
      "No path specified. Models will be saved in: \"AutogluonModels/ag-20240608_021237\"\n"
     ]
    }
   ],
   "source": [
    "predictr = TabularPredictor(\n",
    "    label=\"is_fraud\", \n",
    "    verbosity=1,\n",
    "    log_to_file=False,\n",
    ")"
   ]
  },
  {
   "cell_type": "code",
   "execution_count": 52,
   "id": "883bbd90-0b72-47fb-9ad4-b2f898ebf981",
   "metadata": {},
   "outputs": [
    {
     "name": "stderr",
     "output_type": "stream",
     "text": [
      "AutoGluon infers your prediction problem is: 'binary' (because only two unique label-values observed).\n",
      "\tIf 'binary' is not the correct problem_type, please manually specify the problem_type parameter during predictor init (You may specify problem_type as one of: ['binary', 'multiclass', 'regression'])\n"
     ]
    },
    {
     "data": {
      "text/plain": [
       "<autogluon.tabular.predictor.predictor.TabularPredictor at 0x7f58001ac7f0>"
      ]
     },
     "execution_count": 52,
     "metadata": {},
     "output_type": "execute_result"
    }
   ],
   "source": [
    "predictr.fit(df_train)"
   ]
  },
  {
   "cell_type": "code",
   "execution_count": 54,
   "id": "28725701-b010-406f-85de-4454a06e9864",
   "metadata": {},
   "outputs": [
    {
     "data": {
      "text/plain": [
       "<Axes: >"
      ]
     },
     "execution_count": 54,
     "metadata": {},
     "output_type": "execute_result"
    },
    {
     "data": {
      "image/png": "[encoded data removed]",
      "text/plain": [
       "<Figure size 640x480 with 1 Axes>"
      ]
     },
     "metadata": {},
     "output_type": "display_data"
    }
   ],
   "source": [
    "yyhat_prob = predictr.predict_proba(df_test).iloc[:,-1]\n",
    "df_test_compact=df_test.assign(yyhat_prob = yyhat_prob).loc[:,['amt','is_fraud','yyhat_prob']]\n",
    "df_test_compact[\n",
    "    (df_test_compact.amt<80) & (df_test_compact.is_fraud==1)\n",
    "].yyhat_prob.hist()"
   ]
  },
  {
   "cell_type": "code",
   "execution_count": 55,
   "id": "5b4a448a-a67c-40d8-9df3-cfb4a1be656d",
   "metadata": {},
   "outputs": [
    {
     "data": {
      "text/html": [
       "<div>\n",
       "<style scoped>\n",
       "    .dataframe tbody tr th:only-of-type {\n",
       "        vertical-align: middle;\n",
       "    }\n",
       "\n",
       "    .dataframe tbody tr th {\n",
       "        vertical-align: top;\n",
       "    }\n",
       "\n",
       "    .dataframe thead th {\n",
       "        text-align: right;\n",
       "    }\n",
       "</style>\n",
       "<table border=\"1\" class=\"dataframe\">\n",
       "  <thead>\n",
       "    <tr style=\"text-align: right;\">\n",
       "      <th></th>\n",
       "      <th>amt</th>\n",
       "      <th>is_fraud</th>\n",
       "      <th>yyhat_prob</th>\n",
       "    </tr>\n",
       "  </thead>\n",
       "  <tbody>\n",
       "    <tr>\n",
       "      <th>0</th>\n",
       "      <td>7.53</td>\n",
       "      <td>0</td>\n",
       "      <td>2.461142e-07</td>\n",
       "    </tr>\n",
       "    <tr>\n",
       "      <th>1</th>\n",
       "      <td>3.79</td>\n",
       "      <td>0</td>\n",
       "      <td>9.140985e-08</td>\n",
       "    </tr>\n",
       "    <tr>\n",
       "      <th>2</th>\n",
       "      <td>59.07</td>\n",
       "      <td>0</td>\n",
       "      <td>8.759313e-13</td>\n",
       "    </tr>\n",
       "    <tr>\n",
       "      <th>3</th>\n",
       "      <td>25.58</td>\n",
       "      <td>0</td>\n",
       "      <td>1.279140e-17</td>\n",
       "    </tr>\n",
       "    <tr>\n",
       "      <th>4</th>\n",
       "      <td>84.96</td>\n",
       "      <td>0</td>\n",
       "      <td>1.202607e-12</td>\n",
       "    </tr>\n",
       "    <tr>\n",
       "      <th>...</th>\n",
       "      <td>...</td>\n",
       "      <td>...</td>\n",
       "      <td>...</td>\n",
       "    </tr>\n",
       "    <tr>\n",
       "      <th>314567</th>\n",
       "      <td>862.65</td>\n",
       "      <td>1</td>\n",
       "      <td>9.993129e-01</td>\n",
       "    </tr>\n",
       "    <tr>\n",
       "      <th>314568</th>\n",
       "      <td>1031.72</td>\n",
       "      <td>1</td>\n",
       "      <td>9.992218e-01</td>\n",
       "    </tr>\n",
       "    <tr>\n",
       "      <th>314569</th>\n",
       "      <td>778.05</td>\n",
       "      <td>1</td>\n",
       "      <td>9.993120e-01</td>\n",
       "    </tr>\n",
       "    <tr>\n",
       "      <th>314570</th>\n",
       "      <td>1052.39</td>\n",
       "      <td>1</td>\n",
       "      <td>9.465110e-01</td>\n",
       "    </tr>\n",
       "    <tr>\n",
       "      <th>314571</th>\n",
       "      <td>12.57</td>\n",
       "      <td>1</td>\n",
       "      <td>9.999127e-01</td>\n",
       "    </tr>\n",
       "  </tbody>\n",
       "</table>\n",
       "<p>314572 rows × 3 columns</p>\n",
       "</div>"
      ],
      "text/plain": [
       "            amt  is_fraud    yyhat_prob\n",
       "0          7.53         0  2.461142e-07\n",
       "1          3.79         0  9.140985e-08\n",
       "2         59.07         0  8.759313e-13\n",
       "3         25.58         0  1.279140e-17\n",
       "4         84.96         0  1.202607e-12\n",
       "...         ...       ...           ...\n",
       "314567   862.65         1  9.993129e-01\n",
       "314568  1031.72         1  9.992218e-01\n",
       "314569   778.05         1  9.993120e-01\n",
       "314570  1052.39         1  9.465110e-01\n",
       "314571    12.57         1  9.999127e-01\n",
       "\n",
       "[314572 rows x 3 columns]"
      ]
     },
     "execution_count": 55,
     "metadata": {},
     "output_type": "execute_result"
    }
   ],
   "source": [
    "df_test_compact"
   ]
  },
  {
   "cell_type": "code",
   "execution_count": 12,
   "id": "12d54ee1-7c93-4acd-b861-1a7c077d20cc",
   "metadata": {},
   "outputs": [
    {
     "data": {
      "text/plain": [
       "0.631762652705061"
      ]
     },
     "execution_count": 12,
     "metadata": {},
     "output_type": "execute_result"
    }
   ],
   "source": [
    "sklearn.metrics.f1_score(\n",
    "    df_test_compact[df_test_compact.amt<80].is_fraud,\n",
    "    df_test_compact[df_test_compact.amt<80].yyhat_prob>0.5\n",
    ")"
   ]
  },
  {
   "cell_type": "code",
   "execution_count": 13,
   "id": "4e5131e4-c8f6-40bc-8e80-908c2dde7b9a",
   "metadata": {},
   "outputs": [
    {
     "data": {
      "text/plain": [
       "0.4701298701298701"
      ]
     },
     "execution_count": 13,
     "metadata": {},
     "output_type": "execute_result"
    }
   ],
   "source": [
    "sklearn.metrics.recall_score(\n",
    "    df_test_compact[df_test_compact.amt<80].is_fraud,\n",
    "    df_test_compact[df_test_compact.amt<80].yyhat_prob>0.5\n",
    ")"
   ]
  },
  {
   "cell_type": "code",
   "execution_count": 14,
   "id": "7063dfdb-90f4-48be-8fc8-812aa90163f3",
   "metadata": {},
   "outputs": [
    {
     "data": {
      "text/plain": [
       "0.9627659574468085"
      ]
     },
     "execution_count": 14,
     "metadata": {},
     "output_type": "execute_result"
    }
   ],
   "source": [
    "sklearn.metrics.precision_score(\n",
    "    df_test_compact[df_test_compact.amt<80].is_fraud,\n",
    "    df_test_compact[df_test_compact.amt<80].yyhat_prob>0.5\n",
    ")"
   ]
  }
 ],
 "metadata": {
  "kernelspec": {
   "display_name": "Python 3 (ipykernel)",
   "language": "python",
   "name": "python3"
  },
  "language_info": {
   "codemirror_mode": {
    "name": "ipython",
    "version": 3
   },
   "file_extension": ".py",
   "mimetype": "text/x-python",
   "name": "python",
   "nbconvert_exporter": "python",
   "pygments_lexer": "ipython3",
   "version": "3.10.13"
  }
 },
 "nbformat": 4,
 "nbformat_minor": 5
}
