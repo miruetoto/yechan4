{
 "cells": [
  {
   "cell_type": "raw",
   "id": "79bc375b-910f-4780-a4a3-8d0f13a3cdc5",
   "metadata": {},
   "source": [
    "---\n",
    "title: \"(연구&보람) 신용카드거래 사기탐지 -- 관련연구 리뷰\"\n",
    "author: \"신록예찬\"\n",
    "date: \"07/19/2023\"\n",
    "bibliography: 2023-07-19-ref.bib\n",
    "---"
   ]
  },
  {
   "cell_type": "markdown",
   "id": "a56b20f4-0c3c-4e24-baf7-8a75b2c938da",
   "metadata": {},
   "source": [
    "# Ref"
   ]
  },
  {
   "cell_type": "markdown",
   "id": "097f55dd-1906-4810-ad96-d52d8b8c7314",
   "metadata": {},
   "source": [
    "# @dou2020enhancing"
   ]
  },
  {
   "cell_type": "markdown",
   "id": "22fbfd8d-f173-4ce8-b005-571fe08ddb22",
   "metadata": {},
   "source": [
    "<https://arxiv.org/abs/2008.08692>"
   ]
  },
  {
   "cell_type": "markdown",
   "id": "08d2b84f-3c2a-4fb9-9527-fa4dabda291d",
   "metadata": {},
   "source": [
    "<https://ytongdou.com/files/cikm20slides.pdf>"
   ]
  },
  {
   "cell_type": "markdown",
   "id": "4d3ba703-b744-40a5-920b-f7780a9f1a61",
   "metadata": {},
   "source": [
    "<https://github.com/YingtongDou/CARE-GNN> "
   ]
  },
  {
   "cell_type": "markdown",
   "id": "e951c4c1-04a3-4b31-a95a-f737b7f80fc6",
   "metadata": {},
   "source": [
    "## Abstract "
   ]
  },
  {
   "cell_type": "markdown",
   "id": "609089bd-433f-4cb4-bffe-0a1e899428f8",
   "metadata": {},
   "source": [
    "이 논문에서는 최근 몇 년간 그래프 신경망(Graph Neural Networks, GNNs)이 사기 탐지 문제에 널리 적용되어, 다양한 관계를 통해 이웃 정보를 집계함으로써 노드의 수상성을 밝혀내는 것을 소개하고 있습니다. 그러나 몇몇 이전 연구들은 사기꾼들의 가장 큰 문제인 위장 행위(camouflage behavior)에 주목하지 않았습니다. 이러한 위장 행위는 GNN 기반 사기 탐지기의 집계 과정에서 성능을 저하시킬 수 있습니다. 따라서 이 논문에서는 최근의 경험적 연구를 기반으로 두 가지 유형의 위장 행위, 즉 특성 위장과 관계 위장을 소개하고 있습니다. 기존의 GNN은 이러한 두 가지 위장 행위에 대응하지 않았기 때문에 사기 탐지 문제에서 성능이 떨어지는 것입니다. 이에 대응하여 새로운 모델인 CAmouflage-REsistant GNN (CARE-GNN)을 제안하고 있으며, 이 모델은 위장 행위에 대응하기 위해 세 가지 독특한 모듈을 포함하고 있습니다. 구체적으로, 먼저 정보성이 있는 이웃 노드를 찾기 위해 레이블 기반 유사도 측정 방법을 고안합니다. 그런 다음, 강화 학습 (Reinforcement Learning, RL)을 활용하여 선택할 최적의 이웃 수를 결정합니다. 마지막으로, 다양한 관계 사이에서 선택된 이웃들을 함께 집계합니다. 두 개의 실제 사기 데이터셋에 대한 포괄적인 실험을 통해 RL 알고리즘의 효과를 입증하였습니다. 제안된 CARE-GNN은 최첨단 GNN 및 GNN 기반 사기 탐지기보다 뛰어난 성능을 보여줍니다. 또한, 모든 GNN 기반 사기 탐지기를 통합하여 오픈 소스 도구 상자(https://github.com/YingtongDou/CARE-GNN)로 제공하고 있습니다. CARE-GNN 코드와 데이터셋을 이용할 수 있습니다.]"
   ]
  },
  {
   "cell_type": "markdown",
   "id": "5e33a533-4259-48f5-804f-befb7697b1d7",
   "metadata": {},
   "source": [
    "## Introduction "
   ]
  },
  {
   "cell_type": "markdown",
   "id": "740a3918-7260-4873-ae0b-66234af69f52",
   "metadata": {},
   "source": [
    "인터넷 서비스의 번창과 함께 다양한 유형의 사기 행위도 발생하고 있습니다 [14]. 사기꾼들은 일반 사용자로 위장하여 안티 사기 시스템을 우회하고 불명확한 정보를 퍼뜨리거나 최종 사용자의 개인정보를 빼앗습니다 [32]. 이러한 사기 행위를 탐지하기 위해 그래프 기반 방법이 학계 [7, 21, 38]와 산업계 [2, 28, 50] 모두에서 효과적인 접근 방법이 되었습니다. 그래프 기반 방법은 서로 다른 관계로 엔티티를 연결하고, 동일한 목표를 가진 사기꾼들은 서로 연결되기 때문에 이러한 엔티티들의 수상성을 그래프 수준에서 드러낼 수 있습니다 [1].\n",
    "\n",
    "최근에는 그래프 신경망(Graph Neural Networks, GNNs)의 발전으로 많은 GNN 기반 사기 탐지기들이 제안되었습니다. (예: GCN [17], GAT [34], 그리고 GraphSAGE [12]) 이들은 의견 사기 [19, 25, 39], 금융 사기 [23, 24, 37], 모바일 사기 [41], 그리고 사이버 범죄 [48]를 탐지하기 위해 사용됩니다. 기존의 전통적인 그래프 기반 접근 방법과는 달리, GNN 기반 방법은 이웃 정보를 집계하여 중심 노드의 표현을 학습합니다. 이들은 end-to-end 및 반지도 학습 방식으로 훈련될 수 있으며, 이는 많은 특성 엔지니어링과 데이터 주석 비용을 절약할 수 있습니다."
   ]
  },
  {
   "cell_type": "markdown",
   "id": "4a29cb66-4d15-47c3-8900-82f8b7ef31fa",
   "metadata": {},
   "source": [
    "\n",
    "그러나 기존의 GNN 기반 사기 탐지 연구들은 GNN을 제한적인 범위에서만 적용하면서 사기꾼들의 위장 행위를 무시하고 있습니다. 이러한 위장 행위는 연구자들 [8, 15, 16, 49]과 실무자들 [2, 19, 41] 양쪽에서 큰 관심을 받고 있습니다. 한편, 이론적인 연구들은 그래프에 노이즈가 있는 노드와 엣지가 있는 경우 GNN의 한계와 취약점을 입증하고 있습니다 [3, 4, 13, 33]. 따라서, 위장된 사기꾼들에 대응하지 못한다면 GNN 기반 사기 탐지기의 성능을 저하시킬 수 있습니다. 최근 몇몇 연구들 [4, 9, 13, 25, 41]은 비슷한 도전에 주목했지만, 이들의 해결책은 사기 탐지 문제에 적합하지 않거나 GNN의 end-to-end 학습 방식을 파괴하는 경우가 있습니다."
   ]
  },
  {
   "cell_type": "markdown",
   "id": "708ebeb1-170d-4a81-8c16-39053da8de20",
   "metadata": {},
   "source": [
    "# @liu2018heterogeneous"
   ]
  },
  {
   "cell_type": "markdown",
   "id": "e8149346-40af-4897-94e0-5c8c97804b95",
   "metadata": {},
   "source": [
    "<https://arxiv.org/abs/1802.00910>"
   ]
  },
  {
   "cell_type": "markdown",
   "id": "52f65ce5-7e3b-425f-9c7b-ac0fac52f079",
   "metadata": {},
   "source": [
    "이 논문에서는 불규칙한 도메인에 속하는 데이터, 즉 그래프를 포함한 표현 학습 작업을 연구합니다. 많은 데이터는 그래프의 형태를 가지고 있습니다. 예를 들어, 소셜 네트워크 (Perozzi, Al-Rfou, and Skiena 2014), 인용 네트워크 (Sen et al. 2008), 생물학적 네트워크 (Zitnik and Leskovec 2017), 그리고 거래 네트워크 (Liu et al. 2017) 등이 있습니다. 우리는 노드마다 이웃의 순서가 학습 작업에 무관한 순열 불변(permutation invariant) 속성을 가지는 그래프에 관심을 가지고 있습니다. 이는 시계열 그래프와 대조적입니다 (Kostakos 2009).\n",
    "\n",
    "합성곱 신경망(Convolutional Neural Networks, CNN)은 이미지 (He et al. 2016a)와 시퀀스 (Gehring et al. 2016)와 관련된 다양한 응용 분야에서 성공적으로 증명되었습니다. 최근에는 합성곱을 그래프에 일반화하려는 노력과 관심이 문헌에서 등장하고 있습니다 (Hammond, Vandergheynst, and Gribonval 2011; Defferrard, Bresson, and Vandergheynst 2016; Kipf and Welling 2016; Hamilton, Ying, and Leskovec 2017a), 이로 인해 새로운 도전과제가 발생합니다."
   ]
  },
  {
   "cell_type": "markdown",
   "id": "ee500fce-8419-4333-a8f8-5efeb92ffcf2",
   "metadata": {},
   "source": [
    "`-` Suppose followings: \n",
    "\n",
    "- Assume a graph ${\\cal G} =({\\cal V},{\\cal E})$ with $N$ nodes $i \\in {\\cal V}$ and $|{\\cal E}|$ edges $(i,j)\\in {\\cal E}$ \n",
    "- $A \\in \\mathbb{R}^{N\\times N}$ is the adjacency matrix of ${\\cal G}$. \n",
    "- $D\\in \\mathbb{R}^{N\\times N}$ is the digagonal node degree matrix where $D_{ii} = \\sum_{ij}A_ij$.\n",
    "- $X \\in \\mathbb{R}^{N\\times P}$ is matrix of node features. "
   ]
  },
  {
   "cell_type": "markdown",
   "id": "8c4ef773-365f-4e8e-8f5a-a15310d22105",
   "metadata": {},
   "source": [
    "`-` Consider the calculation as follows:^[그래프 컨볼루션]\n",
    "\n",
    "$$H^{(t+1)} = \\sigma\\big(\\phi(A)H^{(t)}W^{(t)}\\big)$$"
   ]
  },
  {
   "cell_type": "code",
   "execution_count": null,
   "id": "a884adb4-3850-4186-8160-6f2b5d496833",
   "metadata": {},
   "outputs": [],
   "source": []
  },
  {
   "cell_type": "code",
   "execution_count": null,
   "id": "f6f0465e-6db5-4ff6-a944-ad3e4df1a3ad",
   "metadata": {},
   "outputs": [],
   "source": []
  },
  {
   "cell_type": "markdown",
   "id": "a4ad8b8e-8065-4a7b-ad5e-9951c6255d43",
   "metadata": {},
   "source": [
    "# @liu2019geniepath"
   ]
  },
  {
   "cell_type": "code",
   "execution_count": null,
   "id": "958b8413-daf8-44bb-96ee-57df4e84086c",
   "metadata": {},
   "outputs": [],
   "source": []
  }
 ],
 "metadata": {
  "kernelspec": {
   "display_name": "Python 3 (ipykernel)",
   "language": "python",
   "name": "python3"
  },
  "language_info": {
   "codemirror_mode": {
    "name": "ipython",
    "version": 3
   },
   "file_extension": ".py",
   "mimetype": "text/x-python",
   "name": "python",
   "nbconvert_exporter": "python",
   "pygments_lexer": "ipython3",
   "version": "3.12.1"
  }
 },
 "nbformat": 4,
 "nbformat_minor": 5
}
