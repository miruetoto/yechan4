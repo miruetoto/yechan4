{
 "cells": [
  {
   "cell_type": "raw",
   "id": "317a1a87-4fa9-455a-89e2-d292e87fba4b",
   "metadata": {},
   "source": [
    "---\n",
    "title: \"(연구&보람) CTGAN -- 신용카드\"\n",
    "author: \"신록예찬\"\n",
    "date: \"07/30/2023\"\n",
    "---"
   ]
  },
  {
   "cell_type": "markdown",
   "id": "23912975-f1d0-4952-b0aa-8e620df23d4d",
   "metadata": {},
   "source": [
    "# imports "
   ]
  },
  {
   "cell_type": "code",
   "execution_count": 3,
   "id": "945de3cd-e8d8-430a-8c95-d4072eb68299",
   "metadata": {},
   "outputs": [],
   "source": [
    "import numpy as np\n",
    "import pandas as pd\n",
    "import matplotlib.pyplot as plt "
   ]
  },
  {
   "cell_type": "code",
   "execution_count": 4,
   "id": "d2e6f2c4-7a35-4962-8c8a-d6ad3c83f194",
   "metadata": {},
   "outputs": [],
   "source": [
    "# from ctgan import CTGAN\n",
    "# from ctgan import load_demo"
   ]
  },
  {
   "cell_type": "code",
   "execution_count": 5,
   "id": "3d02ddce-8c38-43ae-8205-14529be04684",
   "metadata": {},
   "outputs": [],
   "source": [
    "from sklearn import model_selection # split함수이용\n",
    "from sklearn import ensemble # RF,GBM\n",
    "from sklearn import metrics "
   ]
  },
  {
   "cell_type": "code",
   "execution_count": 6,
   "id": "df91f02f-596f-4a5e-938a-561dc1cc6405",
   "metadata": {},
   "outputs": [],
   "source": [
    "def down_sample_textbook(df):\n",
    "    df_majority = df[df.is_fraud==0].copy()\n",
    "    df_minority = df[df.is_fraud==1].copy()\n",
    "    df_maj_dowsampled = sklearn.utils.resample(df_majority, n_samples=len(df_minority), replace=False, random_state=42)\n",
    "    df_downsampled = pd.concat([df_minority, df_maj_dowsampled])\n",
    "    return df_downsampled"
   ]
  },
  {
   "cell_type": "markdown",
   "id": "985e6fc3-b784-4e06-8357-e222188576f7",
   "metadata": {
    "tags": []
   },
   "source": [
    "# Overview"
   ]
  },
  {
   "cell_type": "markdown",
   "id": "d04ad56b-4c27-44b0-b9f9-4a06aa06c008",
   "metadata": {},
   "source": [
    "## 데이터 종류 \n",
    "\n",
    "- fraudTrain.csv: (1048575, 23), 기본데이터\n",
    "- df02: (214520, 23), is_fraud==0 에서는 20퍼의 샘플만, is_fraud==1 에서는 모든 샘플을 뽑아서 정리한 새로운 자료\n",
    "- df50 = (12012, 23), df20에서 is_fraud==0 와 is_fraud==1 의 비율을 맞추어서 샘플을 뽑은 것 "
   ]
  },
  {
   "cell_type": "markdown",
   "id": "e003315d-2a3b-4c98-8c14-cd4091aff696",
   "metadata": {},
   "source": [
    "|데이터|shape|사기거래빈도|설명|\n",
    "|-|-|-|-|\n",
    "|fraudTrain|(1048575, 22)|0.00573|원래자료|\n",
    "|df02|(214520, 22)|0.028| is_fraud==0 에서는 20퍼의 샘플만, is_fraud==1 에서는 모든 샘플을 뽑아서 정리한 새로운 자료|\n",
    "|df50|(12012, 22)|0.5| df02에서 사기비율을 50퍼로 맞추어 샘플링한 자료|\n",
    "|df50_tr|(9009, 22)|0.49828| df50에서 랜덤으로 train/test를 분리하여 얻은 train dataset|\n",
    "|df50_test|(3003, 22)|0.50516| df50에서 랜덤으로 train/test를 분리하여 얻은 test dataset|\n",
    "|df02_tr|(211517, 22)|0.02122| df02에서 df50_test에 해당하는 인덱스를 제외|\n",
    "|fraudTrain_tr|(1045572, 22)|0.00429| fraudTrain에서 df50_test에 해당하는 인덱스를 제외|"
   ]
  },
  {
   "cell_type": "markdown",
   "id": "6c114cce-1688-4ed7-b93a-83fa4083e39f",
   "metadata": {},
   "source": [
    "`-` fraudTrain"
   ]
  },
  {
   "cell_type": "code",
   "execution_count": 7,
   "id": "628fd9bc-7865-4181-8485-28fbadafa474",
   "metadata": {},
   "outputs": [],
   "source": [
    "fraudTrain = pd.read_csv(\"fraudTrain.csv\").iloc[:,1:]"
   ]
  },
  {
   "cell_type": "code",
   "execution_count": 8,
   "id": "23b80636-6661-4bda-94c7-320fab4c012b",
   "metadata": {},
   "outputs": [
    {
     "data": {
      "text/plain": [
       "Index(['trans_date_trans_time', 'cc_num', 'merchant', 'category', 'amt',\n",
       "       'first', 'last', 'gender', 'street', 'city', 'state', 'zip', 'lat',\n",
       "       'long', 'city_pop', 'job', 'dob', 'trans_num', 'unix_time', 'merch_lat',\n",
       "       'merch_long', 'is_fraud'],\n",
       "      dtype='object')"
      ]
     },
     "execution_count": 8,
     "metadata": {},
     "output_type": "execute_result"
    }
   ],
   "source": [
    "fraudTrain.columns"
   ]
  },
  {
   "cell_type": "code",
   "execution_count": 9,
   "id": "e595408a-fdf9-42c2-a031-e64df01db270",
   "metadata": {},
   "outputs": [
    {
     "data": {
      "text/plain": [
       "0          0\n",
       "1          0\n",
       "2          0\n",
       "3          0\n",
       "4          0\n",
       "          ..\n",
       "1048570    0\n",
       "1048571    0\n",
       "1048572    0\n",
       "1048573    0\n",
       "1048574    0\n",
       "Name: is_fraud, Length: 1048575, dtype: int64"
      ]
     },
     "execution_count": 9,
     "metadata": {},
     "output_type": "execute_result"
    }
   ],
   "source": [
    "fraudTrain['is_fraud']"
   ]
  },
  {
   "cell_type": "code",
   "execution_count": 10,
   "id": "ced1bd8a-4535-4ac3-a1c3-bed4db262ded",
   "metadata": {},
   "outputs": [
    {
     "data": {
      "text/plain": [
       "0.00573"
      ]
     },
     "execution_count": 10,
     "metadata": {},
     "output_type": "execute_result"
    }
   ],
   "source": [
    "fraudTrain.is_fraud.mean().round(5)"
   ]
  },
  {
   "cell_type": "markdown",
   "id": "a42c8f3e-5d9c-4c1f-ad69-4194669ba77b",
   "metadata": {},
   "source": [
    "`-` df20"
   ]
  },
  {
   "cell_type": "code",
   "execution_count": 11,
   "id": "7da36222-6d9d-4c60-b3ad-2291c93323d3",
   "metadata": {},
   "outputs": [
    {
     "data": {
      "text/plain": [
       "(214520, 22)"
      ]
     },
     "execution_count": 11,
     "metadata": {},
     "output_type": "execute_result"
    }
   ],
   "source": [
    "_df1 = fraudTrain[fraudTrain[\"is_fraud\"] == 0].sample(frac=0.20, random_state=42)\n",
    "_df2 = fraudTrain[fraudTrain[\"is_fraud\"] == 1]\n",
    "df02 = pd.concat([_df1,_df2])\n",
    "df02.shape"
   ]
  },
  {
   "cell_type": "code",
   "execution_count": 12,
   "id": "4cb4df2f-1cfb-449b-9c4b-14e8f5c4a0b4",
   "metadata": {},
   "outputs": [
    {
     "data": {
      "text/plain": [
       "0.028"
      ]
     },
     "execution_count": 12,
     "metadata": {},
     "output_type": "execute_result"
    }
   ],
   "source": [
    "df02.is_fraud.mean().round(5)"
   ]
  },
  {
   "cell_type": "markdown",
   "id": "a0dc3666-642a-413a-b251-4669dc81d353",
   "metadata": {},
   "source": [
    "`-` df50"
   ]
  },
  {
   "cell_type": "code",
   "execution_count": 13,
   "id": "ef4fc73f-1c0f-407c-a844-9bba63efbaea",
   "metadata": {},
   "outputs": [
    {
     "ename": "NameError",
     "evalue": "name 'sklearn' is not defined",
     "output_type": "error",
     "traceback": [
      "\u001b[0;31m---------------------------------------------------------------------------\u001b[0m",
      "\u001b[0;31mNameError\u001b[0m                                 Traceback (most recent call last)",
      "Input \u001b[0;32mIn [13]\u001b[0m, in \u001b[0;36m<cell line: 1>\u001b[0;34m()\u001b[0m\n\u001b[0;32m----> 1\u001b[0m df50 \u001b[38;5;241m=\u001b[39m \u001b[43mdown_sample_textbook\u001b[49m\u001b[43m(\u001b[49m\u001b[43mdf02\u001b[49m\u001b[43m)\u001b[49m\n\u001b[1;32m      2\u001b[0m df50\u001b[38;5;241m.\u001b[39mshape\n",
      "Input \u001b[0;32mIn [6]\u001b[0m, in \u001b[0;36mdown_sample_textbook\u001b[0;34m(df)\u001b[0m\n\u001b[1;32m      2\u001b[0m df_majority \u001b[38;5;241m=\u001b[39m df[df\u001b[38;5;241m.\u001b[39mis_fraud\u001b[38;5;241m==\u001b[39m\u001b[38;5;241m0\u001b[39m]\u001b[38;5;241m.\u001b[39mcopy()\n\u001b[1;32m      3\u001b[0m df_minority \u001b[38;5;241m=\u001b[39m df[df\u001b[38;5;241m.\u001b[39mis_fraud\u001b[38;5;241m==\u001b[39m\u001b[38;5;241m1\u001b[39m]\u001b[38;5;241m.\u001b[39mcopy()\n\u001b[0;32m----> 4\u001b[0m df_maj_dowsampled \u001b[38;5;241m=\u001b[39m \u001b[43msklearn\u001b[49m\u001b[38;5;241m.\u001b[39mutils\u001b[38;5;241m.\u001b[39mresample(df_majority, n_samples\u001b[38;5;241m=\u001b[39m\u001b[38;5;28mlen\u001b[39m(df_minority), replace\u001b[38;5;241m=\u001b[39m\u001b[38;5;28;01mFalse\u001b[39;00m, random_state\u001b[38;5;241m=\u001b[39m\u001b[38;5;241m42\u001b[39m)\n\u001b[1;32m      5\u001b[0m df_downsampled \u001b[38;5;241m=\u001b[39m pd\u001b[38;5;241m.\u001b[39mconcat([df_minority, df_maj_dowsampled])\n\u001b[1;32m      6\u001b[0m \u001b[38;5;28;01mreturn\u001b[39;00m df_downsampled\n",
      "\u001b[0;31mNameError\u001b[0m: name 'sklearn' is not defined"
     ]
    }
   ],
   "source": [
    "df50 = down_sample_textbook(df02)\n",
    "df50.shape"
   ]
  },
  {
   "cell_type": "code",
   "execution_count": 14,
   "id": "70f9f90d-9009-4b20-9753-aae078b56d84",
   "metadata": {},
   "outputs": [
    {
     "ename": "NameError",
     "evalue": "name 'df50' is not defined",
     "output_type": "error",
     "traceback": [
      "\u001b[0;31m---------------------------------------------------------------------------\u001b[0m",
      "\u001b[0;31mNameError\u001b[0m                                 Traceback (most recent call last)",
      "Input \u001b[0;32mIn [14]\u001b[0m, in \u001b[0;36m<cell line: 1>\u001b[0;34m()\u001b[0m\n\u001b[0;32m----> 1\u001b[0m \u001b[43mdf50\u001b[49m\n",
      "\u001b[0;31mNameError\u001b[0m: name 'df50' is not defined"
     ]
    }
   ],
   "source": [
    "df50"
   ]
  },
  {
   "cell_type": "code",
   "execution_count": 17,
   "id": "050a3bea-663e-40c4-9935-216eaee4240b",
   "metadata": {},
   "outputs": [
    {
     "data": {
      "text/plain": [
       "0.5"
      ]
     },
     "execution_count": 17,
     "metadata": {},
     "output_type": "execute_result"
    }
   ],
   "source": [
    "df50.is_fraud.mean().round(5)"
   ]
  },
  {
   "cell_type": "markdown",
   "id": "2b82254c-b280-4613-9c48-68583dd8302c",
   "metadata": {},
   "source": [
    "`-` df50_tr, df50_test "
   ]
  },
  {
   "cell_type": "code",
   "execution_count": 18,
   "id": "8bbec0ba-9592-48ee-b7d1-961fdbf1b346",
   "metadata": {},
   "outputs": [],
   "source": [
    "df50_tr,df50_test = sklearn.model_selection.train_test_split(df50, random_state=42)"
   ]
  },
  {
   "cell_type": "code",
   "execution_count": 19,
   "id": "44dd51d5-86ef-4a27-92e9-41a30e37bc74",
   "metadata": {},
   "outputs": [
    {
     "data": {
      "text/plain": [
       "(0.49828, 0.50516)"
      ]
     },
     "execution_count": 19,
     "metadata": {},
     "output_type": "execute_result"
    }
   ],
   "source": [
    "df50_tr.is_fraud.mean().round(5), df50_test.is_fraud.mean().round(5)"
   ]
  },
  {
   "cell_type": "markdown",
   "id": "662da6fc-f3c1-497f-8c2e-5505424a5311",
   "metadata": {},
   "source": [
    "`-` df02_tr, fraudTrain_tr"
   ]
  },
  {
   "cell_type": "code",
   "execution_count": 20,
   "id": "a983034d-0fb0-438b-ba9f-c2e9cdb0fda2",
   "metadata": {},
   "outputs": [],
   "source": [
    "df02_tr = df02.loc[[i not in df50_test.index for i in df02.index],:].copy()\n",
    "fraudTrain_tr = fraudTrain.loc[[i not in df50_test.index for i in fraudTrain.index],:].copy()"
   ]
  },
  {
   "cell_type": "code",
   "execution_count": 21,
   "id": "7a5407c6-573f-486b-b9fa-0f8f1dba12e0",
   "metadata": {},
   "outputs": [
    {
     "data": {
      "text/plain": [
       "((211517, 22), (1045572, 22))"
      ]
     },
     "execution_count": 21,
     "metadata": {},
     "output_type": "execute_result"
    }
   ],
   "source": [
    "df02_tr.shape, fraudTrain_tr.shape"
   ]
  },
  {
   "cell_type": "code",
   "execution_count": 22,
   "id": "f71af68a-c14f-42a7-b646-3a9c3d41625f",
   "metadata": {},
   "outputs": [
    {
     "data": {
      "text/plain": [
       "(0.02122, 0.00429)"
      ]
     },
     "execution_count": 22,
     "metadata": {},
     "output_type": "execute_result"
    }
   ],
   "source": [
    "df02_tr.is_fraud.mean().round(5), fraudTrain_tr.is_fraud.mean().round(5)"
   ]
  },
  {
   "cell_type": "markdown",
   "id": "ad857dab-dcc2-4ffb-8f64-47aabf2528bd",
   "metadata": {},
   "source": [
    "# 분석방법정리 "
   ]
  },
  {
   "cell_type": "markdown",
   "id": "66ecaad6-890f-4c27-b63f-cb9e3d71f9a3",
   "metadata": {},
   "source": [
    "||Train|Test|모형|설명변수|참고|\n",
    "|-|-|-|-|-|-|\n",
    "|분석1|df02_tr|df50_test|그레디언트부스팅|amt|base|\n",
    "|**분석2**|df02_tr|df50_test|그레디언트부스팅|amt|가장좋음|"
   ]
  },
  {
   "cell_type": "markdown",
   "id": "cd2fa2cc-fbdb-4dba-935f-69f8927f0d95",
   "metadata": {
    "tags": []
   },
   "source": [
    "# 분석1"
   ]
  },
  {
   "cell_type": "markdown",
   "id": "b37c8581-5788-4b4f-8ff1-93a4bbc143df",
   "metadata": {},
   "source": [
    "`-` step1: data "
   ]
  },
  {
   "cell_type": "code",
   "execution_count": 26,
   "id": "43a9689d-e318-4f49-bd4e-75bd979239c8",
   "metadata": {},
   "outputs": [],
   "source": [
    "X = np.array(df02_tr.loc[:,['amt']])\n",
    "XX = np.array(df50_test.loc[:,['amt']])\n",
    "y = np.array(df02_tr.is_fraud)\n",
    "yy = np.array(df50_test.is_fraud)"
   ]
  },
  {
   "cell_type": "markdown",
   "id": "8bbe062a-d06c-406f-a321-30b69d67d142",
   "metadata": {},
   "source": [
    "`-` step2: lrnr 생성 "
   ]
  },
  {
   "cell_type": "code",
   "execution_count": 27,
   "id": "ddaa0e87-fab4-437a-b79a-41c8995208ee",
   "metadata": {},
   "outputs": [],
   "source": [
    "lrnr = ensemble.GradientBoostingClassifier()"
   ]
  },
  {
   "cell_type": "markdown",
   "id": "3a30ec3b-4d96-45dd-afbb-6e827fa52f21",
   "metadata": {},
   "source": [
    "`-` step3: fit "
   ]
  },
  {
   "cell_type": "code",
   "execution_count": 28,
   "id": "f6d21983-ef21-433b-a858-894778621972",
   "metadata": {},
   "outputs": [
    {
     "data": {
      "text/html": [
       "<style>#sk-container-id-1 {color: black;background-color: white;}#sk-container-id-1 pre{padding: 0;}#sk-container-id-1 div.sk-toggleable {background-color: white;}#sk-container-id-1 label.sk-toggleable__label {cursor: pointer;display: block;width: 100%;margin-bottom: 0;padding: 0.3em;box-sizing: border-box;text-align: center;}#sk-container-id-1 label.sk-toggleable__label-arrow:before {content: \"▸\";float: left;margin-right: 0.25em;color: #696969;}#sk-container-id-1 label.sk-toggleable__label-arrow:hover:before {color: black;}#sk-container-id-1 div.sk-estimator:hover label.sk-toggleable__label-arrow:before {color: black;}#sk-container-id-1 div.sk-toggleable__content {max-height: 0;max-width: 0;overflow: hidden;text-align: left;background-color: #f0f8ff;}#sk-container-id-1 div.sk-toggleable__content pre {margin: 0.2em;color: black;border-radius: 0.25em;background-color: #f0f8ff;}#sk-container-id-1 input.sk-toggleable__control:checked~div.sk-toggleable__content {max-height: 200px;max-width: 100%;overflow: auto;}#sk-container-id-1 input.sk-toggleable__control:checked~label.sk-toggleable__label-arrow:before {content: \"▾\";}#sk-container-id-1 div.sk-estimator input.sk-toggleable__control:checked~label.sk-toggleable__label {background-color: #d4ebff;}#sk-container-id-1 div.sk-label input.sk-toggleable__control:checked~label.sk-toggleable__label {background-color: #d4ebff;}#sk-container-id-1 input.sk-hidden--visually {border: 0;clip: rect(1px 1px 1px 1px);clip: rect(1px, 1px, 1px, 1px);height: 1px;margin: -1px;overflow: hidden;padding: 0;position: absolute;width: 1px;}#sk-container-id-1 div.sk-estimator {font-family: monospace;background-color: #f0f8ff;border: 1px dotted black;border-radius: 0.25em;box-sizing: border-box;margin-bottom: 0.5em;}#sk-container-id-1 div.sk-estimator:hover {background-color: #d4ebff;}#sk-container-id-1 div.sk-parallel-item::after {content: \"\";width: 100%;border-bottom: 1px solid gray;flex-grow: 1;}#sk-container-id-1 div.sk-label:hover label.sk-toggleable__label {background-color: #d4ebff;}#sk-container-id-1 div.sk-serial::before {content: \"\";position: absolute;border-left: 1px solid gray;box-sizing: border-box;top: 0;bottom: 0;left: 50%;z-index: 0;}#sk-container-id-1 div.sk-serial {display: flex;flex-direction: column;align-items: center;background-color: white;padding-right: 0.2em;padding-left: 0.2em;position: relative;}#sk-container-id-1 div.sk-item {position: relative;z-index: 1;}#sk-container-id-1 div.sk-parallel {display: flex;align-items: stretch;justify-content: center;background-color: white;position: relative;}#sk-container-id-1 div.sk-item::before, #sk-container-id-1 div.sk-parallel-item::before {content: \"\";position: absolute;border-left: 1px solid gray;box-sizing: border-box;top: 0;bottom: 0;left: 50%;z-index: -1;}#sk-container-id-1 div.sk-parallel-item {display: flex;flex-direction: column;z-index: 1;position: relative;background-color: white;}#sk-container-id-1 div.sk-parallel-item:first-child::after {align-self: flex-end;width: 50%;}#sk-container-id-1 div.sk-parallel-item:last-child::after {align-self: flex-start;width: 50%;}#sk-container-id-1 div.sk-parallel-item:only-child::after {width: 0;}#sk-container-id-1 div.sk-dashed-wrapped {border: 1px dashed gray;margin: 0 0.4em 0.5em 0.4em;box-sizing: border-box;padding-bottom: 0.4em;background-color: white;}#sk-container-id-1 div.sk-label label {font-family: monospace;font-weight: bold;display: inline-block;line-height: 1.2em;}#sk-container-id-1 div.sk-label-container {text-align: center;}#sk-container-id-1 div.sk-container {/* jupyter's `normalize.less` sets `[hidden] { display: none; }` but bootstrap.min.css set `[hidden] { display: none !important; }` so we also need the `!important` here to be able to override the default hidden behavior on the sphinx rendered scikit-learn.org. See: https://github.com/scikit-learn/scikit-learn/issues/21755 */display: inline-block !important;position: relative;}#sk-container-id-1 div.sk-text-repr-fallback {display: none;}</style><div id=\"sk-container-id-1\" class=\"sk-top-container\"><div class=\"sk-text-repr-fallback\"><pre>GradientBoostingClassifier()</pre><b>In a Jupyter environment, please rerun this cell to show the HTML representation or trust the notebook. <br />On GitHub, the HTML representation is unable to render, please try loading this page with nbviewer.org.</b></div><div class=\"sk-container\" hidden><div class=\"sk-item\"><div class=\"sk-estimator sk-toggleable\"><input class=\"sk-toggleable__control sk-hidden--visually\" id=\"sk-estimator-id-1\" type=\"checkbox\" checked><label for=\"sk-estimator-id-1\" class=\"sk-toggleable__label sk-toggleable__label-arrow\">GradientBoostingClassifier</label><div class=\"sk-toggleable__content\"><pre>GradientBoostingClassifier()</pre></div></div></div></div></div>"
      ],
      "text/plain": [
       "GradientBoostingClassifier()"
      ]
     },
     "execution_count": 28,
     "metadata": {},
     "output_type": "execute_result"
    }
   ],
   "source": [
    "lrnr.fit(X,y)"
   ]
  },
  {
   "cell_type": "markdown",
   "id": "03b628a1-07dc-42b3-b63b-695976ac8d28",
   "metadata": {},
   "source": [
    "`-` step4: evaluate"
   ]
  },
  {
   "cell_type": "code",
   "execution_count": 29,
   "id": "ac9eb553-39c7-4abe-84c0-440b133a5bdf",
   "metadata": {},
   "outputs": [],
   "source": [
    "thresh = y.mean()\n",
    "yyhat = (lrnr.predict_proba(XX)> thresh)[:,-1]\n",
    "#yyhat = lrnr.predict(XX) "
   ]
  },
  {
   "cell_type": "code",
   "execution_count": 30,
   "id": "5b3fe72e-f6e2-40ee-861c-084da08054bc",
   "metadata": {},
   "outputs": [],
   "source": [
    "metrics = [sklearn.metrics.accuracy_score,\n",
    "           sklearn.metrics.precision_score,\n",
    "           sklearn.metrics.recall_score,\n",
    "           sklearn.metrics.f1_score]"
   ]
  },
  {
   "cell_type": "code",
   "execution_count": 31,
   "id": "dade5116-672b-417e-b50a-91f3f4b0534c",
   "metadata": {},
   "outputs": [
    {
     "data": {
      "text/html": [
       "<div>\n",
       "<style scoped>\n",
       "    .dataframe tbody tr th:only-of-type {\n",
       "        vertical-align: middle;\n",
       "    }\n",
       "\n",
       "    .dataframe tbody tr th {\n",
       "        vertical-align: top;\n",
       "    }\n",
       "\n",
       "    .dataframe thead th {\n",
       "        text-align: right;\n",
       "    }\n",
       "</style>\n",
       "<table border=\"1\" class=\"dataframe\">\n",
       "  <thead>\n",
       "    <tr style=\"text-align: right;\">\n",
       "      <th></th>\n",
       "      <th>accuracy_score</th>\n",
       "      <th>precision_score</th>\n",
       "      <th>recall_score</th>\n",
       "      <th>f1_score</th>\n",
       "    </tr>\n",
       "  </thead>\n",
       "  <tbody>\n",
       "    <tr>\n",
       "      <th>분석2</th>\n",
       "      <td>0.88678</td>\n",
       "      <td>0.910677</td>\n",
       "      <td>0.86025</td>\n",
       "      <td>0.884746</td>\n",
       "    </tr>\n",
       "  </tbody>\n",
       "</table>\n",
       "</div>"
      ],
      "text/plain": [
       "     accuracy_score  precision_score  recall_score  f1_score\n",
       "분석2         0.88678         0.910677       0.86025  0.884746"
      ]
     },
     "execution_count": 31,
     "metadata": {},
     "output_type": "execute_result"
    }
   ],
   "source": [
    "_results2= pd.DataFrame({m.__name__:[m(yy,yyhat).round(6)] for m in metrics},index=['분석2'])\n",
    "_results2"
   ]
  },
  {
   "cell_type": "markdown",
   "id": "7edeb438-ef2d-4992-83f7-6f73ebbf9b1d",
   "metadata": {
    "tags": []
   },
   "source": [
    "# 분석2"
   ]
  },
  {
   "cell_type": "markdown",
   "id": "612a5519-0062-48e4-9a58-c9e196f92e67",
   "metadata": {},
   "source": [
    "`-` step1: data "
   ]
  },
  {
   "cell_type": "code",
   "execution_count": null,
   "id": "920ef041-fb5b-4c63-99a7-e9e75489f15d",
   "metadata": {},
   "outputs": [],
   "source": [
    "# Names of the columns that are discrete\n",
    "discrete_columns = ['trans_date_trans_time', 'cc_num', 'merchant', 'category', 'first', 'last', 'gender', 'street', 'city', 'state', 'zip', 'job', 'dob', 'trans_num', 'is_fraud']\n",
    "ctgan = CTGAN(epochs=10)\n",
    "ctgan.fit(df, discrete_columns)\n",
    "\n",
    "# Create synthetic data\n",
    "df2 = ctgan.sample(1000)"
   ]
  },
  {
   "cell_type": "code",
   "execution_count": 37,
   "id": "4d41ea3d-25b7-4681-a5bf-27c22902d6a0",
   "metadata": {},
   "outputs": [
    {
     "data": {
      "text/plain": [
       "Index(['trans_date_trans_time', 'cc_num', 'merchant', 'category', 'amt',\n",
       "       'first', 'last', 'gender', 'street', 'city', 'state', 'zip', 'lat',\n",
       "       'long', 'city_pop', 'job', 'dob', 'trans_num', 'unix_time', 'merch_lat',\n",
       "       'merch_long', 'is_fraud'],\n",
       "      dtype='object')"
      ]
     },
     "execution_count": 37,
     "metadata": {},
     "output_type": "execute_result"
    }
   ],
   "source": [
    "df02_tr.columns"
   ]
  },
  {
   "cell_type": "code",
   "execution_count": null,
   "id": "f44e8ca5-a016-4716-920b-8a2b08670658",
   "metadata": {},
   "outputs": [],
   "source": [
    "['trans_date_trans_time', 'cc_num', 'merchant', 'category', 'first', 'last', 'gender', 'street', 'city', 'state', 'zip', 'job', 'dob', 'trans_num', 'is_fraud']"
   ]
  },
  {
   "cell_type": "code",
   "execution_count": 36,
   "id": "61987384-d88f-45f5-a81e-2a0292225229",
   "metadata": {},
   "outputs": [
    {
     "data": {
      "text/html": [
       "<div>\n",
       "<style scoped>\n",
       "    .dataframe tbody tr th:only-of-type {\n",
       "        vertical-align: middle;\n",
       "    }\n",
       "\n",
       "    .dataframe tbody tr th {\n",
       "        vertical-align: top;\n",
       "    }\n",
       "\n",
       "    .dataframe thead th {\n",
       "        text-align: right;\n",
       "    }\n",
       "</style>\n",
       "<table border=\"1\" class=\"dataframe\">\n",
       "  <thead>\n",
       "    <tr style=\"text-align: right;\">\n",
       "      <th></th>\n",
       "      <th>trans_date_trans_time</th>\n",
       "      <th>cc_num</th>\n",
       "      <th>merchant</th>\n",
       "      <th>category</th>\n",
       "      <th>amt</th>\n",
       "      <th>first</th>\n",
       "      <th>last</th>\n",
       "      <th>gender</th>\n",
       "      <th>street</th>\n",
       "      <th>city</th>\n",
       "      <th>...</th>\n",
       "      <th>lat</th>\n",
       "      <th>long</th>\n",
       "      <th>city_pop</th>\n",
       "      <th>job</th>\n",
       "      <th>dob</th>\n",
       "      <th>trans_num</th>\n",
       "      <th>unix_time</th>\n",
       "      <th>merch_lat</th>\n",
       "      <th>merch_long</th>\n",
       "      <th>is_fraud</th>\n",
       "    </tr>\n",
       "  </thead>\n",
       "  <tbody>\n",
       "    <tr>\n",
       "      <th>669418</th>\n",
       "      <td>2019-10-12 18:21</td>\n",
       "      <td>4.089100e+18</td>\n",
       "      <td>fraud_Haley, Jewess and Bechtelar</td>\n",
       "      <td>shopping_pos</td>\n",
       "      <td>7.53</td>\n",
       "      <td>Debra</td>\n",
       "      <td>Stark</td>\n",
       "      <td>F</td>\n",
       "      <td>686 Linda Rest</td>\n",
       "      <td>Kilgore</td>\n",
       "      <td>...</td>\n",
       "      <td>32.3836</td>\n",
       "      <td>-94.8653</td>\n",
       "      <td>24536</td>\n",
       "      <td>Multimedia programmer</td>\n",
       "      <td>1983-10-14</td>\n",
       "      <td>d313353fa30233e5fab5468e852d22fc</td>\n",
       "      <td>1350066071</td>\n",
       "      <td>32.202008</td>\n",
       "      <td>-94.371865</td>\n",
       "      <td>0</td>\n",
       "    </tr>\n",
       "    <tr>\n",
       "      <th>32567</th>\n",
       "      <td>2019-01-20 13:06</td>\n",
       "      <td>4.247920e+12</td>\n",
       "      <td>fraud_Turner LLC</td>\n",
       "      <td>travel</td>\n",
       "      <td>3.79</td>\n",
       "      <td>Judith</td>\n",
       "      <td>Moss</td>\n",
       "      <td>F</td>\n",
       "      <td>46297 Benjamin Plains Suite 703</td>\n",
       "      <td>Washington Court House</td>\n",
       "      <td>...</td>\n",
       "      <td>39.5370</td>\n",
       "      <td>-83.4550</td>\n",
       "      <td>22305</td>\n",
       "      <td>Television floor manager</td>\n",
       "      <td>1939-03-09</td>\n",
       "      <td>88c65b4e1585934d578511e627fe3589</td>\n",
       "      <td>1327064760</td>\n",
       "      <td>39.156673</td>\n",
       "      <td>-82.930503</td>\n",
       "      <td>0</td>\n",
       "    </tr>\n",
       "    <tr>\n",
       "      <th>156587</th>\n",
       "      <td>2019-03-24 18:09</td>\n",
       "      <td>4.026220e+12</td>\n",
       "      <td>fraud_Klein Group</td>\n",
       "      <td>entertainment</td>\n",
       "      <td>59.07</td>\n",
       "      <td>Debbie</td>\n",
       "      <td>Payne</td>\n",
       "      <td>F</td>\n",
       "      <td>204 Ashley Neck Apt. 169</td>\n",
       "      <td>Preston</td>\n",
       "      <td>...</td>\n",
       "      <td>41.5224</td>\n",
       "      <td>-71.9934</td>\n",
       "      <td>4720</td>\n",
       "      <td>Broadcast presenter</td>\n",
       "      <td>1977-05-18</td>\n",
       "      <td>3bd9ede04b5c093143d5e5292940b670</td>\n",
       "      <td>1332612553</td>\n",
       "      <td>41.657152</td>\n",
       "      <td>-72.595751</td>\n",
       "      <td>0</td>\n",
       "    </tr>\n",
       "    <tr>\n",
       "      <th>1020243</th>\n",
       "      <td>2020-02-25 15:12</td>\n",
       "      <td>4.957920e+12</td>\n",
       "      <td>fraud_Monahan-Morar</td>\n",
       "      <td>personal_care</td>\n",
       "      <td>25.58</td>\n",
       "      <td>Alan</td>\n",
       "      <td>Parsons</td>\n",
       "      <td>M</td>\n",
       "      <td>0547 Russell Ford Suite 574</td>\n",
       "      <td>Kirk</td>\n",
       "      <td>...</td>\n",
       "      <td>39.6171</td>\n",
       "      <td>-102.4776</td>\n",
       "      <td>207</td>\n",
       "      <td>Network engineer</td>\n",
       "      <td>1955-12-04</td>\n",
       "      <td>19e16ee7a01d229e750359098365e321</td>\n",
       "      <td>1361805120</td>\n",
       "      <td>39.080346</td>\n",
       "      <td>-103.213452</td>\n",
       "      <td>0</td>\n",
       "    </tr>\n",
       "    <tr>\n",
       "      <th>116272</th>\n",
       "      <td>2019-03-06 23:19</td>\n",
       "      <td>4.178100e+15</td>\n",
       "      <td>fraud_Kozey-Kuhlman</td>\n",
       "      <td>personal_care</td>\n",
       "      <td>84.96</td>\n",
       "      <td>Jill</td>\n",
       "      <td>Flores</td>\n",
       "      <td>F</td>\n",
       "      <td>639 Cruz Islands</td>\n",
       "      <td>Baroda</td>\n",
       "      <td>...</td>\n",
       "      <td>41.9488</td>\n",
       "      <td>-86.4913</td>\n",
       "      <td>3104</td>\n",
       "      <td>Horticulturist, commercial</td>\n",
       "      <td>1981-03-29</td>\n",
       "      <td>a0c8641ca1f5d6e243ed5a2246e66176</td>\n",
       "      <td>1331075954</td>\n",
       "      <td>42.502065</td>\n",
       "      <td>-86.732664</td>\n",
       "      <td>0</td>\n",
       "    </tr>\n",
       "    <tr>\n",
       "      <th>...</th>\n",
       "      <td>...</td>\n",
       "      <td>...</td>\n",
       "      <td>...</td>\n",
       "      <td>...</td>\n",
       "      <td>...</td>\n",
       "      <td>...</td>\n",
       "      <td>...</td>\n",
       "      <td>...</td>\n",
       "      <td>...</td>\n",
       "      <td>...</td>\n",
       "      <td>...</td>\n",
       "      <td>...</td>\n",
       "      <td>...</td>\n",
       "      <td>...</td>\n",
       "      <td>...</td>\n",
       "      <td>...</td>\n",
       "      <td>...</td>\n",
       "      <td>...</td>\n",
       "      <td>...</td>\n",
       "      <td>...</td>\n",
       "      <td>...</td>\n",
       "    </tr>\n",
       "    <tr>\n",
       "      <th>1047054</th>\n",
       "      <td>2020-03-10 3:40</td>\n",
       "      <td>3.546670e+15</td>\n",
       "      <td>fraud_Kunze Inc</td>\n",
       "      <td>grocery_pos</td>\n",
       "      <td>289.37</td>\n",
       "      <td>Jordan</td>\n",
       "      <td>May</td>\n",
       "      <td>M</td>\n",
       "      <td>1626 Susan Course</td>\n",
       "      <td>Aledo</td>\n",
       "      <td>...</td>\n",
       "      <td>32.7004</td>\n",
       "      <td>-97.6039</td>\n",
       "      <td>13602</td>\n",
       "      <td>Optometrist</td>\n",
       "      <td>1984-07-05</td>\n",
       "      <td>70b8c60c7bc2ed6e82505c8018919b1f</td>\n",
       "      <td>1362886857</td>\n",
       "      <td>32.238135</td>\n",
       "      <td>-98.129466</td>\n",
       "      <td>1</td>\n",
       "    </tr>\n",
       "    <tr>\n",
       "      <th>1047089</th>\n",
       "      <td>2020-03-10 3:59</td>\n",
       "      <td>3.589290e+15</td>\n",
       "      <td>fraud_Kris-Weimann</td>\n",
       "      <td>misc_net</td>\n",
       "      <td>690.49</td>\n",
       "      <td>Paula</td>\n",
       "      <td>Estrada</td>\n",
       "      <td>F</td>\n",
       "      <td>350 Stacy Glens</td>\n",
       "      <td>Spencer</td>\n",
       "      <td>...</td>\n",
       "      <td>43.7557</td>\n",
       "      <td>-97.5936</td>\n",
       "      <td>343</td>\n",
       "      <td>Development worker, international aid</td>\n",
       "      <td>1972-03-05</td>\n",
       "      <td>fb1ddd251bbec9b84c9755e856d51723</td>\n",
       "      <td>1362887989</td>\n",
       "      <td>43.254214</td>\n",
       "      <td>-98.267759</td>\n",
       "      <td>1</td>\n",
       "    </tr>\n",
       "    <tr>\n",
       "      <th>1047157</th>\n",
       "      <td>2020-03-10 4:31</td>\n",
       "      <td>3.546670e+15</td>\n",
       "      <td>fraud_Casper, Hand and Zulauf</td>\n",
       "      <td>grocery_pos</td>\n",
       "      <td>324.74</td>\n",
       "      <td>Jordan</td>\n",
       "      <td>May</td>\n",
       "      <td>M</td>\n",
       "      <td>1626 Susan Course</td>\n",
       "      <td>Aledo</td>\n",
       "      <td>...</td>\n",
       "      <td>32.7004</td>\n",
       "      <td>-97.6039</td>\n",
       "      <td>13602</td>\n",
       "      <td>Optometrist</td>\n",
       "      <td>1984-07-05</td>\n",
       "      <td>4dca0549e43b7e265cae7fd8a7e563b4</td>\n",
       "      <td>1362889904</td>\n",
       "      <td>33.607221</td>\n",
       "      <td>-97.996506</td>\n",
       "      <td>1</td>\n",
       "    </tr>\n",
       "    <tr>\n",
       "      <th>1047208</th>\n",
       "      <td>2020-03-10 4:59</td>\n",
       "      <td>3.589290e+15</td>\n",
       "      <td>fraud_Kiehn Inc</td>\n",
       "      <td>grocery_pos</td>\n",
       "      <td>331.33</td>\n",
       "      <td>Paula</td>\n",
       "      <td>Estrada</td>\n",
       "      <td>F</td>\n",
       "      <td>350 Stacy Glens</td>\n",
       "      <td>Spencer</td>\n",
       "      <td>...</td>\n",
       "      <td>43.7557</td>\n",
       "      <td>-97.5936</td>\n",
       "      <td>343</td>\n",
       "      <td>Development worker, international aid</td>\n",
       "      <td>1972-03-05</td>\n",
       "      <td>d18c55035998e461aa9040e254b74925</td>\n",
       "      <td>1362891561</td>\n",
       "      <td>44.228731</td>\n",
       "      <td>-98.330520</td>\n",
       "      <td>1</td>\n",
       "    </tr>\n",
       "    <tr>\n",
       "      <th>1047918</th>\n",
       "      <td>2020-03-10 12:09</td>\n",
       "      <td>3.589290e+15</td>\n",
       "      <td>fraud_O'Connell-Ullrich</td>\n",
       "      <td>home</td>\n",
       "      <td>249.56</td>\n",
       "      <td>Paula</td>\n",
       "      <td>Estrada</td>\n",
       "      <td>F</td>\n",
       "      <td>350 Stacy Glens</td>\n",
       "      <td>Spencer</td>\n",
       "      <td>...</td>\n",
       "      <td>43.7557</td>\n",
       "      <td>-97.5936</td>\n",
       "      <td>343</td>\n",
       "      <td>Development worker, international aid</td>\n",
       "      <td>1972-03-05</td>\n",
       "      <td>8f0bac74e340483b44babb0d6d07b85b</td>\n",
       "      <td>1362917373</td>\n",
       "      <td>42.868322</td>\n",
       "      <td>-98.537668</td>\n",
       "      <td>1</td>\n",
       "    </tr>\n",
       "  </tbody>\n",
       "</table>\n",
       "<p>211517 rows × 22 columns</p>\n",
       "</div>"
      ],
      "text/plain": [
       "        trans_date_trans_time        cc_num  \\\n",
       "669418       2019-10-12 18:21  4.089100e+18   \n",
       "32567        2019-01-20 13:06  4.247920e+12   \n",
       "156587       2019-03-24 18:09  4.026220e+12   \n",
       "1020243      2020-02-25 15:12  4.957920e+12   \n",
       "116272       2019-03-06 23:19  4.178100e+15   \n",
       "...                       ...           ...   \n",
       "1047054       2020-03-10 3:40  3.546670e+15   \n",
       "1047089       2020-03-10 3:59  3.589290e+15   \n",
       "1047157       2020-03-10 4:31  3.546670e+15   \n",
       "1047208       2020-03-10 4:59  3.589290e+15   \n",
       "1047918      2020-03-10 12:09  3.589290e+15   \n",
       "\n",
       "                                  merchant       category     amt   first  \\\n",
       "669418   fraud_Haley, Jewess and Bechtelar   shopping_pos    7.53   Debra   \n",
       "32567                     fraud_Turner LLC         travel    3.79  Judith   \n",
       "156587                   fraud_Klein Group  entertainment   59.07  Debbie   \n",
       "1020243                fraud_Monahan-Morar  personal_care   25.58    Alan   \n",
       "116272                 fraud_Kozey-Kuhlman  personal_care   84.96    Jill   \n",
       "...                                    ...            ...     ...     ...   \n",
       "1047054                    fraud_Kunze Inc    grocery_pos  289.37  Jordan   \n",
       "1047089                 fraud_Kris-Weimann       misc_net  690.49   Paula   \n",
       "1047157      fraud_Casper, Hand and Zulauf    grocery_pos  324.74  Jordan   \n",
       "1047208                    fraud_Kiehn Inc    grocery_pos  331.33   Paula   \n",
       "1047918            fraud_O'Connell-Ullrich           home  249.56   Paula   \n",
       "\n",
       "            last gender                           street  \\\n",
       "669418     Stark      F                   686 Linda Rest   \n",
       "32567       Moss      F  46297 Benjamin Plains Suite 703   \n",
       "156587     Payne      F         204 Ashley Neck Apt. 169   \n",
       "1020243  Parsons      M      0547 Russell Ford Suite 574   \n",
       "116272    Flores      F                 639 Cruz Islands   \n",
       "...          ...    ...                              ...   \n",
       "1047054      May      M                1626 Susan Course   \n",
       "1047089  Estrada      F                  350 Stacy Glens   \n",
       "1047157      May      M                1626 Susan Course   \n",
       "1047208  Estrada      F                  350 Stacy Glens   \n",
       "1047918  Estrada      F                  350 Stacy Glens   \n",
       "\n",
       "                           city  ...      lat      long  city_pop  \\\n",
       "669418                  Kilgore  ...  32.3836  -94.8653     24536   \n",
       "32567    Washington Court House  ...  39.5370  -83.4550     22305   \n",
       "156587                  Preston  ...  41.5224  -71.9934      4720   \n",
       "1020243                    Kirk  ...  39.6171 -102.4776       207   \n",
       "116272                   Baroda  ...  41.9488  -86.4913      3104   \n",
       "...                         ...  ...      ...       ...       ...   \n",
       "1047054                   Aledo  ...  32.7004  -97.6039     13602   \n",
       "1047089                 Spencer  ...  43.7557  -97.5936       343   \n",
       "1047157                   Aledo  ...  32.7004  -97.6039     13602   \n",
       "1047208                 Spencer  ...  43.7557  -97.5936       343   \n",
       "1047918                 Spencer  ...  43.7557  -97.5936       343   \n",
       "\n",
       "                                           job         dob  \\\n",
       "669418                   Multimedia programmer  1983-10-14   \n",
       "32567                 Television floor manager  1939-03-09   \n",
       "156587                     Broadcast presenter  1977-05-18   \n",
       "1020243                       Network engineer  1955-12-04   \n",
       "116272              Horticulturist, commercial  1981-03-29   \n",
       "...                                        ...         ...   \n",
       "1047054                            Optometrist  1984-07-05   \n",
       "1047089  Development worker, international aid  1972-03-05   \n",
       "1047157                            Optometrist  1984-07-05   \n",
       "1047208  Development worker, international aid  1972-03-05   \n",
       "1047918  Development worker, international aid  1972-03-05   \n",
       "\n",
       "                                trans_num   unix_time  merch_lat  merch_long  \\\n",
       "669418   d313353fa30233e5fab5468e852d22fc  1350066071  32.202008  -94.371865   \n",
       "32567    88c65b4e1585934d578511e627fe3589  1327064760  39.156673  -82.930503   \n",
       "156587   3bd9ede04b5c093143d5e5292940b670  1332612553  41.657152  -72.595751   \n",
       "1020243  19e16ee7a01d229e750359098365e321  1361805120  39.080346 -103.213452   \n",
       "116272   a0c8641ca1f5d6e243ed5a2246e66176  1331075954  42.502065  -86.732664   \n",
       "...                                   ...         ...        ...         ...   \n",
       "1047054  70b8c60c7bc2ed6e82505c8018919b1f  1362886857  32.238135  -98.129466   \n",
       "1047089  fb1ddd251bbec9b84c9755e856d51723  1362887989  43.254214  -98.267759   \n",
       "1047157  4dca0549e43b7e265cae7fd8a7e563b4  1362889904  33.607221  -97.996506   \n",
       "1047208  d18c55035998e461aa9040e254b74925  1362891561  44.228731  -98.330520   \n",
       "1047918  8f0bac74e340483b44babb0d6d07b85b  1362917373  42.868322  -98.537668   \n",
       "\n",
       "         is_fraud  \n",
       "669418          0  \n",
       "32567           0  \n",
       "156587          0  \n",
       "1020243         0  \n",
       "116272          0  \n",
       "...           ...  \n",
       "1047054         1  \n",
       "1047089         1  \n",
       "1047157         1  \n",
       "1047208         1  \n",
       "1047918         1  \n",
       "\n",
       "[211517 rows x 22 columns]"
      ]
     },
     "execution_count": 36,
     "metadata": {},
     "output_type": "execute_result"
    }
   ],
   "source": [
    "df02_tr"
   ]
  },
  {
   "cell_type": "code",
   "execution_count": 26,
   "id": "1b5f8bd8-992b-4534-bf5a-9e6110ecc076",
   "metadata": {},
   "outputs": [],
   "source": [
    "X = np.array(df02_tr.loc[:,['amt']])\n",
    "XX = np.array(df50_test.loc[:,['amt']])\n",
    "y = np.array(df02_tr.is_fraud)\n",
    "yy = np.array(df50_test.is_fraud)"
   ]
  },
  {
   "cell_type": "markdown",
   "id": "4a664341-3100-4412-ad27-998f80577cca",
   "metadata": {},
   "source": [
    "`-` step2: lrnr 생성 "
   ]
  },
  {
   "cell_type": "code",
   "execution_count": 27,
   "id": "922c85ab-8731-4097-adce-52987681c1bb",
   "metadata": {},
   "outputs": [],
   "source": [
    "lrnr = ensemble.GradientBoostingClassifier()"
   ]
  },
  {
   "cell_type": "markdown",
   "id": "f0de5e82-d56c-49db-a567-02e50b0d0219",
   "metadata": {},
   "source": [
    "`-` step3: fit "
   ]
  },
  {
   "cell_type": "code",
   "execution_count": 28,
   "id": "9ae6e9d9-0e68-435f-bfa7-b60314b380b0",
   "metadata": {},
   "outputs": [
    {
     "data": {
      "text/html": [
       "<style>#sk-container-id-1 {color: black;background-color: white;}#sk-container-id-1 pre{padding: 0;}#sk-container-id-1 div.sk-toggleable {background-color: white;}#sk-container-id-1 label.sk-toggleable__label {cursor: pointer;display: block;width: 100%;margin-bottom: 0;padding: 0.3em;box-sizing: border-box;text-align: center;}#sk-container-id-1 label.sk-toggleable__label-arrow:before {content: \"▸\";float: left;margin-right: 0.25em;color: #696969;}#sk-container-id-1 label.sk-toggleable__label-arrow:hover:before {color: black;}#sk-container-id-1 div.sk-estimator:hover label.sk-toggleable__label-arrow:before {color: black;}#sk-container-id-1 div.sk-toggleable__content {max-height: 0;max-width: 0;overflow: hidden;text-align: left;background-color: #f0f8ff;}#sk-container-id-1 div.sk-toggleable__content pre {margin: 0.2em;color: black;border-radius: 0.25em;background-color: #f0f8ff;}#sk-container-id-1 input.sk-toggleable__control:checked~div.sk-toggleable__content {max-height: 200px;max-width: 100%;overflow: auto;}#sk-container-id-1 input.sk-toggleable__control:checked~label.sk-toggleable__label-arrow:before {content: \"▾\";}#sk-container-id-1 div.sk-estimator input.sk-toggleable__control:checked~label.sk-toggleable__label {background-color: #d4ebff;}#sk-container-id-1 div.sk-label input.sk-toggleable__control:checked~label.sk-toggleable__label {background-color: #d4ebff;}#sk-container-id-1 input.sk-hidden--visually {border: 0;clip: rect(1px 1px 1px 1px);clip: rect(1px, 1px, 1px, 1px);height: 1px;margin: -1px;overflow: hidden;padding: 0;position: absolute;width: 1px;}#sk-container-id-1 div.sk-estimator {font-family: monospace;background-color: #f0f8ff;border: 1px dotted black;border-radius: 0.25em;box-sizing: border-box;margin-bottom: 0.5em;}#sk-container-id-1 div.sk-estimator:hover {background-color: #d4ebff;}#sk-container-id-1 div.sk-parallel-item::after {content: \"\";width: 100%;border-bottom: 1px solid gray;flex-grow: 1;}#sk-container-id-1 div.sk-label:hover label.sk-toggleable__label {background-color: #d4ebff;}#sk-container-id-1 div.sk-serial::before {content: \"\";position: absolute;border-left: 1px solid gray;box-sizing: border-box;top: 0;bottom: 0;left: 50%;z-index: 0;}#sk-container-id-1 div.sk-serial {display: flex;flex-direction: column;align-items: center;background-color: white;padding-right: 0.2em;padding-left: 0.2em;position: relative;}#sk-container-id-1 div.sk-item {position: relative;z-index: 1;}#sk-container-id-1 div.sk-parallel {display: flex;align-items: stretch;justify-content: center;background-color: white;position: relative;}#sk-container-id-1 div.sk-item::before, #sk-container-id-1 div.sk-parallel-item::before {content: \"\";position: absolute;border-left: 1px solid gray;box-sizing: border-box;top: 0;bottom: 0;left: 50%;z-index: -1;}#sk-container-id-1 div.sk-parallel-item {display: flex;flex-direction: column;z-index: 1;position: relative;background-color: white;}#sk-container-id-1 div.sk-parallel-item:first-child::after {align-self: flex-end;width: 50%;}#sk-container-id-1 div.sk-parallel-item:last-child::after {align-self: flex-start;width: 50%;}#sk-container-id-1 div.sk-parallel-item:only-child::after {width: 0;}#sk-container-id-1 div.sk-dashed-wrapped {border: 1px dashed gray;margin: 0 0.4em 0.5em 0.4em;box-sizing: border-box;padding-bottom: 0.4em;background-color: white;}#sk-container-id-1 div.sk-label label {font-family: monospace;font-weight: bold;display: inline-block;line-height: 1.2em;}#sk-container-id-1 div.sk-label-container {text-align: center;}#sk-container-id-1 div.sk-container {/* jupyter's `normalize.less` sets `[hidden] { display: none; }` but bootstrap.min.css set `[hidden] { display: none !important; }` so we also need the `!important` here to be able to override the default hidden behavior on the sphinx rendered scikit-learn.org. See: https://github.com/scikit-learn/scikit-learn/issues/21755 */display: inline-block !important;position: relative;}#sk-container-id-1 div.sk-text-repr-fallback {display: none;}</style><div id=\"sk-container-id-1\" class=\"sk-top-container\"><div class=\"sk-text-repr-fallback\"><pre>GradientBoostingClassifier()</pre><b>In a Jupyter environment, please rerun this cell to show the HTML representation or trust the notebook. <br />On GitHub, the HTML representation is unable to render, please try loading this page with nbviewer.org.</b></div><div class=\"sk-container\" hidden><div class=\"sk-item\"><div class=\"sk-estimator sk-toggleable\"><input class=\"sk-toggleable__control sk-hidden--visually\" id=\"sk-estimator-id-1\" type=\"checkbox\" checked><label for=\"sk-estimator-id-1\" class=\"sk-toggleable__label sk-toggleable__label-arrow\">GradientBoostingClassifier</label><div class=\"sk-toggleable__content\"><pre>GradientBoostingClassifier()</pre></div></div></div></div></div>"
      ],
      "text/plain": [
       "GradientBoostingClassifier()"
      ]
     },
     "execution_count": 28,
     "metadata": {},
     "output_type": "execute_result"
    }
   ],
   "source": [
    "lrnr.fit(X,y)"
   ]
  },
  {
   "cell_type": "markdown",
   "id": "3c27883a-0a95-435b-91ea-b86416dfd038",
   "metadata": {},
   "source": [
    "`-` step4: evaluate"
   ]
  },
  {
   "cell_type": "code",
   "execution_count": 29,
   "id": "cfe84f15-dbbf-495b-9c71-b9632539a9b2",
   "metadata": {},
   "outputs": [],
   "source": [
    "thresh = y.mean()\n",
    "yyhat = (lrnr.predict_proba(XX)> thresh)[:,-1]\n",
    "#yyhat = lrnr.predict(XX) "
   ]
  },
  {
   "cell_type": "code",
   "execution_count": 30,
   "id": "b218d711-67df-4597-91f3-8ab7e3b61ddd",
   "metadata": {},
   "outputs": [],
   "source": [
    "metrics = [sklearn.metrics.accuracy_score,\n",
    "           sklearn.metrics.precision_score,\n",
    "           sklearn.metrics.recall_score,\n",
    "           sklearn.metrics.f1_score]"
   ]
  },
  {
   "cell_type": "code",
   "execution_count": 31,
   "id": "e18c6e5d-c245-41c7-bd25-1e3e73210045",
   "metadata": {},
   "outputs": [
    {
     "data": {
      "text/html": [
       "<div>\n",
       "<style scoped>\n",
       "    .dataframe tbody tr th:only-of-type {\n",
       "        vertical-align: middle;\n",
       "    }\n",
       "\n",
       "    .dataframe tbody tr th {\n",
       "        vertical-align: top;\n",
       "    }\n",
       "\n",
       "    .dataframe thead th {\n",
       "        text-align: right;\n",
       "    }\n",
       "</style>\n",
       "<table border=\"1\" class=\"dataframe\">\n",
       "  <thead>\n",
       "    <tr style=\"text-align: right;\">\n",
       "      <th></th>\n",
       "      <th>accuracy_score</th>\n",
       "      <th>precision_score</th>\n",
       "      <th>recall_score</th>\n",
       "      <th>f1_score</th>\n",
       "    </tr>\n",
       "  </thead>\n",
       "  <tbody>\n",
       "    <tr>\n",
       "      <th>분석2</th>\n",
       "      <td>0.88678</td>\n",
       "      <td>0.910677</td>\n",
       "      <td>0.86025</td>\n",
       "      <td>0.884746</td>\n",
       "    </tr>\n",
       "  </tbody>\n",
       "</table>\n",
       "</div>"
      ],
      "text/plain": [
       "     accuracy_score  precision_score  recall_score  f1_score\n",
       "분석2         0.88678         0.910677       0.86025  0.884746"
      ]
     },
     "execution_count": 31,
     "metadata": {},
     "output_type": "execute_result"
    }
   ],
   "source": [
    "_results2= pd.DataFrame({m.__name__:[m(yy,yyhat).round(6)] for m in metrics},index=['분석2'])\n",
    "_results2"
   ]
  }
 ],
 "metadata": {
  "kernelspec": {
   "display_name": "Python 3 (ipykernel)",
   "language": "python",
   "name": "python3"
  },
  "language_info": {
   "codemirror_mode": {
    "name": "ipython",
    "version": 3
   },
   "file_extension": ".py",
   "mimetype": "text/x-python",
   "name": "python",
   "nbconvert_exporter": "python",
   "pygments_lexer": "ipython3",
   "version": "3.10.13"
  }
 },
 "nbformat": 4,
 "nbformat_minor": 5
}
