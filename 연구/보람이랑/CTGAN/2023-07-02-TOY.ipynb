{
 "cells": [
  {
   "cell_type": "raw",
   "id": "a0cc9735-4142-4966-9f00-5af2b8e7f688",
   "metadata": {},
   "source": [
    "---\n",
    "title: \"(연구&보람) CTGAN -- TOY\"\n",
    "author: \"신록예찬\"\n",
    "date: \"07/01/2023\"\n",
    "---"
   ]
  },
  {
   "cell_type": "markdown",
   "id": "0b6348fa-c676-44b7-af29-7128d5ebf916",
   "metadata": {},
   "source": [
    "# imports "
   ]
  },
  {
   "cell_type": "code",
   "execution_count": 73,
   "id": "1e3f0a47-d588-4cf8-8e4d-6b18cd28d3ac",
   "metadata": {},
   "outputs": [],
   "source": [
    "import numpy as np\n",
    "import pandas as pd\n",
    "import matplotlib.pyplot as plt\n",
    "from ctgan import CTGAN\n",
    "from ctgan import load_demo"
   ]
  },
  {
   "cell_type": "markdown",
   "id": "e24b8b82-a8ee-47f5-aab4-7a647958973e",
   "metadata": {},
   "source": [
    "# data "
   ]
  },
  {
   "cell_type": "code",
   "execution_count": 74,
   "id": "81495179-295a-4a9d-9284-09cb58a7a595",
   "metadata": {},
   "outputs": [],
   "source": [
    "x1 = np.random.randn(1000).tolist()\n",
    "y1 = ['A']*1000\n",
    "x2 = (np.random.randn(100)+5).tolist()\n",
    "y2 = ['B']*100"
   ]
  },
  {
   "cell_type": "code",
   "execution_count": 75,
   "id": "8f7d34d1-3b43-4834-a0ee-10330c6fbbd7",
   "metadata": {},
   "outputs": [
    {
     "data": {
      "text/html": [
       "<div>\n",
       "<style scoped>\n",
       "    .dataframe tbody tr th:only-of-type {\n",
       "        vertical-align: middle;\n",
       "    }\n",
       "\n",
       "    .dataframe tbody tr th {\n",
       "        vertical-align: top;\n",
       "    }\n",
       "\n",
       "    .dataframe thead th {\n",
       "        text-align: right;\n",
       "    }\n",
       "</style>\n",
       "<table border=\"1\" class=\"dataframe\">\n",
       "  <thead>\n",
       "    <tr style=\"text-align: right;\">\n",
       "      <th></th>\n",
       "      <th>x</th>\n",
       "      <th>y</th>\n",
       "    </tr>\n",
       "  </thead>\n",
       "  <tbody>\n",
       "    <tr>\n",
       "      <th>0</th>\n",
       "      <td>-0.905509</td>\n",
       "      <td>A</td>\n",
       "    </tr>\n",
       "    <tr>\n",
       "      <th>1</th>\n",
       "      <td>0.844968</td>\n",
       "      <td>A</td>\n",
       "    </tr>\n",
       "    <tr>\n",
       "      <th>2</th>\n",
       "      <td>-0.374190</td>\n",
       "      <td>A</td>\n",
       "    </tr>\n",
       "    <tr>\n",
       "      <th>3</th>\n",
       "      <td>-1.311042</td>\n",
       "      <td>A</td>\n",
       "    </tr>\n",
       "    <tr>\n",
       "      <th>4</th>\n",
       "      <td>-1.657453</td>\n",
       "      <td>A</td>\n",
       "    </tr>\n",
       "    <tr>\n",
       "      <th>...</th>\n",
       "      <td>...</td>\n",
       "      <td>...</td>\n",
       "    </tr>\n",
       "    <tr>\n",
       "      <th>1095</th>\n",
       "      <td>4.890136</td>\n",
       "      <td>B</td>\n",
       "    </tr>\n",
       "    <tr>\n",
       "      <th>1096</th>\n",
       "      <td>6.158887</td>\n",
       "      <td>B</td>\n",
       "    </tr>\n",
       "    <tr>\n",
       "      <th>1097</th>\n",
       "      <td>4.367205</td>\n",
       "      <td>B</td>\n",
       "    </tr>\n",
       "    <tr>\n",
       "      <th>1098</th>\n",
       "      <td>4.704626</td>\n",
       "      <td>B</td>\n",
       "    </tr>\n",
       "    <tr>\n",
       "      <th>1099</th>\n",
       "      <td>4.428676</td>\n",
       "      <td>B</td>\n",
       "    </tr>\n",
       "  </tbody>\n",
       "</table>\n",
       "<p>1100 rows × 2 columns</p>\n",
       "</div>"
      ],
      "text/plain": [
       "             x  y\n",
       "0    -0.905509  A\n",
       "1     0.844968  A\n",
       "2    -0.374190  A\n",
       "3    -1.311042  A\n",
       "4    -1.657453  A\n",
       "...        ... ..\n",
       "1095  4.890136  B\n",
       "1096  6.158887  B\n",
       "1097  4.367205  B\n",
       "1098  4.704626  B\n",
       "1099  4.428676  B\n",
       "\n",
       "[1100 rows x 2 columns]"
      ]
     },
     "execution_count": 75,
     "metadata": {},
     "output_type": "execute_result"
    }
   ],
   "source": [
    "df = pd.DataFrame({'x':x1+x2, 'y':y1+y2})\n",
    "df"
   ]
  },
  {
   "cell_type": "code",
   "execution_count": 77,
   "id": "14019e20-d82c-4215-8fdc-36f556db4285",
   "metadata": {},
   "outputs": [
    {
     "data": {
      "text/plain": [
       "(array([ 3.,  0.,  1.,  3.,  7.,  9., 20., 26., 43., 39., 44., 46., 72.,\n",
       "        76., 78., 69., 80., 89., 59., 49., 59., 48., 27., 22., 12.,  5.,\n",
       "         8.,  3.,  2.,  1.,  1.,  4.,  1.,  4.,  3.,  8.,  9.,  7., 11.,\n",
       "         6.,  6.,  6.,  8.,  8.,  6.,  4.,  5.,  2.,  0.,  1.]),\n",
       " array([-3.13891042, -2.93493634, -2.73096226, -2.52698818, -2.3230141 ,\n",
       "        -2.11904002, -1.91506594, -1.71109186, -1.50711778, -1.3031437 ,\n",
       "        -1.09916962, -0.89519554, -0.69122146, -0.48724738, -0.2832733 ,\n",
       "        -0.07929922,  0.12467486,  0.32864894,  0.53262302,  0.7365971 ,\n",
       "         0.94057118,  1.14454526,  1.34851934,  1.55249342,  1.7564675 ,\n",
       "         1.96044158,  2.16441566,  2.36838974,  2.57236382,  2.7763379 ,\n",
       "         2.98031198,  3.18428606,  3.38826014,  3.59223422,  3.7962083 ,\n",
       "         4.00018238,  4.20415646,  4.40813053,  4.61210461,  4.81607869,\n",
       "         5.02005277,  5.22402685,  5.42800093,  5.63197501,  5.83594909,\n",
       "         6.03992317,  6.24389725,  6.44787133,  6.65184541,  6.85581949,\n",
       "         7.05979357]),\n",
       " <BarContainer object of 50 artists>)"
      ]
     },
     "execution_count": 77,
     "metadata": {},
     "output_type": "execute_result"
    },
    {
     "data": {
      "image/png": "[encoded data removed]",
      "text/plain": [
       "<Figure size 640x480 with 1 Axes>"
      ]
     },
     "metadata": {},
     "output_type": "display_data"
    }
   ],
   "source": [
    "plt.hist(df.x,bins=50)"
   ]
  },
  {
   "cell_type": "markdown",
   "id": "672a22f6-8d02-4288-b338-0dfbdd646ac4",
   "metadata": {},
   "source": [
    "# CTGAN"
   ]
  },
  {
   "cell_type": "code",
   "execution_count": 93,
   "id": "3a31c119-5df3-440a-9266-df0a72044dc9",
   "metadata": {},
   "outputs": [
    {
     "name": "stderr",
     "output_type": "stream",
     "text": [
      "/home/cgb2/anaconda3/envs/ctgan/lib/python3.10/site-packages/rdt/transformers/base.py:132: FutureWarning: Future versions of RDT will not support the 'model_missing_values' parameter. Please switch to using the 'missing_value_generation' parameter to select your strategy.\n",
      "  warnings.warn(\n"
     ]
    }
   ],
   "source": [
    "# Names of the columns that are discrete\n",
    "discrete_columns = ['y']\n",
    "ctgan = CTGAN(epochs=500) # 겁나많이해야하네?\n",
    "ctgan.fit(df, discrete_columns)\n",
    "\n",
    "# Create synthetic data\n",
    "df2 = ctgan.sample(1000)"
   ]
  },
  {
   "cell_type": "code",
   "execution_count": 94,
   "id": "f8d54a3d-ebd2-4d56-9d62-348b25fa584a",
   "metadata": {},
   "outputs": [
    {
     "data": {
      "text/html": [
       "<div>\n",
       "<style scoped>\n",
       "    .dataframe tbody tr th:only-of-type {\n",
       "        vertical-align: middle;\n",
       "    }\n",
       "\n",
       "    .dataframe tbody tr th {\n",
       "        vertical-align: top;\n",
       "    }\n",
       "\n",
       "    .dataframe thead th {\n",
       "        text-align: right;\n",
       "    }\n",
       "</style>\n",
       "<table border=\"1\" class=\"dataframe\">\n",
       "  <thead>\n",
       "    <tr style=\"text-align: right;\">\n",
       "      <th></th>\n",
       "      <th>x</th>\n",
       "    </tr>\n",
       "    <tr>\n",
       "      <th>y</th>\n",
       "      <th></th>\n",
       "    </tr>\n",
       "  </thead>\n",
       "  <tbody>\n",
       "    <tr>\n",
       "      <th>A</th>\n",
       "      <td>364</td>\n",
       "    </tr>\n",
       "    <tr>\n",
       "      <th>B</th>\n",
       "      <td>636</td>\n",
       "    </tr>\n",
       "  </tbody>\n",
       "</table>\n",
       "</div>"
      ],
      "text/plain": [
       "     x\n",
       "y     \n",
       "A  364\n",
       "B  636"
      ]
     },
     "execution_count": 94,
     "metadata": {},
     "output_type": "execute_result"
    }
   ],
   "source": [
    "df2.groupby('y').count()"
   ]
  },
  {
   "cell_type": "code",
   "execution_count": 95,
   "id": "619f5d72-de09-4511-aa61-c78a0dae8fa1",
   "metadata": {},
   "outputs": [
    {
     "data": {
      "text/plain": [
       "<matplotlib.legend.Legend at 0x7fc14a3222c0>"
      ]
     },
     "execution_count": 95,
     "metadata": {},
     "output_type": "execute_result"
    },
    {
     "data": {
      "image/png": "[encoded data removed]",
      "text/plain": [
       "<Figure size 640x480 with 1 Axes>"
      ]
     },
     "metadata": {},
     "output_type": "display_data"
    }
   ],
   "source": [
    "plt.hist(df.x,bins=50,alpha=0.5,label='real')\n",
    "plt.hist(df2.x,bins=50,alpha=0.5,label='syn')\n",
    "plt.legend()"
   ]
  },
  {
   "cell_type": "code",
   "execution_count": 96,
   "id": "c9582cbb-5a7e-4d31-91cd-193a93a473c5",
   "metadata": {},
   "outputs": [
    {
     "data": {
      "text/plain": [
       "array([[<Axes: title={'center': 'x'}>]], dtype=object)"
      ]
     },
     "execution_count": 96,
     "metadata": {},
     "output_type": "execute_result"
    },
    {
     "data": {
      "image/png": "[encoded data removed]",
      "text/plain": [
       "<Figure size 640x480 with 1 Axes>"
      ]
     },
     "metadata": {},
     "output_type": "display_data"
    }
   ],
   "source": [
    "df2[df2.y=='A'].hist()"
   ]
  },
  {
   "cell_type": "code",
   "execution_count": 97,
   "id": "a4d5b731-4602-4b7c-8288-e1c930c77fa7",
   "metadata": {},
   "outputs": [
    {
     "data": {
      "text/plain": [
       "array([[<Axes: title={'center': 'x'}>]], dtype=object)"
      ]
     },
     "execution_count": 97,
     "metadata": {},
     "output_type": "execute_result"
    },
    {
     "data": {
      "image/png": "[encoded data removed]",
      "text/plain": [
       "<Figure size 640x480 with 1 Axes>"
      ]
     },
     "metadata": {},
     "output_type": "display_data"
    }
   ],
   "source": [
    "df2[df2.y=='B'].hist()"
   ]
  }
 ],
 "metadata": {
  "kernelspec": {
   "display_name": "Python 3 (ipykernel)",
   "language": "python",
   "name": "python3"
  },
  "language_info": {
   "codemirror_mode": {
    "name": "ipython",
    "version": 3
   },
   "file_extension": ".py",
   "mimetype": "text/x-python",
   "name": "python",
   "nbconvert_exporter": "python",
   "pygments_lexer": "ipython3",
   "version": "3.10.13"
  }
 },
 "nbformat": 4,
 "nbformat_minor": 5
}
