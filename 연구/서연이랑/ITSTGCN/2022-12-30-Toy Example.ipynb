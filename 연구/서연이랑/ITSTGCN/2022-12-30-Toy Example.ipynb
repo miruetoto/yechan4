{
 "cells": [
  {
   "cell_type": "raw",
   "id": "ebefcb3a-af3a-4742-9d21-ed2c253cc43d",
   "metadata": {},
   "source": [
    "---\n",
    "title: \"(연구&서연) IT-STGCN -- Toy Example\"\n",
    "author: \"신록예찬\"\n",
    "date: \"12/30/2022\"\n",
    "---"
   ]
  },
  {
   "cell_type": "markdown",
   "id": "2296bb26-3ed3-45f3-bfb9-57d9b193766b",
   "metadata": {},
   "source": [
    "# imports "
   ]
  },
  {
   "cell_type": "code",
   "execution_count": 6,
   "id": "470c88a3-2a3a-4107-aff3-58c2fd51891b",
   "metadata": {},
   "outputs": [],
   "source": [
    "import networkx as nx\n",
    "import numpy as np\n",
    "import matplotlib.pyplot as plt\n",
    "import pandas as pd\n",
    "import torch"
   ]
  },
  {
   "cell_type": "markdown",
   "id": "ee508e23-4b5e-4d35-8162-376edea60f2a",
   "metadata": {},
   "source": [
    "# 공식홈페이지 예제"
   ]
  },
  {
   "cell_type": "markdown",
   "id": "3796cec2-2878-454a-ac99-1f941b3c7c32",
   "metadata": {},
   "source": [
    "## data "
   ]
  },
  {
   "cell_type": "code",
   "execution_count": 7,
   "id": "af99b00c-915e-4948-ac43-0cb4fc686af3",
   "metadata": {},
   "outputs": [],
   "source": [
    "from torch_geometric_temporal.dataset import WikiMathsDatasetLoader\n",
    "from torch_geometric_temporal.signal import temporal_signal_split\n",
    "\n",
    "loader = WikiMathsDatasetLoader()\n",
    "\n",
    "dataset = loader.get_dataset(lags=14)\n",
    "\n",
    "train_dataset, test_dataset = temporal_signal_split(dataset, train_ratio=0.5)"
   ]
  },
  {
   "cell_type": "markdown",
   "id": "3a8fd424-9e72-4a62-b534-2441a8559416",
   "metadata": {},
   "source": [
    "## RecurrentGCN"
   ]
  },
  {
   "cell_type": "code",
   "execution_count": 8,
   "id": "145dd3ba-a100-4da5-820b-2f31133beb13",
   "metadata": {},
   "outputs": [],
   "source": [
    "import torch\n",
    "import torch.nn.functional as F\n",
    "from torch_geometric_temporal.nn.recurrent import GConvGRU\n",
    "\n",
    "class RecurrentGCN(torch.nn.Module):\n",
    "    def __init__(self, node_features, filters):\n",
    "        super(RecurrentGCN, self).__init__()\n",
    "        self.recurrent = GConvGRU(node_features, filters, 2)\n",
    "        self.linear = torch.nn.Linear(filters, 1)\n",
    "\n",
    "    def forward(self, x, edge_index, edge_weight):\n",
    "        h = self.recurrent(x, edge_index, edge_weight)\n",
    "        h = F.relu(h)\n",
    "        h = self.linear(h)\n",
    "        return h"
   ]
  },
  {
   "cell_type": "markdown",
   "id": "f93077cd-3603-4a43-8211-04a024039938",
   "metadata": {},
   "source": [
    "## Learn"
   ]
  },
  {
   "cell_type": "code",
   "execution_count": 9,
   "id": "1f313c7e-f609-428b-bf58-6fbb78db6f58",
   "metadata": {},
   "outputs": [],
   "source": [
    "# from tqdm import tqdm\n",
    "\n",
    "# model = RecurrentGCN(node_features=14, filters=32)\n",
    "\n",
    "# optimizer = torch.optim.Adam(model.parameters(), lr=0.01)\n",
    "\n",
    "# model.train()\n",
    "\n",
    "# for epoch in tqdm(range(50)):\n",
    "#     for time, snapshot in enumerate(train_dataset):\n",
    "#         y_hat = model(snapshot.x, snapshot.edge_index, snapshot.edge_attr)\n",
    "#         cost = torch.mean((y_hat-snapshot.y)**2)\n",
    "#         cost.backward()\n",
    "#         optimizer.step()\n",
    "#         optimizer.zero_grad()"
   ]
  },
  {
   "cell_type": "code",
   "execution_count": 10,
   "id": "422ff3cf-8b7f-4a25-aacc-cb2391d9d784",
   "metadata": {},
   "outputs": [
    {
     "data": {
      "text/plain": [
       "RecurrentGCN(\n",
       "  (recurrent): GConvGRU(\n",
       "    (conv_x_z): ChebConv(14, 32, K=2, normalization=sym)\n",
       "    (conv_h_z): ChebConv(32, 32, K=2, normalization=sym)\n",
       "    (conv_x_r): ChebConv(14, 32, K=2, normalization=sym)\n",
       "    (conv_h_r): ChebConv(32, 32, K=2, normalization=sym)\n",
       "    (conv_x_h): ChebConv(14, 32, K=2, normalization=sym)\n",
       "    (conv_h_h): ChebConv(32, 32, K=2, normalization=sym)\n",
       "  )\n",
       "  (linear): Linear(in_features=32, out_features=1, bias=True)\n",
       ")"
      ]
     },
     "execution_count": 10,
     "metadata": {},
     "output_type": "execute_result"
    }
   ],
   "source": [
    "model = RecurrentGCN(node_features=14, filters=32)\n",
    "model.train()"
   ]
  },
  {
   "cell_type": "code",
   "execution_count": 13,
   "id": "c4e4975f-5046-4019-8765-226919d35b24",
   "metadata": {},
   "outputs": [
    {
     "name": "stdout",
     "output_type": "stream",
     "text": [
      "torch.Size([1068, 1068])\n",
      "torch.Size([1068, 1068])\n",
      "torch.Size([1068, 1068])\n",
      "torch.Size([1068, 1068])\n",
      "torch.Size([1068, 1068])\n",
      "torch.Size([1068, 1068])\n",
      "torch.Size([1068, 1068])\n",
      "torch.Size([1068, 1068])\n",
      "torch.Size([1068, 1068])\n",
      "torch.Size([1068, 1068])\n",
      "torch.Size([1068, 1068])\n",
      "torch.Size([1068, 1068])\n",
      "torch.Size([1068, 1068])\n",
      "torch.Size([1068, 1068])\n",
      "torch.Size([1068, 1068])\n",
      "torch.Size([1068, 1068])\n",
      "torch.Size([1068, 1068])\n",
      "torch.Size([1068, 1068])\n",
      "torch.Size([1068, 1068])\n",
      "torch.Size([1068, 1068])\n",
      "torch.Size([1068, 1068])\n",
      "torch.Size([1068, 1068])\n",
      "torch.Size([1068, 1068])\n",
      "torch.Size([1068, 1068])\n",
      "torch.Size([1068, 1068])\n",
      "torch.Size([1068, 1068])\n",
      "torch.Size([1068, 1068])\n",
      "torch.Size([1068, 1068])\n",
      "torch.Size([1068, 1068])\n",
      "torch.Size([1068, 1068])\n",
      "torch.Size([1068, 1068])\n",
      "torch.Size([1068, 1068])\n",
      "torch.Size([1068, 1068])\n",
      "torch.Size([1068, 1068])\n",
      "torch.Size([1068, 1068])\n",
      "torch.Size([1068, 1068])\n",
      "torch.Size([1068, 1068])\n",
      "torch.Size([1068, 1068])\n",
      "torch.Size([1068, 1068])\n",
      "torch.Size([1068, 1068])\n",
      "torch.Size([1068, 1068])\n",
      "torch.Size([1068, 1068])\n",
      "torch.Size([1068, 1068])\n",
      "torch.Size([1068, 1068])\n",
      "torch.Size([1068, 1068])\n",
      "torch.Size([1068, 1068])\n",
      "torch.Size([1068, 1068])\n",
      "torch.Size([1068, 1068])\n",
      "torch.Size([1068, 1068])\n",
      "torch.Size([1068, 1068])\n",
      "torch.Size([1068, 1068])\n",
      "torch.Size([1068, 1068])\n",
      "torch.Size([1068, 1068])\n",
      "torch.Size([1068, 1068])\n",
      "torch.Size([1068, 1068])\n",
      "torch.Size([1068, 1068])\n",
      "torch.Size([1068, 1068])\n",
      "torch.Size([1068, 1068])\n",
      "torch.Size([1068, 1068])\n",
      "torch.Size([1068, 1068])\n",
      "torch.Size([1068, 1068])\n",
      "torch.Size([1068, 1068])\n",
      "torch.Size([1068, 1068])\n",
      "torch.Size([1068, 1068])\n",
      "torch.Size([1068, 1068])\n",
      "torch.Size([1068, 1068])\n",
      "torch.Size([1068, 1068])\n",
      "torch.Size([1068, 1068])\n",
      "torch.Size([1068, 1068])\n",
      "torch.Size([1068, 1068])\n",
      "torch.Size([1068, 1068])\n",
      "torch.Size([1068, 1068])\n",
      "torch.Size([1068, 1068])\n",
      "torch.Size([1068, 1068])\n",
      "torch.Size([1068, 1068])\n",
      "torch.Size([1068, 1068])\n",
      "torch.Size([1068, 1068])\n",
      "torch.Size([1068, 1068])\n",
      "torch.Size([1068, 1068])\n",
      "torch.Size([1068, 1068])\n",
      "torch.Size([1068, 1068])\n",
      "torch.Size([1068, 1068])\n",
      "torch.Size([1068, 1068])\n",
      "torch.Size([1068, 1068])\n",
      "torch.Size([1068, 1068])\n",
      "torch.Size([1068, 1068])\n",
      "torch.Size([1068, 1068])\n",
      "torch.Size([1068, 1068])\n",
      "torch.Size([1068, 1068])\n",
      "torch.Size([1068, 1068])\n",
      "torch.Size([1068, 1068])\n",
      "torch.Size([1068, 1068])\n",
      "torch.Size([1068, 1068])\n",
      "torch.Size([1068, 1068])\n",
      "torch.Size([1068, 1068])\n",
      "torch.Size([1068, 1068])\n",
      "torch.Size([1068, 1068])\n",
      "torch.Size([1068, 1068])\n",
      "torch.Size([1068, 1068])\n",
      "torch.Size([1068, 1068])\n",
      "torch.Size([1068, 1068])\n",
      "torch.Size([1068, 1068])\n",
      "torch.Size([1068, 1068])\n",
      "torch.Size([1068, 1068])\n",
      "torch.Size([1068, 1068])\n",
      "torch.Size([1068, 1068])\n",
      "torch.Size([1068, 1068])\n",
      "torch.Size([1068, 1068])\n",
      "torch.Size([1068, 1068])\n",
      "torch.Size([1068, 1068])\n",
      "torch.Size([1068, 1068])\n",
      "torch.Size([1068, 1068])\n",
      "torch.Size([1068, 1068])\n",
      "torch.Size([1068, 1068])\n",
      "torch.Size([1068, 1068])\n",
      "torch.Size([1068, 1068])\n",
      "torch.Size([1068, 1068])\n",
      "torch.Size([1068, 1068])\n",
      "torch.Size([1068, 1068])\n",
      "torch.Size([1068, 1068])\n",
      "torch.Size([1068, 1068])\n",
      "torch.Size([1068, 1068])\n",
      "torch.Size([1068, 1068])\n",
      "torch.Size([1068, 1068])\n",
      "torch.Size([1068, 1068])\n",
      "torch.Size([1068, 1068])\n",
      "torch.Size([1068, 1068])\n",
      "torch.Size([1068, 1068])\n",
      "torch.Size([1068, 1068])\n",
      "torch.Size([1068, 1068])\n",
      "torch.Size([1068, 1068])\n",
      "torch.Size([1068, 1068])\n",
      "torch.Size([1068, 1068])\n",
      "torch.Size([1068, 1068])\n",
      "torch.Size([1068, 1068])\n",
      "torch.Size([1068, 1068])\n",
      "torch.Size([1068, 1068])\n",
      "torch.Size([1068, 1068])\n",
      "torch.Size([1068, 1068])\n",
      "torch.Size([1068, 1068])\n",
      "torch.Size([1068, 1068])\n",
      "torch.Size([1068, 1068])\n",
      "torch.Size([1068, 1068])\n",
      "torch.Size([1068, 1068])\n",
      "torch.Size([1068, 1068])\n",
      "torch.Size([1068, 1068])\n",
      "torch.Size([1068, 1068])\n",
      "torch.Size([1068, 1068])\n",
      "torch.Size([1068, 1068])\n",
      "torch.Size([1068, 1068])\n",
      "torch.Size([1068, 1068])\n",
      "torch.Size([1068, 1068])\n",
      "torch.Size([1068, 1068])\n",
      "torch.Size([1068, 1068])\n",
      "torch.Size([1068, 1068])\n",
      "torch.Size([1068, 1068])\n",
      "torch.Size([1068, 1068])\n",
      "torch.Size([1068, 1068])\n",
      "torch.Size([1068, 1068])\n",
      "torch.Size([1068, 1068])\n",
      "torch.Size([1068, 1068])\n",
      "torch.Size([1068, 1068])\n",
      "torch.Size([1068, 1068])\n",
      "torch.Size([1068, 1068])\n",
      "torch.Size([1068, 1068])\n",
      "torch.Size([1068, 1068])\n",
      "torch.Size([1068, 1068])\n",
      "torch.Size([1068, 1068])\n",
      "torch.Size([1068, 1068])\n",
      "torch.Size([1068, 1068])\n",
      "torch.Size([1068, 1068])\n",
      "torch.Size([1068, 1068])\n",
      "torch.Size([1068, 1068])\n",
      "torch.Size([1068, 1068])\n",
      "torch.Size([1068, 1068])\n",
      "torch.Size([1068, 1068])\n",
      "torch.Size([1068, 1068])\n",
      "torch.Size([1068, 1068])\n",
      "torch.Size([1068, 1068])\n",
      "torch.Size([1068, 1068])\n",
      "torch.Size([1068, 1068])\n",
      "torch.Size([1068, 1068])\n",
      "torch.Size([1068, 1068])\n",
      "torch.Size([1068, 1068])\n",
      "torch.Size([1068, 1068])\n",
      "torch.Size([1068, 1068])\n",
      "torch.Size([1068, 1068])\n",
      "torch.Size([1068, 1068])\n",
      "torch.Size([1068, 1068])\n",
      "torch.Size([1068, 1068])\n",
      "torch.Size([1068, 1068])\n",
      "torch.Size([1068, 1068])\n",
      "torch.Size([1068, 1068])\n",
      "torch.Size([1068, 1068])\n",
      "torch.Size([1068, 1068])\n",
      "torch.Size([1068, 1068])\n",
      "torch.Size([1068, 1068])\n",
      "torch.Size([1068, 1068])\n",
      "torch.Size([1068, 1068])\n",
      "torch.Size([1068, 1068])\n",
      "torch.Size([1068, 1068])\n",
      "torch.Size([1068, 1068])\n",
      "torch.Size([1068, 1068])\n",
      "torch.Size([1068, 1068])\n",
      "torch.Size([1068, 1068])\n",
      "torch.Size([1068, 1068])\n",
      "torch.Size([1068, 1068])\n",
      "torch.Size([1068, 1068])\n",
      "torch.Size([1068, 1068])\n",
      "torch.Size([1068, 1068])\n",
      "torch.Size([1068, 1068])\n",
      "torch.Size([1068, 1068])\n",
      "torch.Size([1068, 1068])\n",
      "torch.Size([1068, 1068])\n",
      "torch.Size([1068, 1068])\n",
      "torch.Size([1068, 1068])\n",
      "torch.Size([1068, 1068])\n",
      "torch.Size([1068, 1068])\n",
      "torch.Size([1068, 1068])\n",
      "torch.Size([1068, 1068])\n",
      "torch.Size([1068, 1068])\n",
      "torch.Size([1068, 1068])\n",
      "torch.Size([1068, 1068])\n",
      "torch.Size([1068, 1068])\n",
      "torch.Size([1068, 1068])\n",
      "torch.Size([1068, 1068])\n",
      "torch.Size([1068, 1068])\n",
      "torch.Size([1068, 1068])\n",
      "torch.Size([1068, 1068])\n",
      "torch.Size([1068, 1068])\n",
      "torch.Size([1068, 1068])\n",
      "torch.Size([1068, 1068])\n",
      "torch.Size([1068, 1068])\n",
      "torch.Size([1068, 1068])\n",
      "torch.Size([1068, 1068])\n",
      "torch.Size([1068, 1068])\n",
      "torch.Size([1068, 1068])\n",
      "torch.Size([1068, 1068])\n",
      "torch.Size([1068, 1068])\n",
      "torch.Size([1068, 1068])\n",
      "torch.Size([1068, 1068])\n",
      "torch.Size([1068, 1068])\n",
      "torch.Size([1068, 1068])\n",
      "torch.Size([1068, 1068])\n",
      "torch.Size([1068, 1068])\n",
      "torch.Size([1068, 1068])\n",
      "torch.Size([1068, 1068])\n",
      "torch.Size([1068, 1068])\n",
      "torch.Size([1068, 1068])\n",
      "torch.Size([1068, 1068])\n",
      "torch.Size([1068, 1068])\n",
      "torch.Size([1068, 1068])\n",
      "torch.Size([1068, 1068])\n",
      "torch.Size([1068, 1068])\n",
      "torch.Size([1068, 1068])\n",
      "torch.Size([1068, 1068])\n",
      "torch.Size([1068, 1068])\n",
      "torch.Size([1068, 1068])\n",
      "torch.Size([1068, 1068])\n",
      "torch.Size([1068, 1068])\n",
      "torch.Size([1068, 1068])\n",
      "torch.Size([1068, 1068])\n",
      "torch.Size([1068, 1068])\n",
      "torch.Size([1068, 1068])\n",
      "torch.Size([1068, 1068])\n",
      "torch.Size([1068, 1068])\n",
      "torch.Size([1068, 1068])\n",
      "torch.Size([1068, 1068])\n",
      "torch.Size([1068, 1068])\n",
      "torch.Size([1068, 1068])\n",
      "torch.Size([1068, 1068])\n",
      "torch.Size([1068, 1068])\n",
      "torch.Size([1068, 1068])\n",
      "torch.Size([1068, 1068])\n",
      "torch.Size([1068, 1068])\n",
      "torch.Size([1068, 1068])\n",
      "torch.Size([1068, 1068])\n",
      "torch.Size([1068, 1068])\n",
      "torch.Size([1068, 1068])\n",
      "torch.Size([1068, 1068])\n",
      "torch.Size([1068, 1068])\n",
      "torch.Size([1068, 1068])\n",
      "torch.Size([1068, 1068])\n",
      "torch.Size([1068, 1068])\n",
      "torch.Size([1068, 1068])\n",
      "torch.Size([1068, 1068])\n",
      "torch.Size([1068, 1068])\n",
      "torch.Size([1068, 1068])\n",
      "torch.Size([1068, 1068])\n",
      "torch.Size([1068, 1068])\n",
      "torch.Size([1068, 1068])\n",
      "torch.Size([1068, 1068])\n",
      "torch.Size([1068, 1068])\n",
      "torch.Size([1068, 1068])\n",
      "torch.Size([1068, 1068])\n",
      "torch.Size([1068, 1068])\n",
      "torch.Size([1068, 1068])\n",
      "torch.Size([1068, 1068])\n",
      "torch.Size([1068, 1068])\n",
      "torch.Size([1068, 1068])\n",
      "torch.Size([1068, 1068])\n",
      "torch.Size([1068, 1068])\n",
      "torch.Size([1068, 1068])\n",
      "torch.Size([1068, 1068])\n",
      "torch.Size([1068, 1068])\n",
      "torch.Size([1068, 1068])\n",
      "torch.Size([1068, 1068])\n",
      "torch.Size([1068, 1068])\n",
      "torch.Size([1068, 1068])\n",
      "torch.Size([1068, 1068])\n",
      "torch.Size([1068, 1068])\n",
      "torch.Size([1068, 1068])\n",
      "torch.Size([1068, 1068])\n",
      "torch.Size([1068, 1068])\n",
      "torch.Size([1068, 1068])\n",
      "torch.Size([1068, 1068])\n",
      "torch.Size([1068, 1068])\n",
      "torch.Size([1068, 1068])\n",
      "torch.Size([1068, 1068])\n",
      "torch.Size([1068, 1068])\n",
      "torch.Size([1068, 1068])\n",
      "torch.Size([1068, 1068])\n",
      "torch.Size([1068, 1068])\n",
      "torch.Size([1068, 1068])\n",
      "torch.Size([1068, 1068])\n",
      "torch.Size([1068, 1068])\n",
      "torch.Size([1068, 1068])\n",
      "torch.Size([1068, 1068])\n",
      "torch.Size([1068, 1068])\n",
      "torch.Size([1068, 1068])\n",
      "torch.Size([1068, 1068])\n",
      "torch.Size([1068, 1068])\n",
      "torch.Size([1068, 1068])\n",
      "torch.Size([1068, 1068])\n",
      "torch.Size([1068, 1068])\n",
      "torch.Size([1068, 1068])\n",
      "torch.Size([1068, 1068])\n",
      "torch.Size([1068, 1068])\n",
      "torch.Size([1068, 1068])\n",
      "torch.Size([1068, 1068])\n",
      "torch.Size([1068, 1068])\n",
      "torch.Size([1068, 1068])\n",
      "torch.Size([1068, 1068])\n",
      "torch.Size([1068, 1068])\n",
      "torch.Size([1068, 1068])\n",
      "torch.Size([1068, 1068])\n",
      "torch.Size([1068, 1068])\n",
      "torch.Size([1068, 1068])\n",
      "torch.Size([1068, 1068])\n",
      "torch.Size([1068, 1068])\n",
      "torch.Size([1068, 1068])\n",
      "torch.Size([1068, 1068])\n",
      "torch.Size([1068, 1068])\n",
      "torch.Size([1068, 1068])\n",
      "torch.Size([1068, 1068])\n",
      "torch.Size([1068, 1068])\n",
      "torch.Size([1068, 1068])\n",
      "torch.Size([1068, 1068])\n"
     ]
    }
   ],
   "source": [
    "for s in train_dataset:\n",
    "    print((s.y-model(s.x,s.edge_index,s.edge_attr)).shape)"
   ]
  },
  {
   "cell_type": "markdown",
   "id": "f14dd9c3-2c09-4361-b81b-123e1387c8af",
   "metadata": {},
   "source": [
    "## 예제의 차원 조사 "
   ]
  },
  {
   "cell_type": "code",
   "execution_count": 83,
   "id": "5d739a27-bf07-49b2-ad10-df781a217b0e",
   "metadata": {},
   "outputs": [],
   "source": [
    "for time, snapshot in enumerate(train_dataset):\n",
    "    _x = snapshot.x \n",
    "    _edge_index = snapshot.edge_index \n",
    "    _edge_attr = snapshot.edge_attr\n",
    "    _y = snapshot.y\n",
    "    break"
   ]
  },
  {
   "cell_type": "code",
   "execution_count": 84,
   "id": "f6df439e-7762-4250-a46b-988ae01a3d5e",
   "metadata": {},
   "outputs": [
    {
     "data": {
      "text/plain": [
       "torch.Size([1068, 14])"
      ]
     },
     "execution_count": 84,
     "metadata": {},
     "output_type": "execute_result"
    }
   ],
   "source": [
    "_x.shape"
   ]
  },
  {
   "cell_type": "markdown",
   "id": "49c030c2-b952-4ef8-b9d0-d45257dfae18",
   "metadata": {},
   "source": [
    "- 1068: number of nodes // 1068개의 노드가 있음 \n",
    "- 14: number of features // 하나의 노드에 맵핑된 차원의수 "
   ]
  },
  {
   "cell_type": "code",
   "execution_count": 85,
   "id": "0eed55e1-6ecc-4d49-9af9-8f0dcc2bc0a6",
   "metadata": {},
   "outputs": [
    {
     "data": {
      "text/plain": [
       "torch.Size([2, 27079])"
      ]
     },
     "execution_count": 85,
     "metadata": {},
     "output_type": "execute_result"
    }
   ],
   "source": [
    "_edge_index.shape"
   ]
  },
  {
   "cell_type": "code",
   "execution_count": 86,
   "id": "7cdb57ed-934c-44fc-b580-c74c55d4053d",
   "metadata": {},
   "outputs": [
    {
     "data": {
      "text/plain": [
       "torch.Size([27079])"
      ]
     },
     "execution_count": 86,
     "metadata": {},
     "output_type": "execute_result"
    }
   ],
   "source": [
    "_edge_attr.shape"
   ]
  },
  {
   "cell_type": "code",
   "execution_count": 87,
   "id": "4900fbb4-fe74-4965-bfd2-9eabcff21123",
   "metadata": {},
   "outputs": [
    {
     "data": {
      "text/plain": [
       "torch.Size([1068])"
      ]
     },
     "execution_count": 87,
     "metadata": {},
     "output_type": "execute_result"
    }
   ],
   "source": [
    "_y.shape"
   ]
  },
  {
   "cell_type": "markdown",
   "id": "61e90a55-8785-4d2d-9f9a-160e1a9eaf50",
   "metadata": {},
   "source": [
    "- 1068: number of nodes"
   ]
  },
  {
   "cell_type": "code",
   "execution_count": 88,
   "id": "cb594261-e7df-4d67-a295-3ba14ecb7832",
   "metadata": {},
   "outputs": [
    {
     "data": {
      "text/plain": [
       "torch.Size([1068, 14])"
      ]
     },
     "execution_count": 88,
     "metadata": {},
     "output_type": "execute_result"
    }
   ],
   "source": [
    "_x.shape"
   ]
  },
  {
   "cell_type": "markdown",
   "id": "0497b1e6-998f-45dd-bc9b-c2ad36198e06",
   "metadata": {},
   "source": [
    "# 우리예제"
   ]
  },
  {
   "cell_type": "code",
   "execution_count": 211,
   "id": "4df88068-9214-4085-976d-597a44f0a718",
   "metadata": {},
   "outputs": [],
   "source": [
    "T = 100 \n",
    "N = 2 # number of nodes \n",
    "E = np.array([[0,1],[1,0]]).T\n",
    "V = np.array([1,2])\n",
    "AMP = np.array([3,2,1,2.2])\n",
    "t = np.arange(0,T)/T*10\n",
    "node_features = 1"
   ]
  },
  {
   "cell_type": "code",
   "execution_count": 212,
   "id": "a0e65370-6559-4569-b686-2e86d685c342",
   "metadata": {},
   "outputs": [],
   "source": [
    "#f = np.stack([a*np.sin(2*t**2/1000)+np.random.normal(loc=0,scale=0.2,size=T) for a in AMP],axis=1).reshape(T,N,node_features)\n",
    "#f = torch.tensor(f).float()"
   ]
  },
  {
   "cell_type": "code",
   "execution_count": 213,
   "id": "d92d8084-b386-497f-a50a-a4ba6211644e",
   "metadata": {},
   "outputs": [],
   "source": [
    "x = 0.8*np.sin(2*t)+0.5*np.sin(5*t)+0.1*np.sin(8*t)\n",
    "y = x.copy()\n",
    "for i in range(2,T):\n",
    "    y[i] = 0.35*x[i-1] - 0.15*x[i-2] + 0.5*np.cos(0.5*t[i]) "
   ]
  },
  {
   "cell_type": "code",
   "execution_count": 214,
   "id": "50d2f164-27fc-4fde-b45f-3b49cfb8cf58",
   "metadata": {},
   "outputs": [],
   "source": [
    "f = torch.tensor(np.stack([x,y]).T.reshape(100,2,1)).float()"
   ]
  },
  {
   "cell_type": "code",
   "execution_count": 215,
   "id": "fb91bd75-0625-4159-bc43-803e8386697b",
   "metadata": {},
   "outputs": [],
   "source": [
    "X = f[:98,:,:]\n",
    "y = f[2:,:,:]"
   ]
  },
  {
   "cell_type": "code",
   "execution_count": 216,
   "id": "9887725c-474e-405c-8748-e44358458b81",
   "metadata": {},
   "outputs": [
    {
     "data": {
      "text/plain": [
       "<matplotlib.legend.Legend at 0x7f8d205fa760>"
      ]
     },
     "execution_count": 216,
     "metadata": {},
     "output_type": "execute_result"
    },
    {
     "data": {
      "image/png": "[encoded data removed]",
      "text/plain": [
       "<Figure size 432x288 with 1 Axes>"
      ]
     },
     "metadata": {
      "needs_background": "light"
     },
     "output_type": "display_data"
    }
   ],
   "source": [
    "plt.plot(y[:,0,0],label=\"v1\")\n",
    "plt.plot(y[:,1,0],label=\"v2\")\n",
    "#plt.plot(y[:,2,0],label=\"v3\")\n",
    "#plt.plot(y[:,3,0],label=\"v4\")\n",
    "plt.legend()"
   ]
  },
  {
   "cell_type": "code",
   "execution_count": 217,
   "id": "b35406e4-c439-4acd-a2af-9209c510977b",
   "metadata": {},
   "outputs": [],
   "source": [
    "edge_index = torch.tensor(E)\n",
    "edge_attr = torch.tensor(np.array([1,1]),dtype=torch.float32)"
   ]
  },
  {
   "cell_type": "code",
   "execution_count": 218,
   "id": "18ff54fb-e105-4c69-9c5e-0780f764e2f5",
   "metadata": {},
   "outputs": [],
   "source": [
    "_ee = enumerate(zip(X,y))"
   ]
  },
  {
   "cell_type": "code",
   "execution_count": 266,
   "id": "2e74e257-7193-4cf2-bf21-8943b1a0952f",
   "metadata": {},
   "outputs": [
    {
     "name": "stderr",
     "output_type": "stream",
     "text": [
      "100%|██████████| 50/50 [00:16<00:00,  2.98it/s]\n"
     ]
    }
   ],
   "source": [
    "from tqdm import tqdm\n",
    "\n",
    "model = RecurrentGCN(node_features=1, filters=32)\n",
    "\n",
    "optimizer = torch.optim.Adam(model.parameters(), lr=0.01)\n",
    "\n",
    "model.train()\n",
    "\n",
    "for epoch in tqdm(range(50)):\n",
    "    for time, (xt,yt) in enumerate(zip(X,y)):\n",
    "        y_hat = model(xt, edge_index, edge_attr)\n",
    "        cost = torch.mean((y_hat-yt)**2)\n",
    "        cost.backward()\n",
    "        optimizer.step()\n",
    "        optimizer.zero_grad()"
   ]
  },
  {
   "cell_type": "code",
   "execution_count": 243,
   "id": "597e6323-d0eb-43c8-b39e-dea80b1e1a83",
   "metadata": {},
   "outputs": [
    {
     "data": {
      "text/plain": [
       "(tensor([[0.0142],\n",
       "         [0.0518]], grad_fn=<AddmmBackward0>),\n",
       " tensor([[0.2432],\n",
       "         [0.1453]]))"
      ]
     },
     "execution_count": 243,
     "metadata": {},
     "output_type": "execute_result"
    }
   ],
   "source": [
    "y_hat,yt"
   ]
  },
  {
   "cell_type": "code",
   "execution_count": 221,
   "id": "86419f0b-081b-4d34-8a42-fa4d0eae766d",
   "metadata": {},
   "outputs": [],
   "source": [
    "yhat = torch.stack([model(xt, edge_index, edge_attr) for xt in X]).detach().numpy()"
   ]
  },
  {
   "cell_type": "code",
   "execution_count": 222,
   "id": "3c54d4b8-890d-4b28-a3c7-4fa631812877",
   "metadata": {},
   "outputs": [
    {
     "data": {
      "text/plain": [
       "<matplotlib.legend.Legend at 0x7f8d204d81c0>"
      ]
     },
     "execution_count": 222,
     "metadata": {},
     "output_type": "execute_result"
    },
    {
     "data": {
      "image/png": "[encoded data removed]",
      "text/plain": [
       "<Figure size 432x288 with 1 Axes>"
      ]
     },
     "metadata": {
      "needs_background": "light"
     },
     "output_type": "display_data"
    }
   ],
   "source": [
    "plt.plot(y[:,0,0],label=\"y in V1\")\n",
    "plt.plot(yhat[:,0,0],label=\"yhat in V1\")\n",
    "plt.legend()"
   ]
  },
  {
   "cell_type": "code",
   "execution_count": 223,
   "id": "e2c5f27e-924e-4fb1-9cc2-a0a666ddf2a4",
   "metadata": {},
   "outputs": [
    {
     "data": {
      "text/plain": [
       "<matplotlib.legend.Legend at 0x7f8d20418430>"
      ]
     },
     "execution_count": 223,
     "metadata": {},
     "output_type": "execute_result"
    },
    {
     "data": {
      "image/png": "[encoded data removed]",
      "text/plain": [
       "<Figure size 432x288 with 1 Axes>"
      ]
     },
     "metadata": {
      "needs_background": "light"
     },
     "output_type": "display_data"
    }
   ],
   "source": [
    "plt.plot(y[:,1,0],label=\"y in V2\")\n",
    "plt.plot(yhat[:,1,0],label=\"yhat in V2\")\n",
    "plt.legend()"
   ]
  }
 ],
 "metadata": {
  "kernelspec": {
   "display_name": "Python 3 (ipykernel)",
   "language": "python",
   "name": "python3"
  },
  "language_info": {
   "codemirror_mode": {
    "name": "ipython",
    "version": 3
   },
   "file_extension": ".py",
   "mimetype": "text/x-python",
   "name": "python",
   "nbconvert_exporter": "python",
   "pygments_lexer": "ipython3",
   "version": "3.12.4"
  }
 },
 "nbformat": 4,
 "nbformat_minor": 5
}
