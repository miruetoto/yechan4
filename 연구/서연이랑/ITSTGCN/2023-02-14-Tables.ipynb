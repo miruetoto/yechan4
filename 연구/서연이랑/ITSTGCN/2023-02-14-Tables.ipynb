{
 "cells": [
  {
   "cell_type": "raw",
   "id": "5424dc1d-c1c0-46a6-8ef9-c09117eeefe4",
   "metadata": {},
   "source": [
    "---\n",
    "title: \"(연구&서연) IT-STGCN -- Tables\"\n",
    "author: \"신록예찬\"\n",
    "date: \"12/29/2022\"\n",
    "---"
   ]
  },
  {
   "cell_type": "code",
   "execution_count": 21,
   "id": "ee1321f9-c23c-49bd-bccf-b11726729453",
   "metadata": {},
   "outputs": [],
   "source": [
    "import pandas as pd"
   ]
  },
  {
   "cell_type": "markdown",
   "id": "9666f3e5-55fe-4024-8a33-faf0157308e1",
   "metadata": {},
   "source": [
    "`-` Dataset 5nodes"
   ]
  },
  {
   "cell_type": "code",
   "execution_count": 22,
   "id": "322221b7-6c21-4520-9083-bc6c5087202e",
   "metadata": {},
   "outputs": [],
   "source": [
    "col = ['Dataset','iteration', 'method', 'missingrate', 'missingtype', 'lag', 'number_of_filters', 'interpolation','MSE_train', 'MSE_test',]"
   ]
  },
  {
   "cell_type": "code",
   "execution_count": 23,
   "id": "17dd2a14-e5b3-42c5-8dec-07b40506569f",
   "metadata": {},
   "outputs": [
    {
     "data": {
      "text/html": [
       "<div>\n",
       "<style scoped>\n",
       "    .dataframe tbody tr th:only-of-type {\n",
       "        vertical-align: middle;\n",
       "    }\n",
       "\n",
       "    .dataframe tbody tr th {\n",
       "        vertical-align: top;\n",
       "    }\n",
       "\n",
       "    .dataframe thead th {\n",
       "        text-align: right;\n",
       "    }\n",
       "</style>\n",
       "<table border=\"1\" class=\"dataframe\">\n",
       "  <thead>\n",
       "    <tr style=\"text-align: right;\">\n",
       "      <th></th>\n",
       "      <th>Dataset</th>\n",
       "      <th>iteration</th>\n",
       "      <th>method</th>\n",
       "      <th>missingrate</th>\n",
       "      <th>missingtype</th>\n",
       "      <th>lag</th>\n",
       "      <th>number_of_filters</th>\n",
       "      <th>interpolation</th>\n",
       "      <th>MSE_train</th>\n",
       "      <th>MSE_test</th>\n",
       "    </tr>\n",
       "  </thead>\n",
       "  <tbody>\n",
       "  </tbody>\n",
       "</table>\n",
       "</div>"
      ],
      "text/plain": [
       "Empty DataFrame\n",
       "Columns: [Dataset, iteration, method, missingrate, missingtype, lag, number_of_filters, interpolation, MSE_train, MSE_test]\n",
       "Index: []"
      ]
     },
     "execution_count": 23,
     "metadata": {},
     "output_type": "execute_result"
    }
   ],
   "source": [
    "df = pd.DataFrame(columns=col)\n",
    "df"
   ]
  },
  {
   "cell_type": "markdown",
   "id": "cde0e4f0-f7b2-44d5-9f2e-3af56037ed64",
   "metadata": {},
   "source": [
    "`-` 실험마다 아래와 같은식으로 추가"
   ]
  },
  {
   "cell_type": "code",
   "execution_count": 24,
   "id": "62dd7902-930c-4373-98a3-79bf244ab4a1",
   "metadata": {},
   "outputs": [],
   "source": [
    "df_row = pd.DataFrame(columns=col)\n",
    "df_row['Dataset'] = 'fivenodes', # ...\n",
    "df_row['iteration'] = 1, # 1,2,3,...,10 \n",
    "df_row['method'] = 'stgcn', # 'stgcn','estgcn','gnar' \n",
    "df_row['missingrate'] = 0.0, # 0.0, 0.2, 0.4, 0.6, 0.8 \n",
    "df_row['missingtype'] = None,  # None, 'randomly' and 'block' \n",
    "df_row['lag'] = 1, # 1,2,3,4 ... \n",
    "df_row['number_of_filters'] = 16, # 16,24,32, ... \n",
    "df_row['interpolation'] = None, # None, 'mean', 'linear'\n",
    "df_row['MSE_train'] = 0.96 \n",
    "df_row['MSE_test'] = 0.55"
   ]
  },
  {
   "cell_type": "code",
   "execution_count": 25,
   "id": "051cc491-7529-40d3-8031-b22e6cf5c9ea",
   "metadata": {},
   "outputs": [
    {
     "data": {
      "text/html": [
       "<div>\n",
       "<style scoped>\n",
       "    .dataframe tbody tr th:only-of-type {\n",
       "        vertical-align: middle;\n",
       "    }\n",
       "\n",
       "    .dataframe tbody tr th {\n",
       "        vertical-align: top;\n",
       "    }\n",
       "\n",
       "    .dataframe thead th {\n",
       "        text-align: right;\n",
       "    }\n",
       "</style>\n",
       "<table border=\"1\" class=\"dataframe\">\n",
       "  <thead>\n",
       "    <tr style=\"text-align: right;\">\n",
       "      <th></th>\n",
       "      <th>Dataset</th>\n",
       "      <th>iteration</th>\n",
       "      <th>method</th>\n",
       "      <th>missingrate</th>\n",
       "      <th>missingtype</th>\n",
       "      <th>lag</th>\n",
       "      <th>number_of_filters</th>\n",
       "      <th>interpolation</th>\n",
       "      <th>MSE_train</th>\n",
       "      <th>MSE_test</th>\n",
       "    </tr>\n",
       "  </thead>\n",
       "  <tbody>\n",
       "    <tr>\n",
       "      <th>0</th>\n",
       "      <td>fivenodes</td>\n",
       "      <td>1</td>\n",
       "      <td>stgcn</td>\n",
       "      <td>0.0</td>\n",
       "      <td>None</td>\n",
       "      <td>1</td>\n",
       "      <td>16</td>\n",
       "      <td>None</td>\n",
       "      <td>0.96</td>\n",
       "      <td>0.55</td>\n",
       "    </tr>\n",
       "  </tbody>\n",
       "</table>\n",
       "</div>"
      ],
      "text/plain": [
       "     Dataset iteration method  missingrate missingtype lag number_of_filters  \\\n",
       "0  fivenodes         1  stgcn          0.0        None   1                16   \n",
       "\n",
       "  interpolation  MSE_train  MSE_test  \n",
       "0          None       0.96      0.55  "
      ]
     },
     "execution_count": 25,
     "metadata": {},
     "output_type": "execute_result"
    }
   ],
   "source": [
    "df = pd.concat([df,df_row])\n",
    "df"
   ]
  },
  {
   "cell_type": "code",
   "execution_count": 26,
   "id": "acb3f4b0-a6ea-4e0b-b454-62751d3dd199",
   "metadata": {},
   "outputs": [],
   "source": [
    "df_row = pd.DataFrame(columns=col)\n",
    "df_row['Dataset'] = 'fivenodes', # ...\n",
    "df_row['iteration'] = 1, # 1,2,3,...,10 \n",
    "df_row['method'] = 'stgcn', # 'stgcn','estgcn','gnar' \n",
    "df_row['missingrate'] = 0.2, # 0.0, 0.2, 0.4, 0.6, 0.8 \n",
    "df_row['missingtype'] = 'randomly',  # None, 'randomly' and 'block' \n",
    "df_row['lag'] = 1, # 1,2,3,4 ... \n",
    "df_row['number_of_filters'] = 16, # 16,24,32, ... \n",
    "df_row['interpolation'] = 'mean', # None, 'mean', 'linear'\n",
    "df_row['MSE_train'] = 1.23\n",
    "df_row['MSE_test'] = 0.88"
   ]
  },
  {
   "cell_type": "code",
   "execution_count": 27,
   "id": "1ec34fee-edcd-4dcc-a32e-2977dafd1b56",
   "metadata": {},
   "outputs": [
    {
     "data": {
      "text/html": [
       "<div>\n",
       "<style scoped>\n",
       "    .dataframe tbody tr th:only-of-type {\n",
       "        vertical-align: middle;\n",
       "    }\n",
       "\n",
       "    .dataframe tbody tr th {\n",
       "        vertical-align: top;\n",
       "    }\n",
       "\n",
       "    .dataframe thead th {\n",
       "        text-align: right;\n",
       "    }\n",
       "</style>\n",
       "<table border=\"1\" class=\"dataframe\">\n",
       "  <thead>\n",
       "    <tr style=\"text-align: right;\">\n",
       "      <th></th>\n",
       "      <th>Dataset</th>\n",
       "      <th>iteration</th>\n",
       "      <th>method</th>\n",
       "      <th>missingrate</th>\n",
       "      <th>missingtype</th>\n",
       "      <th>lag</th>\n",
       "      <th>number_of_filters</th>\n",
       "      <th>interpolation</th>\n",
       "      <th>MSE_train</th>\n",
       "      <th>MSE_test</th>\n",
       "    </tr>\n",
       "  </thead>\n",
       "  <tbody>\n",
       "    <tr>\n",
       "      <th>0</th>\n",
       "      <td>fivenodes</td>\n",
       "      <td>1</td>\n",
       "      <td>stgcn</td>\n",
       "      <td>0.0</td>\n",
       "      <td>None</td>\n",
       "      <td>1</td>\n",
       "      <td>16</td>\n",
       "      <td>None</td>\n",
       "      <td>0.96</td>\n",
       "      <td>0.55</td>\n",
       "    </tr>\n",
       "    <tr>\n",
       "      <th>0</th>\n",
       "      <td>fivenodes</td>\n",
       "      <td>1</td>\n",
       "      <td>stgcn</td>\n",
       "      <td>0.2</td>\n",
       "      <td>randomly</td>\n",
       "      <td>1</td>\n",
       "      <td>16</td>\n",
       "      <td>mean</td>\n",
       "      <td>1.23</td>\n",
       "      <td>0.88</td>\n",
       "    </tr>\n",
       "  </tbody>\n",
       "</table>\n",
       "</div>"
      ],
      "text/plain": [
       "     Dataset iteration method  missingrate missingtype lag number_of_filters  \\\n",
       "0  fivenodes         1  stgcn          0.0        None   1                16   \n",
       "0  fivenodes         1  stgcn          0.2    randomly   1                16   \n",
       "\n",
       "  interpolation  MSE_train  MSE_test  \n",
       "0          None       0.96      0.55  \n",
       "0          mean       1.23      0.88  "
      ]
     },
     "execution_count": 27,
     "metadata": {},
     "output_type": "execute_result"
    }
   ],
   "source": [
    "df = pd.concat([df,df_row])\n",
    "df"
   ]
  }
 ],
 "metadata": {
  "kernelspec": {
   "display_name": "Python 3 (ipykernel)",
   "language": "python",
   "name": "python3"
  },
  "language_info": {
   "codemirror_mode": {
    "name": "ipython",
    "version": 3
   },
   "file_extension": ".py",
   "mimetype": "text/x-python",
   "name": "python",
   "nbconvert_exporter": "python",
   "pygments_lexer": "ipython3",
   "version": "3.10.13"
  }
 },
 "nbformat": 4,
 "nbformat_minor": 5
}
