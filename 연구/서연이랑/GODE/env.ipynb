{
 "cells": [
  {
   "cell_type": "raw",
   "metadata": {
    "vscode": {
     "languageId": "raw"
    }
   },
   "source": [
    "---\n",
    "title: \"(연구&서연) GODE -- 환경설정\"\n",
    "author: \"최규빈\"\n",
    "date: \"08/12/2024\"\n",
    "---"
   ]
  },
  {
   "cell_type": "markdown",
   "metadata": {
    "vscode": {
     "languageId": "raw"
    }
   },
   "source": [
    "```bash\n",
    "conda create -n gode python=3.10 \n",
    "conda install -c conda-forge r-essentials\n",
    "conda install r::rpy2\n",
    "conda install conda-forge::scikit-learn\n",
    "conda install conda-forge::pygsp\n",
    "conda install -c conda-forge notebook\n",
    "pip install matplotlib\n",
    "pip install pandas\n",
    "pip install haversine\n",
    "conda install plotly::plotly\n",
    "pip install tqdm \n",
    "conda install -c conda-forge pyod\n",
    "pip install combo\n",
    "conda install pytorch torchvision torchaudio pytorch-cuda=12.4 -c pytorch -c nvidia\n",
    "install.packages(\"EbayesThresh\")\n",
    "pip install seaborn\n",
    "```"
   ]
  },
  {
   "cell_type": "markdown",
   "metadata": {
    "vscode": {
     "languageId": "raw"
    }
   },
   "source": [
    "```bash\n",
    "conda create -n gode37 python=3.7\n",
    "conda install -c conda-forge r-essentials\n",
    "conda install r::rpy2\n",
    "conda install conda-forge::scikit-learn\n",
    "conda install conda-forge::pygsp\n",
    "conda install -c conda-forge notebook\n",
    "pip install matplotlib\n",
    "pip install pandas\n",
    "pip install haversine\n",
    "conda install plotly::plotly\n",
    "pip install tqdm \n",
    "conda install -c conda-forge pyod\n",
    "pip install combo\n",
    "conda install pytorch torchvision torchaudio pytorch-cuda=12.4 -c pytorch -c nvidia\n",
    "install.packages(\"EbayesThresh\")\n",
    "pip install seaborn\n",
    "```"
   ]
  }
 ],
 "metadata": {
  "kernelspec": {
   "display_name": "Python 3 (ipykernel)",
   "language": "python",
   "name": "python3"
  },
  "language_info": {
   "codemirror_mode": {
    "name": "ipython",
    "version": 3
   },
   "file_extension": ".py",
   "mimetype": "text/x-python",
   "name": "python",
   "nbconvert_exporter": "python",
   "pygments_lexer": "ipython3",
   "version": "3.10.13"
  }
 },
 "nbformat": 4,
 "nbformat_minor": 2
}
