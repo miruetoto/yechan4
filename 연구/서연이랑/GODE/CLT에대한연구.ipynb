{
 "cells": [
  {
   "cell_type": "raw",
   "metadata": {
    "vscode": {
     "languageId": "raw"
    }
   },
   "source": [
    "---\n",
    "title: \"(연구&서연) GODE -- CLT\"\n",
    "author: \"최규빈\"\n",
    "date: \"08/14/2024\"\n",
    "---"
   ]
  },
  {
   "cell_type": "markdown",
   "metadata": {},
   "source": [
    "# 수정된 정리와 증명\n",
    "\n",
    "#### Theorem (Graph Fourier Transform and Asymptotic Normality)\n",
    "\n",
    "**가정:**  \n",
    "벡터 $\\mathbf{y} \\in \\mathbb{R}^N$은 평균이 0이고 분산이 $\\sigma^2$인 독립적이고 동일한 분포(iid)를 따르는 확률 변수들로 구성된 그래프 신호이다. 즉, $\\mathbf{y} = [y_1, y_2, \\dots, y_N]^T \\sim \\text{iid}(0, \\sigma^2)$이다. 그래프 시프트 연산자(GSO) $\\mathbf{S}$는 실수 대칭 행렬로, 고유벡터들이 직교성을 가지며, 고유값 분해 $\\mathbf{S} = \\mathbf{U} \\Lambda \\mathbf{U}^T$가 성립한다. 여기서 $\\mathbf{U} = [\\mathbf{u}_1, \\mathbf{u}_2, \\dots, \\mathbf{u}_N]$는 고유벡터들로 구성된 직교행렬이고, $\\Lambda$는 고유값을 대각성분으로 가지는 대각행렬이다. $\\mathbf{\\tilde{y}} = \\mathbf{U}^T \\mathbf{y}$로 정의된 GFT(Graph Fourier Transform) 계수 벡터는 $\\mathbf{y}$의 그래프 푸리에 변환이다.\n",
    "\n",
    "**정리:**  \n",
    "GSO $\\mathbf{S}$가 위 가정을 만족할 때, $N$이 충분히 클 경우, 각 GFT 계수 $\\tilde{y}_i$는 평균이 0이고 분산이 $\\sigma^2$인 정규 분포로 수렴한다. 즉,\n",
    "\n",
    "$$\n",
    "\\tilde{y}_i \\sim \\text{AN}\\left(0, \\sigma^2\\right) \\quad \\text{for } i = 1, 2, \\dots, N.\n",
    "$$\n",
    "\n",
    "또한, 서로 다른 $i$와 $j$에 대해 $\\tilde{y}_i$와 $\\tilde{y}_j$는 점근적으로 독립이다.\n",
    "\n",
    "**증명:**  \n",
    "벡터 $\\mathbf{y} \\sim \\text{iid}(0, \\sigma^2)$이므로, $\\mathbf{\\tilde{y}} = \\mathbf{U}^T \\mathbf{y}$에서 $\\mathbf{U}$는 직교행렬이므로 $\\mathbf{\\tilde{y}}$의 각 성분 $\\tilde{y}_i$는 다음과 같이 표현된다:\n",
    "\n",
    "$$\n",
    "\\tilde{y}_i = \\mathbf{u}_i^T \\mathbf{y} = \\sum_{j=1}^{N} u_{ij} y_j,\n",
    "$$\n",
    "\n",
    "여기서 $u_{ij}$는 $\\mathbf{U}$의 $i$번째 고유벡터의 $j$번째 성분이다.\n",
    "\n",
    "$\\tilde{y}_i$는 $N$개의 독립적인 $y_j$의 선형 조합으로 이루어져 있다. 각 $y_j$는 $\\text{iid}(0, \\sigma^2)$이므로, 중심 극한 정리에 의해 $N$이 충분히 클 때, $\\tilde{y}_i$는 평균이 0이고 분산이 $\\sigma^2 \\sum_{j=1}^{N} u_{ij}^2$인 정규 분포로 수렴한다.\n",
    "\n",
    "$\\mathbf{U}$의 직교성에 의해 $\\sum_{j=1}^{N} u_{ij}^2 = 1$이므로, $\\tilde{y}_i$의 분산은 $\\sigma^2$이 된다.\n",
    "\n",
    "$$\n",
    "\\tilde{y}_i \\sim \\text{AN}\\left(0, \\sigma^2\\right).\n",
    "$$\n",
    "\n",
    "**AN**은 \"Asymptotically Normal\"의 약어로, 점근적으로 정규 분포를 따른다는 의미이다. 서로 다른 $\\tilde{y}_i$와 $\\tilde{y}_j$는 각각 서로 다른 고유벡터 $\\mathbf{u}_i$와 $\\mathbf{u}_j$에 의해 결정된다. 고유벡터들이 직교성이므로, $\\tilde{y}_i$와 $\\tilde{y}_j$는 서로 독립이다. 따라서 $N$이 충분히 클 때 $\\tilde{y}_i$와 $\\tilde{y}_j$는 점근적으로 독립인 정규 분포를 따르게 된다.\n",
    "\n",
    "**결론:**  \n",
    "따라서, 위의 가정 하에서 각 GFT 계수 $\\tilde{y}_i$는 평균이 0이고 분산이 $\\sigma^2$인 정규 분포로 수렴하며, 서로 다른 GFT 계수들 간에는 점근적으로 독립성이 보장된다."
   ]
  },
  {
   "cell_type": "markdown",
   "metadata": {},
   "source": [
    "`-`  각 $y_j$는 $\\text{iid}(0, \\sigma^2)$이므로, 중심 극한 정리에 의해 $N$이 충분히 클 때, $\\tilde{y}_i$는 평균이 0이고 분산이 $\\sigma^2 \\sum_{j=1}^{N} u_{ij}^2$인 정규 분포로 수렴한다. "
   ]
  },
  {
   "cell_type": "markdown",
   "metadata": {},
   "source": [
    "`*` 벡터 $\\mathbf{y}$의 성분인 $y_j$들은 모두 $\\text{iid}(0, \\sigma^2)$를 따르며, 이는 $y_j$가 평균이 0이고 분산이 $\\sigma^2$인 독립적이고 동일한 분포를 따른다는 것을 의미한다. 이 경우, $\\tilde{y}_i$는 여러 $y_j$들이 각기 다른 $u_{ij}$ 계수로 가중되어 더해진 형태를 가지게 된다.\n",
    "\n",
    "$$\n",
    "\\tilde{y}_i = \\sum_{j=1}^{N} u_{ij} y_j\n",
    "$$\n",
    "\n",
    "이 식은 $N$개의 독립적인 확률 변수 $y_j$들의 가중합으로 볼 수 있다. 중심 극한 정리에 따르면, $y_j$들이 독립적이고 동일한 분포를 따르며, $N$이 충분히 클 때, 이들의 선형 조합(즉, $\\tilde{y}_i$)은 정규 분포로 수렴한다. 이때 $\\tilde{y}_i$의 분포는 다음과 같은 평균과 분산을 갖는다.\n",
    "\n",
    "- **평균**: 각 $y_j$의 평균이 0이므로, $\\tilde{y}_i$의 평균도 0이다.\n",
    "- **분산**: $y_j$의 분산이 $\\sigma^2$이고, 각 $y_j$가 $u_{ij}$로 가중되어 합산되므로, $\\tilde{y}_i$의 분산은 $\\sigma^2$에 각 $u_{ij}^2$의 합을 곱한 값이 된다:\n",
    "\n",
    "$$\n",
    "\\text{Var}(\\tilde{y}_i) = \\sigma^2 \\sum_{j=1}^{N} u_{ij}^2\n",
    "$$\n",
    "\n",
    "$\\mathbf{U}$가 직교행렬이므로, 고유벡터 $\\mathbf{u}_i$의 성분 $u_{ij}$들에 대해 $\\sum_{j=1}^{N} u_{ij}^2 = 1$이 성립한다. 따라서 $\\tilde{y}_i$의 분산은 $\\sigma^2$이 된다.\n",
    "\n",
    "$$\n",
    "\\tilde{y}_i \\sim \\text{AN}(0, \\sigma^2)\n",
    "$$\n",
    "\n",
    "즉, $\\tilde{y}_i$는 평균이 0이고 분산이 $\\sigma^2$인 정규 분포로 수렴한다."
   ]
  },
  {
   "cell_type": "markdown",
   "metadata": {},
   "source": [
    "`-` $y_j$들이 독립적이고 동일한 분포를 따르며, $N$이 충분히 클 때, 이들의 선형 조합(즉, $\\tilde{y}_i$)은 정규 분포로 수렴하는 이유??"
   ]
  },
  {
   "cell_type": "markdown",
   "metadata": {},
   "source": [
    " `*` **정리 (Lindeberg-Feller 중심 극한 정리):**\n",
    "\n",
    "서로 독립적인 확률 변수들의 수열 $\\{X_{n, k} : k = 1, 2, \\dots, n\\}$이 존재한다고 가정하자. 각 $X_{n,k}$에 대해 기대값 $E[X_{n,k}] = 0$, 분산 $\\text{Var}(X_{n,k}) = \\sigma_{n,k}^2$라고 하자. 이때, 합\n",
    "\n",
    "$$\n",
    "S_n = \\sum_{k=1}^{n} X_{n,k}\n",
    "$$\n",
    "\n",
    "의 분산 $\\text{Var}(S_n) = \\sum_{k=1}^{n} \\sigma_{n,k}^2 = \\sigma_n^2$가 존재하고, 다음의 Lindeberg 조건이 성립한다고 가정한다:\n",
    "\n",
    "$$\n",
    "\\lim_{n \\to \\infty} \\frac{1}{\\sigma_n^2} \\sum_{k=1}^{n} E\\left[ X_{n,k}^2 \\cdot \\mathbf{1}\\left(\\frac{|X_{n,k}|}{\\sigma_n} > \\epsilon \\right) \\right] = 0 \\quad \\text{for all } \\epsilon > 0,\n",
    "$$\n",
    "\n",
    "여기서 $\\mathbf{1}(\\cdot)$은 지시 함수(indicator function)로, 조건이 참이면 1, 거짓이면 0을 반환한다.\n",
    "\n",
    "위 조건이 성립하면, 합 $S_n / \\sigma_n$은 표준 정규 분포 $N(0,1)$로 수렴한다:\n",
    "\n",
    "$$\n",
    "\\frac{S_n}{\\sigma_n} \\xrightarrow{d} N(0,1) \\quad \\text{as } n \\to \\infty.\n",
    "$$\n",
    "\n",
    "**해설:**\n",
    "\n",
    "이 정리는 서로 독립적인 확률 변수들의 가중합이 정규 분포로 수렴하는 조건을 제시한다. Lindeberg 조건은 특히, 개별 항이 정규 분포의 극한에 기여하지 않을 정도로 작아야 한다는 점을 강조한다. 즉, 분산이 매우 큰 값으로 치우치는 변수가 있으면 이 조건이 만족되지 않으며, 이 경우 정규 분포로 수렴하지 않을 수 있다.\n",
    "\n",
    "이 정리는 표준적인 중심 극한 정리보다 더 일반적인 상황에 적용될 수 있으며, 특히 독립적이지만 동일한 분포를 따르지 않는 경우나 가중합이 발생하는 경우에도 적용 가능하다."
   ]
  },
  {
   "cell_type": "markdown",
   "metadata": {},
   "source": [
    "`-` Lindeberg 조건의 의미"
   ]
  },
  {
   "cell_type": "markdown",
   "metadata": {},
   "source": [
    "`*` **Lindeberg 조건**은 중심 극한 정리가 성립하기 위한 중요한 기준 중 하나로, 특정 확률 변수들이 정규 분포로 수렴하는 데 있어 개별 항들의 역할을 제한한다. 이 조건은 모든 개별 항들이 합의 결과에 지나치게 큰 영향을 미치지 않도록 보장하는 역할을 한다.\n",
    "\n",
    "**조건의 구체적인 의미**\n",
    "\n",
    "Lindeberg 조건은 다음과 같다:\n",
    "\n",
    "$$\n",
    "\\lim_{n \\to \\infty} \\frac{1}{\\sigma_n^2} \\sum_{k=1}^{n} E\\left[ X_{n,k}^2 \\cdot \\mathbf{1}\\left(\\frac{|X_{n,k}|}{\\sigma_n} > \\epsilon \\right) \\right] = 0 \\quad \\text{for all } \\epsilon > 0,\n",
    "$$\n",
    "\n",
    "이 조건은 다음과 같은 의미를 갖는다:\n",
    "\n",
    "1. **개별 항의 영향 제한**: $\\frac{|X_{n,k}|}{\\sigma_n}$가 일정한 임계값 $\\epsilon$을 넘는 경우, 그에 대응하는 기댓값 $E[X_{n,k}^2 \\cdot \\mathbf{1}(\\cdot)]$이 0에 수렴해야 한다. 즉, 개별 확률 변수가 전체 합에 미치는 영향이 너무 크지 않아야 한다는 것을 의미한다.\n",
    "\n",
    "2. **중앙 극한 정리 성립의 핵심**: Lindeberg 조건은 각 항이 \"정규 분포\"로의 수렴 과정에서 지나치게 큰 역할을 하지 않도록 보장한다. 만약 일부 항이 지나치게 큰 영향을 미치면, 그 항의 기여가 합을 왜곡하여 정규 분포로의 수렴이 이루어지지 않게 된다.\n",
    "\n",
    "**Lindeberg 조건을 만족하지 않는 예시**\n",
    "\n",
    "Lindeberg 조건을 만족하지 않는 경우는 다음과 같이 설명할 수 있다.\n",
    "\n",
    "**예시**:  \n",
    "서로 독립적인 확률 변수 $X_1, X_2, \\dots, X_n$이 있다고 하자. 이들 중 하나의 확률 변수 $X_n$이 나머지 변수들에 비해 매우 큰 분산을 가진다고 가정해보자. 이를 위해 다음과 같은 경우를 생각할 수 있다:\n",
    "\n",
    "- $X_1, X_2, \\dots, X_{n-1}$은 모두 평균이 0이고 분산이 $\\sigma^2$인 동일한 분포를 따른다.\n",
    "- $X_n$은 평균이 0이지만 분산이 매우 큰 값, 예를 들어 $n^2 \\cdot \\sigma^2$을 가진다고 하자.\n",
    "\n",
    "이 경우, $\\sigma_n^2 = \\sum_{k=1}^{n} \\text{Var}(X_{n,k})$이므로,\n",
    "\n",
    "$$\n",
    "\\sigma_n^2 = (n-1)\\sigma^2 + n^2 \\cdot \\sigma^2 = (n-1)\\sigma^2 + n^2 \\cdot \\sigma^2\n",
    "$$\n",
    "\n",
    "전체 합 $S_n = \\sum_{k=1}^{n} X_k$에서, $X_n$의 기여가 다른 모든 변수들보다 훨씬 더 크게 된다. 이는 $X_n$의 분산이 매우 크기 때문에 발생한다. 따라서 $X_n$이 Lindeberg 조건을 위반하게 되고, 전체 합 $S_n$이 정규 분포로 수렴하지 않을 가능성이 생긴다.\n",
    "\n",
    "Lindeberg 조건을 위반함으로써 발생할 수 있는 문제는 다음과 같다:\n",
    "\n",
    "- **정규 분포로의 수렴 실패**: 하나의 큰 변동성이 전체 합을 왜곡하여, 원래 기대했던 정규 분포가 아닌 다른 분포로 수렴할 수 있다.\n",
    "- **합의 극단적 왜곡**: 큰 분산을 가진 변수 하나가 합의 값을 극단적으로 왜곡하여, 분포의 꼬리가 매우 두꺼워질 수 있다(예: 파레토 분포, Cauchy 분포 등으로 수렴할 수 있음).\n",
    "\n",
    "이 예시는 Lindeberg 조건의 중요성을 강조하며, 특히 일부 변수가 지나치게 큰 분산을 가지는 경우 정규 분포로의 수렴이 보장되지 않을 수 있음을 보여준다. 이 조건이 충족되지 않으면, 중심 극한 정리는 성립하지 않을 수 있다."
   ]
  },
  {
   "cell_type": "markdown",
   "metadata": {},
   "source": [
    "`-` Salt-and-Pepper 노이즈 가 린드버그의 조건을 만족할까?"
   ]
  },
  {
   "cell_type": "markdown",
   "metadata": {},
   "source": [
    "`*` **Salt-and-Pepper 노이즈**는 디지털 이미지 처리에서 주로 등장하는 노이즈로, 픽셀 값이 임의로 최대값(흰색, \"salt\") 또는 최소값(검정색, \"pepper\")으로 설정되는 것을 의미한다. 일반적으로 이 노이즈는 이산적인 두 개의 값을 갖는 비대칭적 분포를 따른다. 이를 확률 변수로 표현하면, $X_i$가 다음과 같은 분포를 따를 수 있다:\n",
    "\n",
    "$$\n",
    "X_i = \n",
    "\\begin{cases} \n",
    "M & \\text{with probability } p_s \\\\\n",
    "-m & \\text{with probability } p_p \\\\\n",
    "0 & \\text{with probability } 1 - p_s - p_p\n",
    "\\end{cases}\n",
    "$$\n",
    "\n",
    "여기서 $M$과 $-m$은 각각 최대값과 최소값, $p_s$와 $p_p$는 각각 salt와 pepper 노이즈가 발생할 확률이다.\n",
    "\n",
    "**# [Lindeberg 조건 검토]**\n",
    "\n",
    "Lindeberg 조건이 성립하기 위해서는 다음과 같은 조건을 검토해야 한다:\n",
    "\n",
    "$$\n",
    "\\lim_{n \\to \\infty} \\frac{1}{\\sigma_n^2} \\sum_{k=1}^{n} E\\left[ X_k^2 \\cdot \\mathbf{1}\\left(\\frac{|X_k|}{\\sigma_n} > \\epsilon \\right) \\right] = 0 \\quad \\text{for all } \\epsilon > 0,\n",
    "$$\n",
    "\n",
    "여기서 $\\sigma_n^2 = \\sum_{k=1}^{n} \\text{Var}(X_k)$는 전체 합의 분산이다.\n",
    "\n",
    "**# [Salt-and-Pepper 노이즈의 분포에 따른 Lindeberg 조건 분석]**\n",
    "\n",
    "1. **확률 변수 $X_i$의 분산**:\n",
    "   각 $X_i$의 분산 $\\text{Var}(X_i)$는 다음과 같이 계산된다:\n",
    "   \n",
    "   $$\n",
    "   \\text{Var}(X_i) = E[X_i^2] - (E[X_i])^2\n",
    "   $$\n",
    "   \n",
    "   $$\n",
    "   E[X_i] = p_s \\cdot M + p_p \\cdot (-m)\n",
    "   $$\n",
    "   \n",
    "   $$\n",
    "   E[X_i^2] = p_s \\cdot M^2 + p_p \\cdot m^2\n",
    "   $$\n",
    "   \n",
    "   따라서 분산은 다음과 같다:\n",
    "   \n",
    "   $$\n",
    "   \\text{Var}(X_i) = p_s \\cdot M^2 + p_p \\cdot m^2 - (p_s \\cdot M + p_p \\cdot (-m))^2\n",
    "   $$\n",
    "   \n",
    "   분산이 큰 값으로 유지될 수 있지만, 개별 항들이 극단적인 값을 취할 가능성이 제한되어 있으므로 중심 극한 정리에서 중요한 역할을 하는 평균과 분산의 조건이 만족될 가능성이 있다.\n",
    "\n",
    "2. **Lindeberg 조건에 따른 임계값 초과 확률**:\n",
    "   $X_i$가 특정 값 $M$ 또는 $-m$으로 설정될 확률 $p_s$ 및 $p_p$가 매우 작지 않다면, 그 값들이 $\\epsilon \\cdot \\sigma_n$를 초과할 가능성도 높아진다.\n",
    "   \n",
    "   이 경우, $X_i$가 $\\epsilon \\cdot \\sigma_n$를 초과하는 확률이 비례적으로 매우 높아지며, $\\sum_{k=1}^{n} E\\left[ X_k^2 \\cdot \\mathbf{1}\\left(\\frac{|X_k|}{\\sigma_n} > \\epsilon \\right) \\right]$의 값이 0으로 수렴하지 않을 수 있다. 이는 Lindeberg 조건이 성립하지 않음을 의미할 수 있다.\n",
    "\n",
    "**# [결론]**\n",
    "\n",
    "**Salt-and-Pepper 노이즈**의 경우, Lindeberg 조건이 항상 만족된다고 보장할 수 없다. 특히, Salt-and-Pepper 노이즈에서 발생하는 값들이 매우 큰 편차를 가지거나 그 발생 확률이 특정 방식으로 분포할 경우, 개별 항들이 합 전체에 큰 영향을 미치게 되며, 이는 Lindeberg 조건을 위반할 가능성이 크다.\n",
    "\n",
    "따라서, **Salt-and-Pepper 노이즈**를 따르는 확률 변수 $X_i$들이 중심 극한 정리의 일반적 형태로 정규 분포에 수렴하는 것은 보장되지 않는다. 이를 위해서는 노이즈 발생 확률과 그 값들이 Lindeberg 조건을 만족하는지를 추가로 검토해야 한다."
   ]
  },
  {
   "cell_type": "markdown",
   "metadata": {},
   "source": []
  }
 ],
 "metadata": {
  "language_info": {
   "name": "python"
  }
 },
 "nbformat": 4,
 "nbformat_minor": 2
}
