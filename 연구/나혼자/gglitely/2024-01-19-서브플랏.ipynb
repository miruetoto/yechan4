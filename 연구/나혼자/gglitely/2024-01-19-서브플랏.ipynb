{
 "cells": [
  {
   "cell_type": "raw",
   "id": "ee8a4598-63c0-4f51-8ee0-caa1ca8dabfa",
   "metadata": {},
   "source": [
    "---\n",
    "title: \"(연구) gglitely -- 서브플랏\"\n",
    "author: \"신록예찬\"\n",
    "date: \"01/19/2024\"\n",
    "execute: \n",
    "  enabled: false\n",
    "  cache: false\n",
    "  freeze: false\n",
    "  error: true\n",
    "---"
   ]
  },
  {
   "cell_type": "markdown",
   "id": "d94607db-9626-4aa2-adfc-626db351760d",
   "metadata": {},
   "source": [
    "# Install "
   ]
  },
  {
   "cell_type": "code",
   "execution_count": 1,
   "id": "0711ab18-0d7b-40c1-8030-61f643845746",
   "metadata": {},
   "outputs": [
    {
     "name": "stdout",
     "output_type": "stream",
     "text": [
      "Found existing installation: gglitely 0.0.1\r\n",
      "Uninstalling gglitely-0.0.1:\r\n",
      "  Successfully uninstalled gglitely-0.0.1\r\n"
     ]
    },
    {
     "name": "stdout",
     "output_type": "stream",
     "text": [
      "Collecting git+https://github.com/seoyeonc/gglitely.git\r\n",
      "  Cloning https://github.com/seoyeonc/gglitely.git to /tmp/pip-req-build-9t0e7z9w\r\n",
      "  Running command git clone --filter=blob:none --quiet https://github.com/seoyeonc/gglitely.git /tmp/pip-req-build-9t0e7z9w\r\n"
     ]
    },
    {
     "name": "stdout",
     "output_type": "stream",
     "text": [
      "  Resolved https://github.com/seoyeonc/gglitely.git to commit 86f5c00a4a8e40a05e5fdaa927296f50ff290b24\r\n"
     ]
    },
    {
     "name": "stdout",
     "output_type": "stream",
     "text": [
      "  Preparing metadata (setup.py) ... \u001b[?25l-"
     ]
    },
    {
     "name": "stdout",
     "output_type": "stream",
     "text": [
      "\b \bdone\r\n",
      "\u001b[?25hRequirement already satisfied: pandas in /home/cgb2/anaconda3/lib/python3.11/site-packages (from gglitely==0.0.1) (2.0.3)\r\n"
     ]
    },
    {
     "name": "stdout",
     "output_type": "stream",
     "text": [
      "Requirement already satisfied: python-dateutil>=2.8.2 in /home/cgb2/anaconda3/lib/python3.11/site-packages (from pandas->gglitely==0.0.1) (2.8.2)\r\n",
      "Requirement already satisfied: pytz>=2020.1 in /home/cgb2/anaconda3/lib/python3.11/site-packages (from pandas->gglitely==0.0.1) (2023.3.post1)\r\n",
      "Requirement already satisfied: tzdata>=2022.1 in /home/cgb2/anaconda3/lib/python3.11/site-packages (from pandas->gglitely==0.0.1) (2023.3)\r\n",
      "Requirement already satisfied: numpy>=1.21.0 in /home/cgb2/anaconda3/lib/python3.11/site-packages (from pandas->gglitely==0.0.1) (1.24.3)\r\n",
      "Requirement already satisfied: six>=1.5 in /home/cgb2/anaconda3/lib/python3.11/site-packages (from python-dateutil>=2.8.2->pandas->gglitely==0.0.1) (1.16.0)\r\n",
      "Building wheels for collected packages: gglitely\r\n"
     ]
    },
    {
     "name": "stdout",
     "output_type": "stream",
     "text": [
      "  Building wheel for gglitely (setup.py) ... \u001b[?25l-"
     ]
    },
    {
     "name": "stdout",
     "output_type": "stream",
     "text": [
      "\b \b\\\b \bdone\r\n",
      "\u001b[?25h  Created wheel for gglitely: filename=gglitely-0.0.1-py3-none-any.whl size=2473 sha256=0a6075f842842ec871a74e18a523d82c3160de8baa0a0ab9469016da09d2adf1\r\n",
      "  Stored in directory: /tmp/pip-ephem-wheel-cache-zmt2m3x0/wheels/a5/b2/29/5db99646aa2b8d946b957bdf761a177612bf6709303d4ed579\r\n",
      "Successfully built gglitely\r\n"
     ]
    },
    {
     "name": "stdout",
     "output_type": "stream",
     "text": [
      "Installing collected packages: gglitely\r\n",
      "Successfully installed gglitely-0.0.1\r\n"
     ]
    }
   ],
   "source": [
    "!pip uninstall gglitely -y\n",
    "!pip install git+https://github.com/seoyeonc/gglitely.git"
   ]
  },
  {
   "cell_type": "markdown",
   "id": "e3b35d4f-752a-4860-a163-e8594255d27e",
   "metadata": {},
   "source": [
    "# Imports "
   ]
  },
  {
   "cell_type": "code",
   "execution_count": 2,
   "id": "cdf71d15-d794-47e5-8d40-24abe2bf5ad9",
   "metadata": {},
   "outputs": [],
   "source": [
    "from gglitely import *"
   ]
  },
  {
   "cell_type": "code",
   "execution_count": 3,
   "id": "b1c02072-957a-4426-90fe-87a44295cb69",
   "metadata": {},
   "outputs": [],
   "source": [
    "subplot_count = lambda fig: len({geom[key] for geom in fig.data for key in geom if 'xaxis' in key})\n",
    "def trace_axes_adjustment(fig1, fig2):\n",
    "    x_axes_fig1 = sorted([key for key in fig1.layout if 'xaxis' in key])\n",
    "    y_axes_fig1 = sorted([key for key in fig1.layout if 'yaxis' in key])\n",
    "    x_axes_fig2 = sorted([key for key in fig2.layout if 'xaxis' in key])\n",
    "    y_axes_fig2 = sorted([key for key in fig2.layout if 'yaxis' in key])    \n",
    "    for trace in fig1.data:\n",
    "        if trace['xaxis'] is None:\n",
    "            for i, (x, y) in enumerate(zip(x_axes_fig1, y_axes_fig1), start=1):\n",
    "                trace['xaxis'] = f'x{i}'\n",
    "                trace['yaxis'] = f'y{i}'\n",
    "    for trace in fig2.data:\n",
    "        if trace['xaxis'] is None:\n",
    "            for i, (x, y) in enumerate(zip(x_axes_fig2, y_axes_fig2), start=1):\n",
    "                trace['xaxis'] = f'x{i + subplot_count(fig1)}'\n",
    "                trace['yaxis'] = f'y{i + subplot_count(fig1)}'\n",
    "        else:\n",
    "            if trace['xaxis'] == 'x':\n",
    "                trace['xaxis'] = f'x{1 + subplot_count(fig1)}'\n",
    "            else:\n",
    "                axis_num = int(trace['xaxis'][-1]) + subplot_count(fig1)\n",
    "                trace['xaxis'] = f'x{axis_num}'\n",
    "\n",
    "            if trace['yaxis'] == 'y':\n",
    "                trace['yaxis'] = f'y{1 + subplot_count(fig1)}'\n",
    "            else:\n",
    "                axis_num = int(trace['yaxis'][-1]) + subplot_count(fig1)\n",
    "                trace['yaxis'] = f'y{axis_num}'\n",
    "    return fig1, fig2\n",
    "\n",
    "def clayout_adjustment(fig1, fig2):\n",
    "    # Loop through fig1 and fig2\n",
    "    for f in [fig1, fig2]:\n",
    "        # Extract all xaxes and yaxes\n",
    "        xaxes = [geom[key] for geom in f.data for key in geom if 'xaxis' in key]\n",
    "        yaxes = [geom[key] for geom in f.data for key in geom if 'yaxis' in key]\n",
    "        # Check if all traces in the figure share the same xaxis (i.e., there is only one subplot)\n",
    "        if len(set(xaxes)) == 1:\n",
    "            for i, (x, y) in enumerate(zip(xaxes, yaxes), start=1):\n",
    "                # Update xaxis layout\n",
    "                f.layout[x.replace('x', 'xaxis')] = {'anchor': x.replace('axis', ''), 'domain': [0.0, 1.0]}\n",
    "                # Update yaxis layout\n",
    "                f.layout[y.replace('y', 'yaxis')] = {'anchor': y.replace('axis', ''), 'domain': [0.0, 1.0]}\n",
    "        else:\n",
    "            pass  # Do nothing if xaxes are not the same\n",
    "    return fig1, fig2\n",
    "\n",
    "    \n",
    "def cbind(fig1,fig2,column_widths=None):\n",
    "    # Update data and layout for fig1 and fig2\n",
    "    fig1 = gglitely(data=fig1.data, layout=fig1.layout)\n",
    "    fig2 = gglitely(data=fig2.data, layout=fig2.layout)\n",
    "    \n",
    "    # Calculate the number of subplots\n",
    "    n1 = subplot_count(fig1)\n",
    "    n2 = subplot_count(fig2)\n",
    "    \n",
    "    # Adjust trace axes\n",
    "    fig1, fig2 = trace_axes_adjustment(fig1, fig2)\n",
    "    \n",
    "    # Adjust layout\n",
    "    fig1, fig2 = clayout_adjustment(fig1, fig2)\n",
    "    \n",
    "    # Set column widths if not provided\n",
    "    if column_widths is None:\n",
    "        column_widths = [1] * n1 + [1] * n2\n",
    "    \n",
    "    # Create subplots\n",
    "    fig = make_subplots(rows=1, cols=n1 + n2, column_widths=column_widths)\n",
    "    fig = gglitely(layout=fig.layout)\n",
    "    \n",
    "    # Add traces from fig1 and fig2\n",
    "    fig.add_traces(fig1.data)\n",
    "    fig.add_traces(fig2.data)\n",
    "    \n",
    "    # Increment ncols\n",
    "    fig._ncols += 1\n",
    "    return fig"
   ]
  },
  {
   "cell_type": "markdown",
   "id": "399245e7-3666-402f-9c95-18c099b40be1",
   "metadata": {},
   "source": [
    "# 서브플랏 "
   ]
  },
  {
   "cell_type": "code",
   "execution_count": 4,
   "id": "d6777a09-3e0e-47dd-80f2-156f7ab06fce",
   "metadata": {},
   "outputs": [],
   "source": [
    "fig1 = gglitely() + bar(y=[1,2,3],col='red') + bar(y=[2,3,1],col='blue')\n",
    "fig2 = gglitely() + bar(y=[2,3,1],alpha=0.7,col='blue')"
   ]
  },
  {
   "cell_type": "code",
   "execution_count": 5,
   "id": "d463d336-684a-43f7-b875-c5d27dbbe3d6",
   "metadata": {},
   "outputs": [
    {
     "ename": "AttributeError",
     "evalue": "'gglitely' object has no attribute '_ncols'",
     "output_type": "error",
     "traceback": [
      "\u001b[0;31m---------------------------------------------------------------------------\u001b[0m",
      "\u001b[0;31mAttributeError\u001b[0m                            Traceback (most recent call last)",
      "Cell \u001b[0;32mIn[5], line 1\u001b[0m\n\u001b[0;32m----> 1\u001b[0m cbind(cbind(cbind(fig1,fig2),fig1),fig2)\n",
      "Cell \u001b[0;32mIn[3], line 77\u001b[0m, in \u001b[0;36mcbind\u001b[0;34m(fig1, fig2, column_widths)\u001b[0m\n\u001b[1;32m     74\u001b[0m fig\u001b[38;5;241m.\u001b[39madd_traces(fig2\u001b[38;5;241m.\u001b[39mdata)\n\u001b[1;32m     76\u001b[0m \u001b[38;5;66;03m# Increment ncols\u001b[39;00m\n\u001b[0;32m---> 77\u001b[0m fig\u001b[38;5;241m.\u001b[39m_ncols \u001b[38;5;241m+\u001b[39m\u001b[38;5;241m=\u001b[39m \u001b[38;5;241m1\u001b[39m\n\u001b[1;32m     78\u001b[0m \u001b[38;5;28;01mreturn\u001b[39;00m fig\n",
      "\u001b[0;31mAttributeError\u001b[0m: 'gglitely' object has no attribute '_ncols'"
     ]
    }
   ],
   "source": [
    "cbind(cbind(cbind(fig1,fig2),fig1),fig2)"
   ]
  }
 ],
 "metadata": {
  "kernelspec": {
   "display_name": "Python 3 (ipykernel)",
   "language": "python",
   "name": "python3"
  },
  "language_info": {
   "codemirror_mode": {
    "name": "ipython",
    "version": 3
   },
   "file_extension": ".py",
   "mimetype": "text/x-python",
   "name": "python",
   "nbconvert_exporter": "python",
   "pygments_lexer": "ipython3",
   "version": "3.12.4"
  }
 },
 "nbformat": 4,
 "nbformat_minor": 5
}
