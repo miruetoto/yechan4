{
 "cells": [
  {
   "cell_type": "raw",
   "id": "27799ae4",
   "metadata": {
    "vscode": {
     "languageId": "raw"
    }
   },
   "source": [
    "---\n",
    "title: \"(연구&교수님) HST example 1 (1)\"\n",
    "author: \"신록예찬\"\n",
    "date: \"08/02/2021\"\n",
    "---"
   ]
  },
  {
   "cell_type": "markdown",
   "id": "588ab270-0c5f-487c-8749-b1d5a18af752",
   "metadata": {},
   "source": [
    "### Import"
   ]
  },
  {
   "cell_type": "code",
   "execution_count": 1,
   "id": "885ee667-1ae9-4863-8645-79c501d1f408",
   "metadata": {},
   "outputs": [],
   "source": [
    "import numpy as np\n",
    "import pandas as pd\n",
    "import matplotlib.pyplot as plt\n",
    "import rpy2 \n",
    "%load_ext rpy2.ipython\n",
    "%run pybase\n",
    "%run heavysnow "
   ]
  },
  {
   "cell_type": "markdown",
   "id": "cfb1c90c-7e74-449f-b449-11252cfce555",
   "metadata": {},
   "source": [
    "### Data "
   ]
  },
  {
   "cell_type": "code",
   "execution_count": 2,
   "id": "09209769-7563-4047-adbc-cf6fa53d18f2",
   "metadata": {},
   "outputs": [],
   "source": [
    "f=np.array([-1,-1,-1,1,-1,-1,-1,1,1,1,-1,1,1,1])*1.0\n",
    "n=len(f)\n",
    "V=list(range(n))\n",
    "W=np.zeros([n,n])\n",
    "for i in range(n):\n",
    "    for j in range(n):\n",
    "        if abs(i-j)==1: W[i,j]=1\n",
    "W[0,0]=0\n",
    "W[n-1,n-1]=0"
   ]
  },
  {
   "cell_type": "code",
   "execution_count": 3,
   "id": "00bfee61-890c-443f-afd8-f23f16bf9a0a",
   "metadata": {},
   "outputs": [],
   "source": [
    "gs=GraphSignal(V,W,f)"
   ]
  },
  {
   "cell_type": "code",
   "execution_count": 4,
   "id": "a6de404e-9568-4aaf-bc30-14922cc21d7f",
   "metadata": {},
   "outputs": [],
   "source": [
    "gs.initdist=np.array([1/n]*n)"
   ]
  },
  {
   "cell_type": "markdown",
   "id": "b6c8d2ee-bc03-4b35-be05-08caaf0a2b70",
   "metadata": {},
   "source": [
    "### HST"
   ]
  },
  {
   "cell_type": "code",
   "execution_count": 5,
   "id": "325f76ad-2f65-4ce9-9c7a-7915008912e2",
   "metadata": {},
   "outputs": [
    {
     "name": "stdout",
     "output_type": "stream",
     "text": [
      "HST (tau= 80000, b=0.015)\n",
      "80000/80000\n",
      "HST completed and all history is recorded.\n"
     ]
    }
   ],
   "source": [
    "%run heavysnow \n",
    "hst=HeavySnowTransform(gs)\n",
    "hst.snow(tau=80000,b=0.015,maxflow=2)"
   ]
  },
  {
   "cell_type": "code",
   "execution_count": 6,
   "id": "674e33f5-eb48-44f5-9098-f61fb04c9804",
   "metadata": {},
   "outputs": [
    {
     "data": {
      "text/plain": [
       "<matplotlib.image.AxesImage at 0x7f5bac1a0490>"
      ]
     },
     "execution_count": 6,
     "metadata": {},
     "output_type": "execute_result"
    },
    {
     "data": {
      "image/png": "[encoded data removed]",
      "text/plain": [
       "<Figure size 432x288 with 1 Axes>"
      ]
     },
     "metadata": {
      "needs_background": "light"
     },
     "output_type": "display_data"
    }
   ],
   "source": [
    "plt.imshow(hst.snowdistance)"
   ]
  },
  {
   "cell_type": "code",
   "execution_count": 7,
   "id": "0122bdec-ff49-429c-a03d-48f52149fdcf",
   "metadata": {},
   "outputs": [
    {
     "data": {
      "text/plain": [
       "<matplotlib.image.AxesImage at 0x7f5bab7ed970>"
      ]
     },
     "execution_count": 7,
     "metadata": {},
     "output_type": "execute_result"
    },
    {
     "data": {
      "image/png": "[encoded data removed]",
      "text/plain": [
       "<Figure size 432x288 with 1 Axes>"
      ]
     },
     "metadata": {
      "needs_background": "light"
     },
     "output_type": "display_data"
    }
   ],
   "source": [
    "hst.snowweight=np.exp(-hst.snowdistance/(hst.tau*hst.b**1.5))-np.eye(n,n)\n",
    "plt.imshow(hst.snowweight)"
   ]
  },
  {
   "cell_type": "markdown",
   "id": "2dcca498-00bc-4f90-963d-2ee25f8fa25d",
   "metadata": {},
   "source": [
    "### 시각화를 위해서 R로 자료를 옮김"
   ]
  },
  {
   "cell_type": "code",
   "execution_count": 8,
   "id": "2489f1b9-04dc-4e04-9064-28cc40fec557",
   "metadata": {},
   "outputs": [],
   "source": [
    "maxtau=hst.tau\n",
    "W_Graph=hst.graphweight\n",
    "W_Euclid=hst.euclidweight\n",
    "W_HST=hst.snowweight\n",
    "V=np.array(hst.V)\n",
    "f=hst.f\n",
    "n=hst.n\n",
    "%R -i maxtau,W_Graph,W_Euclid,W_HST,V,f,n"
   ]
  },
  {
   "cell_type": "markdown",
   "id": "9cd26f29-6541-4c32-8c55-96abfd1b1ceb",
   "metadata": {
    "tags": []
   },
   "source": [
    "### R을 활용한 시각화 (1): 원래자료 "
   ]
  },
  {
   "cell_type": "code",
   "execution_count": 9,
   "id": "0a5b4084-5323-4fee-bf9b-dea7be367b5a",
   "metadata": {},
   "outputs": [
    {
     "name": "stderr",
     "output_type": "stream",
     "text": [
      "R[write to console]: ── Attaching packages ─────────────────────────────────────── tidyverse 1.3.1 ──\n",
      "\n",
      "R[write to console]: ✔ ggplot2 3.3.5     ✔ purrr   0.3.4\n",
      "✔ tibble  3.1.3     ✔ dplyr   1.0.7\n",
      "✔ tidyr   1.1.3     ✔ stringr 1.4.0\n",
      "✔ readr   1.4.0     ✔ forcats 0.5.1\n",
      "\n",
      "R[write to console]: ── Conflicts ────────────────────────────────────────── tidyverse_conflicts() ──\n",
      "✖ dplyr::filter() masks stats::filter()\n",
      "✖ dplyr::lag()    masks stats::lag()\n",
      "\n",
      "R[write to console]: Error in library(gridExtra) : there is no package called ‘gridExtra’\n",
      "\n"
     ]
    },
    {
     "name": "stdout",
     "output_type": "stream",
     "text": [
      "\n",
      "Error in library(gridExtra) : there is no package called ‘gridExtra’\n"
     ]
    },
    {
     "ename": "RInterpreterError",
     "evalue": "Failed to parse and evaluate line 'library(tidyverse)\\nlibrary(latex2exp)\\nlibrary(gridExtra)\\nsource(\\'rbase.R\\')\\nVtext=str_c(\\'node \\',V+1)\\nfig0<-ggplot(data=tibble(V=V,f=f,Vtext=Vtext),aes(x=V,y=f,label=Vtext))+\\ngeom_col(aes(fill=(f>0)),width=0.1)+geom_hline(aes(yintercept=0),col=\"gray60\",lty=2)+\\ngeom_text(fontface = 4,size=8)+\\nxlab(\"\")+ylab(\"\")+guides(fill=FALSE)+theme(plot.title=element_text(face=\"bold.italic\"))+theme_bw()+\\ntheme(strip.text.x = element_text(size = 20, color = \"black\", face = \"bold.italic\"))+\\ntheme(strip.text.y = element_text(size = 15, color = \"black\", face = \"bold.italic\"))+\\nylim(-1.2,1.2)+\\ntheme(plot.title=element_text(face=\"bold.italic\"))\\n#ggsave(plot=p0,\"./fig/2021-0217_fig0.pdf\",width=20,height=6)\\nfig0\\n'.\nR error message: 'Error in library(gridExtra) : there is no package called ‘gridExtra’'",
     "output_type": "error",
     "traceback": [
      "\u001b[0;31m---------------------------------------------------------------------------\u001b[0m",
      "\u001b[0;31mRRuntimeError\u001b[0m                             Traceback (most recent call last)",
      "\u001b[0;32m~/anaconda3/envs/py38r40/lib/python3.8/site-packages/rpy2/ipython/rmagic.py\u001b[0m in \u001b[0;36meval\u001b[0;34m(self, code)\u001b[0m\n\u001b[1;32m    267\u001b[0m                 \u001b[0;31m# Need the newline in case the last line in code is a comment.\u001b[0m\u001b[0;34m\u001b[0m\u001b[0;34m\u001b[0m\u001b[0;34m\u001b[0m\u001b[0m\n\u001b[0;32m--> 268\u001b[0;31m                 \u001b[0mvalue\u001b[0m\u001b[0;34m,\u001b[0m \u001b[0mvisible\u001b[0m \u001b[0;34m=\u001b[0m \u001b[0mro\u001b[0m\u001b[0;34m.\u001b[0m\u001b[0mr\u001b[0m\u001b[0;34m(\u001b[0m\u001b[0;34m\"withVisible({%s\\n})\"\u001b[0m \u001b[0;34m%\u001b[0m \u001b[0mcode\u001b[0m\u001b[0;34m)\u001b[0m\u001b[0;34m\u001b[0m\u001b[0;34m\u001b[0m\u001b[0m\n\u001b[0m\u001b[1;32m    269\u001b[0m             \u001b[0;32mexcept\u001b[0m \u001b[0;34m(\u001b[0m\u001b[0mri\u001b[0m\u001b[0;34m.\u001b[0m\u001b[0membedded\u001b[0m\u001b[0;34m.\u001b[0m\u001b[0mRRuntimeError\u001b[0m\u001b[0;34m,\u001b[0m \u001b[0mValueError\u001b[0m\u001b[0;34m)\u001b[0m \u001b[0;32mas\u001b[0m \u001b[0mexception\u001b[0m\u001b[0;34m:\u001b[0m\u001b[0;34m\u001b[0m\u001b[0;34m\u001b[0m\u001b[0m\n",
      "\u001b[0;32m~/anaconda3/envs/py38r40/lib/python3.8/site-packages/rpy2/robjects/__init__.py\u001b[0m in \u001b[0;36m__call__\u001b[0;34m(self, string)\u001b[0m\n\u001b[1;32m    437\u001b[0m         \u001b[0mp\u001b[0m \u001b[0;34m=\u001b[0m \u001b[0mrinterface\u001b[0m\u001b[0;34m.\u001b[0m\u001b[0mparse\u001b[0m\u001b[0;34m(\u001b[0m\u001b[0mstring\u001b[0m\u001b[0;34m)\u001b[0m\u001b[0;34m\u001b[0m\u001b[0;34m\u001b[0m\u001b[0m\n\u001b[0;32m--> 438\u001b[0;31m         \u001b[0mres\u001b[0m \u001b[0;34m=\u001b[0m \u001b[0mself\u001b[0m\u001b[0;34m.\u001b[0m\u001b[0meval\u001b[0m\u001b[0;34m(\u001b[0m\u001b[0mp\u001b[0m\u001b[0;34m)\u001b[0m\u001b[0;34m\u001b[0m\u001b[0;34m\u001b[0m\u001b[0m\n\u001b[0m\u001b[1;32m    439\u001b[0m         \u001b[0;32mreturn\u001b[0m \u001b[0mconversion\u001b[0m\u001b[0;34m.\u001b[0m\u001b[0mrpy2py\u001b[0m\u001b[0;34m(\u001b[0m\u001b[0mres\u001b[0m\u001b[0;34m)\u001b[0m\u001b[0;34m\u001b[0m\u001b[0;34m\u001b[0m\u001b[0m\n",
      "\u001b[0;32m~/anaconda3/envs/py38r40/lib/python3.8/site-packages/rpy2/robjects/functions.py\u001b[0m in \u001b[0;36m__call__\u001b[0;34m(self, *args, **kwargs)\u001b[0m\n\u001b[1;32m    197\u001b[0m                 \u001b[0mkwargs\u001b[0m\u001b[0;34m[\u001b[0m\u001b[0mr_k\u001b[0m\u001b[0;34m]\u001b[0m \u001b[0;34m=\u001b[0m \u001b[0mv\u001b[0m\u001b[0;34m\u001b[0m\u001b[0;34m\u001b[0m\u001b[0m\n\u001b[0;32m--> 198\u001b[0;31m         return (super(SignatureTranslatedFunction, self)\n\u001b[0m\u001b[1;32m    199\u001b[0m                 .__call__(*args, **kwargs))\n",
      "\u001b[0;32m~/anaconda3/envs/py38r40/lib/python3.8/site-packages/rpy2/robjects/functions.py\u001b[0m in \u001b[0;36m__call__\u001b[0;34m(self, *args, **kwargs)\u001b[0m\n\u001b[1;32m    124\u001b[0m                 \u001b[0mnew_kwargs\u001b[0m\u001b[0;34m[\u001b[0m\u001b[0mk\u001b[0m\u001b[0;34m]\u001b[0m \u001b[0;34m=\u001b[0m \u001b[0mconversion\u001b[0m\u001b[0;34m.\u001b[0m\u001b[0mpy2rpy\u001b[0m\u001b[0;34m(\u001b[0m\u001b[0mv\u001b[0m\u001b[0;34m)\u001b[0m\u001b[0;34m\u001b[0m\u001b[0;34m\u001b[0m\u001b[0m\n\u001b[0;32m--> 125\u001b[0;31m         \u001b[0mres\u001b[0m \u001b[0;34m=\u001b[0m \u001b[0msuper\u001b[0m\u001b[0;34m(\u001b[0m\u001b[0mFunction\u001b[0m\u001b[0;34m,\u001b[0m \u001b[0mself\u001b[0m\u001b[0;34m)\u001b[0m\u001b[0;34m.\u001b[0m\u001b[0m__call__\u001b[0m\u001b[0;34m(\u001b[0m\u001b[0;34m*\u001b[0m\u001b[0mnew_args\u001b[0m\u001b[0;34m,\u001b[0m \u001b[0;34m**\u001b[0m\u001b[0mnew_kwargs\u001b[0m\u001b[0;34m)\u001b[0m\u001b[0;34m\u001b[0m\u001b[0;34m\u001b[0m\u001b[0m\n\u001b[0m\u001b[1;32m    126\u001b[0m         \u001b[0mres\u001b[0m \u001b[0;34m=\u001b[0m \u001b[0mconversion\u001b[0m\u001b[0;34m.\u001b[0m\u001b[0mrpy2py\u001b[0m\u001b[0;34m(\u001b[0m\u001b[0mres\u001b[0m\u001b[0;34m)\u001b[0m\u001b[0;34m\u001b[0m\u001b[0;34m\u001b[0m\u001b[0m\n",
      "\u001b[0;32m~/anaconda3/envs/py38r40/lib/python3.8/site-packages/rpy2/rinterface_lib/conversion.py\u001b[0m in \u001b[0;36m_\u001b[0;34m(*args, **kwargs)\u001b[0m\n\u001b[1;32m     44\u001b[0m     \u001b[0;32mdef\u001b[0m \u001b[0m_\u001b[0m\u001b[0;34m(\u001b[0m\u001b[0;34m*\u001b[0m\u001b[0margs\u001b[0m\u001b[0;34m,\u001b[0m \u001b[0;34m**\u001b[0m\u001b[0mkwargs\u001b[0m\u001b[0;34m)\u001b[0m\u001b[0;34m:\u001b[0m\u001b[0;34m\u001b[0m\u001b[0;34m\u001b[0m\u001b[0m\n\u001b[0;32m---> 45\u001b[0;31m         \u001b[0mcdata\u001b[0m \u001b[0;34m=\u001b[0m \u001b[0mfunction\u001b[0m\u001b[0;34m(\u001b[0m\u001b[0;34m*\u001b[0m\u001b[0margs\u001b[0m\u001b[0;34m,\u001b[0m \u001b[0;34m**\u001b[0m\u001b[0mkwargs\u001b[0m\u001b[0;34m)\u001b[0m\u001b[0;34m\u001b[0m\u001b[0;34m\u001b[0m\u001b[0m\n\u001b[0m\u001b[1;32m     46\u001b[0m         \u001b[0;31m# TODO: test cdata is of the expected CType\u001b[0m\u001b[0;34m\u001b[0m\u001b[0;34m\u001b[0m\u001b[0;34m\u001b[0m\u001b[0m\n",
      "\u001b[0;32m~/anaconda3/envs/py38r40/lib/python3.8/site-packages/rpy2/rinterface.py\u001b[0m in \u001b[0;36m__call__\u001b[0;34m(self, *args, **kwargs)\u001b[0m\n\u001b[1;32m    679\u001b[0m             \u001b[0;32mif\u001b[0m \u001b[0merror_occured\u001b[0m\u001b[0;34m[\u001b[0m\u001b[0;36m0\u001b[0m\u001b[0;34m]\u001b[0m\u001b[0;34m:\u001b[0m\u001b[0;34m\u001b[0m\u001b[0;34m\u001b[0m\u001b[0m\n\u001b[0;32m--> 680\u001b[0;31m                 \u001b[0;32mraise\u001b[0m \u001b[0membedded\u001b[0m\u001b[0;34m.\u001b[0m\u001b[0mRRuntimeError\u001b[0m\u001b[0;34m(\u001b[0m\u001b[0m_rinterface\u001b[0m\u001b[0;34m.\u001b[0m\u001b[0m_geterrmessage\u001b[0m\u001b[0;34m(\u001b[0m\u001b[0;34m)\u001b[0m\u001b[0;34m)\u001b[0m\u001b[0;34m\u001b[0m\u001b[0;34m\u001b[0m\u001b[0m\n\u001b[0m\u001b[1;32m    681\u001b[0m         \u001b[0;32mreturn\u001b[0m \u001b[0mres\u001b[0m\u001b[0;34m\u001b[0m\u001b[0;34m\u001b[0m\u001b[0m\n",
      "\u001b[0;31mRRuntimeError\u001b[0m: Error in library(gridExtra) : there is no package called ‘gridExtra’\n",
      "\nDuring handling of the above exception, another exception occurred:\n",
      "\u001b[0;31mRInterpreterError\u001b[0m                         Traceback (most recent call last)",
      "\u001b[0;32m/tmp/ipykernel_37481/2086553443.py\u001b[0m in \u001b[0;36m<module>\u001b[0;34m\u001b[0m\n\u001b[0;32m----> 1\u001b[0;31m \u001b[0mget_ipython\u001b[0m\u001b[0;34m(\u001b[0m\u001b[0;34m)\u001b[0m\u001b[0;34m.\u001b[0m\u001b[0mrun_cell_magic\u001b[0m\u001b[0;34m(\u001b[0m\u001b[0;34m'R'\u001b[0m\u001b[0;34m,\u001b[0m \u001b[0;34m'-w 2000 -h 800 -r 100'\u001b[0m\u001b[0;34m,\u001b[0m \u001b[0;34m'library(tidyverse)\\nlibrary(latex2exp)\\nlibrary(gridExtra)\\nsource(\\'rbase.R\\')\\nVtext=str_c(\\'node \\',V+1)\\nfig0<-ggplot(data=tibble(V=V,f=f,Vtext=Vtext),aes(x=V,y=f,label=Vtext))+\\ngeom_col(aes(fill=(f>0)),width=0.1)+geom_hline(aes(yintercept=0),col=\"gray60\",lty=2)+\\ngeom_text(fontface = 4,size=8)+\\nxlab(\"\")+ylab(\"\")+guides(fill=FALSE)+theme(plot.title=element_text(face=\"bold.italic\"))+theme_bw()+\\ntheme(strip.text.x = element_text(size = 20, color = \"black\", face = \"bold.italic\"))+\\ntheme(strip.text.y = element_text(size = 15, color = \"black\", face = \"bold.italic\"))+\\nylim(-1.2,1.2)+\\ntheme(plot.title=element_text(face=\"bold.italic\"))\\n#ggsave(plot=p0,\"./fig/2021-0217_fig0.pdf\",width=20,height=6)\\nfig0\\n'\u001b[0m\u001b[0;34m)\u001b[0m\u001b[0;34m\u001b[0m\u001b[0;34m\u001b[0m\u001b[0m\n\u001b[0m",
      "\u001b[0;32m~/anaconda3/envs/py38r40/lib/python3.8/site-packages/IPython/core/interactiveshell.py\u001b[0m in \u001b[0;36mrun_cell_magic\u001b[0;34m(self, magic_name, line, cell)\u001b[0m\n\u001b[1;32m   2401\u001b[0m             \u001b[0;32mwith\u001b[0m \u001b[0mself\u001b[0m\u001b[0;34m.\u001b[0m\u001b[0mbuiltin_trap\u001b[0m\u001b[0;34m:\u001b[0m\u001b[0;34m\u001b[0m\u001b[0;34m\u001b[0m\u001b[0m\n\u001b[1;32m   2402\u001b[0m                 \u001b[0margs\u001b[0m \u001b[0;34m=\u001b[0m \u001b[0;34m(\u001b[0m\u001b[0mmagic_arg_s\u001b[0m\u001b[0;34m,\u001b[0m \u001b[0mcell\u001b[0m\u001b[0;34m)\u001b[0m\u001b[0;34m\u001b[0m\u001b[0;34m\u001b[0m\u001b[0m\n\u001b[0;32m-> 2403\u001b[0;31m                 \u001b[0mresult\u001b[0m \u001b[0;34m=\u001b[0m \u001b[0mfn\u001b[0m\u001b[0;34m(\u001b[0m\u001b[0;34m*\u001b[0m\u001b[0margs\u001b[0m\u001b[0;34m,\u001b[0m \u001b[0;34m**\u001b[0m\u001b[0mkwargs\u001b[0m\u001b[0;34m)\u001b[0m\u001b[0;34m\u001b[0m\u001b[0;34m\u001b[0m\u001b[0m\n\u001b[0m\u001b[1;32m   2404\u001b[0m             \u001b[0;32mreturn\u001b[0m \u001b[0mresult\u001b[0m\u001b[0;34m\u001b[0m\u001b[0;34m\u001b[0m\u001b[0m\n\u001b[1;32m   2405\u001b[0m \u001b[0;34m\u001b[0m\u001b[0m\n",
      "\u001b[0;32m~/anaconda3/envs/py38r40/lib/python3.8/site-packages/decorator.py\u001b[0m in \u001b[0;36mfun\u001b[0;34m(*args, **kw)\u001b[0m\n\u001b[1;32m    230\u001b[0m             \u001b[0;32mif\u001b[0m \u001b[0;32mnot\u001b[0m \u001b[0mkwsyntax\u001b[0m\u001b[0;34m:\u001b[0m\u001b[0;34m\u001b[0m\u001b[0;34m\u001b[0m\u001b[0m\n\u001b[1;32m    231\u001b[0m                 \u001b[0margs\u001b[0m\u001b[0;34m,\u001b[0m \u001b[0mkw\u001b[0m \u001b[0;34m=\u001b[0m \u001b[0mfix\u001b[0m\u001b[0;34m(\u001b[0m\u001b[0margs\u001b[0m\u001b[0;34m,\u001b[0m \u001b[0mkw\u001b[0m\u001b[0;34m,\u001b[0m \u001b[0msig\u001b[0m\u001b[0;34m)\u001b[0m\u001b[0;34m\u001b[0m\u001b[0;34m\u001b[0m\u001b[0m\n\u001b[0;32m--> 232\u001b[0;31m             \u001b[0;32mreturn\u001b[0m \u001b[0mcaller\u001b[0m\u001b[0;34m(\u001b[0m\u001b[0mfunc\u001b[0m\u001b[0;34m,\u001b[0m \u001b[0;34m*\u001b[0m\u001b[0;34m(\u001b[0m\u001b[0mextras\u001b[0m \u001b[0;34m+\u001b[0m \u001b[0margs\u001b[0m\u001b[0;34m)\u001b[0m\u001b[0;34m,\u001b[0m \u001b[0;34m**\u001b[0m\u001b[0mkw\u001b[0m\u001b[0;34m)\u001b[0m\u001b[0;34m\u001b[0m\u001b[0;34m\u001b[0m\u001b[0m\n\u001b[0m\u001b[1;32m    233\u001b[0m     \u001b[0mfun\u001b[0m\u001b[0;34m.\u001b[0m\u001b[0m__name__\u001b[0m \u001b[0;34m=\u001b[0m \u001b[0mfunc\u001b[0m\u001b[0;34m.\u001b[0m\u001b[0m__name__\u001b[0m\u001b[0;34m\u001b[0m\u001b[0;34m\u001b[0m\u001b[0m\n\u001b[1;32m    234\u001b[0m     \u001b[0mfun\u001b[0m\u001b[0;34m.\u001b[0m\u001b[0m__doc__\u001b[0m \u001b[0;34m=\u001b[0m \u001b[0mfunc\u001b[0m\u001b[0;34m.\u001b[0m\u001b[0m__doc__\u001b[0m\u001b[0;34m\u001b[0m\u001b[0;34m\u001b[0m\u001b[0m\n",
      "\u001b[0;32m~/anaconda3/envs/py38r40/lib/python3.8/site-packages/IPython/core/magic.py\u001b[0m in \u001b[0;36m<lambda>\u001b[0;34m(f, *a, **k)\u001b[0m\n\u001b[1;32m    185\u001b[0m     \u001b[0;31m# but it's overkill for just that one bit of state.\u001b[0m\u001b[0;34m\u001b[0m\u001b[0;34m\u001b[0m\u001b[0;34m\u001b[0m\u001b[0m\n\u001b[1;32m    186\u001b[0m     \u001b[0;32mdef\u001b[0m \u001b[0mmagic_deco\u001b[0m\u001b[0;34m(\u001b[0m\u001b[0marg\u001b[0m\u001b[0;34m)\u001b[0m\u001b[0;34m:\u001b[0m\u001b[0;34m\u001b[0m\u001b[0;34m\u001b[0m\u001b[0m\n\u001b[0;32m--> 187\u001b[0;31m         \u001b[0mcall\u001b[0m \u001b[0;34m=\u001b[0m \u001b[0;32mlambda\u001b[0m \u001b[0mf\u001b[0m\u001b[0;34m,\u001b[0m \u001b[0;34m*\u001b[0m\u001b[0ma\u001b[0m\u001b[0;34m,\u001b[0m \u001b[0;34m**\u001b[0m\u001b[0mk\u001b[0m\u001b[0;34m:\u001b[0m \u001b[0mf\u001b[0m\u001b[0;34m(\u001b[0m\u001b[0;34m*\u001b[0m\u001b[0ma\u001b[0m\u001b[0;34m,\u001b[0m \u001b[0;34m**\u001b[0m\u001b[0mk\u001b[0m\u001b[0;34m)\u001b[0m\u001b[0;34m\u001b[0m\u001b[0;34m\u001b[0m\u001b[0m\n\u001b[0m\u001b[1;32m    188\u001b[0m \u001b[0;34m\u001b[0m\u001b[0m\n\u001b[1;32m    189\u001b[0m         \u001b[0;32mif\u001b[0m \u001b[0mcallable\u001b[0m\u001b[0;34m(\u001b[0m\u001b[0marg\u001b[0m\u001b[0;34m)\u001b[0m\u001b[0;34m:\u001b[0m\u001b[0;34m\u001b[0m\u001b[0;34m\u001b[0m\u001b[0m\n",
      "\u001b[0;32m~/anaconda3/envs/py38r40/lib/python3.8/site-packages/rpy2/ipython/rmagic.py\u001b[0m in \u001b[0;36mR\u001b[0;34m(self, line, cell, local_ns)\u001b[0m\n\u001b[1;32m    781\u001b[0m             \u001b[0;32mif\u001b[0m \u001b[0;32mnot\u001b[0m \u001b[0me\u001b[0m\u001b[0;34m.\u001b[0m\u001b[0mstdout\u001b[0m\u001b[0;34m.\u001b[0m\u001b[0mendswith\u001b[0m\u001b[0;34m(\u001b[0m\u001b[0me\u001b[0m\u001b[0;34m.\u001b[0m\u001b[0merr\u001b[0m\u001b[0;34m)\u001b[0m\u001b[0;34m:\u001b[0m\u001b[0;34m\u001b[0m\u001b[0;34m\u001b[0m\u001b[0m\n\u001b[1;32m    782\u001b[0m                 \u001b[0mprint\u001b[0m\u001b[0;34m(\u001b[0m\u001b[0me\u001b[0m\u001b[0;34m.\u001b[0m\u001b[0merr\u001b[0m\u001b[0;34m)\u001b[0m\u001b[0;34m\u001b[0m\u001b[0;34m\u001b[0m\u001b[0m\n\u001b[0;32m--> 783\u001b[0;31m             \u001b[0;32mraise\u001b[0m \u001b[0me\u001b[0m\u001b[0;34m\u001b[0m\u001b[0;34m\u001b[0m\u001b[0m\n\u001b[0m\u001b[1;32m    784\u001b[0m         \u001b[0;32mfinally\u001b[0m\u001b[0;34m:\u001b[0m\u001b[0;34m\u001b[0m\u001b[0;34m\u001b[0m\u001b[0m\n\u001b[1;32m    785\u001b[0m             \u001b[0;32mif\u001b[0m \u001b[0mself\u001b[0m\u001b[0;34m.\u001b[0m\u001b[0mdevice\u001b[0m \u001b[0;32min\u001b[0m \u001b[0;34m[\u001b[0m\u001b[0;34m'png'\u001b[0m\u001b[0;34m,\u001b[0m \u001b[0;34m'svg'\u001b[0m\u001b[0;34m]\u001b[0m\u001b[0;34m:\u001b[0m\u001b[0;34m\u001b[0m\u001b[0;34m\u001b[0m\u001b[0m\n",
      "\u001b[0;32m~/anaconda3/envs/py38r40/lib/python3.8/site-packages/rpy2/ipython/rmagic.py\u001b[0m in \u001b[0;36mR\u001b[0;34m(self, line, cell, local_ns)\u001b[0m\n\u001b[1;32m    761\u001b[0m                     \u001b[0mreturn_output\u001b[0m \u001b[0;34m=\u001b[0m \u001b[0;32mFalse\u001b[0m\u001b[0;34m\u001b[0m\u001b[0;34m\u001b[0m\u001b[0m\n\u001b[1;32m    762\u001b[0m             \u001b[0;32melse\u001b[0m\u001b[0;34m:\u001b[0m\u001b[0;34m\u001b[0m\u001b[0;34m\u001b[0m\u001b[0m\n\u001b[0;32m--> 763\u001b[0;31m                 \u001b[0mtext_result\u001b[0m\u001b[0;34m,\u001b[0m \u001b[0mresult\u001b[0m\u001b[0;34m,\u001b[0m \u001b[0mvisible\u001b[0m \u001b[0;34m=\u001b[0m \u001b[0mself\u001b[0m\u001b[0;34m.\u001b[0m\u001b[0meval\u001b[0m\u001b[0;34m(\u001b[0m\u001b[0mcode\u001b[0m\u001b[0;34m)\u001b[0m\u001b[0;34m\u001b[0m\u001b[0;34m\u001b[0m\u001b[0m\n\u001b[0m\u001b[1;32m    764\u001b[0m                 \u001b[0mtext_output\u001b[0m \u001b[0;34m+=\u001b[0m \u001b[0mtext_result\u001b[0m\u001b[0;34m\u001b[0m\u001b[0;34m\u001b[0m\u001b[0m\n\u001b[1;32m    765\u001b[0m                 \u001b[0;32mif\u001b[0m \u001b[0mvisible\u001b[0m\u001b[0;34m:\u001b[0m\u001b[0;34m\u001b[0m\u001b[0;34m\u001b[0m\u001b[0m\n",
      "\u001b[0;32m~/anaconda3/envs/py38r40/lib/python3.8/site-packages/rpy2/ipython/rmagic.py\u001b[0m in \u001b[0;36meval\u001b[0;34m(self, code)\u001b[0m\n\u001b[1;32m    270\u001b[0m                 \u001b[0;31m# Otherwise next return seems to have copy of error.\u001b[0m\u001b[0;34m\u001b[0m\u001b[0;34m\u001b[0m\u001b[0;34m\u001b[0m\u001b[0m\n\u001b[1;32m    271\u001b[0m                 \u001b[0mwarning_or_other_msg\u001b[0m \u001b[0;34m=\u001b[0m \u001b[0mself\u001b[0m\u001b[0;34m.\u001b[0m\u001b[0mflush\u001b[0m\u001b[0;34m(\u001b[0m\u001b[0;34m)\u001b[0m\u001b[0;34m\u001b[0m\u001b[0;34m\u001b[0m\u001b[0m\n\u001b[0;32m--> 272\u001b[0;31m                 raise RInterpreterError(code, str(exception),\n\u001b[0m\u001b[1;32m    273\u001b[0m                                         warning_or_other_msg)\n\u001b[1;32m    274\u001b[0m             \u001b[0mtext_output\u001b[0m \u001b[0;34m=\u001b[0m \u001b[0mself\u001b[0m\u001b[0;34m.\u001b[0m\u001b[0mflush\u001b[0m\u001b[0;34m(\u001b[0m\u001b[0;34m)\u001b[0m\u001b[0;34m\u001b[0m\u001b[0;34m\u001b[0m\u001b[0m\n",
      "\u001b[0;31mRInterpreterError\u001b[0m: Failed to parse and evaluate line 'library(tidyverse)\\nlibrary(latex2exp)\\nlibrary(gridExtra)\\nsource(\\'rbase.R\\')\\nVtext=str_c(\\'node \\',V+1)\\nfig0<-ggplot(data=tibble(V=V,f=f,Vtext=Vtext),aes(x=V,y=f,label=Vtext))+\\ngeom_col(aes(fill=(f>0)),width=0.1)+geom_hline(aes(yintercept=0),col=\"gray60\",lty=2)+\\ngeom_text(fontface = 4,size=8)+\\nxlab(\"\")+ylab(\"\")+guides(fill=FALSE)+theme(plot.title=element_text(face=\"bold.italic\"))+theme_bw()+\\ntheme(strip.text.x = element_text(size = 20, color = \"black\", face = \"bold.italic\"))+\\ntheme(strip.text.y = element_text(size = 15, color = \"black\", face = \"bold.italic\"))+\\nylim(-1.2,1.2)+\\ntheme(plot.title=element_text(face=\"bold.italic\"))\\n#ggsave(plot=p0,\"./fig/2021-0217_fig0.pdf\",width=20,height=6)\\nfig0\\n'.\nR error message: 'Error in library(gridExtra) : there is no package called ‘gridExtra’'"
     ]
    }
   ],
   "source": [
    "%%R -w 2000 -h 800 -r 100\n",
    "library(tidyverse)\n",
    "library(latex2exp)\n",
    "library(gridExtra)\n",
    "source('rbase.R')\n",
    "Vtext=str_c('node ',V+1)\n",
    "fig0<-ggplot(data=tibble(V=V,f=f,Vtext=Vtext),aes(x=V,y=f,label=Vtext))+\n",
    "geom_col(aes(fill=(f>0)),width=0.1)+geom_hline(aes(yintercept=0),col=\"gray60\",lty=2)+\n",
    "geom_text(fontface = 4,size=8)+\n",
    "xlab(\"\")+ylab(\"\")+guides(fill=FALSE)+theme(plot.title=element_text(face=\"bold.italic\"))+theme_bw()+\n",
    "theme(strip.text.x = element_text(size = 20, color = \"black\", face = \"bold.italic\"))+\n",
    "theme(strip.text.y = element_text(size = 15, color = \"black\", face = \"bold.italic\"))+\n",
    "ylim(-1.2,1.2)+\n",
    "theme(plot.title=element_text(face=\"bold.italic\"))\n",
    "#ggsave(plot=p0,\"./fig/2021-0217_fig0.pdf\",width=20,height=6)\n",
    "fig0"
   ]
  },
  {
   "cell_type": "markdown",
   "id": "0d9b3253-14d0-4185-92c7-163d1fb37413",
   "metadata": {
    "jp-MarkdownHeadingCollapsed": true,
    "tags": []
   },
   "source": [
    "### R을 활용한 시각화 (2): Weight matrix 와 Eigen plot "
   ]
  },
  {
   "cell_type": "markdown",
   "id": "d2c7c1ee-ade8-49a6-b138-e917ba1fdadf",
   "metadata": {},
   "source": [
    "`-` `ggplot`에서 `geom_tile`을 사용하기 위해서 매트릭스 형태인 `W_Graph`, `W_Euclid`, `W_HST`를 길게 펼친다. 결과를 각각 `W_Graph_long`, `W_Euclid_long`, `W_HST_long`에 저장한다. "
   ]
  },
  {
   "cell_type": "code",
   "execution_count": null,
   "id": "ded79032-e62d-4133-99fe-bc3a38745fb4",
   "metadata": {},
   "outputs": [],
   "source": [
    "%%R\n",
    "grid<-expand.grid(x=1:n,y=1:n)\n",
    "W_Graph_long<-as_tibble(cbind(grid,as.vector(W_Graph)));names(W_Graph_long)<-c(\"x\",\"y\",\"W\")\n",
    "W_Euclid_long<-as_tibble(cbind(grid,as.vector(W_Euclid)));names(W_Euclid_long)<-c(\"x\",\"y\",\"W\")\n",
    "W_HST_long<-as_tibble(cbind(grid,as.vector(W_HST)));names(W_HST_long)<-c(\"x\",\"y\",\"W\")"
   ]
  },
  {
   "cell_type": "markdown",
   "id": "80923d87-e258-42ea-88de-e1693fd87586",
   "metadata": {},
   "source": [
    "`-` 그래프퓨리에 변환: $(\\bf{f},\\bf{W})$에 그래프 퓨리에 변환을 수행함.  "
   ]
  },
  {
   "cell_type": "code",
   "execution_count": null,
   "id": "27b092ce-37d8-430e-8356-713eb82bac40",
   "metadata": {},
   "outputs": [],
   "source": [
    "%%R\n",
    "source('heavysnow.R')\n",
    "gfftrslt_Euclid<-gfft(f,W_Euclid)\n",
    "gfftrslt_Graph<-gfft(f,W_Graph)\n",
    "gfftrslt_HST<-gfft(f,W_HST)"
   ]
  },
  {
   "cell_type": "markdown",
   "id": "cec8cc32-4804-4633-af72-b3c55e16d25b",
   "metadata": {},
   "source": [
    "`-` 그래프 퓨리에 변환의 결과 고유치, 고유벡터, $\\bf{\\bar{f}}$가 반환됨. "
   ]
  },
  {
   "cell_type": "code",
   "execution_count": null,
   "id": "a3ab81f0-d8b8-4e1e-8dd4-bf42702fa0e2",
   "metadata": {},
   "outputs": [],
   "source": [
    "%%R\n",
    "head(gfftrslt_HST)"
   ]
  },
  {
   "cell_type": "markdown",
   "id": "d2a0fe78-4848-462e-a6bc-95bf0307d4d2",
   "metadata": {},
   "source": [
    "`-` 시각화코드 "
   ]
  },
  {
   "cell_type": "code",
   "execution_count": null,
   "id": "2095e215-e5a6-4e8f-a837-baa9f5688096",
   "metadata": {},
   "outputs": [],
   "source": [
    "%%R -w 1000 -h 800 -r 100\n",
    "library(gridExtra)\n",
    "\n",
    "fig1_1<-ggplot()+geom_tile(data=W_Euclid_long,aes(x=x,y=y,fill=W))+theme_bw()+xlab(\"\")+ylab(\"\")+\n",
    "theme(strip.text.x = element_text(size = 20, color = \"black\", face = \"bold.italic\"))+\n",
    "theme(strip.text.y = element_text(size = 20, color = \"black\", face = \"bold.italic\"))+\n",
    "scale_fill_gradient2(low=\"red\",high=\"blue\",mid=\"purple\",midpoint=0.25,breaks=c(0,0.5,0.99))+\n",
    "labs(fill=TeX('$W$'))+\n",
    "theme(legend.position=\"none\")+theme(legend.key=element_blank())+\n",
    "ggtitle(\"(a) Euclid\")+theme(plot.title=element_text(face=\"bold.italic\",size=rel(3)))\n",
    "\n",
    "fig1_2<-ggplot()+geom_tile(data=W_Graph_long,aes(x=x,y=y,fill=W))+theme_bw()+xlab(\"\")+ylab(\"\")+\n",
    "theme(strip.text.x = element_text(size = 20, color = \"black\", face = \"bold.italic\"))+\n",
    "theme(strip.text.y = element_text(size = 20, color = \"black\", face = \"bold.italic\"))+\n",
    "scale_fill_gradient2(low=\"red\",high=\"blue\",mid=\"purple\",midpoint=0.5,breaks=c(0,0.5,0.99))+\n",
    "labs(fill=TeX('$\\\\hat{W}$'))+\n",
    "theme(legend.position=\"none\")+theme(legend.key=element_blank())+\n",
    "ggtitle(\"(b) Graph\")+theme(plot.title=element_text(face=\"bold.italic\",size=rel(3)))\n",
    "\n",
    "fig1_3<-ggplot()+geom_tile(data=W_HST_long,aes(x=x,y=y,fill=W))+theme_bw()+xlab(\"\")+ylab(\"\")+\n",
    "theme(strip.text.x = element_text(size = 20, color = \"black\", face = \"bold.italic\"))+\n",
    "theme(strip.text.y = element_text(size = 20, color = \"black\", face = \"bold.italic\"))+\n",
    "scale_fill_gradient2(low=\"red\",high=\"blue\",mid=\"purple\",midpoint=0.5,breaks=c(0,0.5,0.99))+\n",
    "labs(fill=TeX('$\\\\hat{W}(\\\\tau)$'))+\n",
    "theme(legend.position=\"none\")+theme(legend.key=element_blank())+\n",
    "ggtitle(\"(c) HST\")+theme(plot.title=element_text(face=\"bold.italic\",size=rel(3)))\n",
    "\n",
    "fig1_4<-eigenplot(gfftrslt_Euclid)+ylim(0,2)+theme_light()\n",
    "fig1_5<-eigenplot(gfftrslt_Graph)+ylim(0,2)+theme_light()\n",
    "fig1_6<-eigenplot(gfftrslt_HST)+ylim(0,2)+theme_light()\n",
    "fig1=grid.arrange(fig1_1,fig1_2,fig1_3,fig1_4,fig1_5,fig1_6,ncol=3,nrow=2)\n",
    "fig1\n",
    "#ggsave(plot=grid.arrange(p1_a,p1_b,p1_c,ncol=3),\"2021-07-22_fig1.png\",width=20,height=4)"
   ]
  },
  {
   "cell_type": "markdown",
   "id": "0eff5dad-0fe2-4f2c-a03a-0bdad8f29d83",
   "metadata": {},
   "source": [
    "### R을 활용한 시각화 (3): Decomposition "
   ]
  },
  {
   "cell_type": "markdown",
   "id": "4e17620e-c4b2-4d4c-b9b1-84e0833e56d6",
   "metadata": {},
   "source": [
    "`-` 디콤포지션을 수행하고 결과를 저장: $(\\bf{f},\\bf{W})$에 decomposition을 수행하고 그 결과를 각각 `decomprslt_Euclid`, `decomprslt_Graph`, `decomprslt_HST`에 저장한다. "
   ]
  },
  {
   "cell_type": "code",
   "execution_count": null,
   "id": "3594dc0c-1d55-4f86-aa03-55b929792ed4",
   "metadata": {},
   "outputs": [],
   "source": [
    "%%R \n",
    "decomprslt_Euclid<-decompose(f,W_Euclid,V=1:n) # 0, 35000, 60000, 80000\n",
    "decomprslt_Graph<-decompose(f,W_Graph,V=1:n) # 0, 35000, 60000, 80000\n",
    "decomprslt_HST<-decompose(f,W_HST,V=1:n) # 0, 35000, 60000, 80000"
   ]
  },
  {
   "cell_type": "markdown",
   "id": "ced599b2-f903-4847-af09-d09dde2005a5",
   "metadata": {},
   "source": [
    "`-` 디콤포지션 결과는 아래와 같은 형태임 "
   ]
  },
  {
   "cell_type": "code",
   "execution_count": null,
   "id": "6848aeb1-5bb6-48c9-95fd-ab1ae6420c70",
   "metadata": {},
   "outputs": [],
   "source": [
    "%%R\n",
    "head(decomprslt_Euclid)"
   ]
  },
  {
   "cell_type": "code",
   "execution_count": null,
   "id": "9c35291d-764a-4262-9c14-8b6a5feb3bdd",
   "metadata": {},
   "outputs": [],
   "source": [
    "%%R \n",
    "decomprslt_Euclid$method=\"Euclid\"\n",
    "decomprslt_Graph$method=\"Graph\"\n",
    "decomprslt_HST$method=\"HST\"\n",
    "decomprslt<-rbind(decomprslt_Euclid,decomprslt_Graph,decomprslt_HST)"
   ]
  },
  {
   "cell_type": "markdown",
   "id": "61925c6f-a35d-4581-b9cf-39c89504e12c",
   "metadata": {},
   "source": [
    "`-` 디콤포지션결과를 시각화한다. `geom_col`과 `facet_grid`를 이용. "
   ]
  },
  {
   "cell_type": "code",
   "execution_count": null,
   "id": "dad1ab4b-a5c2-4268-97de-6bbeff4446a0",
   "metadata": {},
   "outputs": [],
   "source": [
    "%%R -w 2000 -h 500 -r 100\n",
    "fig2<-ggplot(data=decomprslt,aes(x=V,y=fhat))+\n",
    "geom_col(aes(fill=fhat>0),width=0.7)+facet_grid(method~eigenvectorindex)+geom_hline(aes(yintercept=0),col=\"gray60\",lty=2)+\n",
    "xlab(\"\")+ylab(\"\")+guides(fill=FALSE)+theme(plot.title=element_text(face=\"bold.italic\"))+theme_bw()+\n",
    "theme(strip.text.x = element_text(size = 20, color = \"black\", face = \"bold.italic\"))+\n",
    "theme(strip.text.y = element_text(size = 15, color = \"black\", face = \"bold.italic\"))+\n",
    "ylim(-1.5,1.5)+\n",
    "theme(plot.title=element_text(face=\"bold.italic\"))\n",
    "fig2\n",
    "#ggsave(plot=fig2,\"./fig/2021-0514_fig2.pdf\",width=20,height=6)"
   ]
  },
  {
   "cell_type": "code",
   "execution_count": null,
   "id": "09372352-380f-4098-b7b5-02e5bdb91e06",
   "metadata": {},
   "outputs": [],
   "source": []
  }
 ],
 "metadata": {
  "kernelspec": {
   "display_name": "Python 3",
   "language": "python",
   "name": "python3"
  },
  "language_info": {
   "codemirror_mode": {
    "name": "ipython",
    "version": 3
   },
   "file_extension": ".py",
   "mimetype": "text/x-python",
   "name": "python",
   "nbconvert_exporter": "python",
   "pygments_lexer": "ipython3",
   "version": "3.9.7"
  },
  "widgets": {
   "application/vnd.jupyter.widget-state+json": {
    "state": {},
    "version_major": 2,
    "version_minor": 0
   }
  }
 },
 "nbformat": 4,
 "nbformat_minor": 5
}
