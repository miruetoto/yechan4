{
 "cells": [
  {
   "cell_type": "raw",
   "id": "75a3e9cf",
   "metadata": {
    "vscode": {
     "languageId": "raw"
    }
   },
   "source": [
    "---\n",
    "title: \"(연구&교수님) HST 이론개발\"\n",
    "author: \"신록예찬\"\n",
    "date: \"08/05/2021\"\n",
    "---"
   ]
  },
  {
   "cell_type": "markdown",
   "id": "1a44db61-3871-4f1c-9a38-37b034db7daf",
   "metadata": {
    "tags": []
   },
   "source": [
    "### snow distance 의 분해"
   ]
  },
  {
   "cell_type": "markdown",
   "id": "a7068202-18dc-40e6-802b-7f2164657e43",
   "metadata": {},
   "source": [
    "`-` 제안하는 snow-distance의 분해결과를 $\\tau$로 나누면 아래와 같다. \n",
    "\n",
    "$\\frac{1}{\\tau}\\Sigma_{ij}^{(\\tau)}=[f(v_i)-f(v_j)]^2+\\frac{1}{\\tau}\\sum_{\\ell=1}^{\\tau}\\left\\{\\sum_{k=1}^{\\ell}\\xi(v_i,k)-\\sum_{k=1}^{\\ell}\\xi(v_j,k) \\right\\}^2+\\frac{2}{\\tau}(f(v_i)-f(v_j))\\sum_{\\ell=1}^{\\tau}\\left\\{\\sum_{k=1}^{\\ell}\\xi(v_i,k)-\\sum_{k=1}^{\\ell}\\xi(v_j,k) \\right\\}$"
   ]
  },
  {
   "cell_type": "markdown",
   "id": "9a5693c1-09c2-40f1-86af-2e98c6d79b7a",
   "metadata": {},
   "source": [
    "`-` 따라서 $\\frac{1}{\\tau}\\sum_{ij}^{(\\tau)}$는 아래와 같은 3가지의 term으로 구분할 수 있다. \n",
    "\n",
    "- (유클리드 차이)$^2$ \n",
    "- ($1\\sim \\tau$의 적재량 차이)$^2$의 합 $\\times$ $\\frac{1}{\\tau}$\n",
    "- ($1\\sim \\tau$의 적재량 차이)의 합 $\\times$ 유클리드 차이 $\\times$ $\\frac{2}{\\tau}$"
   ]
  },
  {
   "cell_type": "markdown",
   "id": "cdd02a76-4064-4c73-9d45-175715f8b593",
   "metadata": {},
   "source": [
    "`-` 편의상 유클리드텀, 그래프텀, 크로스텀이라고 부르자. "
   ]
  },
  {
   "cell_type": "markdown",
   "id": "c4e18037-6a1c-4254-8432-ee622abbcd31",
   "metadata": {},
   "source": [
    "#### 그래프텀"
   ]
  },
  {
   "cell_type": "markdown",
   "id": "211f3c03-447b-440e-b7e8-61b8f463bf4d",
   "metadata": {},
   "source": [
    "$graphterm(i,j):=\\sum_{\\ell=1}^{\\tau}\\Delta(\\ell,i,j)$ where $\\Delta(\\ell,i,j)$는 "
   ]
  },
  {
   "cell_type": "markdown",
   "id": "c550b4d6-d5d0-4e35-90a2-50417cbee156",
   "metadata": {
    "tags": []
   },
   "source": [
    "$\\Delta(\\ell,i,j)=\\left(\\sum_{k=1}^{\\ell}\\xi(v_i,k)-\\sum_{k=1}^{\\ell}\\xi(v_j,k)\\right)^2\\approx |f(v_i)-f(v_j)|^2$"
   ]
  },
  {
   "cell_type": "markdown",
   "id": "e3159caa-16d5-459b-90f5-b45bbcd847eb",
   "metadata": {},
   "source": [
    "$=\\left(h(v_i,\\ell)-f(v_i)-h(v_j,\\ell)+f(v_j)\\right)^2$"
   ]
  },
  {
   "cell_type": "markdown",
   "id": "4993cc1f-0358-4044-aa75-92e203c399e6",
   "metadata": {},
   "source": [
    "$=\\left(h(v_i,\\ell)-h(v_j,\\ell)\\right)^2+\\left(f(v_i)-f(v_j)\\right)^2+2\\left(f(v_j)-f(v_i)\\right)\\left(h(v_i,\\ell)-h(v_j,\\ell)\\right)$"
   ]
  },
  {
   "cell_type": "code",
   "execution_count": null,
   "id": "8bd46bd8-0905-45a9-851f-4a270aed763b",
   "metadata": {},
   "outputs": [],
   "source": []
  },
  {
   "cell_type": "code",
   "execution_count": null,
   "id": "fda4cc9e-216d-4512-b3b2-b0081f88c03e",
   "metadata": {},
   "outputs": [],
   "source": []
  },
  {
   "cell_type": "code",
   "execution_count": null,
   "id": "45fab065-6911-4a9c-bfd3-d65f7ba70bff",
   "metadata": {},
   "outputs": [],
   "source": []
  },
  {
   "cell_type": "markdown",
   "id": "63fc9f42-5aea-4469-ad0d-ecc2ba1ab95a",
   "metadata": {},
   "source": [
    "$=\\big(\\sum_{k=1}^{\\ell}\\big[\\xi(v_i,k)-\\xi(v_j,k)\\big]\\big)^2$"
   ]
  },
  {
   "cell_type": "markdown",
   "id": "1057e501-3bba-43d2-87b9-98f24638a3dd",
   "metadata": {},
   "source": [
    "$=\\big(\\xi(v_i,1)-\\xi(v_j,1)\\big)^2+\\dots+\\big(\\xi(v_i,\\ell)-\\xi(v_j,\\ell)\\big)^2+gd$"
   ]
  },
  {
   "cell_type": "markdown",
   "id": "d5c5afec-8647-4494-a1c4-5a77bc8e73e5",
   "metadata": {},
   "source": [
    "$=\\big(\\xi(v_i,1)+\\xi(v_j,1)\\big)+\\dots+\\big(\\xi(v_i,\\ell)+\\xi(v_j,\\ell)\\big)+gd$"
   ]
  },
  {
   "cell_type": "markdown",
   "id": "4f6996c0-a338-47c2-8711-93d507f55a72",
   "metadata": {},
   "source": [
    "$=\\sum_{k=1}^{\\ell}\\xi(v_i,k)+\\sum_{k=1}^{\\ell}\\xi(v_j,k)+gd$"
   ]
  },
  {
   "cell_type": "markdown",
   "id": "d9919431-5aa2-485f-8ee2-86eb24e6cf5c",
   "metadata": {},
   "source": [
    "`-` gd 아래와 같이 쓸 수 있다. \n",
    "\n",
    "$gd=2\\big(\\xi(v_i,1)-\\xi(v_j,1)\\big)\\big(\\xi(v_i,2)-\\xi(v_j,2)\\big)+\\dots+2\\big(\\xi(v_i,\\ell-1)-\\xi(v_j,\\ell-1)\\big)\\big(\\xi(v_i,\\ell)-\\xi(v_j,\\ell)\\big)$\n",
    "\n"
   ]
  },
  {
   "cell_type": "markdown",
   "id": "9dfc73f6-eb1f-40f9-8fe2-525c535d1357",
   "metadata": {},
   "source": [
    "$:=d(1,2)+d(1,3)+\\dots+d(1,\\ell)+d(2,3)+\\dots+d(2,\\ell)+\\dots+2d(\\ell-1,\\ell)$"
   ]
  },
  {
   "cell_type": "markdown",
   "id": "714b907f-db97-4e48-967b-837dbd3c1692",
   "metadata": {},
   "source": [
    "여기에서 $d(1,2)$의 값을 해석하여 보자. "
   ]
  },
  {
   "cell_type": "markdown",
   "id": "ee197014-bd36-4790-b362-a96b255e6e3d",
   "metadata": {},
   "source": [
    "- $d(1,2)=0$: 시점1에서의 차이=0 OR 시점2에서의 차이=0 \n",
    "- $d(1,2)=2$: 시점1에서 $i$에 눈이 내림 & 시점2에서도 $i$에 눈이 내림 "
   ]
  },
  {
   "cell_type": "markdown",
   "id": "c490b8f0-0a2f-4729-83ca-4fc4ca04dda6",
   "metadata": {},
   "source": [
    "`-` regular graph + ergodicity를 이용하면 예제2의 CASE-A와 CASE-B의 그래프텀이 같은 극한값을 가짐을 보일 수 있다. "
   ]
  },
  {
   "cell_type": "markdown",
   "id": "72ee71c6-2aee-441d-bf23-66dff2967149",
   "metadata": {},
   "source": [
    "#### 크로스텀 "
   ]
  },
  {
   "cell_type": "markdown",
   "id": "4f24a549-afe5-491e-9be3-18d1bc9b59f0",
   "metadata": {},
   "source": [
    "`-` 크로스텀을 계산하자.\n",
    "\n",
    "$\\frac{2}{\\tau}(f(v_i)-f(v_j))\\sum_{\\ell=1}^{\\tau}\\left\\{\\sum_{k=1}^{\\ell}\\xi(v_i,k)-\\sum_{k=1}^{\\ell}\\xi(v_j,k) \\right\\}$"
   ]
  },
  {
   "cell_type": "markdown",
   "id": "3bc2c9d3-c867-4b5e-884a-3dde3b032c68",
   "metadata": {},
   "source": [
    "`-` (직관) $\\xi(v_i,k)-\\xi(v_j,k)$가 1 혹은 -1을 가질 확률은 같다. \n",
    "\n",
    "이제 $\\Delta_{ij}(\\ell):=\\sum_{k=1}^{\\ell}\\xi(v_i,k)-\\xi(v_j,k)$ 을 정의하자. \n",
    "\n",
    "분명히 $\\Delta_{ij}(\\ell)$는 평균이 0인 확률변수이다. (분산은??)"
   ]
  },
  {
   "cell_type": "markdown",
   "id": "74053b87-59c8-4205-a52d-8ee4cfe2ef2d",
   "metadata": {},
   "source": [
    "$\\sum_{k=1}^{\\ell}\\Delta_{ij}(k)=\\#\\big(A_i(\\ell)\\big) - \\#\\big(A_j(\\ell)\\big)$, where $A_i(\\ell)=\\{\\}$"
   ]
  },
  {
   "cell_type": "markdown",
   "id": "2748a52c-0f50-448d-a953-79f274dc10b7",
   "metadata": {},
   "source": [
    "### Snow distance의 order"
   ]
  },
  {
   "cell_type": "markdown",
   "id": "f586f302-df5a-4c62-840f-4e25653885c1",
   "metadata": {},
   "source": [
    "`–` $\\frac{1}{\\tau b^2}\\Sigma_{ij}^{(\\tau)}=O_p(1)$ 임을 보이자. "
   ]
  },
  {
   "cell_type": "markdown",
   "id": "8bcd8712-95c3-4d77-a12d-6aada0b2fb32",
   "metadata": {},
   "source": [
    "`-` $\\Sigma_{ij}^{(\\tau)}=\\big[f(v_i,0)-f(v_j,0)\\big]^2+\\big[f(v_i,0)+\\xi(v_i,1)-f(v_j)-\\xi(v_j,1)\\big]^2+\\dots+\\big[f(v_i,0)+\\xi(v_i,1)+\\dots+\\xi(v_i,\\tau)-f(v_j)-\\xi(v_j,1)-\\dots-\\xi(v_j,\\tau)\\big]^2$\n",
    "\n",
    "`-` 편의성 아래와 같이 정의하자. \n",
    "\n",
    "- $\\Delta_{ij}^{(0)}=\\big[f(v_i,0)-f(v_j,0)\\big]^2$\n",
    "- $\\dots$\n",
    "- $\\Delta_{ij}^{(\\tau)}=\\big[f(v_i,0)+\\xi(v_i,1)+\\dots+\\xi(v_i,\\tau)-f(v_j)-\\xi(v_j,1)-\\dots-\\xi(v_j,\\tau)\\big]^2$\n",
    "\n",
    "`-` 그러면 $\\Sigma_{ij}^{(\\tau)}=\\sum_{\\ell=0}^{\\tau}\\Delta_{ij}^{(\\ell)}$"
   ]
  },
  {
   "cell_type": "markdown",
   "id": "085f6923-3691-4a3b-9861-6c358070d0ef",
   "metadata": {},
   "source": [
    "`–` WLOG, $b=1$ then, $\\xi(v_i,1)=0~ or~ 1$"
   ]
  },
  {
   "cell_type": "markdown",
   "id": "7a0b11a1-a76c-4c8a-9da2-f97aaa0f2c17",
   "metadata": {},
   "source": [
    "`–` 아래를 살펴보자. \n",
    "- $\\frac{1}{\\tau^2}\\Delta_{ij}^{(0)}=O(\\frac{1}{\\tau^2})$\n",
    "- $\\frac{1}{\\tau^2}\\Delta_{ij}^{(1)}=\\frac{1}{\\tau^2}o_p(1)+(p_i-p_j)$\n",
    "- $\\frac{1}{\\tau^2}\\Delta_{ij}^{(2)}=\\frac{2^2}{\\tau^2}o_p(1)+(p_i-p_j)$\n",
    "- $\\dots$\n",
    "- $\\frac{1}{\\tau^2}\\Delta_{ij}^{(\\tau-1)}=\\frac{(\\tau-1)^2}{\\tau^2}o_p(1)+(p_i-p_j)$\n",
    "- $\\frac{1}{\\tau^2}\\Delta_{ij}^{(\\tau)}=\\frac{\\tau^2}{\\tau^2}o_p(1)+(p_i-p_j)$"
   ]
  },
  {
   "cell_type": "markdown",
   "id": "41d22545-9c02-4ac3-9e43-9cfe4b57172a",
   "metadata": {},
   "source": [
    "`-` 따라서 $\\frac{1}{\\tau^2}\\Sigma_{ij}^{(\\tau)}=\\frac{1}{\\tau^2}\\frac{\\tau(\\tau+1)(2\\tau+1)}{6}(o_p(1)+\\tau(p_i-p_j)) $"
   ]
  },
  {
   "cell_type": "markdown",
   "id": "0907973e-998e-424e-8ed1-c4285188180d",
   "metadata": {},
   "source": [
    "`-` $p_i=p_j$라고 하면 $\\frac{1}{\\tau^2}\\sum_{ij}^{(\\tau)}=o_p(\\tau)$"
   ]
  },
  {
   "cell_type": "markdown",
   "id": "f9a5c96d-da3b-4ecb-846f-13eb82b74817",
   "metadata": {},
   "source": [
    "#### 단순한예제 "
   ]
  },
  {
   "cell_type": "markdown",
   "id": "ee522aed-d709-4527-8a4a-3832cfd247b9",
   "metadata": {},
   "source": [
    "`-` 2개의 노드가 있고 $i$,$j$에서 반복된다고 하자. "
   ]
  },
  {
   "cell_type": "markdown",
   "id": "8413dd54-2f6a-4557-94e7-7813733a0447",
   "metadata": {},
   "source": [
    "`-` $\\Sigma^{(\\tau)}_{ij}=\\Delta_{ij}^{(0)}=0$"
   ]
  },
  {
   "cell_type": "code",
   "execution_count": null,
   "id": "b647fcef-0925-46de-b015-6127979f6971",
   "metadata": {},
   "outputs": [],
   "source": []
  }
 ],
 "metadata": {
  "kernelspec": {
   "display_name": "Python 3",
   "language": "python",
   "name": "python3"
  },
  "language_info": {
   "codemirror_mode": {
    "name": "ipython",
    "version": 3
   },
   "file_extension": ".py",
   "mimetype": "text/x-python",
   "name": "python",
   "nbconvert_exporter": "python",
   "pygments_lexer": "ipython3",
   "version": "3.9.7"
  },
  "widgets": {
   "application/vnd.jupyter.widget-state+json": {
    "state": {},
    "version_major": 2,
    "version_minor": 0
   }
  }
 },
 "nbformat": 4,
 "nbformat_minor": 5
}
