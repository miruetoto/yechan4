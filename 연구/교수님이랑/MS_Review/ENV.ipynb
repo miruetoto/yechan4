{
 "cells": [
  {
   "cell_type": "raw",
   "metadata": {
    "vscode": {
     "languageId": "raw"
    }
   },
   "source": [
    "---\n",
    "title: \"(연구&교수님) 다중척도논문 -- 환경설정\"\n",
    "author: \"최규빈\"\n",
    "date: \"06/09/2024\"\n",
    "---"
   ]
  },
  {
   "cell_type": "markdown",
   "metadata": {
    "vscode": {
     "languageId": "raw"
    }
   },
   "source": [
    "```bash\n",
    "conda install -c conda-forge r-essentials\n",
    "conda install conda-forge::scikit-learn\n",
    "pip install rpy2\n",
    "conda install -c conda-forge pywavelets\n",
    "pip install matplotlib\n",
    "conda install conda-forge::r-devtools\n",
    "install.packages(\"SiZer\")\n",
    "conda install conda-forge::librosa\n",
    "conda install -c conda-forge statsmodels\n",
    "conda install conda-forge::r-magick\n",
    "```"
   ]
  }
 ],
 "metadata": {
  "kernelspec": {
   "display_name": "Python 3 (ipykernel)",
   "language": "python",
   "name": "python3"
  }
 },
 "nbformat": 4,
 "nbformat_minor": 2
}
