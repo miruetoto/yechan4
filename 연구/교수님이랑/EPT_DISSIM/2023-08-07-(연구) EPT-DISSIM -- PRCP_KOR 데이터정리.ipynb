{
 "cells": [
  {
   "cell_type": "raw",
   "id": "f726b742-6960-4745-b12f-c38ba2dee791",
   "metadata": {},
   "source": [
    "---\n",
    "title: \"(연구&교수님) EPT-DISSIM -- PRCP_KOR 데이터정리\"\n",
    "author: \"신록예찬\"\n",
    "date: \"08/07/2023\"\n",
    "---"
   ]
  },
  {
   "cell_type": "code",
   "execution_count": 2,
   "id": "6ca2e10b-c056-40e1-a57e-8e25c9792471",
   "metadata": {},
   "outputs": [],
   "source": [
    "import pandas as pd"
   ]
  },
  {
   "cell_type": "markdown",
   "id": "4e6ead39-8184-4795-9370-16b1f309f706",
   "metadata": {},
   "source": [
    "`1`. load raw-data"
   ]
  },
  {
   "cell_type": "code",
   "execution_count": 9,
   "id": "0984089c-1452-49da-b679-218bf33dacce",
   "metadata": {},
   "outputs": [
    {
     "data": {
      "text/html": [
       "<div>\n",
       "<style scoped>\n",
       "    .dataframe tbody tr th:only-of-type {\n",
       "        vertical-align: middle;\n",
       "    }\n",
       "\n",
       "    .dataframe tbody tr th {\n",
       "        vertical-align: top;\n",
       "    }\n",
       "\n",
       "    .dataframe thead th {\n",
       "        text-align: right;\n",
       "    }\n",
       "</style>\n",
       "<table border=\"1\" class=\"dataframe\">\n",
       "  <thead>\n",
       "    <tr style=\"text-align: right;\">\n",
       "      <th></th>\n",
       "      <th>Station_ID</th>\n",
       "      <th>Station_Name</th>\n",
       "      <th>Date</th>\n",
       "      <th>Precipitation</th>\n",
       "    </tr>\n",
       "  </thead>\n",
       "  <tbody>\n",
       "    <tr>\n",
       "      <th>0</th>\n",
       "      <td>90</td>\n",
       "      <td>속초</td>\n",
       "      <td>2013-08-09</td>\n",
       "      <td>15.5</td>\n",
       "    </tr>\n",
       "    <tr>\n",
       "      <th>1</th>\n",
       "      <td>90</td>\n",
       "      <td>속초</td>\n",
       "      <td>2013-08-10</td>\n",
       "      <td>9.5</td>\n",
       "    </tr>\n",
       "    <tr>\n",
       "      <th>2</th>\n",
       "      <td>90</td>\n",
       "      <td>속초</td>\n",
       "      <td>2013-08-16</td>\n",
       "      <td>0.1</td>\n",
       "    </tr>\n",
       "    <tr>\n",
       "      <th>3</th>\n",
       "      <td>90</td>\n",
       "      <td>속초</td>\n",
       "      <td>2013-08-18</td>\n",
       "      <td>0.0</td>\n",
       "    </tr>\n",
       "    <tr>\n",
       "      <th>4</th>\n",
       "      <td>90</td>\n",
       "      <td>속초</td>\n",
       "      <td>2013-08-19</td>\n",
       "      <td>9.0</td>\n",
       "    </tr>\n",
       "    <tr>\n",
       "      <th>...</th>\n",
       "      <td>...</td>\n",
       "      <td>...</td>\n",
       "      <td>...</td>\n",
       "      <td>...</td>\n",
       "    </tr>\n",
       "    <tr>\n",
       "      <th>127200</th>\n",
       "      <td>295</td>\n",
       "      <td>남해</td>\n",
       "      <td>2023-07-22</td>\n",
       "      <td>4.3</td>\n",
       "    </tr>\n",
       "    <tr>\n",
       "      <th>127201</th>\n",
       "      <td>295</td>\n",
       "      <td>남해</td>\n",
       "      <td>2023-07-23</td>\n",
       "      <td>13.4</td>\n",
       "    </tr>\n",
       "    <tr>\n",
       "      <th>127202</th>\n",
       "      <td>295</td>\n",
       "      <td>남해</td>\n",
       "      <td>2023-07-24</td>\n",
       "      <td>17.0</td>\n",
       "    </tr>\n",
       "    <tr>\n",
       "      <th>127203</th>\n",
       "      <td>295</td>\n",
       "      <td>남해</td>\n",
       "      <td>2023-07-25</td>\n",
       "      <td>4.7</td>\n",
       "    </tr>\n",
       "    <tr>\n",
       "      <th>127204</th>\n",
       "      <td>295</td>\n",
       "      <td>남해</td>\n",
       "      <td>2023-07-26</td>\n",
       "      <td>42.5</td>\n",
       "    </tr>\n",
       "  </tbody>\n",
       "</table>\n",
       "<p>127205 rows × 4 columns</p>\n",
       "</div>"
      ],
      "text/plain": [
       "        Station_ID Station_Name        Date  Precipitation\n",
       "0               90           속초  2013-08-09           15.5\n",
       "1               90           속초  2013-08-10            9.5\n",
       "2               90           속초  2013-08-16            0.1\n",
       "3               90           속초  2013-08-18            0.0\n",
       "4               90           속초  2013-08-19            9.0\n",
       "...            ...          ...         ...            ...\n",
       "127200         295           남해  2023-07-22            4.3\n",
       "127201         295           남해  2023-07-23           13.4\n",
       "127202         295           남해  2023-07-24           17.0\n",
       "127203         295           남해  2023-07-25            4.7\n",
       "127204         295           남해  2023-07-26           42.5\n",
       "\n",
       "[127205 rows x 4 columns]"
      ]
     },
     "execution_count": 9,
     "metadata": {},
     "output_type": "execute_result"
    }
   ],
   "source": [
    "df = pd.read_csv(\"OBS_ASOS_DD_20230807193646.csv\", encoding='EUC-KR')\n",
    "df = df.rename({'지점':'Station_ID','지점명':'Station_Name','일시':'Date','일강수량(mm)':'Precipitation'},axis=1)\n",
    "df"
   ]
  },
  {
   "cell_type": "markdown",
   "id": "26df813b-ede8-4b68-a993-d6d7774e8e8f",
   "metadata": {},
   "source": [
    "`2`. save dataframe as `PRCP_KOR.csv`"
   ]
  },
  {
   "cell_type": "code",
   "execution_count": 10,
   "id": "2333ce89-2f0a-4882-98c0-6be9ffe9a490",
   "metadata": {},
   "outputs": [],
   "source": [
    "df.to_csv('PRCP_KOR.csv',index=False)"
   ]
  }
 ],
 "metadata": {
  "kernelspec": {
   "display_name": "Python 3 (ipykernel)",
   "language": "python",
   "name": "python3"
  },
  "language_info": {
   "codemirror_mode": {
    "name": "ipython",
    "version": 3
   },
   "file_extension": ".py",
   "mimetype": "text/x-python",
   "name": "python",
   "nbconvert_exporter": "python",
   "pygments_lexer": "ipython3",
   "version": "3.12.1"
  }
 },
 "nbformat": 4,
 "nbformat_minor": 5
}
