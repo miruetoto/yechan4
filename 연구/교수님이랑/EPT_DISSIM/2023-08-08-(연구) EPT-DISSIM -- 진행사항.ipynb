{
 "cells": [
  {
   "cell_type": "raw",
   "id": "e259acd2-0e23-4b0d-8c73-b6bb6d4a3bf6",
   "metadata": {},
   "source": [
    "---\n",
    "title: \"(연구&교수님) EPT-DISSIM -- 진행사항\"\n",
    "author: \"신록예찬\"\n",
    "date: \"08/08/2023\"\n",
    "---"
   ]
  },
  {
   "cell_type": "markdown",
   "id": "ee35ee96-1cf3-4e99-a28c-97385b6ebd8b",
   "metadata": {},
   "source": [
    "# 진행사항 "
   ]
  },
  {
   "cell_type": "markdown",
   "id": "5a6e5d82-bb80-4bac-821f-03550b1c6069",
   "metadata": {},
   "source": [
    "EPT_DISSIM: visualization (23.08.07) -- 현재 중단\n",
    "\n",
    "- PRCP_KOR 자료에 대한 시각화 "
   ]
  },
  {
   "cell_type": "markdown",
   "id": "f2e02356-e6a4-434d-a04c-1f0138049196",
   "metadata": {},
   "source": [
    "`PRCP_KOR2.csv`\n",
    "\n",
    "- download: <https://github.com/miruetoto/yechan3/blob/main/posts/3_Researches/YECHAN/EPT_DISSIM/PRCP_KOR2.csv>\n",
    "\n",
    "- 결측치를 0으로 채움 "
   ]
  }
 ],
 "metadata": {
  "kernelspec": {
   "display_name": "Python 3 (ipykernel)",
   "language": "python",
   "name": "python3"
  },
  "language_info": {
   "codemirror_mode": {
    "name": "ipython",
    "version": 3
   },
   "file_extension": ".py",
   "mimetype": "text/x-python",
   "name": "python",
   "nbconvert_exporter": "python",
   "pygments_lexer": "ipython3",
   "version": "3.12.1"
  }
 },
 "nbformat": 4,
 "nbformat_minor": 5
}
