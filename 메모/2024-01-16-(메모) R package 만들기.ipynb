{
 "cells": [
  {
   "cell_type": "raw",
   "id": "abec57dd-6418-41cc-a6ae-fd23bbaa5fbc",
   "metadata": {},
   "source": [
    "---\n",
    "title: \"(메모) R package 만들기\"\n",
    "author: \"신록예찬\"\n",
    "date: \"01/16/2024\"\n",
    "---"
   ]
  },
  {
   "cell_type": "markdown",
   "id": "de7c2b3f-31ad-4736-a2e7-574f39c41661",
   "metadata": {},
   "source": [
    "`-` `devtools` 설치 "
   ]
  },
  {
   "cell_type": "markdown",
   "id": "0c20c37f-f502-4288-b077-cbea26e5a53d",
   "metadata": {},
   "source": [
    "```bash\n",
    "conda install conda-forge::r-devtools\n",
    "```"
   ]
  }
 ],
 "metadata": {
  "kernelspec": {
   "display_name": "Python 3 (ipykernel)",
   "language": "python",
   "name": "python3"
  },
  "language_info": {
   "codemirror_mode": {
    "name": "ipython",
    "version": 3
   },
   "file_extension": ".py",
   "mimetype": "text/x-python",
   "name": "python",
   "nbconvert_exporter": "python",
   "pygments_lexer": "ipython3",
   "version": "3.12.2"
  }
 },
 "nbformat": 4,
 "nbformat_minor": 5
}
