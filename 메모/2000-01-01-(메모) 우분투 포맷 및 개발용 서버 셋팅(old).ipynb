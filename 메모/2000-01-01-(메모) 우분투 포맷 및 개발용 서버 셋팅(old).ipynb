{
 "cells": [
  {
   "cell_type": "raw",
   "id": "117f9303-7cfc-4bc6-840c-b97e2d49781c",
   "metadata": {},
   "source": [
    "---\n",
    "title: \"(메모) 우분투 포맷 및 개발용 서버 셋팅 (old)\"\n",
    "author: \"신록예찬\"\n",
    "date: \"01/01/2000\" \n",
    "---"
   ]
  },
  {
   "cell_type": "markdown",
   "id": "d1fcc705-7ed9-4ea0-8a07-fcfe55dd33fc",
   "metadata": {},
   "source": [
    "# About this doc"
   ]
  },
  {
   "cell_type": "markdown",
   "id": "0928ddc4-d9e1-40df-8718-884e50b940ee",
   "metadata": {},
   "source": [
    "`-` 우분투에서 여러가지 개발환경을 설정하는 방법을 포스팅 하겠다. \n",
    "\n",
    "`-` 이 포스트는 우분투를 메인OS(사무용+연구용)로 사용하고 싶은 사람, 우분투를 활용하여 개발용 서버를 구축하고 싶은 사람에게 모두 유용한다. \n",
    "\n",
    "`-` 이 포스트는 2080 이상의 GPU를 활용한 학습을 원하는 사람에게 유용하다. \n",
    "\n",
    "`-` 이 포스트는 R과 파이썬을 동시에 쓰는 사람에게 유용하다. \n",
    "\n",
    "`-` 이 포스트는 Rstudio, Jupyter Lab을 동시에 쓰는 사람에게 유용하다. \n",
    "\n",
    "`-` 매년 조금씩 셋팅방법이 다른것 같다. \n",
    "\n",
    "`-` 가장 최근에는 2023년 3월8일에 이 블로그 내용으로 셋팅해보았음. "
   ]
  },
  {
   "cell_type": "markdown",
   "id": "4c43dfc1",
   "metadata": {},
   "source": [
    "# 우분투설치 "
   ]
  },
  {
   "cell_type": "markdown",
   "id": "5e90c17a",
   "metadata": {},
   "source": [
    "`-` 22.04부터는 파티션 나누지 않고 그냥 설치해도 잘 되는것 같다. "
   ]
  },
  {
   "cell_type": "markdown",
   "id": "84515ddf-4e3c-4077-8a07-9fecb61e80ba",
   "metadata": {},
   "source": [
    "# 네트워크 설정"
   ]
  },
  {
   "cell_type": "markdown",
   "id": "d2aef512-a0c7-4d2b-bd5a-43e9aed2c798",
   "metadata": {},
   "source": [
    "`-` `?`표시있는 아이콘 $\\to$ Wired Connected $\\to$ Wired Settings $\\to$ Connection의 설정 $\\to$ IPv4 $\\to$ Manual $\\to$ Address, Netmask, Gateway, DNS 설정 $\\to$ 네트워크 토글 \n"
   ]
  },
  {
   "cell_type": "markdown",
   "id": "d73da338-e55a-4b70-b01a-b3648a3a23af",
   "metadata": {},
   "source": [
    "# 한글설정 (개발용 서버일 경우 생략 가능)"
   ]
  },
  {
   "cell_type": "markdown",
   "id": "eb8c826b-0734-440d-8fce-b5a1ac687158",
   "metadata": {},
   "source": [
    "`-` 아래와 같이 커맨드에 친다. \n",
    "\n",
    "```default\n",
    "ibus-setup\n",
    "```\n",
    "\n",
    "이걸 치면 `IBus Preferences` 라는 창이 나오는데 여기에서 (1) `Input Method` 탭 클릭 (2) `Add` 버튼 클릭 (3) `Korean` 선택 (4) `Hangul` 선택을 한다. \n",
    "\n",
    "`-` 위의 단계에서 `Korean`이 안보이면 `Language Support`로 가서 한국어팩을 설치하고 리부팅 하면 된다. (보통 실행하자마자 알아서 설치되더라.. 설치가 안되면 `Install / Remove Languages...` 이라는 탭을 클릭해서 설치하자) 리부팅을 꼭 해야한다는 것에 주의하자. \n",
    "\n",
    "`-` 이제 `Region & Language`로 가서 설정하면 된다. "
   ]
  },
  {
   "cell_type": "markdown",
   "id": "331c55d2-05e5-4ea9-8ef3-25d78a52fc33",
   "metadata": {},
   "source": [
    "# 그래픽카드 드라이버설치"
   ]
  },
  {
   "cell_type": "markdown",
   "id": "92d4f568-a147-4e10-82b0-ec62a6c0dc24",
   "metadata": {},
   "source": [
    "`-` 전체적인 내용은 [여기](https://gist.github.com/bendangnuksung/981408031699e0ddc50a6f6fdcf185c2)를 참고하자. \n",
    "\n",
    "`-` 준비작업 \n",
    "\n",
    "```default\n",
    "sudo apt update \n",
    "sudo apt install gcc\n",
    "sudo apt install build-essential\n",
    "```\n",
    "\n",
    "`-` 우선 `gedit`를 열고 아래를 복사해서 붙여넣는다. \n",
    "\n",
    "```default\n",
    "blacklist nouveau\n",
    "options nouveau modeset=0\n",
    "```\n",
    "\n",
    "파일이름을 `blacklist-nouveau.conf`로 `home`에 저장\n",
    "\n",
    "`-` 루트권한획득 \n",
    "\n",
    "```default\n",
    "sudo -i\n",
    "```\n",
    "아이디와 비밀번호를 입력하고 루트권한을 얻는다. \n",
    "\n",
    "`-` 아래를 입력한다. \n",
    "\n",
    "```default\n",
    "sudo cp /home/cgb2/blacklist-nouveau.conf /etc/modprobe.d\n",
    "sudo update-initramfs -u\n",
    "sudo reboot \n",
    "```\n",
    "\n",
    "`-` 그래픽카드 다운로드: 드라이버 설치파일을 다운받는다. [앤비디아공식홈페이지](https://www.geforce.com/drivers)에서 다운받자. OS를 리눅스 64-bit으로 선택하고 검색을 누르면 다운받아진다. \n",
    "\n",
    "`-` 그래픽키다 설치: 다운받은뒤에는 파일이 있는 폴더로 이동하여 \n",
    "\n",
    "```default\n",
    "chmod +x NVIDIA-Linux-x86_64-410.78.run\n",
    "```\n",
    "\n",
    "를 실행하자. 보통 `NVI`까지치고 적당히 `탭`을 누르면 알아서 뒷부분이 완성된다. 이 과정은 추후에 \n",
    "드라이버를 실행할수 있도록 권한을 풀어두는 것이다. 그리고 아래를 실행한다.\n",
    "\n",
    "```default\n",
    "sudo ./NVIDIA-Linux-x86_64-410.78.run\n",
    "```\n",
    "\n",
    "그 다음 드라이버가 잘 설치되었는지 확인한다. \n",
    "\n",
    "```default\n",
    "nvidia-smi\n",
    "```"
   ]
  },
  {
   "cell_type": "markdown",
   "id": "2933b131-4d15-42c1-a256-fc2d8a356338",
   "metadata": {},
   "source": [
    "# 아나콘다"
   ]
  },
  {
   "cell_type": "markdown",
   "id": "3cb67dd9-6bf3-4d41-8801-db03cd954084",
   "metadata": {},
   "source": [
    "`-` (아나콘다 설치) 아나콘다를 다운받은 폴더로 가서 아래와 같이 실행한다. \n",
    "\n",
    "```default\n",
    "bash Anaconda3-2019.03-Linux-x86_64.sh\n",
    "```\n",
    "\n",
    "대충 `bash Ana` 정도까지만 치고 `tab`을 누르면 알아서 완성된다. \n",
    "\n",
    "`-` (환경만들기) 커맨드를 키고  아래를 실행한다. \n",
    "\n",
    "```default\n",
    "(base) conda create -n py38r40 python=3.8\n",
    "(base) conda create --name py38r40 python=3.8\n",
    "```\n",
    "둘 중 아무거나 실행해도 된다. 파이썬 환경이 너무 높으면 나중에 `conda tensorflow-gpu`가 먹히지 않으니 환경을 만들때 파이썬버전을 3.8.x로 하자. (현시점 2021년 2월25일기준 3.9.x이면 `conda tensorflow-gpu` 가 동작하지 않음.)"
   ]
  },
  {
   "cell_type": "markdown",
   "id": "197a644b-317e-4a1d-b908-71c66fd74632",
   "metadata": {},
   "source": [
    "# ssh연결 "
   ]
  },
  {
   "cell_type": "markdown",
   "id": "f11fabd3-0e6b-43a9-8419-99ae9384b62d",
   "metadata": {},
   "source": [
    "`-` 처음에 ssh를 연결하기위해서는 연결**당하는** 컴퓨터에 가서 아래를 실행해야 한다. \n",
    "```\n",
    "sudo apt install openssh-server\n",
    "```"
   ]
  },
  {
   "cell_type": "markdown",
   "id": "b0784c1c-49c7-473a-ae34-cb4dccb9af75",
   "metadata": {},
   "source": [
    "***22번포트 우회하기***"
   ]
  },
  {
   "cell_type": "markdown",
   "id": "e73e11b1-4657-4572-a42d-b4147cbb9515",
   "metadata": {},
   "source": [
    "`-` step1: `/etc/ssh/sshd_config` 파일을 연다. \n",
    "\n",
    "```default\n",
    "sudo vi /etc/ssh/sshd_config \n",
    "```"
   ]
  },
  {
   "cell_type": "markdown",
   "id": "21d7f60a-37da-4fc6-bfc4-c9b1c0a7b58e",
   "metadata": {},
   "source": [
    "`-` step2: Port 22 라고 된 부분의 주석을 풀고 원하는 포트번호 설정 \n",
    "\n",
    "```default\n",
    "...\n",
    "\n",
    "#Port 22\n",
    "#AddressFamily any\n",
    "#ListenAddress 0.0.0.0\n",
    "#ListenAddress ::\n",
    "\n",
    "...\n",
    "```\n",
    "\n",
    "\n"
   ]
  },
  {
   "cell_type": "markdown",
   "id": "7fa0f940-68f3-44d6-b43b-2d479e4290d4",
   "metadata": {},
   "source": [
    "`-` step3: 수정내용을 적용 \n",
    "\n",
    "```default\n",
    "sudo systemctl restart ssh.service\n",
    "```"
   ]
  },
  {
   "cell_type": "markdown",
   "id": "313b5b8d-6170-4da6-b5c4-7e0050446eb4",
   "metadata": {},
   "source": [
    "`-` step4: 수정한 포트로 ssh접속 "
   ]
  },
  {
   "cell_type": "markdown",
   "id": "2561709a-088a-464c-a3a5-9c90b071fd43",
   "metadata": {},
   "source": [
    "# 주피터 원격제어"
   ]
  },
  {
   "cell_type": "markdown",
   "id": "610c6d1c-1fd0-4ab5-a9d4-ea9171b60830",
   "metadata": {},
   "source": [
    "`-`  1단계: 주피랩설치  \n",
    "\n",
    "```default\n",
    "(py38) conda install -c conda-forge jupyterlab\n",
    "```\n",
    "\n",
    "- Note: 사실 위에서 주피터랩을 따로 설치안해도 주피터랩이 잘만 실행된다. 하지만 이렇게하니까 나중에 R커널을 만들기위해 `IRkernel::installspec()`을 실행할때 에러가 난다. "
   ]
  },
  {
   "cell_type": "markdown",
   "id": "7a382c7b-6e23-4ecc-bcc9-cbb3c5fc2458",
   "metadata": {},
   "source": [
    "`-` 2단계: 패스워드 설정\n",
    "```default\n",
    "(py38) jupyter lab --generate-config\n",
    "(py38) jupyter lab password\n",
    "```\n",
    "\n",
    "`-` 3단계: jupyter lab 환경설정 \n",
    "\n",
    "```default\n",
    "nano /home/cgb/.jupyter/jupyter_lab_config.py \n",
    "```\n",
    "\n",
    "아래를 변경 \n",
    "\n",
    "```default\n",
    "c.ServerApp.ip = '192.168.0.4'\n",
    "c.ServerApp.port = 1306\n",
    "c.ServerApp.open_browser = False\n",
    "```\n",
    "여기에서 `192.168.0.4` 는 내부아이피다. 고정아피이가 있다면 고정아이피 주소를 쓰면 된다. "
   ]
  },
  {
   "cell_type": "markdown",
   "id": "9bf9379a-23c1-4a17-8b2a-042f8db9b827",
   "metadata": {},
   "source": [
    "# 주피터노트북 원격제어"
   ]
  },
  {
   "cell_type": "markdown",
   "id": "4e944824-2a2b-435f-9994-b29e05391b4b",
   "metadata": {},
   "source": [
    "`-` 1단계: 주피터노트북 설치 (보통 lab을 설치하면 이미 설치되어있음) \n",
    "```default\n",
    "(py38) conda install -c conda-forge notebook \n",
    "```\n",
    "\n",
    "`-` 2단계: 패스워드 설정\n",
    "\n",
    "```python\n",
    "from notebook.auth import passwd\n",
    "passwd()\n",
    "Enter password: \n",
    "Verify password: \n",
    "```\n",
    "생성된값 (argon 어쩌고..)을 복사  \n",
    "\n",
    "`-` 3단계: 환경설정 \n",
    "\n",
    "```default\n",
    "jupyter notebook --generate-config\n",
    "nano /home/cgb/.jupyter/jupyter_notebook_config.py\n",
    "```\n",
    "\n",
    "아이피주소와 패스워드를 바꾼다. (port는 선택, browser도 선택 ) \n",
    "\n",
    "```default\n",
    "c.NotebookApp.open_browser = False\n",
    "c.NotebookApp.ip = '192.168.0.4'\n",
    "c.NotebookApp.port = 1307\n",
    "c.NotebookApp.password = ''\n",
    "```\n",
    "여기에서 `192.168.0.4` 는 내부아이피다. 고정아피이가 있다면 고정아이피 주소를 쓰면 된다.  "
   ]
  },
  {
   "cell_type": "markdown",
   "id": "13875342-cc89-413e-ab46-e63bdd7f469d",
   "metadata": {},
   "source": [
    "> Tip: 주피터노트북과 랩을 양쪽으로 셋팅후 주피터 노트북으로 실행하면 2개를 모두 쓸 수 있음 "
   ]
  },
  {
   "cell_type": "markdown",
   "id": "05ccada8-3ee8-408d-beb0-8f074d84530c",
   "metadata": {},
   "source": [
    "# R설치ver1: (base)에 설치 "
   ]
  },
  {
   "cell_type": "markdown",
   "id": "f8d127ec-7103-41e8-b4c3-893bb7871ac0",
   "metadata": {},
   "source": [
    "`-` 설치전: 기존의 R 삭제 \n",
    "\n",
    "```default\n",
    "conda remove r-base -y \n",
    "sudo apt-get remove r-base-core \n",
    "sudo apt purge r-base* r-recommended r-cran-*\n",
    "sudo apt autoremove\n",
    "```"
   ]
  },
  {
   "cell_type": "markdown",
   "id": "a80c2d34-25a4-4574-baa9-6fc2ebf83cd5",
   "metadata": {},
   "source": [
    "`-` [R설치전 준비작업](https://cran.r-project.org/bin/linux/ubuntu/fullREADME.html): 나노에디터를 키고 /etc/apt/sources.list를 연다. \n",
    "\n",
    "```default\n",
    "sudo nano /etc/apt/sources.list\n",
    "```\n",
    "\n",
    "화살표로 이동하여 맨아래로 간뒤에 아래중 하나를 추가한다. (나는 focal-cran40으로 추가함)\n",
    "\n",
    "```default\n",
    "deb https://cloud.r-project.org/bin/linux/ubuntu impish-cran40/\n",
    "deb https://cloud.r-project.org/bin/linux/ubuntu hirsute-cran40/\n",
    "deb https://cloud.r-project.org/bin/linux/ubuntu focal-cran40/\n",
    "deb https://cloud.r-project.org/bin/linux/ubuntu bionic-cran40/\n",
    "deb https://cloud.r-project.org/bin/linux/ubuntu xenial-cran40/\n",
    "```\n",
    "\n",
    "저장후 나노에디터 종료. 그리고 아래를 실행. \n",
    "\n",
    "```default\n",
    "sudo apt-get update\n",
    "```\n",
    "\n",
    "경우에 따라서 아래와 같은 에러메시지가 뜰 수 있다. \n",
    "\n",
    "```default\n",
    "...\n",
    "W: GPG error: https://cloud.r-project.org/bin/linux/ubuntu focal-cran40/ InRelease: The following signatures couldn't be verified because the public key is not available: NO_PUBKEY 51716619E084DAB9 \n",
    "...\n",
    "```\n",
    "\n",
    "공개키가 없어서 생기는 에러이므로 아래와 같이 가져온다. \n",
    "\n",
    "```default\n",
    "wget -qO- https://cloud.r-project.org/bin/linux/ubuntu/marutter_pubkey.asc | sudo tee -a /etc/apt/trusted.gpg.d/cran_ubuntu_key.asc\n",
    "sudo apt-key adv --keyserver keyserver.ubuntu.com --recv-keys E298A3A825C0D65DFD57CBB651716619E084DAB9\n",
    "#sudo apt-key adv --keyserver hkp://keyserver.ubuntu.com:80 --recv-keys 51716619E084DAB9\n",
    "```\n",
    "\n",
    "그리고 다시 아래를 실행\n",
    "\n",
    "```default\n",
    "sudo apt-get update\n",
    "```\n",
    "\n",
    "에러가 없이 뭔가 마무리 되어야한다. \n",
    "\n",
    "```default\n",
    "(base) cgb3@cgb3:~$ sudo apt-get update\n",
    "Ign:1 http://linux.dropbox.com/ubuntu disco InRelease\n",
    "Hit:2 http://security.ubuntu.com/ubuntu focal-security InRelease  \n",
    "Hit:3 http://kr.archive.ubuntu.com/ubuntu focal InRelease                                 \n",
    "Hit:4 http://ppa.launchpad.net/graphics-drivers/ppa/ubuntu focal InRelease                \n",
    "Hit:5 http://linux.dropbox.com/ubuntu disco Release                 \n",
    "Get:6 https://cloud.r-project.org/bin/linux/ubuntu focal-cran40/ InRelease [3,622 B]\n",
    "Hit:8 http://kr.archive.ubuntu.com/ubuntu focal-updates InRelease\n",
    "Get:9 https://cloud.r-project.org/bin/linux/ubuntu focal-cran40/ Packages [46.4 kB]\n",
    "Hit:10 http://kr.archive.ubuntu.com/ubuntu focal-backports InRelease\n",
    "Fetched 50.0 kB in 1s (36.5 kB/s)                   \n",
    "Reading package lists... Done\n",
    "```"
   ]
  },
  {
   "cell_type": "markdown",
   "id": "a2d2cb42-fc2f-4102-99ff-6783cc68c00f",
   "metadata": {},
   "source": [
    "`-` R설치 \n",
    "\n",
    "```default\n",
    "wget http://security.ubuntu.com/ubuntu/pool/main/i/icu/libicu66_66.1-2ubuntu2_amd64.deb\n",
    "sudo dpkg -i libicu66_66.1-2ubuntu2_amd64.deb\n",
    "sudo apt-get install r-base\n",
    "```"
   ]
  },
  {
   "cell_type": "markdown",
   "id": "a0c68043-1d44-4c8e-99da-7e9699e8dad9",
   "metadata": {},
   "source": [
    "`-` tidyverse 설치 (R studio 설치전에 tidyverse 설치해야함)"
   ]
  },
  {
   "cell_type": "markdown",
   "id": "f93da4b1-8f7a-4e05-a86a-e412e20e8e49",
   "metadata": {},
   "source": [
    "`-` Rstudio 설치: <https://www.rstudio.com/products/rstudio/download-server/debian-ubuntu/> \n",
    "\n",
    "> 우분투22로 설정할것!!\n",
    "\n",
    "```default\n",
    "sudo apt remove rstudio-server\n",
    "sudo apt-get install gdebi-core\n",
    "wget https://download2.rstudio.org/server/jammy/amd64/rstudio-server-2022.12.0-353-amd64.deb\n",
    "sudo gdebi rstudio-server-2022.12.0-353-amd64.deb\n",
    "```"
   ]
  },
  {
   "cell_type": "markdown",
   "id": "aa2cf36f-6833-4d2f-904e-005c40ed0db6",
   "metadata": {},
   "source": [
    "`-` Rstudio를 설치하면 `~/R/x86_64-conda-linux-gnu-library/4.1`이 새로 생성된다. \n",
    "\n",
    "- Rstudio에서 설치한 패키지는 이 폴더에 저장된다. "
   ]
  },
  {
   "cell_type": "markdown",
   "id": "47db7253-1aa0-477a-b5bd-b3abd57d1585",
   "metadata": {},
   "source": [
    "`-` 주피터와 R커널 연결 \n",
    "\n",
    "```default\n",
    "R # sudo R \n",
    "install.packages(\"IRkernel\")\n",
    "IRkernel::installspec()\n",
    "```"
   ]
  },
  {
   "cell_type": "markdown",
   "id": "413d97c2-748a-4fb7-bb5e-1df10e7e60de",
   "metadata": {},
   "source": [
    "# R설치ver2: (py38r40)에 설치 "
   ]
  },
  {
   "cell_type": "markdown",
   "id": "ee63c1ba-c222-44f6-814c-56ca56107e76",
   "metadata": {},
   "source": [
    "`-` R설치 \n",
    "\n",
    "```default\n",
    "(py38r40) conda install -c conda-forge r-essentials=4.0\n",
    "```\n",
    "\n",
    "이러면 콘다환경에는 R이 깔리고 base에는 R이 깔리지 않는다. "
   ]
  },
  {
   "cell_type": "markdown",
   "id": "463c1992-af5e-4e38-b452-b9a46a173c0a",
   "metadata": {},
   "source": [
    "`-` 커널연결 "
   ]
  },
  {
   "cell_type": "markdown",
   "id": "3535039d-0ac4-475b-b20e-d19f8589de78",
   "metadata": {},
   "source": [
    "콘다환경에서 R을 실행한다. Rstudio가 아니라 커맨드에서 R을 실행해야한다. 그리고 아래를 실행하면 주피터랩과 R환경이 연결된다. \n",
    "\n",
    "```R\n",
    "IRkernel::installspec()\n",
    "```\n",
    "\n",
    "이제 주피터랩에서 R kernel을 사용할 수 있다. "
   ]
  },
  {
   "cell_type": "markdown",
   "id": "78a5c5cc-1795-47c3-9a3f-928da2f8a501",
   "metadata": {},
   "source": [
    "# 가상환경에서 Rstudio server 설치 (어려움) "
   ]
  },
  {
   "cell_type": "markdown",
   "id": "8c7ebb8b-a092-49cf-b21e-d8ffe79b9539",
   "metadata": {},
   "source": [
    "`-` 이제 Rstudio server를 설치하는 방법을 다룬다. \n"
   ]
  },
  {
   "cell_type": "markdown",
   "id": "e51459f5-5236-4e58-9d48-a305c55e64ea",
   "metadata": {},
   "source": [
    "\n",
    "`-` 먼저 Rstudio를 설치한다. 참고로 Rstudio server 설치하는법은 [여기](https://rstudio.com/products/rstudio/download-server/debian-ubuntu/)를 참고하라. 요약하면 터미널에서 아래3줄을 입력하기만 하면된다. \n",
    "\n",
    "```default\n",
    "(py38r40) sudo apt-get install gdebi-core\n",
    "(py38r40) wget https://download2.rstudio.org/server/bionic/amd64/rstudio-server-1.2.5033-amd64.deb\n",
    "(py38r40) sudo gdebi rstudio-server-1.2.5033-amd64.deb\n",
    "```\n",
    "\n",
    "> Warning: Rstudio 1.3x 이상을 설치하지말고 1.2x를 설치해야 한다. 이상하게 1.3x이상은 후에 서술할 Gregor Strurm가 그의 깃허브에서 제안하는 방식이 잘 동작하지 않았다. 이는 알려진 문제였고 이를 해결하는 해결책을 서술한 스레드가 있어보이긴 했지만 나는 그냥 Rstudio 1.2x를 설치하고 쓰는 것을 선택했다. "
   ]
  },
  {
   "cell_type": "markdown",
   "id": "18f65d8d-5645-448f-a9e5-1aca91a62db9",
   "metadata": {},
   "source": [
    "> Note: 이미 rstudio server 가 다른버전으로 깔려있다면 `sudo apt remove rstudio-server` 를 통하여 삭제하고 설치하자. "
   ]
  },
  {
   "cell_type": "markdown",
   "id": "98a24d4f-b3ce-4492-8284-8b42c6b1cde1",
   "metadata": {},
   "source": [
    "`-` 이제 Rstudio 설치가 끝났다. 설치된 Rstudio를 아나콘다 가상환경에 설치된 R과 연결해보자. 우선 아래를 실행한다. \n",
    "\n",
    "```default\n",
    "(py38r40) sudo apt install uuid\n",
    "(py38r40) sudo apt install git\n",
    "(py38r40) git clone https://github.com/grst/rstudio-server-conda.git\n",
    "```\n",
    "\n",
    "위에 두줄은 [Gregor Sturm](https://github.com/grst/rstudio-server-conda)이 만든 어떤 프로그램을 쓰기 위한 사전준비작업이다. 마지막줄을 실행하면 [Gregor Sturm](https://github.com/grst/rstudio-server-conda)이 만든 프로그램이 다운받아진다. 이게 프로그램 설치가 완료된것이다. 이제 컴퓨터 껐다 킬때마다 아래를 실행한다. \n",
    "\n",
    "```default\n",
    "(py38r40) ./rstudio-server-conda/local/start_rstudio_server.sh 8787 # use any free port number here. \n",
    "```\n",
    "\n",
    "이제 `192.168.0.4:8787` 따위의 주소로 접속하면 `Rstudio`를 쓸 수 있다. 참고로 system-wide Rstudio server를 죽여야 할 때가 있다. 그럴땐 아래 명령을 치면 된다. \n",
    "\n",
    "```default\n",
    "(py38r40) sudo systemctl disable rstudio-server.service\n",
    "(py38r40) sudo systemctl stop rstudio-server.service\n",
    "```"
   ]
  },
  {
   "cell_type": "markdown",
   "id": "ad7d48a1-0144-4860-8aed-baa767aabfac",
   "metadata": {},
   "source": [
    "# 자주 설치하는 패키지 리스트"
   ]
  },
  {
   "cell_type": "markdown",
   "id": "d1029b8c-8379-432e-b312-8004b5683aee",
   "metadata": {},
   "source": [
    "`-` 아래를 미리 깔아두자.. \n",
    "\n",
    "```default\n",
    "# conda install -c conda-forge notebook\n",
    "conda install pytorch torchvision torchaudio cudatoolkit=11.3 -c pytorch\n",
    "conda install -c conda-forge plotly \n",
    "pip install plotnine\n",
    "pip install seaborn\n",
    "pip install opencv-python\n",
    "pip install folium\n",
    "pip install pandas_datareader\n",
    "conda install -c conda-forge r-essentials=4 \n",
    "pip install rpy2\n",
    "conda install -c conda-forge python-graphviz\n",
    "```"
   ]
  },
  {
   "cell_type": "markdown",
   "id": "e751c9de-974a-436a-87d9-d1529e90d3f8",
   "metadata": {},
   "source": [
    "`-` tensorflow-gpu 는 현재(2022-03-06) python=3.10 에서 동작함 \n",
    "\n",
    "```default\n",
    "conda create -n py310 python=3.10 \n",
    "conda activate py310 \n",
    "conda install -c conda-forge tensorflow-gpu \n",
    "```"
   ]
  },
  {
   "cell_type": "markdown",
   "id": "58983c16-6f21-40ee-8b79-c3ded63cf665",
   "metadata": {},
   "source": [
    "`-` 아래를 설치하면 좋음 \n",
    "\n",
    "```default\n",
    "sudo apt install mc \n",
    "```"
   ]
  },
  {
   "cell_type": "markdown",
   "id": "99dc4e66-7ee5-4fc1-9d21-b1079186d9e5",
   "metadata": {},
   "source": [
    "# 터미널 예쁘게 만들기 "
   ]
  },
  {
   "cell_type": "markdown",
   "id": "296f46ba-f08a-43cd-abd8-d6439eeb3f0a",
   "metadata": {},
   "source": [
    "`-` zsh 설치 + oh my zsh 설치 \n",
    "```default\n",
    "sudo install zsh \n",
    "sh -c \"$(curl -fsSL https://raw.githubusercontent.com/robbyrussell/oh-my-zsh/master/tools/install.sh)\"\n",
    "```\n",
    "\n",
    "`-` 테마변경 \n",
    "\n",
    "(1) .zshrc 파일 열기 \n",
    "\n",
    "```default\n",
    "nano ~/.zshrc \n",
    "```\n",
    "\n",
    "(2) 아래의 내용 수정 \n",
    "\n",
    "```default\n",
    "...\n",
    "ZSH_THEME=\"agnoster\"\n",
    "...\n",
    "```\n",
    "\n",
    "`-` 색상변경\n",
    "\n",
    "(1) 아래의 파일 열기 \n",
    "\n",
    "```default\n",
    "cd ~/.oh-my-zsh/themes/\n",
    "nano agnoster.zsh-theme  \n",
    "```\n",
    "\n",
    "(2) 내용수정 \n",
    "\n",
    "```default\n",
    "...\n",
    "prompt_dir() {\n",
    "  prompt_segment 39d $CURRENT_FG '%~'\n",
    "}\n",
    "...\n",
    "```"
   ]
  },
  {
   "cell_type": "markdown",
   "id": "0ff7a47a-6cf1-46c5-869e-f59b33a1dffb",
   "metadata": {},
   "source": [
    "# sublime text and TeX (개발용 서버일 경우 생략 가능)"
   ]
  },
  {
   "cell_type": "markdown",
   "id": "7d067ad6-608c-483b-b88b-f07cbf4af156",
   "metadata": {},
   "source": [
    "`-` 'Ubuntu Software'에 가서 'sublime Text'를 치면 다운받을 수 있다. 다운받은뒤에 'file' -> 'open folder'를 활용하여 깃허브의 로칼저장소를 열어두면 편리하다. \n",
    "\n",
    "`-` 아래를 실행하여 TeX을 깐다. \n",
    "```default\n",
    "sudo apt install texlive-full\n",
    "```\n",
    "\n",
    "`-` 이제 sublime과 latex을 연결하여보자. [여기](https://latextools.readthedocs.io/en/latest/install/#requirements-and-setup)를 참고하자. (1) sublime을 키고 '컨트롤+쉬프트+p'를 눌러 'Install Package Control' 선택 (2) 다시 '컨트롤+쉬프트+p' 를 눌러 'Package Control: Install Package'를 실행 (3) 그러면 바로 검색창이 나오는데 거기서 'LaTeXTools'를 입력해서 실행 (4) 다시 '컨트롤+쉬프트+p'를 누르고 'LaTeXTools: Check system' 선택. 모두 'available'이 나오면 잘 설치된 것이다. \n",
    "\n",
    "`-` `*.tex`파일을 열고 '컨트롤+b'를 누르자. 처음이면 어떤 메뉴들이 보일텐데 그냥 'Latex'을 선택하자. 그러면 코딩결과가 pdf로 나온다. \n",
    "\n",
    "`-` (수식미리보기) 'Perferences' > 'Packages Setting' > 'LaTeXTools' > 'Settings-User'를 선택한다. '93번째라인'에 'preview_math_mode'를 \"all\"로 바꾼다. 그러면 수식들이 미리 출력된다. 그외에도 자유롭게 셋팅을 조정할 수 있다. 원래셋팅은  'Perferences' > 'Packages Setting' > 'LaTeXTools' > 'Settings-Defaults' 에 있다. "
   ]
  }
 ],
 "metadata": {
  "kernelspec": {
   "display_name": "Python 3 (ipykernel)",
   "language": "python",
   "name": "python3"
  },
  "language_info": {
   "codemirror_mode": {
    "name": "ipython",
    "version": 3
   },
   "file_extension": ".py",
   "mimetype": "text/x-python",
   "name": "python",
   "nbconvert_exporter": "python",
   "pygments_lexer": "ipython3",
   "version": "3.10.13"
  },
  "widgets": {
   "application/vnd.jupyter.widget-state+json": {
    "state": {},
    "version_major": 2,
    "version_minor": 0
   }
  }
 },
 "nbformat": 4,
 "nbformat_minor": 5
}
