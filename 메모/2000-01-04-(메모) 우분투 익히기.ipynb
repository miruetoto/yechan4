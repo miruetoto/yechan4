{
 "cells": [
  {
   "cell_type": "raw",
   "id": "2d65d52e-0661-4268-be4c-0162cb7de7e1",
   "metadata": {},
   "source": [
    "---\n",
    "title: \"(메모) 우분투 익히기\"\n",
    "author: \"신록예찬\"\n",
    "date: \"01/04/2000\"\n",
    "---"
   ]
  },
  {
   "cell_type": "markdown",
   "id": "09de66d4",
   "metadata": {},
   "source": [
    "# 1. 기본디렉토리 설명 "
   ]
  },
  {
   "cell_type": "markdown",
   "id": "1d60f394",
   "metadata": {},
   "source": [
    "`/root` \n",
    "\n",
    "- 루트사용자의 홈 디렉토리\n",
    "- sudo로도 들어갈 수 없음 "
   ]
  },
  {
   "cell_type": "markdown",
   "id": "82e93218",
   "metadata": {},
   "source": [
    "`/etc`\n",
    "\n",
    "- 리눅스 시스템 전반적인 환경설정 파일들을 모은 디렉터리임. \n",
    "- 이 디렉터리의 모든 파일은 텍스트형식임. \n",
    "- `/etc/password` 사용자 계정정보 "
   ]
  },
  {
   "cell_type": "markdown",
   "id": "28cb523a",
   "metadata": {},
   "source": [
    "`/home`\n",
    "\n",
    "- 사용자의 홈 디렉터리"
   ]
  },
  {
   "cell_type": "markdown",
   "id": "1298ef43",
   "metadata": {},
   "source": [
    "`/mnt` \n",
    "\n",
    "- 다른 파일 시스템이 파일 시스템에 연결되거나 마운트 되는 위치"
   ]
  },
  {
   "cell_type": "markdown",
   "id": "0895c024",
   "metadata": {},
   "source": [
    "`/media` \n",
    "\n",
    "- CD, USB 장치가 파일 시스템에 연결되거나 마운트되는 위치임"
   ]
  },
  {
   "cell_type": "markdown",
   "id": "cb75462c",
   "metadata": {},
   "source": [
    "`/bin` \n",
    "\n",
    "- 시스템 부팅과 실행에 필요한 바이너리(=윈도도의 실행파일=macOS의 애플리케이션)들을 포함"
   ]
  },
  {
   "cell_type": "markdown",
   "id": "952752bc",
   "metadata": {},
   "source": [
    "`/lib` \n",
    "\n",
    "- 시스템 프로그램에서 사용하는 공유 라이브러리가 저장. 윈도우즈의 DLL과 비슷한 것. "
   ]
  },
  {
   "cell_type": "markdown",
   "id": "01109659",
   "metadata": {},
   "source": [
    "`/usr` \n",
    "\n",
    "- 사용자가 사용하는 모든 프로그램과 지원파일들 (Program files + 프로그램들의 설정값) \n",
    "- `/usr/bin` 리눅스 배포판이 설치한 실행 프로그램들이 있다. (여기에 R이 깔린다!!)\n",
    "    - hp-align, hp-check, hp-config_usb-printer ... \n",
    "    - X11 \n",
    "    - vi \n",
    "    - gcc\n",
    "    - su, sudo \n",
    "    - sar\n",
    "    - ssh, ssh-agent, ssh-keygen, .... \n",
    "    - nvidia-smi \n",
    "\n",
    "- `/usr/lib` 여기에는 `/usr/bin`에 있는 프로그램들을 위한 공유라이브러리가 저장된다. 여기에 R folder가 있다. (R패키지는 여기말고 다른데 깔림)\n",
    "\n",
    "- `/usr/local/bin`  소스코드로 컴파일된 파일, 보통 비어있음 \n",
    "\n",
    "- `/usr/local/lib/R/site-library` R패키지가 설치되어있음, 예를들면 tidyverse"
   ]
  },
  {
   "cell_type": "markdown",
   "id": "5f48481a",
   "metadata": {},
   "source": [
    "# 2. 기본명령어"
   ]
  },
  {
   "cell_type": "markdown",
   "id": "161a1b96",
   "metadata": {},
   "source": [
    "## pwd, whoami"
   ]
  },
  {
   "cell_type": "markdown",
   "id": "df6da0d8",
   "metadata": {},
   "source": [
    "`-` 현재위치확인\n",
    "\n",
    "```bash\n",
    "(base) cgb2@cgb2-desktop:~$ pwd\n",
    "/home/cgb2\n",
    "```"
   ]
  },
  {
   "cell_type": "markdown",
   "id": "dc6dcdcd",
   "metadata": {},
   "source": [
    "`-` 유저확인\n",
    "\n",
    "```bash\n",
    "### 예시1: 유저확인 \n",
    "(base) cgb2@cgb2-desktop:~$ whoami \n",
    "cgb2 \n",
    "\n",
    "### 예시2: 루트권한 획득이후 유저확인 \n",
    "(base) cgb2@cgb2-desktop:~$ sudo -i # 루트권한 획득\n",
    "root@cgb2-desktop:~# whoami \n",
    "root \n",
    "\n",
    "### 예시3: 일반유저로 전환후 유저확인\n",
    "root@cgb2-desktop:~# su - cgb2 \n",
    "(base) cgb2@cgb2-desktop:~$ whoami\n",
    "cgb2\n",
    "```"
   ]
  },
  {
   "cell_type": "markdown",
   "id": "c31e24c1",
   "metadata": {},
   "source": [
    "## cd, ls"
   ]
  },
  {
   "cell_type": "markdown",
   "id": "8e4b620e",
   "metadata": {},
   "source": [
    "`-` 홈디렉토리로 이동 + 목록"
   ]
  },
  {
   "cell_type": "markdown",
   "id": "e03c264e",
   "metadata": {},
   "source": [
    "```bash\n",
    "(base) cgb2@cgb2-desktop:~/Dropbox$ cd ~\n",
    "(base) cgb2@cgb2-desktop:~$ ls\n",
    "Desktop                 julia-1.8.5\n",
    "Documents               julia-1.8.5-linux-x86_64.tar.gz\n",
    "Downloads               lm.txt\n",
    "Dropbox                 nbdev_tst\n",
    "Music                   quarto-1.0.37-linux-amd64.deb\n",
    "Pictures                rstudio-server-2021.09.2-382-amd64.deb\n",
    "Public                  scikit_learn_data\n",
    "R                       snap\n",
    "Templates               test.txt\n",
    "Videos                  v3net\n",
    "anaconda3               v3net-linux-3.6.10.11.805.tar.Z\n",
    "blacklist-nouveau.conf  vscode_cli.tar.gz\n",
    "code\n",
    "```"
   ]
  },
  {
   "cell_type": "markdown",
   "id": "5c9ddfb9",
   "metadata": {},
   "source": [
    "`-` 루트로 이동 + 목록"
   ]
  },
  {
   "cell_type": "markdown",
   "id": "500c3615",
   "metadata": {},
   "source": [
    "```bash\n",
    "(base) cgb2@cgb2-desktop:~/Dropbox$ cd /\n",
    "(base) cgb2@cgb2-desktop:/$ ls\n",
    "bin    dev   lib    libx32      media  proc  sbin  swapfile  usr\n",
    "boot   etc   lib32  log         mnt    root  snap  sys       var\n",
    "cdrom  home  lib64  lost+found  opt    run   srv   tmp\n",
    "```"
   ]
  },
  {
   "cell_type": "markdown",
   "id": "96e53e1c",
   "metadata": {},
   "source": [
    "`-` ls 자세하게\n",
    "\n",
    "```bash\n",
    "(base) cgb2@cgb2-desktop:/$ ls -l\n",
    "total 2097256\n",
    "lrwxrwxrwx   1 root  root           7  2월 11  2022 bin -> usr/bin\n",
    "drwxr-xr-x   3 root  root        4096  7월 27 12:19 boot\n",
    "drwxrwxr-x   2 root  root        4096  2월 11  2022 cdrom\n",
    "drwxr-xr-x  19 root  root        4480  7월 28 12:19 dev\n",
    "drwxr-xr-x 143 root  root       12288  7월 27 21:08 etc\n",
    "drwxr-xr-x   6 root  root        4096  7월  7 11:14 home\n",
    "lrwxrwxrwx   1 root  root           7  2월 11  2022 lib -> usr/lib\n",
    "lrwxrwxrwx   1 root  root           9  2월 11  2022 lib32 -> usr/lib32\n",
    "lrwxrwxrwx   1 root  root           9  2월 11  2022 lib64 -> usr/lib64\n",
    "lrwxrwxrwx   1 root  root          10  2월 11  2022 libx32 -> usr/libx32\n",
    "drwxr-x---   2 root  root        4096  2월 11  2022 log\n",
    "drwx------   2 root  root       16384  2월 11  2022 lost+found\n",
    "drwxr-xr-x   2 root  root        4096  8월 19  2021 media\n",
    "drwxr-xr-x   2 root  root        4096  8월 19  2021 mnt\n",
    "drwxr-xr-x   4 jaein saned       4096  7월 16 11:21 opt\n",
    "dr-xr-xr-x 418 root  root           0  7월 28 12:16 proc\n",
    "drwx------   6 root  root        4096  7월 27 12:21 root\n",
    "drwxr-xr-x  40 root  root        1220  8월  3 13:31 run\n",
    "lrwxrwxrwx   1 root  root           8  2월 11  2022 sbin -> usr/sbin\n",
    "drwxr-xr-x  14 root  root        4096  7월 16 11:10 snap\n",
    "drwxr-xr-x   2 root  root        4096  8월 19  2021 srv\n",
    "-rw-------   1 root  root  2147483648  2월 11  2022 swapfile\n",
    "dr-xr-xr-x  13 root  root           0  7월 28 12:16 sys\n",
    "drwxrwxrwt  19 root  root       20480  8월  3 13:29 tmp\n",
    "drwxr-xr-x  14 root  root        4096  8월 19  2021 usr\n",
    "drwxr-xr-x  15 root  root        4096  7월 30  2022 var\n",
    "```"
   ]
  },
  {
   "cell_type": "markdown",
   "id": "ac673800",
   "metadata": {},
   "source": [
    "## -h, man "
   ]
  },
  {
   "cell_type": "markdown",
   "id": "a80d4b9b-81f6-48e7-b05f-e396cd1ee7d5",
   "metadata": {},
   "source": [
    "`-` 도움말확인 "
   ]
  },
  {
   "cell_type": "markdown",
   "id": "b360d9dc-cdd6-4580-81ae-5b86d1ba9411",
   "metadata": {},
   "source": [
    "```bash\n",
    "(base) cgb2@cgb2-desktop:~$ git --help\n",
    "usage: git [--version] [--help] [-C <path>] [-c <name>=<value>]\n",
    "           [--exec-path[=<path>]] [--html-path] [--man-path] [--info-path]\n",
    "           [-p | --paginate | -P | --no-pager] [--no-replace-objects] [--bare]\n",
    "           [--git-dir=<path>] [--work-tree=<path>] [--namespace=<name>]\n",
    "           <command> [<args>]\n",
    "\n",
    "These are common Git commands used in various situations:\n",
    "\n",
    "start a working area (see also: git help tutorial)\n",
    "   clone             Clone a repository into a new directory\n",
    "   init              Create an empty Git repository or reinitialize an existing one\n",
    "\n",
    "work on the current change (see also: git help everyday)\n",
    "   add               Add file contents to the index\n",
    "   mv                Move or rename a file, a directory, or a symlink\n",
    "   restore           Restore working tree files\n",
    "   rm                Remove files from the working tree and from the index\n",
    "   sparse-checkout   Initialize and modify the sparse-checkout\n",
    "\n",
    "examine the history and state (see also: git help revisions)\n",
    "   bisect            Use binary search to find the commit that introduced a bug\n",
    "   diff              Show changes between commits, commit and working tree, etc\n",
    "   grep              Print lines matching a pattern\n",
    "   log               Show commit logs\n",
    "   show              Show various types of objects\n",
    "   status            Show the working tree status\n",
    "\n",
    "grow, mark and tweak your common history\n",
    "   branch            List, create, or delete branches\n",
    "   commit            Record changes to the repository\n",
    "   merge             Join two or more development histories together\n",
    "   rebase            Reapply commits on top of another base tip\n",
    "   reset             Reset current HEAD to the specified state\n",
    "   switch            Switch branches\n",
    "   tag               Create, list, delete or verify a tag object signed with GPG\n",
    "\n",
    "collaborate (see also: git help workflows)\n",
    "   fetch             Download objects and refs from another repository\n",
    "   pull              Fetch from and integrate with another repository or a local branch\n",
    "   push              Update remote refs along with associated objects\n",
    "\n",
    "'git help -a' and 'git help -g' list available subcommands and some\n",
    "concept guides. See 'git help <command>' or 'git help <concept>'\n",
    "to read about a specific subcommand or concept.\n",
    "See 'git help git' for an overview of the system.\n",
    "```"
   ]
  },
  {
   "cell_type": "markdown",
   "id": "eb80c55d-b427-4eaf-9840-b9f0fee07120",
   "metadata": {},
   "source": [
    "`-` 메뉴얼 확인 "
   ]
  },
  {
   "cell_type": "markdown",
   "id": "64127b38-05e3-47e2-8850-33cfde20a768",
   "metadata": {},
   "source": [
    "```bash\n",
    "(base) cgb2@cgb2-desktop:~$ man git\n",
    "```"
   ]
  },
  {
   "cell_type": "markdown",
   "id": "e2bf4d1f-f765-4fe1-ac29-ab2166226078",
   "metadata": {},
   "source": [
    "## cp, mv, mkdir, rm "
   ]
  },
  {
   "cell_type": "markdown",
   "id": "a06c00a3",
   "metadata": {},
   "source": [
    "`-` 카피\n",
    "\n",
    "```bash\n",
    "cp file1 file2 # file1을 복사하여 file2를 새로 만듬. file2가 이미 있다면 file1의 내용을 덮어씀 \n",
    "cp -r dir1 dir2 # dir1의 모든파일을 복사하여 dir2로 이동한뒤 붙어넣음. dir2가 없다면 새로 만듬. 기존의 dir2에 있던 파일이 삭제되는건 아님 \n",
    "```"
   ]
  },
  {
   "cell_type": "markdown",
   "id": "84324ad9-a565-4999-8e25-567f6405da5b",
   "metadata": {},
   "source": [
    "`-` 이동 "
   ]
  },
  {
   "cell_type": "markdown",
   "id": "5c6088da-ffe1-47fb-a2d4-d057b2467e71",
   "metadata": {},
   "source": [
    "```bash\n",
    "mv file1 file2 # file1을 이동하여 file2로 이름바꿈. file2가 이미 있다면 file1의 내용을 덮어씀 \n",
    "mv -r dir1 dir2 # dir1의 모든파일을 잘라내어 dir2로 이동. \n",
    "```"
   ]
  },
  {
   "cell_type": "markdown",
   "id": "e6eaad16-ff90-4f46-9147-7dc49b4e15f5",
   "metadata": {},
   "source": [
    "`-` 디렉토리 생성 \n",
    "\n",
    "```bash\n",
    "mkdir temp\n",
    "mkdir temp1, temp2, temp3 # 여러개를 만듬\n",
    "```"
   ]
  },
  {
   "cell_type": "markdown",
   "id": "4a0216cc-e8e3-4601-a81f-8fc8b7608241",
   "metadata": {},
   "source": [
    "`-` 삭제 \n",
    "\n",
    "```bash\n",
    "rm file1 # file1삭제 \n",
    "rm -r file1 dir1 # file1삭제 dir1폴더삭제 \n",
    "rm -rf file1 dir1 # 위와 동일한데 file1이나 dir1이 존재하지 않더라고 rm이 실행\n",
    "```"
   ]
  },
  {
   "cell_type": "markdown",
   "id": "6af8daa7",
   "metadata": {},
   "source": [
    "`-` -v(verbose)를 쓰면 친절한 느낌이 든다. \n",
    "\n",
    "```bash\n",
    "(base) cgb2@cgb2-desktop:~/Dropbox$ cp *.txt temppp -v\n",
    "'colab.txt' -> 'temppp/colab.txt'\n",
    "```"
   ]
  },
  {
   "cell_type": "markdown",
   "id": "62357e60-0927-4fea-a5da-84687f86ee87",
   "metadata": {},
   "source": [
    "## scp"
   ]
  },
  {
   "cell_type": "markdown",
   "id": "a9a98025-d99c-41be-a522-3842bb83b764",
   "metadata": {},
   "source": [
    "`-` cgb2에 있는 lm.txt를 cgb5로 옮김. 포트는 cgb5에 대응하는 포트"
   ]
  },
  {
   "cell_type": "markdown",
   "id": "694ae79d-3038-4c37-8460-0a350752e84f",
   "metadata": {},
   "source": [
    "```bash\n",
    "cgb2@cgb2-desktop:~$ scp -P 4653 lm.txt cgb5@210.117.173.185:~\n",
    "```"
   ]
  },
  {
   "cell_type": "markdown",
   "id": "325ad040-7e7b-4f5d-9d48-77e3b5a4278c",
   "metadata": {},
   "source": [
    "`-` cgb2에 있는 lm.txt를 맥으로 가져옴. 포트는 cgb2에 대응하는 포트 "
   ]
  },
  {
   "attachments": {
    "a8650aea-5cbb-4929-9c6a-5fe64651eb9c.png": {
     "image/png": "[encoded data removed]"
    }
   },
   "cell_type": "markdown",
   "id": "1e01aca2-bafd-439f-8fe4-e2237d878dd4",
   "metadata": {},
   "source": [
    "![](attachment:a8650aea-5cbb-4929-9c6a-5fe64651eb9c.png)"
   ]
  },
  {
   "cell_type": "markdown",
   "id": "d871e688-ad87-4cea-aab4-211026f79a6f",
   "metadata": {},
   "source": [
    "## find"
   ]
  },
  {
   "cell_type": "markdown",
   "id": "0288d4da-1b78-4e5c-a58c-99f8eb04f508",
   "metadata": {},
   "source": [
    "`-` `Dropbox`라는 이름이 포함된 폴더 찾기 "
   ]
  },
  {
   "cell_type": "markdown",
   "id": "848115b1-00a6-4d05-a480-377658601c75",
   "metadata": {},
   "source": [
    "```bash\n",
    "find ~ -type d -name \"Dropbox\"\n",
    "```"
   ]
  },
  {
   "cell_type": "markdown",
   "id": "00e61cd1-afbf-4be7-a012-c39c5b945288",
   "metadata": {},
   "source": [
    "- 여기에서 `~`는 검색을 시작할 최상위 디렉토리를 쓴다.\n",
    "- 여기에서 `-type d`는 디렉토리라는 의미이다. "
   ]
  },
  {
   "cell_type": "markdown",
   "id": "608982e1-5134-4af1-98b7-f6d6a8090298",
   "metadata": {},
   "source": [
    "`-` `sy.tex`이라는 파일찾기 "
   ]
  },
  {
   "cell_type": "markdown",
   "id": "45eb25f1-c330-41f7-be7e-8ecace7360a1",
   "metadata": {},
   "source": [
    "```bash\n",
    "find ~ -type f -name \"sy.tex\"\n",
    "```"
   ]
  },
  {
   "cell_type": "markdown",
   "id": "03fb5fb3-3130-450e-8299-184cb8e3e835",
   "metadata": {},
   "source": [
    "- 여기에서 `~`는 검색을 시작할 최상위 디렉토리를 쓴다.\n",
    "- 여기에서 `-type d`는 디렉토리라는 의미이다. "
   ]
  },
  {
   "cell_type": "markdown",
   "id": "d60c0df2-f529-4e24-8f0c-afbd7d69e142",
   "metadata": {},
   "source": [
    "# 3. 설치관련 "
   ]
  },
  {
   "cell_type": "markdown",
   "id": "b201d7cc-6aaf-421c-bb13-98795a767ccc",
   "metadata": {},
   "source": [
    "## wget "
   ]
  },
  {
   "cell_type": "markdown",
   "id": "9c75f7a2-06f7-440f-8a24-fa738f0b105e",
   "metadata": {},
   "source": [
    "`-` 인터넷에서 파일 다운로드 "
   ]
  },
  {
   "cell_type": "markdown",
   "id": "e613e8a0-8298-4500-9abb-985c94fa90a4",
   "metadata": {},
   "source": [
    "```bash\n",
    "wget https://download2.rstudio.org/server/bionic/amd64/rstudio-server-1.2.5033-amd64.deb\n",
    "```"
   ]
  },
  {
   "cell_type": "markdown",
   "id": "1442d287-bfc8-44e7-8777-ad64f5449637",
   "metadata": {},
   "source": [
    "## gdebi, deb"
   ]
  },
  {
   "cell_type": "markdown",
   "id": "7552757b-81f6-4c3f-9791-8e95a64f3468",
   "metadata": {},
   "source": [
    "`-` deb파일을 gdebi로 설치하는 방법"
   ]
  },
  {
   "cell_type": "markdown",
   "id": "b723449e-6cc8-45f8-84ae-fcc160eb90f0",
   "metadata": {},
   "source": [
    "```bash\n",
    "sudo gdebi rstudio-server-1.2.5033-amd64.deb\n",
    "```"
   ]
  },
  {
   "cell_type": "markdown",
   "id": "d5eaffcc-ef6e-472e-8cd3-2bdeb2c3f7c7",
   "metadata": {},
   "source": [
    "`-` deb파일을 dpkg를 이용하여 설치하는 방법"
   ]
  },
  {
   "cell_type": "markdown",
   "id": "4dffe64c-7cf7-4327-8564-07f447475dc1",
   "metadata": {},
   "source": [
    "```bash\n",
    "dpkg -i quarto-1.2.335-linux-amd64.deb # 설치\n",
    "dpkg -r quarto # 삭제 \n",
    "```"
   ]
  },
  {
   "cell_type": "markdown",
   "id": "0c0e021f-2470-472a-a4cc-e6e6fb597157",
   "metadata": {},
   "source": [
    "`-` gdebi, deb의 차이\n",
    "\n",
    "- gdebi는 관련패키지를 모두 찾아서 설치 dpkg는 하나의 패키지만 설치. 즉 gdebi는 conda 느낌이고 dpkg는 pip 느낌 \n",
    "- gdebi는 별도의 삭제옵션을 지원하지 않음. 따라서 gdebi로 설치한 deb을 삭제하려면 머리아플수도? "
   ]
  },
  {
   "cell_type": "markdown",
   "id": "52761ef0-7543-4898-ac02-b84278bac1e4",
   "metadata": {},
   "source": [
    "`-` gdebi로 설치한 패키지를 삭제하는 방법"
   ]
  },
  {
   "cell_type": "markdown",
   "id": "63564de3-fcb2-401f-b631-df404027983a",
   "metadata": {},
   "source": [
    "::: {.callout-note}\n",
    "\n",
    "### Chat-GPT 답변\n",
    "\n",
    "`gdebi`로 패키지를 삭제하는 것은 아쉽게도 직접적으로 지원하지 않습니다. `gdebi`는 주로 패키지를 설치할 때 사용되는 도구이며, 패키지의 삭제에는 사용되지 않습니다. 패키지를 삭제하려면 다른 도구인 `dpkg`나 패키지 관리자 명령을 사용해야 합니다.\n",
    "\n",
    "패키지를 삭제하는 방법은 아래와 같습니다. 패키지를 삭제하기 전에 해당 패키지가 다른 의존하는 패키지에 영향을 주지 않는지 주의깊게 확인하시기 바랍니다.\n",
    "\n",
    "**dpkg를 사용하여 패키지 삭제하기:**\n",
    "\n",
    "```bash\n",
    "sudo dpkg -r 패키지이름\n",
    "```\n",
    "\n",
    "여기서 `패키지이름`은 삭제하려는 패키지의 이름입니다. 이 명령을 실행하면 해당 패키지가 삭제됩니다.\n",
    "\n",
    "**apt를 사용하여 패키지 삭제하기 (의존성 관리 포함):**\n",
    "\n",
    "```bash\n",
    "sudo apt remove 패키지이름\n",
    "```\n",
    "\n",
    "위 명령은 `apt`를 통해 패키지를 삭제하며, 의존성을 포함하여 관련된 패키지들도 자동으로 처리합니다. 이 방법은 일반적으로 패키지 삭제에 더 효과적입니다.\n",
    "\n",
    "위의 방법 중 하나를 선택하여 패키지를 삭제할 수 있습니다. 패키지 삭제 시에는 주의하여 의존성 문제가 발생하지 않도록 해야 합니다.\n",
    "\n",
    ":::"
   ]
  },
  {
   "cell_type": "markdown",
   "id": "54c5a636-8b05-4672-9394-125da7624ce5",
   "metadata": {},
   "source": [
    "## apt "
   ]
  },
  {
   "cell_type": "markdown",
   "id": "adf77dab-9c52-473f-923f-1229efa8c6ed",
   "metadata": {},
   "source": [
    "```bash\n",
    "sudo apt update\n",
    "sudo apt list \n",
    "sudo apt install {openssh-server}  \n",
    "sudo apt remove {r-base-core}\n",
    "sudo apt purge {r-base* r-recommended r-cran-*}\n",
    "sudo apt autoremove\n",
    "```"
   ]
  },
  {
   "cell_type": "markdown",
   "id": "0986de36-7693-4962-9375-f3979f8521e4",
   "metadata": {},
   "source": [
    "`-` sudo apt-get과 sudo apt 차이? 별 차이 없는듯\n",
    "\n",
    "- <https://askubuntu.com/questions/445384/what-is-the-difference-between-apt-and-apt-get>\n",
    "\n",
    "> They are very similar command line tools available in Trusty (14.04) and later. apt-get and apt-cache's most commonly used commands are available in apt. apt-get may be considered as lower-level and \"back-end\", and support other APT-based tools. apt is designed for end-users (human) and its output may be changed between versions. "
   ]
  },
  {
   "cell_type": "markdown",
   "id": "8e4ff1ad-0dc1-4378-a378-8d798865bbfc",
   "metadata": {},
   "source": [
    "## conda \n"
   ]
  },
  {
   "cell_type": "markdown",
   "id": "eb99e9e5-64e7-481f-99f7-93eb7b0bc59b",
   "metadata": {},
   "source": [
    "```bash\n",
    "conda env list\n",
    "conda list \n",
    "conda install -c conda-forge jupyterlab \n",
    "conda install -c conda-forge r-devtools\n",
    "conda remove jupyterlab \n",
    "conda remove r-base\n",
    "conda update -n py38r40 scipy # conda update scipy\n",
    "```\n"
   ]
  },
  {
   "cell_type": "markdown",
   "id": "b3f53879-0cce-4c64-b4a3-2d17d9f5fac3",
   "metadata": {},
   "source": [
    "## pip"
   ]
  },
  {
   "cell_type": "markdown",
   "id": "5708b49c-4a52-4565-8e6b-10749fcafb90",
   "metadata": {},
   "source": [
    "```bash\n",
    "pip\n",
    "pip list\n",
    "pip list > list.txt\n",
    "pip freeze # 좀 더 자세히 나온다 \n",
    "pip freeze > list.txt \n",
    "pip show matplotlib # 설치된패키지 정보가 나옴. 좋음.\n",
    "pip install rpy2\n",
    "pip install -r list.txt \n",
    "pip install dash==1.13.3\n",
    "pip install jupyterlab \"ipywidgets>=7.5\"\n",
    "pip install -U numpy\n",
    "pip install --upgrade pip\n",
    "pip install --upgrade tensorflow\n",
    "pip uninstall matplotlib\n",
    "```"
   ]
  },
  {
   "cell_type": "markdown",
   "id": "2a42c480-4184-49fc-bfe8-378b066e0b6d",
   "metadata": {},
   "source": [
    "# 4. 리소스 모니터링 "
   ]
  },
  {
   "cell_type": "markdown",
   "id": "76a66ad2-d6a8-459c-ba9d-ea3396982d86",
   "metadata": {},
   "source": [
    "```bash\n",
    "df # disk \n",
    "free # memory \n",
    "nvidia-smi \n",
    "watch -n 5 nvidia-smi -a --display=utilization\n",
    "top\n",
    "sar -1 r \n",
    "```"
   ]
  },
  {
   "cell_type": "markdown",
   "id": "4092ac31-47e4-420c-8a22-7920c1200899",
   "metadata": {},
   "source": [
    "# Appendix"
   ]
  },
  {
   "cell_type": "markdown",
   "id": "0b1c2101-b857-42a7-9f9b-13b3daeeae76",
   "metadata": {},
   "source": [
    "## A1. 덜 중요한 명령어"
   ]
  },
  {
   "cell_type": "markdown",
   "id": "03d1d902-bc33-4dca-a141-44c0431f74de",
   "metadata": {},
   "source": [
    "### file"
   ]
  },
  {
   "cell_type": "markdown",
   "id": "d0d6e41c-bee2-4b61-83ee-e27a12f9c639",
   "metadata": {},
   "source": [
    "`-` 뭐하는 파일인지 알고싶다면? \n",
    "\n",
    "```bash\n",
    "(base) cgb2@cgb2-desktop:~/Dropbox/03_yechan3$ file 1_essays.qmd \n",
    "1_essays.qmd: ASCII text\n",
    "```"
   ]
  },
  {
   "cell_type": "markdown",
   "id": "7c12a652-a6e9-498c-8f8a-6e9bedbe150f",
   "metadata": {},
   "source": [
    "### date, cal"
   ]
  },
  {
   "cell_type": "markdown",
   "id": "5f158440-ce36-47f5-9bb2-c24cefb13cd8",
   "metadata": {},
   "source": [
    "`-` 날짜\n",
    "\n",
    "```bash\n",
    "(base) cgb2@cgb2-desktop:~$ date\n",
    "2023. 08. 03. (목) 16:10:38 KST\n",
    "```"
   ]
  },
  {
   "cell_type": "markdown",
   "id": "3238c514-6335-41e4-bf61-5b98aa52ad3a",
   "metadata": {},
   "source": [
    "`-` 달력\n",
    "\n",
    "```bash\n",
    "(base) cgb2@cgb2-desktop:~$ cal\n",
    "      8월 2023         \n",
    "일 월 화 수 목 금 토  \n",
    "       1  2  3  4  5  \n",
    " 6  7  8  9 10 11 12  \n",
    "13 14 15 16 17 18 19  \n",
    "20 21 22 23 24 25 26  \n",
    "27 28 29 30 31         \n",
    "```"
   ]
  }
 ],
 "metadata": {
  "kernelspec": {
   "display_name": "Python 3 (ipykernel)",
   "language": "python",
   "name": "python3"
  },
  "language_info": {
   "codemirror_mode": {
    "name": "ipython",
    "version": 3
   },
   "file_extension": ".py",
   "mimetype": "text/x-python",
   "name": "python",
   "nbconvert_exporter": "python",
   "pygments_lexer": "ipython3",
   "version": "3.10.13"
  },
  "widgets": {
   "application/vnd.jupyter.widget-state+json": {
    "state": {},
    "version_major": 2,
    "version_minor": 0
   }
  }
 },
 "nbformat": 4,
 "nbformat_minor": 5
}
