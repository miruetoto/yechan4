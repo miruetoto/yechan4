{
 "cells": [
  {
   "cell_type": "raw",
   "id": "9022e902-0bc8-4b6a-ab52-c9623ff27a4a",
   "metadata": {},
   "source": [
    "---\n",
    "title: \"(메모) 주피터랩, 설정 및 몇가지 팁\"\n",
    "author: \"신록예찬\"\n",
    "date: \"01/08/2000\"\n",
    "---"
   ]
  },
  {
   "cell_type": "markdown",
   "id": "5970ecbe-4d03-48da-a4c0-b801ecb86bbc",
   "metadata": {},
   "source": [
    "# 주피터에 R커널을 연결할 경우 그림크기 조정 "
   ]
  },
  {
   "cell_type": "markdown",
   "id": "9ad78b3b-a533-41ee-8b22-c66081adec06",
   "metadata": {},
   "source": [
    "```default\n",
    "options(repr.plot.width=10, repr.plot.height=3,repr.plot.res=300)\n",
    "```"
   ]
  },
  {
   "cell_type": "markdown",
   "id": "aa667e0d-1a93-4e1f-8fe1-555761fa6f68",
   "metadata": {},
   "source": [
    "# 깃허브에서 `*.py`파일 불러오기"
   ]
  },
  {
   "cell_type": "markdown",
   "id": "d39b0551-e286-4630-806f-465cba0a0fd2",
   "metadata": {},
   "source": [
    "```python\n",
    "import requests\n",
    "exec(requests.get('http://miruetoto.github.io/my_code/datahandling.py').text)\n",
    "```"
   ]
  },
  {
   "cell_type": "markdown",
   "id": "ecfd4f4a-04ad-42a1-b600-e9a1f9aea797",
   "metadata": {},
   "source": [
    "# rpy2 magic "
   ]
  },
  {
   "cell_type": "markdown",
   "id": "dd331897-0900-423f-abfb-90ef7a2dffc7",
   "metadata": {},
   "source": [
    "```python\n",
    "import rpy2\n",
    "%load_ext rpy2.ipython\n",
    "```"
   ]
  },
  {
   "cell_type": "markdown",
   "id": "8163cf60-cc24-41b6-9c8b-0fd3dc1dc9d4",
   "metadata": {},
   "source": [
    "# 깃허브에서 `*.R`파일 불러오기 "
   ]
  },
  {
   "cell_type": "markdown",
   "id": "9fb3b1e6-2bb6-4a50-bc1e-f57afc0f8505",
   "metadata": {},
   "source": [
    "```python\n",
    "import rpy2\n",
    "%load_ext rpy2.ipython\n",
    "%R library(devtools)\n",
    "%R source_url(\"http://miruetoto.github.io/my_code/datahandling.r\")\n",
    "```"
   ]
  },
  {
   "cell_type": "markdown",
   "id": "a6c060bd-563f-4255-a885-cad692a341fe",
   "metadata": {},
   "source": [
    "# matplotlib 그림크기조정"
   ]
  },
  {
   "cell_type": "markdown",
   "id": "c3d1ca0a-46aa-4073-882e-58377f182a2c",
   "metadata": {},
   "source": [
    "```python\n",
    "import matplotlib as mpl \n",
    "import matplotlib.pyplot as plt \n",
    "Ipython_default=plt.rcParams.copy() # save initial value \n",
    "from matplotlib import cycler\n",
    "plt.rc('figure',dpi=150) # default value 4 figure.dpi is 72.0 \n",
    "# plt.rcParams.update(Ipython_default) # load initial value \n",
    "```"
   ]
  },
  {
   "cell_type": "markdown",
   "id": "98776678-f0d8-4623-a1a6-41a5a4ecfeb6",
   "metadata": {},
   "source": [
    "# 깃랩관련 (회사아니면 필요없음)"
   ]
  },
  {
   "cell_type": "markdown",
   "id": "f1bedd6e-bb2e-476b-b570-2c7752b40fbe",
   "metadata": {},
   "source": [
    "`-` ***load `*.py` from gitlab*** \n",
    "```python\n",
    "import gitlab\n",
    "gl = gitlab.Gitlab('http://10.178.145.54:9000', private_token='RkZz465zdyyEChamLKy8')\n",
    "gl.auth()\n",
    "project = gl.projects.get(2)\n",
    "\n",
    "# (1) load RF.py, RF_withGIT.py, RF_withR.py\n",
    "RF_py = project.files.get(file_path='modeling/RF.py', ref='fridge').decode()\n",
    "RF_GIT_py = project.files.get(file_path='utils/RF_withGIT.py', ref='fridge').decode()\n",
    "RF_R_py = project.files.get(file_path='utils/RF_withR.py', ref='fridge').decode()\n",
    "exec(str(RF_py, 'utf-8'))\n",
    "exec(str(RF_GIT_py, 'utf-8'))\n",
    "exec(str(RF_R_py, 'utf-8'))\n",
    "```\n",
    "\n",
    "`-` ***load `*.R` in gitlab***\n",
    "```python\n",
    "import gitlab\n",
    "gl = gitlab.Gitlab('http://10.178.145.54:9000', private_token='RkZz465zdyyEChamLKy8')\n",
    "gl.auth()\n",
    "project = gl.projects.get(2)\n",
    "RF_R_rcode = project.files.get(file_path='utils/RF_Rfunctions.r', ref='fridge').decode()\n",
    "# tricks for source('Rfunctions.r')\n",
    "file1 = open(\"RF_Rfunctions.r\",\"w\") \n",
    "file1.write(str(RF_R_rcode, 'utf-8'))\n",
    "file1.close() \n",
    "ro.r(\"source('RF_Rfunctions.r')\")\n",
    "import os\n",
    "os.remove('RF_Rfunctions.r')\n",
    "```"
   ]
  },
  {
   "cell_type": "markdown",
   "id": "74a5f650-fcc7-40c9-9779-c23fcd868f15",
   "metadata": {},
   "source": [
    "# `&` 옵션으로 주피터 실행"
   ]
  },
  {
   "cell_type": "markdown",
   "id": "35c9b064-982b-4253-acc1-451fd43f64a1",
   "metadata": {},
   "source": [
    "`-` 서버에 접속한다. \n",
    "\n",
    "```default\n",
    "ssh lgcgb@10.178.144.65\n",
    "```\n",
    "\n",
    "아래와 같이 끝에 `&`을 붙이면 된다. \n",
    "\n",
    "```default\n",
    "conda activate py20190129\n",
    "jupyter lab &\n",
    "```\n",
    "\n",
    "**실행하고 난뒤에는 엔터를 쳐서 빠져나온다.** 이렇게 하면 서버자체에 모니터를 연결하고 커널창을 띄운것과 같은 효과를 준다. 즉 서버에 접속한 컴퓨터를 끄는것과 상관없이 서버에서는 항상 주피터가 열려 있게 된다. "
   ]
  },
  {
   "cell_type": "markdown",
   "id": "7ccda9ef-c671-4374-b361-135cb5156c98",
   "metadata": {},
   "source": [
    "# `&` 옵션으로 실행한 주피터프로세스 죽이기 "
   ]
  },
  {
   "cell_type": "markdown",
   "id": "1dc69ea7-89c6-4654-8fd9-d7bb6ff9d8b9",
   "metadata": {},
   "source": [
    "`-` 서버에 접속한다. \n",
    "\n",
    "```default\n",
    "ssh lgcgb@10.178.144.65\n",
    "```\n",
    "\n",
    "실행된 프로세스를 찾기위해 아래를 실행한다. \n",
    "\n",
    "```default\n",
    "ps aux | grep jupyter-lab\n",
    "```\n",
    "\n",
    "결과는 아래와 같이 나온다. \n",
    "\n",
    "```default\n",
    "lgcgb    26888  0.2  0.1 326760 86724 ?        Sl   10:14   0:12 /home/lgcgb/anaconda3/envs/py20190129/bin/python3.7 /home/lgcgb/anaconda3/envs/py20190129/bin/jupyter-lab\n",
    "lgcgb    27146  0.0  0.0  15720  1008 pts/3    S+   11:56   0:00 grep --color=auto jupyter-lab\n",
    "``` \n",
    "\n",
    "26888에 해당하는 것이 주피터를 띄운 커널이다. 이 번호를 기억했다가 프로세스를 아래와 같은 명령으로 죽인다. \n",
    "\n",
    "```default\n",
    "kill 26888\n",
    "```"
   ]
  },
  {
   "cell_type": "markdown",
   "id": "ed3d8b63-f3bd-4e54-bb96-cc044f362b3f",
   "metadata": {},
   "source": [
    "# 패스워드 없이 주피터 실행 "
   ]
  },
  {
   "cell_type": "markdown",
   "id": "068bd615-11ed-495f-a2ae-e9b46c1f3ea7",
   "metadata": {},
   "source": [
    "`-` 아래와 같이 하면 외부에서 접속할때 패스워드를 입력하지 않음. \n",
    "\n",
    "```default\n",
    "jupyter notebook --ServerApp.token='' --ServerApp.password='' \n",
    "```"
   ]
  }
 ],
 "metadata": {
  "kernelspec": {
   "display_name": "Python 3 (ipykernel)",
   "language": "python",
   "name": "python3"
  },
  "language_info": {
   "codemirror_mode": {
    "name": "ipython",
    "version": 3
   },
   "file_extension": ".py",
   "mimetype": "text/x-python",
   "name": "python",
   "nbconvert_exporter": "python",
   "pygments_lexer": "ipython3",
   "version": "3.10.13"
  }
 },
 "nbformat": 4,
 "nbformat_minor": 5
}
