{
 "cells": [
  {
   "cell_type": "raw",
   "id": "11418199-005b-45c7-9ee7-9087835059ca",
   "metadata": {},
   "source": [
    "---\n",
    "title: \"(메모) 깃 익히기\"\n",
    "author: \"신록예찬\"\n",
    "date: \"01/06/2000\"\n",
    "---"
   ]
  },
  {
   "cell_type": "markdown",
   "id": "606b36ca-49fc-4fb4-9a8a-e0a80f423994",
   "metadata": {},
   "source": [
    "# clone"
   ]
  },
  {
   "cell_type": "markdown",
   "id": "a9241cde-c8be-4bbf-9eb4-33e6165dfd4c",
   "metadata": {},
   "source": [
    "github repository $\\to$ code $\\to$ clone tab, ssh를 복사 (`git@github.com:miruetoto/yechan.git`처럼 생김) "
   ]
  },
  {
   "cell_type": "markdown",
   "id": "05976c23-f275-4f7b-b221-d8b63394817d",
   "metadata": {},
   "source": [
    "터미널에서 아래를 입력 \n",
    "\n",
    "```default\n",
    "git clone git@github.com:miruetoto/yechan.git 01_yechan\n",
    "```"
   ]
  },
  {
   "cell_type": "markdown",
   "id": "4306b197-848e-46f0-bb04-7cce13435c93",
   "metadata": {
    "tags": []
   },
   "source": [
    "# pull"
   ]
  },
  {
   "cell_type": "markdown",
   "id": "e9531f97-fc07-4be6-a82f-2409ed85950a",
   "metadata": {
    "tags": []
   },
   "source": [
    "`-` 깃이 설치된 가장 상위폴더(Documents/Github/miruetoto.github.io)에 가서 아래를 입력한다.\n",
    "\n",
    "```default\n",
    "git pull\n",
    "```"
   ]
  },
  {
   "cell_type": "markdown",
   "id": "acd6624b-4326-4a66-b58c-e2685a5cb5d9",
   "metadata": {},
   "source": [
    "# branch"
   ]
  },
  {
   "cell_type": "markdown",
   "id": "0c05d871-0c90-4d35-8e68-06dc90a5a9fb",
   "metadata": {},
   "source": [
    "`-` 서버에 이미 guebin이라는 브랜치가 있다면 아래와 같이 동기화 시킨다.\n",
    "\n",
    "```default\n",
    "git chechout guebin\n",
    "git push -u origin guebin\n",
    "```\n",
    "\n",
    "여기에서 `git push -u origin guebin`을 안해도 동기화가 잘될때도 있는데 아닐때도 있다. "
   ]
  },
  {
   "cell_type": "markdown",
   "id": "865b1a97-a5b4-4ed9-b64c-22425cf50705",
   "metadata": {},
   "source": [
    "# remote "
   ]
  },
  {
   "cell_type": "markdown",
   "id": "12efb334-8920-46fc-913c-baa88c47368e",
   "metadata": {},
   "source": [
    "`-` 깃이 설치된 가장 상위폴더(Documents/Github/miruetoto.github.io)에 가서 아래를 입력하면 깃허브의 url 주소를 확인할 수 있다. \n",
    "\n",
    "```default\n",
    "(base) lgcgb2@lgcgb2:~/Documents/GitHub/miruetoto.github.io$ git remote -v\n",
    "origin https://github.com/miruetoto/miruetoto.github.io.git (fetch)\n",
    "origin https://github.com/miruetoto/miruetoto.github.io.git (push)\n",
    "upstream https://github.com/daattali/beautiful-jekyll.git (fetch)\n",
    "upstream https://github.com/daattali/beautiful-jekyll.git (push)\n",
    "```"
   ]
  },
  {
   "cell_type": "markdown",
   "id": "7bc72125-be52-49fb-939d-ed21740643e4",
   "metadata": {},
   "source": [
    "# config\n",
    "\n"
   ]
  },
  {
   "cell_type": "markdown",
   "id": "b5f93b7b-7ec2-4633-95d5-ff47be99fc3e",
   "metadata": {},
   "source": [
    "`-` 설정보기 "
   ]
  },
  {
   "cell_type": "markdown",
   "id": "ce3be93b-90cc-4039-a9e9-d17cec64347a",
   "metadata": {},
   "source": [
    "```default\n",
    "git config —list \n",
    "```"
   ]
  },
  {
   "cell_type": "markdown",
   "id": "c575a91e-48f6-4a8c-8726-a0a48c32561e",
   "metadata": {},
   "source": [
    "`-` 설정삭제 "
   ]
  },
  {
   "cell_type": "markdown",
   "id": "08d57e4e-e1b1-4136-a339-3e4f5c6ddf9a",
   "metadata": {},
   "source": [
    "```default\n",
    "git config --unset user.name\n",
    "git config --unser user.email\n",
    "```"
   ]
  },
  {
   "cell_type": "markdown",
   "id": "57c148e6-06b3-472e-a729-808c9e4e75a7",
   "metadata": {},
   "source": [
    "`-` 전역설정삭제 "
   ]
  },
  {
   "cell_type": "markdown",
   "id": "0107f950-0e67-4a6e-9f1b-4813cefba78b",
   "metadata": {},
   "source": [
    "```default\n",
    "git config --unset --global user.name\n",
    "git config --unset --global user.email\n",
    "```"
   ]
  },
  {
   "cell_type": "markdown",
   "id": "7332bbd1-4c40-41d5-9c28-0c2eb626f53c",
   "metadata": {},
   "source": [
    "`-` 중복값 설정삭제"
   ]
  },
  {
   "cell_type": "markdown",
   "id": "74760f34-a813-4237-a2a8-1d1492635617",
   "metadata": {},
   "source": [
    "```default\n",
    "git config --unset-all user.name\n",
    "git config --unset-all user.email\n",
    "```"
   ]
  },
  {
   "cell_type": "markdown",
   "id": "805cd0c8-8f4e-4dcd-a906-620d0d532155",
   "metadata": {},
   "source": [
    "`-` 중복값 전역으로 설정삭제"
   ]
  },
  {
   "cell_type": "markdown",
   "id": "d441b361-3615-4d8d-8198-b91a82a65959",
   "metadata": {},
   "source": [
    "```default\n",
    "git config --unset-all --global user.name\n",
    "git config --unset-all --global user.email\n",
    "```"
   ]
  },
  {
   "cell_type": "markdown",
   "id": "9ac096ec-6644-49ae-b709-d4cb100d8d46",
   "metadata": {},
   "source": [
    "`-` 비번안치고 푸쉬하는법? "
   ]
  },
  {
   "cell_type": "markdown",
   "id": "09ae7c8f-a154-4fbc-9aba-a58e72eeb5b6",
   "metadata": {},
   "source": [
    "```default\n",
    "git config credential.helper store\n",
    "```"
   ]
  },
  {
   "cell_type": "markdown",
   "id": "b34e664b-7107-424f-997a-de4f8ef845d2",
   "metadata": {},
   "source": [
    "입력이후에 `git push`"
   ]
  },
  {
   "cell_type": "markdown",
   "id": "4452f91b-caac-4932-9b76-cf6d2fc833ad",
   "metadata": {},
   "source": [
    "# Git token "
   ]
  },
  {
   "cell_type": "markdown",
   "id": "828c6722-35e4-4f30-9e48-88fc3d168b29",
   "metadata": {},
   "source": [
    "<https://github.com/settings/tokens> 에서 확인가능 "
   ]
  },
  {
   "cell_type": "markdown",
   "id": "601dae56-a399-43d1-badc-450c8af66937",
   "metadata": {},
   "source": [
    "### Appendix "
   ]
  },
  {
   "cell_type": "markdown",
   "id": "03f22078-3c8f-48f1-af89-8ecb3d4fe103",
   "metadata": {
    "tags": []
   },
   "source": [
    "#### 리눅스에서 github desktop 설치\n",
    "- [여기](https://github.com/shiftkey/desktop/releases)로 간다.\n",
    "- 한 챕터의 (2.3.1 Linux RC1 와 같이 되어있음) 아래쪽에 보면 **▶ Assets** 라고 되어있는데 이걸 클릭하면 다운받을 수 있는 파일들이 나온다. 확장자가 .deb로 끝나는걸 골라서 다운받은뒤에 실행한다. \n"
   ]
  }
 ],
 "metadata": {
  "kernelspec": {
   "display_name": "Python 3 (ipykernel)",
   "language": "python",
   "name": "python3"
  },
  "language_info": {
   "codemirror_mode": {
    "name": "ipython",
    "version": 3
   },
   "file_extension": ".py",
   "mimetype": "text/x-python",
   "name": "python",
   "nbconvert_exporter": "python",
   "pygments_lexer": "ipython3",
   "version": "3.10.13"
  },
  "widgets": {
   "application/vnd.jupyter.widget-state+json": {
    "state": {},
    "version_major": 2,
    "version_minor": 0
   }
  }
 },
 "nbformat": 4,
 "nbformat_minor": 5
}
