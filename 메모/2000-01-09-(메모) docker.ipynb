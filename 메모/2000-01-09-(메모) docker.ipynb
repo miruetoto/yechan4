{
 "cells": [
  {
   "cell_type": "raw",
   "id": "5ed2a8f6-ef4f-4c84-a288-58d481ccd8b5",
   "metadata": {},
   "source": [
    "---\n",
    "title: \"(메모) docker\"\n",
    "author: \"신록예찬\"\n",
    "date: \"01/09/2000\"\n",
    "toc-depth: 1\n",
    "---"
   ]
  },
  {
   "cell_type": "markdown",
   "id": "db204fdf-f89f-438c-8125-e82f5d8c55ec",
   "metadata": {},
   "source": [
    "`-` 우분투에서 설치 "
   ]
  },
  {
   "cell_type": "markdown",
   "id": "4680b0fa-d179-4d5a-b404-931ed45a87e1",
   "metadata": {},
   "source": [
    "ref: <https://docs.docker.com/engine/install/ubuntu/>"
   ]
  },
  {
   "cell_type": "markdown",
   "id": "4811201a",
   "metadata": {},
   "source": [
    "# 1. 기본명령어"
   ]
  },
  {
   "cell_type": "markdown",
   "id": "c98c96be-3152-4772-959e-219f310a4bc2",
   "metadata": {},
   "source": [
    "`-` 기본명령들 \n",
    "\n",
    "```bash\n",
    "## 이미지 \n",
    "docker images \n",
    "docker image pull penguin \n",
    "docker run {이미지이름}\n",
    "docker image ls {이미지이름} # 특정 이미지의 버전을 명시하여 해당 이미지의 정보를 확인.\n",
    "docker image history {이미지이름} # 특정 이미지의 레이어별 변경 내역을 확인.\n",
    "\n",
    "## 컨테이너\n",
    "docker ps \n",
    "docker ps -a \n",
    "docker start {컨테이너이름or컨테이너ID}\n",
    "docker stop {컨테이너이름or컨테이너ID}\n",
    "docker rm {컨테이너이름or컨테이너ID} # 컨테이너가 중단된 상태에서 실행해야함\n",
    "docker container inspect {컨테이너이름or컨테이너ID} # 특정 컨테이너의 자세한 정보를 확인.\n",
    "docker logs {컨테이너이름or컨테이너ID} # 컨테이너의 로그를 확인.\n",
    "docker container stats # 실행 중인 컨테이너의 실시간 리소스 사용량을 모니터링.\n",
    "```"
   ]
  },
  {
   "cell_type": "markdown",
   "id": "54d6bb2b",
   "metadata": {},
   "source": [
    "# Appendix"
   ]
  },
  {
   "cell_type": "markdown",
   "id": "a0b967ba",
   "metadata": {},
   "source": [
    "`-` 기본적으로는 `docker run {옵션들} {이미지이름} {내부명령}`와 같은 포맷임"
   ]
  },
  {
   "cell_type": "markdown",
   "id": "79984654-7305-4b3e-83eb-6a24ec8d92d5",
   "metadata": {},
   "source": [
    "`-` `docker run -ti --rm r-base`"
   ]
  },
  {
   "cell_type": "markdown",
   "id": "ce0edef9",
   "metadata": {},
   "source": [
    "1. **-ti**: 이 옵션은 두 개의 플래그인 `-t`와 `-i`를 결합. --> 터미널 쓸려면 필수임.\n",
    "   - `-t` (또는 `--tty`): 이 플래그는 유사 터미널을 할당하고 터미널 상호작용을 가능하게 함. 컨테이너 내부에서 터미널 환경을 사용할 수 있게 해줌.\n",
    "   - `-i` (또는 `--interactive`): 이 플래그는 컨테이너와 상호작용할 수 있도록 표준 입력(STDIN)을 열어줌. 컨테이너 내부에서 입력을 주고 받을 수 있게 해줌."
   ]
  },
  {
   "cell_type": "markdown",
   "id": "5b5bd321",
   "metadata": {},
   "source": [
    "2. **--rm**: 이 옵션은 컨테이너가 실행을 마칠 때 자동으로 컨테이너를 삭제.\n"
   ]
  },
  {
   "cell_type": "markdown",
   "id": "7c8fe280-5f1f-4829-8369-b741d9127e49",
   "metadata": {},
   "source": [
    "`-` `docker run -ti --rm -v \"$PWD\":/home/docker -w /home/docker -u docker r-base R CMD check` \n"
   ]
  },
  {
   "cell_type": "markdown",
   "id": "42b4a899",
   "metadata": {},
   "source": [
    "1. **-ti**: 이 옵션은 터미널 상호작용을 위한 옵션"
   ]
  },
  {
   "cell_type": "markdown",
   "id": "e367b644",
   "metadata": {},
   "source": [
    "2. **--rm**: 컨테이너가 실행을 마칠 때 자동으로 컨테이너를 삭제."
   ]
  },
  {
   "cell_type": "markdown",
   "id": "f37eeb9e",
   "metadata": {},
   "source": [
    "3. **-v \"$PWD\":/home/docker**: 이 옵션은 호스트 시스템의 현재 작업 디렉토리를 컨테이너 내의 `/home/docker` 디렉토리와 공유 마운트. 이렇게 함으로써 호스트 시스템의 파일을 컨테이너 내부에서 사용할 수 있게 됨."
   ]
  },
  {
   "cell_type": "markdown",
   "id": "fa74ea84",
   "metadata": {},
   "source": [
    "4. **-w /home/docker**: 컨테이너가 실행될 작업 디렉토리를 `/home/docker`로 설정. 즉, 컨테이너가 실행될 때 기본 디렉토리가 `/home/docker`가 된다."
   ]
  },
  {
   "cell_type": "markdown",
   "id": "3b2a3200",
   "metadata": {},
   "source": [
    "5. **-u docker**: 이 옵션은 컨테이너 안에서 사용자를 변경하여 실행하는 것을 의미. `docker`라는 사용자로 컨테이너를 실행.\n"
   ]
  },
  {
   "cell_type": "markdown",
   "id": "c81a06f7",
   "metadata": {},
   "source": [
    "\n",
    "6. **r-base**: Docker 이미지 이름.\n"
   ]
  },
  {
   "cell_type": "markdown",
   "id": "77db60f3",
   "metadata": {},
   "source": [
    "\n",
    "7. **R CMD check**: 실제로 실행되는 컨테이너 내부의 명령어. 이 경우 R 패키지를 체크하는 R 명령어 `R CMD check`가 실행.\n"
   ]
  },
  {
   "cell_type": "markdown",
   "id": "c13fe160",
   "metadata": {},
   "source": [
    "`-` `run` vs `start`\n",
    "\n",
    "- run: 이미지 -> 컨테이너\n",
    "- start: 중단된 컨테이너 재시작 "
   ]
  }
 ],
 "metadata": {
  "kernelspec": {
   "display_name": "Python 3 (ipykernel)",
   "language": "python",
   "name": "python3"
  },
  "language_info": {
   "codemirror_mode": {
    "name": "ipython",
    "version": 3
   },
   "file_extension": ".py",
   "mimetype": "text/x-python",
   "name": "python",
   "nbconvert_exporter": "python",
   "pygments_lexer": "ipython3",
   "version": "3.10.13"
  }
 },
 "nbformat": 4,
 "nbformat_minor": 5
}
