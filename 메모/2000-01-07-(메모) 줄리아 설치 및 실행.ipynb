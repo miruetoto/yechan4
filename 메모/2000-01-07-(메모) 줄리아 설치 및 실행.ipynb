{
 "cells": [
  {
   "cell_type": "raw",
   "id": "65f6a9a8-e771-402c-81b1-7a9ac27755fe",
   "metadata": {},
   "source": [
    "---\n",
    "title: \"(메모) 줄리아 설치 및 실행\"\n",
    "author: \"신록예찬\"\n",
    "date: \"01/07/2000\"\n",
    "---"
   ]
  },
  {
   "cell_type": "markdown",
   "id": "0075b97d-90dd-4bad-b555-27b8284c8120",
   "metadata": {},
   "source": [
    "# 설치"
   ]
  },
  {
   "cell_type": "markdown",
   "id": "e270bba9-3b6d-4028-a76e-f6101d3eb5f0",
   "metadata": {},
   "source": [
    "`-` [여기](https://julialang.org/downloads/)에 접속한다. 스크롤링하여 'Generic Linux Binaries for x86 / 64-bit(GPG)'를 찾는다. 그리고 '64-bit'를 클릭해서 다운받는다. (참고로 왼쪽에 'help'를 누르면 설치페이지 설명서가 나온다.) 그러면 아래와 같은 파일이 나온다. \n",
    "\n",
    "```default\n",
    "julia-1.3.1-linux-x86_64.tar.gz\n",
    "```\n",
    "\n",
    "이 파일을 더블클릭해서 압축을 풀어준다. 압축을 풀면 `julia-1.3.1`라는 폴더가 생긴다. 이 폴더를 원하는 위치로 (줄리아가 설치되기를 원하는 위치) 이동시킨다. 나는 home에 이동시켰다. \n",
    "\n",
    "`-` 아래를 실행하면 줄리아가 실행된다. (둘중 아무거나) \n",
    "\n",
    "```default\n",
    "/home/cgb/julia-1.3.1/bin/julia\n",
    "~/julia-1.3.1/bin/julia\n",
    "```"
   ]
  },
  {
   "cell_type": "markdown",
   "id": "11b7c586-318b-4d37-b361-20543ea931a3",
   "metadata": {},
   "source": [
    "# 주피터와 연결 "
   ]
  },
  {
   "cell_type": "markdown",
   "id": "bf07bd49-e1e5-48eb-901e-56a67f082735",
   "metadata": {},
   "source": [
    "`-` 아래중 하나를 실행하여 줄리아를 킨다. \n",
    "\n",
    "```default\n",
    "/home/cgb/julia-1.3.1/bin/julia\n",
    "~/julia-1.3.1/bin/julia\n",
    "```\n",
    "\n",
    "`-` 줄리아를 실행한뒤에 아래를 입력하면 주피터노트북에 연결된다. \n",
    "\n",
    "```default\n",
    "using Pkg\n",
    "Pkg.add(\"IJulia\")\n",
    "```\n",
    "\n",
    "`-` 한 가지 의문점이 있다. 나같은 경우는 '(base)'에서 줄리아를 실행하고 연결하였다. 그런데 혹시 몰라서 `(py38r40)`에서도 줄리아를 실행해봤는데 잘 실행되었다. 줄리아를 실행시키고 위의 명령 `Pkg.add(\"IJulia\")`를 다시쳤는데, 이미 연결되어서 더이상 변화시킨게 없다는 메시지가 떴다. 이러면 `(base)`에 설치된 줄리아가 `(py38r40)`에서도 실행된 줄리아와 동일하다는 의미일까? $\\Longrightarrow$ 그렇다. 왜냐하면 줄리아는 anaconda내의 폴더에 설치한 것이 아니기 때문에. home에 보통 설치하니깐. "
   ]
  },
  {
   "cell_type": "markdown",
   "id": "03217bd2-5291-4011-adfd-e64f92a058db",
   "metadata": {
    "tags": []
   },
   "source": [
    "# 환경변수 조정 \n",
    "\n",
    "`-` 참고로 어디서든 줄리아를 실행시키고 싶다면 환경변수를 조작하면 된다. 아래를 실행해서 나노에디터를 킨다. \n",
    "\n",
    "```default\n",
    "sudo nano /etc/environment\n",
    "```\n",
    "\n",
    "맨끝에 다음과 같이 되어있을 것이다. \n",
    "\n",
    "```default\n",
    "~~ usr/local/games\"\n",
    "```\n",
    "\n",
    "마지막에 `/home/cgb/julia-1.3.1/bin/julia`를 추가한다. 즉 아래와 같이 만든다.\n",
    "\n",
    "```default\n",
    "~~ usr/local/games:/home/cgb/julia-1.3.1/bin/julia\"\n",
    "```\n",
    "\n",
    "세이브하고 나온다. (그런데 이 과정을 안거쳐도 되는것 같음.) 이제  커맨드에서 아래를 실행한다. \n",
    "\n",
    "```default\n",
    "export PATH=$PATH:/home/cgb/julia-1.3.1/bin\n",
    "```\n",
    "이렇게하면 이제 단순히 `julia`라고만 쳐도 `julia`가 실행된다. \n",
    "\n"
   ]
  },
  {
   "cell_type": "markdown",
   "id": "382e454a-076d-4c45-a75e-37dd11c2a3aa",
   "metadata": {},
   "source": [
    "# 플루토에서 강의영상 넣는 방법 "
   ]
  },
  {
   "cell_type": "markdown",
   "id": "15714845-357e-43a1-b4bc-77265945fc3c",
   "metadata": {},
   "source": [
    "`-` 아래를 삽입"
   ]
  },
  {
   "cell_type": "markdown",
   "id": "492e7d9b-1720-4ec1-8025-3a8dac31fdcf",
   "metadata": {},
   "source": [
    "```default\n",
    "html\"\"\"\n",
    "<div style=\"display: flex; justify-content: center;\">\n",
    "<div  notthestyle=\"position: relative; right: 0; top: 0; z-index: 300;\">\n",
    "<iframe src=\n",
    "\"\n",
    "https://www.youtube.com/embed/\n",
    "\"\n",
    "width=600 height=375  frameborder=\"0\" allow=\"accelerometer; autoplay; encrypted-media; gyroscope; picture-in-picture\" allowfullscreen></iframe>\n",
    "\"\"\"\n",
    "```"
   ]
  },
  {
   "cell_type": "markdown",
   "id": "703841b6-86e6-47c9-b32f-50ed1eab6a3a",
   "metadata": {},
   "source": [
    "# 플루토를 이용한 홈페이지 만드는 방법 "
   ]
  },
  {
   "cell_type": "markdown",
   "id": "047c05e3-c31f-4db4-b01e-7cb7cd68e4da",
   "metadata": {},
   "source": [
    "`-` 단계1: <https://github.com/JuliaPluto/static-export-template> 에 가서 `Clone`"
   ]
  },
  {
   "cell_type": "markdown",
   "id": "46474cf9-056b-4b58-b3df-9a826634acb4",
   "metadata": {},
   "source": [
    "`-` 단계2: Setting -> GitHub Pages -> Source -> gh-pages / root"
   ]
  },
  {
   "cell_type": "markdown",
   "id": "b233b348-849e-4c50-8487-7be100d9850b",
   "metadata": {},
   "source": [
    "# 플루토 키는 방법 "
   ]
  },
  {
   "cell_type": "markdown",
   "id": "4a46a929-9acb-4f60-b80c-bf00791863cc",
   "metadata": {},
   "source": [
    "```julia\n",
    "import Pluto\n",
    "Pluto.run(host=\"0.0.0.0\",port=1234,launch_browser=false,require_secret_for_open_links=false,require_secret_for_access=false,threads=\"8\")\n",
    "```"
   ]
  }
 ],
 "metadata": {
  "kernelspec": {
   "display_name": "Python 3 (ipykernel)",
   "language": "python",
   "name": "python3"
  },
  "language_info": {
   "codemirror_mode": {
    "name": "ipython",
    "version": 3
   },
   "file_extension": ".py",
   "mimetype": "text/x-python",
   "name": "python",
   "nbconvert_exporter": "python",
   "pygments_lexer": "ipython3",
   "version": "3.10.13"
  },
  "widgets": {
   "application/vnd.jupyter.widget-state+json": {
    "state": {},
    "version_major": 2,
    "version_minor": 0
   }
  }
 },
 "nbformat": 4,
 "nbformat_minor": 5
}
