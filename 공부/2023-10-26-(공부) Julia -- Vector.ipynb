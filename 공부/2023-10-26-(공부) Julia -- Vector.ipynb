{
 "cells": [
  {
   "cell_type": "raw",
   "id": "bc2a98e8-eec3-4757-aecd-3561417fdb8e",
   "metadata": {
    "tags": []
   },
   "source": [
    "---\n",
    "title: \"(공부) Julia -- Vector\"\n",
    "author: \"신록예찬\"\n",
    "date: \"10/26/2023\"\n",
    "---"
   ]
  },
  {
   "cell_type": "markdown",
   "id": "f683bf20-93ff-4a0c-b5c6-22845c30d95c",
   "metadata": {},
   "source": [
    "# 1. 느낌 "
   ]
  },
  {
   "cell_type": "markdown",
   "id": "b9d7bdee-ae85-476e-bf15-4c98252935a7",
   "metadata": {},
   "source": [
    "`-` Python의 리스트와 비슷하기도 하고, numpy array와 비슷하기도 함 "
   ]
  },
  {
   "cell_type": "markdown",
   "id": "93fd44b6-df43-4843-b2a9-a4429a776f42",
   "metadata": {},
   "source": [
    "# 2. 선언과 자료형 "
   ]
  },
  {
   "cell_type": "markdown",
   "id": "ee80dfd7-3742-4604-a378-27fb8c447ded",
   "metadata": {},
   "source": [
    "`-` 예시1"
   ]
  },
  {
   "cell_type": "code",
   "execution_count": 1,
   "id": "c3af1fcc-920b-45e2-b781-8fb444ae8786",
   "metadata": {
    "tags": []
   },
   "outputs": [
    {
     "data": {
      "text/plain": [
       "3-element Vector{Int64}:\n",
       " 1\n",
       " 2\n",
       " 3"
      ]
     },
     "execution_count": 1,
     "metadata": {},
     "output_type": "execute_result"
    }
   ],
   "source": [
    "a = [1,2,3]\n",
    "a"
   ]
  },
  {
   "cell_type": "code",
   "execution_count": 2,
   "id": "adb223bb-bae1-40b9-b6c6-4d41393bcffa",
   "metadata": {
    "tags": []
   },
   "outputs": [
    {
     "data": {
      "text/plain": [
       "Vector{Int64}\u001b[90m (alias for \u001b[39m\u001b[90mArray{Int64, 1}\u001b[39m\u001b[90m)\u001b[39m"
      ]
     },
     "execution_count": 2,
     "metadata": {},
     "output_type": "execute_result"
    }
   ],
   "source": [
    "typeof(a)"
   ]
  },
  {
   "cell_type": "markdown",
   "id": "dad975a1-4e1e-4848-bdf1-2ccd1d5b90ce",
   "metadata": {},
   "source": [
    "`-` 예시2"
   ]
  },
  {
   "cell_type": "code",
   "execution_count": 3,
   "id": "9c5b3c6d-c79b-4617-8a38-75da19c0cfd2",
   "metadata": {
    "tags": []
   },
   "outputs": [
    {
     "data": {
      "text/plain": [
       "4-element Vector{Any}:\n",
       " 1\n",
       " 2\n",
       "  'a': ASCII/Unicode U+0061 (category Ll: Letter, lowercase)\n",
       "  \"abc\""
      ]
     },
     "execution_count": 3,
     "metadata": {},
     "output_type": "execute_result"
    }
   ],
   "source": [
    "a = [1,2,'a',\"abc\"] \n",
    "a"
   ]
  },
  {
   "cell_type": "code",
   "execution_count": 4,
   "id": "a2cf157f-74c4-43ba-8bd9-2734713e26db",
   "metadata": {
    "tags": []
   },
   "outputs": [
    {
     "data": {
      "text/plain": [
       "Vector{Any}\u001b[90m (alias for \u001b[39m\u001b[90mArray{Any, 1}\u001b[39m\u001b[90m)\u001b[39m"
      ]
     },
     "execution_count": 4,
     "metadata": {},
     "output_type": "execute_result"
    }
   ],
   "source": [
    "typeof(a)"
   ]
  },
  {
   "cell_type": "markdown",
   "id": "3b3d86c6-9279-4e05-b348-a2d0e8b85a05",
   "metadata": {},
   "source": [
    "`-` 예시3 -- col-vector처럼 선언가능 "
   ]
  },
  {
   "cell_type": "code",
   "execution_count": 5,
   "id": "0da53ba9-40df-4bba-bc60-65f8019889a4",
   "metadata": {
    "tags": []
   },
   "outputs": [
    {
     "data": {
      "text/plain": [
       "3-element Vector{Int64}:\n",
       " 1\n",
       " 2\n",
       " 3"
      ]
     },
     "execution_count": 5,
     "metadata": {},
     "output_type": "execute_result"
    }
   ],
   "source": [
    "a= [ 1\n",
    "     2\n",
    "     3 ] "
   ]
  },
  {
   "cell_type": "markdown",
   "id": "332c0aeb-2d9d-429d-8f65-5d9b8b2d5956",
   "metadata": {},
   "source": [
    "`-` 예시4 -- 비어있는 벡터 선언 "
   ]
  },
  {
   "cell_type": "code",
   "execution_count": 6,
   "id": "5440b443-ef7b-4eb3-ab36-be9ed10f01c2",
   "metadata": {
    "tags": []
   },
   "outputs": [
    {
     "data": {
      "text/plain": [
       "Any[]"
      ]
     },
     "execution_count": 6,
     "metadata": {},
     "output_type": "execute_result"
    }
   ],
   "source": [
    "a = []"
   ]
  },
  {
   "cell_type": "markdown",
   "id": "188273d4-c93c-43d9-a8bf-7985d384f5ed",
   "metadata": {},
   "source": [
    "# 3. 특수한 벡터 선언 "
   ]
  },
  {
   "cell_type": "markdown",
   "id": "1d5a2236-b35a-4333-be6e-b4389e842501",
   "metadata": {},
   "source": [
    "`-` 예시1: ones, zeros"
   ]
  },
  {
   "cell_type": "code",
   "execution_count": 7,
   "id": "b7885881-621c-41c3-a57a-91ed4fe2ddd5",
   "metadata": {
    "tags": []
   },
   "outputs": [
    {
     "data": {
      "text/plain": [
       "3-element Vector{Float64}:\n",
       " 1.0\n",
       " 1.0\n",
       " 1.0"
      ]
     },
     "execution_count": 7,
     "metadata": {},
     "output_type": "execute_result"
    }
   ],
   "source": [
    "ones(3)"
   ]
  },
  {
   "cell_type": "code",
   "execution_count": 8,
   "id": "335c4d9e-f3d7-4a94-b131-72b2dbe10f8d",
   "metadata": {
    "tags": []
   },
   "outputs": [
    {
     "data": {
      "text/plain": [
       "3-element Vector{Float64}:\n",
       " 0.0\n",
       " 0.0\n",
       " 0.0"
      ]
     },
     "execution_count": 8,
     "metadata": {},
     "output_type": "execute_result"
    }
   ],
   "source": [
    "zeros(3)"
   ]
  },
  {
   "cell_type": "markdown",
   "id": "7c708a4d-6425-4a59-bd16-5a13252fcf58",
   "metadata": {},
   "source": [
    "`-` 예시2: fill"
   ]
  },
  {
   "cell_type": "code",
   "execution_count": 9,
   "id": "2000f868-1590-4ac0-9e43-76bf56c3c855",
   "metadata": {
    "tags": []
   },
   "outputs": [
    {
     "data": {
      "text/plain": [
       "3-element Vector{Float64}:\n",
       " 1.0\n",
       " 1.0\n",
       " 1.0"
      ]
     },
     "execution_count": 9,
     "metadata": {},
     "output_type": "execute_result"
    }
   ],
   "source": [
    "fill(1.0,3)"
   ]
  },
  {
   "cell_type": "markdown",
   "id": "5c5507b7-4a49-4ce1-be76-b9b7075448f7",
   "metadata": {},
   "source": [
    "`-` 예시3"
   ]
  },
  {
   "cell_type": "code",
   "execution_count": 10,
   "id": "bd7fac55-aa4e-4d4f-aa56-89ad08634245",
   "metadata": {
    "tags": []
   },
   "outputs": [
    {
     "data": {
      "text/plain": [
       "3-element Vector{Int64}:\n",
       " 1\n",
       " 2\n",
       " 3"
      ]
     },
     "execution_count": 10,
     "metadata": {},
     "output_type": "execute_result"
    }
   ],
   "source": [
    "Array(1:3)\n",
    "#Array(range(1,3))"
   ]
  },
  {
   "cell_type": "code",
   "execution_count": 11,
   "id": "d91a2304-c735-4f52-a744-f8e2c1373a4f",
   "metadata": {
    "tags": []
   },
   "outputs": [
    {
     "data": {
      "text/plain": [
       "3-element Vector{Int64}:\n",
       " 1\n",
       " 2\n",
       " 3"
      ]
     },
     "execution_count": 11,
     "metadata": {},
     "output_type": "execute_result"
    }
   ],
   "source": [
    "collect(1:3)\n",
    "#collect(range(1,3))"
   ]
  },
  {
   "cell_type": "markdown",
   "id": "b126e484-b89e-4113-b0de-536d5388b387",
   "metadata": {},
   "source": [
    "`-` 예시4"
   ]
  },
  {
   "cell_type": "code",
   "execution_count": 12,
   "id": "4e7717cf-e5ec-4dc1-8b4b-c21e176aab45",
   "metadata": {
    "tags": []
   },
   "outputs": [
    {
     "data": {
      "text/plain": [
       "3-element Vector{Float64}:\n",
       "  1.0\n",
       "  5.5\n",
       " 10.0"
      ]
     },
     "execution_count": 12,
     "metadata": {},
     "output_type": "execute_result"
    }
   ],
   "source": [
    "Array(range(1,10,length=3))"
   ]
  },
  {
   "cell_type": "code",
   "execution_count": 13,
   "id": "02fae532-34b0-49de-a235-88a57671034f",
   "metadata": {
    "tags": []
   },
   "outputs": [
    {
     "data": {
      "text/plain": [
       "3-element Vector{Float64}:\n",
       "  1.0\n",
       "  5.5\n",
       " 10.0"
      ]
     },
     "execution_count": 13,
     "metadata": {},
     "output_type": "execute_result"
    }
   ],
   "source": [
    "collect(range(1,10,length=3))"
   ]
  },
  {
   "cell_type": "markdown",
   "id": "d0dfde57-f572-4a87-8bad-c86d563ad5cd",
   "metadata": {},
   "source": [
    "# 4. 연산 "
   ]
  },
  {
   "cell_type": "markdown",
   "id": "dfd5033e-4857-4eca-a987-573f291007e4",
   "metadata": {
    "tags": []
   },
   "source": [
    "## A. 더하기 "
   ]
  },
  {
   "cell_type": "markdown",
   "id": "9259dc5e-ae78-4258-a2db-a4de5bd30170",
   "metadata": {},
   "source": [
    "`-` 예시1 -- 길이가 같은 벡터의 합"
   ]
  },
  {
   "cell_type": "code",
   "execution_count": 14,
   "id": "f5c3314b-5a32-4839-8aae-3ddc0d4226c7",
   "metadata": {
    "tags": []
   },
   "outputs": [
    {
     "data": {
      "text/plain": [
       "2-element Vector{Int64}:\n",
       " 0\n",
       " 0"
      ]
     },
     "execution_count": 14,
     "metadata": {},
     "output_type": "execute_result"
    }
   ],
   "source": [
    "a = [1,2] \n",
    "b = [-1,-2]\n",
    "a + b"
   ]
  },
  {
   "cell_type": "code",
   "execution_count": 15,
   "id": "b7990ba0-aa1b-478e-bb78-11d0cd949151",
   "metadata": {
    "tags": []
   },
   "outputs": [
    {
     "data": {
      "text/plain": [
       "2-element Vector{Int64}:\n",
       " 0\n",
       " 0"
      ]
     },
     "execution_count": 15,
     "metadata": {},
     "output_type": "execute_result"
    }
   ],
   "source": [
    "# 사실아래도 가능\n",
    "a .+ b"
   ]
  },
  {
   "cell_type": "markdown",
   "id": "941b5815-24f1-404c-8739-d94489882781",
   "metadata": {},
   "source": [
    "`-` 예시2 -- 벡터+스칼라 (실패)"
   ]
  },
  {
   "cell_type": "code",
   "execution_count": 17,
   "id": "f00583df-8aaa-46cc-bf40-9d6dde5a9af7",
   "metadata": {
    "tags": []
   },
   "outputs": [
    {
     "ename": "LoadError",
     "evalue": "MethodError: no method matching +(::Vector{Int64}, ::Int64)\nFor element-wise addition, use broadcasting with dot syntax: array .+ scalar\n\n\u001b[0mClosest candidates are:\n\u001b[0m  +(::Any, ::Any, \u001b[91m::Any\u001b[39m, \u001b[91m::Any...\u001b[39m)\n\u001b[0m\u001b[90m   @\u001b[39m \u001b[90mBase\u001b[39m \u001b[90m\u001b[4moperators.jl:578\u001b[24m\u001b[39m\n\u001b[0m  +(\u001b[91m::T\u001b[39m, ::T) where T<:Union{Int128, Int16, Int32, Int64, Int8, UInt128, UInt16, UInt32, UInt64, UInt8}\n\u001b[0m\u001b[90m   @\u001b[39m \u001b[90mBase\u001b[39m \u001b[90m\u001b[4mint.jl:87\u001b[24m\u001b[39m\n\u001b[0m  +(\u001b[91m::Base.TwicePrecision\u001b[39m, ::Number)\n\u001b[0m\u001b[90m   @\u001b[39m \u001b[90mBase\u001b[39m \u001b[90m\u001b[4mtwiceprecision.jl:290\u001b[24m\u001b[39m\n\u001b[0m  ...\n",
     "output_type": "error",
     "traceback": [
      "MethodError: no method matching +(::Vector{Int64}, ::Int64)\nFor element-wise addition, use broadcasting with dot syntax: array .+ scalar\n\n\u001b[0mClosest candidates are:\n\u001b[0m  +(::Any, ::Any, \u001b[91m::Any\u001b[39m, \u001b[91m::Any...\u001b[39m)\n\u001b[0m\u001b[90m   @\u001b[39m \u001b[90mBase\u001b[39m \u001b[90m\u001b[4moperators.jl:578\u001b[24m\u001b[39m\n\u001b[0m  +(\u001b[91m::T\u001b[39m, ::T) where T<:Union{Int128, Int16, Int32, Int64, Int8, UInt128, UInt16, UInt32, UInt64, UInt8}\n\u001b[0m\u001b[90m   @\u001b[39m \u001b[90mBase\u001b[39m \u001b[90m\u001b[4mint.jl:87\u001b[24m\u001b[39m\n\u001b[0m  +(\u001b[91m::Base.TwicePrecision\u001b[39m, ::Number)\n\u001b[0m\u001b[90m   @\u001b[39m \u001b[90mBase\u001b[39m \u001b[90m\u001b[4mtwiceprecision.jl:290\u001b[24m\u001b[39m\n\u001b[0m  ...\n",
      "",
      "Stacktrace:",
      " [1] top-level scope",
      "   @ In[17]:2"
     ]
    }
   ],
   "source": [
    "a = [1,2]\n",
    "a + 1 # 브로드캐스팅 실패"
   ]
  },
  {
   "cell_type": "markdown",
   "id": "8e5d8277-a60b-4763-b2e5-f0f39db16a88",
   "metadata": {},
   "source": [
    "`-` 예시3 -- 벡터+스칼라 (성공)"
   ]
  },
  {
   "cell_type": "code",
   "execution_count": 18,
   "id": "1d0dfe2a-db53-4d31-aeb2-cdb8daf1f2ff",
   "metadata": {
    "tags": []
   },
   "outputs": [
    {
     "data": {
      "text/plain": [
       "2-element Vector{Int64}:\n",
       " 2\n",
       " 3"
      ]
     },
     "execution_count": 18,
     "metadata": {},
     "output_type": "execute_result"
    }
   ],
   "source": [
    "a = [1,2]\n",
    "a .+ 1 "
   ]
  },
  {
   "cell_type": "markdown",
   "id": "ff967e5b-5a14-4160-88ab-585502f45d15",
   "metadata": {},
   "source": [
    "## B. 곱셉 "
   ]
  },
  {
   "cell_type": "markdown",
   "id": "5692cd47-1d31-4ce9-9759-0ba5bd9e342e",
   "metadata": {},
   "source": [
    "`-` 예시1 -- 벡터*스칼라 (성공) "
   ]
  },
  {
   "cell_type": "code",
   "execution_count": 19,
   "id": "c59ff24e-a0dc-4525-898d-798825ee2de6",
   "metadata": {
    "tags": []
   },
   "outputs": [
    {
     "data": {
      "text/plain": [
       "2-element Vector{Int64}:\n",
       " 2\n",
       " 4"
      ]
     },
     "execution_count": 19,
     "metadata": {},
     "output_type": "execute_result"
    }
   ],
   "source": [
    "a = [1,2]\n",
    "a*2"
   ]
  },
  {
   "cell_type": "code",
   "execution_count": 20,
   "id": "19143341-e970-4677-9f8e-f649a0472d0c",
   "metadata": {
    "tags": []
   },
   "outputs": [
    {
     "data": {
      "text/plain": [
       "2-element Vector{Int64}:\n",
       " 2\n",
       " 4"
      ]
     },
     "execution_count": 20,
     "metadata": {},
     "output_type": "execute_result"
    }
   ],
   "source": [
    "# 사실 아래도 가능\n",
    "a .* 2"
   ]
  },
  {
   "cell_type": "code",
   "execution_count": 21,
   "id": "06bf6c4a-662a-458a-84cf-dc8d91aa9bb9",
   "metadata": {
    "tags": []
   },
   "outputs": [
    {
     "data": {
      "text/plain": [
       "2-element Vector{Int64}:\n",
       " 2\n",
       " 4"
      ]
     },
     "execution_count": 21,
     "metadata": {},
     "output_type": "execute_result"
    }
   ],
   "source": [
    "# 사실 아래도 가능\n",
    "2a"
   ]
  },
  {
   "cell_type": "markdown",
   "id": "6cb44d6f-1aa6-4638-a54e-750fe612150d",
   "metadata": {},
   "source": [
    "`-` 예시2 -- 하다마르곱 "
   ]
  },
  {
   "cell_type": "code",
   "execution_count": 22,
   "id": "0116fd0a-db06-4c80-9e1c-11fb3688205a",
   "metadata": {
    "tags": []
   },
   "outputs": [
    {
     "data": {
      "text/plain": [
       "2-element Vector{Int64}:\n",
       " 2\n",
       " 6"
      ]
     },
     "execution_count": 22,
     "metadata": {},
     "output_type": "execute_result"
    }
   ],
   "source": [
    "a = [1,2]\n",
    "b = [2,3] \n",
    "a .* b "
   ]
  },
  {
   "cell_type": "markdown",
   "id": "ffab4471-1021-41f4-9961-69b63ba5783c",
   "metadata": {},
   "source": [
    "`-` 예시3 -- 예시2를 응용"
   ]
  },
  {
   "cell_type": "code",
   "execution_count": 23,
   "id": "98ce0dd4-f95f-49fe-8f8f-8c5002674777",
   "metadata": {
    "tags": []
   },
   "outputs": [
    {
     "data": {
      "text/plain": [
       "2-element Vector{Any}:\n",
       " 3\n",
       "  \"ab\""
      ]
     },
     "execution_count": 23,
     "metadata": {},
     "output_type": "execute_result"
    }
   ],
   "source": [
    "a = [1,'a']\n",
    "b = [3,'b']\n",
    "a .* b"
   ]
  },
  {
   "cell_type": "markdown",
   "id": "d0a738c9-21da-4d3a-bcc7-7500981c1b5c",
   "metadata": {},
   "source": [
    "## C. 제곱연산 "
   ]
  },
  {
   "cell_type": "markdown",
   "id": "556bc2a4-0ad9-4e57-a38c-3020b54aaa20",
   "metadata": {},
   "source": [
    "`-` 예시1"
   ]
  },
  {
   "cell_type": "code",
   "execution_count": 24,
   "id": "92cb182a-4bc5-4b0f-aacf-68c3b75b7c68",
   "metadata": {
    "tags": []
   },
   "outputs": [
    {
     "data": {
      "text/plain": [
       "2-element Vector{Int64}:\n",
       " 1\n",
       " 4"
      ]
     },
     "execution_count": 24,
     "metadata": {},
     "output_type": "execute_result"
    }
   ],
   "source": [
    "a = [1,2]\n",
    "a .^ 2"
   ]
  },
  {
   "cell_type": "markdown",
   "id": "a347e9d1-1119-4653-9848-0cf4f08f46c7",
   "metadata": {},
   "source": [
    "`-` 예시2"
   ]
  },
  {
   "cell_type": "code",
   "execution_count": 25,
   "id": "95718a50-b4c9-421c-a49f-76b2eb92520c",
   "metadata": {
    "tags": []
   },
   "outputs": [
    {
     "data": {
      "text/plain": [
       "2-element Vector{String}:\n",
       " \"aa\"\n",
       " \"bbbb\""
      ]
     },
     "execution_count": 25,
     "metadata": {},
     "output_type": "execute_result"
    }
   ],
   "source": [
    "a = [\"a\", \"bb\"] \n",
    "a .^ 2 "
   ]
  },
  {
   "cell_type": "markdown",
   "id": "c71f5c6c-712c-4839-b7b3-bc7644e791b9",
   "metadata": {},
   "source": [
    "## D. 내적"
   ]
  },
  {
   "cell_type": "markdown",
   "id": "b9c68c9d-69d0-477a-83c9-7f80479747c9",
   "metadata": {},
   "source": [
    "`-` 예시"
   ]
  },
  {
   "cell_type": "code",
   "execution_count": 26,
   "id": "fa98bbbc-e89c-4b23-b374-6faff67eda5b",
   "metadata": {
    "tags": []
   },
   "outputs": [],
   "source": [
    "using LinearAlgebra"
   ]
  },
  {
   "cell_type": "code",
   "execution_count": 27,
   "id": "1c2f2d09-b95c-4240-ac94-93ca119a37cb",
   "metadata": {
    "tags": []
   },
   "outputs": [
    {
     "data": {
      "text/plain": [
       "14"
      ]
     },
     "execution_count": 27,
     "metadata": {},
     "output_type": "execute_result"
    }
   ],
   "source": [
    "[1,2,3] ⋅ [1,2,3]"
   ]
  },
  {
   "cell_type": "code",
   "execution_count": 28,
   "id": "2fa934bb-e6aa-4496-bd2d-d6bb89c3595e",
   "metadata": {
    "tags": []
   },
   "outputs": [
    {
     "data": {
      "text/plain": [
       "14"
      ]
     },
     "execution_count": 28,
     "metadata": {},
     "output_type": "execute_result"
    }
   ],
   "source": [
    "dot([1,2,3],[1,2,3])"
   ]
  },
  {
   "cell_type": "code",
   "execution_count": 29,
   "id": "2c7b0746-7f22-4004-b2f9-f3838c9da13e",
   "metadata": {
    "tags": []
   },
   "outputs": [
    {
     "data": {
      "text/plain": [
       "14"
      ]
     },
     "execution_count": 29,
     "metadata": {},
     "output_type": "execute_result"
    }
   ],
   "source": [
    "[1,2,3]' * [1,2,3]"
   ]
  },
  {
   "cell_type": "markdown",
   "id": "afd54483-cb90-41ab-818e-ca9897c3c1d8",
   "metadata": {},
   "source": [
    "# 5. 차원, 길이, 차원변경 "
   ]
  },
  {
   "cell_type": "markdown",
   "id": "76cfc0fe-5cca-4649-8996-55a395a97fff",
   "metadata": {},
   "source": [
    "\n",
    "`-` 예시1"
   ]
  },
  {
   "cell_type": "code",
   "execution_count": 30,
   "id": "b794d602-6a37-4b28-aa27-2c20347acff3",
   "metadata": {
    "tags": []
   },
   "outputs": [
    {
     "data": {
      "text/plain": [
       "1:4"
      ]
     },
     "execution_count": 30,
     "metadata": {},
     "output_type": "execute_result"
    }
   ],
   "source": [
    "a = 1:4\n",
    "a"
   ]
  },
  {
   "cell_type": "code",
   "execution_count": 31,
   "id": "ee9d5270-6d1e-49ce-b782-214c4a7a0fa9",
   "metadata": {
    "tags": []
   },
   "outputs": [
    {
     "data": {
      "text/plain": [
       "1"
      ]
     },
     "execution_count": 31,
     "metadata": {},
     "output_type": "execute_result"
    }
   ],
   "source": [
    "ndims(a)"
   ]
  },
  {
   "cell_type": "code",
   "execution_count": 32,
   "id": "8bcd622c-b8eb-4b53-8b29-0f7943f736c3",
   "metadata": {
    "tags": []
   },
   "outputs": [
    {
     "data": {
      "text/plain": [
       "4"
      ]
     },
     "execution_count": 32,
     "metadata": {},
     "output_type": "execute_result"
    }
   ],
   "source": [
    "length(a)"
   ]
  },
  {
   "cell_type": "markdown",
   "id": "fb8d0b20-4be4-4a98-b172-eb4da9e79803",
   "metadata": {},
   "source": [
    "`-` 예시2 "
   ]
  },
  {
   "cell_type": "code",
   "execution_count": 33,
   "id": "4b13388e-a7d8-45ca-ba52-7e0a90d43a84",
   "metadata": {
    "tags": []
   },
   "outputs": [
    {
     "data": {
      "text/plain": [
       "1:4"
      ]
     },
     "execution_count": 33,
     "metadata": {},
     "output_type": "execute_result"
    }
   ],
   "source": [
    "a = 1:4"
   ]
  },
  {
   "cell_type": "code",
   "execution_count": 34,
   "id": "015495ff-d54f-4fb6-ae3a-79ae29b58e4b",
   "metadata": {
    "tags": []
   },
   "outputs": [
    {
     "data": {
      "text/plain": [
       "2×2 reshape(::UnitRange{Int64}, 2, 2) with eltype Int64:\n",
       " 1  3\n",
       " 2  4"
      ]
     },
     "execution_count": 34,
     "metadata": {},
     "output_type": "execute_result"
    }
   ],
   "source": [
    "a = reshape(a,(2,2))\n",
    "a"
   ]
  },
  {
   "cell_type": "code",
   "execution_count": 35,
   "id": "7b6a5f53-42e7-4e8a-9047-0ff7b57fd7de",
   "metadata": {
    "tags": []
   },
   "outputs": [
    {
     "data": {
      "text/plain": [
       "2"
      ]
     },
     "execution_count": 35,
     "metadata": {},
     "output_type": "execute_result"
    }
   ],
   "source": [
    "ndims(a)"
   ]
  },
  {
   "cell_type": "code",
   "execution_count": 36,
   "id": "504c6057-af02-4cb7-a664-112050cc7505",
   "metadata": {
    "tags": []
   },
   "outputs": [
    {
     "data": {
      "text/plain": [
       "4"
      ]
     },
     "execution_count": 36,
     "metadata": {},
     "output_type": "execute_result"
    }
   ],
   "source": [
    "length(a)"
   ]
  },
  {
   "cell_type": "markdown",
   "id": "3e7db5d1-9ec0-4bf2-ba2d-ed177157289a",
   "metadata": {},
   "source": [
    "# 6. 조건에 맞는 원소 출력 "
   ]
  },
  {
   "cell_type": "markdown",
   "id": "7a81c5ea-72c5-485c-adf6-bf7150b8b5bb",
   "metadata": {},
   "source": [
    "`-` 예시1"
   ]
  },
  {
   "cell_type": "code",
   "execution_count": 37,
   "id": "02dbcdcf-ccf5-4796-99ec-de64a02b2cfa",
   "metadata": {
    "tags": []
   },
   "outputs": [
    {
     "data": {
      "text/plain": [
       "5-element Vector{Int64}:\n",
       " 10\n",
       " 15\n",
       " 20\n",
       " 25\n",
       " 30"
      ]
     },
     "execution_count": 37,
     "metadata": {},
     "output_type": "execute_result"
    }
   ],
   "source": [
    "a = collect(10:5:30)\n",
    "a"
   ]
  },
  {
   "cell_type": "code",
   "execution_count": 38,
   "id": "2d20993d-d764-4bd6-815c-93420ff238b9",
   "metadata": {
    "tags": []
   },
   "outputs": [
    {
     "data": {
      "text/plain": [
       "2-element Vector{Int64}:\n",
       " 10\n",
       " 15"
      ]
     },
     "execution_count": 38,
     "metadata": {},
     "output_type": "execute_result"
    }
   ],
   "source": [
    "a[a .< 20]"
   ]
  },
  {
   "cell_type": "code",
   "execution_count": 39,
   "id": "0fa704df-d2e5-40e4-a68c-cbc2fa80f4d1",
   "metadata": {
    "tags": []
   },
   "outputs": [
    {
     "data": {
      "text/plain": [
       "2-element Vector{Int64}:\n",
       " 10\n",
       " 15"
      ]
     },
     "execution_count": 39,
     "metadata": {},
     "output_type": "execute_result"
    }
   ],
   "source": [
    "@. a[a < 20] # 이게 편할지도"
   ]
  },
  {
   "cell_type": "markdown",
   "id": "1dd28a26-1695-4793-af92-5eb2ea3f2f62",
   "metadata": {},
   "source": [
    "`-` 예시2"
   ]
  },
  {
   "cell_type": "code",
   "execution_count": 40,
   "id": "4a25f217-395c-4b1d-bfae-ddded6862e84",
   "metadata": {
    "tags": []
   },
   "outputs": [
    {
     "data": {
      "text/plain": [
       "2-element Vector{Int64}:\n",
       " 1\n",
       " 2"
      ]
     },
     "execution_count": 40,
     "metadata": {},
     "output_type": "execute_result"
    }
   ],
   "source": [
    "a = [1,2,3,4,5]\n",
    "b = [5,4,3,2,1] \n",
    "@. a[a < b]"
   ]
  },
  {
   "cell_type": "markdown",
   "id": "44c70dee-7400-41a0-8a50-c22a457e1489",
   "metadata": {},
   "source": [
    "# 7. 원소의 추가 "
   ]
  },
  {
   "cell_type": "markdown",
   "id": "d99be302-0154-47fb-9cb2-611bc66b5521",
   "metadata": {},
   "source": [
    "## A. `append!`"
   ]
  },
  {
   "cell_type": "markdown",
   "id": "e4e7790a-1577-4b4f-9cce-d2c919ce459c",
   "metadata": {},
   "source": [
    "`-` 예시"
   ]
  },
  {
   "cell_type": "code",
   "execution_count": 41,
   "id": "0c46ad3b-2a05-4d44-9762-56d47a1aacbf",
   "metadata": {
    "tags": []
   },
   "outputs": [
    {
     "data": {
      "text/plain": [
       "4-element Vector{Int64}:\n",
       " 1\n",
       " 2\n",
       " 3\n",
       " 4"
      ]
     },
     "execution_count": 41,
     "metadata": {},
     "output_type": "execute_result"
    }
   ],
   "source": [
    "a = [1,2,3]\n",
    "b = [4] \n",
    "append!(a,b)"
   ]
  },
  {
   "cell_type": "code",
   "execution_count": 42,
   "id": "34b54c6e-f7fd-461f-87dd-b107e328d3ba",
   "metadata": {
    "tags": []
   },
   "outputs": [
    {
     "data": {
      "text/plain": [
       "([1, 2, 3, 4], [4])"
      ]
     },
     "execution_count": 42,
     "metadata": {},
     "output_type": "execute_result"
    }
   ],
   "source": [
    "a,b"
   ]
  },
  {
   "cell_type": "markdown",
   "id": "21ae1e32-a058-4409-ad2e-3e32c33f9aa5",
   "metadata": {},
   "source": [
    "> `append!`는 numpy에서 concat 느낌 "
   ]
  },
  {
   "cell_type": "markdown",
   "id": "ed4a72d5-70b8-4be2-8d74-2eb79cb23dfe",
   "metadata": {},
   "source": [
    "## B. `push!`"
   ]
  },
  {
   "cell_type": "markdown",
   "id": "0dd7a773-42b5-4763-8bd4-217216a6bdd7",
   "metadata": {},
   "source": [
    "`-` 예시"
   ]
  },
  {
   "cell_type": "code",
   "execution_count": 43,
   "id": "3d819933-f469-4c0c-a496-73a0e0061811",
   "metadata": {
    "tags": []
   },
   "outputs": [
    {
     "data": {
      "text/plain": [
       "4-element Vector{Int64}:\n",
       " 1\n",
       " 2\n",
       " 3\n",
       " 4"
      ]
     },
     "execution_count": 43,
     "metadata": {},
     "output_type": "execute_result"
    }
   ],
   "source": [
    "a = [1,2,3]\n",
    "push!(a,4)"
   ]
  },
  {
   "cell_type": "markdown",
   "id": "2adfa5d0-5b70-48dc-88d2-4cf803251be0",
   "metadata": {},
   "source": [
    "> `push!`는 list에서 append 느낌 "
   ]
  },
  {
   "cell_type": "markdown",
   "id": "15ab7f4e-8fd4-4805-afe8-fcfd25b0c89a",
   "metadata": {},
   "source": [
    "# 8. 결합 "
   ]
  },
  {
   "cell_type": "markdown",
   "id": "a0224524-37f8-4464-9192-e1dcd46b6745",
   "metadata": {},
   "source": [
    "## A. `cat`"
   ]
  },
  {
   "cell_type": "markdown",
   "id": "ab98ed1d-862d-4af1-bbe9-a5b73fe570a0",
   "metadata": {},
   "source": [
    "> np.concat, np.stack 등이 합쳐진 형태"
   ]
  },
  {
   "cell_type": "markdown",
   "id": "ac8bcba7-675c-465a-a28f-b4a038ccec42",
   "metadata": {},
   "source": [
    "`-` 예시1"
   ]
  },
  {
   "cell_type": "code",
   "execution_count": 44,
   "id": "efb4c482-360f-4b57-bf10-0d7a2db74264",
   "metadata": {
    "tags": []
   },
   "outputs": [
    {
     "data": {
      "text/plain": [
       "1-element Vector{Int64}:\n",
       " 4"
      ]
     },
     "execution_count": 44,
     "metadata": {},
     "output_type": "execute_result"
    }
   ],
   "source": [
    "a = [1,2,3]\n",
    "b = [4] "
   ]
  },
  {
   "cell_type": "code",
   "execution_count": 45,
   "id": "e730170c-cd3c-451e-a4c5-1bd909449587",
   "metadata": {
    "tags": []
   },
   "outputs": [
    {
     "data": {
      "text/plain": [
       "4-element Vector{Int64}:\n",
       " 1\n",
       " 2\n",
       " 3\n",
       " 4"
      ]
     },
     "execution_count": 45,
     "metadata": {},
     "output_type": "execute_result"
    }
   ],
   "source": [
    "cat(a,b,dims=1) # np.concat 과 비슷"
   ]
  },
  {
   "cell_type": "markdown",
   "id": "9c4f96da-46c0-4643-aedc-f23722649a83",
   "metadata": {},
   "source": [
    "`-` 예시2"
   ]
  },
  {
   "cell_type": "code",
   "execution_count": 46,
   "id": "9da82cb3-3db8-48e2-a2a1-e9333f55164e",
   "metadata": {
    "tags": []
   },
   "outputs": [
    {
     "data": {
      "text/plain": [
       "3-element Vector{Int64}:\n",
       " -1\n",
       " -2\n",
       " -3"
      ]
     },
     "execution_count": 46,
     "metadata": {},
     "output_type": "execute_result"
    }
   ],
   "source": [
    "a = [1,2,3]\n",
    "b = -a"
   ]
  },
  {
   "cell_type": "code",
   "execution_count": 47,
   "id": "b1eef012-4cd7-42c1-8de0-000d25b0bc1d",
   "metadata": {
    "tags": []
   },
   "outputs": [
    {
     "data": {
      "text/plain": [
       "3×2 Matrix{Int64}:\n",
       " 1  -1\n",
       " 2  -2\n",
       " 3  -3"
      ]
     },
     "execution_count": 47,
     "metadata": {},
     "output_type": "execute_result"
    }
   ],
   "source": [
    "cat(a,b,dims=2) "
   ]
  },
  {
   "cell_type": "code",
   "execution_count": 48,
   "id": "d9508efb-355d-4ce9-b832-d46ccd817cd6",
   "metadata": {
    "tags": []
   },
   "outputs": [
    {
     "data": {
      "text/plain": [
       "6-element Vector{Int64}:\n",
       "  1\n",
       "  2\n",
       "  3\n",
       " -1\n",
       " -2\n",
       " -3"
      ]
     },
     "execution_count": 48,
     "metadata": {},
     "output_type": "execute_result"
    }
   ],
   "source": [
    "cat(a,b,dims=1)"
   ]
  },
  {
   "cell_type": "markdown",
   "id": "c69ddc8d-ffb4-42a7-bdc0-104282b45e1d",
   "metadata": {},
   "source": [
    "`-` 예시3"
   ]
  },
  {
   "cell_type": "code",
   "execution_count": 49,
   "id": "5744451d-4fde-41f0-b9a8-68aa01785a7f",
   "metadata": {
    "tags": []
   },
   "outputs": [
    {
     "data": {
      "text/plain": [
       "2×3 Matrix{Int64}:\n",
       " -1  -2  -3\n",
       " -3  -4  -5"
      ]
     },
     "execution_count": 49,
     "metadata": {},
     "output_type": "execute_result"
    }
   ],
   "source": [
    "a = [1 2 3\n",
    "     3 4 5]\n",
    "b = -a"
   ]
  },
  {
   "cell_type": "code",
   "execution_count": 50,
   "id": "3d58e80f-5a62-49bc-b020-d282998978d3",
   "metadata": {
    "tags": []
   },
   "outputs": [
    {
     "data": {
      "text/plain": [
       "4×3 Matrix{Int64}:\n",
       "  1   2   3\n",
       "  3   4   5\n",
       " -1  -2  -3\n",
       " -3  -4  -5"
      ]
     },
     "execution_count": 50,
     "metadata": {},
     "output_type": "execute_result"
    }
   ],
   "source": [
    "cat(a,b,dims=1)"
   ]
  },
  {
   "cell_type": "code",
   "execution_count": 51,
   "id": "06a1b669-d894-4019-ba8c-9644470f9fb1",
   "metadata": {
    "tags": []
   },
   "outputs": [
    {
     "data": {
      "text/plain": [
       "2×6 Matrix{Int64}:\n",
       " 1  2  3  -1  -2  -3\n",
       " 3  4  5  -3  -4  -5"
      ]
     },
     "execution_count": 51,
     "metadata": {},
     "output_type": "execute_result"
    }
   ],
   "source": [
    "cat(a,b,dims=2)"
   ]
  },
  {
   "cell_type": "code",
   "execution_count": 52,
   "id": "9f38b410-b70a-4d39-a2c7-9f11a985ce34",
   "metadata": {
    "tags": []
   },
   "outputs": [
    {
     "data": {
      "text/plain": [
       "2×3×2 Array{Int64, 3}:\n",
       "[:, :, 1] =\n",
       " 1  2  3\n",
       " 3  4  5\n",
       "\n",
       "[:, :, 2] =\n",
       " -1  -2  -3\n",
       " -3  -4  -5"
      ]
     },
     "execution_count": 52,
     "metadata": {},
     "output_type": "execute_result"
    }
   ],
   "source": [
    "cat(a,b,dims=3)"
   ]
  },
  {
   "cell_type": "markdown",
   "id": "9eac96b9-ceb9-408a-afb9-7ab348b3cdd2",
   "metadata": {},
   "source": [
    "`-` 예시4 -- 아래도 가능"
   ]
  },
  {
   "cell_type": "code",
   "execution_count": 53,
   "id": "44a5475f-d678-42d3-b3e3-300558a302e8",
   "metadata": {
    "tags": []
   },
   "outputs": [
    {
     "data": {
      "text/plain": [
       "4-element Vector{Int64}:\n",
       " 1\n",
       " 2\n",
       " 3\n",
       " 2"
      ]
     },
     "execution_count": 53,
     "metadata": {},
     "output_type": "execute_result"
    }
   ],
   "source": [
    "a = [1,2,3]\n",
    "b = 2 \n",
    "cat(a,b,dims=1)"
   ]
  },
  {
   "cell_type": "markdown",
   "id": "aeda1402-aa3f-48f7-8c5f-a4a5eb4b6db7",
   "metadata": {},
   "source": [
    "`-` 예시5 -- 아래도 가능"
   ]
  },
  {
   "cell_type": "code",
   "execution_count": 54,
   "id": "7f959c6d-4092-41eb-9ddd-ec82be3fe4cc",
   "metadata": {
    "tags": []
   },
   "outputs": [
    {
     "data": {
      "text/plain": [
       "([1 3; 2 4], [3, 4])"
      ]
     },
     "execution_count": 54,
     "metadata": {},
     "output_type": "execute_result"
    }
   ],
   "source": [
    "a = reshape(1:4, (2,2))\n",
    "b = [3,4]\n",
    "a,b"
   ]
  },
  {
   "cell_type": "code",
   "execution_count": 55,
   "id": "5b9fc29d-028c-4f5c-b1c0-c34e24596331",
   "metadata": {
    "tags": []
   },
   "outputs": [
    {
     "data": {
      "text/plain": [
       "2×3 Matrix{Int64}:\n",
       " 1  3  3\n",
       " 2  4  4"
      ]
     },
     "execution_count": 55,
     "metadata": {},
     "output_type": "execute_result"
    }
   ],
   "source": [
    "cat(a,b,dims=2)"
   ]
  },
  {
   "cell_type": "markdown",
   "id": "5b6d839a-5c5c-469b-8633-e31ad7fbf604",
   "metadata": {},
   "source": [
    "## B. `[]`를 이용한 결합 "
   ]
  },
  {
   "cell_type": "markdown",
   "id": "ed39596f-e13b-4abe-a91c-51f266de9591",
   "metadata": {},
   "source": [
    "`-` 예시1"
   ]
  },
  {
   "cell_type": "code",
   "execution_count": 56,
   "id": "a40e983f-b960-486d-a1b0-6911908ac558",
   "metadata": {
    "tags": []
   },
   "outputs": [
    {
     "data": {
      "text/plain": [
       "([1, 2, 3], [-1, -2, -3])"
      ]
     },
     "execution_count": 56,
     "metadata": {},
     "output_type": "execute_result"
    }
   ],
   "source": [
    "a = [1,2,3]\n",
    "b = -a\n",
    "a,b"
   ]
  },
  {
   "cell_type": "code",
   "execution_count": 57,
   "id": "f0b96f7a-93eb-4f36-8712-f238aebf557e",
   "metadata": {
    "tags": []
   },
   "outputs": [
    {
     "data": {
      "text/plain": [
       "3×2 Matrix{Int64}:\n",
       " 1  -1\n",
       " 2  -2\n",
       " 3  -3"
      ]
     },
     "execution_count": 57,
     "metadata": {},
     "output_type": "execute_result"
    }
   ],
   "source": [
    "[a b]"
   ]
  },
  {
   "cell_type": "code",
   "execution_count": 58,
   "id": "ea265071-8170-4769-a1fe-1e6f3d420aa4",
   "metadata": {
    "tags": []
   },
   "outputs": [
    {
     "data": {
      "text/plain": [
       "6-element Vector{Int64}:\n",
       "  1\n",
       "  2\n",
       "  3\n",
       " -1\n",
       " -2\n",
       " -3"
      ]
     },
     "execution_count": 58,
     "metadata": {},
     "output_type": "execute_result"
    }
   ],
   "source": [
    "[a\n",
    " b]"
   ]
  },
  {
   "cell_type": "markdown",
   "id": "00e5103c-9557-45ba-aa36-c89f14793341",
   "metadata": {},
   "source": [
    "`-` 예시2 "
   ]
  },
  {
   "cell_type": "code",
   "execution_count": 59,
   "id": "dc385911-ca5f-445d-9ef0-35ea5d370f2b",
   "metadata": {
    "tags": []
   },
   "outputs": [
    {
     "data": {
      "text/plain": [
       "4"
      ]
     },
     "execution_count": 59,
     "metadata": {},
     "output_type": "execute_result"
    }
   ],
   "source": [
    "a = [1,2,3] \n",
    "b = 4"
   ]
  },
  {
   "cell_type": "code",
   "execution_count": 60,
   "id": "9d8ac161-bed0-4086-976a-9a16cd3e3884",
   "metadata": {
    "tags": []
   },
   "outputs": [
    {
     "data": {
      "text/plain": [
       "4-element Vector{Int64}:\n",
       " 1\n",
       " 2\n",
       " 3\n",
       " 4"
      ]
     },
     "execution_count": 60,
     "metadata": {},
     "output_type": "execute_result"
    }
   ],
   "source": [
    "[a \n",
    " b]"
   ]
  },
  {
   "cell_type": "markdown",
   "id": "1670251d-4dc2-47f0-8b98-6301e97f246b",
   "metadata": {},
   "source": [
    "`-` 예시3"
   ]
  },
  {
   "cell_type": "code",
   "execution_count": 61,
   "id": "e67b7607-20d8-45ba-b43f-1bff3bed0d6f",
   "metadata": {
    "tags": []
   },
   "outputs": [
    {
     "data": {
      "text/plain": [
       "2-element Vector{Int64}:\n",
       " 0\n",
       " 0"
      ]
     },
     "execution_count": 61,
     "metadata": {},
     "output_type": "execute_result"
    }
   ],
   "source": [
    "a = [1 2; 3 4]\n",
    "b = [0,0] "
   ]
  },
  {
   "cell_type": "code",
   "execution_count": 62,
   "id": "23631b25-8a31-43ec-8e93-89e9d9d0badf",
   "metadata": {
    "tags": []
   },
   "outputs": [
    {
     "data": {
      "text/plain": [
       "2×3 Matrix{Int64}:\n",
       " 1  2  0\n",
       " 3  4  0"
      ]
     },
     "execution_count": 62,
     "metadata": {},
     "output_type": "execute_result"
    }
   ],
   "source": [
    "[a b]"
   ]
  }
 ],
 "metadata": {
  "kernelspec": {
   "display_name": "Julia 1.9.2",
   "language": "julia",
   "name": "julia-1.9"
  },
  "language_info": {
   "file_extension": ".jl",
   "mimetype": "application/julia",
   "name": "julia",
   "version": "1.9.2"
  }
 },
 "nbformat": 4,
 "nbformat_minor": 5
}
