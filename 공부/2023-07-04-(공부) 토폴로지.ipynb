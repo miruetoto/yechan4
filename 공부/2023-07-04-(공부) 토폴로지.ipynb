{
 "cells": [
  {
   "cell_type": "raw",
   "id": "0415b99b-fbda-4970-9314-c725b90ed63f",
   "metadata": {},
   "source": [
    "---\n",
    "title: \"(공부) 토폴로지\"\n",
    "author: \"신록예찬\"\n",
    "date: \"07/04/2023\"\n",
    "---"
   ]
  },
  {
   "cell_type": "markdown",
   "id": "fc06141e-930d-4291-b4aa-d49ea24aee6c",
   "metadata": {},
   "source": [
    "\n",
    "# About this doc \n",
    "\n",
    "`-` 수학공부 \n",
    "\n",
    "`-` 학부수준 \n",
    "\n",
    "`-` 이 문서는 논문을 읽을때 등장하는 ***topology*** 용어들을 좀더 명확하게 이해하고 싶어서 작성하였다. 가볍게 정의만 훑어보는 것이라 깊게 들어가지는 않을 예정이다. 교재는 Schaum's General Topology 를 참고하였다. \n",
    "- Lipschutz, S. (1965). Schaum's outline of theory and problems of general topology. Schaum's Outline Series.\n",
    "\n",
    "`-` 여기에서는 토폴로지의 정의와 메트릭스페이스의 정의 그리고 컴플리션의 정의에 대하여 다룬다. \n"
   ]
  },
  {
   "cell_type": "markdown",
   "id": "6a3b8f16-79da-4d49-8607-eb427435bef2",
   "metadata": {},
   "source": [
    "# Chap 5: 토폴로지 "
   ]
  },
  {
   "cell_type": "markdown",
   "id": "f9fbece9-c723-4d1a-9eb1-a49f8901d5af",
   "metadata": {},
   "source": [
    "`-` **(@lipschutz1965schaum, p.66)** ${\\cal T}$ 가 $X$ 의 subset 으로 이루어진 collection 이라고 하자. ${\\cal T}$ 가 $X$ 를 포함하며 ***uncountable union*** 에 닫혀있고 ***finite intersection*** 에 닫혀있다면 ${\\cal T}$ 를 $X$ 의 topology 라고 한다. 그리고 $(X,{\\cal T})$ 를 ***topological space*** 라고 한다. ${\\cal T}$ 가 $X$의 토플로지일때 ${\\cal T}$ 의 원소를 ***${\\cal T}$-open set*** 이라고 한다. 따라서 원래 오픈셋은 마치 확률변수처럼 단독으로 정의할 수 없고 어떠한 토폴로지 ${\\cal T}$와 같이 정의된다. "
   ]
  },
  {
   "cell_type": "markdown",
   "id": "2e9e2211-72ac-422e-bdcc-d8bb5b6467cc",
   "metadata": {},
   "source": [
    "`-` **(@lipschutz1965schaum, p.66)** 아래와 같은 collection 을 생각하자. \n",
    "\n",
    "$${\\cal O}:=\\{O: O=\\cup_i(a_i,b_i), a_i,b_i \\in \\mathbb{R} \\} $$\n",
    "\n",
    "컬렉션 ${\\cal O}$ 는 $\\mathbb{R}$ 의 토폴로지가 된다. (증명은 알아서..) 이러한 토폴로지(=오픈인터벌의 카운터블-유니온으로 표현가능한 집합들의 모임)을 특별히 ***usual topology*** 라고 한다. 그리고 이 토폴로지의 원소를 ${\\cal O}$-오픈셋이라고 부른다. 따라서 어떤 집합 $O$ 가 ${\\cal O}$-오픈셋 이라는 말은 그 집합이 오픈인터벌의 카운터블-유니온으로 표현가능한 집합임을 의미한다. "
   ]
  },
  {
   "cell_type": "markdown",
   "id": "87ec5d6a-b17e-4f08-9b3e-4809bb8e7ab9",
   "metadata": {},
   "source": [
    "`-` 참고로 ${\\cal O}$ 가 우리가 일반적으로 생각하는 '오픈셋들의 모임' 이고  ${\\cal O}$-오픈셋이 보통 우리가 일반적으로 유클리드 공간에서 상상하는 오픈셋이다. **그래서 앞으로 특별한 언급없이 그냥 '오픈셋' 이라고 부르면 토폴로지 $(\\mathbb{R},{\\cal O})$ 에서 정의가능한 '${\\cal O}$-오픈셋' 을 의미하는 것이라고 생각하면 된다.**  "
   ]
  },
  {
   "cell_type": "markdown",
   "id": "011ea0a8-b440-4351-8e8f-5cb6d9ebb70f",
   "metadata": {},
   "source": [
    "`-` 즉 우리가 일반적으로 생각하는 오픈셋^[정확하게는 $\\cal O$-오픈셋]은 오픈인터벌 $(a,b)$ 의 ***countable-many union*** 으로 표현가능한 집합이라고 이해해도 된다. "
   ]
  },
  {
   "cell_type": "markdown",
   "id": "7332269b-dc32-4e1c-8ad9-ec76934d0a3a",
   "metadata": {},
   "source": [
    "`-` 오픈셋 $O$의 원소를 ***interior point of $O$*** 라고 한다. ${\\cal O}$의 정의에 의해서 인테리어포인트는 모두 아래의 성질을 만족한다. \n",
    "\n",
    "$$\\forall o \\in O ~ \\exists a,b \\in \\mathbb{R}~ st.~  o \\in (a,b)$$\n",
    "\n",
    "증명은 귀류법을 쓰면 쉽게 된다. "
   ]
  },
  {
   "cell_type": "markdown",
   "id": "3a2dbba2-3213-47b7-bac4-747349e889c3",
   "metadata": {},
   "source": [
    "`-` 저 정리가 생각보다 중요하다. 그리고 이 정리를 **나이테정리** 라고 기억하자. 이 정리는 ${\\cal O}$-오픈셋이 아닌 일반적인 ${\\cal T}$-오픈셋에 대하여서도 성립한다. 즉 $(X,{\\cal T})$가 위상공간이고 $T$가 ${\\cal T}$의 임의의 집합이라 하자. $T$의 임의의 원소 $p$에 대하여 (1) $p$ 를 포함하지만 (2) $T$ 보다 작은 다른 ${\\cal T}$-오픈셋이 항상 존재한다. "
   ]
  },
  {
   "cell_type": "markdown",
   "id": "90da738e-d357-4769-80e9-ff2ea99d7afb",
   "metadata": {},
   "source": [
    "`-` 그리고 교재에 따라서는 위와 같은 성질을 만족하는 것을 오픈셋이라고 정의하기도 한다. 이와 같은 논리흐름으로는 오픈인터벌 $(a,b)$를 정의하고 그로부터 인테리어포인트 $o$와 오픈셋 $O$를 정의하고 그로부터 토폴로지 ${\\cal O}$를 정의할 수 있다. 하지만 이러한 방식의 ***contruction*** 으로는 $(\\mathbb{R},{\\cal O})$ 만 만들수있다. 일반적으로는 적당한 ${\\cal T}$가 $X$의 토폴로지임을 밝히고 그로부터 오픈셋을 정의하고 그 다음 인테리어포인트를 정의하는 식으로 각 요소들을 contruction 한다. "
   ]
  },
  {
   "cell_type": "markdown",
   "id": "7b48dd68-5258-4d7d-b907-c3474bd17d77",
   "metadata": {},
   "source": [
    "`-` 오픈셋의 여집합을 클로즈드셋이라고 한다. 여기서 사람들이 \"모든 집합은 오픈셋이거나 클로즈드셋 이어야 한다\" 라고 착각하기 쉬운데 사실 그런것은 아니다. "
   ]
  },
  {
   "cell_type": "markdown",
   "id": "1cca34a9-9c22-4a69-b176-d7c0c7606416",
   "metadata": {},
   "source": [
    "`-` 어떠한 construction을 사용하든지 아래의 사실들이 성립한다. 따로 설명을 쓰지 않은 것은 아주 약간의 머리를 쓰면 쉽게 증명할 수 있는 것들이다. (하지만 그냥 받아들이거나 외우는 것이 편하다.) 참고로 아래의 모든 사실들은 보통위상공간 즉 $(\\mathbb{R},{\\cal O})$ 를 전제하고 서술한 것이다. \n",
    "\n",
    "**(1)** $(a,b)$ 는 오픈셋이다. \n",
    "\n",
    "**(2)** $\\mathbb{R}$ 은 오픈셋이다. 동시에 클로즈드셋이다^[공집합이 오픈셋이므로].\n",
    "\n",
    "**(3)** $\\emptyset$ 은 오픈셋이다. 동시에 클로즈드셋이다^[$\\mathbb{R}$이 오픈셋이므로]. \n",
    "\n",
    "**(4)** 오픈셋은 ***uncountable union*** 에 닫혀있다. 즉 $O_t$가 각각 오픈셋일때 $\\cup_t O_t$ 역시 오픈셋이다.\n",
    "\n",
    "**(5)** 오픈셋은 ***finite intersection*** 에 닫혀있다. 즉 $O_i$가 각각 오픈셋이면 $\\cap_{i=1}^{n} O_i$ 역시 오픈셋이다 \n",
    "\n",
    "**(6)** 한점 $p$로 이루어진 집합 $\\{p\\}$는 오픈셋이 아니다. 이것이 오픈셋이 되려면 $\\{p\\}$의 모든원소(라고 해봤자 $p$ 밖에 없음)가 내점이어야 하고 $p$가 $\\{p\\}$의 내점이려면 $p$를 포함하는 오픈인터벌 $(a,b)$가 $\\{p\\}$의 부분집합으로 존재해야하는데 이것이 불가능하기 때문이다. ^[다만 이것은 위상공간을 $(\\mathbb{R},{\\cal O})$로 생각하였을때 이야기이고 위상공간을 $(\\mathbb{R},2^{\\mathbb{R}})$로 생각한다면 $\\{p\\}$ 도 오픈셋이 된다.]\n",
    "\n",
    "**(7)** 오픈셋의 ***countable-many intersection*** 은 오픈셋이 아니다. 왜냐하면 $\\cap_{n=1}^{\\infty}(-1/n,1/n)=\\{0\\}$ 인데 $\\{0\\}$은 오픈셋이 아니기 때문이다.\n"
   ]
  },
  {
   "cell_type": "markdown",
   "id": "32bbc731-d38d-4e07-ad4b-b2e4d6df7fc1",
   "metadata": {},
   "source": [
    "`-` (@lipschutz1965schaum, p. 69) 위상공간 $(X,{\\cal T})$ 를 상상하자. $X$의 부분집합 $A$를 상상하자. ***\"집합 $A$가 $X$에서 dense 하다\"*** 라는 의미는 $\\bar{A}=X$라는 의미이다. 가장 빈번하게 사용하는 표현은 \"유리수집합 $\\mathbb{Q}$는 실수 $\\mathbb{R}$에서 dense 하다\" 인데 이것은$\\bar{\\mathbb{Q}}=\\mathbb{R}$이 성립하기 때문이다 (예제 4.3). "
   ]
  },
  {
   "cell_type": "markdown",
   "id": "353ef82c-8d90-426c-bef3-fa889661f694",
   "metadata": {},
   "source": [
    "# Chap 6: 기저"
   ]
  },
  {
   "cell_type": "markdown",
   "id": "ab23f93c-c7df-416a-80e4-6eb5075b4cda",
   "metadata": {},
   "source": [
    "`-` 오픈인터벌 $(a,b)$를 적당히 countable-many union 하면 $\\mathbb{R}$ 에 존재하는 어떠한 오픈셋 $O$도 표현할 수 있다. 이럴때 $(a,b)$ 모아놓은 collection ${\\cal B}:=\\{(a,b): a<b \\in \\mathbb{R}\\}$ 를 토폴로지 ${\\cal O}$의 ***base*** 라고 한다. 이처럼 어떠한 위상공간 $(X,{\\cal T})$ 가 있을때 토폴로지 ${\\cal T}$ 의 임의의 집합을 ${\\cal B}$의 원소들의 uncountable union 으로 표현가능때 ${\\cal B}$를 ${\\cal T}$의 ***base*** 라고 한다. 그리고 추가적으로 base의 모든 원소는 ${\\cal T}$-오픈셋이어야 한다는 조건도 포함된다. "
   ]
  },
  {
   "cell_type": "markdown",
   "id": "f161a546-77cc-4b95-9038-0b320a7dc109",
   "metadata": {},
   "source": [
    "`-` 토폴로지 ${\\cal T}$의 base는 유일하지 않다. "
   ]
  },
  {
   "cell_type": "markdown",
   "id": "f328b5ff-76c4-4239-908a-4cc139b5c4db",
   "metadata": {},
   "source": [
    "`-` 아래와 같은 collection을 상상하여 보자. \n",
    "\n",
    "$$\\tilde{\\cal B}:=\\{all~ ray~ in~\\mathbb{R} \\} := \\{(-\\infty,b): b\\in \\mathbb{R} \\} \\cup \\{(a,\\infty): a \\in \\mathbb{R}\\}$$\n",
    "\n",
    "보는 것처럼 $\\tilde{\\cal B}$는 위상의 정의를 만족한다. 그리고 $\\tilde{\\cal B}$는 ${\\cal O}$의 base가 아니다. 하지만 $\\pi(\\tilde{\\cal B})$ 는 $(a,b)$를 포함하고 있기에 ${\\cal O}$ 의 base가 된다. 여기에서 $\\pi(\\tilde{\\cal B})$ 는 $\\tilde{\\cal B}$ 에 의해서 생성된 가장 작은 ***$\\pi$-system*** 이다. "
   ]
  },
  {
   "cell_type": "markdown",
   "id": "a391b63e-5b8d-458b-b782-28ec78d5981b",
   "metadata": {},
   "source": [
    "`-` 참고로 $\\pi$-시스템은 모든 원소가 ***finite intersection*** 에 닫혀있는 collection 을 의미한다. 전체집합은 ***empty intersection*** 으로 해석할 수 있으므로 모든 파이시스템은 전체집합을 포함한다. 따라서 파이시스템을 정의하면 전체집합을 같이 정의하는것과 마찬가지이다. 따라서 파이시스템 역시 시그마필드와 토폴로지처럼 전체집합과 동시에 정의된다. 그리고 정의에 따라서 임의의 집합에 대한 토폴로지와 시그마필드 모두 파이시스템이 된다. "
   ]
  },
  {
   "cell_type": "markdown",
   "id": "20fad8d1-0845-4a34-a8b6-604c1d5519bf",
   "metadata": {},
   "source": [
    "`-` 위에서 예를 든 $\\tilde{\\cal B}$ 와 같이 그것 자체가 어떤 위상 ${\\cal T}$ 의 base는 아니지만 $\\pi(\\tilde{\\cal B})$ 는 ${\\cal T}$ 의 base가 될때 $\\tilde{\\cal B}$를 ${\\cal T}$의 ***subbase*** 라고 한다. "
   ]
  },
  {
   "cell_type": "markdown",
   "id": "4b5a3644-06d9-4a54-a381-1ca6c9ec5c8d",
   "metadata": {},
   "source": [
    "`-` $\\tilde{\\cal B}$ 가 토폴로지 ${\\cal T}$의 subbase이면 $\\tilde{\\cal B}$로 ${\\cal T}$를 ***generate*** 할 수 있다. "
   ]
  },
  {
   "cell_type": "markdown",
   "id": "4d9bf90e-8fd7-4ea2-b649-72aac20875cc",
   "metadata": {},
   "source": [
    "# Chap 8: Metric and Normed Spaces"
   ]
  },
  {
   "cell_type": "markdown",
   "id": "a4eea87b-1b85-40cb-a204-7ce2110032e2",
   "metadata": {},
   "source": [
    "`-` $d:X \\times X \\to \\mathbb{R}$ 가 (1) 음이 아니고 (2) 대칭이며 (3) 삼각부등식을 만족하면 집합 $X$ 에서의 ***metric*** 이라고 한다. 이때 음이 아닐 조건은 \n",
    "\n",
    "$$\\begin{cases}\n",
    "d(a,b) > 0 & a \\neq b \\\\\n",
    "d(a,b) = 0 & a=b \n",
    "\\end{cases}$$\n",
    "\n",
    "이다. 만약에 메트릭의 모든 조건을 만족하는데 $d(a,b)=0$ 인 서로 다른 $a,b \\in X$ 가 존재하는 경우 $d$ 를 ***pseudometric*** 이라고 한다. "
   ]
  },
  {
   "cell_type": "markdown",
   "id": "8ae1c986-9374-4636-ad85-e2e389bbe510",
   "metadata": {},
   "source": [
    "\n",
    "`-` $d$ 을 집합 $X$ 에서의 메트릭이라고 하자. 메트릭이 존재한다는 것은 집합 $X$의 어떠한 두 원소라도 그 사이의 거리를 잴 수 있다는 말이고 그것은 집합 $X$의 임의의 점 $p$에서 아래와 같은 ***ball*** 을 정의할 수 있는 말이다. \n",
    "\n",
    "$$S(p,\\delta) := \\{x:d(p,x)<\\delta,x \\in X \\}$$\n",
    "\n",
    "참고로 위와 같은 ball 들을 모은 collection 을 ${\\cal B}$라고 하자. 그리고 ${\\cal B}$의 임의의 원소를 언카운터블-유니온하여 얻을 수 있는 집합들의 모임을 ${\\cal T}$라고 하자. 그러면 (1) ${\\cal T}$ 가 $X$ 의 토폴로지임을 보이고 (2) ${\\cal B}$의 모든 원소가 ${\\cal T}$-오픈셋임을 보인다면 ${\\cal B}$는 ${\\cal T}$의 base가 된다고 주장할 수 있다(***Thm 8.4***). 그런데 (2)는 (1)이 성립하면 자동으로 성립하므로 (1)만 보이면 된다. 그러기 위해서는 아래의 (i)-(iii)을 보이면 된다. \n",
    "\n",
    "\n",
    "***(i)*** 우선 ${\\cal T}$가 언카운터블-유니온에 닫혀있음은 ***associative laws*** 에 의해서 쉽게 증명된다. \n",
    "\n",
    "***(ii)*** 이제 ${\\cal T}$가 파이나이트-인터섹션에 닫혀있음을 보이자. ${\\cal T}$의 임의의 두 원소는 각각 ${\\cal B}$의 언카운터블-유니온으로 표현가능하다. 가령 예를들어 임의의 $T,S \\in {\\cal T}$ 가 아래와 같이 표현되었다고 치자. \n",
    "\n",
    "$$T=\\bigcup_{t\\in [0,1]}B_{t}, \\quad S=\\bigcup_{s\\in [2,3]}B_{s}$$\n",
    "\n",
    "따라서 $T\\cap S$ 는 ***distributive laws*** 에 의해서 아래와 같이 표현가능하다. \n",
    "\n",
    "$$T \\cap S = \\bigcup_{(t,s) \\in [0,1]\\times[2,3]} B_t \\cap B_s $$\n",
    "\n",
    "(i)에 의해서 $B_t \\cap B_s$가 ${\\cal T}$의 원소이기만 하면 $T \\cap S$ 역시 ${\\cal T}$의 원소가 되는 구조라 (ii)가 증명된다. 따라서 이제 우리가 할일은 $B_t\\cap B_s$가 ${\\cal T}$의 원소임을 보이는 것이고 이것은 $B_t \\cap B_s$가 ${\\cal B}$의 언카운터블-유니온으로 표현가능하다는 조건과 동치이다. 우선 $B_t \\cap B_s$에 속하는 임의의 원소를 $b^* $ 라고 하자. 이 점에 대하여 **나이테정리**를 만족시키는 ball이 존재한다. 즉\n",
    "\n",
    "$$\\exists S(b^* ,\\delta)~ st. ~ S(b^* ,\\delta) \\subset B_t \\cap B_s$$\n",
    "\n",
    "이다(***Lemma 8.3***). 그런데 $B_t \\cap B_s$의 모든점에서 이런식으로 나이테정리를 만족하는 ball을 잡을 수 있다. 이러한 ball들의 합집합을 \n",
    "\n",
    "$$\\bigcup_{b^* \\in (B_t \\cap B_s)} S(b^* , \\delta)$$\n",
    "\n",
    "이라고 하자. 자명하게 이 집합은 $B_t\\cap B_s$ 보다 작다(부분집합들의 합이므로). 하지만 $B_t\\cap B_s$의 모든 원소는 이 집합에 포함되므로 이 집합은 $B_t\\cap B_s$보다 크다. 따라서 \n",
    "\n",
    "$$\\bigcup_{b^* \\in (B_t \\cap B_s)} S(b^* , \\delta)=B_t \\cap B_s$$\n",
    "\n",
    "이 성립한다. \n",
    "\n",
    "***(iii)*** ${\\cal T}$가 $X$를 포함한다는 것을 보이는것은 볼의 반지름을 크게 만들면 쉽게 증명할 수 있다. "
   ]
  },
  {
   "cell_type": "markdown",
   "id": "a41a3c07-f985-4b5c-995c-761d882c2f96",
   "metadata": {},
   "source": [
    "\n",
    "`-` 참고로 위의 (i)-(iii)을 요약하면 (1) $X$가 ${\\cal B}$의 언카운터블 유니온으로 표현가능하고 (2) ${\\cal B}$의 임의의 두 원소가 ${\\cal B}$의 언카운터블 유니온으로 표현가능하기만 하면 볼들이 집합이 아니라 어떠한 ${\\cal B}$라도 특정 토폴로지의 base라고 주장할 수 있다. 이것이 교재의 ***Thm 6.1*** 이다. \n"
   ]
  },
  {
   "cell_type": "markdown",
   "id": "7b7447b4-ca68-4b5c-90a2-f033b17d2b72",
   "metadata": {},
   "source": [
    "\n",
    "`-` 아무튼 위의 과정을 거치면 $X$위에서 거리를 정의할 수 있을때 그 거리에 의해서 ball을 정의할 수 있고 ball들의 콜렉션을 base ${\\cal B}$로 정의하고 ${\\cal B}$ 원소들의 언카운터블-유니온으로 표현가능한 집합모임을 토폴로지 ${\\cal T}$로 정의해도 논리적모순점이 없다. 즉 $X$에서 메트릭이 정의되기만 하면 그것에 의해서 순차적으로 토폴로지 ${\\cal T}$를 자연스럽게 유도할 수 있는데 이러한 토폴로지를 특별히 $X$와 $d$에 의해서 유도된 ***metric topology*** 라고 한다. 그리고 $(X,d)$를 ***metric-space*** 라고 한다. "
   ]
  },
  {
   "cell_type": "markdown",
   "id": "fa18836d-a007-4e37-8512-4c50209359b6",
   "metadata": {},
   "source": [
    "`-` $\\mathbb{R}$에서 ${\\cal O}$를 유도하는 메트릭은 우리가 보통 생각하는 유클리드거리이다. 이러한 메트릭을 ***usual metric*** 이라고 한다. "
   ]
  },
  {
   "cell_type": "markdown",
   "id": "f07890aa-bfa5-4a4e-a691-0e556195afd5",
   "metadata": {},
   "source": [
    "\n",
    "`-` $\\mathbb{R}$에서 아래와 같은 거리를 정의할 수 있다.\n",
    "\n",
    "$$d(a,b)=\\begin{cases} \n",
    "0 & a=b \\\\\n",
    "1 & a\\neq b\n",
    "\\end{cases}$$\n",
    "\n",
    "이러한 거리를 ***trivial metric*** 이라고 한다. 그리고 이 거리가 유도하는 토폴로지는 $2^{\\mathbb{R}}$ 이다. (아 몰라.. 따지기 싫어.. 그냥 외워..)\n"
   ]
  },
  {
   "cell_type": "markdown",
   "id": "8908dcea-c81a-4469-af03-41acb48f642a",
   "metadata": {},
   "source": [
    "\n",
    "`-` 만약에 집합 $X$에서 정의된 2개의 메트릭 $d_1$, $d_2$가 같은 토폴로지를 유도한다면 두 메트릭 $d_1$과 $d_2$는 ***equivalent*** 하다고 말한다. \n"
   ]
  },
  {
   "cell_type": "markdown",
   "id": "8e847f4c-9452-44d7-91e8-52dad973a0d8",
   "metadata": {},
   "source": [
    "\n",
    "`-` 토폴로지컬-스페이스 $(X,{\\cal T})$ 가 있다고 하자. 그런데 $X$ 에서 어떠한 메트릭 $d$가 존재해 그것이 ${\\cal T}$를 유도하였다고 하자. 그럼 ${\\cal T}$는 메트릭-토폴로지가 된다. 이와 같이 (1) $X$에서 정의되고 (2) 메트릭-토폴로지 ${\\cal T}$를 유도하는 적당한 메트릭 $d$가 명시된것은 아니지만 그런 메트릭의 존재를 하나 이상 우리가 알고 있을때 위상공간 $(X,{\\cal T})$를 ***metrizable*** 하다고 한다. \n"
   ]
  },
  {
   "cell_type": "markdown",
   "id": "9fe3652f-71db-4b30-a7eb-51658f12437c",
   "metadata": {},
   "source": [
    "\n",
    "`-` 두 메트릭스페이스 $(X,d_1)$ 와 $(Y,d_2)$ 가 ***isometric*** 하다는 것은 아래가 만족하는 ***one-one, onto*** 인 $f:X \\to Y$ 가 존재한다는 것이다. \n",
    "\n",
    "$$d_1(p,q) = d_2(f(p),f(q))$$"
   ]
  },
  {
   "cell_type": "markdown",
   "id": "af033d1a-a82b-4521-a0e6-fd07914133af",
   "metadata": {},
   "source": [
    "`-` 이때 isometric 이라는 ***relation*** 은 보는것 처럼 모든 메트릭공간들의 집합 ${\\cal M}$에서 ***equivalence relation*** 이다. 즉 아래가 성립한다.  \n",
    "\n",
    "**(i)** $(X,d_1) \\overset{ism}{\\sim} (X,d_1)$, \n",
    "\n",
    "**(ii)** $(X,d_1) \\overset{ism}{\\sim} (Y,d_2)$ implies $(Y,d_2) \\overset{ism}{\\sim} (X,d_1)$, \n",
    "\n",
    "**(iii)** $(X,d_1) \\overset{ism}{\\sim} (Y,d_2)$ and $(Y,d_2) \\overset{ism}{\\sim} (Z,d_3)$ imply $(X,d_1) \\overset{ism}{\\sim} (Z,d_3)$. "
   ]
  },
  {
   "cell_type": "markdown",
   "id": "e66c1bf8-88ef-4ea6-ac33-8625bdfc479c",
   "metadata": {},
   "source": [
    "# Chap 9: Countability"
   ]
  },
  {
   "cell_type": "markdown",
   "id": "417fda85-5bf5-470b-b291-99533fff0286",
   "metadata": {},
   "source": [
    "`-` (@lipschutz1965schaum, p. 132) 위상공간 $(X,{\\cal T})$가 ***separable*** 하다는 의미는 $(X,{\\cal T})$ countable dense subset 을 가진다는 의미이다. "
   ]
  },
  {
   "cell_type": "markdown",
   "id": "523e8d34-fb79-4e97-9fb2-042c7a18ae3e",
   "metadata": {},
   "source": [
    "`-` 위상공간 $(\\mathbb{R}, {\\cal O})$를 상상하자. \n",
    "\n",
    "- $A_n = [-n,n] \\cap \\mathbb{Q}$\n",
    "\n",
    "라고 한다면 (1) ${\\cal A} = \\{A_n\\}$ 은 countable 하고 (2) $A_n$은 모두 ($[-n,n]$에서) dense 하다. 따라서 $\\mathbb{R}$은 countable한 dense subset을 가진다. 따라서 $(\\mathbb{R},{\\cal O})$는 seperable 하다."
   ]
  },
  {
   "cell_type": "markdown",
   "id": "c19360ea-04b6-413b-aaa0-fdb2c03550df",
   "metadata": {},
   "source": [
    "# Chap 10: Separation Axioms "
   ]
  },
  {
   "cell_type": "markdown",
   "id": "c018bbc4-a813-4150-913c-7207908b184b",
   "metadata": {},
   "source": [
    "`-` 예비학습1: 위상공간 $(X,{\\cal T})$를 고려하자. $X$의 임의의 닫힌집합 $F$를 상상하자. 그리고 $F$에 소속되지 않은 한 점 $p \\in X$를 상상하자. 이제 닫힌집합 $F$를 포함하는 아주 작은 열린집합 $G$와 $p$를 포함하는 아주 작은 열린집합 $H$를 상상하자. 위상공간 $(X,{\\cal T})$에서 임의의 $F$와 $p$에 대하여서도 두 열린집합 $G$,$H$가 서로소가 되도록 선택할 수 있다면 그 위상공간은 ***regular*** 하다고 표현한다 (@lipschutz1965schaum, p. 140)."
   ]
  },
  {
   "cell_type": "markdown",
   "id": "bd659861-2d61-4c62-a662-c5055439acdf",
   "metadata": {},
   "source": [
    "***이해를 위한 예시***\n",
    "\n",
    "- $F= [0,1]$\n",
    "- $p = 1.01$\n",
    "- $G= (-0.001, 1.001)$\n",
    "- $H= (1.009,1.011)$"
   ]
  },
  {
   "cell_type": "markdown",
   "id": "a3d59e5e-f83b-4267-8bf9-74ca0efe8843",
   "metadata": {},
   "source": [
    "`-` 예비학습2: 위상공간 $(X,{\\cal T})$를 고려하자. $X$의 부분집합중 서로소인 닫힌집합 $F_1,F_2$를 상상하자.이제 닫힌집합 $F_1$를 포함하는 아주 작은 열린집합 $G$와 $F_2$를 포함하는 아주 작은 열린집합 $H$를 상상하자. 위상공간 $(X,{\\cal T})$에서 임의의 $F_1$와 $F_2$에 대하여서도 두 열린집합 $G$,$H$가 서로소가 되도록 선택할 수 있다면 그 위상공간은 ***normal*** 하다고 표현한다 (@lipschutz1965schaum, p. 141). "
   ]
  },
  {
   "cell_type": "markdown",
   "id": "fc04446c-c0d7-4df4-82da-ac175dceeead",
   "metadata": {},
   "source": [
    "`-` 위상공간 $(X,{\\cal T})$ 에는 얼마나 많은 (혹은 다양한) 열린집합이 있을까? 위상공간 $(X,{\\cal T}_1)$이 $T_1$-space라는 의미는 서로 다른 $a,b \\in X$에 대하여 $a$만 포함하는 열린집합 혹은 $b$만 포함하는 열린집합이 각각 존재한다는 의미이다.^[${\\cal T}=\\{\\emptyset, X\\}$로 설정한다면 이 조건은 당연히 성립하지 않겠지?] 위상공간 $(X,{\\cal T}_2)$이 $T_2$-space 혹은 Hausdorff space라는 의미는 $T_1$-space에서, $a$만 포함하는 열린집합과 $b$만 포함하는 열린집합이 서로 disjoint한 경우를 의미한다. 위상공간 $(X,{\\cal T}_3)$이 $T_3$-space 라는 의미는 $T_1$이고 ***regular space*** 라는 의미이다. 위상공간 $(X,{\\cal T}_4)$이 $T_4$-space 라는 의미는 $T_1$이고 ***normal space*** 라는 의미이다. "
   ]
  },
  {
   "cell_type": "markdown",
   "id": "1249581c-8b3c-469b-ab4e-daf81c42c724",
   "metadata": {},
   "source": [
    "`-` 포함관계: $T_1$-space는 $T_2$-space를 포함하고, $T_2$-space는 $T_3$-space를, $T_3$-space는 $T_4$-space를 포함한다 (@lipschutz1965schaum, p. 141 그림). 그리고 metric space는 $T_4$ space에 포함된다. "
   ]
  },
  {
   "cell_type": "markdown",
   "id": "d4e942b4-09c6-4277-9c3c-87d88e7ac751",
   "metadata": {},
   "source": [
    "`-` $T_1$ 위상공간에서는 \"singleton = closed set\" 이라고 주장할 수 있다. (@lipschutz1965schaum, Thm 10.1) $T_2$ 위상공간에서는 \"convergent sequence has a unique limit\" 을 주장할 수 있다 (@lipschutz1965schaum, Thm 10.3). $T_3$ 위상공간은 특별히 기억할만한 부분이 없어보인다. $T_4$ 위상공간은 우리손레마 (urysohn lemma) 가 성립하는 공간이다 (@lipschutz1965schaum, Thm 10.7)."
   ]
  },
  {
   "cell_type": "markdown",
   "id": "9d5c99ef-f53a-4774-abef-c9777ff60691",
   "metadata": {},
   "source": [
    "`-` **우리손레마**: $T_4$ 위상공간 $(X,{\\cal T}_4)$를 상상하자. 그리고 $X$의 부분집합 중 서로소인 닫힌 부분집합 $F_1,F_2$를 상상하자. 우리손레마에 의하면 어떠한 $F_1,F_2$에 대하여서도, \n",
    "\n",
    "- $f(F_1)=\\{0\\}$\n",
    "- $f(F_1)=\\{1\\}$\n",
    "\n",
    "를 만족하는 적당한 연속함수 $f:X \\to [0,1]$이 항상 존재함이 알려져 있다 (@lipschutz1965schaum, Thm 10.7). 이것은 $F_1,F_2$를 구분할 수 있는 어떠한 함수 $f$가 항상 존재함을 의미하는데 이는 $(X,{\\cal T}_4)$를 거리공간화 하는데 이용할 수 있다. 구체적으로 위상공간 $(X,{\\cal T}_4)$가 추가적으로 ***second coutable*** 조건을 만족한다면^[즉 $(X,{\\cal T}_4)$가 countable한 base를 가진다면] $(X,{\\cal T}_4)$ 는 거리공간으로 바꿀 수 있음이 알려져 있다 (@lipschutz1965schaum, Thm 10.8)."
   ]
  },
  {
   "cell_type": "markdown",
   "id": "92258946-d11e-4034-84f2-ff38a167a3df",
   "metadata": {},
   "source": [
    "`-` 위상공간 $(X,{\\cal T})$가 $T_4$-space이고 추가적으로 ***second coutable space*** 라면 $(X,{\\cal T})$는 Hilbert cube 와 호모몰픽(homeomorphic) 하다는 것이 알려져 있다 (@lipschutz1965schaum, p. 142). "
   ]
  },
  {
   "cell_type": "markdown",
   "id": "9f3520bb-1e8f-4155-b6ea-b66452749e8a",
   "metadata": {},
   "source": [
    "\n",
    "# Chap 14: Complete Metric Spaces \n",
    "\n",
    "`-` ***Convergent sequence*** 은 단독으로 정의될 수 없으며 위상공간 $(X,{\\cal T})$ 와 묶어서 정의된다. 그리고 ***Cauchy sequence*** 역시 단독으로 정의될 수 없으며 메트릭스페이스 $(X,d)$ 와 묶어서 정의된다. \n"
   ]
  },
  {
   "cell_type": "markdown",
   "id": "08ba7546-c885-48e4-82ef-2b5aaeda3a8d",
   "metadata": {},
   "source": [
    "`-` ***Convergent sequence*** 와 ***Cauchy sequence*** 는 비슷해보이지만 미묘하게 다른점이 있다.\n",
    "\n",
    "**(1)** 컨버전트-시컨트는 위상공간 $(X,{\\cal T})$ 만 있으면 정의할 수 있지만 코시수열은 그 위상공간이 메트릭스페이스 이어야 한다는 제약이 있다. 왜냐하면 컨버전트-시컨스의 정의에는 오픈셋만 필요하지만 코시수열은 볼이 필요하고 볼은 메트릭에 의해서만 정의되기 때문이다. \n",
    "\n",
    "**(2)** 컨버전트-시컨스와 코시수열 모두 열의 각 항이 $X$의 원소이어야 한다는 조건이 있다. 하지만 컨버전트-시컨스는 그 ***limit*** 까지 $X$의 원소이어야 하는데 코시수열은 그렇지 않다는 차이점이 있다. "
   ]
  },
  {
   "cell_type": "markdown",
   "id": "f130fa70-394d-45a9-9351-cba526aea6cd",
   "metadata": {},
   "source": [
    "`-` $X=(0,1)$ 위의 usual metric 에 의해서 유도되는 메트릭스페이스 $(X,d)$ 를 생각하자. 수열 \n",
    "\n",
    "$$\\left\\{\\frac{1}{2},\\frac{1}{3},\\frac{1}{4},\\dots,\\right\\}$$\n",
    "\n",
    "$X$에서 정의된 코시수열이지만 $X$에서 정의되는 컨버전트-시컨스는 아니다. "
   ]
  },
  {
   "cell_type": "markdown",
   "id": "6a98706d-5b13-41a9-9701-573a3945cb68",
   "metadata": {},
   "source": [
    "`-` 내가 이해한 바는 아래와 같다.\n",
    "\n",
    "**(1)** 토폴로지 $(X,{\\cal T})$ 는 항상 컨버전트-시컨스를 정의할 준비가 되어있는 공간이다. \n",
    "\n",
    "**(2)** 위에서 정의가능한 컨버전트-시컨스는 코시수열과 아무런 관련이 없다. 그리고 우리가 통상적으로 고등학교때부터 다루어왔던 수열의 수렴의 개념과도 거리가 멀다. \n",
    "\n",
    "**(3)** 토폴로지 $(X,{\\cal T})$ 가 메트릭스페이스라면 컨버전트-시컨스는 코시수열과 어떤관계가 있으며 고등학교때부터 내가 다루어 왔던 상식적인 수렴하는 수열의 개념과도 관련이 있다.\n",
    "\n",
    "**(4)** $(X,{\\cal T})$ 가 메트릭스페이스 라고 가정하자. 그럼 아래가 만족한다고 생각할 수 있다. \n",
    "\n",
    "> $\\{a_n\\}$ converges on  $X$ $\\Longleftrightarrow$  $\\{a_b\\}$ is Cauchy sequence on $X$ and $\\lim_{n\\to\\infty} a_n \\in X$\n",
    "\n",
    "즉 러프하게 말해서 $X$에서의 컨버전트-시컨스는 (i) $X$에서의 코시수열이면서 (ii) ***limit*** 이 $X$에 포함되는 수열이라고 말할 수 있다. 이런 정의로 치면 우리가 고등학교때부터 생각해왔던 소박한 정의의 수렴하는 수열은 사실 코시수열에 가깝고 컨버전트-시컨스는 고등학교때부터 배운 소박한 수렴을 하며 동시에 수렴값이 $X$에서 잘 정의되는 수열을 의미한다고 볼 수 있다. 앞으로는 소박한 수렴과 컨버전트-시컨스를 엄밀하게 구분하여 말하도록 하자. 즉 $\\{a_n\\}$이 코시수열이라는 말은 $\\{a_n\\}$이 소박한 수렴을 한다는 의미이고 $\\{a_n\\}$이 컨버전트-시컨스라는 의미는 $\\{a_n\\}$이 소박한수렴을 하며 동시에 그 극한값이 ***well-define*** 된다는 의미(=$\\{a_n\\}$의 수렴값이 $X$의 원소라는 의미)이다."
   ]
  },
  {
   "cell_type": "markdown",
   "id": "e7ccc9a6-c4f7-468b-9bf5-54d960fc781f",
   "metadata": {},
   "source": [
    "\n",
    "`-` ***(proposition 14.1)*** 메트릭스페이스 한정으로, 컨버전트-시컨스는 모두 코시수열이다. (당연한 소리를.. 이런걸 proposition 이라고..) \n",
    "\n",
    "`-` 당연히 위 정리의 역은 성립하지 않는다. 즉 메트릭스페이스 $(X,{\\cal T})$ 에서 정의된 코시수열이 반드시 컨버전트-시컨스라는 보장은 없다. (이것도 당연한 소리.. 왜냐하면 수렴값이 $X$에 포함된다는 보장이 없기 때문) 하지만 그 메트릭스페이스가 ***complete*** 하다면 위 정리의 역도 성립한다. \n",
    "\n",
    "`-` 컴플리트하지 않은 메트릭스페이스 $(X,d)$를 컴플리트한 메트릭스페이스 $(X^* , d)$ 로 바꿀 수 없을까? 유주얼메트릭(usual metric) $d$ 와 $X=(0,1)$ 로 만들어지는 메트릭스페이스는 컴플리트하지 않지만 $d$ 와 $X^* =[0,1]$ 로 만들어지는 메트릭스페이스는 컴플리트하다. 이런 경우 $(X^* ,d) $ 는 $(X,d)$ 의 ***completion*** 이라고 한다. "
   ]
  },
  {
   "cell_type": "markdown",
   "id": "b92ba591-6d2c-43c0-b7f2-9e014fa840e2",
   "metadata": {},
   "source": [
    "`-` 즉 아래의 조건들을 만족하면 공간 $(X^* ,d) $ 는 공간 $(X,d)$ 의 ***completion*** 이라고 부른다.\n",
    " \n",
    "**(1)** $X\\subset X^*$ \n",
    "\n",
    "**(2)** $(X^* ,d)$ is complete metric space\n",
    "\n",
    "**(3)** $(X,d) \\overset{ism}{\\sim} (X^* ,d)$."
   ]
  },
  {
   "cell_type": "markdown",
   "id": "2bd95efd-68cb-4a40-b422-0a252e5daa36",
   "metadata": {},
   "source": [
    "##### `-` 메트릭스페이스 $(X,d)$에서 아래의 식을 만족하는 두 코시수열 $\\{a_n\\}$, $\\{\\tilde a_n\\}$ 을 생각하여보자. \n",
    "\n",
    "$$\\lim_{n\\to\\infty} d(a_n,\\tilde a_n)=0 $$\n",
    "\n",
    "이러한 코시수열들을 \n",
    "\n",
    "$$\\{a_n\\} \\overset{slim}{\\sim} \\{\\tilde a_n\\}$$\n",
    "\n",
    "이라고 표현하자. 이때 관계 $\\overset{slim}{\\sim}$ 은 $X$에서 정의가능한 모든 코시수열들의 집합 ${\\cal C}_ X$ 에서 ***equivalence relation*** 이 된다고 한다. (증명은 알아서) 따라서 이걸 이용하면 거리공간에서 $slim$ 의 관계를 가지는 임의의 두 수열은 같은 극한을 가진다는 결론이 나온다. (이것도 잘 따져보자.) \n"
   ]
  },
  {
   "cell_type": "markdown",
   "id": "6f923802-f80f-413c-aa27-403b6003d17d",
   "metadata": {},
   "source": [
    "`-` 잠시 **(1)** 바이너리-릴레이션(***binary relation***), **(2)** 이퀴배런스-릴레이션(***equivalence relation***), **(3)** 이퀴배런스-클래스(***equivalence class***) 그리고 **(4)** 코션트셋(***quotient set***)에 대하여 설명하고 넘어가겠다. \n",
    "\n",
    "**(1)** 집합 ${\\cal C}_ X$ 의 두 원소 $\\{a_n\\}$, $\\{b_n\\}$ 간 바이너리-릴레이션 $R$이 존재한다는 문장은 집합론적인 언어로 표현가능하다. 구체적으로는 $R$을 곱집합 ${\\cal C}_ X \\times {\\cal C}_ X$ 의 적당한 부분집합으로 설정하고 순서쌍 $\\big(\\{a_n\\},\\{b_n\\}\\big)$ 이 $R$ 의 원소라는 식으로 표현한다. 예를 들면 아래와 같은 식으로 말이다.  \n",
    "\n",
    "$ \\{a_n\\} ~and~ \\{b_n\\} ~has~ a~relation~ with~ R \\\\\n",
    "\\Longleftrightarrow  \\big(\\{a_n\\},\\{b_n\\}\\big) \\in R \\subset {\\cal C}_ X \\times {\\cal C}_ X \\\\\n",
    "\\Longleftrightarrow  \\{a_n\\} \\overset{R}{\\sim} \\{b_n\\}$\n",
    "\n",
    "\n",
    "\n",
    "**(2)** 그리고 ${\\cal C}_ X$ 위에서의 바이너리-릴레이션 $R$이 ***(i) reflexivity (ii) symmetricity (iii) transitivity*** 를 만족하면 이 릴레이션을 특별히 이퀴배런스-릴레이션 이라고 말한다. \n",
    "\n",
    "**(3)** 그리고 아래와 같이 ${\\cal C}_ X$ 에서 $\\{a_n\\}$ 과 이퀴배런스-릴레이션을 가지는 원소들을 모아놓은 집합을 생각할 수 있다. \n",
    "$$\\big[\\{a_n\\}\\big]_ R:=\\big\\{ \\{x_n\\} : \\{x_n\\} \\overset{R}{\\sim} \\{a_n\\} ~and~ \\{x_n\\} \\in {\\cal C}_ X \\big\\}$$\n",
    "\n",
    "이 집합을 $\\{a_n\\}$의 ***equivalence class on ${\\cal C}_ X$ by $R$*** 이라고 부른다. 보통은 $R$을 생략하여 $\\big[\\{a_n\\}\\big]$와 같이만 표현하지만 나는 기호의 명확성을 위해서 관계까지 명시하였다. \n",
    "\n",
    "**(4)**  이퀴배런스-클래스는 본질적으로 파티션과 밀접한 연관이 있다. 여기에서 클래스 ${\\cal P}_ A$ 가 집합 $A$의 파티션이란 의미는 클래스 ${\\cal P}_ A$ 에 속한 모든 원소의 합이 $A$ 이며 클래스 ${\\cal P}_ A$ 의 각 원소는 서로 배타적이라는 의미이다. 이퀴배런스-클래스가 그럼 왜 파티션과 관련이 있을까? 그것은 어떠한 집합에서 이퀴배런스-릴레이션이 존재하면 그 집합을 배타적인 이퀴배런스-클래스의 합집합으로 표현가능하기 때문이다. 즉 이퀴배런스-릴레이션 혹은 이퀴배런-클래스의 존재는 파티션의 존재를 임플라이 한다. 그리고 이러한 파티션을 이퀴배런스-릴레이션 $R$에 의해 생성된 ***quotient set*** 혹은 ***quotient space*** 라고 한다. 관계 $R$에 의한 $A$의 코션트 셋은 기호로 $A ~\\overset{R}{\\sim}$ 와 같이 쓴다. 예를들어\n",
    "\\begin{align}\n",
    "{\\cal C}_ X ~ /\\overset{slim}{\\sim} \n",
    "\\end{align}\n",
    "은 집합 $X$ 상에서 존재하는 코시수열들의 집합 ${\\cal C}_ X$ 에서 이퀴배런스-릴레이션 $slim$ 에 의해서 생성된 코션트셋을 의미한다. "
   ]
  }
 ],
 "metadata": {
  "kernelspec": {
   "display_name": "Python 3 (ipykernel)",
   "language": "python",
   "name": "python3"
  },
  "language_info": {
   "codemirror_mode": {
    "name": "ipython",
    "version": 3
   },
   "file_extension": ".py",
   "mimetype": "text/x-python",
   "name": "python",
   "nbconvert_exporter": "python",
   "pygments_lexer": "ipython3",
   "version": "3.12.1"
  },
  "widgets": {
   "application/vnd.jupyter.widget-state+json": {
    "state": {},
    "version_major": 2,
    "version_minor": 0
   }
  }
 },
 "nbformat": 4,
 "nbformat_minor": 5
}
