{
 "cells": [
  {
   "cell_type": "raw",
   "id": "9e9ba43b-f787-41dd-bf75-a52b37b89e65",
   "metadata": {
    "tags": []
   },
   "source": [
    "---\n",
    "title: \"(공부) 조건부확률, 조건부기대값\"\n",
    "author: \"신록예찬\"\n",
    "date: \"01/26/2024\"\n",
    "---"
   ]
  },
  {
   "cell_type": "markdown",
   "id": "79440cfc-68b7-4aa5-9b87-d2139f69c90e",
   "metadata": {},
   "source": [
    "> $\\mathbb{E}[Y|X]$의 의미를 알아보자. "
   ]
  },
  {
   "cell_type": "markdown",
   "id": "748676bb-d81f-4890-970e-f423abdb27f4",
   "metadata": {},
   "source": [
    "# 1. 엄밀하지 않은 정의"
   ]
  },
  {
   "cell_type": "markdown",
   "id": "c7acc9a7-caa7-4cf1-9788-cb19ad638399",
   "metadata": {},
   "source": [
    "`# 정의` -- 조건부확률(이산형) \n",
    "\n",
    "$$P(Y=y|X=x):=\\frac{P(X=x,Y=y)}{P(X=x)}$$"
   ]
  },
  {
   "cell_type": "markdown",
   "id": "5ef523de-7d45-49de-b227-b7137a8a1514",
   "metadata": {},
   "source": [
    "`#`"
   ]
  },
  {
   "cell_type": "markdown",
   "id": "60482207-ac07-4a61-ae70-bf5ac926a412",
   "metadata": {},
   "source": [
    "`# 정의` -- 조건부pdf(이산형,연속형) \n",
    "\n",
    "$$f_{2|1}(y|x):=\\frac{f_{1,2}(x,y)}{f_1(x)}$$"
   ]
  },
  {
   "cell_type": "markdown",
   "id": "a3b15df2-8d07-4f72-bd21-e03f1356a09d",
   "metadata": {},
   "source": [
    "`#`"
   ]
  },
  {
   "cell_type": "markdown",
   "id": "e2c2ddfd-8f2f-4a23-b474-c28d8180e450",
   "metadata": {
    "tags": []
   },
   "source": [
    "`-` 함수 $f_{2|1}(y|x)$ 와 $f_{2}(y)$는 모두 확률변수 $Y$의 pdf 조건을 만족한다는 것을 주의하자. 즉 아래가 성립한다. \n",
    "\n",
    "- $\\int_{-\\infty}^{\\infty} f_{2}(y)dy=1$\n",
    "- $\\int_{-\\infty}^{\\infty} f_{2|1}(y|x)dy=1$"
   ]
  },
  {
   "cell_type": "markdown",
   "id": "c086ec81-fee6-4052-994a-c110d35782ab",
   "metadata": {},
   "source": [
    "`# 정의` -- 조건부평균(연속형) \n",
    "\n",
    "$$\\mathbb{E}[Y|X=x]:=\\int y f_{2|1}(y|x)dy $$"
   ]
  },
  {
   "cell_type": "markdown",
   "id": "16caf247-687f-40be-99b2-3a9912f2d320",
   "metadata": {},
   "source": [
    "`#`"
   ]
  },
  {
   "cell_type": "markdown",
   "id": "da64e20a-5ef7-4ed0-a96f-22605e37776c",
   "metadata": {
    "tags": []
   },
   "source": [
    "`# 정의할 수 없음` -- $\\mathbb{E}(Y|X)$  \n",
    "\n",
    "학부수준에서는 엄밀하게 정의할수는 없으며, 개념적으로 접근한다. \n",
    "\n",
    "1. $\\mathbb{E}(Y|X=x)$는 $x$의 값에 따라서 그 값이 바뀌는 함수로 해석할 수 있다. \n",
    "2. 1을 다시 표현하면 $h(x):=\\mathbb{E}(Y|X=x)$를 만족하는 적당한 $h$가 있다는 의미. \n",
    "3. 2번에서 정의된 $h$에 입력을 $x$가 아니라 $X$로 준다면 $h(X)$와 같은 확률 변수를 생각할 수 있음. ^[$X$가 확률변수이면 $f(X)$역시 확률변수라고 배웠으니까]\n",
    "4. 3번과 같은 확률변수를 $\\mathbb{E}(Y|X)$로 정의하자는 의미 "
   ]
  },
  {
   "cell_type": "markdown",
   "id": "1fb4116d-493b-41ef-a8fc-b1202a345ef2",
   "metadata": {},
   "source": [
    "학부수준에서는 이정도가 설명의 끝이며 $\\mathbb{E}(Y|X)$를 수식으로 명확하게 정의하진 않는다. "
   ]
  },
  {
   "cell_type": "markdown",
   "id": "f110f20f-f4ce-4a0b-82bd-cf07521c3f8a",
   "metadata": {},
   "source": [
    "`#`"
   ]
  },
  {
   "cell_type": "markdown",
   "id": "32213c54-15f7-4f7d-a08f-373ce62f7d88",
   "metadata": {
    "tags": []
   },
   "source": [
    "`# 정의할 수 없음` -- $\\mathbb{V}(Y|X)$  \n",
    "\n",
    "$\\mathbb{E}(Y|X)$와 비슷한 방식으로 피해서 정의한다. "
   ]
  },
  {
   "cell_type": "markdown",
   "id": "677ccd2e-9e0f-4b48-871e-c542fa231956",
   "metadata": {},
   "source": [
    "`#`"
   ]
  },
  {
   "cell_type": "markdown",
   "id": "5c4df72b-a8f0-4bb3-9b51-3a59caad3c76",
   "metadata": {},
   "source": [
    "`# 예제` -- $\\mathbb{E}[\\mathbb{E}[Y|X]]=\\mathbb{E}[Y]$ 의 증명 ($\\star$)"
   ]
  },
  {
   "cell_type": "markdown",
   "id": "5ee6755d-4daf-46af-a43b-1376e1c12ca1",
   "metadata": {},
   "source": [
    "(풀이)"
   ]
  },
  {
   "cell_type": "markdown",
   "id": "6333fea3-a97f-447e-b3e4-92cd65276409",
   "metadata": {
    "tags": []
   },
   "source": [
    "헷갈리니까 아래와 같이 치환한다. \n",
    "\n",
    "- $\\mathbb{E}[Y|X]=h(X)$\n",
    "- $\\mathbb{E}[Y|X=x]=h(x)$\n",
    "\n",
    "그러면 좌변은 아래와 같이 된다. \n",
    "\n",
    "- $\\mathbb{E}[h(X)]=\\int h(x) f_1(x)dx = \\int \\mathbb{E}[Y|X=x] f_1(x)dx$"
   ]
  },
  {
   "cell_type": "markdown",
   "id": "027cd832-7931-46d1-b268-8c3b4d668e37",
   "metadata": {},
   "source": [
    "그런데 $\\mathbb{E}[Y|X=x]$는 조건부확률의 정의에 의하여 $\\mathbb{E}[Y|X=x]=\\int y f_{2|1}(y|x)dy$ 이다. 이걸 그대로 넣으면 "
   ]
  },
  {
   "cell_type": "markdown",
   "id": "1fa77811-29e3-4b39-a9ec-b69c5015b06a",
   "metadata": {},
   "source": [
    "- $\\int \\mathbb{E}[Y|X=x] f_1(x)dx=\\int \\int y f_{2|1}(y|x)dy f_1(x)dx=\\int \\int y f_{2|1}(y|x)f_1(x)dydx$"
   ]
  },
  {
   "cell_type": "markdown",
   "id": "c2a2ff08-85dc-4517-b488-9b265478df33",
   "metadata": {},
   "source": [
    "이제 조건부 pdf의 정의를 쓰면 $f_{2|1}(y|x)f_1(x)=f_{1,2}(x,y)$가 된다. 따라서 "
   ]
  },
  {
   "cell_type": "markdown",
   "id": "53241934-eb30-41af-a258-2757ce68de42",
   "metadata": {},
   "source": [
    "- $\\int \\int y f_{2|1}(y|x)f_1(x)dydx=\\int\\int y f_{1,2}(x,y)dydx$"
   ]
  },
  {
   "cell_type": "markdown",
   "id": "4481a614-6137-4e5d-af7c-9928d3d22b61",
   "metadata": {
    "tags": []
   },
   "source": [
    "푸비니의 정리를 쓰면 "
   ]
  },
  {
   "cell_type": "markdown",
   "id": "0aae7e33-7b2c-4e86-8992-580c8dfe0a11",
   "metadata": {},
   "source": [
    "- $\\int\\int y f_{1,2}(x,y)dydx=\\int\\int y f_{1,2}(x,y)dxdy$"
   ]
  },
  {
   "cell_type": "markdown",
   "id": "16bcd50d-3ec5-4e69-bfdb-d30a25ed8034",
   "metadata": {
    "tags": []
   },
   "source": [
    "$y$를 밖으로 빼고 marginal pdf의 정의^[$\\int f_{1,2}(x,y)dx = f_2(y)$]를 이용하면 "
   ]
  },
  {
   "cell_type": "markdown",
   "id": "99d92b8a-087d-4483-abdb-0ed60e73f816",
   "metadata": {},
   "source": [
    "- $\\int\\int y f_{1,2}(x,y)dxdy=\\int y\\int f_{1,2}(x,y)dxdy=\\int y f_2(y)dy = \\mathbb{E}[y]$"
   ]
  },
  {
   "cell_type": "markdown",
   "id": "39f9d9b0-8808-4f9a-b90e-52a24123f60d",
   "metadata": {},
   "source": [
    "그래서 증명이 되었음. "
   ]
  },
  {
   "cell_type": "markdown",
   "id": "911a5fe5-10e0-4224-aded-f84f9d967945",
   "metadata": {},
   "source": [
    "# 2. 엄밀한정의"
   ]
  },
  {
   "cell_type": "markdown",
   "id": "621c006f-5bd8-4ef0-af02-863a5997f0e0",
   "metadata": {},
   "source": [
    "`# 예제` - 주사위던지기 "
   ]
  },
  {
   "cell_type": "markdown",
   "id": "a5bce986-ebf2-4864-895a-840e52d9456b",
   "metadata": {},
   "source": [
    "`-` 아래와 같은 상황을 가정하자. \n",
    "\n",
    "- $\\Omega = \\{1,2,3,\\dots,6\\}$\n",
    "- ${\\cal F} = 2^\\Omega$\n",
    "- $P: {\\cal F} \\to [0,1]$ such that $P(\\{\\omega\\})=\\frac{1}{6}$. \n",
    "\n",
    "이제 $(\\Omega, {\\cal F})$ 위에서 아래와 같은 확률변수 $X: \\Omega \\to \\mathbb{R}$을 정의하자. \n",
    "\n",
    "- $X(\\{1\\}) =1$\n",
    "- $X(\\{2\\}) =2$\n",
    "- $X(\\{3\\}) =3$\n",
    "- $X(\\{4\\}) =4$\n",
    "- $X(\\{5\\}) =5$\n",
    "- $X(\\{6\\}) =6$"
   ]
  },
  {
   "cell_type": "markdown",
   "id": "9e7c02c1-6c11-4464-8a09-33fdb7431137",
   "metadata": {},
   "source": [
    "여기까지는 익숙한 셋팅이며, 이럴때 \n",
    "\n",
    "- $X$ is r.v. on $(\\Omega, {\\cal F})$\n",
    "- $X \\in {\\cal F}$\n",
    "\n",
    "와 같이 표현한다. "
   ]
  },
  {
   "cell_type": "markdown",
   "id": "b5aa2a6b-cd1b-4f78-aba4-d8b64d8703a0",
   "metadata": {},
   "source": [
    "`-` 이제 여기에서 아래와 같이 $\\Omega$를 disjoin한 $\\{B_i\\}$로 나누자. \n",
    "\n",
    "- $B_1 = \\{1,2\\}$ \n",
    "- $B_2 = \\{3,4,5,6\\}$\n",
    "\n",
    "그리고 $B_1$, $B_2$를 measurable하게 만드는 새로운 시그마필드 ${\\cal F}^*=\\sigma(B_1,B_2)$를 아래와 같이 정의하자. \n",
    "\n",
    "- ${\\cal F}^* = \\{\\emptyset, B_1, B_2, \\Omega\\}$^[당연히 ${\\cal F}^* \\subset {\\cal F}$]"
   ]
  },
  {
   "cell_type": "markdown",
   "id": "ffc22707-6061-4a9c-b73c-29b1bcaaba70",
   "metadata": {
    "tags": []
   },
   "source": [
    "이제 아래와 같은 $Y: \\Omega\\to\\mathbb{R}$를 고려하자. \n",
    "\n",
    "- $Y(\\{1\\}) = 1.5$\n",
    "- $Y(\\{2\\}) = 1.5$\n",
    "- $Y(\\{3\\}) = 4.5$\n",
    "- $Y(\\{4\\}) = 4.5$\n",
    "- $Y(\\{5\\}) = 4.5$\n",
    "- $Y(\\{6\\}) = 4.5$"
   ]
  },
  {
   "cell_type": "markdown",
   "id": "5c5da40c-60b2-4d3e-83b8-56ea5889c38c",
   "metadata": {},
   "source": [
    "여기에서 $Y$는 $(\\Omega, {\\cal F})$ 에서의 확률변수이기도 하지만 $(\\Omega, {\\cal F}^*)$에서의 확률변수이기도 하다. 즉 \n",
    "\n",
    "- $Y$ is r.v. on $(\\Omega, {\\cal F})$\n",
    "- $Y \\in {\\cal F}$\n",
    "- $Y$ is r.v. on $(\\Omega, {\\cal F}^*)$\n",
    "- $Y \\in {\\cal F}^*$\n",
    "\n",
    "이다.^[이렇게 보니까 ${\\cal F}^* \\subset {\\cal F}$ 임을 감안하면 $Y \\in {\\cal F}^* \\Rightarrow  Y \\in {\\cal F}$ 임이 당연하게 느껴진다. $Y \\in {\\cal F}$와 같은 기호표현이 너무 이상하게 느껴졌는데, 여기에서 의문이 조금 풀리는 것 같음.] "
   ]
  },
  {
   "cell_type": "markdown",
   "id": "38d704b2-ac9d-4d61-bf47-42b6b4652e45",
   "metadata": {},
   "source": [
    "또 $Y$는 아래와 같은 특징이 있다. \n",
    "\n",
    "- $\\forall A \\in {\\cal F}^*:~\\int_A X dP = \\int_A Y dP.$\n",
    "\n",
    "이것을 조금만 따져보자. $\\int_A X dP = \\int_\\Omega X \\mathbb{1}_A dP$ 임을 이용하면, \n",
    "\n",
    "- case1: $A = \\emptyset \\Rightarrow 0=0$: \n",
    "- case2: $A = B_1 \\Rightarrow \\frac{1+2+0+0+0+0}{6}=\\frac{1.5+1.5+0+0+0+0}{6}$\n",
    "- case3: $A = B_2 \\Rightarrow \\frac{0+0+3+4+5+6}{6}=\\frac{0+0+4.5+4.5+4.5+4.5}{6}$\n",
    "- case4: $A = \\Omega \\Rightarrow \\frac{1+2+3+4+5+6}{6}=\\frac{1.5+1.5+4.5+4.5+4.5+4.5}{6}$\n",
    "\n",
    "이다. "
   ]
  },
  {
   "cell_type": "markdown",
   "id": "077f8fd0-d35a-484f-b06f-437f9966ab17",
   "metadata": {},
   "source": [
    "`-` 이러한 조건을 만족하는 확률변수 $Y$를 conditional expectation of $X$ given ${\\cal F}^*$이라고 한다.^[조건부기대값이라고 번역하기는 조금 어색해서 원문그대로 외우는게 나은듯] "
   ]
  },
  {
   "cell_type": "markdown",
   "id": "80852345-1afd-485c-9bd8-3f3f098296b8",
   "metadata": {},
   "source": [
    "`#`"
   ]
  },
  {
   "cell_type": "markdown",
   "id": "b6ffc616-570b-43aa-aa6c-fa08510a8890",
   "metadata": {},
   "source": [
    "`# 정의` -- [@klenke2013probability, Def 8.11] $X \\in {\\cal L}^1(\\Omega, {\\cal F}, P)$ 이라고 하자. ^[$X$가 $(\\Omega, {\\cal F})$에서의 rv이고 $\\int_P XdP <\\infty$ 라는 의미] 그리고 ${\\cal F}^*$는 \n",
    "\n",
    "- ${\\cal F}^* \\subset {\\cal F}$\n",
    "\n",
    "을 만족하는 $\\Omega$에서의 시그마필드라고 하자. 확률변수 $Y$ 가 아래를 만족한다고 하자. \n",
    "\n",
    "1. $Y \\in {\\cal F}^*$\n",
    "2. $\\forall A \\in {\\cal F}^*:~ \\int_A X dP = \\int_A Y dP$\n",
    "\n",
    "그러면 $Y$는 conditional expectation of $X$ given ${\\cal F}^*$라고 하고 기호로는 \n",
    "\n",
    "$$Y:=\\mathbb{E}[X|{\\cal F}^*]$$\n",
    "\n",
    "로 표현한다. "
   ]
  },
  {
   "cell_type": "markdown",
   "id": "f857009c-fcb8-47d9-8133-158ce5913a24",
   "metadata": {},
   "source": [
    "`#`"
   ]
  },
  {
   "cell_type": "markdown",
   "id": "2a7056f0-22c1-42e2-940a-810ff5f30a00",
   "metadata": {},
   "source": [
    "`-` $Y$는 $(\\Omega,{\\cal F}^*)$에서의 확률변수이기도 하지만 일단 $Y \\in (\\Omega, {\\cal F})$ 이기도 하다. 가측공간 $(\\Omega,{\\cal F}^*)$ 에서는 적절한 확률측도를 정의한적이 없지만 $(\\Omega,{\\cal F})$ 에서는 확률측도 $P$가 이미 정의되어 있다. 이를 이용하여 아래를 계산해보자. \n",
    "\n",
    "- $\\mathbb{E}[Y]=\\int Y dP$"
   ]
  },
  {
   "cell_type": "markdown",
   "id": "8f94bb6d-cf98-411d-942b-ad6537f27ba4",
   "metadata": {
    "tags": []
   },
   "source": [
    "이것을 정리하면 \n",
    "\n",
    "- $\\frac{1.5+1.5+4.5+4.5+4.5+4.5}{6}$ \n",
    "\n",
    "가 되어서 $\\mathbb{E}[X]$와 같다. 따라서 \n",
    "\n",
    "- $\\mathbb{E}[X] = \\mathbb{E}[\\mathbb{E}[X|{\\cal F}^*]]$ \n",
    "\n",
    "이다. 여기에서 $\\mathbb{E}[X|{\\cal F}^*]$은 일단 그 자체로 하나의 기호라 생각하자. "
   ]
  },
  {
   "cell_type": "markdown",
   "id": "4ffd3479-93e3-4d55-8eb1-69bd77572413",
   "metadata": {},
   "source": [
    "`# Thm` -- [@klenke2013probability, Thm 8.12] $X \\in {\\cal L}^1(\\Omega, {\\cal F}, P)$ 이라고 하자. ^[$X$가 $(\\Omega, {\\cal F})$에서의 rv이고 $\\int_P XdP <\\infty$ 라는 의미] 그리고 ${\\cal F}^*$는 \n",
    "\n",
    "- ${\\cal F}^* \\subset {\\cal F}$\n",
    "\n",
    "을 만족하는 $\\Omega$에서의 시그마필드라고 하자. 아래를 만족하는 확률변수 $Y$는 ($P$에 대하여) 거의 유일하게 존재한다. \n",
    "\n",
    "1. $Y \\in {\\cal F}^*$\n",
    "2. $\\forall A \\in {\\cal F}^*:~ \\int_A X dP = \\int_A Y dP$"
   ]
  },
  {
   "cell_type": "markdown",
   "id": "8072b394-b5f3-4035-8785-952d96e5b631",
   "metadata": {},
   "source": [
    "`#`"
   ]
  },
  {
   "cell_type": "markdown",
   "id": "54bccc11-e13f-4108-b151-e19b14f758af",
   "metadata": {},
   "source": [
    "`# 정의` -- [@klenke2013probability, Def 8.13] 아래와 같은 두 확률변수를 정의하자. \n",
    "\n",
    "- $X$ is rv on $(\\Omega, {\\cal F})$ with $\\int X dP <\\infty$.^[$X \\in {\\cal L}^1(\\Omega, {\\cal F}, P)$ 이라는 의미]\n",
    "- $Y$ is rv on $(\\Omega, {\\cal F})$. \n",
    "\n",
    "아래를 정의하자. \n",
    "\n",
    "$$\\mathbb{E}[X|Y]:=\\mathbb{E}[X|\\sigma(Y)].$$\n",
    "\n",
    "\n",
    "\n",
    "`#`"
   ]
  }
 ],
 "metadata": {
  "kernelspec": {
   "display_name": "Python 3 (ipykernel)",
   "language": "python",
   "name": "python3"
  },
  "language_info": {
   "codemirror_mode": {
    "name": "ipython",
    "version": 3
   },
   "file_extension": ".py",
   "mimetype": "text/x-python",
   "name": "python",
   "nbconvert_exporter": "python",
   "pygments_lexer": "ipython3",
   "version": "3.10.13"
  }
 },
 "nbformat": 4,
 "nbformat_minor": 5
}
