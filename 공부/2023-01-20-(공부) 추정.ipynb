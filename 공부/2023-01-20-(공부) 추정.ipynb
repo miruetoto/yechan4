{
 "cells": [
  {
   "cell_type": "raw",
   "id": "3a888aed-7300-4091-81f7-325d47ef3b92",
   "metadata": {},
   "source": [
    "---\n",
    "title: \"(공부) 추정\"\n",
    "author: \"신록예찬\"\n",
    "date: \"01/20/2023\"\n",
    "---"
   ]
  },
  {
   "cell_type": "code",
   "execution_count": 2,
   "id": "0eb1edc7-2fde-472a-bb3f-2aa5d1d4643f",
   "metadata": {},
   "outputs": [],
   "source": [
    "using Distributions, Plots"
   ]
  },
  {
   "cell_type": "markdown",
   "id": "c1c96578",
   "metadata": {},
   "source": [
    "# MME와 MLE"
   ]
  },
  {
   "cell_type": "markdown",
   "id": "a23d60ed-338e-4bf6-bbd3-781b83e10438",
   "metadata": {},
   "source": [
    "데이터로부터 모수 혹은 모수의 함수를 추측하는 일을 추정이라고 한다. 교과서에서 가장 처음으로 배우는 것은 적률추정(MME)이다. 적률추정량은 구하기가 쉽고^[거의 암산가능] 일치성을 가진다는 장점이 있는 반면 추정량이 유일하지 않다는 단점이 존재한다. "
   ]
  },
  {
   "cell_type": "markdown",
   "id": "3a4997c8-ebc5-4a10-b62d-2c22909dea41",
   "metadata": {},
   "source": [
    "보통 통계학과에서는 적률추정량보다 최대가능도 추정량(MLE)을 더 선호하게 된다. MLE는 일반적으로 MME보다 구하기 어렵다. 그래서 MLE를 구하는 여러가지 연습문제를 풀 필요성이 있다. "
   ]
  },
  {
   "cell_type": "markdown",
   "id": "2df8b47d-581b-497e-b9e6-2d8bdf98e60e",
   "metadata": {},
   "source": [
    "# $\\hat{\\theta}^{MLE}$의 일치성 "
   ]
  },
  {
   "cell_type": "markdown",
   "id": "d3745e73-9e47-43e0-8c6f-6b8943644e2c",
   "metadata": {},
   "source": [
    "MME는 일치성을 가졌는데, MLE는 어떠할까? 일반적으로 MLE 역시 일치성을 가짐을 보일 수 있다. 이걸 증명하는게 좀 까다로운데 증명을 생략하고 직관만 얻어보자. 먼저 $X_1,\\dots,X_n$가 모수가 $\\theta_0$인 어떠한 분포의 ***iid*** random sample이라면 $X_1,\\dots,X_n$을 바탕으로 MLE를 아래와 같이 추정할 수 있다. "
   ]
  },
  {
   "cell_type": "markdown",
   "id": "0ea0b6ac-d494-4b4d-9e15-4d832f0599bf",
   "metadata": {},
   "source": [
    "$$\\hat{\\theta}^{MLE}=\\underset{\\theta \\in \\Omega}{\\operatorname{argmax}} l(\\theta)=\\underset{\\theta \\in \\Omega}{\\operatorname{argmax}} \\sum_{i=1}^{n}\\log f(X_i;\\theta)$$"
   ]
  },
  {
   "cell_type": "markdown",
   "id": "e0e44bae-d415-4390-a71f-4700391e313c",
   "metadata": {},
   "source": [
    "여기에서 $l(\\theta)$는 $\\theta$에 대한 로그가능도 함수라고 한다. 그런데 $l(\\theta)$를 최대화하는 일은 $\\frac{1}{n}l(\\theta)$를 최대화하는 일과 같으므로 $\\hat{\\theta}^{MLE}$는 아래와 같이 쓸 수 있다. "
   ]
  },
  {
   "cell_type": "markdown",
   "id": "b35063c8-5d66-4eca-966b-28a0e44638fe",
   "metadata": {},
   "source": [
    "$$\\hat{\\theta}^{MLE}=\\underset{\\theta \\in \\Omega}{\\operatorname{argmax}}\\frac{1}{n}l(\\theta)=\\underset{\\theta \\in \\Omega}{\\operatorname{argmax}}\\frac{1}{n}\\sum_{i=1}^{n}\\log f(X_i; \\theta)$$"
   ]
  },
  {
   "cell_type": "markdown",
   "id": "c2ead7db-1b0c-410e-badc-48b8dffa9138",
   "metadata": {},
   "source": [
    "이제 $\\log f(X_i;\\theta)$자체를 하나의 확률변수 $Y_i$라고 생각하면 $\\frac{1}{n}\\sum_{i=1}^{n}\\log f(X_i;\\theta) = \\frac{1}{n}\\sum_{i=1}^{n} Y_i$의 꼴이므로 WLLN을 쓸 수 있다. 즉 아래를 보일 수 있다. \n",
    "\n",
    "$$\\frac{1}{n}\\sum_{i=1}^{n}Y_i  \\overset{P_{\\theta_0}}{\\to} \\mathbb{E}(Y_1)$$"
   ]
  },
  {
   "cell_type": "markdown",
   "id": "f08c437b-bec3-48f5-a132-614c26473fdc",
   "metadata": {},
   "source": [
    "왠지 위의 식이 성립하니까 아래도 성립할 것 같다. "
   ]
  },
  {
   "cell_type": "markdown",
   "id": "1d4de9b2-369f-4c82-b36c-fcc9d7aa8865",
   "metadata": {},
   "source": [
    "$$\\hat{\\theta}^{MLE}=\\underset{\\theta \\in \\Omega}{\\operatorname{argmax}}\\frac{1}{n}\\sum_{i=1}^{n}Y_i \\overset{P_{\\theta_0}}{\\longrightarrow}\\underset{\\theta \\in \\Omega}{\\operatorname{argmax}}\\mathbb{E}(Y_1)$$"
   ]
  },
  {
   "cell_type": "markdown",
   "id": "696b5763-ebdb-43ac-a27a-7d58d0517564",
   "metadata": {},
   "source": [
    "마치 $\\text{argmax}$를 하나의 함수 $g$로 생각하면 $\\bar{Y} \\overset{P_{\\theta_0}}{\\to} E(Y_1)$ 일때 $g\\big(\\bar{Y}\\big) \\overset{P_{\\theta_0}}{\\to} g\\big(E(Y_1)\\big)$ 이 성립한다는 논리이다. 당연히 이러한 논리는 항상 성립하는 것이 아니고 \"균등확률수렴성\"이라는 강한 조건이 필요하다. 균등수렴성에 대한 자세한 내용은 생략하고 일단 \n",
    "\n",
    "$$\\hat{\\theta}^{MLE} \\overset{P_{\\theta_0}}{\\longrightarrow}\\underset{\\theta \\in \\Omega}{\\operatorname{argmax}}\\mathbb{E}(Y_1)$$\n",
    "\n",
    "와 같은 식이 성립한다고만 알고 있자.^[균등확률수렴성은 로그가능도함수가 strictly convex일 경우 성립한다는 것이 알려져 있음] 우리는 MLE의 일치성을 조사하고 싶으므로 결국 아래를 증명하면 된다. \n",
    "\n",
    "$$\\underset{\\theta \\in \\Omega}{\\operatorname{argmax}}\\mathbb{E}(Y_1) = \\underset{\\theta \\in \\Omega}{\\operatorname{argmax}}\\mathbb{E}\\big[\\log f(X_1,\\theta)\\big] = \\theta_{0}$$"
   ]
  },
  {
   "cell_type": "markdown",
   "id": "d01c37bb-2460-411f-9271-178d8c124867",
   "metadata": {},
   "source": [
    "결국 $\\underset{\\theta \\in \\Omega}{\\operatorname{argmax}}\\mathbb{E}\\big[\\log f(X_1,\\theta)\\big] = \\theta_0$임을 증명하면 되는데 이것은 (1) pdf가 모수 $\\theta$에 대하여 identifiable이고^[<https://en.wikipedia.org/wiki/Identifiability>] (2) pdf의 support가 $\\theta$에 depend하지 않는 경우 성립한다고 알려져 있다. "
   ]
  },
  {
   "cell_type": "markdown",
   "id": "b1e434b4-cbde-4216-ba9e-1bf67ca2d673",
   "metadata": {},
   "source": [
    "> 사실 이러한 조건은 당연한게 identifiable이 아니라면 제대로된 pdf가 아니라는 의미이겠고 pdf의 support가 $\\theta$에 depend 한다면 $U[\\theta-1,\\theta+1]$과 같은 분포처럼 $\\theta$의 MLE가 유일하지 않을 수도 있다는 의미이므로 이러한 두 조건은 합리적으로 보임 "
   ]
  },
  {
   "cell_type": "markdown",
   "id": "834f2090-406b-44f1-9df4-ecfe0fb43aac",
   "metadata": {},
   "source": [
    "# $\\hat{\\theta}^{MLE}$의 점근분포 "
   ]
  },
  {
   "cell_type": "markdown",
   "id": "927a86aa-89ef-4808-88e7-74527f610016",
   "metadata": {},
   "source": [
    "$\\frac{1}{n}\\dot{l}(\\hat{\\theta})$의 값을 테일러 정리에 의한 일차근사로 추정하면 아래와 같다. "
   ]
  },
  {
   "cell_type": "markdown",
   "id": "c112b443-249b-4aed-806e-24639f2e7861",
   "metadata": {},
   "source": [
    "$$\\frac{1}{n}\\dot{l}(\\hat{\\theta}) \\approx \\frac{1}{n}\\dot{l}(\\theta) + \\frac{1}{n}\\ddot{l}(\\theta)(\\hat{\\theta}-\\theta)$$"
   ]
  },
  {
   "cell_type": "markdown",
   "id": "ea902b29-4532-4fac-b06a-73c25f0c433c",
   "metadata": {},
   "source": [
    "## MLE의 일치성에 대한 구체적인 논의"
   ]
  },
  {
   "cell_type": "markdown",
   "id": "07b4bae3-63f7-4983-82f6-471a76cd3697",
   "metadata": {},
   "source": [
    "$X_1,\\dots,X_{10} \\overset{i.i.d.}{\\sim} Ber(\\theta)$ 이라고 하자. "
   ]
  },
  {
   "cell_type": "code",
   "execution_count": 7,
   "id": "39aaf9ef",
   "metadata": {},
   "outputs": [
    {
     "data": {
      "text/plain": [
       "10-element Vector{Bool}:\n",
       " 0\n",
       " 0\n",
       " 1\n",
       " 1\n",
       " 1\n",
       " 1\n",
       " 0\n",
       " 0\n",
       " 0\n",
       " 0"
      ]
     },
     "execution_count": 7,
     "metadata": {},
     "output_type": "execute_result"
    }
   ],
   "source": [
    "x = rand(Bernoulli(0.3),10)\n",
    "x"
   ]
  },
  {
   "cell_type": "markdown",
   "id": "e0a7efff-8734-4011-bd76-c05459c10440",
   "metadata": {},
   "source": [
    "여기에서 $\\theta$는 추정해야할 미지의 모수이지만 우리는 시뮬레이션의 편의상 $\\theta$의 참값을 $\\theta_0=\\frac{1}{3}$로 알고 있다고 하자. MLE를 논의함에 있어 핵심적인 역할을 하는 것은 $Y_1=\\log f(X_1;\\theta)$이다. 아래는 $Y_1$에 대한 몇가지 코멘트이다. "
   ]
  },
  {
   "cell_type": "markdown",
   "id": "98091351-88ef-4efd-9530-b124b2e1f847",
   "metadata": {},
   "source": [
    "**(1)** $Y_1$은 $X_1$와 $\\theta$의 함수이다. \n",
    "\n",
    "- 우선 $X_1$의 함수이므로 $Y_1$역시 확률변수이다. 따라서 $Y_1$에 대하여 평균등을 취할 수 있으며 LLN을 쓸 수 있다. \n",
    "- $Y_1$은 $\\theta$에 대한 함수이므로 $\\theta$에 대하여 미분할 수 있다. "
   ]
  },
  {
   "cell_type": "markdown",
   "id": "554e4739-7a7c-4e38-899f-ad13f339eab3",
   "metadata": {},
   "source": [
    "**(베르누이 예제)**"
   ]
  },
  {
   "cell_type": "markdown",
   "id": "143b45c0-228b-4cde-8953-b3918fca4055",
   "metadata": {},
   "source": [
    "우리의 베르누이 예제에서 $Y_1$은 아래와 같이 계산된다. \n",
    "\n",
    "$$Y_1 = \\log f(X_1;\\theta)= X_1 \\log \\theta + (1-X_1)\\log(1-\\theta)$$\n"
   ]
  },
  {
   "cell_type": "markdown",
   "id": "2e930c37-4695-4b61-8368-7d5d68437aaa",
   "metadata": {},
   "source": [
    "보는 것 처럼 $Y_1$은 $X_1$와 $\\theta$의 함수임 "
   ]
  },
  {
   "cell_type": "markdown",
   "id": "55d8cbea-46de-4ab6-acd3-226780e199ac",
   "metadata": {},
   "source": [
    "**(2)** $\\mathbb{E}_{\\theta_0}(Y_1)$은 $\\theta$ 만의 함수이다. 적당한 조건^[identifiable & common support]이 만족된다면 $\\mathbb{E}_{\\theta_0}(Y_1)$은 $\\theta_0$ 에서 최대화 된다. "
   ]
  },
  {
   "cell_type": "markdown",
   "id": "1cd7acc5-41a1-4383-8596-0f7d899c6962",
   "metadata": {},
   "source": [
    "**(베르누이 예제)**"
   ]
  },
  {
   "cell_type": "markdown",
   "id": "36f650d4-087c-4c37-a798-1c6b9de81bc6",
   "metadata": {},
   "source": [
    "$\\mathbb{E}_{\\theta_0}(Y_1) = \\mathbb{E}_{\\theta_0}(X_1)\\log\\theta + (1-\\mathbb{E}_{\\theta_0}(X_1))\\log(1-\\theta) =  \\frac{1}{3} \\log\\theta + (1-\\frac{1}{3})\\log(1-\\theta)$"
   ]
  },
  {
   "cell_type": "markdown",
   "id": "708c7372-e8b1-42f1-8368-76773d8c8c99",
   "metadata": {},
   "source": [
    "> 일반적인 상황에서는 참모수를 모르지만 우리는 시뮬레이션을 $\\theta=1/3$에서 하였으므로 참모수 $\\theta_0=\\mathbb{E}_{\\theta_0}(X_1)=\\frac{1}{3}$을 알고 있다고 가정한다. "
   ]
  },
  {
   "cell_type": "code",
   "execution_count": 10,
   "id": "e266a1e5-b7d2-4923-943a-60ede44d7a6e",
   "metadata": {},
   "outputs": [
    {
     "data": {
      "image/svg+xml": [
       "<?xml version=\"1.0\" encoding=\"utf-8\"?>\n",
       "<svg xmlns=\"http://www.w3.org/2000/svg\" xmlns:xlink=\"http://www.w3.org/1999/xlink\" width=\"600\" height=\"400\" viewBox=\"0 0 2400 1600\">\n",
       "<defs>\n",
       "  <clipPath id=\"clip900\">\n",
       "    <rect x=\"0\" y=\"0\" width=\"2400\" height=\"1600\"/>\n",
       "  </clipPath>\n",
       "</defs>\n",
       "<path clip-path=\"url(#clip900)\" d=\"M0 1600 L2400 1600 L2400 0 L0 0  Z\" fill=\"#ffffff\" fill-rule=\"evenodd\" fill-opacity=\"1\"/>\n",
       "<defs>\n",
       "  <clipPath id=\"clip901\">\n",
       "    <rect x=\"480\" y=\"0\" width=\"1681\" height=\"1600\"/>\n",
       "  </clipPath>\n",
       "</defs>\n",
       "<path clip-path=\"url(#clip900)\" d=\"M149.191 1486.45 L2352.76 1486.45 L2352.76 47.2441 L149.191 47.2441  Z\" fill=\"#ffffff\" fill-rule=\"evenodd\" fill-opacity=\"1\"/>\n",
       "<defs>\n",
       "  <clipPath id=\"clip902\">\n",
       "    <rect x=\"149\" y=\"47\" width=\"2205\" height=\"1440\"/>\n",
       "  </clipPath>\n",
       "</defs>\n",
       "<polyline clip-path=\"url(#clip902)\" style=\"stroke:#000000; stroke-linecap:round; stroke-linejoin:round; stroke-width:2; stroke-opacity:0.1; fill:none\" points=\"211.556,1486.45 211.556,47.2441 \"/>\n",
       "<polyline clip-path=\"url(#clip902)\" style=\"stroke:#000000; stroke-linecap:round; stroke-linejoin:round; stroke-width:2; stroke-opacity:0.1; fill:none\" points=\"731.265,1486.45 731.265,47.2441 \"/>\n",
       "<polyline clip-path=\"url(#clip902)\" style=\"stroke:#000000; stroke-linecap:round; stroke-linejoin:round; stroke-width:2; stroke-opacity:0.1; fill:none\" points=\"1250.97,1486.45 1250.97,47.2441 \"/>\n",
       "<polyline clip-path=\"url(#clip902)\" style=\"stroke:#000000; stroke-linecap:round; stroke-linejoin:round; stroke-width:2; stroke-opacity:0.1; fill:none\" points=\"1770.68,1486.45 1770.68,47.2441 \"/>\n",
       "<polyline clip-path=\"url(#clip902)\" style=\"stroke:#000000; stroke-linecap:round; stroke-linejoin:round; stroke-width:2; stroke-opacity:0.1; fill:none\" points=\"2290.39,1486.45 2290.39,47.2441 \"/>\n",
       "<polyline clip-path=\"url(#clip900)\" style=\"stroke:#000000; stroke-linecap:round; stroke-linejoin:round; stroke-width:4; stroke-opacity:1; fill:none\" points=\"149.191,1486.45 2352.76,1486.45 \"/>\n",
       "<polyline clip-path=\"url(#clip900)\" style=\"stroke:#000000; stroke-linecap:round; stroke-linejoin:round; stroke-width:4; stroke-opacity:1; fill:none\" points=\"211.556,1486.45 211.556,1467.55 \"/>\n",
       "<polyline clip-path=\"url(#clip900)\" style=\"stroke:#000000; stroke-linecap:round; stroke-linejoin:round; stroke-width:4; stroke-opacity:1; fill:none\" points=\"731.265,1486.45 731.265,1467.55 \"/>\n",
       "<polyline clip-path=\"url(#clip900)\" style=\"stroke:#000000; stroke-linecap:round; stroke-linejoin:round; stroke-width:4; stroke-opacity:1; fill:none\" points=\"1250.97,1486.45 1250.97,1467.55 \"/>\n",
       "<polyline clip-path=\"url(#clip900)\" style=\"stroke:#000000; stroke-linecap:round; stroke-linejoin:round; stroke-width:4; stroke-opacity:1; fill:none\" points=\"1770.68,1486.45 1770.68,1467.55 \"/>\n",
       "<polyline clip-path=\"url(#clip900)\" style=\"stroke:#000000; stroke-linecap:round; stroke-linejoin:round; stroke-width:4; stroke-opacity:1; fill:none\" points=\"2290.39,1486.45 2290.39,1467.55 \"/>\n",
       "<path clip-path=\"url(#clip900)\" d=\"M173.859 1517.37 Q170.248 1517.37 168.42 1520.93 Q166.614 1524.47 166.614 1531.6 Q166.614 1538.71 168.42 1542.27 Q170.248 1545.82 173.859 1545.82 Q177.494 1545.82 179.299 1542.27 Q181.128 1538.71 181.128 1531.6 Q181.128 1524.47 179.299 1520.93 Q177.494 1517.37 173.859 1517.37 M173.859 1513.66 Q179.67 1513.66 182.725 1518.27 Q185.804 1522.85 185.804 1531.6 Q185.804 1540.33 182.725 1544.94 Q179.67 1549.52 173.859 1549.52 Q168.049 1549.52 164.971 1544.94 Q161.915 1540.33 161.915 1531.6 Q161.915 1522.85 164.971 1518.27 Q168.049 1513.66 173.859 1513.66 Z\" fill=\"#000000\" fill-rule=\"evenodd\" fill-opacity=\"1\" /><path clip-path=\"url(#clip900)\" d=\"M194.021 1542.97 L198.906 1542.97 L198.906 1548.85 L194.021 1548.85 L194.021 1542.97 Z\" fill=\"#000000\" fill-rule=\"evenodd\" fill-opacity=\"1\" /><path clip-path=\"url(#clip900)\" d=\"M219.091 1517.37 Q215.48 1517.37 213.651 1520.93 Q211.845 1524.47 211.845 1531.6 Q211.845 1538.71 213.651 1542.27 Q215.48 1545.82 219.091 1545.82 Q222.725 1545.82 224.53 1542.27 Q226.359 1538.71 226.359 1531.6 Q226.359 1524.47 224.53 1520.93 Q222.725 1517.37 219.091 1517.37 M219.091 1513.66 Q224.901 1513.66 227.956 1518.27 Q231.035 1522.85 231.035 1531.6 Q231.035 1540.33 227.956 1544.94 Q224.901 1549.52 219.091 1549.52 Q213.28 1549.52 210.202 1544.94 Q207.146 1540.33 207.146 1531.6 Q207.146 1522.85 210.202 1518.27 Q213.28 1513.66 219.091 1513.66 Z\" fill=\"#000000\" fill-rule=\"evenodd\" fill-opacity=\"1\" /><path clip-path=\"url(#clip900)\" d=\"M249.252 1517.37 Q245.641 1517.37 243.813 1520.93 Q242.007 1524.47 242.007 1531.6 Q242.007 1538.71 243.813 1542.27 Q245.641 1545.82 249.252 1545.82 Q252.887 1545.82 254.692 1542.27 Q256.521 1538.71 256.521 1531.6 Q256.521 1524.47 254.692 1520.93 Q252.887 1517.37 249.252 1517.37 M249.252 1513.66 Q255.063 1513.66 258.118 1518.27 Q261.197 1522.85 261.197 1531.6 Q261.197 1540.33 258.118 1544.94 Q255.063 1549.52 249.252 1549.52 Q243.442 1549.52 240.364 1544.94 Q237.308 1540.33 237.308 1531.6 Q237.308 1522.85 240.364 1518.27 Q243.442 1513.66 249.252 1513.66 Z\" fill=\"#000000\" fill-rule=\"evenodd\" fill-opacity=\"1\" /><path clip-path=\"url(#clip900)\" d=\"M694.066 1517.37 Q690.455 1517.37 688.626 1520.93 Q686.82 1524.47 686.82 1531.6 Q686.82 1538.71 688.626 1542.27 Q690.455 1545.82 694.066 1545.82 Q697.7 1545.82 699.506 1542.27 Q701.334 1538.71 701.334 1531.6 Q701.334 1524.47 699.506 1520.93 Q697.7 1517.37 694.066 1517.37 M694.066 1513.66 Q699.876 1513.66 702.931 1518.27 Q706.01 1522.85 706.01 1531.6 Q706.01 1540.33 702.931 1544.94 Q699.876 1549.52 694.066 1549.52 Q688.256 1549.52 685.177 1544.94 Q682.121 1540.33 682.121 1531.6 Q682.121 1522.85 685.177 1518.27 Q688.256 1513.66 694.066 1513.66 Z\" fill=\"#000000\" fill-rule=\"evenodd\" fill-opacity=\"1\" /><path clip-path=\"url(#clip900)\" d=\"M714.228 1542.97 L719.112 1542.97 L719.112 1548.85 L714.228 1548.85 L714.228 1542.97 Z\" fill=\"#000000\" fill-rule=\"evenodd\" fill-opacity=\"1\" /><path clip-path=\"url(#clip900)\" d=\"M733.325 1544.91 L749.644 1544.91 L749.644 1548.85 L727.7 1548.85 L727.7 1544.91 Q730.362 1542.16 734.945 1537.53 Q739.552 1532.88 740.732 1531.53 Q742.978 1529.01 743.857 1527.27 Q744.76 1525.51 744.76 1523.82 Q744.76 1521.07 742.816 1519.33 Q740.894 1517.6 737.792 1517.6 Q735.593 1517.6 733.14 1518.36 Q730.709 1519.13 727.931 1520.68 L727.931 1515.95 Q730.755 1514.82 733.209 1514.24 Q735.663 1513.66 737.7 1513.66 Q743.07 1513.66 746.265 1516.35 Q749.459 1519.03 749.459 1523.52 Q749.459 1525.65 748.649 1527.57 Q747.862 1529.47 745.755 1532.07 Q745.177 1532.74 742.075 1535.95 Q738.973 1539.15 733.325 1544.91 Z\" fill=\"#000000\" fill-rule=\"evenodd\" fill-opacity=\"1\" /><path clip-path=\"url(#clip900)\" d=\"M759.505 1514.29 L777.862 1514.29 L777.862 1518.22 L763.788 1518.22 L763.788 1526.7 Q764.806 1526.35 765.825 1526.19 Q766.843 1526 767.862 1526 Q773.649 1526 777.028 1529.17 Q780.408 1532.34 780.408 1537.76 Q780.408 1543.34 776.936 1546.44 Q773.463 1549.52 767.144 1549.52 Q764.968 1549.52 762.7 1549.15 Q760.454 1548.78 758.047 1548.04 L758.047 1543.34 Q760.13 1544.47 762.352 1545.03 Q764.575 1545.58 767.051 1545.58 Q771.056 1545.58 773.394 1543.48 Q775.732 1541.37 775.732 1537.76 Q775.732 1534.15 773.394 1532.04 Q771.056 1529.94 767.051 1529.94 Q765.177 1529.94 763.302 1530.35 Q761.45 1530.77 759.505 1531.65 L759.505 1514.29 Z\" fill=\"#000000\" fill-rule=\"evenodd\" fill-opacity=\"1\" /><path clip-path=\"url(#clip900)\" d=\"M1213.28 1517.37 Q1209.67 1517.37 1207.84 1520.93 Q1206.03 1524.47 1206.03 1531.6 Q1206.03 1538.71 1207.84 1542.27 Q1209.67 1545.82 1213.28 1545.82 Q1216.91 1545.82 1218.72 1542.27 Q1220.55 1538.71 1220.55 1531.6 Q1220.55 1524.47 1218.72 1520.93 Q1216.91 1517.37 1213.28 1517.37 M1213.28 1513.66 Q1219.09 1513.66 1222.14 1518.27 Q1225.22 1522.85 1225.22 1531.6 Q1225.22 1540.33 1222.14 1544.94 Q1219.09 1549.52 1213.28 1549.52 Q1207.47 1549.52 1204.39 1544.94 Q1201.33 1540.33 1201.33 1531.6 Q1201.33 1522.85 1204.39 1518.27 Q1207.47 1513.66 1213.28 1513.66 Z\" fill=\"#000000\" fill-rule=\"evenodd\" fill-opacity=\"1\" /><path clip-path=\"url(#clip900)\" d=\"M1233.44 1542.97 L1238.32 1542.97 L1238.32 1548.85 L1233.44 1548.85 L1233.44 1542.97 Z\" fill=\"#000000\" fill-rule=\"evenodd\" fill-opacity=\"1\" /><path clip-path=\"url(#clip900)\" d=\"M1248.55 1514.29 L1266.91 1514.29 L1266.91 1518.22 L1252.84 1518.22 L1252.84 1526.7 Q1253.86 1526.35 1254.87 1526.19 Q1255.89 1526 1256.91 1526 Q1262.7 1526 1266.08 1529.17 Q1269.46 1532.34 1269.46 1537.76 Q1269.46 1543.34 1265.98 1546.44 Q1262.51 1549.52 1256.19 1549.52 Q1254.02 1549.52 1251.75 1549.15 Q1249.5 1548.78 1247.1 1548.04 L1247.1 1543.34 Q1249.18 1544.47 1251.4 1545.03 Q1253.62 1545.58 1256.1 1545.58 Q1260.11 1545.58 1262.44 1543.48 Q1264.78 1541.37 1264.78 1537.76 Q1264.78 1534.15 1262.44 1532.04 Q1260.11 1529.94 1256.1 1529.94 Q1254.23 1529.94 1252.35 1530.35 Q1250.5 1530.77 1248.55 1531.65 L1248.55 1514.29 Z\" fill=\"#000000\" fill-rule=\"evenodd\" fill-opacity=\"1\" /><path clip-path=\"url(#clip900)\" d=\"M1288.67 1517.37 Q1285.06 1517.37 1283.23 1520.93 Q1281.42 1524.47 1281.42 1531.6 Q1281.42 1538.71 1283.23 1542.27 Q1285.06 1545.82 1288.67 1545.82 Q1292.3 1545.82 1294.11 1542.27 Q1295.94 1538.71 1295.94 1531.6 Q1295.94 1524.47 1294.11 1520.93 Q1292.3 1517.37 1288.67 1517.37 M1288.67 1513.66 Q1294.48 1513.66 1297.54 1518.27 Q1300.61 1522.85 1300.61 1531.6 Q1300.61 1540.33 1297.54 1544.94 Q1294.48 1549.52 1288.67 1549.52 Q1282.86 1549.52 1279.78 1544.94 Q1276.73 1540.33 1276.73 1531.6 Q1276.73 1522.85 1279.78 1518.27 Q1282.86 1513.66 1288.67 1513.66 Z\" fill=\"#000000\" fill-rule=\"evenodd\" fill-opacity=\"1\" /><path clip-path=\"url(#clip900)\" d=\"M1733.48 1517.37 Q1729.87 1517.37 1728.04 1520.93 Q1726.24 1524.47 1726.24 1531.6 Q1726.24 1538.71 1728.04 1542.27 Q1729.87 1545.82 1733.48 1545.82 Q1737.12 1545.82 1738.92 1542.27 Q1740.75 1538.71 1740.75 1531.6 Q1740.75 1524.47 1738.92 1520.93 Q1737.12 1517.37 1733.48 1517.37 M1733.48 1513.66 Q1739.29 1513.66 1742.35 1518.27 Q1745.43 1522.85 1745.43 1531.6 Q1745.43 1540.33 1742.35 1544.94 Q1739.29 1549.52 1733.48 1549.52 Q1727.67 1549.52 1724.59 1544.94 Q1721.54 1540.33 1721.54 1531.6 Q1721.54 1522.85 1724.59 1518.27 Q1727.67 1513.66 1733.48 1513.66 Z\" fill=\"#000000\" fill-rule=\"evenodd\" fill-opacity=\"1\" /><path clip-path=\"url(#clip900)\" d=\"M1753.65 1542.97 L1758.53 1542.97 L1758.53 1548.85 L1753.65 1548.85 L1753.65 1542.97 Z\" fill=\"#000000\" fill-rule=\"evenodd\" fill-opacity=\"1\" /><path clip-path=\"url(#clip900)\" d=\"M1767.53 1514.29 L1789.76 1514.29 L1789.76 1516.28 L1777.21 1548.85 L1772.33 1548.85 L1784.13 1518.22 L1767.53 1518.22 L1767.53 1514.29 Z\" fill=\"#000000\" fill-rule=\"evenodd\" fill-opacity=\"1\" /><path clip-path=\"url(#clip900)\" d=\"M1798.92 1514.29 L1817.28 1514.29 L1817.28 1518.22 L1803.21 1518.22 L1803.21 1526.7 Q1804.22 1526.35 1805.24 1526.19 Q1806.26 1526 1807.28 1526 Q1813.07 1526 1816.45 1529.17 Q1819.83 1532.34 1819.83 1537.76 Q1819.83 1543.34 1816.35 1546.44 Q1812.88 1549.52 1806.56 1549.52 Q1804.39 1549.52 1802.12 1549.15 Q1799.87 1548.78 1797.46 1548.04 L1797.46 1543.34 Q1799.55 1544.47 1801.77 1545.03 Q1803.99 1545.58 1806.47 1545.58 Q1810.47 1545.58 1812.81 1543.48 Q1815.15 1541.37 1815.15 1537.76 Q1815.15 1534.15 1812.81 1532.04 Q1810.47 1529.94 1806.47 1529.94 Q1804.59 1529.94 1802.72 1530.35 Q1800.87 1530.77 1798.92 1531.65 L1798.92 1514.29 Z\" fill=\"#000000\" fill-rule=\"evenodd\" fill-opacity=\"1\" /><path clip-path=\"url(#clip900)\" d=\"M2242.46 1544.91 L2250.1 1544.91 L2250.1 1518.55 L2241.79 1520.21 L2241.79 1515.95 L2250.06 1514.29 L2254.73 1514.29 L2254.73 1544.91 L2262.37 1544.91 L2262.37 1548.85 L2242.46 1548.85 L2242.46 1544.91 Z\" fill=\"#000000\" fill-rule=\"evenodd\" fill-opacity=\"1\" /><path clip-path=\"url(#clip900)\" d=\"M2271.81 1542.97 L2276.7 1542.97 L2276.7 1548.85 L2271.81 1548.85 L2271.81 1542.97 Z\" fill=\"#000000\" fill-rule=\"evenodd\" fill-opacity=\"1\" /><path clip-path=\"url(#clip900)\" d=\"M2296.88 1517.37 Q2293.27 1517.37 2291.44 1520.93 Q2289.64 1524.47 2289.64 1531.6 Q2289.64 1538.71 2291.44 1542.27 Q2293.27 1545.82 2296.88 1545.82 Q2300.52 1545.82 2302.32 1542.27 Q2304.15 1538.71 2304.15 1531.6 Q2304.15 1524.47 2302.32 1520.93 Q2300.52 1517.37 2296.88 1517.37 M2296.88 1513.66 Q2302.69 1513.66 2305.75 1518.27 Q2308.83 1522.85 2308.83 1531.6 Q2308.83 1540.33 2305.75 1544.94 Q2302.69 1549.52 2296.88 1549.52 Q2291.07 1549.52 2288 1544.94 Q2284.94 1540.33 2284.94 1531.6 Q2284.94 1522.85 2288 1518.27 Q2291.07 1513.66 2296.88 1513.66 Z\" fill=\"#000000\" fill-rule=\"evenodd\" fill-opacity=\"1\" /><path clip-path=\"url(#clip900)\" d=\"M2327.05 1517.37 Q2323.43 1517.37 2321.61 1520.93 Q2319.8 1524.47 2319.8 1531.6 Q2319.8 1538.71 2321.61 1542.27 Q2323.43 1545.82 2327.05 1545.82 Q2330.68 1545.82 2332.49 1542.27 Q2334.31 1538.71 2334.31 1531.6 Q2334.31 1524.47 2332.49 1520.93 Q2330.68 1517.37 2327.05 1517.37 M2327.05 1513.66 Q2332.86 1513.66 2335.91 1518.27 Q2338.99 1522.85 2338.99 1531.6 Q2338.99 1540.33 2335.91 1544.94 Q2332.86 1549.52 2327.05 1549.52 Q2321.24 1549.52 2318.16 1544.94 Q2315.1 1540.33 2315.1 1531.6 Q2315.1 1522.85 2318.16 1518.27 Q2321.24 1513.66 2327.05 1513.66 Z\" fill=\"#000000\" fill-rule=\"evenodd\" fill-opacity=\"1\" /><polyline clip-path=\"url(#clip902)\" style=\"stroke:#000000; stroke-linecap:round; stroke-linejoin:round; stroke-width:2; stroke-opacity:0.1; fill:none\" points=\"149.191,1384.53 2352.76,1384.53 \"/>\n",
       "<polyline clip-path=\"url(#clip902)\" style=\"stroke:#000000; stroke-linecap:round; stroke-linejoin:round; stroke-width:2; stroke-opacity:0.1; fill:none\" points=\"149.191,1142.8 2352.76,1142.8 \"/>\n",
       "<polyline clip-path=\"url(#clip902)\" style=\"stroke:#000000; stroke-linecap:round; stroke-linejoin:round; stroke-width:2; stroke-opacity:0.1; fill:none\" points=\"149.191,901.058 2352.76,901.058 \"/>\n",
       "<polyline clip-path=\"url(#clip902)\" style=\"stroke:#000000; stroke-linecap:round; stroke-linejoin:round; stroke-width:2; stroke-opacity:0.1; fill:none\" points=\"149.191,659.32 2352.76,659.32 \"/>\n",
       "<polyline clip-path=\"url(#clip902)\" style=\"stroke:#000000; stroke-linecap:round; stroke-linejoin:round; stroke-width:2; stroke-opacity:0.1; fill:none\" points=\"149.191,417.582 2352.76,417.582 \"/>\n",
       "<polyline clip-path=\"url(#clip902)\" style=\"stroke:#000000; stroke-linecap:round; stroke-linejoin:round; stroke-width:2; stroke-opacity:0.1; fill:none\" points=\"149.191,175.843 2352.76,175.843 \"/>\n",
       "<polyline clip-path=\"url(#clip900)\" style=\"stroke:#000000; stroke-linecap:round; stroke-linejoin:round; stroke-width:4; stroke-opacity:1; fill:none\" points=\"149.191,1486.45 149.191,47.2441 \"/>\n",
       "<polyline clip-path=\"url(#clip900)\" style=\"stroke:#000000; stroke-linecap:round; stroke-linejoin:round; stroke-width:4; stroke-opacity:1; fill:none\" points=\"149.191,1384.53 168.089,1384.53 \"/>\n",
       "<polyline clip-path=\"url(#clip900)\" style=\"stroke:#000000; stroke-linecap:round; stroke-linejoin:round; stroke-width:4; stroke-opacity:1; fill:none\" points=\"149.191,1142.8 168.089,1142.8 \"/>\n",
       "<polyline clip-path=\"url(#clip900)\" style=\"stroke:#000000; stroke-linecap:round; stroke-linejoin:round; stroke-width:4; stroke-opacity:1; fill:none\" points=\"149.191,901.058 168.089,901.058 \"/>\n",
       "<polyline clip-path=\"url(#clip900)\" style=\"stroke:#000000; stroke-linecap:round; stroke-linejoin:round; stroke-width:4; stroke-opacity:1; fill:none\" points=\"149.191,659.32 168.089,659.32 \"/>\n",
       "<polyline clip-path=\"url(#clip900)\" style=\"stroke:#000000; stroke-linecap:round; stroke-linejoin:round; stroke-width:4; stroke-opacity:1; fill:none\" points=\"149.191,417.582 168.089,417.582 \"/>\n",
       "<polyline clip-path=\"url(#clip900)\" style=\"stroke:#000000; stroke-linecap:round; stroke-linejoin:round; stroke-width:4; stroke-opacity:1; fill:none\" points=\"149.191,175.843 168.089,175.843 \"/>\n",
       "<path clip-path=\"url(#clip900)\" d=\"M51.3162 1384.99 L80.992 1384.99 L80.992 1388.92 L51.3162 1388.92 L51.3162 1384.99 Z\" fill=\"#000000\" fill-rule=\"evenodd\" fill-opacity=\"1\" /><path clip-path=\"url(#clip900)\" d=\"M101.663 1382.67 Q98.515 1382.67 96.6632 1384.82 Q94.8345 1386.98 94.8345 1390.73 Q94.8345 1394.45 96.6632 1396.63 Q98.515 1398.78 101.663 1398.78 Q104.811 1398.78 106.64 1396.63 Q108.492 1394.45 108.492 1390.73 Q108.492 1386.98 106.64 1384.82 Q104.811 1382.67 101.663 1382.67 M110.946 1368.02 L110.946 1372.28 Q109.186 1371.44 107.381 1371 Q105.598 1370.56 103.839 1370.56 Q99.2095 1370.56 96.7558 1373.69 Q94.3252 1376.81 93.978 1383.13 Q95.3437 1381.12 97.4039 1380.06 Q99.4641 1378.97 101.941 1378.97 Q107.149 1378.97 110.158 1382.14 Q113.191 1385.29 113.191 1390.73 Q113.191 1396.05 110.043 1399.27 Q106.895 1402.49 101.663 1402.49 Q95.6678 1402.49 92.4965 1397.9 Q89.3253 1393.3 89.3253 1384.57 Q89.3253 1376.37 93.2141 1371.51 Q97.103 1366.63 103.654 1366.63 Q105.413 1366.63 107.196 1366.98 Q109.001 1367.32 110.946 1368.02 Z\" fill=\"#000000\" fill-rule=\"evenodd\" fill-opacity=\"1\" /><path clip-path=\"url(#clip900)\" d=\"M52.4736 1143.25 L82.1494 1143.25 L82.1494 1147.18 L52.4736 1147.18 L52.4736 1143.25 Z\" fill=\"#000000\" fill-rule=\"evenodd\" fill-opacity=\"1\" /><path clip-path=\"url(#clip900)\" d=\"M92.2882 1125.52 L110.645 1125.52 L110.645 1129.45 L96.5706 1129.45 L96.5706 1137.92 Q97.5891 1137.58 98.6076 1137.41 Q99.6261 1137.23 100.645 1137.23 Q106.432 1137.23 109.811 1140.4 Q113.191 1143.57 113.191 1148.99 Q113.191 1154.57 109.719 1157.67 Q106.246 1160.75 99.927 1160.75 Q97.7511 1160.75 95.4826 1160.38 Q93.2373 1160.01 90.8299 1159.27 L90.8299 1154.57 Q92.9132 1155.7 95.1354 1156.26 Q97.3576 1156.81 99.8345 1156.81 Q103.839 1156.81 106.177 1154.71 Q108.515 1152.6 108.515 1148.99 Q108.515 1145.38 106.177 1143.27 Q103.839 1141.16 99.8345 1141.16 Q97.9595 1141.16 96.0845 1141.58 Q94.2326 1142 92.2882 1142.88 L92.2882 1125.52 Z\" fill=\"#000000\" fill-rule=\"evenodd\" fill-opacity=\"1\" /><path clip-path=\"url(#clip900)\" d=\"M50.9921 901.509 L80.6679 901.509 L80.6679 905.445 L50.9921 905.445 L50.9921 901.509 Z\" fill=\"#000000\" fill-rule=\"evenodd\" fill-opacity=\"1\" /><path clip-path=\"url(#clip900)\" d=\"M103.608 887.852 L91.8021 906.301 L103.608 906.301 L103.608 887.852 M102.381 883.778 L108.26 883.778 L108.26 906.301 L113.191 906.301 L113.191 910.19 L108.26 910.19 L108.26 918.338 L103.608 918.338 L103.608 910.19 L88.0058 910.19 L88.0058 905.676 L102.381 883.778 Z\" fill=\"#000000\" fill-rule=\"evenodd\" fill-opacity=\"1\" /><path clip-path=\"url(#clip900)\" d=\"M52.1264 659.771 L81.8021 659.771 L81.8021 663.706 L52.1264 663.706 L52.1264 659.771 Z\" fill=\"#000000\" fill-rule=\"evenodd\" fill-opacity=\"1\" /><path clip-path=\"url(#clip900)\" d=\"M106.061 657.966 Q109.418 658.683 111.293 660.952 Q113.191 663.22 113.191 666.554 Q113.191 671.669 109.672 674.47 Q106.154 677.271 99.6724 677.271 Q97.4965 677.271 95.1817 676.831 Q92.89 676.415 90.4364 675.558 L90.4364 671.044 Q92.3808 672.179 94.6956 672.757 Q97.0104 673.336 99.5335 673.336 Q103.932 673.336 106.223 671.6 Q108.538 669.864 108.538 666.554 Q108.538 663.498 106.385 661.785 Q104.256 660.049 100.436 660.049 L96.4085 660.049 L96.4085 656.206 L100.621 656.206 Q104.071 656.206 105.899 654.841 Q107.728 653.452 107.728 650.859 Q107.728 648.197 105.83 646.785 Q103.955 645.35 100.436 645.35 Q98.515 645.35 96.316 645.767 Q94.1169 646.183 91.478 647.063 L91.478 642.896 Q94.14 642.156 96.4548 641.785 Q98.7928 641.415 100.853 641.415 Q106.177 641.415 109.279 643.845 Q112.381 646.253 112.381 650.373 Q112.381 653.243 110.737 655.234 Q109.094 657.202 106.061 657.966 Z\" fill=\"#000000\" fill-rule=\"evenodd\" fill-opacity=\"1\" /><path clip-path=\"url(#clip900)\" d=\"M53.0754 418.033 L82.7512 418.033 L82.7512 421.968 L53.0754 421.968 L53.0754 418.033 Z\" fill=\"#000000\" fill-rule=\"evenodd\" fill-opacity=\"1\" /><path clip-path=\"url(#clip900)\" d=\"M96.8715 430.926 L113.191 430.926 L113.191 434.862 L91.2465 434.862 L91.2465 430.926 Q93.9086 428.172 98.4919 423.542 Q103.098 418.889 104.279 417.547 Q106.524 415.024 107.404 413.288 Q108.307 411.528 108.307 409.839 Q108.307 407.084 106.362 405.348 Q104.441 403.612 101.339 403.612 Q99.14 403.612 96.6863 404.376 Q94.2558 405.139 91.478 406.69 L91.478 401.968 Q94.3021 400.834 96.7558 400.255 Q99.2095 399.677 101.246 399.677 Q106.617 399.677 109.811 402.362 Q113.006 405.047 113.006 409.538 Q113.006 411.667 112.196 413.588 Q111.408 415.487 109.302 418.079 Q108.723 418.75 105.621 421.968 Q102.52 425.162 96.8715 430.926 Z\" fill=\"#000000\" fill-rule=\"evenodd\" fill-opacity=\"1\" /><path clip-path=\"url(#clip900)\" d=\"M52.7051 176.295 L82.3808 176.295 L82.3808 180.23 L52.7051 180.23 L52.7051 176.295 Z\" fill=\"#000000\" fill-rule=\"evenodd\" fill-opacity=\"1\" /><path clip-path=\"url(#clip900)\" d=\"M93.2836 189.188 L100.922 189.188 L100.922 162.822 L92.6123 164.489 L92.6123 160.23 L100.876 158.563 L105.552 158.563 L105.552 189.188 L113.191 189.188 L113.191 193.123 L93.2836 193.123 L93.2836 189.188 Z\" fill=\"#000000\" fill-rule=\"evenodd\" fill-opacity=\"1\" /><polyline clip-path=\"url(#clip902)\" style=\"stroke:#009af9; stroke-linecap:round; stroke-linejoin:round; stroke-width:4; stroke-opacity:1; fill:none\" points=\"211.662,730.751 211.767,674.905 211.873,642.241 211.979,619.068 212.085,601.096 212.19,586.413 212.296,573.999 212.402,563.248 212.508,553.765 212.613,545.283 212.719,537.612 212.825,530.608 213.036,518.203 213.248,507.46 213.459,497.985 213.671,489.512 213.882,481.848 214.094,474.853 214.517,462.465 214.94,451.738 215.362,442.28 215.785,433.823 216.208,426.176 216.631,419.197 217.477,406.842 218.323,396.147 219.169,386.722 220.015,378.298 220.861,370.684 221.707,363.739 222.553,357.355 223.398,351.449 224.244,345.956 225.09,340.821 227.046,330.1 229.001,320.673 230.956,312.266 232.912,304.681 236.823,291.437 240.733,280.148 244.644,270.321 248.555,261.627 252.466,253.84 256.376,246.793 264.198,234.452 272.019,223.913 279.841,214.736 287.663,206.626 295.484,199.374 303.306,192.827 311.127,186.871 318.949,181.416 334.592,171.742 350.235,163.392 369.037,154.717 387.838,147.213 406.64,140.648 425.442,134.85 457.235,126.454 489.028,119.468 523.564,113.135 558.1,107.857 589.94,103.763 621.779,100.299 655.914,97.1898 690.05,94.6273 729.599,92.2609 769.148,90.469 839.44,88.5261 901.081,87.9763 968.286,88.4727 1035.89,90.0364 1110.63,92.9425 1181.75,96.8282 1255.7,102.034 1317.95,107.367 1393.94,115.128 1463.56,123.546 1527.86,132.557 1592.99,143.054 1629.49,149.616 1665.98,156.723 1699.05,163.681 1732.13,171.184 1769.99,180.522 1807.86,190.762 1842.92,201.168 1877.98,212.603 1912.54,225.056 1947.11,238.896 1963.89,246.197 1980.67,253.932 1997.45,262.147 2014.23,270.9 2031.43,280.499 2048.63,290.818 2065.83,301.962 2083.03,314.061 2101.88,328.61 2120.72,344.785 2130.15,353.597 2139.57,362.969 2148.99,372.974 2158.42,383.697 2172.1,400.78 2185.79,420.04 2192.64,430.667 2199.48,442.088 2206.33,454.425 2213.17,467.835 2220.01,482.517 2226.86,498.732 2233.7,516.828 2240.55,537.293 2243.97,548.62 2247.39,560.826 2250.81,574.056 2254.24,588.495 2257.66,604.386 2261.08,622.048 2264.5,641.922 2267.92,664.637 2269.33,674.983 2270.73,686.047 2272.14,697.935 2273.54,710.78 2274.95,724.747 2276.35,740.053 2277.75,756.978 2279.16,775.905 2279.86,786.278 2280.56,797.37 2281.26,809.286 2281.97,822.158 2282.67,836.153 2283.37,851.486 2284.07,868.438 2284.77,887.393 2285.13,897.78 2285.48,908.885 2285.83,920.815 2286.18,933.701 2286.53,947.71 2286.88,963.056 2287.23,980.022 2287.58,998.991 2287.76,1009.38 2287.93,1020.5 2288.11,1032.43 2288.28,1045.33 2288.46,1059.34 2288.64,1074.69 2288.81,1091.67 2288.99,1110.64 2289.16,1132.16 2289.34,1156.99 2289.51,1186.37 2289.69,1222.32 2289.86,1268.68 2290.04,1334.02 2290.22,1445.72 \"/>\n",
       "<path clip-path=\"url(#clip900)\" d=\"M222.643 1438.47 L495.43 1438.47 L495.43 1334.79 L222.643 1334.79  Z\" fill=\"#ffffff\" fill-rule=\"evenodd\" fill-opacity=\"1\"/>\n",
       "<polyline clip-path=\"url(#clip900)\" style=\"stroke:#000000; stroke-linecap:round; stroke-linejoin:round; stroke-width:4; stroke-opacity:1; fill:none\" points=\"222.643,1438.47 495.43,1438.47 495.43,1334.79 222.643,1334.79 222.643,1438.47 \"/>\n",
       "<polyline clip-path=\"url(#clip900)\" style=\"stroke:#009af9; stroke-linecap:round; stroke-linejoin:round; stroke-width:4; stroke-opacity:1; fill:none\" points=\"247.127,1386.63 394.031,1386.63 \"/>\n",
       "<path clip-path=\"url(#clip900)\" d=\"M432.358 1406.32 Q430.552 1410.95 428.84 1412.36 Q427.127 1413.78 424.256 1413.78 L420.853 1413.78 L420.853 1410.21 L423.353 1410.21 Q425.113 1410.21 426.085 1409.38 Q427.057 1408.54 428.238 1405.44 L429.002 1403.5 L418.515 1377.99 L423.029 1377.99 L431.131 1398.27 L439.233 1377.99 L443.747 1377.99 L432.358 1406.32 Z\" fill=\"#000000\" fill-rule=\"evenodd\" fill-opacity=\"1\" /><path clip-path=\"url(#clip900)\" d=\"M451.038 1399.98 L458.677 1399.98 L458.677 1373.61 L450.367 1375.28 L450.367 1371.02 L458.631 1369.35 L463.307 1369.35 L463.307 1399.98 L470.946 1399.98 L470.946 1403.91 L451.038 1403.91 L451.038 1399.98 Z\" fill=\"#000000\" fill-rule=\"evenodd\" fill-opacity=\"1\" /></svg>\n"
      ]
     },
     "execution_count": 10,
     "metadata": {},
     "output_type": "execute_result"
    }
   ],
   "source": [
    "plot(θ -> (1/3)*log(θ) + (1-1/3)*log(1-θ)) "
   ]
  },
  {
   "cell_type": "markdown",
   "id": "ac1e8e75-6ffe-4eef-bcfe-145609826c73",
   "metadata": {},
   "source": [
    "보는것처럼 이 함수 $\\mathbb{E}_{\\theta_0}(Y_1)$은 $\\theta=\\theta_0=\\frac{1}{3}$ 에서 최대값을 가진다. "
   ]
  },
  {
   "cell_type": "markdown",
   "id": "af650e9a-4e21-400d-b573-9e8425e5c014",
   "metadata": {},
   "source": [
    "**(3)** $\\frac{\\partial}{\\partial \\theta}Y_1$ 역시 $X_1$와 $\\theta$의 함수이다. \n",
    "\n",
    "- 따라서 $\\frac{\\partial}{\\partial \\theta}Y_1$ 역시 확률변수이고 $\\frac{\\partial}{\\partial \\theta}Y_1$에 대하여 평균등을 취할 수 있으며 LLN을 쓸 수 있다. \n"
   ]
  },
  {
   "cell_type": "markdown",
   "id": "0b728144-e2f4-4b30-a97a-a1727b36fa5f",
   "metadata": {},
   "source": [
    "**(베르누이 예제)**"
   ]
  },
  {
   "cell_type": "markdown",
   "id": "5470675e-7aba-4126-9e58-edae55ec0b9c",
   "metadata": {},
   "source": [
    "$\\frac{\\partial}{\\partial\\theta}Y_1 = X_1\\frac{1}{\\theta} + (1-X_1)\\frac{-1}{1-\\theta}$"
   ]
  },
  {
   "cell_type": "markdown",
   "id": "03d8e4fc-60ef-4ba9-a228-706af26f9351",
   "metadata": {},
   "source": [
    "**(4)** $\\mathbb{E}_{\\theta}[\\frac{\\partial}{\\partial \\theta}Y_1]=0$ 이다."
   ]
  },
  {
   "cell_type": "markdown",
   "id": "4957835e-21d7-49ce-889b-863e816ba0ab",
   "metadata": {},
   "source": [
    "**(베르누이 예제)**"
   ]
  },
  {
   "cell_type": "markdown",
   "id": "ef9b56eb-e891-41fc-b0e7-28affa729aa1",
   "metadata": {},
   "source": [
    "$\\mathbb{E}_{\\theta}[\\frac{\\partial}{\\partial\\theta}Y_1] = \\theta\\frac{1}{\\theta} + (1-\\theta)\\frac{-1}{1-\\theta}=0$"
   ]
  },
  {
   "cell_type": "markdown",
   "id": "29479f7c-557d-457d-860f-ac022e5bdc26",
   "metadata": {},
   "source": [
    "**(5)** $\\mathbb{V}_{\\theta}[\\frac{\\partial}{\\partial\\theta}Y_1]=\\mathbb{E}_{\\theta}[-\\frac{\\partial^2}{\\partial \\theta^2}Y_1]=I(\\theta)$"
   ]
  },
  {
   "cell_type": "markdown",
   "id": "0aa7a6c0-6827-4705-b807-b6a88103a559",
   "metadata": {},
   "source": [
    "**(베르누이 예제)**"
   ]
  },
  {
   "cell_type": "markdown",
   "id": "6e465f20-29f7-457a-b738-fb7790ea8431",
   "metadata": {},
   "source": [
    "$\\mathbb{V}_{\\theta}\\big[\\frac{\\partial}{\\partial\\theta}Y_1\\big]=\\mathbb{E}_{\\theta}\\big[(\\frac{\\partial}{\\partial\\theta}Y_1)^2\\big]=\\mathbb{E}_{\\theta}\\big[-\\frac{\\partial^2}{\\partial\\theta^2}Y_1\\big]=\\frac{1}{\\theta(1-\\theta)}$"
   ]
  },
  {
   "cell_type": "markdown",
   "id": "9370d1e1-4818-4af8-9dfa-44301a38b07b",
   "metadata": {},
   "source": [
    "- 두번째 등호는 $\\mathbb{E}_{\\theta}[\\frac{\\partial}{\\partial\\theta}Y_1]=0$을 이용하여 증명가능하다.\n",
    "- 언뜻 보면 $\\mathbb{V}_{\\theta}\\big[\\frac{\\partial}{\\partial\\theta}Y_1\\big]$를 계산하는 것이 $\\mathbb{E}_{\\theta}\\big[-\\frac{\\partial^2}{\\partial\\theta^2}Y_1\\big]$를 계산하는것보다 훨씬 쉬워보인다. 그런데 $X_1$와 $1-X_1$이 독립이 아니라서 $\\mathbb{V}(X+Y)=\\mathbb{V}(X)+\\mathbb{V}(V)+2\\text{Cov}(X,Y)$와 같이 공분산 term을 계산해야 하므로 계산이 까다롭다. "
   ]
  },
  {
   "cell_type": "markdown",
   "id": "d70cee72-0ae9-44da-848f-055d0f3340ee",
   "metadata": {},
   "source": [
    "> 베르누이에 대한 피셔정보량은 <https://en.wikipedia.org/wiki/Fisher_information> 에서 확인할 수 있음 "
   ]
  }
 ],
 "metadata": {
  "kernelspec": {
   "display_name": "Julia 1.9.2",
   "language": "julia",
   "name": "julia-1.9"
  },
  "language_info": {
   "file_extension": ".jl",
   "mimetype": "application/julia",
   "name": "julia",
   "version": "1.9.2"
  }
 },
 "nbformat": 4,
 "nbformat_minor": 5
}
