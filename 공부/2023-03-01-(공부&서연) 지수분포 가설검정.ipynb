{
 "cells": [
  {
   "cell_type": "raw",
   "id": "646a8936-89b6-48ff-a425-5e5f719fb0df",
   "metadata": {},
   "source": [
    "---\n",
    "title: \"(공부&서연) 지수분포 가설검정\"\n",
    "author: \"신록예찬\"\n",
    "date: \"03/01/2023\"\n",
    "---"
   ]
  },
  {
   "cell_type": "code",
   "execution_count": 1,
   "id": "f9c44c98-a645-4eb4-a6b9-148e06cc03e4",
   "metadata": {},
   "outputs": [],
   "source": [
    "using Distributions, Plots"
   ]
  },
  {
   "cell_type": "markdown",
   "id": "6f453f7b-8e01-45d8-a0cc-c0ff613918a1",
   "metadata": {
    "tags": []
   },
   "source": [
    "**(문제)** $X_1,X_2$가 평균이 $\\theta$인 지수분포에서 추출한 랜덤표본이라고 하자. \n",
    "가설 $H_0: \\theta=2$ vs $H_1:\\theta=1$ 에 대하여, $H_0$에 대한 기각영역을 \n",
    "\n",
    "$$\\frac{f(x_1;\\theta=2)f(x_2;\\theta=2)}{f(x_1;\\theta=1)f(x_2;\\theta=1)}<\\frac{1}{2}$$\n",
    "\n",
    "와 같이 설정하자. 이와 같은 검정법에 대한 $\\alpha$와 $\\beta$를 구하라. "
   ]
  },
  {
   "cell_type": "markdown",
   "id": "23d830cd-c68e-432d-a111-245d428b5005",
   "metadata": {},
   "source": [
    "**(풀이)**"
   ]
  },
  {
   "cell_type": "markdown",
   "id": "9fa48210-6b1b-42da-b811-e9972d4e511d",
   "metadata": {},
   "source": [
    "문제요약 "
   ]
  },
  {
   "cell_type": "markdown",
   "id": "9562cda9-b1ae-4598-bcb3-b227c441990e",
   "metadata": {},
   "source": [
    "- $f(x) = \\frac{1}{\\theta} \\exp(-\\frac{x}{\\theta})$ -> 평균이 $\\theta$ 인 지수분포 \n",
    "\n",
    "- 검정통계량: $T=\\frac{f(x_1;2)f(x_2;2)}{f(x_1;1)f(x_2;1)}$\n",
    "\n",
    "- $\\alpha = P(\\text{Reject $H_0$|$H_0$ is true}) = P(T<\\frac{1}{2} | \\text{$H_0$ is true})$\n",
    "\n",
    "- $\\beta = P(\\text{Accept $H_0$|$H_1$ is true}) = P(T>\\frac{1}{2} | \\text{$H_1$ is true})$"
   ]
  },
  {
   "cell_type": "markdown",
   "id": "65a925be-e140-484b-b2a6-4c8786b37583",
   "metadata": {},
   "source": [
    "풀이시작"
   ]
  },
  {
   "cell_type": "code",
   "execution_count": 2,
   "id": "cecea0cf-3eea-4bb9-a000-88b4055978a6",
   "metadata": {},
   "outputs": [
    {
     "data": {
      "text/plain": [
       "#1 (generic function with 1 method)"
      ]
     },
     "execution_count": 2,
     "metadata": {},
     "output_type": "execute_result"
    }
   ],
   "source": [
    "T= x -> 0.5*exp(-0.5*x[1]) * 0.5*exp(-0.5*x[2])  / (exp(-x[1])*exp(-x[2]))"
   ]
  },
  {
   "cell_type": "markdown",
   "id": "ffc2f1ab-89af-4f21-ab0b-a38fc8a3acf7",
   "metadata": {},
   "source": [
    "***$\\alpha$를 구해보자. (시뮬)***"
   ]
  },
  {
   "cell_type": "code",
   "execution_count": 3,
   "id": "5aae6efb-eaa1-48d6-ab93-d87b64715738",
   "metadata": {},
   "outputs": [
    {
     "data": {
      "text/plain": [
       "2-element Vector{Float64}:\n",
       " 1.4932782791687658\n",
       " 3.904496314340747"
      ]
     },
     "execution_count": 3,
     "metadata": {},
     "output_type": "execute_result"
    }
   ],
   "source": [
    "θ=2 \n",
    "x = rand(Exponential(θ),2)"
   ]
  },
  {
   "cell_type": "code",
   "execution_count": 4,
   "id": "2a0b7463-98fd-45e7-bfcd-6b0febd20c49",
   "metadata": {},
   "outputs": [
    {
     "data": {
      "text/plain": [
       "3.715796051759978"
      ]
     },
     "execution_count": 4,
     "metadata": {},
     "output_type": "execute_result"
    }
   ],
   "source": [
    "T(x)"
   ]
  },
  {
   "cell_type": "code",
   "execution_count": 5,
   "id": "24e6c2f0-5a33-40d3-bd4d-7f7741a288fd",
   "metadata": {},
   "outputs": [
    {
     "data": {
      "text/plain": [
       "0.1535007142857143"
      ]
     },
     "execution_count": 5,
     "metadata": {},
     "output_type": "execute_result"
    }
   ],
   "source": [
    "Ts = [rand(Exponential(θ),2) |> T for i in 1:1400000]\n",
    "mean(Ts .< 1/2)"
   ]
  },
  {
   "cell_type": "markdown",
   "id": "15e51148-64af-4c61-a208-fb64d6af6076",
   "metadata": {},
   "source": [
    "***$\\beta$를 구해보자. (시뮬)***"
   ]
  },
  {
   "cell_type": "code",
   "execution_count": 6,
   "id": "cb901206-3d06-4ebb-aca3-4323d7fd80a3",
   "metadata": {},
   "outputs": [
    {
     "data": {
      "text/plain": [
       "2-element Vector{Float64}:\n",
       " 1.0915718974295616\n",
       " 3.322182470278192"
      ]
     },
     "execution_count": 6,
     "metadata": {},
     "output_type": "execute_result"
    }
   ],
   "source": [
    "θ=1\n",
    "x = rand(Exponential(θ),2)"
   ]
  },
  {
   "cell_type": "code",
   "execution_count": 7,
   "id": "b2e58bc3-898e-451e-abd5-f16ecd2fe561",
   "metadata": {},
   "outputs": [
    {
     "data": {
      "text/plain": [
       "0.5967985714285714"
      ]
     },
     "execution_count": 7,
     "metadata": {},
     "output_type": "execute_result"
    }
   ],
   "source": [
    "Ts = [rand(Exponential(θ),2) |> T for i in 1:1400000]\n",
    "mean(Ts .> 1/2)"
   ]
  },
  {
   "cell_type": "markdown",
   "id": "6300df7f-7f7e-4c7b-814b-d0f0e056fcf3",
   "metadata": {},
   "source": [
    "***$\\alpha$를 구해보자. (이론)***"
   ]
  },
  {
   "cell_type": "markdown",
   "id": "88756d9b-748c-49ad-99a2-0917e773afda",
   "metadata": {},
   "source": [
    "$T(X_1,X_2) = \\frac{0.25\\exp(-0.5X_1 -0.5X_2)}{\\exp(-X_1-X_2)}=0.25\\exp(0.5X_1+0.5X_2)$"
   ]
  },
  {
   "cell_type": "markdown",
   "id": "2fad5b43-1be0-4f69-a204-e3c63131f88d",
   "metadata": {},
   "source": [
    "$T(X_1,X_2)<\\frac{1}{2} \\Leftrightarrow \\exp(0.5X_1+0.5X_2) < 2 \\Leftrightarrow X_1+X_2<  2\\ln2 $ "
   ]
  },
  {
   "cell_type": "markdown",
   "id": "92d3bc2a-9ae8-45bf-98dd-0c41716e2c11",
   "metadata": {},
   "source": [
    "그런데 $X_1+X_2 \\sim \\chi^2(4)$ under $H_0$ "
   ]
  },
  {
   "cell_type": "markdown",
   "id": "b6bc6136-e8d7-4ccd-866d-f1c89ad843b1",
   "metadata": {},
   "source": [
    "$P(X_1+X_2 < 2\\ln2) = \\int_0^{2\\ln2} \\frac{1}{4\\Gamma(2)}x e^{-x/2}dx=\\int_0^{\\ln2} t e^{-t}dt=\\big[t(-e^{-t})-e^{-t}\\big]_0^{\\ln2}$"
   ]
  },
  {
   "cell_type": "code",
   "execution_count": 8,
   "id": "50082583-d375-45e7-9265-03861b2497a9",
   "metadata": {},
   "outputs": [
    {
     "data": {
      "text/plain": [
       "-1.0"
      ]
     },
     "execution_count": 8,
     "metadata": {},
     "output_type": "execute_result"
    }
   ],
   "source": [
    "t = log(2) \n",
    "u = t*(-exp(-t)) - exp(-t)\n",
    "t = 0\n",
    "l = t*(-exp(-t)) - exp(-t)"
   ]
  },
  {
   "cell_type": "code",
   "execution_count": 9,
   "id": "ec29e33f-ae25-498a-9ed6-b44fad256808",
   "metadata": {},
   "outputs": [
    {
     "data": {
      "text/plain": [
       "0.1534264097200273"
      ]
     },
     "execution_count": 9,
     "metadata": {},
     "output_type": "execute_result"
    }
   ],
   "source": [
    "u-l"
   ]
  },
  {
   "cell_type": "markdown",
   "id": "de7f4e01-2e6e-4cc3-93af-65ab32b73a6d",
   "metadata": {},
   "source": [
    "***$\\beta$를 구해보자. (이론)***"
   ]
  },
  {
   "cell_type": "markdown",
   "id": "a7b19893-cc77-401f-8f11-8249a29ba3e3",
   "metadata": {},
   "source": [
    "$T(X_1,X_2)>\\frac{1}{2} \\Leftrightarrow \\exp(0.5X_1+0.5X_2) > 2 \\Leftrightarrow 2(X_1+X_2)>  4\\ln2 $ "
   ]
  },
  {
   "cell_type": "markdown",
   "id": "3a8bf76e-5544-49af-84ec-bb5b0ca72bd3",
   "metadata": {},
   "source": [
    "그런데 $2(X_1+X_2) \\sim \\chi^2(4)$ under $H_1$ "
   ]
  },
  {
   "cell_type": "markdown",
   "id": "d8096e03-2621-4bbf-98fb-984fa8ffa41e",
   "metadata": {},
   "source": [
    "$P(2(X_1+X_2) > 4\\ln2) = \\int_{4\\ln2}^{\\infty}\\frac{1}{4\\Gamma(2)}x e^{-x/2}dx=\\int_{2\\ln2}^{\\infty} t e^{-t}dt=\\big[t(-e^{-t})-e^{-t}\\big]_{2\\ln2}^{\\infty}$"
   ]
  },
  {
   "cell_type": "code",
   "execution_count": 10,
   "id": "e4dc4347-8921-4659-b1ee-4daa8da7a43b",
   "metadata": {},
   "outputs": [
    {
     "data": {
      "text/plain": [
       "0.5965735902799727"
      ]
     },
     "execution_count": 10,
     "metadata": {},
     "output_type": "execute_result"
    }
   ],
   "source": [
    "u = 0\n",
    "t = 2*log(2)\n",
    "l = t*(-exp(-t)) - exp(-t)\n",
    "u-l"
   ]
  }
 ],
 "metadata": {
  "kernelspec": {
   "display_name": "Julia 1.9.2",
   "language": "julia",
   "name": "julia-1.9"
  },
  "language_info": {
   "file_extension": ".jl",
   "mimetype": "application/julia",
   "name": "julia",
   "version": "1.9.2"
  }
 },
 "nbformat": 4,
 "nbformat_minor": 5
}
