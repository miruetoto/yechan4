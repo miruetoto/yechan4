{
 "cells": [
  {
   "cell_type": "raw",
   "metadata": {
    "vscode": {
     "languageId": "raw"
    }
   },
   "source": [
    "---\n",
    "title: \"(강의) 선인장이미지분류 -- ROC\"\n",
    "author: \"최규빈\"\n",
    "date: \"11/07/2024\"\n",
    "draft: false\n",
    "---"
   ]
  },
  {
   "cell_type": "markdown",
   "metadata": {},
   "source": [
    "# 1. 강의영상 "
   ]
  },
  {
   "cell_type": "markdown",
   "metadata": {},
   "source": [
    "# 2. imports "
   ]
  },
  {
   "cell_type": "code",
   "execution_count": null,
   "metadata": {},
   "outputs": [],
   "source": [
    "import numpy as np\n",
    "import pandas as pd \n",
    "import zipfile\n",
    "import os\n",
    "import PIL.Image\n",
    "import matplotlib.pyplot as plt\n",
    "#---#\n",
    "import datasets\n",
    "import transformers\n",
    "import torchvision.transforms\n",
    "import evaluate\n",
    "import torch"
   ]
  },
  {
   "cell_type": "markdown",
   "metadata": {},
   "source": [
    "# 3. Kaggle"
   ]
  },
  {
   "cell_type": "markdown",
   "metadata": {},
   "source": [
    "## A. ref"
   ]
  },
  {
   "cell_type": "markdown",
   "metadata": {},
   "source": [
    "ref: <https://www.kaggle.com/c/aerial-cactus-identification>"
   ]
  },
  {
   "cell_type": "markdown",
   "metadata": {},
   "source": [
    "## B. 데이터 살펴보기 "
   ]
  },
  {
   "cell_type": "markdown",
   "metadata": {},
   "source": [
    "***1. 압축풀기***"
   ]
  },
  {
   "cell_type": "code",
   "execution_count": 6,
   "metadata": {},
   "outputs": [],
   "source": [
    "with zipfile.ZipFile('aerial-cactus-identification.zip', 'r') as z:\n",
    "    z.extractall('./data')"
   ]
  },
  {
   "cell_type": "code",
   "execution_count": 7,
   "metadata": {},
   "outputs": [],
   "source": [
    "with zipfile.ZipFile('./data/test.zip', 'r') as z_test:\n",
    "    z_test.extractall('./data')    \n",
    "with zipfile.ZipFile('./data/train.zip', 'r') as z_train:\n",
    "    z_train.extractall('./data')"
   ]
  },
  {
   "cell_type": "code",
   "execution_count": 8,
   "metadata": {},
   "outputs": [],
   "source": [
    "# !cat ./data/train.csv | head -n 5"
   ]
  },
  {
   "cell_type": "markdown",
   "metadata": {},
   "source": [
    "- 마지막은 오류는 무시해도 상관없음.. "
   ]
  },
  {
   "cell_type": "code",
   "execution_count": 9,
   "metadata": {},
   "outputs": [],
   "source": [
    "# !cat ./data/sample_submission.csv | head -n 5"
   ]
  },
  {
   "cell_type": "markdown",
   "metadata": {},
   "source": [
    "- 예측값이 아니고 확률을 제출하는듯"
   ]
  },
  {
   "cell_type": "markdown",
   "metadata": {},
   "source": [
    "# 4. Logits의 이해"
   ]
  },
  {
   "cell_type": "markdown",
   "metadata": {},
   "source": [
    "`-` 로짓의 이해: 클래스가 2개인 자료에 대한 분류문제를 푼다고 하자. 3개의 observation/examples 에 대한 로짓값이 아래와 같다고 하자. "
   ]
  },
  {
   "cell_type": "code",
   "execution_count": 129,
   "metadata": {},
   "outputs": [
    {
     "data": {
      "text/plain": [
       "array([[ 2.7346244, -3.1177292],\n",
       "       [ 2.7103324, -3.1362345],\n",
       "       [ 2.7464483, -3.0521457],\n",
       "       [ 2.7195318, -3.122628 ],\n",
       "       [ 2.7138977, -3.1041346],\n",
       "       [ 2.7398622, -3.1098123],\n",
       "       [ 0.0657177, -0.0930362],\n",
       "       [-2.7668718,  3.0918367]])"
      ]
     },
     "execution_count": 129,
     "metadata": {},
     "output_type": "execute_result"
    }
   ],
   "source": [
    "logits = np.array(\n",
    "    [[ 2.7346244, -3.1177292],\n",
    "     [ 2.7103324, -3.1362345],\n",
    "     [ 2.7464483, -3.0521457],\n",
    "     [ 2.7195318, -3.122628 ],\n",
    "     [ 2.7138977, -3.1041346],\n",
    "     [ 2.7398622, -3.1098123],\n",
    "     [ 0.0657177, -0.0930362],\n",
    "     [-2.7668718,  3.0918367]]\n",
    ")\n",
    "logits"
   ]
  },
  {
   "cell_type": "markdown",
   "metadata": {},
   "source": [
    "로짓값은 일반적으로 $(n,k)$의 차원을 가지며 여기에서 $n$은 observation의 숫자, $k$는 클래스의 숫자를 의미한다. 이 예제의 경우는 $n=8$, $k=2$인 경우이다. "
   ]
  },
  {
   "cell_type": "markdown",
   "metadata": {},
   "source": [
    "여기에서 각 observation에 대한 로짓값이 의미하는 바를 살펴보면 아래와 같다. \n",
    "\n",
    "(1) 첫 번째 관측값 (`[2.7346244, -3.1177292]`):\n",
    "\n",
    "- 첫 번째 클래스에 대한 확신 정도: `2.7346244`\n",
    "- 두 번째 클래스에 대한 확신 정도: `-3.1177292`\n",
    "\n",
    "(2) 두 번째 관측값 (`[2.7103324,  -3.1362345]`):\n",
    "\n",
    "- 첫 번째 클래스에 대한 확신 정도: `2.7103324`\n",
    "- 두 번째 클래스에 대한 확신 정도: `-3.1362345`\n",
    "\n",
    "...\n",
    "\n",
    "\n",
    "(8) 마지막 관측값 ([`-2.7668718`, `3.0918367`]):\n",
    "\n",
    "- 첫 번째 클래스에 대한 확신 정도: `-2.7668718`\n",
    "- 두 번째 클래스에 대한 확신 정도: `3.0918367`\n"
   ]
  },
  {
   "cell_type": "markdown",
   "metadata": {},
   "source": [
    "`-` 로짓 $\\to$ 예측클래스 // `argmax`"
   ]
  },
  {
   "cell_type": "markdown",
   "metadata": {},
   "source": [
    "(1) 첫 번째 관측값: $2.7346244 > -3.1177292$ $\\Rightarrow$ 첫 번째 클래스로 예측\n",
    "\n",
    "(2) 두 번째 관측값: $2.7103324 > -3.1362345$ $\\Rightarrow$ 첫 번째 클래스로 예측\n",
    "\n",
    "...\n",
    "\n",
    "(8) 마지막 관측값: $-2.7668718 < 3.0918367$ $\\Rightarrow$ 두 번째 클래스로 예측"
   ]
  },
  {
   "cell_type": "code",
   "execution_count": 332,
   "metadata": {},
   "outputs": [
    {
     "data": {
      "text/plain": [
       "array([[ 2.7346244, -3.1177292],\n",
       "       [ 2.7103324, -3.1362345],\n",
       "       [ 2.7464483, -3.0521457],\n",
       "       [ 2.7195318, -3.122628 ],\n",
       "       [ 2.7138977, -3.1041346],\n",
       "       [ 2.7398622, -3.1098123],\n",
       "       [ 0.0657177, -0.0930362],\n",
       "       [-2.7668718,  3.0918367]])"
      ]
     },
     "execution_count": 332,
     "metadata": {},
     "output_type": "execute_result"
    }
   ],
   "source": [
    "logits"
   ]
  },
  {
   "cell_type": "code",
   "execution_count": 336,
   "metadata": {},
   "outputs": [
    {
     "name": "stdout",
     "output_type": "stream",
     "text": [
      "0\n",
      "0\n",
      "0\n",
      "0\n",
      "0\n",
      "0\n",
      "0\n",
      "1\n"
     ]
    }
   ],
   "source": [
    "for u in logits:\n",
    "    u1,u2 = u \n",
    "    if u1>u2:\n",
    "        prediction = 0\n",
    "    else: \n",
    "        prediction = 1\n",
    "    print(prediction)"
   ]
  },
  {
   "cell_type": "markdown",
   "metadata": {},
   "source": [
    "이것은 아래를 이용하여 구할수도 있다. "
   ]
  },
  {
   "cell_type": "code",
   "execution_count": 338,
   "metadata": {},
   "outputs": [
    {
     "data": {
      "text/plain": [
       "array([0, 0, 0, 0, 0, 0, 0, 1])"
      ]
     },
     "execution_count": 338,
     "metadata": {},
     "output_type": "execute_result"
    }
   ],
   "source": [
    "logits.argmax(axis=1)"
   ]
  },
  {
   "cell_type": "markdown",
   "metadata": {},
   "source": [
    "`-` 로짓 $\\to$ 확률 // `softmax`"
   ]
  },
  {
   "cell_type": "markdown",
   "metadata": {},
   "source": [
    "${\\boldsymbol u}=\\begin{bmatrix} u_1 & \\dots & u_k\\end{bmatrix}$를 고정된 observation에 대한 logits값 이라고 하자. 이때 각 클래스에 속할 확률값은 아래와 같이 구한다. \n",
    "\n",
    "$$\\text{prob} =\\left[\\frac{\\exp(u_1)}{\\exp(u_1)+\\dots+\\exp(u_k)}, \\cdots,  \\frac{\\exp(u_k)}{\\exp(u_1)+\\dots+\\exp(u_k)}\\right]$$"
   ]
  },
  {
   "cell_type": "code",
   "execution_count": 341,
   "metadata": {},
   "outputs": [
    {
     "name": "stdout",
     "output_type": "stream",
     "text": [
      "[0.9971351022231982, 0.0028648977768018545]\n",
      "[0.9971185237682113, 0.0028814762317887605]\n",
      "[0.9969773496339113, 0.0030226503660887583]\n",
      "[0.9971058336243687, 0.0028941663756314024]\n",
      "[0.997035364944602, 0.0029646350553980375]\n",
      "[0.9971274386623321, 0.002872561337667959]\n",
      "[0.5396053294830294, 0.4603946705169706]\n",
      "[0.0028468010295870897, 0.997153198970413]\n"
     ]
    }
   ],
   "source": [
    "for u in logits:\n",
    "    u1,u2 = u\n",
    "    prob1 = np.exp(u1) / (np.exp(u1)+np.exp(u2))\n",
    "    prob2 = np.exp(u2) / (np.exp(u1)+np.exp(u2))\n",
    "    prediction_scores = [prob1, prob2]\n",
    "    print(prediction_scores)"
   ]
  },
  {
   "cell_type": "markdown",
   "metadata": {},
   "source": [
    "이 확률은 아래를 통하여 구할수도 있다."
   ]
  },
  {
   "cell_type": "code",
   "execution_count": 342,
   "metadata": {},
   "outputs": [
    {
     "data": {
      "text/plain": [
       "tensor([[0.9971, 0.0029],\n",
       "        [0.9971, 0.0029],\n",
       "        [0.9970, 0.0030],\n",
       "        [0.9971, 0.0029],\n",
       "        [0.9970, 0.0030],\n",
       "        [0.9971, 0.0029],\n",
       "        [0.5396, 0.4604],\n",
       "        [0.0028, 0.9972]], dtype=torch.float64)"
      ]
     },
     "execution_count": 342,
     "metadata": {},
     "output_type": "execute_result"
    }
   ],
   "source": [
    "torch.tensor(logits).softmax(dim=1)"
   ]
  },
  {
   "cell_type": "markdown",
   "metadata": {},
   "source": [
    "# 5. 평가지표"
   ]
  },
  {
   "cell_type": "markdown",
   "metadata": {},
   "source": [
    "## A. accuracy 계산"
   ]
  },
  {
   "cell_type": "markdown",
   "metadata": {},
   "source": [
    "`-` accuracy의 계산: `logits`와 `labels`가 아래와 같이 주어졌다고 하자. "
   ]
  },
  {
   "cell_type": "code",
   "execution_count": 343,
   "metadata": {},
   "outputs": [],
   "source": [
    "logits = np.array(\n",
    "    [[ 2.7346244, -3.1177292],\n",
    "     [ 2.7103324, -3.1362345],\n",
    "     [ 2.7464483, -3.0521457],\n",
    "     [ 2.7195318, -3.122628 ],\n",
    "     [ 2.7138977, -3.1041346],\n",
    "     [ 2.7398622, -3.1098123],\n",
    "     [ 0.0657177, -0.0930362],\n",
    "     [-2.7668718,  3.0918367]]\n",
    ")\n",
    "references = labels = np.array([0,0,0,0,0,0,1,1])"
   ]
  },
  {
   "cell_type": "code",
   "execution_count": 327,
   "metadata": {},
   "outputs": [
    {
     "data": {
      "text/plain": [
       "array([0, 0, 0, 0, 0, 0, 0, 1])"
      ]
     },
     "execution_count": 327,
     "metadata": {},
     "output_type": "execute_result"
    }
   ],
   "source": [
    "predictions = logits.argmax(axis=1)\n",
    "predictions"
   ]
  },
  {
   "cell_type": "markdown",
   "metadata": {},
   "source": [
    "accuracy는 아래와 같이 계산할 수 있다. "
   ]
  },
  {
   "cell_type": "code",
   "execution_count": 328,
   "metadata": {},
   "outputs": [
    {
     "data": {
      "text/plain": [
       "0.875"
      ]
     },
     "execution_count": 328,
     "metadata": {},
     "output_type": "execute_result"
    }
   ],
   "source": [
    "(predictions == references).sum()/8"
   ]
  },
  {
   "cell_type": "code",
   "execution_count": 329,
   "metadata": {},
   "outputs": [
    {
     "data": {
      "text/plain": [
       "0.875"
      ]
     },
     "execution_count": 329,
     "metadata": {},
     "output_type": "execute_result"
    }
   ],
   "source": [
    "(predictions == references).mean()"
   ]
  },
  {
   "cell_type": "markdown",
   "metadata": {},
   "source": [
    "이걸 아래와 같이 계산할 수도 있다."
   ]
  },
  {
   "cell_type": "code",
   "execution_count": 330,
   "metadata": {},
   "outputs": [
    {
     "data": {
      "text/plain": [
       "{'accuracy': 0.875}"
      ]
     },
     "execution_count": 330,
     "metadata": {},
     "output_type": "execute_result"
    }
   ],
   "source": [
    "acc = evaluate.load(\"accuracy\")\n",
    "acc.compute(predictions=predictions, references=references)"
   ]
  },
  {
   "cell_type": "markdown",
   "metadata": {},
   "source": [
    "## B. recall 계산"
   ]
  },
  {
   "cell_type": "markdown",
   "metadata": {},
   "source": [
    "`-` 경우에 따라서 1을 얼마나 더 잘맞추는지 알고 싶은 경우도 있다.\n",
    "\n",
    "$$\\frac{\\text{실제 라벨이 1인 관측치 중 올바르게 예측된 관측치수}}{\\text{실제 라벨이 1인 관측치 수}}$$"
   ]
  },
  {
   "cell_type": "code",
   "execution_count": 313,
   "metadata": {},
   "outputs": [],
   "source": [
    "logits = np.array(\n",
    "    [[ 2.7346244, -3.1177292],\n",
    "     [ 2.7103324, -3.1362345],\n",
    "     [ 2.7464483, -3.0521457],\n",
    "     [ 2.7195318, -3.122628 ],\n",
    "     [ 2.7138977, -3.1041346],\n",
    "     [ 2.7398622, -3.1098123],\n",
    "     [ 0.0657177, -0.0930362],\n",
    "     [-2.7668718,  3.0918367]]\n",
    ")\n",
    "references = labels = np.array([0,0,0,0,0,0,1,1])"
   ]
  },
  {
   "cell_type": "code",
   "execution_count": 322,
   "metadata": {},
   "outputs": [
    {
     "data": {
      "text/plain": [
       "array([0, 0, 0, 0, 0, 0, 0, 1])"
      ]
     },
     "execution_count": 322,
     "metadata": {},
     "output_type": "execute_result"
    }
   ],
   "source": [
    "predictions = logits.argmax(axis=1)\n",
    "predictions"
   ]
  },
  {
   "cell_type": "code",
   "execution_count": 323,
   "metadata": {},
   "outputs": [
    {
     "data": {
      "text/plain": [
       "0.5"
      ]
     },
     "execution_count": 323,
     "metadata": {},
     "output_type": "execute_result"
    }
   ],
   "source": [
    "(predictions[labels==1] == 1).mean()"
   ]
  },
  {
   "cell_type": "markdown",
   "metadata": {},
   "source": [
    "이것을 아래와 같이 구할수도 있다. "
   ]
  },
  {
   "cell_type": "code",
   "execution_count": 325,
   "metadata": {},
   "outputs": [
    {
     "data": {
      "text/plain": [
       "{'recall': 0.5}"
      ]
     },
     "execution_count": 325,
     "metadata": {},
     "output_type": "execute_result"
    }
   ],
   "source": [
    "rec = evaluate.load(\"recall\")\n",
    "rec.compute(predictions=predictions, references=references)"
   ]
  },
  {
   "cell_type": "markdown",
   "metadata": {},
   "source": [
    "## C. auc 계산"
   ]
  },
  {
   "attachments": {},
   "cell_type": "markdown",
   "metadata": {},
   "source": [
    "`-` accuracy 이외의 평가지표들\n",
    "\n",
    "- <https://guebin.github.io/MP2023/posts/12wk-46.html> // 시험에는 X"
   ]
  },
  {
   "cell_type": "markdown",
   "metadata": {},
   "source": [
    "`-` AUC: 클래스간의 불균형이 있을때 유의미한 평가지표"
   ]
  },
  {
   "cell_type": "code",
   "execution_count": 316,
   "metadata": {},
   "outputs": [],
   "source": [
    "logits = np.array(\n",
    "    [[ 2.7346244, -3.1177292],\n",
    "     [ 2.7103324, -3.1362345],\n",
    "     [ 2.7464483, -3.0521457],\n",
    "     [ 2.7195318, -3.122628 ],\n",
    "     [ 2.7138977, -3.1041346],\n",
    "     [ 2.7398622, -3.1098123],\n",
    "     [ 0.0657177, -0.0930362],\n",
    "     [-2.7668718,  3.0918367]]\n",
    ")\n",
    "references = labels = np.array([0,0,0,0,0,0,1,1])"
   ]
  },
  {
   "cell_type": "code",
   "execution_count": 318,
   "metadata": {},
   "outputs": [
    {
     "data": {
      "text/plain": [
       "array([0.0028649 , 0.00288148, 0.00302265, 0.00289417, 0.00296464,\n",
       "       0.00287256, 0.46039467, 0.9971532 ])"
      ]
     },
     "execution_count": 318,
     "metadata": {},
     "output_type": "execute_result"
    }
   ],
   "source": [
    "probabilities = torch.tensor(logits).softmax(dim=1).numpy()\n",
    "prediction_scores = probabilities[:,1]\n",
    "prediction_scores"
   ]
  },
  {
   "cell_type": "markdown",
   "metadata": {},
   "source": [
    "- 0.4 이상부터는 1로 판단한다면? $\\to$ 다 맞춘거아니야?"
   ]
  },
  {
   "cell_type": "code",
   "execution_count": 320,
   "metadata": {},
   "outputs": [
    {
     "data": {
      "text/plain": [
       "{'roc_auc': 1.0}"
      ]
     },
     "execution_count": 320,
     "metadata": {},
     "output_type": "execute_result"
    }
   ],
   "source": [
    "roc_auc = evaluate.load(\"roc_auc\")\n",
    "roc_auc.compute(references= references, prediction_scores= prediction_scores)"
   ]
  },
  {
   "cell_type": "markdown",
   "metadata": {},
   "source": [
    "`# 예제1` -- 시각화"
   ]
  },
  {
   "cell_type": "code",
   "execution_count": 299,
   "metadata": {},
   "outputs": [
    {
     "data": {
      "text/plain": [
       "Text(0.5, 1.0, 'ACC=0.875, REC=0.5, ROC_AUC=1.0')"
      ]
     },
     "execution_count": 299,
     "metadata": {},
     "output_type": "execute_result"
    },
    {
     "data": {
      "image/png": "[encoded data removed]",
      "text/plain": [
       "<Figure size 640x480 with 1 Axes>"
      ]
     },
     "metadata": {},
     "output_type": "display_data"
    }
   ],
   "source": [
    "logits = np.array(\n",
    "    [[ 2.7346244, -3.1177292],\n",
    "     [ 2.7103324, -3.1362345],\n",
    "     [ 2.7464483, -3.0521457],\n",
    "     [ 2.7195318, -3.122628 ],\n",
    "     [ 2.7138977, -3.1041346],\n",
    "     [ 2.7398622, -3.1098123],\n",
    "     [ 0.0657177, -0.0930362],\n",
    "     [-2.7668718,  3.0918367]]\n",
    ")\n",
    "labels = np.array([0,0,0,0,0,0,1,1])\n",
    "probabilities = torch.tensor(logits).softmax(dim=1).numpy()\n",
    "plt.plot(probabilities[:,1],'--o')\n",
    "plt.plot(labels,'x')\n",
    "plt.axhline(y=0.5, color='red', linestyle='--')\n",
    "roc_auc = evaluate.load(\"roc_auc\")\n",
    "acc = evaluate.load(\"accuracy\")\n",
    "rec = evaluate.load(\"recall\")\n",
    "results = {\n",
    "    'accuracy': acc.compute(predictions= logits.argmax(axis=1), references=labels)['accuracy'],\n",
    "    'recall': rec.compute(predictions= logits.argmax(axis=1), references=labels)['recall'],\n",
    "    'roc_auc': roc_auc.compute(references= labels, prediction_scores= probabilities[:,1])['roc_auc']\n",
    "}\n",
    "plt.title(f\"ACC={results['accuracy']}, REC={results['recall']}, ROC_AUC={results['roc_auc']}\")"
   ]
  },
  {
   "cell_type": "code",
   "execution_count": 301,
   "metadata": {},
   "outputs": [
    {
     "data": {
      "text/plain": [
       "Text(0.5, 1.0, 'ACC=0.875, REC=0.5, ROC_AUC=0.5833333333333333')"
      ]
     },
     "execution_count": 301,
     "metadata": {},
     "output_type": "execute_result"
    },
    {
     "data": {
      "image/png": "[encoded data removed]",
      "text/plain": [
       "<Figure size 640x480 with 1 Axes>"
      ]
     },
     "metadata": {},
     "output_type": "display_data"
    }
   ],
   "source": [
    "logits = np.array(\n",
    "    [[ 2.7346244, -3.1177292],\n",
    "     [ 2.7103324, -3.1362345],\n",
    "     [ 2.7464483, -3.0521457],\n",
    "     [ 2.7195318, -3.122628 ],\n",
    "     [ 2.7138977, -3.1041346],\n",
    "     [ 0.0657177, -0.0930362],     \n",
    "     [ 2.7398622, -3.1098123],\n",
    "     [-2.7668718,  3.0918367]]\n",
    ")\n",
    "labels = np.array([0,0,0,0,0,0,1,1])\n",
    "probabilities = torch.tensor(logits).softmax(dim=1).numpy()\n",
    "plt.plot(probabilities[:,1],'--o')\n",
    "plt.plot(labels,'x')\n",
    "plt.axhline(y=0.5, color='red', linestyle='--')\n",
    "roc_auc = evaluate.load(\"roc_auc\")\n",
    "acc = evaluate.load(\"accuracy\")\n",
    "rec = evaluate.load(\"recall\")\n",
    "results = {\n",
    "    'accuracy': acc.compute(predictions= logits.argmax(axis=1), references=labels)['accuracy'],\n",
    "    'recall': rec.compute(predictions= logits.argmax(axis=1), references=labels)['recall'],\n",
    "    'roc_auc': roc_auc.compute(references= labels, prediction_scores= probabilities[:,1])['roc_auc']\n",
    "}\n",
    "plt.title(f\"ACC={results['accuracy']}, REC={results['recall']}, ROC_AUC={results['roc_auc']}\")"
   ]
  },
  {
   "cell_type": "markdown",
   "metadata": {},
   "source": [
    "# 6. 분석"
   ]
  },
  {
   "cell_type": "markdown",
   "metadata": {},
   "source": [
    "`-` `train.csv`를 pandas로"
   ]
  },
  {
   "cell_type": "code",
   "execution_count": 10,
   "metadata": {},
   "outputs": [
    {
     "data": {
      "text/html": [
       "<div>\n",
       "<style scoped>\n",
       "    .dataframe tbody tr th:only-of-type {\n",
       "        vertical-align: middle;\n",
       "    }\n",
       "\n",
       "    .dataframe tbody tr th {\n",
       "        vertical-align: top;\n",
       "    }\n",
       "\n",
       "    .dataframe thead th {\n",
       "        text-align: right;\n",
       "    }\n",
       "</style>\n",
       "<table border=\"1\" class=\"dataframe\">\n",
       "  <thead>\n",
       "    <tr style=\"text-align: right;\">\n",
       "      <th></th>\n",
       "      <th>id</th>\n",
       "      <th>has_cactus</th>\n",
       "    </tr>\n",
       "  </thead>\n",
       "  <tbody>\n",
       "    <tr>\n",
       "      <th>0</th>\n",
       "      <td>0004be2cfeaba1c0361d39e2b000257b.jpg</td>\n",
       "      <td>1</td>\n",
       "    </tr>\n",
       "    <tr>\n",
       "      <th>1</th>\n",
       "      <td>000c8a36845c0208e833c79c1bffedd1.jpg</td>\n",
       "      <td>1</td>\n",
       "    </tr>\n",
       "    <tr>\n",
       "      <th>2</th>\n",
       "      <td>000d1e9a533f62e55c289303b072733d.jpg</td>\n",
       "      <td>1</td>\n",
       "    </tr>\n",
       "    <tr>\n",
       "      <th>3</th>\n",
       "      <td>0011485b40695e9138e92d0b3fb55128.jpg</td>\n",
       "      <td>1</td>\n",
       "    </tr>\n",
       "    <tr>\n",
       "      <th>4</th>\n",
       "      <td>0014d7a11e90b62848904c1418fc8cf2.jpg</td>\n",
       "      <td>1</td>\n",
       "    </tr>\n",
       "    <tr>\n",
       "      <th>...</th>\n",
       "      <td>...</td>\n",
       "      <td>...</td>\n",
       "    </tr>\n",
       "    <tr>\n",
       "      <th>17495</th>\n",
       "      <td>ffede47a74e47a5930f81c0b6896479e.jpg</td>\n",
       "      <td>0</td>\n",
       "    </tr>\n",
       "    <tr>\n",
       "      <th>17496</th>\n",
       "      <td>ffef6382a50d23251d4bc05519c91037.jpg</td>\n",
       "      <td>1</td>\n",
       "    </tr>\n",
       "    <tr>\n",
       "      <th>17497</th>\n",
       "      <td>fff059ecc91b30be5745e8b81111dc7b.jpg</td>\n",
       "      <td>1</td>\n",
       "    </tr>\n",
       "    <tr>\n",
       "      <th>17498</th>\n",
       "      <td>fff43acb3b7a23edcc4ae937be2b7522.jpg</td>\n",
       "      <td>0</td>\n",
       "    </tr>\n",
       "    <tr>\n",
       "      <th>17499</th>\n",
       "      <td>fffd9e9b990eba07c836745d8aef1a3a.jpg</td>\n",
       "      <td>1</td>\n",
       "    </tr>\n",
       "  </tbody>\n",
       "</table>\n",
       "<p>17500 rows × 2 columns</p>\n",
       "</div>"
      ],
      "text/plain": [
       "                                         id  has_cactus\n",
       "0      0004be2cfeaba1c0361d39e2b000257b.jpg           1\n",
       "1      000c8a36845c0208e833c79c1bffedd1.jpg           1\n",
       "2      000d1e9a533f62e55c289303b072733d.jpg           1\n",
       "3      0011485b40695e9138e92d0b3fb55128.jpg           1\n",
       "4      0014d7a11e90b62848904c1418fc8cf2.jpg           1\n",
       "...                                     ...         ...\n",
       "17495  ffede47a74e47a5930f81c0b6896479e.jpg           0\n",
       "17496  ffef6382a50d23251d4bc05519c91037.jpg           1\n",
       "17497  fff059ecc91b30be5745e8b81111dc7b.jpg           1\n",
       "17498  fff43acb3b7a23edcc4ae937be2b7522.jpg           0\n",
       "17499  fffd9e9b990eba07c836745d8aef1a3a.jpg           1\n",
       "\n",
       "[17500 rows x 2 columns]"
      ]
     },
     "execution_count": 10,
     "metadata": {},
     "output_type": "execute_result"
    }
   ],
   "source": [
    "train_csv = pd.read_csv(\"./data/train.csv\")\n",
    "train_csv"
   ]
  },
  {
   "cell_type": "code",
   "execution_count": 11,
   "metadata": {},
   "outputs": [
    {
     "data": {
      "text/html": [
       "<div>\n",
       "<style scoped>\n",
       "    .dataframe tbody tr th:only-of-type {\n",
       "        vertical-align: middle;\n",
       "    }\n",
       "\n",
       "    .dataframe tbody tr th {\n",
       "        vertical-align: top;\n",
       "    }\n",
       "\n",
       "    .dataframe thead th {\n",
       "        text-align: right;\n",
       "    }\n",
       "</style>\n",
       "<table border=\"1\" class=\"dataframe\">\n",
       "  <thead>\n",
       "    <tr style=\"text-align: right;\">\n",
       "      <th></th>\n",
       "      <th>id</th>\n",
       "      <th>has_cactus</th>\n",
       "    </tr>\n",
       "  </thead>\n",
       "  <tbody>\n",
       "    <tr>\n",
       "      <th>0</th>\n",
       "      <td>000940378805c44108d287872b2f04ce.jpg</td>\n",
       "      <td>0.5</td>\n",
       "    </tr>\n",
       "    <tr>\n",
       "      <th>1</th>\n",
       "      <td>0017242f54ececa4512b4d7937d1e21e.jpg</td>\n",
       "      <td>0.5</td>\n",
       "    </tr>\n",
       "    <tr>\n",
       "      <th>2</th>\n",
       "      <td>001ee6d8564003107853118ab87df407.jpg</td>\n",
       "      <td>0.5</td>\n",
       "    </tr>\n",
       "    <tr>\n",
       "      <th>3</th>\n",
       "      <td>002e175c3c1e060769475f52182583d0.jpg</td>\n",
       "      <td>0.5</td>\n",
       "    </tr>\n",
       "    <tr>\n",
       "      <th>4</th>\n",
       "      <td>0036e44a7e8f7218e9bc7bf8137e4943.jpg</td>\n",
       "      <td>0.5</td>\n",
       "    </tr>\n",
       "    <tr>\n",
       "      <th>...</th>\n",
       "      <td>...</td>\n",
       "      <td>...</td>\n",
       "    </tr>\n",
       "    <tr>\n",
       "      <th>3995</th>\n",
       "      <td>ffaafd0c9f2f0e73172848463bc2e523.jpg</td>\n",
       "      <td>0.5</td>\n",
       "    </tr>\n",
       "    <tr>\n",
       "      <th>3996</th>\n",
       "      <td>ffae37344310a1549162493237d25d3f.jpg</td>\n",
       "      <td>0.5</td>\n",
       "    </tr>\n",
       "    <tr>\n",
       "      <th>3997</th>\n",
       "      <td>ffbd469c56873d064326204aac546e0d.jpg</td>\n",
       "      <td>0.5</td>\n",
       "    </tr>\n",
       "    <tr>\n",
       "      <th>3998</th>\n",
       "      <td>ffcb76b7d47f29ece11c751e5f763f52.jpg</td>\n",
       "      <td>0.5</td>\n",
       "    </tr>\n",
       "    <tr>\n",
       "      <th>3999</th>\n",
       "      <td>fffed17d1a8e0433a934db518d7f532c.jpg</td>\n",
       "      <td>0.5</td>\n",
       "    </tr>\n",
       "  </tbody>\n",
       "</table>\n",
       "<p>4000 rows × 2 columns</p>\n",
       "</div>"
      ],
      "text/plain": [
       "                                        id  has_cactus\n",
       "0     000940378805c44108d287872b2f04ce.jpg         0.5\n",
       "1     0017242f54ececa4512b4d7937d1e21e.jpg         0.5\n",
       "2     001ee6d8564003107853118ab87df407.jpg         0.5\n",
       "3     002e175c3c1e060769475f52182583d0.jpg         0.5\n",
       "4     0036e44a7e8f7218e9bc7bf8137e4943.jpg         0.5\n",
       "...                                    ...         ...\n",
       "3995  ffaafd0c9f2f0e73172848463bc2e523.jpg         0.5\n",
       "3996  ffae37344310a1549162493237d25d3f.jpg         0.5\n",
       "3997  ffbd469c56873d064326204aac546e0d.jpg         0.5\n",
       "3998  ffcb76b7d47f29ece11c751e5f763f52.jpg         0.5\n",
       "3999  fffed17d1a8e0433a934db518d7f532c.jpg         0.5\n",
       "\n",
       "[4000 rows x 2 columns]"
      ]
     },
     "execution_count": 11,
     "metadata": {},
     "output_type": "execute_result"
    }
   ],
   "source": [
    "test_csv = pd.read_csv(\"./data/sample_submission.csv\")\n",
    "test_csv"
   ]
  },
  {
   "cell_type": "markdown",
   "metadata": {},
   "source": [
    "## A. 예쁜(?) 정석 코드"
   ]
  },
  {
   "cell_type": "markdown",
   "metadata": {},
   "source": [
    "*Step1: Data*"
   ]
  },
  {
   "cell_type": "code",
   "execution_count": 418,
   "metadata": {},
   "outputs": [],
   "source": [
    "ctx_train = datasets.Dataset.from_pandas(train_csv)\n",
    "ctx_test = datasets.Dataset.from_pandas(test_csv).remove_columns(['has_cactus'])"
   ]
  },
  {
   "cell_type": "code",
   "execution_count": 419,
   "metadata": {},
   "outputs": [
    {
     "name": "stderr",
     "output_type": "stream",
     "text": [
      "Map: 100%|██████████████████████| 17500/17500 [00:00<00:00, 65880.11 examples/s]\n",
      "Map: 100%|████████████████████████| 4000/4000 [00:00<00:00, 92217.97 examples/s]\n"
     ]
    }
   ],
   "source": [
    "ctx_train = ctx_train.map(lambda example: {'path': f'./data/train/{example['id']}'})\n",
    "ctx_test = ctx_test.map(lambda example: {'path': f'./data/test/{example['id']}'})"
   ]
  },
  {
   "cell_type": "code",
   "execution_count": 420,
   "metadata": {},
   "outputs": [
    {
     "data": {
      "text/plain": [
       "DatasetDict({\n",
       "    train: Dataset({\n",
       "        features: ['id', 'has_cactus', 'path'],\n",
       "        num_rows: 17500\n",
       "    })\n",
       "    test: Dataset({\n",
       "        features: ['id', 'path'],\n",
       "        num_rows: 4000\n",
       "    })\n",
       "})"
      ]
     },
     "execution_count": 420,
     "metadata": {},
     "output_type": "execute_result"
    }
   ],
   "source": [
    "ctx = datasets.DatasetDict({'train':ctx_train,'test':ctx_test})\n",
    "ctx"
   ]
  },
  {
   "cell_type": "code",
   "execution_count": 421,
   "metadata": {},
   "outputs": [
    {
     "data": {
      "text/plain": [
       "tensor([[[0.5333, 0.5333, 0.5333,  ..., 0.6157, 0.6157, 0.6157],\n",
       "         [0.5333, 0.5333, 0.5333,  ..., 0.6157, 0.6157, 0.6157],\n",
       "         [0.5333, 0.5333, 0.5333,  ..., 0.6157, 0.6157, 0.6157],\n",
       "         ...,\n",
       "         [0.7176, 0.7176, 0.7176,  ..., 0.5451, 0.5451, 0.5451],\n",
       "         [0.7176, 0.7176, 0.7176,  ..., 0.5451, 0.5451, 0.5451],\n",
       "         [0.7176, 0.7176, 0.7176,  ..., 0.5451, 0.5451, 0.5451]],\n",
       "\n",
       "        [[0.5412, 0.5412, 0.5412,  ..., 0.5255, 0.5255, 0.5255],\n",
       "         [0.5412, 0.5412, 0.5412,  ..., 0.5255, 0.5255, 0.5255],\n",
       "         [0.5412, 0.5412, 0.5412,  ..., 0.5255, 0.5255, 0.5255],\n",
       "         ...,\n",
       "         [0.6157, 0.6157, 0.6157,  ..., 0.4314, 0.4314, 0.4314],\n",
       "         [0.6157, 0.6157, 0.6157,  ..., 0.4314, 0.4314, 0.4314],\n",
       "         [0.6157, 0.6157, 0.6157,  ..., 0.4314, 0.4314, 0.4314]],\n",
       "\n",
       "        [[0.4902, 0.4902, 0.4902,  ..., 0.5490, 0.5490, 0.5490],\n",
       "         [0.4902, 0.4902, 0.4902,  ..., 0.5490, 0.5490, 0.5490],\n",
       "         [0.4902, 0.4902, 0.4902,  ..., 0.5490, 0.5490, 0.5490],\n",
       "         ...,\n",
       "         [0.6588, 0.6588, 0.6588,  ..., 0.5098, 0.5098, 0.5098],\n",
       "         [0.6588, 0.6588, 0.6588,  ..., 0.5098, 0.5098, 0.5098],\n",
       "         [0.6588, 0.6588, 0.6588,  ..., 0.5098, 0.5098, 0.5098]]])"
      ]
     },
     "execution_count": 421,
     "metadata": {},
     "output_type": "execute_result"
    }
   ],
   "source": [
    "compose('./data/train/0004be2cfeaba1c0361d39e2b000257b.jpg')"
   ]
  },
  {
   "cell_type": "code",
   "execution_count": 422,
   "metadata": {},
   "outputs": [],
   "source": [
    "compose = torchvision.transforms.Compose([\n",
    "    lambda path: PIL.Image.open(path),\n",
    "    torchvision.transforms.ToTensor(),\n",
    "    torchvision.transforms.Resize(224),\n",
    "])\n",
    "def w_trans(examples):\n",
    "    dct = dict()\n",
    "    try: \n",
    "        dct['labels'] = torch.tensor(examples['has_cactus']).long()\n",
    "    except: \n",
    "        pass \n",
    "    dct['pixel_values'] = torch.stack(list(map(compose,examples['path']))).float() # 명확하게\n",
    "    return dct "
   ]
  },
  {
   "cell_type": "code",
   "execution_count": 423,
   "metadata": {},
   "outputs": [
    {
     "data": {
      "text/plain": [
       "DatasetDict({\n",
       "    train: Dataset({\n",
       "        features: ['id', 'has_cactus', 'path'],\n",
       "        num_rows: 17500\n",
       "    })\n",
       "    test: Dataset({\n",
       "        features: ['id', 'path'],\n",
       "        num_rows: 4000\n",
       "    })\n",
       "})"
      ]
     },
     "execution_count": 423,
     "metadata": {},
     "output_type": "execute_result"
    }
   ],
   "source": [
    "ctx = ctx.with_transform(w_trans)\n",
    "ctx"
   ]
  },
  {
   "cell_type": "code",
   "execution_count": 424,
   "metadata": {},
   "outputs": [
    {
     "data": {
      "text/plain": [
       "{'labels': tensor([1, 1]),\n",
       " 'pixel_values': tensor([[[[0.5333, 0.5333, 0.5333,  ..., 0.6157, 0.6157, 0.6157],\n",
       "           [0.5333, 0.5333, 0.5333,  ..., 0.6157, 0.6157, 0.6157],\n",
       "           [0.5333, 0.5333, 0.5333,  ..., 0.6157, 0.6157, 0.6157],\n",
       "           ...,\n",
       "           [0.7176, 0.7176, 0.7176,  ..., 0.5451, 0.5451, 0.5451],\n",
       "           [0.7176, 0.7176, 0.7176,  ..., 0.5451, 0.5451, 0.5451],\n",
       "           [0.7176, 0.7176, 0.7176,  ..., 0.5451, 0.5451, 0.5451]],\n",
       " \n",
       "          [[0.5412, 0.5412, 0.5412,  ..., 0.5255, 0.5255, 0.5255],\n",
       "           [0.5412, 0.5412, 0.5412,  ..., 0.5255, 0.5255, 0.5255],\n",
       "           [0.5412, 0.5412, 0.5412,  ..., 0.5255, 0.5255, 0.5255],\n",
       "           ...,\n",
       "           [0.6157, 0.6157, 0.6157,  ..., 0.4314, 0.4314, 0.4314],\n",
       "           [0.6157, 0.6157, 0.6157,  ..., 0.4314, 0.4314, 0.4314],\n",
       "           [0.6157, 0.6157, 0.6157,  ..., 0.4314, 0.4314, 0.4314]],\n",
       " \n",
       "          [[0.4902, 0.4902, 0.4902,  ..., 0.5490, 0.5490, 0.5490],\n",
       "           [0.4902, 0.4902, 0.4902,  ..., 0.5490, 0.5490, 0.5490],\n",
       "           [0.4902, 0.4902, 0.4902,  ..., 0.5490, 0.5490, 0.5490],\n",
       "           ...,\n",
       "           [0.6588, 0.6588, 0.6588,  ..., 0.5098, 0.5098, 0.5098],\n",
       "           [0.6588, 0.6588, 0.6588,  ..., 0.5098, 0.5098, 0.5098],\n",
       "           [0.6588, 0.6588, 0.6588,  ..., 0.5098, 0.5098, 0.5098]]],\n",
       " \n",
       " \n",
       "         [[[0.4627, 0.4627, 0.4627,  ..., 0.4824, 0.4824, 0.4824],\n",
       "           [0.4627, 0.4627, 0.4627,  ..., 0.4824, 0.4824, 0.4824],\n",
       "           [0.4627, 0.4627, 0.4627,  ..., 0.4824, 0.4824, 0.4824],\n",
       "           ...,\n",
       "           [0.3647, 0.3647, 0.3647,  ..., 0.4941, 0.4941, 0.4941],\n",
       "           [0.3647, 0.3647, 0.3647,  ..., 0.4941, 0.4941, 0.4941],\n",
       "           [0.3647, 0.3647, 0.3647,  ..., 0.4941, 0.4941, 0.4941]],\n",
       " \n",
       "          [[0.4275, 0.4275, 0.4275,  ..., 0.3804, 0.3804, 0.3804],\n",
       "           [0.4275, 0.4275, 0.4275,  ..., 0.3804, 0.3804, 0.3804],\n",
       "           [0.4275, 0.4275, 0.4275,  ..., 0.3804, 0.3804, 0.3804],\n",
       "           ...,\n",
       "           [0.3059, 0.3059, 0.3059,  ..., 0.4314, 0.4314, 0.4314],\n",
       "           [0.3059, 0.3059, 0.3059,  ..., 0.4314, 0.4314, 0.4314],\n",
       "           [0.3059, 0.3059, 0.3059,  ..., 0.4314, 0.4314, 0.4314]],\n",
       " \n",
       "          [[0.4471, 0.4471, 0.4471,  ..., 0.4235, 0.4235, 0.4235],\n",
       "           [0.4471, 0.4471, 0.4471,  ..., 0.4235, 0.4235, 0.4235],\n",
       "           [0.4471, 0.4471, 0.4471,  ..., 0.4235, 0.4235, 0.4235],\n",
       "           ...,\n",
       "           [0.3255, 0.3255, 0.3255,  ..., 0.4745, 0.4745, 0.4745],\n",
       "           [0.3255, 0.3255, 0.3255,  ..., 0.4745, 0.4745, 0.4745],\n",
       "           [0.3255, 0.3255, 0.3255,  ..., 0.4745, 0.4745, 0.4745]]]])}"
      ]
     },
     "execution_count": 424,
     "metadata": {},
     "output_type": "execute_result"
    }
   ],
   "source": [
    "ctx['train'][:2]"
   ]
  },
  {
   "cell_type": "markdown",
   "metadata": {},
   "source": [
    "*Step2: Model*"
   ]
  },
  {
   "cell_type": "code",
   "execution_count": 425,
   "metadata": {},
   "outputs": [
    {
     "name": "stderr",
     "output_type": "stream",
     "text": [
      "Some weights of ViTForImageClassification were not initialized from the model checkpoint at google/vit-base-patch16-224-in21k and are newly initialized: ['classifier.bias', 'classifier.weight']\n",
      "You should probably TRAIN this model on a down-stream task to be able to use it for predictions and inference.\n"
     ]
    }
   ],
   "source": [
    "model = transformers.AutoModelForImageClassification.from_pretrained(\n",
    "    \"google/vit-base-patch16-224-in21k\",\n",
    "    num_labels=2,\n",
    ")"
   ]
  },
  {
   "cell_type": "markdown",
   "metadata": {},
   "source": [
    "*Step3: Train*"
   ]
  },
  {
   "cell_type": "code",
   "execution_count": 426,
   "metadata": {},
   "outputs": [
    {
     "data": {
      "text/plain": [
       "DefaultDataCollator(return_tensors='pt')"
      ]
     },
     "execution_count": 426,
     "metadata": {},
     "output_type": "execute_result"
    }
   ],
   "source": [
    "data_collator = transformers.DefaultDataCollator()\n",
    "data_collator"
   ]
  },
  {
   "cell_type": "code",
   "execution_count": 427,
   "metadata": {},
   "outputs": [],
   "source": [
    "# single_batch = [ctx['train'][0],ctx['train'][1]]\n",
    "# single_batch = [ctx['test'][0],ctx['test'][1]]\n",
    "# model(**data_collator(single_batch))"
   ]
  },
  {
   "cell_type": "code",
   "execution_count": 428,
   "metadata": {},
   "outputs": [
    {
     "data": {
      "text/plain": [
       "DatasetDict({\n",
       "    train: Dataset({\n",
       "        features: ['id', 'has_cactus', 'path'],\n",
       "        num_rows: 17500\n",
       "    })\n",
       "    test: Dataset({\n",
       "        features: ['id', 'path'],\n",
       "        num_rows: 4000\n",
       "    })\n",
       "})"
      ]
     },
     "execution_count": 428,
     "metadata": {},
     "output_type": "execute_result"
    }
   ],
   "source": [
    "ctx"
   ]
  },
  {
   "cell_type": "code",
   "execution_count": 429,
   "metadata": {},
   "outputs": [],
   "source": [
    "def compute_metrics(eval_pred):\n",
    "    logits, labels = eval_pred\n",
    "    predictions = np.argmax(logits, axis=1)\n",
    "    prediction_scores = torch.tensor(logits).softmax(dim=1).numpy()[:,1]\n",
    "    #---#\n",
    "    accuracy = evaluate.load(\"accuracy\")\n",
    "    recall = evaluate.load(\"recall\")\n",
    "    roc_auc = evaluate.load(\"roc_auc\")\n",
    "    dct1 = accuracy.compute(predictions=predictions, references=labels)\n",
    "    dct2 = recall.compute(predictions=predictions, references=labels)\n",
    "    dct3 = roc_auc.compute(prediction_scores=prediction_scores, references=labels)\n",
    "    return dct1|dct2|dct3\n",
    "args = transformers.TrainingArguments(\n",
    "    output_dir=\"./model/ctx\",\n",
    "    remove_unused_columns=False,\n",
    "    #---#\n",
    "    eval_strategy=\"epoch\",\n",
    "    save_strategy=\"epoch\",\n",
    "    learning_rate=5e-5,\n",
    "    per_device_train_batch_size=16,\n",
    "    gradient_accumulation_steps=4,\n",
    "    per_device_eval_batch_size=16,\n",
    "    num_train_epochs=1,\n",
    "    warmup_ratio=0.1,\n",
    "    logging_steps=10,\n",
    "    load_best_model_at_end=True,\n",
    "    #metric_for_best_model=\"accuracy\",\n",
    "    push_to_hub=False,\n",
    "    report_to=\"none\"\n",
    ")\n",
    "trainer = transformers.Trainer(\n",
    "    model=model,\n",
    "    args=args,\n",
    "    data_collator=data_collator,\n",
    "    train_dataset=ctx['train'].select(range(1000)),\n",
    "    eval_dataset=ctx['train'].select(range(1000,1500)),\n",
    "    compute_metrics=compute_metrics,\n",
    ")"
   ]
  },
  {
   "cell_type": "code",
   "execution_count": 430,
   "metadata": {},
   "outputs": [
    {
     "data": {
      "text/plain": [
       "DatasetDict({\n",
       "    train: Dataset({\n",
       "        features: ['id', 'has_cactus', 'path'],\n",
       "        num_rows: 17500\n",
       "    })\n",
       "    test: Dataset({\n",
       "        features: ['id', 'path'],\n",
       "        num_rows: 4000\n",
       "    })\n",
       "})"
      ]
     },
     "execution_count": 430,
     "metadata": {},
     "output_type": "execute_result"
    }
   ],
   "source": [
    "ctx"
   ]
  },
  {
   "cell_type": "code",
   "execution_count": 431,
   "metadata": {},
   "outputs": [
    {
     "data": {
      "text/html": [
       "\n",
       "    <div>\n",
       "      \n",
       "      <progress value='15' max='15' style='width:300px; height:20px; vertical-align: middle;'></progress>\n",
       "      [15/15 00:13, Epoch 0/1]\n",
       "    </div>\n",
       "    <table border=\"1\" class=\"dataframe\">\n",
       "  <thead>\n",
       " <tr style=\"text-align: left;\">\n",
       "      <th>Epoch</th>\n",
       "      <th>Training Loss</th>\n",
       "      <th>Validation Loss</th>\n",
       "      <th>Accuracy</th>\n",
       "      <th>Recall</th>\n",
       "      <th>Roc Auc</th>\n",
       "    </tr>\n",
       "  </thead>\n",
       "  <tbody>\n",
       "    <tr>\n",
       "      <td>0</td>\n",
       "      <td>0.486200</td>\n",
       "      <td>0.270196</td>\n",
       "      <td>0.956000</td>\n",
       "      <td>1.000000</td>\n",
       "      <td>0.998761</td>\n",
       "    </tr>\n",
       "  </tbody>\n",
       "</table><p>"
      ],
      "text/plain": [
       "<IPython.core.display.HTML object>"
      ]
     },
     "metadata": {},
     "output_type": "display_data"
    },
    {
     "data": {
      "text/plain": [
       "TrainOutput(global_step=15, training_loss=0.4222262461980184, metrics={'train_runtime': 14.1654, 'train_samples_per_second': 70.594, 'train_steps_per_second': 1.059, 'total_flos': 7.439231003000832e+16, 'train_loss': 0.4222262461980184, 'epoch': 0.9523809523809523})"
      ]
     },
     "execution_count": 431,
     "metadata": {},
     "output_type": "execute_result"
    }
   ],
   "source": [
    "trainer.train()"
   ]
  },
  {
   "cell_type": "markdown",
   "metadata": {},
   "source": [
    "*Step4: Prediction*"
   ]
  },
  {
   "cell_type": "code",
   "execution_count": 432,
   "metadata": {},
   "outputs": [
    {
     "data": {
      "text/html": [],
      "text/plain": [
       "<IPython.core.display.HTML object>"
      ]
     },
     "metadata": {},
     "output_type": "display_data"
    },
    {
     "data": {
      "text/plain": [
       "PredictionOutput(predictions=array([[-0.87309086,  0.76549405],\n",
       "       [-0.9422926 ,  1.0070752 ],\n",
       "       [-0.02508726, -0.12881294],\n",
       "       ...,\n",
       "       [-1.0198429 ,  1.0380617 ],\n",
       "       [-1.0059347 ,  0.9955274 ],\n",
       "       [-0.8788617 ,  0.75964546]], dtype=float32), label_ids=None, metrics={'test_runtime': 10.9475, 'test_samples_per_second': 365.379, 'test_steps_per_second': 22.836})"
      ]
     },
     "execution_count": 432,
     "metadata": {},
     "output_type": "execute_result"
    }
   ],
   "source": [
    "out = trainer.predict(ctx['test'])\n",
    "out "
   ]
  },
  {
   "cell_type": "code",
   "execution_count": 433,
   "metadata": {},
   "outputs": [
    {
     "data": {
      "text/plain": [
       "array([0.83734226, 0.8753777 , 0.4740918 , ..., 0.8867439 , 0.8809505 ,\n",
       "       0.83733165], dtype=float32)"
      ]
     },
     "execution_count": 433,
     "metadata": {},
     "output_type": "execute_result"
    }
   ],
   "source": [
    "logits = out.predictions\n",
    "prob = torch.tensor(logits).softmax(dim=1).numpy()[:,1]\n",
    "prob"
   ]
  },
  {
   "cell_type": "code",
   "execution_count": 434,
   "metadata": {},
   "outputs": [
    {
     "data": {
      "text/html": [
       "<div>\n",
       "<style scoped>\n",
       "    .dataframe tbody tr th:only-of-type {\n",
       "        vertical-align: middle;\n",
       "    }\n",
       "\n",
       "    .dataframe tbody tr th {\n",
       "        vertical-align: top;\n",
       "    }\n",
       "\n",
       "    .dataframe thead th {\n",
       "        text-align: right;\n",
       "    }\n",
       "</style>\n",
       "<table border=\"1\" class=\"dataframe\">\n",
       "  <thead>\n",
       "    <tr style=\"text-align: right;\">\n",
       "      <th></th>\n",
       "      <th>id</th>\n",
       "      <th>has_cactus</th>\n",
       "    </tr>\n",
       "  </thead>\n",
       "  <tbody>\n",
       "    <tr>\n",
       "      <th>0</th>\n",
       "      <td>000940378805c44108d287872b2f04ce.jpg</td>\n",
       "      <td>0.837342</td>\n",
       "    </tr>\n",
       "    <tr>\n",
       "      <th>1</th>\n",
       "      <td>0017242f54ececa4512b4d7937d1e21e.jpg</td>\n",
       "      <td>0.875378</td>\n",
       "    </tr>\n",
       "    <tr>\n",
       "      <th>2</th>\n",
       "      <td>001ee6d8564003107853118ab87df407.jpg</td>\n",
       "      <td>0.474092</td>\n",
       "    </tr>\n",
       "    <tr>\n",
       "      <th>3</th>\n",
       "      <td>002e175c3c1e060769475f52182583d0.jpg</td>\n",
       "      <td>0.429720</td>\n",
       "    </tr>\n",
       "    <tr>\n",
       "      <th>4</th>\n",
       "      <td>0036e44a7e8f7218e9bc7bf8137e4943.jpg</td>\n",
       "      <td>0.862989</td>\n",
       "    </tr>\n",
       "    <tr>\n",
       "      <th>...</th>\n",
       "      <td>...</td>\n",
       "      <td>...</td>\n",
       "    </tr>\n",
       "    <tr>\n",
       "      <th>3995</th>\n",
       "      <td>ffaafd0c9f2f0e73172848463bc2e523.jpg</td>\n",
       "      <td>0.866051</td>\n",
       "    </tr>\n",
       "    <tr>\n",
       "      <th>3996</th>\n",
       "      <td>ffae37344310a1549162493237d25d3f.jpg</td>\n",
       "      <td>0.902185</td>\n",
       "    </tr>\n",
       "    <tr>\n",
       "      <th>3997</th>\n",
       "      <td>ffbd469c56873d064326204aac546e0d.jpg</td>\n",
       "      <td>0.886744</td>\n",
       "    </tr>\n",
       "    <tr>\n",
       "      <th>3998</th>\n",
       "      <td>ffcb76b7d47f29ece11c751e5f763f52.jpg</td>\n",
       "      <td>0.880951</td>\n",
       "    </tr>\n",
       "    <tr>\n",
       "      <th>3999</th>\n",
       "      <td>fffed17d1a8e0433a934db518d7f532c.jpg</td>\n",
       "      <td>0.837332</td>\n",
       "    </tr>\n",
       "  </tbody>\n",
       "</table>\n",
       "<p>4000 rows × 2 columns</p>\n",
       "</div>"
      ],
      "text/plain": [
       "                                        id  has_cactus\n",
       "0     000940378805c44108d287872b2f04ce.jpg    0.837342\n",
       "1     0017242f54ececa4512b4d7937d1e21e.jpg    0.875378\n",
       "2     001ee6d8564003107853118ab87df407.jpg    0.474092\n",
       "3     002e175c3c1e060769475f52182583d0.jpg    0.429720\n",
       "4     0036e44a7e8f7218e9bc7bf8137e4943.jpg    0.862989\n",
       "...                                    ...         ...\n",
       "3995  ffaafd0c9f2f0e73172848463bc2e523.jpg    0.866051\n",
       "3996  ffae37344310a1549162493237d25d3f.jpg    0.902185\n",
       "3997  ffbd469c56873d064326204aac546e0d.jpg    0.886744\n",
       "3998  ffcb76b7d47f29ece11c751e5f763f52.jpg    0.880951\n",
       "3999  fffed17d1a8e0433a934db518d7f532c.jpg    0.837332\n",
       "\n",
       "[4000 rows x 2 columns]"
      ]
     },
     "execution_count": 434,
     "metadata": {},
     "output_type": "execute_result"
    }
   ],
   "source": [
    "test_csv['has_cactus'] = prob \n",
    "test_csv"
   ]
  },
  {
   "cell_type": "markdown",
   "metadata": {},
   "source": [
    "*Step1 ~ Step4*"
   ]
  },
  {
   "cell_type": "code",
   "execution_count": 436,
   "metadata": {},
   "outputs": [
    {
     "name": "stderr",
     "output_type": "stream",
     "text": [
      "Map: 100%|██████████████████████| 17500/17500 [00:00<00:00, 63956.34 examples/s]\n",
      "Map: 100%|████████████████████████| 4000/4000 [00:00<00:00, 91609.69 examples/s]\n",
      "Some weights of ViTForImageClassification were not initialized from the model checkpoint at google/vit-base-patch16-224-in21k and are newly initialized: ['classifier.bias', 'classifier.weight']\n",
      "You should probably TRAIN this model on a down-stream task to be able to use it for predictions and inference.\n"
     ]
    },
    {
     "data": {
      "text/html": [
       "\n",
       "    <div>\n",
       "      \n",
       "      <progress value='30' max='30' style='width:300px; height:20px; vertical-align: middle;'></progress>\n",
       "      [30/30 00:27, Epoch 1/2]\n",
       "    </div>\n",
       "    <table border=\"1\" class=\"dataframe\">\n",
       "  <thead>\n",
       " <tr style=\"text-align: left;\">\n",
       "      <th>Epoch</th>\n",
       "      <th>Training Loss</th>\n",
       "      <th>Validation Loss</th>\n",
       "      <th>Accuracy</th>\n",
       "      <th>Recall</th>\n",
       "      <th>Roc Auc</th>\n",
       "    </tr>\n",
       "  </thead>\n",
       "  <tbody>\n",
       "    <tr>\n",
       "      <td>0</td>\n",
       "      <td>0.500400</td>\n",
       "      <td>0.204903</td>\n",
       "      <td>0.970000</td>\n",
       "      <td>0.997312</td>\n",
       "      <td>0.999223</td>\n",
       "    </tr>\n",
       "    <tr>\n",
       "      <td>1</td>\n",
       "      <td>0.111500</td>\n",
       "      <td>0.110077</td>\n",
       "      <td>0.990000</td>\n",
       "      <td>0.994624</td>\n",
       "      <td>0.999748</td>\n",
       "    </tr>\n",
       "  </tbody>\n",
       "</table><p>"
      ],
      "text/plain": [
       "<IPython.core.display.HTML object>"
      ]
     },
     "metadata": {},
     "output_type": "display_data"
    },
    {
     "data": {
      "text/html": [],
      "text/plain": [
       "<IPython.core.display.HTML object>"
      ]
     },
     "metadata": {},
     "output_type": "display_data"
    }
   ],
   "source": [
    "train_csv = pd.read_csv(\"./data/train.csv\")\n",
    "test_csv = pd.read_csv(\"./data/sample_submission.csv\")\n",
    "#--#\n",
    "# Step1: Data\n",
    "ctx_train = datasets.Dataset.from_pandas(train_csv)\n",
    "ctx_test = datasets.Dataset.from_pandas(test_csv).remove_columns(['has_cactus'])\n",
    "ctx_train = ctx_train.map(lambda example: {'path': f'./data/train/{example['id']}'})\n",
    "ctx_test = ctx_test.map(lambda example: {'path': f'./data/test/{example['id']}'})\n",
    "ctx = datasets.DatasetDict({'train':ctx_train,'test':ctx_test})\n",
    "compose = torchvision.transforms.Compose([\n",
    "    lambda path: PIL.Image.open(path),\n",
    "    torchvision.transforms.ToTensor(),\n",
    "    torchvision.transforms.Resize(224),\n",
    "])\n",
    "def w_trans(examples):\n",
    "    dct = dict()\n",
    "    try: \n",
    "        dct['labels'] = torch.tensor(examples['has_cactus']).long()\n",
    "    except: \n",
    "        pass \n",
    "    dct['pixel_values'] = torch.stack(list(map(compose,examples['path']))).float() # 명확하게\n",
    "    return dct \n",
    "ctx = ctx.with_transform(w_trans)\n",
    "# Step2: Model \n",
    "model = transformers.AutoModelForImageClassification.from_pretrained(\n",
    "    \"google/vit-base-patch16-224-in21k\",\n",
    "    num_labels=2,\n",
    ")\n",
    "# Step3: Train \n",
    "data_collator = transformers.DefaultDataCollator()\n",
    "def compute_metrics(eval_pred):\n",
    "    logits, labels = eval_pred\n",
    "    predictions = np.argmax(logits, axis=1)\n",
    "    prediction_scores = torch.tensor(logits).softmax(dim=1).numpy()[:,1]\n",
    "    #---#\n",
    "    accuracy = evaluate.load(\"accuracy\")\n",
    "    recall = evaluate.load(\"recall\")\n",
    "    roc_auc = evaluate.load(\"roc_auc\")\n",
    "    dct1 = accuracy.compute(predictions=predictions, references=labels)\n",
    "    dct2 = recall.compute(predictions=predictions, references=labels)\n",
    "    dct3 = roc_auc.compute(prediction_scores=prediction_scores, references=labels)\n",
    "    return dct1|dct2|dct3\n",
    "trainer = transformers.Trainer(\n",
    "    model=model,\n",
    "    args=transformers.TrainingArguments(\n",
    "        output_dir=\"./model/ctx\",\n",
    "        remove_unused_columns=False,\n",
    "        #---#\n",
    "        eval_strategy=\"epoch\",\n",
    "        save_strategy=\"epoch\",\n",
    "        learning_rate=5e-5,\n",
    "        per_device_train_batch_size=16,\n",
    "        gradient_accumulation_steps=4,\n",
    "        per_device_eval_batch_size=16,\n",
    "        num_train_epochs=2,\n",
    "        warmup_ratio=0.1,\n",
    "        logging_steps=10,\n",
    "        load_best_model_at_end=True,\n",
    "        #metric_for_best_model=\"accuracy\",\n",
    "        push_to_hub=False,\n",
    "        report_to=\"none\"),\n",
    "    data_collator=data_collator,\n",
    "    train_dataset=ctx['train'].select(range(1000)),\n",
    "    eval_dataset=ctx['train'].select(range(1000,1500)),\n",
    "    compute_metrics=compute_metrics,\n",
    ")\n",
    "trainer.train()\n",
    "# Step4: Prediction\n",
    "out = trainer.predict(ctx['test'])\n",
    "def update(out,test_csv):\n",
    "    logits = out.predictions\n",
    "    prob = torch.tensor(logits).softmax(dim=1).numpy()[:,1]\n",
    "    test_csv['has_cactus'] = prob\n",
    "    return test_csv\n",
    "test_csv = update(out,test_csv)"
   ]
  },
  {
   "cell_type": "markdown",
   "metadata": {},
   "source": [
    "## B. \b자유로운 코드"
   ]
  },
  {
   "cell_type": "markdown",
   "metadata": {},
   "source": [
    "*Step1: Datasets*"
   ]
  },
  {
   "cell_type": "code",
   "execution_count": 408,
   "metadata": {},
   "outputs": [
    {
     "data": {
      "text/plain": [
       "DatasetDict({\n",
       "    train: Dataset({\n",
       "        features: ['id', 'has_cactus', 'path'],\n",
       "        num_rows: 17500\n",
       "    })\n",
       "    test: Dataset({\n",
       "        features: ['id', 'path'],\n",
       "        num_rows: 4000\n",
       "    })\n",
       "})"
      ]
     },
     "execution_count": 408,
     "metadata": {},
     "output_type": "execute_result"
    }
   ],
   "source": [
    "train_csv = pd.read_csv(\"./data/train.csv\")\n",
    "test_csv = pd.read_csv(\"./data/sample_submission.csv\")\n",
    "ctx_train = datasets.Dataset.from_pandas(train_csv.assign(path = train_csv.id.map(lambda x: f'./data/train/{x}')))\n",
    "ctx_test = datasets.Dataset.from_pandas(test_csv.assign(path = test_csv.id.map(lambda x: f'./data/test/{x}'))).remove_columns(['has_cactus'])\n",
    "ctx = datasets.DatasetDict({'train':ctx_train, 'test':ctx_test})\n",
    "ctx"
   ]
  },
  {
   "cell_type": "markdown",
   "metadata": {},
   "source": [
    "*Step2~3 과정의 간보기*"
   ]
  },
  {
   "cell_type": "code",
   "execution_count": 416,
   "metadata": {},
   "outputs": [
    {
     "name": "stderr",
     "output_type": "stream",
     "text": [
      "Some weights of ViTForImageClassification were not initialized from the model checkpoint at google/vit-base-patch16-224-in21k and are newly initialized: ['classifier.bias', 'classifier.weight']\n",
      "You should probably TRAIN this model on a down-stream task to be able to use it for predictions and inference.\n"
     ]
    },
    {
     "data": {
      "text/plain": [
       "ImageClassifierOutput(loss=tensor(0.6570, grad_fn=<NllLossBackward0>), logits=tensor([[ 0.0427,  0.2046],\n",
       "        [-0.0234, -0.0343]], grad_fn=<AddmmBackward0>), hidden_states=None, attentions=None)"
      ]
     },
     "execution_count": 416,
     "metadata": {},
     "output_type": "execute_result"
    }
   ],
   "source": [
    "## 간보기코드\n",
    "single_batch = [ctx['train'][0],ctx['train'][1]]\n",
    "single_batch\n",
    "compose = torchvision.transforms.Compose([\n",
    "    lambda path: PIL.Image.open(path),\n",
    "    torchvision.transforms.ToTensor(),\n",
    "    torchvision.transforms.Resize(224),\n",
    "])\n",
    "def collate_fn(single_batch):\n",
    "    dct = dict()\n",
    "    dct['pixel_values'] = torch.stack(list(map(compose,[o['path'] for o in single_batch]))).float()\n",
    "    try: \n",
    "        dct['labels'] = torch.tensor([o.get('has_cactus') for o in single_batch]).long() # 이거안하면 에러남\n",
    "    except: \n",
    "        pass \n",
    "    return dct \n",
    "model = transformers.AutoModelForImageClassification.from_pretrained(\n",
    "    \"google/vit-base-patch16-224-in21k\",\n",
    "    num_labels=2,\n",
    ")\n",
    "model(**collate_fn(single_batch))"
   ]
  },
  {
   "cell_type": "markdown",
   "metadata": {},
   "source": [
    "*Step1~4*"
   ]
  },
  {
   "cell_type": "code",
   "execution_count": 438,
   "metadata": {},
   "outputs": [
    {
     "name": "stderr",
     "output_type": "stream",
     "text": [
      "Some weights of ViTForImageClassification were not initialized from the model checkpoint at google/vit-base-patch16-224-in21k and are newly initialized: ['classifier.bias', 'classifier.weight']\n",
      "You should probably TRAIN this model on a down-stream task to be able to use it for predictions and inference.\n"
     ]
    },
    {
     "data": {
      "text/html": [
       "\n",
       "    <div>\n",
       "      \n",
       "      <progress value='15' max='15' style='width:300px; height:20px; vertical-align: middle;'></progress>\n",
       "      [15/15 00:14, Epoch 0/1]\n",
       "    </div>\n",
       "    <table border=\"1\" class=\"dataframe\">\n",
       "  <thead>\n",
       " <tr style=\"text-align: left;\">\n",
       "      <th>Epoch</th>\n",
       "      <th>Training Loss</th>\n",
       "      <th>Validation Loss</th>\n",
       "      <th>Accuracy</th>\n",
       "      <th>Recall</th>\n",
       "      <th>Roc Auc</th>\n",
       "    </tr>\n",
       "  </thead>\n",
       "  <tbody>\n",
       "    <tr>\n",
       "      <td>0</td>\n",
       "      <td>0.499300</td>\n",
       "      <td>0.276025</td>\n",
       "      <td>0.918000</td>\n",
       "      <td>1.000000</td>\n",
       "      <td>0.999286</td>\n",
       "    </tr>\n",
       "  </tbody>\n",
       "</table><p>"
      ],
      "text/plain": [
       "<IPython.core.display.HTML object>"
      ]
     },
     "metadata": {},
     "output_type": "display_data"
    },
    {
     "data": {
      "text/html": [],
      "text/plain": [
       "<IPython.core.display.HTML object>"
      ]
     },
     "metadata": {},
     "output_type": "display_data"
    }
   ],
   "source": [
    "train_csv = pd.read_csv(\"./data/train.csv\")\n",
    "test_csv = pd.read_csv(\"./data/sample_submission.csv\")\n",
    "#--#\n",
    "# Step1: Data \n",
    "ctx_train = datasets.Dataset.from_pandas(train_csv.assign(path = train_csv.id.map(lambda x: f'./data/train/{x}')))\n",
    "ctx_test = datasets.Dataset.from_pandas(test_csv.assign(path = test_csv.id.map(lambda x: f'./data/test/{x}'))).remove_columns(['has_cactus'])\n",
    "ctx = datasets.DatasetDict({'train':ctx_train, 'test':ctx_test})\n",
    "compose = torchvision.transforms.Compose([\n",
    "    lambda path: PIL.Image.open(path),\n",
    "    torchvision.transforms.ToTensor(),\n",
    "    torchvision.transforms.Resize(224),\n",
    "])\n",
    "# Step2: Model\n",
    "model = transformers.AutoModelForImageClassification.from_pretrained(\n",
    "    \"google/vit-base-patch16-224-in21k\",\n",
    "    num_labels=2,\n",
    ")\n",
    "# Step3: Trainer -> train \n",
    "def collate_fn(single_batch):\n",
    "    dct = dict()\n",
    "    dct['pixel_values'] = torch.stack(list(map(compose,[o['path'] for o in single_batch]))).float()\n",
    "    try: \n",
    "        dct['labels'] = torch.tensor([o.get('has_cactus') for o in single_batch]).long() # 이거안하면 에러남\n",
    "    except: \n",
    "        pass \n",
    "    return dct \n",
    "def compute_metrics(eval_pred):\n",
    "    logits, labels = eval_pred\n",
    "    predictions = np.argmax(logits, axis=1)\n",
    "    prediction_scores = torch.tensor(logits).softmax(dim=1).numpy()[:,1]\n",
    "    #---#\n",
    "    accuracy = evaluate.load(\"accuracy\")\n",
    "    recall = evaluate.load(\"recall\")\n",
    "    roc_auc = evaluate.load(\"roc_auc\")\n",
    "    dct1 = accuracy.compute(predictions=predictions, references=labels)\n",
    "    dct2 = recall.compute(predictions=predictions, references=labels)\n",
    "    dct3 = roc_auc.compute(prediction_scores=prediction_scores, references=labels)\n",
    "    return dct1|dct2|dct3\n",
    "trainer = transformers.Trainer(\n",
    "    model=model,\n",
    "    args=transformers.TrainingArguments(\n",
    "        output_dir=\"./model/ctx\",\n",
    "        remove_unused_columns=False,\n",
    "        #---#\n",
    "        eval_strategy=\"epoch\",\n",
    "        save_strategy=\"epoch\",\n",
    "        learning_rate=5e-5,\n",
    "        per_device_train_batch_size=16,\n",
    "        gradient_accumulation_steps=4,\n",
    "        per_device_eval_batch_size=16,\n",
    "        num_train_epochs=1,\n",
    "        warmup_ratio=0.1,\n",
    "        logging_steps=10,\n",
    "        load_best_model_at_end=True,\n",
    "        #metric_for_best_model=\"accuracy\",\n",
    "        push_to_hub=False,\n",
    "        report_to=\"none\"),\n",
    "    data_collator=collate_fn,\n",
    "    train_dataset=ctx['train'].select(range(1000)),\n",
    "    eval_dataset=ctx['train'].select(range(1000,1500)),\n",
    "    compute_metrics=compute_metrics,\n",
    ")\n",
    "trainer.train()\n",
    "# Step4: Prediction\n",
    "out = trainer.predict(ctx['test'])\n",
    "def update(out,test_csv):\n",
    "    logits = out.predictions\n",
    "    prob = torch.tensor(logits).softmax(dim=1).numpy()[:,1]\n",
    "    test_csv['has_cactus'] = prob\n",
    "    return test_csv\n",
    "test_csv = update(out,test_csv)"
   ]
  }
 ],
 "metadata": {
  "kernelspec": {
   "display_name": "Python 3 (ipykernel)",
   "language": "python",
   "name": "python3"
  },
  "language_info": {
   "codemirror_mode": {
    "name": "ipython",
    "version": 3
   },
   "file_extension": ".py",
   "mimetype": "text/x-python",
   "name": "python",
   "nbconvert_exporter": "python",
   "pygments_lexer": "ipython3",
   "version": "3.12.2"
  }
 },
 "nbformat": 4,
 "nbformat_minor": 4
}
