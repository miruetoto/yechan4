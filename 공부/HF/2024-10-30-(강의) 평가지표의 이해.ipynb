{
 "cells": [
  {
   "cell_type": "raw",
   "metadata": {
    "vscode": {
     "languageId": "raw"
    }
   },
   "source": [
    "---\n",
    "title: \"(강의) 평가지표의 이해\"\n",
    "author: \"신록예찬\"\n",
    "date: \"10/30/2024\"\n",
    "---"
   ]
  }
 ],
 "metadata": {
  "language_info": {
   "name": "python"
  }
 },
 "nbformat": 4,
 "nbformat_minor": 2
}
