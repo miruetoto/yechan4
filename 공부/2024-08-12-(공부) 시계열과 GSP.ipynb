{
 "cells": [
  {
   "cell_type": "raw",
   "metadata": {
    "vscode": {
     "languageId": "raw"
    }
   },
   "source": [
    "---\n",
    "title: \"(공부) 시계열과 GSP\"\n",
    "author: \"신록예찬\"\n",
    "date: \"08/12/2024\"\n",
    "---"
   ]
  },
  {
   "cell_type": "markdown",
   "metadata": {
    "vscode": {
     "languageId": "raw"
    }
   },
   "source": [
    "아래와 같은 시계열을 고려하여 보자. "
   ]
  },
  {
   "cell_type": "markdown",
   "metadata": {
    "vscode": {
     "languageId": "raw"
    }
   },
   "source": [
    "$$x_n = \\sum_{k=0}^{K-1}\\big(A_k \\cos(2\\pi \\omega_k t_n) + B_k\\sin(2\\pi \\omega_k t_n)\\big)$$"
   ]
  },
  {
   "cell_type": "markdown",
   "metadata": {},
   "source": [
    "여기에서 $A_k$ 와 $B_k$는 평균이 $0$ 이고 분산이 $\\sigma_k$ 인 분포에서 생성된 확률변수이다. "
   ]
  },
  {
   "cell_type": "markdown",
   "metadata": {
    "vscode": {
     "languageId": "raw"
    }
   },
   "source": [
    "이 $x_n$의 acf는 아래와 같다. "
   ]
  },
  {
   "cell_type": "markdown",
   "metadata": {
    "vscode": {
     "languageId": "raw"
    }
   },
   "source": [
    "- continuous version: $\\gamma(h) = \\sum_{k=0}^{K-1}\\sigma^2_k\\cos(2\\pi \\omega_k h)$, $h \\in \\mathbb{R}$.\n",
    "- discrete version: $\\gamma_h = \\sum_{k=0}"
   ]
  },
  {
   "cell_type": "markdown",
   "metadata": {},
   "source": []
  }
 ],
 "metadata": {
  "kernelspec": {
   "display_name": "Python 3",
   "language": "python",
   "name": "python3"
  },
  "language_info": {
   "codemirror_mode": {
    "name": "ipython",
    "version": 3
   },
   "file_extension": ".py",
   "mimetype": "text/x-python",
   "name": "python",
   "nbconvert_exporter": "python",
   "pygments_lexer": "ipython3",
   "version": "3.9.6"
  }
 },
 "nbformat": 4,
 "nbformat_minor": 2
}
