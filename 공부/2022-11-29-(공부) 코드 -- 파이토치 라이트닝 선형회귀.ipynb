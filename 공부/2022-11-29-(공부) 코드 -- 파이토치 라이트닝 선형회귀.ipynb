{
 "cells": [
  {
   "cell_type": "raw",
   "id": "3cf6e233-2e3a-42bf-bfd2-00545410f1e2",
   "metadata": {
    "vscode": {
     "languageId": "raw"
    }
   },
   "source": [
    "---\n",
    "title: \"(공부) 파이토치 라이트닝 선형회귀\"\n",
    "author: \"최규빈\"\n",
    "date: \"09/21/2022\"\n",
    "---"
   ]
  },
  {
   "cell_type": "code",
   "execution_count": 1,
   "id": "ccaa3288-0cfd-4489-9dd8-355fbb41f508",
   "metadata": {},
   "outputs": [
    {
     "ename": "ModuleNotFoundError",
     "evalue": "No module named 'pytorch_lightning'",
     "output_type": "error",
     "traceback": [
      "\u001b[0;31m---------------------------------------------------------------------------\u001b[0m",
      "\u001b[0;31mModuleNotFoundError\u001b[0m                       Traceback (most recent call last)",
      "Cell \u001b[0;32mIn[1], line 4\u001b[0m\n\u001b[1;32m      2\u001b[0m \u001b[38;5;28;01mimport\u001b[39;00m \u001b[38;5;21;01mpandas\u001b[39;00m \u001b[38;5;28;01mas\u001b[39;00m \u001b[38;5;21;01mpd\u001b[39;00m\n\u001b[1;32m      3\u001b[0m \u001b[38;5;28;01mimport\u001b[39;00m \u001b[38;5;21;01mmatplotlib\u001b[39;00m\u001b[38;5;21;01m.\u001b[39;00m\u001b[38;5;21;01mpyplot\u001b[39;00m \u001b[38;5;28;01mas\u001b[39;00m \u001b[38;5;21;01mplt\u001b[39;00m \n\u001b[0;32m----> 4\u001b[0m \u001b[38;5;28;01mimport\u001b[39;00m \u001b[38;5;21;01mpytorch_lightning\u001b[39;00m \u001b[38;5;28;01mas\u001b[39;00m \u001b[38;5;21;01mpl\u001b[39;00m \n",
      "\u001b[0;31mModuleNotFoundError\u001b[0m: No module named 'pytorch_lightning'"
     ]
    }
   ],
   "source": [
    "import torch\n",
    "import pandas as pd\n",
    "import matplotlib.pyplot as plt \n",
    "import pytorch_lightning as pl "
   ]
  },
  {
   "cell_type": "markdown",
   "id": "d4360b5d-c221-4632-bba5-636d7bf7e65a",
   "metadata": {},
   "source": [
    "# ref"
   ]
  },
  {
   "cell_type": "markdown",
   "id": "07a5bae1-20f3-4283-9652-365b2e349f0b",
   "metadata": {},
   "source": [
    "ref: <https://guebin.github.io/DL2022/posts/II.%20DNN/2022-09-20-3wk-2.html>"
   ]
  },
  {
   "cell_type": "markdown",
   "id": "20a3b414-0486-4e00-8b27-4958d7c3ec03",
   "metadata": {},
   "source": [
    "# Regression 1: CPU"
   ]
  },
  {
   "cell_type": "code",
   "execution_count": 63,
   "id": "494ed9ca-89f8-490a-8e1c-8eaaf261c58f",
   "metadata": {},
   "outputs": [],
   "source": [
    "df = pd.read_csv(\"https://raw.githubusercontent.com/guebin/DL2022/main/posts/II.%20DNN/2022-09-22-regression.csv\")"
   ]
  },
  {
   "cell_type": "code",
   "execution_count": 64,
   "id": "216ec4dd-5b24-4d71-a8ad-525c1b319d0a",
   "metadata": {
    "tags": []
   },
   "outputs": [],
   "source": [
    "x= torch.tensor(df.x).reshape(-1,1).float()\n",
    "y= torch.tensor(df.y).reshape(-1,1).float()"
   ]
  },
  {
   "cell_type": "code",
   "execution_count": 65,
   "id": "09c89dc7-3082-4e3a-9535-b0a1bbebd358",
   "metadata": {},
   "outputs": [],
   "source": [
    "ds = torch.utils.data.TensorDataset(x,y)\n",
    "dl = torch.utils.data.DataLoader(ds,batch_size=100)"
   ]
  },
  {
   "cell_type": "code",
   "execution_count": 66,
   "id": "69fb05c0-e061-4ec8-ac2e-10759719c890",
   "metadata": {},
   "outputs": [],
   "source": [
    "class NetLO(pl.LightningModule):\n",
    "    def __init__(self):\n",
    "        super().__init__()\n",
    "        self.linr = torch.nn.Linear(1,1)\n",
    "        self.loss_fn = torch.nn.MSELoss()\n",
    "    def forward(self,x):\n",
    "        yhat = self.linr(x)\n",
    "        return yhat\n",
    "    def configure_optimizers(self):\n",
    "        optimizr = torch.optim.SGD(self.parameters(), lr=0.1)\n",
    "        return optimizr \n",
    "    def training_step(self,batch,batch_idx):\n",
    "        x,y = batch\n",
    "        yhat = self(x)\n",
    "        loss = self.loss_fn(yhat,y) \n",
    "        return loss "
   ]
  },
  {
   "cell_type": "code",
   "execution_count": 67,
   "id": "1b42b84e-d9aa-4bd6-ba9b-7d10ab13be06",
   "metadata": {},
   "outputs": [],
   "source": [
    "net = NetLO()"
   ]
  },
  {
   "cell_type": "code",
   "execution_count": 68,
   "id": "ce9f0e82-5bfb-4d1d-b1c7-333b280567fe",
   "metadata": {},
   "outputs": [
    {
     "name": "stderr",
     "output_type": "stream",
     "text": [
      "GPU available: True (cuda), used: False\n",
      "TPU available: False, using: 0 TPU cores\n",
      "IPU available: False, using: 0 IPUs\n",
      "HPU available: False, using: 0 HPUs\n",
      "/home/cgb4/anaconda3/envs/py37/lib/python3.7/site-packages/pytorch_lightning/trainer/trainer.py:1767: PossibleUserWarning: GPU available but not used. Set `accelerator` and `devices` using `Trainer(accelerator='gpu', devices=1)`.\n",
      "  category=PossibleUserWarning,\n"
     ]
    }
   ],
   "source": [
    "trnr = pl.Trainer(max_epochs=1)"
   ]
  },
  {
   "cell_type": "code",
   "execution_count": 69,
   "id": "6ebb63bb-b516-4320-93eb-d4de9bc647b5",
   "metadata": {},
   "outputs": [],
   "source": [
    "net.linr.bias.data = torch.tensor([-5.0])\n",
    "net.linr.weight.data = torch.tensor([[10.0]])"
   ]
  },
  {
   "cell_type": "code",
   "execution_count": 70,
   "id": "d9b8ac98-0654-4ee1-858b-2aa0d5000997",
   "metadata": {},
   "outputs": [
    {
     "name": "stderr",
     "output_type": "stream",
     "text": [
      "\n",
      "  | Name    | Type    | Params\n",
      "------------------------------------\n",
      "0 | linr    | Linear  | 2     \n",
      "1 | loss_fn | MSELoss | 0     \n",
      "------------------------------------\n",
      "2         Trainable params\n",
      "0         Non-trainable params\n",
      "2         Total params\n",
      "0.000     Total estimated model params size (MB)\n"
     ]
    },
    {
     "data": {
      "application/vnd.jupyter.widget-view+json": {
       "model_id": "9e5960c12e084ba7871f5b4dc6d921d2",
       "version_major": 2,
       "version_minor": 0
      },
      "text/plain": [
       "Training: 0it [00:00, ?it/s]"
      ]
     },
     "metadata": {},
     "output_type": "display_data"
    },
    {
     "name": "stderr",
     "output_type": "stream",
     "text": [
      "`Trainer.fit` stopped: `max_epochs=1` reached.\n"
     ]
    }
   ],
   "source": [
    "trnr.fit(net, train_dataloaders=dl) "
   ]
  },
  {
   "cell_type": "code",
   "execution_count": 71,
   "id": "0b4f3570-bc9e-42a5-a37d-e06d3e83e697",
   "metadata": {},
   "outputs": [
    {
     "data": {
      "text/plain": [
       "(Parameter containing:\n",
       " tensor([[8.8111]], requires_grad=True),\n",
       " Parameter containing:\n",
       " tensor([-3.6577], requires_grad=True))"
      ]
     },
     "execution_count": 71,
     "metadata": {},
     "output_type": "execute_result"
    }
   ],
   "source": [
    "net.linr.weight, net.linr.bias"
   ]
  },
  {
   "cell_type": "code",
   "execution_count": 72,
   "id": "d1c8dcfa-1562-43d2-b0da-3b5735f00c70",
   "metadata": {},
   "outputs": [
    {
     "data": {
      "text/plain": [
       "[<matplotlib.lines.Line2D at 0x7fdfd4c6e990>]"
      ]
     },
     "execution_count": 72,
     "metadata": {},
     "output_type": "execute_result"
    },
    {
     "data": {
      "image/png": "[encoded data removed]",
      "text/plain": [
       "<Figure size 432x288 with 1 Axes>"
      ]
     },
     "metadata": {
      "needs_background": "light"
     },
     "output_type": "display_data"
    }
   ],
   "source": [
    "plt.plot(x,y,'o')\n",
    "plt.plot(x,net(x).data,'--')"
   ]
  },
  {
   "cell_type": "markdown",
   "id": "1b743012-b2e3-43e4-84ef-9d171b6e0321",
   "metadata": {},
   "source": [
    "# Regression 2: GPU"
   ]
  },
  {
   "cell_type": "code",
   "execution_count": 73,
   "id": "d81a589b-a316-4489-af34-e02cac3027f3",
   "metadata": {},
   "outputs": [],
   "source": [
    "df = pd.read_csv(\"https://raw.githubusercontent.com/guebin/DL2022/main/posts/II.%20DNN/2022-09-22-regression.csv\")"
   ]
  },
  {
   "cell_type": "code",
   "execution_count": 74,
   "id": "bcd22e9a-a1cc-44fa-a12b-3e1caaf7abd2",
   "metadata": {
    "tags": []
   },
   "outputs": [],
   "source": [
    "x= torch.tensor(df.x).reshape(-1,1).float()\n",
    "y= torch.tensor(df.y).reshape(-1,1).float()"
   ]
  },
  {
   "cell_type": "code",
   "execution_count": 75,
   "id": "9d14a0e3-a31e-4232-8523-07fe11bc61ab",
   "metadata": {},
   "outputs": [],
   "source": [
    "ds = torch.utils.data.TensorDataset(x,y)\n",
    "dl = torch.utils.data.DataLoader(ds,batch_size=100)"
   ]
  },
  {
   "cell_type": "code",
   "execution_count": 76,
   "id": "863d78d2-0ade-48d3-a40d-e0c881adb834",
   "metadata": {},
   "outputs": [],
   "source": [
    "class NetLO(pl.LightningModule):\n",
    "    def __init__(self):\n",
    "        super().__init__()\n",
    "        self.linr = torch.nn.Linear(1,1)\n",
    "        self.loss_fn = torch.nn.MSELoss()\n",
    "    def forward(self,x):\n",
    "        yhat = self.linr(x)\n",
    "        return yhat\n",
    "    def configure_optimizers(self):\n",
    "        optimizr = torch.optim.SGD(self.parameters(), lr=0.1)\n",
    "        return optimizr \n",
    "    def training_step(self,batch,batch_idx):\n",
    "        x,y = batch\n",
    "        yhat = self(x)\n",
    "        loss = self.loss_fn(yhat,y) \n",
    "        return loss "
   ]
  },
  {
   "cell_type": "code",
   "execution_count": 77,
   "id": "517ce15a-aaf2-4630-a9ae-657660573011",
   "metadata": {},
   "outputs": [],
   "source": [
    "net = NetLO()"
   ]
  },
  {
   "cell_type": "code",
   "execution_count": 84,
   "id": "c95dd114-0287-41db-a8cc-f6edfa21efe2",
   "metadata": {},
   "outputs": [
    {
     "name": "stderr",
     "output_type": "stream",
     "text": [
      "GPU available: True (cuda), used: True\n",
      "TPU available: False, using: 0 TPU cores\n",
      "IPU available: False, using: 0 IPUs\n",
      "HPU available: False, using: 0 HPUs\n"
     ]
    }
   ],
   "source": [
    "trnr = pl.Trainer(max_epochs=1, accelerator='gpu', devices=1)"
   ]
  },
  {
   "cell_type": "code",
   "execution_count": 85,
   "id": "08c1ddb9-afab-455b-a451-4d0bc7f6e9a5",
   "metadata": {},
   "outputs": [],
   "source": [
    "net.linr.bias.data = torch.tensor([-5.0])\n",
    "net.linr.weight.data = torch.tensor([[10.0]])"
   ]
  },
  {
   "cell_type": "code",
   "execution_count": 86,
   "id": "db65d5a6-4fc5-4bf6-a4b4-9844b73153a9",
   "metadata": {},
   "outputs": [
    {
     "name": "stderr",
     "output_type": "stream",
     "text": [
      "LOCAL_RANK: 0 - CUDA_VISIBLE_DEVICES: [0]\n",
      "\n",
      "  | Name    | Type    | Params\n",
      "------------------------------------\n",
      "0 | linr    | Linear  | 2     \n",
      "1 | loss_fn | MSELoss | 0     \n",
      "------------------------------------\n",
      "2         Trainable params\n",
      "0         Non-trainable params\n",
      "2         Total params\n",
      "0.000     Total estimated model params size (MB)\n"
     ]
    },
    {
     "data": {
      "application/vnd.jupyter.widget-view+json": {
       "model_id": "b7867747a8bf4fafafa5566e771457aa",
       "version_major": 2,
       "version_minor": 0
      },
      "text/plain": [
       "Training: 0it [00:00, ?it/s]"
      ]
     },
     "metadata": {},
     "output_type": "display_data"
    },
    {
     "name": "stderr",
     "output_type": "stream",
     "text": [
      "`Trainer.fit` stopped: `max_epochs=1` reached.\n"
     ]
    }
   ],
   "source": [
    "trnr.fit(net, train_dataloaders=dl) "
   ]
  },
  {
   "cell_type": "code",
   "execution_count": 87,
   "id": "704eaa68-876f-42a0-a11b-64a3818009f2",
   "metadata": {},
   "outputs": [
    {
     "data": {
      "text/plain": [
       "(Parameter containing:\n",
       " tensor([[8.8111]], requires_grad=True),\n",
       " Parameter containing:\n",
       " tensor([-3.6577], requires_grad=True))"
      ]
     },
     "execution_count": 87,
     "metadata": {},
     "output_type": "execute_result"
    }
   ],
   "source": [
    "net.linr.weight, net.linr.bias"
   ]
  },
  {
   "cell_type": "code",
   "execution_count": 88,
   "id": "115b53ca-f28d-4792-9867-02b4fad6e021",
   "metadata": {},
   "outputs": [
    {
     "data": {
      "text/plain": [
       "[<matplotlib.lines.Line2D at 0x7fdfd4a7a9d0>]"
      ]
     },
     "execution_count": 88,
     "metadata": {},
     "output_type": "execute_result"
    },
    {
     "data": {
      "image/png": "[encoded data removed]",
      "text/plain": [
       "<Figure size 432x288 with 1 Axes>"
      ]
     },
     "metadata": {
      "needs_background": "light"
     },
     "output_type": "display_data"
    }
   ],
   "source": [
    "plt.plot(x,y,'o')\n",
    "plt.plot(x,net(x).data,'--')"
   ]
  }
 ],
 "metadata": {
  "kernelspec": {
   "display_name": "Python 3 (ipykernel)",
   "language": "python",
   "name": "python3"
  },
  "language_info": {
   "codemirror_mode": {
    "name": "ipython",
    "version": 3
   },
   "file_extension": ".py",
   "mimetype": "text/x-python",
   "name": "python",
   "nbconvert_exporter": "python",
   "pygments_lexer": "ipython3",
   "version": "3.12.2"
  }
 },
 "nbformat": 4,
 "nbformat_minor": 5
}
