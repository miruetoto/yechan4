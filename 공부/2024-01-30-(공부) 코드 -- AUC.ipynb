{
 "cells": [
  {
   "cell_type": "raw",
   "id": "4e3beb93-b839-43b7-aa03-8cc342b9f5c3",
   "metadata": {},
   "source": [
    "---\n",
    "title: \"(공부) 코드 -- AUC sklearn\"\n",
    "author: \"신록예찬\"\n",
    "date: \"01/31/2024\"\n",
    "---"
   ]
  },
  {
   "cell_type": "code",
   "execution_count": 1,
   "id": "6de3d7eb-0f18-4f77-b793-723db052ce79",
   "metadata": {
    "tags": [],
    "vscode": {
     "languageId": "python"
    }
   },
   "outputs": [],
   "source": [
    "import numpy as np\n",
    "from sklearn.metrics import roc_auc_score"
   ]
  },
  {
   "cell_type": "code",
   "execution_count": 2,
   "id": "74343feb-87b9-4d98-be0a-f6897cd5d5d3",
   "metadata": {
    "tags": [],
    "vscode": {
     "languageId": "python"
    }
   },
   "outputs": [],
   "source": [
    "y = np.array([0,0,0,0,1])\n",
    "yhat = np.array([0,0,0,0,1])/10"
   ]
  },
  {
   "cell_type": "code",
   "execution_count": 3,
   "id": "70ee86d4-9533-4217-ab5c-6534264704a9",
   "metadata": {
    "tags": [],
    "vscode": {
     "languageId": "python"
    }
   },
   "outputs": [
    {
     "data": {
      "text/plain": [
       "(array([0, 0, 0, 0, 1]), array([0. , 0. , 0. , 0. , 0.1]))"
      ]
     },
     "execution_count": 3,
     "metadata": {},
     "output_type": "execute_result"
    }
   ],
   "source": [
    "y,yhat"
   ]
  },
  {
   "cell_type": "code",
   "execution_count": 4,
   "id": "5500634a-0342-430b-b5cd-ecf65eb894bb",
   "metadata": {
    "tags": [],
    "vscode": {
     "languageId": "python"
    }
   },
   "outputs": [
    {
     "data": {
      "text/plain": [
       "1.0"
      ]
     },
     "execution_count": 4,
     "metadata": {},
     "output_type": "execute_result"
    }
   ],
   "source": [
    "roc_auc_score(y,yhat)"
   ]
  }
 ],
 "metadata": {
  "kernelspec": {
   "display_name": "Python 3 (ipykernel)",
   "language": "python",
   "name": "python3"
  }
 },
 "nbformat": 4,
 "nbformat_minor": 5
}
