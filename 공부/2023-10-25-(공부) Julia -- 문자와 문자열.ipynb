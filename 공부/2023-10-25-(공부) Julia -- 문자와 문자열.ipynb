{
 "cells": [
  {
   "cell_type": "raw",
   "id": "f2fe78d0-da86-4bf0-a525-0717a9fef454",
   "metadata": {
    "tags": []
   },
   "source": [
    "---\n",
    "title: \"(공부) Julia -- 문자와 문자열\"\n",
    "author: \"신록예찬\"\n",
    "date: \"10/25/2023\"\n",
    "---"
   ]
  },
  {
   "cell_type": "markdown",
   "id": "761e330f-9430-4d72-88a1-a0429d6ce3ca",
   "metadata": {},
   "source": [
    "# 1. 문자와 문자열의 차이"
   ]
  },
  {
   "cell_type": "markdown",
   "id": "10ad01f5-7ac2-45f3-a179-e0e3e3cf87b5",
   "metadata": {},
   "source": [
    "## A. 문자 (0차원 자료형)"
   ]
  },
  {
   "cell_type": "markdown",
   "id": "c5bdf1c8-0f61-43c7-aba0-0b5c3ba621df",
   "metadata": {},
   "source": [
    "`-` 선언 및 자료형 "
   ]
  },
  {
   "cell_type": "code",
   "execution_count": 45,
   "id": "cfe7aa9a-bc69-4536-aed0-13d1fb416438",
   "metadata": {
    "tags": []
   },
   "outputs": [
    {
     "data": {
      "text/plain": [
       "'B': ASCII/Unicode U+0042 (category Lu: Letter, uppercase)"
      ]
     },
     "execution_count": 45,
     "metadata": {},
     "output_type": "execute_result"
    }
   ],
   "source": [
    "'B' # 선언 "
   ]
  },
  {
   "cell_type": "code",
   "execution_count": 46,
   "id": "a38e94d6-e581-4183-954b-a5da12ad20c5",
   "metadata": {
    "tags": []
   },
   "outputs": [
    {
     "data": {
      "text/plain": [
       "Char"
      ]
     },
     "execution_count": 46,
     "metadata": {},
     "output_type": "execute_result"
    }
   ],
   "source": [
    "typeof('b') # 자료형"
   ]
  },
  {
   "cell_type": "markdown",
   "id": "bfdd81c1-020d-4a0c-a622-2b1972f90f19",
   "metadata": {},
   "source": [
    "## B. 문자열 (1차원 자료형) "
   ]
  },
  {
   "cell_type": "markdown",
   "id": "14884e58-df75-48f9-97a9-d642a7f21791",
   "metadata": {},
   "source": [
    "`-` 선언 및 자료형 "
   ]
  },
  {
   "cell_type": "code",
   "execution_count": 43,
   "id": "68e5b318-5a26-4caf-84c0-1307bfb34f7e",
   "metadata": {
    "tags": []
   },
   "outputs": [
    {
     "data": {
      "text/plain": [
       "\"A\""
      ]
     },
     "execution_count": 43,
     "metadata": {},
     "output_type": "execute_result"
    }
   ],
   "source": [
    "\"A\" # 선언"
   ]
  },
  {
   "cell_type": "code",
   "execution_count": 44,
   "id": "441194e8-8bd6-4e15-8a79-02d2b9235001",
   "metadata": {
    "tags": []
   },
   "outputs": [
    {
     "data": {
      "text/plain": [
       "String"
      ]
     },
     "execution_count": 44,
     "metadata": {},
     "output_type": "execute_result"
    }
   ],
   "source": [
    "typeof(\"A\") # 자료형"
   ]
  },
  {
   "cell_type": "markdown",
   "id": "10b3d2dc-53e0-4b6f-932e-da9eacb3c856",
   "metadata": {},
   "source": [
    "## C. 차이점 "
   ]
  },
  {
   "cell_type": "markdown",
   "id": "716bb905-0def-44be-a374-7db8b674a1f4",
   "metadata": {
    "tags": []
   },
   "source": [
    "`-` `\"a\"`와 `'a'`의 차이"
   ]
  },
  {
   "cell_type": "code",
   "execution_count": 13,
   "id": "7cf29492-5a9e-47f2-9656-21421ae8e98b",
   "metadata": {
    "tags": []
   },
   "outputs": [
    {
     "data": {
      "text/plain": [
       "'a': ASCII/Unicode U+0061 (category Ll: Letter, lowercase)"
      ]
     },
     "execution_count": 13,
     "metadata": {},
     "output_type": "execute_result"
    }
   ],
   "source": [
    "'a' # 단일문자"
   ]
  },
  {
   "cell_type": "code",
   "execution_count": 14,
   "id": "c83bf0a3-d4c9-456f-846e-60a434133c32",
   "metadata": {
    "tags": []
   },
   "outputs": [
    {
     "data": {
      "text/plain": [
       "\"a\""
      ]
     },
     "execution_count": 14,
     "metadata": {},
     "output_type": "execute_result"
    }
   ],
   "source": [
    "\"a\" # 문자열"
   ]
  },
  {
   "cell_type": "code",
   "execution_count": 15,
   "id": "c2fd5fe6-25b7-4b14-b8bf-b06554a36de6",
   "metadata": {
    "tags": []
   },
   "outputs": [
    {
     "data": {
      "text/plain": [
       "'a': ASCII/Unicode U+0061 (category Ll: Letter, lowercase)"
      ]
     },
     "execution_count": 15,
     "metadata": {},
     "output_type": "execute_result"
    }
   ],
   "source": [
    "\"a\"[1] # 'a'와 같음"
   ]
  },
  {
   "cell_type": "markdown",
   "id": "312163e2-9ab4-4dbf-9244-048dcc0f646c",
   "metadata": {},
   "source": [
    "# 2. 문자/문자열 관련 기능"
   ]
  },
  {
   "cell_type": "markdown",
   "id": "a41beba5-b3ee-43f3-b7fa-109b6634c723",
   "metadata": {},
   "source": [
    "## A. 문자 관련 기능"
   ]
  },
  {
   "cell_type": "markdown",
   "id": "d3ff0cfd-336c-4de1-9b0f-19506623395a",
   "metadata": {},
   "source": [
    "`-` isuppercase: 대소문자 판단 "
   ]
  },
  {
   "cell_type": "code",
   "execution_count": 7,
   "id": "7ffa917d-87a9-4bcb-8992-198e71145b0c",
   "metadata": {
    "tags": []
   },
   "outputs": [
    {
     "data": {
      "text/plain": [
       "(false, true)"
      ]
     },
     "execution_count": 7,
     "metadata": {},
     "output_type": "execute_result"
    }
   ],
   "source": [
    "isuppercase('a'), islowercase('a')"
   ]
  },
  {
   "cell_type": "code",
   "execution_count": 8,
   "id": "79498365-ff70-44fe-8132-554e3d215f10",
   "metadata": {
    "tags": []
   },
   "outputs": [
    {
     "data": {
      "text/plain": [
       "(true, false)"
      ]
     },
     "execution_count": 8,
     "metadata": {},
     "output_type": "execute_result"
    }
   ],
   "source": [
    "isuppercase('A'), islowercase('A')"
   ]
  },
  {
   "cell_type": "markdown",
   "id": "efb8b445-b64c-414c-8412-5b0280129663",
   "metadata": {},
   "source": [
    "## B. 문자열 관련 기능"
   ]
  },
  {
   "cell_type": "markdown",
   "id": "77ff3e08-74fb-43dd-8e28-b2539447ef74",
   "metadata": {},
   "source": [
    "`-` 문자열 슬라이싱 "
   ]
  },
  {
   "cell_type": "code",
   "execution_count": 19,
   "id": "6b5889cc-6d96-4d5a-b3be-1bba51658fcc",
   "metadata": {
    "tags": []
   },
   "outputs": [
    {
     "data": {
      "text/plain": [
       "\"ty\""
      ]
     },
     "execution_count": 19,
     "metadata": {},
     "output_type": "execute_result"
    }
   ],
   "source": [
    "str = \"Jeonbuk National University\"\n",
    "str[end-1:end]"
   ]
  },
  {
   "cell_type": "markdown",
   "id": "87ca07c3-572e-4b5e-a441-9c9fcd5b3ada",
   "metadata": {},
   "source": [
    "`-` 문자열의 결합 "
   ]
  },
  {
   "cell_type": "code",
   "execution_count": 41,
   "id": "bc0a5f21-3ad2-46ed-90f1-f1d8c7647a3e",
   "metadata": {
    "tags": []
   },
   "outputs": [
    {
     "data": {
      "text/plain": [
       "\"ab\""
      ]
     },
     "execution_count": 41,
     "metadata": {},
     "output_type": "execute_result"
    }
   ],
   "source": [
    "\"a\"*\"b\""
   ]
  },
  {
   "cell_type": "markdown",
   "id": "73c8aa4f-554b-4033-be16-058d09cedb95",
   "metadata": {},
   "source": [
    "`-` 문자열의 반복 "
   ]
  },
  {
   "cell_type": "code",
   "execution_count": 47,
   "id": "eca213cf-26f5-4906-8f1f-3a5240a00bb0",
   "metadata": {
    "tags": []
   },
   "outputs": [
    {
     "data": {
      "text/plain": [
       "\"aaaaa\""
      ]
     },
     "execution_count": 47,
     "metadata": {},
     "output_type": "execute_result"
    }
   ],
   "source": [
    "\"a\"^5"
   ]
  },
  {
   "cell_type": "code",
   "execution_count": 24,
   "id": "cbf4f37c-0cbd-4d00-b6dd-7b84f14a4bfc",
   "metadata": {
    "tags": []
   },
   "outputs": [
    {
     "data": {
      "text/plain": [
       "\"aaaaa\""
      ]
     },
     "execution_count": 24,
     "metadata": {},
     "output_type": "execute_result"
    }
   ],
   "source": [
    "repeat(\"a\",5)"
   ]
  },
  {
   "cell_type": "markdown",
   "id": "513077a3-c888-4305-923b-0a0ee5b1a660",
   "metadata": {},
   "source": [
    "`-` 문자열 끼워넣기 "
   ]
  },
  {
   "cell_type": "code",
   "execution_count": 25,
   "id": "eb6d05c2-041c-4151-b7ee-17c161a72fe9",
   "metadata": {
    "tags": []
   },
   "outputs": [
    {
     "data": {
      "text/plain": [
       "\"제 이름은 최규빈 입니다\""
      ]
     },
     "execution_count": 25,
     "metadata": {},
     "output_type": "execute_result"
    }
   ],
   "source": [
    "name = \"최규빈\"\n",
    "\"제 이름은 $name 입니다\""
   ]
  },
  {
   "cell_type": "markdown",
   "id": "dc0d90ed-cfe5-44fb-987c-4c9136af78ec",
   "metadata": {},
   "source": [
    "`-` 문자열 바꾸기 "
   ]
  },
  {
   "cell_type": "code",
   "execution_count": 27,
   "id": "208dba47-b4a2-47ac-adf6-37fc7fa8760d",
   "metadata": {
    "tags": []
   },
   "outputs": [
    {
     "data": {
      "text/plain": [
       "\"abcdefu\""
      ]
     },
     "execution_count": 27,
     "metadata": {},
     "output_type": "execute_result"
    }
   ],
   "source": [
    "str = \"abcdefg\"\n",
    "replace(str, \"g\" => \"u\")"
   ]
  },
  {
   "cell_type": "markdown",
   "id": "998b2ec7-d5d5-4f67-b9dc-416e0de12cba",
   "metadata": {},
   "source": [
    "`-` 문자열 나누기 "
   ]
  },
  {
   "cell_type": "code",
   "execution_count": 32,
   "id": "f07c2720-b5c0-4507-9724-28fd76d5a168",
   "metadata": {
    "tags": []
   },
   "outputs": [
    {
     "data": {
      "text/plain": [
       "2-element Vector{SubString{String}}:\n",
       " \"2023\"\n",
       " \"08\""
      ]
     },
     "execution_count": 32,
     "metadata": {},
     "output_type": "execute_result"
    }
   ],
   "source": [
    "str = \"2023-08\"\n",
    "split(str,\"-\")"
   ]
  },
  {
   "cell_type": "markdown",
   "id": "be441b27-2586-47aa-8843-73a53209c59c",
   "metadata": {},
   "source": [
    "`-` 문자열 합치기 "
   ]
  },
  {
   "cell_type": "code",
   "execution_count": 36,
   "id": "bcfad11d-2735-4ea6-b2f5-254f0ecc03bc",
   "metadata": {
    "tags": []
   },
   "outputs": [
    {
     "data": {
      "text/plain": [
       "\"2023-08\""
      ]
     },
     "execution_count": 36,
     "metadata": {},
     "output_type": "execute_result"
    }
   ],
   "source": [
    "join([\"2023\",\"08\"],\"-\")"
   ]
  },
  {
   "cell_type": "code",
   "execution_count": 37,
   "id": "cc246214-e547-4d9c-aea9-2355935cafeb",
   "metadata": {
    "tags": []
   },
   "outputs": [
    {
     "data": {
      "text/plain": [
       "\"202308\""
      ]
     },
     "execution_count": 37,
     "metadata": {},
     "output_type": "execute_result"
    }
   ],
   "source": [
    "join([\"2023\",\"08\"])"
   ]
  },
  {
   "cell_type": "markdown",
   "id": "e96661e3-697c-4ee2-a8b2-b11833c8ab0f",
   "metadata": {},
   "source": [
    "`-` lowercase: 대문자를 소문자로 바꾸는 방법 "
   ]
  },
  {
   "cell_type": "code",
   "execution_count": 21,
   "id": "95aafc0a-beed-44ae-8af6-fb658c32fa47",
   "metadata": {
    "tags": []
   },
   "outputs": [
    {
     "data": {
      "text/plain": [
       "\"hello, julia!\""
      ]
     },
     "execution_count": 21,
     "metadata": {},
     "output_type": "execute_result"
    }
   ],
   "source": [
    "str = \"HELLO, JULIA!\"\n",
    "lowercase(str)"
   ]
  }
 ],
 "metadata": {
  "kernelspec": {
   "display_name": "Julia 1.9.2",
   "language": "julia",
   "name": "julia-1.9"
  },
  "language_info": {
   "file_extension": ".jl",
   "mimetype": "application/julia",
   "name": "julia",
   "version": "1.9.2"
  }
 },
 "nbformat": 4,
 "nbformat_minor": 5
}
