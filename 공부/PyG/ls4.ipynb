{
 "cells": [
  {
   "cell_type": "raw",
   "id": "27ef03cd-bc47-460b-9c46-2e24682fb19d",
   "metadata": {},
   "source": [
    "---\n",
    "title: \"(공부) PyG -- lesson4: Data Transform???\"\n",
    "author: \"신록예찬\"\n",
    "date: \"07/12/2023\"\n",
    "---"
   ]
  },
  {
   "cell_type": "markdown",
   "id": "7f1a143f-c78e-4ba9-8431-77fced8b8b87",
   "metadata": {},
   "source": [
    "# Download notebook"
   ]
  },
  {
   "cell_type": "markdown",
   "id": "67587758-b84d-4ab0-843f-980388c75a98",
   "metadata": {},
   "source": [
    "```default\n",
    "!wget https://raw.githubusercontent.com/miruetoto/yechan3/main/posts/2_Studies/PyG/ls4.ipynb\n",
    "```"
   ]
  },
  {
   "cell_type": "markdown",
   "id": "cea0881a-9053-444c-a996-8ad5590e1c9c",
   "metadata": {},
   "source": [
    "# Ref"
   ]
  },
  {
   "cell_type": "markdown",
   "id": "a0140db4-49fb-42e7-97ed-dd3c8a1b510a",
   "metadata": {},
   "source": [
    "- <https://pytorch-geometric.readthedocs.io/en/latest/get_started/introduction.html> "
   ]
  },
  {
   "cell_type": "markdown",
   "id": "a3a04a3f-2491-4ca0-abe3-f15bcb8a611d",
   "metadata": {},
   "source": [
    "# 데이터 변환"
   ]
  },
  {
   "cell_type": "code",
   "execution_count": 1,
   "id": "e916d9b9-6543-4857-9ca5-883e40bcd358",
   "metadata": {},
   "outputs": [
    {
     "data": {
      "text/plain": [
       "Data(x=[2518, 3], y=[2518], pos=[2518, 3], category=[1])"
      ]
     },
     "execution_count": 1,
     "metadata": {},
     "output_type": "execute_result"
    }
   ],
   "source": [
    "from torch_geometric.datasets import ShapeNet\n",
    "\n",
    "dataset = ShapeNet(root='/tmp/ShapeNet', categories=['Airplane'])\n",
    "\n",
    "dataset[0]"
   ]
  },
  {
   "cell_type": "code",
   "execution_count": 2,
   "id": "ae3ceea9-a77b-4813-bf4b-e1291f288491",
   "metadata": {},
   "outputs": [
    {
     "name": "stderr",
     "output_type": "stream",
     "text": [
      "/home/cgb2/anaconda3/envs/pyg/lib/python3.10/site-packages/torch_geometric/data/dataset.py:209: UserWarning: The `pre_transform` argument differs from the one used in the pre-processed version of this dataset. If you want to make use of another pre-processing technique, make sure to delete '/tmp/ShapeNet/processed' first\n",
      "  warnings.warn(\n"
     ]
    },
    {
     "data": {
      "text/plain": [
       "Data(x=[2518, 3], y=[2518], pos=[2518, 3], category=[1])"
      ]
     },
     "execution_count": 2,
     "metadata": {},
     "output_type": "execute_result"
    }
   ],
   "source": [
    "import torch_geometric.transforms as T\n",
    "from torch_geometric.datasets import ShapeNet\n",
    "\n",
    "dataset = ShapeNet(root='/tmp/ShapeNet', categories=['Airplane'],\n",
    "                    pre_transform=T.KNNGraph(k=6))\n",
    "\n",
    "dataset[0]"
   ]
  },
  {
   "cell_type": "code",
   "execution_count": 3,
   "id": "7111b530-25a2-4d76-a04a-15b8e3e87360",
   "metadata": {},
   "outputs": [
    {
     "data": {
      "text/plain": [
       "Data(x=[2518, 3], y=[2518], pos=[2518, 3], category=[1])"
      ]
     },
     "execution_count": 3,
     "metadata": {},
     "output_type": "execute_result"
    }
   ],
   "source": [
    "import torch_geometric.transforms as T\n",
    "from torch_geometric.datasets import ShapeNet\n",
    "\n",
    "dataset = ShapeNet(root='/tmp/ShapeNet', categories=['Airplane'],\n",
    "                    pre_transform=T.KNNGraph(k=6),\n",
    "                    transform=T.RandomJitter(0.01))\n",
    "\n",
    "dataset[0]"
   ]
  }
 ],
 "metadata": {
  "kernelspec": {
   "display_name": "Python 3 (ipykernel)",
   "language": "python",
   "name": "python3"
  },
  "language_info": {
   "codemirror_mode": {
    "name": "ipython",
    "version": 3
   },
   "file_extension": ".py",
   "mimetype": "text/x-python",
   "name": "python",
   "nbconvert_exporter": "python",
   "pygments_lexer": "ipython3",
   "version": "3.10.13"
  }
 },
 "nbformat": 4,
 "nbformat_minor": 5
}
