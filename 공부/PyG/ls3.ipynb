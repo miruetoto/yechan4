{
 "cells": [
  {
   "cell_type": "raw",
   "id": "7ee38a0b-c5ef-42ee-b199-52f67c50a3b3",
   "metadata": {},
   "source": [
    "---\n",
    "title: \"(공부) PyG -- lesson3: 미니배치\"\n",
    "author: \"신록예찬\"\n",
    "date: \"07/12/2023\"\n",
    "---"
   ]
  },
  {
   "cell_type": "markdown",
   "id": "d703c5cc-3331-4713-83c7-58bafd99c3cd",
   "metadata": {},
   "source": [
    "# Download notebook"
   ]
  },
  {
   "cell_type": "markdown",
   "id": "4e97d3b6-2d05-4b72-afd6-53129cab5c2b",
   "metadata": {},
   "source": [
    "```default\n",
    "!wget https://raw.githubusercontent.com/miruetoto/yechan3/main/posts/2_Studies/PyG/ls3.ipynb\n",
    "```"
   ]
  },
  {
   "cell_type": "markdown",
   "id": "030ed7c9-41fd-4b9d-975a-ffefa405b6b9",
   "metadata": {},
   "source": [
    "# 미니배치"
   ]
  },
  {
   "cell_type": "code",
   "execution_count": 4,
   "id": "1b62d08e-6907-4ff1-a228-00d41acc84f7",
   "metadata": {},
   "outputs": [],
   "source": [
    "import torch_geometric"
   ]
  },
  {
   "cell_type": "code",
   "execution_count": 5,
   "id": "5eb81744-e2ea-4e19-a78a-99dcd7c9b75e",
   "metadata": {},
   "outputs": [],
   "source": [
    "dataset = torch_geometric.datasets.TUDataset(\n",
    "    root='/tmp/ENZYMES', \n",
    "    name='ENZYMES'\n",
    ")"
   ]
  },
  {
   "cell_type": "markdown",
   "id": "687b926e-7baf-49fa-9961-318f6da7a3ad",
   "metadata": {},
   "source": [
    "> (ChatGPT) ENZYMES는 그래프 분류를 위한 벤치마크 데이터셋 중 하나입니다. 이 데이터셋은 600개의 그래프로 구성되어 있으며, 6개의 클래스로 분류됩니다. 각 그래프는 효소(enzyme) 분자의 구조를 나타내며, 그래프의 노드는 원자(atom)를 나타내고, 엣지(edge)는 원자 간의 연결을 나타냅니다. ENZYMES 데이터셋은 화학 및 생물 정보학 분야에서 그래프 분류 알고리즘의 성능을 평가하기 위해 사용될 수 있습니다. 그래프 분류 알고리즘은 주어진 그래프를 특정 클래스 레이블로 분류하는 작업을 수행하는데 사용됩니다. 예를 들어, ENZYMES 데이터셋의 그래프는 특정 효소 종류를 나타내며, 그래프 분류 알고리즘은 주어진 효소 그래프가 어떤 종류의 효소인지 예측할 수 있습니다. PyG를 사용하여 ENZYMES 데이터셋을 초기화하면 해당 데이터셋을 다운로드하고 필요한 전처리를 자동으로 수행할 수 있습니다. 그래프 데이터를 다루는 머신 러닝 모델을 구축하고 훈련시키기 위해 ENZYMES 데이터셋을 사용할 수 있습니다."
   ]
  },
  {
   "cell_type": "code",
   "execution_count": 6,
   "id": "a5eba901-77c8-4f10-9cdb-87f802469034",
   "metadata": {},
   "outputs": [
    {
     "data": {
      "text/plain": [
       "600"
      ]
     },
     "execution_count": 6,
     "metadata": {},
     "output_type": "execute_result"
    }
   ],
   "source": [
    "len(dataset) # 이 데이터셋에는 600개의 그래프가 있음"
   ]
  },
  {
   "cell_type": "code",
   "execution_count": 7,
   "id": "de1b3ff8-fa36-447b-b5d1-dc7841599574",
   "metadata": {},
   "outputs": [
    {
     "data": {
      "text/plain": [
       "6"
      ]
     },
     "execution_count": 7,
     "metadata": {},
     "output_type": "execute_result"
    }
   ],
   "source": [
    "dataset.num_classes # 6개의 클래스"
   ]
  },
  {
   "cell_type": "code",
   "execution_count": 8,
   "id": "19513ebe-0b66-4b72-8ce4-4fd5ce4dfd6e",
   "metadata": {},
   "outputs": [
    {
     "data": {
      "text/plain": [
       "3"
      ]
     },
     "execution_count": 8,
     "metadata": {},
     "output_type": "execute_result"
    }
   ],
   "source": [
    "dataset.num_node_features # 각 노드에는 3개의 피처가 있음"
   ]
  },
  {
   "cell_type": "markdown",
   "id": "22b84967-dd19-495f-9e62-3006644a1b22",
   "metadata": {},
   "source": [
    "`-` 600개의 그래프중 첫번째 그래프에 접근 "
   ]
  },
  {
   "cell_type": "code",
   "execution_count": 9,
   "id": "1eb891e1-c30b-4d9c-96c0-76ae4f6ba65b",
   "metadata": {},
   "outputs": [
    {
     "data": {
      "text/plain": [
       "Data(edge_index=[2, 168], x=[37, 3], y=[1])"
      ]
     },
     "execution_count": 9,
     "metadata": {},
     "output_type": "execute_result"
    }
   ],
   "source": [
    "dataset[0]"
   ]
  },
  {
   "cell_type": "markdown",
   "id": "b8e7ec7b-4bfd-4c42-a632-37bf749fa54a",
   "metadata": {},
   "source": [
    "- `x=[37, 3]`: $|{\\cal V}|=37$, $f \\in \\mathbb{R}^3$\n",
    "- `edge_index=[2, 168]`: $|{\\cal E}|=168$"
   ]
  },
  {
   "cell_type": "markdown",
   "id": "7059cecb-6202-4c9d-b28c-bff4bfcc7eda",
   "metadata": {},
   "source": [
    "`-` 600개중에서 두번째 그래프에 접근"
   ]
  },
  {
   "cell_type": "code",
   "execution_count": 10,
   "id": "1729539f-29c1-402b-a19c-759d98a5cf10",
   "metadata": {},
   "outputs": [
    {
     "data": {
      "text/plain": [
       "Data(edge_index=[2, 102], x=[23, 3], y=[1])"
      ]
     },
     "execution_count": 10,
     "metadata": {},
     "output_type": "execute_result"
    }
   ],
   "source": [
    "dataset[1]"
   ]
  },
  {
   "cell_type": "markdown",
   "id": "a63ba609-2da8-40b5-899f-25c0ad5a528d",
   "metadata": {},
   "source": [
    "- `x=[23, 3]`: $|{\\cal V}|=23$, $f \\in \\mathbb{R}^3$\n",
    "- `edge_index=[2, 102]`: $|{\\cal E}|=102$"
   ]
  },
  {
   "cell_type": "markdown",
   "id": "e3b3cc0c-41e3-47ad-90ac-1b02df1bc302",
   "metadata": {},
   "source": [
    "`-` dataset $\\to$ loader "
   ]
  },
  {
   "cell_type": "code",
   "execution_count": 37,
   "id": "3127d8a9-2950-40c1-a37e-302ae1d5f1df",
   "metadata": {},
   "outputs": [],
   "source": [
    "loader = torch_geometric.loader.DataLoader(dataset, batch_size=2, shuffle=False)"
   ]
  },
  {
   "cell_type": "code",
   "execution_count": 38,
   "id": "dc5d0882-578a-4621-99b1-717e8b76299f",
   "metadata": {},
   "outputs": [
    {
     "name": "stdout",
     "output_type": "stream",
     "text": [
      "0 DataBatch(edge_index=[2, 270], x=[60, 3], y=[2], batch=[60], ptr=[3])\n",
      "1 DataBatch(edge_index=[2, 182], x=[49, 3], y=[2], batch=[49], ptr=[3])\n",
      "2 DataBatch(edge_index=[2, 182], x=[47, 3], y=[2], batch=[47], ptr=[3])\n",
      "3 DataBatch(edge_index=[2, 384], x=[114, 3], y=[2], batch=[114], ptr=[3])\n",
      "4 DataBatch(edge_index=[2, 184], x=[55, 3], y=[2], batch=[55], ptr=[3])\n"
     ]
    }
   ],
   "source": [
    "for i,batch in enumerate(loader):\n",
    "    if i<5:\n",
    "        print(i,batch)"
   ]
  },
  {
   "cell_type": "markdown",
   "id": "a2bbc3eb-445a-40c7-8db9-9340866a252a",
   "metadata": {},
   "source": [
    "- 600개 그래프를 2개씩 묶어서 배치를 만듬"
   ]
  },
  {
   "cell_type": "code",
   "execution_count": 39,
   "id": "8565a251-53bc-4bf8-9590-b4ac5a58a089",
   "metadata": {},
   "outputs": [
    {
     "data": {
      "text/plain": [
       "(Data(edge_index=[2, 168], x=[37, 3], y=[1]),\n",
       " Data(edge_index=[2, 102], x=[23, 3], y=[1]))"
      ]
     },
     "execution_count": 39,
     "metadata": {},
     "output_type": "execute_result"
    }
   ],
   "source": [
    "dataset[0], dataset[1]"
   ]
  },
  {
   "cell_type": "markdown",
   "id": "964cc387-e0d5-492c-8ab9-67d0b799b346",
   "metadata": {},
   "source": [
    " - 이게 합쳐져서 `0 DataBatch(edge_index=[2, 270], x=[60, 3], y=[2], batch=[60], ptr=[3])`"
   ]
  },
  {
   "cell_type": "code",
   "execution_count": 41,
   "id": "3a537ea3-c6c2-4f50-9c9d-e9000252ac39",
   "metadata": {},
   "outputs": [
    {
     "data": {
      "text/plain": [
       "(Data(edge_index=[2, 92], x=[25, 3], y=[1]),\n",
       " Data(edge_index=[2, 90], x=[24, 3], y=[1]))"
      ]
     },
     "execution_count": 41,
     "metadata": {},
     "output_type": "execute_result"
    }
   ],
   "source": [
    "dataset[2], dataset[3]"
   ]
  },
  {
   "cell_type": "markdown",
   "id": "5cbdf692-9363-447c-9c76-79cf87e6891b",
   "metadata": {},
   "source": [
    " - 이게 합쳐져서 `1 DataBatch(edge_index=[2, 182], x=[49, 3], y=[2], batch=[49], ptr=[3])`"
   ]
  }
 ],
 "metadata": {
  "kernelspec": {
   "display_name": "Python 3 (ipykernel)",
   "language": "python",
   "name": "python3"
  },
  "language_info": {
   "codemirror_mode": {
    "name": "ipython",
    "version": 3
   },
   "file_extension": ".py",
   "mimetype": "text/x-python",
   "name": "python",
   "nbconvert_exporter": "python",
   "pygments_lexer": "ipython3",
   "version": "3.10.13"
  }
 },
 "nbformat": 4,
 "nbformat_minor": 5
}
