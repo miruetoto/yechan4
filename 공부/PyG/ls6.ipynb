{
 "cells": [
  {
   "cell_type": "raw",
   "id": "b52ba195-7cbe-40bd-938c-19c2ba109351",
   "metadata": {},
   "source": [
    "---\n",
    "title: \"(공부) PyG -- lesson6: GCN\"\n",
    "author: \"신록예찬\"\n",
    "date: \"07/19/2023\"\n",
    "---"
   ]
  },
  {
   "cell_type": "markdown",
   "id": "e235440f-78e0-4d79-abc3-83a9f93034d2",
   "metadata": {},
   "source": [
    "# ref"
   ]
  },
  {
   "cell_type": "markdown",
   "id": "cdacfda4-af2f-45dd-9664-f28f179b08e8",
   "metadata": {},
   "source": [
    "@kipf2016semi: <https://arxiv.org/abs/1609.02907>"
   ]
  },
  {
   "cell_type": "code",
   "execution_count": 2,
   "id": "ddd19a86-eccb-46b9-9421-3a20b08aeda2",
   "metadata": {},
   "outputs": [],
   "source": [
    "import torch\n",
    "import torch_geometric"
   ]
  },
  {
   "cell_type": "markdown",
   "id": "6ac3c04e-84a6-45cf-b489-6f74792db45d",
   "metadata": {},
   "source": [
    "# layer-wise progagation rule"
   ]
  },
  {
   "cell_type": "markdown",
   "id": "441a2a26-7066-469e-a1b7-fbfd8b9a9e88",
   "metadata": {},
   "source": [
    "@kipf2016semi use following layer-wise propagation rule: "
   ]
  },
  {
   "cell_type": "markdown",
   "id": "80d4e22e-5e5b-42b0-a33c-ce5d6cf5590b",
   "metadata": {},
   "source": [
    "$$H^{(l+1)} = \\sigma\\big(\\tilde{D}^{-1/2}\\tilde{A}\\tilde{D}^{-1/2}H^{(l)}W^{(l)}\\big).$$"
   ]
  },
  {
   "cell_type": "markdown",
   "id": "32f16444-2e91-43f6-9f57-58d38d9ae770",
   "metadata": {},
   "source": [
    "Check followings: \n",
    "\n",
    "- In @kipf2016semi research, they suppose ${\\cal G}$ as undirected graph. \n",
    "- $\\tilde{A}=A+I_{N}$.\n",
    "- $\\tilde{D}_{ii}=\\sum_{j}\\tilde{A}_{ij}$.\n",
    "- $W^{(l)}$ is a trainable weight matrix in $l$-th layer.\n",
    "- $H^{(l)}$ is output of $l$-th layer; $H^{(0)}=X$. "
   ]
  },
  {
   "cell_type": "markdown",
   "id": "925619f7-b2ab-47db-be38-f69df3c89a8e",
   "metadata": {},
   "source": [
    "## 예제"
   ]
  },
  {
   "cell_type": "markdown",
   "id": "16882997-3bbe-48ae-bf88-83ca3d5437d9",
   "metadata": {},
   "source": [
    "`-` data "
   ]
  },
  {
   "cell_type": "code",
   "execution_count": 3,
   "id": "81e0fdfb-89ac-4ca7-bd4b-a73ff85ba2a8",
   "metadata": {},
   "outputs": [
    {
     "data": {
      "text/plain": [
       "Data(x=[6, 1], edge_index=[2, 12], y=[6])"
      ]
     },
     "execution_count": 3,
     "metadata": {},
     "output_type": "execute_result"
    }
   ],
   "source": [
    "x = torch.tensor([[20],\n",
    "                  [21],\n",
    "                  [19],\n",
    "                  [1],\n",
    "                  [2],\n",
    "                  [1]], dtype=torch.float)\n",
    "\n",
    "edge_index = torch.tensor([[0, 1, 2, 0, 1, 2, 3, 4, 3, 5, 4, 5],\n",
    "                           [1, 0, 0, 2, 2, 1, 4, 3, 5, 3, 5, 4]], dtype=torch.long)\n",
    "\n",
    "y = torch.tensor([1,1,1,0,0,0], dtype=torch.int64)\n",
    "data = torch_geometric.data.Data(x=x, edge_index=edge_index, y=y) \n",
    "#data.train_mask = torch.tensor([True,False,True,True,False,True])\n",
    "#data.test_mask = torch.tensor([False,True,False,False,True,False])\n",
    "data"
   ]
  },
  {
   "cell_type": "markdown",
   "id": "5d62b200-1054-4957-b07f-a734db003561",
   "metadata": {},
   "source": [
    "`-` GCNConv"
   ]
  },
  {
   "cell_type": "code",
   "execution_count": 4,
   "id": "e3937830-f92b-47fd-b931-f34e677101d3",
   "metadata": {},
   "outputs": [
    {
     "data": {
      "text/plain": [
       "GCNConv(1, 4)"
      ]
     },
     "execution_count": 4,
     "metadata": {},
     "output_type": "execute_result"
    }
   ],
   "source": [
    "gconv = torch_geometric.nn.GCNConv(1,4)\n",
    "gconv"
   ]
  },
  {
   "cell_type": "code",
   "execution_count": 5,
   "id": "8bd29433-6870-44e8-99e0-a747a9e629e7",
   "metadata": {},
   "outputs": [
    {
     "data": {
      "text/plain": [
       "tensor([[ 11.6402, -15.0337, -13.0234, -15.7613],\n",
       "        [ 11.6402, -15.0337, -13.0234, -15.7613],\n",
       "        [ 11.6402, -15.0337, -13.0234, -15.7613],\n",
       "        [  0.7760,  -1.0022,  -0.8682,  -1.0508],\n",
       "        [  0.7760,  -1.0022,  -0.8682,  -1.0508],\n",
       "        [  0.7760,  -1.0022,  -0.8682,  -1.0508]], grad_fn=<AddBackward0>)"
      ]
     },
     "execution_count": 5,
     "metadata": {},
     "output_type": "execute_result"
    }
   ],
   "source": [
    "gconv(data.x, data.edge_index)"
   ]
  },
  {
   "cell_type": "code",
   "execution_count": 12,
   "id": "c9737c0d-eb2b-4f99-a2d6-e7f3b09014ed",
   "metadata": {},
   "outputs": [
    {
     "data": {
      "text/plain": [
       "[Parameter containing:\n",
       " tensor([0., 0., 0., 0.], requires_grad=True),\n",
       " Parameter containing:\n",
       " tensor([[ 0.5820],\n",
       "         [-0.7517],\n",
       "         [-0.6512],\n",
       "         [-0.7881]], requires_grad=True)]"
      ]
     },
     "execution_count": 12,
     "metadata": {},
     "output_type": "execute_result"
    }
   ],
   "source": [
    "list(gconv.parameters())"
   ]
  },
  {
   "cell_type": "code",
   "execution_count": 15,
   "id": "da08b577-4c13-49c2-9480-698aefb9e359",
   "metadata": {},
   "outputs": [
    {
     "data": {
      "text/plain": [
       "Parameter containing:\n",
       "tensor([[ 0.5820],\n",
       "        [-0.7517],\n",
       "        [-0.6512],\n",
       "        [-0.7881]], requires_grad=True)"
      ]
     },
     "execution_count": 15,
     "metadata": {},
     "output_type": "execute_result"
    }
   ],
   "source": [
    "_,W = list(gconv.parameters())\n",
    "W"
   ]
  },
  {
   "cell_type": "code",
   "execution_count": 16,
   "id": "6c57b57e-ed85-43b3-b7c4-669921962b8c",
   "metadata": {},
   "outputs": [
    {
     "data": {
      "text/plain": [
       "tensor([[1., 1., 1., 0., 0., 0.],\n",
       "        [1., 1., 1., 0., 0., 0.],\n",
       "        [1., 1., 1., 0., 0., 0.],\n",
       "        [0., 0., 0., 1., 1., 1.],\n",
       "        [0., 0., 0., 1., 1., 1.],\n",
       "        [0., 0., 0., 1., 1., 1.]])"
      ]
     },
     "execution_count": 16,
     "metadata": {},
     "output_type": "execute_result"
    }
   ],
   "source": [
    "A = torch.tensor([[0., 1., 1., 0., 0., 0.],\n",
    "                  [1., 0., 1., 0., 0., 0.],\n",
    "                  [1., 1., 0., 0., 0., 0.],\n",
    "                  [0., 0., 0., 0., 1., 1.],\n",
    "                  [0., 0., 0., 1., 0., 1.],\n",
    "                  [0., 0., 0., 1., 1., 0.]])\n",
    "Atilde = A+torch.eye(6)\n",
    "Atilde"
   ]
  },
  {
   "cell_type": "code",
   "execution_count": 17,
   "id": "30299ec8-e0f6-47f8-b68b-ae79b8e3cb60",
   "metadata": {},
   "outputs": [
    {
     "data": {
      "text/plain": [
       "(tensor([[ 11.6402, -15.0337, -13.0234, -15.7613],\n",
       "         [ 11.6402, -15.0337, -13.0234, -15.7613],\n",
       "         [ 11.6402, -15.0337, -13.0234, -15.7613],\n",
       "         [  0.7760,  -1.0022,  -0.8682,  -1.0508],\n",
       "         [  0.7760,  -1.0022,  -0.8682,  -1.0508],\n",
       "         [  0.7760,  -1.0022,  -0.8682,  -1.0508]], grad_fn=<DivBackward0>),\n",
       " tensor([[ 11.6402, -15.0337, -13.0234, -15.7613],\n",
       "         [ 11.6402, -15.0337, -13.0234, -15.7613],\n",
       "         [ 11.6402, -15.0337, -13.0234, -15.7613],\n",
       "         [  0.7760,  -1.0022,  -0.8682,  -1.0508],\n",
       "         [  0.7760,  -1.0022,  -0.8682,  -1.0508],\n",
       "         [  0.7760,  -1.0022,  -0.8682,  -1.0508]], grad_fn=<AddBackward0>))"
      ]
     },
     "execution_count": 17,
     "metadata": {},
     "output_type": "execute_result"
    }
   ],
   "source": [
    "Atilde@data.x@W.T/3, gconv(data.x,data.edge_index)"
   ]
  },
  {
   "cell_type": "markdown",
   "id": "02718358-1dfa-4a35-a7e5-5a9c09aa08e6",
   "metadata": {},
   "source": [
    "`-` 즉 아래의 수식에서 "
   ]
  },
  {
   "cell_type": "markdown",
   "id": "ad97646e-cb2d-41a4-8bd1-513a292ed53b",
   "metadata": {},
   "source": [
    "$$H^{(l+1)} = \\sigma\\big(\\tilde{D}^{-1/2}\\tilde{A}\\tilde{D}^{-1/2}H^{(l)}W^{(l)}\\big).$$"
   ]
  },
  {
   "cell_type": "markdown",
   "id": "d57bb38d-e4dc-48d5-a76a-5b474ac9712e",
   "metadata": {},
   "source": [
    "$\\tilde{D}^{-1/2}\\tilde{A}\\tilde{D}^{-1/2}H^{(l)}W^{(l)}$를 계산하는 Layer가 `torch_geometric.nn.GCNConv()` 으로 구현되어있음. "
   ]
  },
  {
   "cell_type": "markdown",
   "id": "261f7c85-306a-43c9-9ec8-1aacfaff148e",
   "metadata": {},
   "source": [
    "# Spectral graph convolutions (Section 2.1-2)"
   ]
  },
  {
   "cell_type": "markdown",
   "id": "ee32a660-d29b-43bd-ad26-757f2def0a99",
   "metadata": {},
   "source": [
    "`-` In this chapter, @kipf2016semi argues why the calculation \n",
    "\n",
    "$$H^{(l+1)} = \\sigma\\big(\\tilde{D}^{-1/2}\\tilde{A}\\tilde{D}^{-1/2}H^{(l)}W^{(l)}\\big).$$\n",
    "\n",
    "can be considered as graph convolution. "
   ]
  },
  {
   "cell_type": "markdown",
   "id": "a6539d02-5faf-4ae8-81ba-74e8925e93dd",
   "metadata": {},
   "source": [
    "`-` The properties of convolution operator $\\star$ in classical spectral analysis are as follows (3):\n",
    "\n",
    "$$g_{\\theta} \\star x = Ug_{\\theta}U^\\top x$$\n",
    "\n",
    "where $g_{\\theta}=\\text{diag}(\\theta)$ and $U$ is eigenvector matrix of $L=I-D^{-1/2}AD^{-1/2}$. "
   ]
  },
  {
   "cell_type": "markdown",
   "id": "d642dbd3-0641-4c21-8849-d936b35c0771",
   "metadata": {},
   "source": [
    "`-` Now let's examine equation (7):\n",
    "\n",
    "$$g_{\\theta}\\star x \\approx \\theta \\big(I+D^{-1/2}AD^{-1/2}\\big)x. \\cdots (7)$$\n",
    "\n",
    "By expressing equation (7) matrix form, we get equation (8): \n",
    "\n",
    "$$Z = \\tilde{D}^{-1/2}\\tilde{A}\\tilde{D}^{-1/2}X \\Theta. \\cdots (8)$$\n",
    "\n",
    "This can be transfromed to \n",
    "\n",
    "$$H^{(l+1)} = \\sigma\\big(Z\\big)= \\sigma\\big(\\tilde{D}^{-1/2}\\tilde{A}\\tilde{D}^{-1/2}H^{(l)}W^{(l)}\\big).$$\n",
    "\n",
    "where we interpret $H^{(l)}$ as $X$ and $W^{(l)}$ as $\\Theta$. "
   ]
  }
 ],
 "metadata": {
  "kernelspec": {
   "display_name": "Python 3 (ipykernel)",
   "language": "python",
   "name": "python3"
  },
  "language_info": {
   "codemirror_mode": {
    "name": "ipython",
    "version": 3
   },
   "file_extension": ".py",
   "mimetype": "text/x-python",
   "name": "python",
   "nbconvert_exporter": "python",
   "pygments_lexer": "ipython3",
   "version": "3.10.13"
  }
 },
 "nbformat": 4,
 "nbformat_minor": 5
}
