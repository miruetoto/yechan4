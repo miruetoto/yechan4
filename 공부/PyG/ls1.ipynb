{
 "cells": [
  {
   "cell_type": "raw",
   "id": "31641072-d219-4e98-940b-2090351bc632",
   "metadata": {},
   "source": [
    "---\n",
    "title: \"(공부) PyG -- lesson1: 자료형\"\n",
    "author: \"신록예찬\"\n",
    "date: \"07/02/2023\"\n",
    "---"
   ]
  },
  {
   "cell_type": "code",
   "execution_count": 2,
   "id": "2a8986a8-899c-438c-b865-18ea6152f2e4",
   "metadata": {},
   "outputs": [],
   "source": [
    "import torch\n",
    "import torch_geometric"
   ]
  },
  {
   "cell_type": "markdown",
   "id": "f3d30ffc-92ad-44ab-b1eb-42ed1a2cd3c7",
   "metadata": {},
   "source": [
    "# Download notebook"
   ]
  },
  {
   "cell_type": "markdown",
   "id": "e5a570fd-bf6e-4d3d-bb0e-eab4fdef388f",
   "metadata": {},
   "source": [
    "```default\n",
    "!wget https://raw.githubusercontent.com/miruetoto/yechan3/main/posts/2_Studies/PyG/ls1.ipynb\n",
    "```"
   ]
  },
  {
   "cell_type": "markdown",
   "id": "dec8ace8-d50f-421f-aab8-711a48531ce5",
   "metadata": {},
   "source": [
    "# PyG 의 Data 자료형 "
   ]
  },
  {
   "cell_type": "markdown",
   "id": "1fbb76f7-573e-4b57-b6f2-04cf86febdca",
   "metadata": {},
   "source": [
    "> ref: <https://pytorch-geometric.readthedocs.io/en/latest/notes/introduction.html#data-handling-of-graphs>"
   ]
  },
  {
   "cell_type": "markdown",
   "id": "80279973-d921-4b89-8785-c90768fbc577",
   "metadata": {},
   "source": [
    "`-` 자료는 [PyG의 Data 오브젝트](https://pytorch-geometric.readthedocs.io/en/latest/notes/introduction.html#data-handling-of-graphs)를 기반으로 한다. \n",
    "\n"
   ]
  },
  {
   "cell_type": "markdown",
   "id": "1a7bf125-c28b-409d-a694-03be11629a4d",
   "metadata": {},
   "source": [
    "## **예제1**: 아래와 같은 그래프자료를 고려하자."
   ]
  },
  {
   "cell_type": "markdown",
   "id": "629c678b-1418-4230-9cdc-2565bf8600d4",
   "metadata": {},
   "source": [
    "![](https://pytorch-geometric.readthedocs.io/en/latest/_images/graph.svg)"
   ]
  },
  {
   "cell_type": "markdown",
   "id": "ced1fef0-911c-402b-86b6-58e4b77a0c89",
   "metadata": {},
   "source": [
    "`-` 이러한 자료형은 아래와 같은 형식으로 저장한다. "
   ]
  },
  {
   "cell_type": "code",
   "execution_count": 81,
   "id": "27ade98b-01dd-4808-ae61-c51afcf06863",
   "metadata": {},
   "outputs": [],
   "source": [
    "edge_index = torch.tensor([[0, 1, 1, 2],\n",
    "                           [1, 0, 2, 1]], dtype=torch.long)\n",
    "x = torch.tensor([[-1], [0], [1]], dtype=torch.float)\n",
    "data = torch_geometric.data.Data(x=x, edge_index=edge_index) # torch_geometric.data.Data는 그래프자료형을 만드는 클래스"
   ]
  },
  {
   "cell_type": "markdown",
   "id": "a7ae3718-10c7-4a58-bf76-959bc0fa9dbf",
   "metadata": {},
   "source": [
    "`-` data 의 자료형 "
   ]
  },
  {
   "cell_type": "code",
   "execution_count": 45,
   "id": "a671b4e0-8f7c-4106-afa9-a0e4784ab3ea",
   "metadata": {},
   "outputs": [
    {
     "data": {
      "text/plain": [
       "torch_geometric.data.data.Data"
      ]
     },
     "execution_count": 45,
     "metadata": {},
     "output_type": "execute_result"
    }
   ],
   "source": [
    "type(data)"
   ]
  },
  {
   "cell_type": "markdown",
   "id": "72b397dd-64a2-4438-a757-ef3ba183d966",
   "metadata": {},
   "source": [
    "`-` data의 `__str__`"
   ]
  },
  {
   "cell_type": "code",
   "execution_count": 83,
   "id": "3751985b-9c7a-482b-8760-5e58559b6c84",
   "metadata": {},
   "outputs": [
    {
     "data": {
      "text/plain": [
       "Data(x=[3, 1], edge_index=[2, 4])"
      ]
     },
     "execution_count": 83,
     "metadata": {},
     "output_type": "execute_result"
    }
   ],
   "source": [
    "data"
   ]
  },
  {
   "cell_type": "markdown",
   "id": "beb893dd-ab20-4a4d-a99b-1994ffc1d558",
   "metadata": {},
   "source": [
    "- `x=[3, 1]`: 이 자료는 3개의 노드가 있으며, 각 노드에는 1개의 feature가 있음\n",
    "- `edge_index=[2, 4]`: ${\\cal E}$는 총 4개의 원소가 있음. "
   ]
  },
  {
   "cell_type": "markdown",
   "id": "a929243c-b2f1-4e26-8a58-98a4b55da438",
   "metadata": {},
   "source": [
    "`-` 각 노드의 feature를 확인하는 방법 (즉 $f:{\\cal V} \\to \\mathbb{R}^k$를 확인하는 방법)"
   ]
  },
  {
   "cell_type": "code",
   "execution_count": 46,
   "id": "b4955ade-1059-43a8-9841-a0f2a46b0d93",
   "metadata": {},
   "outputs": [
    {
     "data": {
      "text/plain": [
       "tensor([[-1.],\n",
       "        [ 0.],\n",
       "        [ 1.]])"
      ]
     },
     "execution_count": 46,
     "metadata": {},
     "output_type": "execute_result"
    }
   ],
   "source": [
    "data.x"
   ]
  },
  {
   "cell_type": "markdown",
   "id": "3808085f-1449-4da9-93bc-3759d57fb0a5",
   "metadata": {},
   "source": [
    "`-` ${\\cal E}$를 확인하는 방법"
   ]
  },
  {
   "cell_type": "code",
   "execution_count": 47,
   "id": "c8964557-b9ca-4002-8221-f6ae80fdb05c",
   "metadata": {},
   "outputs": [
    {
     "data": {
      "text/plain": [
       "tensor([[0, 1, 1, 2],\n",
       "        [1, 0, 2, 1]])"
      ]
     },
     "execution_count": 47,
     "metadata": {},
     "output_type": "execute_result"
    }
   ],
   "source": [
    "data.edge_index"
   ]
  },
  {
   "cell_type": "markdown",
   "id": "a29461c4-12b6-4b95-b90f-c56b5f1084a6",
   "metadata": {},
   "source": [
    "`-`"
   ]
  },
  {
   "cell_type": "code",
   "execution_count": 86,
   "id": "8a195534-117d-4714-a2db-1151cfa190b4",
   "metadata": {},
   "outputs": [
    {
     "data": {
      "text/plain": [
       "2"
      ]
     },
     "execution_count": 86,
     "metadata": {},
     "output_type": "execute_result"
    }
   ],
   "source": [
    "len(data)"
   ]
  },
  {
   "cell_type": "markdown",
   "id": "b7676ed0-7b17-45ad-8427-8af6b1d36e14",
   "metadata": {},
   "source": [
    "## **예제2**: 잘못된 사용 "
   ]
  },
  {
   "cell_type": "markdown",
   "id": "e01a6107-8fb4-4990-ba0f-34cddb966815",
   "metadata": {},
   "source": [
    "`-` `edge_index`는 예제1과 같이 $[2,|{\\cal E}|]$ 의 shape으로 넣어야 한다. 그렇지 않으면 에러가 난다."
   ]
  },
  {
   "cell_type": "code",
   "execution_count": 41,
   "id": "0278aff0-9ff6-4243-92ab-a86be0d189c6",
   "metadata": {},
   "outputs": [],
   "source": [
    "edge_index = torch.tensor([[0, 1],\n",
    "                           [1, 0],\n",
    "                           [1, 2],\n",
    "                           [2, 1]], dtype=torch.long)\n",
    "x = torch.tensor([[-1], [0], [1]], dtype=torch.float)\n",
    "\n",
    "data = torch_geometric.data.Data(x=x, edge_index=edge_index)"
   ]
  },
  {
   "cell_type": "code",
   "execution_count": 42,
   "id": "e211094b-148a-4f1f-bc96-ea870cc3ad84",
   "metadata": {},
   "outputs": [
    {
     "ename": "ValueError",
     "evalue": "'edge_index' needs to be of shape [2, num_edges] in 'Data' (found torch.Size([4, 2]))",
     "output_type": "error",
     "traceback": [
      "\u001b[0;31m---------------------------------------------------------------------------\u001b[0m",
      "\u001b[0;31mValueError\u001b[0m                                Traceback (most recent call last)",
      "Cell \u001b[0;32mIn[42], line 2\u001b[0m\n\u001b[1;32m      1\u001b[0m \u001b[38;5;66;03m#data.validate(raise_on_error=True)\u001b[39;00m\n\u001b[0;32m----> 2\u001b[0m \u001b[43mdata\u001b[49m\u001b[38;5;241;43m.\u001b[39;49m\u001b[43mvalidate\u001b[49m\u001b[43m(\u001b[49m\u001b[43m)\u001b[49m\n",
      "File \u001b[0;32m~/anaconda3/envs/pyg/lib/python3.10/site-packages/torch_geometric/data/data.py:550\u001b[0m, in \u001b[0;36mData.validate\u001b[0;34m(self, raise_on_error)\u001b[0m\n\u001b[1;32m    548\u001b[0m     \u001b[38;5;28;01mif\u001b[39;00m \u001b[38;5;28mself\u001b[39m\u001b[38;5;241m.\u001b[39medge_index\u001b[38;5;241m.\u001b[39mdim() \u001b[38;5;241m!=\u001b[39m \u001b[38;5;241m2\u001b[39m \u001b[38;5;129;01mor\u001b[39;00m \u001b[38;5;28mself\u001b[39m\u001b[38;5;241m.\u001b[39medge_index\u001b[38;5;241m.\u001b[39msize(\u001b[38;5;241m0\u001b[39m) \u001b[38;5;241m!=\u001b[39m \u001b[38;5;241m2\u001b[39m:\n\u001b[1;32m    549\u001b[0m         status \u001b[38;5;241m=\u001b[39m \u001b[38;5;28;01mFalse\u001b[39;00m\n\u001b[0;32m--> 550\u001b[0m         \u001b[43mwarn_or_raise\u001b[49m\u001b[43m(\u001b[49m\n\u001b[1;32m    551\u001b[0m \u001b[43m            \u001b[49m\u001b[38;5;124;43mf\u001b[39;49m\u001b[38;5;124;43m\"\u001b[39;49m\u001b[38;5;124;43m'\u001b[39;49m\u001b[38;5;124;43medge_index\u001b[39;49m\u001b[38;5;124;43m'\u001b[39;49m\u001b[38;5;124;43m needs to be of shape [2, num_edges] in \u001b[39;49m\u001b[38;5;124;43m\"\u001b[39;49m\n\u001b[1;32m    552\u001b[0m \u001b[43m            \u001b[49m\u001b[38;5;124;43mf\u001b[39;49m\u001b[38;5;124;43m\"\u001b[39;49m\u001b[38;5;124;43m'\u001b[39;49m\u001b[38;5;132;43;01m{\u001b[39;49;00m\u001b[43mcls_name\u001b[49m\u001b[38;5;132;43;01m}\u001b[39;49;00m\u001b[38;5;124;43m'\u001b[39;49m\u001b[38;5;124;43m (found \u001b[39;49m\u001b[38;5;132;43;01m{\u001b[39;49;00m\u001b[38;5;28;43mself\u001b[39;49m\u001b[38;5;241;43m.\u001b[39;49m\u001b[43medge_index\u001b[49m\u001b[38;5;241;43m.\u001b[39;49m\u001b[43msize\u001b[49m\u001b[43m(\u001b[49m\u001b[43m)\u001b[49m\u001b[38;5;132;43;01m}\u001b[39;49;00m\u001b[38;5;124;43m)\u001b[39;49m\u001b[38;5;124;43m\"\u001b[39;49m\u001b[43m,\u001b[49m\n\u001b[1;32m    553\u001b[0m \u001b[43m            \u001b[49m\u001b[43mraise_on_error\u001b[49m\u001b[43m)\u001b[49m\n\u001b[1;32m    555\u001b[0m \u001b[38;5;28;01mif\u001b[39;00m \u001b[38;5;124m'\u001b[39m\u001b[38;5;124medge_index\u001b[39m\u001b[38;5;124m'\u001b[39m \u001b[38;5;129;01min\u001b[39;00m \u001b[38;5;28mself\u001b[39m \u001b[38;5;129;01mand\u001b[39;00m \u001b[38;5;28mself\u001b[39m\u001b[38;5;241m.\u001b[39medge_index\u001b[38;5;241m.\u001b[39mnumel() \u001b[38;5;241m>\u001b[39m \u001b[38;5;241m0\u001b[39m:\n\u001b[1;32m    556\u001b[0m     \u001b[38;5;28;01mif\u001b[39;00m \u001b[38;5;28mself\u001b[39m\u001b[38;5;241m.\u001b[39medge_index\u001b[38;5;241m.\u001b[39mmin() \u001b[38;5;241m<\u001b[39m \u001b[38;5;241m0\u001b[39m:\n",
      "File \u001b[0;32m~/anaconda3/envs/pyg/lib/python3.10/site-packages/torch_geometric/data/data.py:990\u001b[0m, in \u001b[0;36mwarn_or_raise\u001b[0;34m(msg, raise_on_error)\u001b[0m\n\u001b[1;32m    988\u001b[0m \u001b[38;5;28;01mdef\u001b[39;00m \u001b[38;5;21mwarn_or_raise\u001b[39m(msg: \u001b[38;5;28mstr\u001b[39m, raise_on_error: \u001b[38;5;28mbool\u001b[39m \u001b[38;5;241m=\u001b[39m \u001b[38;5;28;01mTrue\u001b[39;00m):\n\u001b[1;32m    989\u001b[0m     \u001b[38;5;28;01mif\u001b[39;00m raise_on_error:\n\u001b[0;32m--> 990\u001b[0m         \u001b[38;5;28;01mraise\u001b[39;00m \u001b[38;5;167;01mValueError\u001b[39;00m(msg)\n\u001b[1;32m    991\u001b[0m     \u001b[38;5;28;01melse\u001b[39;00m:\n\u001b[1;32m    992\u001b[0m         warnings\u001b[38;5;241m.\u001b[39mwarn(msg)\n",
      "\u001b[0;31mValueError\u001b[0m: 'edge_index' needs to be of shape [2, num_edges] in 'Data' (found torch.Size([4, 2]))"
     ]
    }
   ],
   "source": [
    "#data.validate(raise_on_error=True)\n",
    "data.validate()"
   ]
  },
  {
   "cell_type": "markdown",
   "id": "e77cf0f4-2a97-48fe-af6b-82dbe28d6762",
   "metadata": {},
   "source": [
    "## **예제3**: 예제2의 수정"
   ]
  },
  {
   "cell_type": "markdown",
   "id": "27510801-8957-4b72-b9a9-2bbdfd798d92",
   "metadata": {},
   "source": [
    "`-` `edge_index`의 shape이 $[|{\\cal E}|,2]$ 꼴로 저장되어 있었을 경우 트랜스포즈이후 countiguous()함수를 사용하면 된다.^[그런데 그냥 transpose만 해도되는것 같음]"
   ]
  },
  {
   "cell_type": "code",
   "execution_count": 50,
   "id": "0d524691-1adf-498e-b01b-d954ee1dece3",
   "metadata": {},
   "outputs": [],
   "source": [
    "edge_index = torch.tensor([[0, 1],\n",
    "                           [1, 0],\n",
    "                           [1, 2],\n",
    "                           [2, 1]], dtype=torch.long)\n",
    "x = torch.tensor([[-1], [0], [1]], dtype=torch.float)\n",
    "\n",
    "data = torch_geometric.data.Data(\n",
    "    x=x, \n",
    "    edge_index=edge_index.t().contiguous()\n",
    ")"
   ]
  },
  {
   "cell_type": "code",
   "execution_count": 51,
   "id": "13b76fed-bdb4-435a-a287-664b9d8078fc",
   "metadata": {},
   "outputs": [
    {
     "data": {
      "text/plain": [
       "True"
      ]
     },
     "execution_count": 51,
     "metadata": {},
     "output_type": "execute_result"
    }
   ],
   "source": [
    "#data.validate(raise_on_error=True)\n",
    "data.validate()"
   ]
  }
 ],
 "metadata": {
  "kernelspec": {
   "display_name": "Python 3 (ipykernel)",
   "language": "python",
   "name": "python3"
  },
  "language_info": {
   "codemirror_mode": {
    "name": "ipython",
    "version": 3
   },
   "file_extension": ".py",
   "mimetype": "text/x-python",
   "name": "python",
   "nbconvert_exporter": "python",
   "pygments_lexer": "ipython3",
   "version": "3.12.4"
  }
 },
 "nbformat": 4,
 "nbformat_minor": 5
}
