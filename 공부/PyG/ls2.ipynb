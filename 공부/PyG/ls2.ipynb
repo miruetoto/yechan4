{
 "cells": [
  {
   "cell_type": "raw",
   "id": "922f078c-71b4-4f3a-b939-99a7701e63c6",
   "metadata": {},
   "source": [
    "---\n",
    "title: \"(공부) PyG -- lesson2: 벤치마크 데이터셋 (train/test분리)\"\n",
    "author: \"신록예찬\"\n",
    "date: \"07/07/2023\"\n",
    "---"
   ]
  },
  {
   "cell_type": "code",
   "execution_count": 1,
   "id": "44af97d4-7f7d-469f-9283-f0c535784cba",
   "metadata": {},
   "outputs": [],
   "source": [
    "import torch_geometric"
   ]
  },
  {
   "cell_type": "markdown",
   "id": "2d81371f-3a44-4662-b14d-68e0108064d4",
   "metadata": {},
   "source": [
    "# Download notebook"
   ]
  },
  {
   "cell_type": "markdown",
   "id": "f24934be-4b16-48d1-adf9-9d552fe8347b",
   "metadata": {},
   "source": [
    "```default\n",
    "!wget https://raw.githubusercontent.com/miruetoto/yechan3/main/posts/2_Studies/PyG/ls2.ipynb\n",
    "```"
   ]
  },
  {
   "cell_type": "markdown",
   "id": "aeb34eb9-749d-4caa-8ff3-850a875df2e1",
   "metadata": {},
   "source": [
    "# Ref"
   ]
  },
  {
   "cell_type": "markdown",
   "id": "9703cbf2-ce43-419d-a5db-da9b4e274948",
   "metadata": {},
   "source": [
    "- <https://pytorch-geometric.readthedocs.io/en/latest/get_started/introduction.html>\n",
    "- <https://pytorch-geometric.readthedocs.io/en/latest/cheatsheet/data_cheatsheet.html>\n"
   ]
  },
  {
   "cell_type": "markdown",
   "id": "4886d822-09d3-451c-a011-2196f1055f73",
   "metadata": {},
   "source": [
    "# 벤치마크 데이터셋"
   ]
  },
  {
   "cell_type": "markdown",
   "id": "341db7e2-f1c5-46f5-9b54-4cb52a79eccd",
   "metadata": {},
   "source": [
    "`-` 데이터셋은 아래의 모듈안에 정리되어 있음 "
   ]
  },
  {
   "cell_type": "code",
   "execution_count": 5,
   "id": "39fb8fd6-7dbc-4525-8913-9d42bbea329c",
   "metadata": {},
   "outputs": [
    {
     "data": {
      "text/plain": [
       "['AMiner', 'AQSOL', 'Actor', 'AirfRANS', 'Airports']"
      ]
     },
     "execution_count": 5,
     "metadata": {},
     "output_type": "execute_result"
    }
   ],
   "source": [
    "dir(torch_geometric.datasets)[:5]"
   ]
  },
  {
   "cell_type": "markdown",
   "id": "10f76f07-e84a-4a26-a8bc-5861f4c0c549",
   "metadata": {},
   "source": [
    "# **데이터셋1**: TUDataset"
   ]
  },
  {
   "cell_type": "markdown",
   "id": "af4a7ef1-03f7-451b-867b-badd3a6e2d72",
   "metadata": {},
   "source": [
    "`-` 다운로드 "
   ]
  },
  {
   "cell_type": "code",
   "execution_count": 3,
   "id": "4d8aaec4-6056-466e-b30c-dec74abc72ee",
   "metadata": {},
   "outputs": [],
   "source": [
    "dataset = torch_geometric.datasets.TUDataset(root='/tmp/ENZYMES', name='ENZYMES')"
   ]
  },
  {
   "cell_type": "code",
   "execution_count": 4,
   "id": "8ffca1b8-bf9c-4036-add6-a0c319e17207",
   "metadata": {},
   "outputs": [
    {
     "name": "stdout",
     "output_type": "stream",
     "text": [
      "ENZYMES\n",
      "Rtmp2NzDbx\n",
      "RtmpE0eUV0\n",
      "RtmpzPrKxS\n",
      "dvipdfmx.YVx1Yj\n",
      "quarto-session77ab51ab\n",
      "snap-private-tmp\n",
      "systemd-private-082bb119a9fe49feb865729146bf7e72-ModemManager.service-Bi87zh\n",
      "systemd-private-082bb119a9fe49feb865729146bf7e72-colord.service-Co3G1h\n",
      "systemd-private-082bb119a9fe49feb865729146bf7e72-switcheroo-control.service-pLSKbj\n",
      "systemd-private-082bb119a9fe49feb865729146bf7e72-systemd-logind.service-doeGDh\n",
      "systemd-private-082bb119a9fe49feb865729146bf7e72-systemd-resolved.service-NcBdUh\n",
      "systemd-private-082bb119a9fe49feb865729146bf7e72-systemd-timesyncd.service-RVf8gf\n",
      "systemd-private-082bb119a9fe49feb865729146bf7e72-upower.service-Vn8Cki\n",
      "tmp2xh03b7a\n",
      "tmp4rjd_cj0\n",
      "tmp682z699f\n",
      "tmp7novtu5y\n",
      "tmpd6ge_3fj\n",
      "tmpiyln9pkg\n",
      "tmpjl_pp0vc\n",
      "tmpp_jdm5y_\n",
      "tmpv0lj2ydz\n",
      "tmpz07b745r\n",
      "tracker-extract-files.1000\n",
      "tracker-extract-files.125\n"
     ]
    }
   ],
   "source": [
    "!ls /tmp"
   ]
  },
  {
   "cell_type": "markdown",
   "id": "20a9e090-a667-4b4e-a3ee-85f53f406027",
   "metadata": {},
   "source": [
    "- `/tmp` 에 다운로드되어있음 "
   ]
  },
  {
   "cell_type": "markdown",
   "id": "a0788323-7498-4b07-b5a1-315819a38f0f",
   "metadata": {},
   "source": [
    "## 정보"
   ]
  },
  {
   "cell_type": "markdown",
   "id": "4e5a026e-6683-44f4-8eac-f24e3dc37917",
   "metadata": {},
   "source": [
    "`-` 기본정보:  ENZYMES dataset"
   ]
  },
  {
   "cell_type": "markdown",
   "id": "f693e936-9ed3-4c61-96cf-b29dda0e9503",
   "metadata": {},
   "source": [
    "> (ChatGPT) ENZYMES는 그래프 분류를 위한 벤치마크 데이터셋 중 하나입니다. 이 데이터셋은 600개의 그래프로 구성되어 있으며, 6개의 클래스로 분류됩니다. 각 그래프는 효소(enzyme) 분자의 구조를 나타내며, 그래프의 노드는 원자(atom)를 나타내고, 엣지(edge)는 원자 간의 연결을 나타냅니다. ENZYMES 데이터셋은 화학 및 생물 정보학 분야에서 그래프 분류 알고리즘의 성능을 평가하기 위해 사용될 수 있습니다. 그래프 분류 알고리즘은 주어진 그래프를 특정 클래스 레이블로 분류하는 작업을 수행하는데 사용됩니다. 예를 들어, ENZYMES 데이터셋의 그래프는 특정 효소 종류를 나타내며, 그래프 분류 알고리즘은 주어진 효소 그래프가 어떤 종류의 효소인지 예측할 수 있습니다. PyG를 사용하여 ENZYMES 데이터셋을 초기화하면 해당 데이터셋을 다운로드하고 필요한 전처리를 자동으로 수행할 수 있습니다. 그래프 데이터를 다루는 머신 러닝 모델을 구축하고 훈련시키기 위해 ENZYMES 데이터셋을 사용할 수 있습니다."
   ]
  },
  {
   "cell_type": "code",
   "execution_count": 5,
   "id": "5f8bb4a6-9b2c-4942-8a5a-472332a9f9da",
   "metadata": {},
   "outputs": [
    {
     "data": {
      "text/plain": [
       "ENZYMES(600)"
      ]
     },
     "execution_count": 5,
     "metadata": {},
     "output_type": "execute_result"
    }
   ],
   "source": [
    "dataset # 데이터셋 이름"
   ]
  },
  {
   "cell_type": "code",
   "execution_count": 6,
   "id": "705120a8-1d4c-45a4-a6d7-24741b0dbde4",
   "metadata": {},
   "outputs": [
    {
     "data": {
      "text/plain": [
       "600"
      ]
     },
     "execution_count": 6,
     "metadata": {},
     "output_type": "execute_result"
    }
   ],
   "source": [
    "len(dataset) # 이 데이터셋에는 600개의 그래프가 있음"
   ]
  },
  {
   "cell_type": "code",
   "execution_count": 7,
   "id": "e8d99470-cc2e-4b33-93c4-9cea3d0a0a31",
   "metadata": {},
   "outputs": [
    {
     "data": {
      "text/plain": [
       "6"
      ]
     },
     "execution_count": 7,
     "metadata": {},
     "output_type": "execute_result"
    }
   ],
   "source": [
    "dataset.num_classes # 6개의 클래스"
   ]
  },
  {
   "cell_type": "code",
   "execution_count": 8,
   "id": "145b90c8-eb1f-401a-bbf2-0f1f4891850c",
   "metadata": {},
   "outputs": [
    {
     "data": {
      "text/plain": [
       "3"
      ]
     },
     "execution_count": 8,
     "metadata": {},
     "output_type": "execute_result"
    }
   ],
   "source": [
    "dataset.num_node_features # 각 노드에는 3개의 피처가 있음"
   ]
  },
  {
   "cell_type": "markdown",
   "id": "0d6c99ff-1df6-45e6-94a4-0ee14694e189",
   "metadata": {},
   "source": [
    "`-` 600개의 그래프중 첫번째 그래프에 접근 "
   ]
  },
  {
   "cell_type": "code",
   "execution_count": 9,
   "id": "f2dee83e-37b1-4cad-8bc2-057268bdc495",
   "metadata": {},
   "outputs": [
    {
     "data": {
      "text/plain": [
       "Data(edge_index=[2, 168], x=[37, 3], y=[1])"
      ]
     },
     "execution_count": 9,
     "metadata": {},
     "output_type": "execute_result"
    }
   ],
   "source": [
    "dataset[0]"
   ]
  },
  {
   "cell_type": "markdown",
   "id": "d91b26b4-822a-4099-94b7-ed513dfb5cf1",
   "metadata": {},
   "source": [
    "- `x=[37, 3]`: $|{\\cal V}|=37$, $f \\in \\mathbb{R}^3$\n",
    "- `edge_index=[2, 168]`: $|{\\cal E}|=168$"
   ]
  },
  {
   "cell_type": "markdown",
   "id": "1078529b-9ea3-4b32-a2bd-882f153fcc69",
   "metadata": {},
   "source": [
    "## Train/Test 분리 "
   ]
  },
  {
   "cell_type": "markdown",
   "id": "105a12a7-cd6b-406b-8f46-3396e30340de",
   "metadata": {},
   "source": [
    "`-` 600개의 그래프중 540를 train으로, 60개를 test로 "
   ]
  },
  {
   "cell_type": "code",
   "execution_count": 10,
   "id": "9dd87618-121f-432e-bd22-44d6c0d1647a",
   "metadata": {},
   "outputs": [],
   "source": [
    "train_dataset = dataset[:540]\n",
    "test_dataset = dataset[540:] "
   ]
  },
  {
   "cell_type": "markdown",
   "id": "ce76eb5a-dd70-4a50-945b-6c20e1a6926e",
   "metadata": {},
   "source": [
    "# **데이터셋2**: Cora"
   ]
  },
  {
   "cell_type": "markdown",
   "id": "0313e600-382d-47e9-97f1-ea98b31e3952",
   "metadata": {},
   "source": [
    "`-` 다운로드"
   ]
  },
  {
   "cell_type": "code",
   "execution_count": 7,
   "id": "86cf2f19-8dc3-459e-a2d1-4b41a8d3260f",
   "metadata": {},
   "outputs": [],
   "source": [
    "dataset = torch_geometric.datasets.Planetoid(root='/tmp/Cora', name='Cora')"
   ]
  },
  {
   "cell_type": "markdown",
   "id": "28671e4e-6b3d-4547-8d61-0d1b236646d9",
   "metadata": {},
   "source": [
    "## 정보"
   ]
  },
  {
   "cell_type": "markdown",
   "id": "ab7312ff-992f-4e38-9f55-16a61ff5d9b2",
   "metadata": {},
   "source": [
    "> ChatGPT: Cora는 그래프 분류를 위한 벤치마크 데이터셋 중 하나로, PyG에서도 사용할 수 있습니다. 이 데이터셋은 기계 학습 및 정보 검색 분야에서 널리 사용되는 학술 논문들의 인용 네트워크를 나타냅니다. Cora 데이터셋은 컴퓨터 과학 분야의 논문을 대상으로 합니다. 각 논문은 그래프의 노드로 표현되며, 노드는 논문을 나타냅니다. 노드 간의 엣지는 논문들 사이의 인용 관계를 나타냅니다. 따라서 Cora 데이터셋은 논문의 텍스트 기반 정보와 인용 관계에 대한 그래프 구조를 제공합니다. Cora 데이터셋은 7개의 클래스로 분류되며, 각 논문은 특성 벡터(feature vector)로 표현됩니다. 이 특성 벡터에는 논문의 단어 등 다양한 정보가 포함될 수 있습니다. PyG를 사용하여 Cora 데이터셋을 초기화하면 해당 데이터셋을 다운로드하고 전처리를 자동으로 수행할 수 있습니다. 이를 통해 머신 러닝 모델을 훈련시켜 Cora 데이터셋의 논문을 분류하거나 다양한 작업을 수행할 수 있습니다."
   ]
  },
  {
   "cell_type": "markdown",
   "id": "7058c0bf-f087-4fcc-85a3-7840d8d01917",
   "metadata": {},
   "source": [
    "`-` 기본정보"
   ]
  },
  {
   "cell_type": "code",
   "execution_count": 8,
   "id": "1dbbf891-1185-4d20-b1e5-476f93fc8b2e",
   "metadata": {},
   "outputs": [
    {
     "data": {
      "text/plain": [
       "1"
      ]
     },
     "execution_count": 8,
     "metadata": {},
     "output_type": "execute_result"
    }
   ],
   "source": [
    "len(dataset) # 하나의 그래프가 있음"
   ]
  },
  {
   "cell_type": "code",
   "execution_count": 9,
   "id": "90ce480e-e877-4cbb-ab83-adf3bd3e6fb1",
   "metadata": {},
   "outputs": [
    {
     "data": {
      "text/plain": [
       "7"
      ]
     },
     "execution_count": 9,
     "metadata": {},
     "output_type": "execute_result"
    }
   ],
   "source": [
    "dataset.num_classes # 7개의 클래스가 있음"
   ]
  },
  {
   "cell_type": "code",
   "execution_count": 10,
   "id": "e965c6a5-b869-4e36-8eeb-6124da19558e",
   "metadata": {},
   "outputs": [
    {
     "data": {
      "text/plain": [
       "1433"
      ]
     },
     "execution_count": 10,
     "metadata": {},
     "output_type": "execute_result"
    }
   ],
   "source": [
    "dataset.num_node_features # 각 노드는 1433개의 특징이 있음. (논문에 포함된 단어등 다양한 특성이 담겨있을 수 있음) "
   ]
  },
  {
   "cell_type": "markdown",
   "id": "2df2a526-e102-47d4-a3cc-35202ad2d36c",
   "metadata": {},
   "source": [
    "`-` 그래프에 접근"
   ]
  },
  {
   "cell_type": "code",
   "execution_count": 134,
   "id": "43bbdb7f-4364-4230-8a4e-fa47a95d2a58",
   "metadata": {},
   "outputs": [
    {
     "data": {
      "text/plain": [
       "Data(x=[2708, 1433], edge_index=[2, 10556], y=[2708], train_mask=[2708], val_mask=[2708], test_mask=[2708])"
      ]
     },
     "execution_count": 134,
     "metadata": {},
     "output_type": "execute_result"
    }
   ],
   "source": [
    "dataset[0] # 기본정보"
   ]
  },
  {
   "cell_type": "markdown",
   "id": "409f28b0-9117-4546-9fc4-f9d172479ebf",
   "metadata": {},
   "source": [
    "- `x=[2708, 1433]`: 2708개의 논문이 있고, 각 논문은 1433개의 특징벡터들로 이루어져 있음. \n",
    "- `edge_index=[2, 10556]`: 논문간의 인용은 약 10556. \n",
    "- `y=[2708]`: "
   ]
  },
  {
   "cell_type": "code",
   "execution_count": 15,
   "id": "54134d06-d056-4f3f-93d9-d5e2250e16ee",
   "metadata": {},
   "outputs": [
    {
     "data": {
      "text/plain": [
       "torch.Size([2708, 1433])"
      ]
     },
     "execution_count": 15,
     "metadata": {},
     "output_type": "execute_result"
    }
   ],
   "source": [
    "dataset[0].x.shape # 2708개의 논문이 있고 1433개의 특징벡터를 가짐"
   ]
  },
  {
   "cell_type": "code",
   "execution_count": 16,
   "id": "cf1a3e04-da71-4c0a-a1ee-6fe8f3a4cace",
   "metadata": {},
   "outputs": [
    {
     "data": {
      "text/plain": [
       "tensor([0, 1, 2, 3, 4, 5, 6])"
      ]
     },
     "execution_count": 16,
     "metadata": {},
     "output_type": "execute_result"
    }
   ],
   "source": [
    "dataset[0].y.unique() # 논문이 7개의 카테고리로 분류되는듯"
   ]
  },
  {
   "cell_type": "markdown",
   "id": "a8d65647-5dc4-4171-9425-5e5d843eb4ab",
   "metadata": {},
   "source": [
    "## Train/Test (이미 분리되어 있음) "
   ]
  },
  {
   "cell_type": "code",
   "execution_count": 17,
   "id": "4877157e-389d-46f3-89fe-f2cf66555b74",
   "metadata": {},
   "outputs": [
    {
     "data": {
      "text/plain": [
       "tensor([ True,  True,  True,  ..., False, False, False])"
      ]
     },
     "execution_count": 17,
     "metadata": {},
     "output_type": "execute_result"
    }
   ],
   "source": [
    "dataset[0].train_mask \n",
    "# dataset[0].train_mask 는 True, False로 이루어져 있는 길이가 2708(=노드수=논문수)인 벡터\n",
    "# 여기에서 True인 노드만 훈련함"
   ]
  },
  {
   "cell_type": "code",
   "execution_count": 141,
   "id": "0e17b790-3677-44e5-b5a1-939480bbf95b",
   "metadata": {},
   "outputs": [
    {
     "data": {
      "text/plain": [
       "tensor(140)"
      ]
     },
     "execution_count": 141,
     "metadata": {},
     "output_type": "execute_result"
    }
   ],
   "source": [
    "dataset[0].train_mask.sum() # 140개의 노드만 훈련함? "
   ]
  },
  {
   "cell_type": "code",
   "execution_count": 143,
   "id": "4896026c-df7f-48e3-b530-e76fc3c0016c",
   "metadata": {},
   "outputs": [
    {
     "data": {
      "text/plain": [
       "tensor(500)"
      ]
     },
     "execution_count": 143,
     "metadata": {},
     "output_type": "execute_result"
    }
   ],
   "source": [
    "dataset[0].val_mask.sum() # val은 500개의 노드?"
   ]
  },
  {
   "cell_type": "code",
   "execution_count": 144,
   "id": "d6ea59ec-07e7-40aa-acbe-d0ae7acd08aa",
   "metadata": {},
   "outputs": [
    {
     "data": {
      "text/plain": [
       "tensor(1000)"
      ]
     },
     "execution_count": 144,
     "metadata": {},
     "output_type": "execute_result"
    }
   ],
   "source": [
    "dataset[0].test_mask.sum() # test set은 1000?"
   ]
  }
 ],
 "metadata": {
  "kernelspec": {
   "display_name": "Python 3 (ipykernel)",
   "language": "python",
   "name": "python3"
  },
  "language_info": {
   "codemirror_mode": {
    "name": "ipython",
    "version": 3
   },
   "file_extension": ".py",
   "mimetype": "text/x-python",
   "name": "python",
   "nbconvert_exporter": "python",
   "pygments_lexer": "ipython3",
   "version": "3.10.13"
  }
 },
 "nbformat": 4,
 "nbformat_minor": 5
}
